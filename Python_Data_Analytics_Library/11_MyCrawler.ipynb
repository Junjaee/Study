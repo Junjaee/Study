{
  "nbformat": 4,
  "nbformat_minor": 0,
  "metadata": {
    "colab": {
      "name": "11_MyCrawler.ipynb",
      "provenance": [],
      "collapsed_sections": [],
      "authorship_tag": "ABX9TyP6+D0fIcA17I4Uyi096AX8",
      "include_colab_link": true
    },
    "kernelspec": {
      "name": "python3",
      "display_name": "Python 3"
    },
    "language_info": {
      "name": "python"
    }
  },
  "cells": [
    {
      "cell_type": "markdown",
      "metadata": {
        "id": "view-in-github",
        "colab_type": "text"
      },
      "source": [
        "<a href=\"https://colab.research.google.com/github/Junjaee/Study/blob/main/Python_Data_Analytics_Library/11_MyCrawler.ipynb\" target=\"_parent\"><img src=\"https://colab.research.google.com/assets/colab-badge.svg\" alt=\"Open In Colab\"/></a>"
      ]
    },
    {
      "cell_type": "markdown",
      "metadata": {
        "id": "8g4k5Zwwfo08"
      },
      "source": [
        ""
      ]
    },
    {
      "cell_type": "code",
      "metadata": {
        "id": "cqqHBrprtM-x"
      },
      "source": [
        "# import weather, corona, news, music\n",
        "import datetime\n",
        "from pytz import timezone\n",
        "\n",
        "from bs4 import BeautifulSoup\n",
        "import urllib.request\n",
        "import requests"
      ],
      "execution_count": 58,
      "outputs": []
    },
    {
      "cell_type": "code",
      "metadata": {
        "colab": {
          "base_uri": "https://localhost:8080/"
        },
        "id": "cY-zC4SLtYhk",
        "outputId": "9bc4ebbb-7731-4c19-f548-ef30f60e6e0c"
      },
      "source": [
        "if __name__ == '__main__':\n",
        "    greeting()\n",
        "    \n",
        "    while True:\n",
        "        print(\"=\"*80)\n",
        "        print(\"1. 날씨\")\n",
        "        print(\"2. 코로나 현황\")\n",
        "        print(\"3. 핫 토픽\")\n",
        "        print(\"4. 음원 랭킹\")\n",
        "\n",
        "        menu = input(\"메뉴 입력 : \")\n",
        "\n",
        "        if menu == \"1\":\n",
        "            weather()\n",
        "        elif menu == \"2\":\n",
        "            corona()\n",
        "        elif menu == \"3\":\n",
        "            news()\n",
        "        elif menu == \"4\":\n",
        "            music()\n",
        "        else:\n",
        "            break\n"
      ],
      "execution_count": 182,
      "outputs": [
        {
          "output_type": "stream",
          "text": [
            "\t 환영합니다. \t2021년 06월 14일 16시 31분 입니다.\n",
            "\t\t 오늘의 주요 정보를 요약해 드리겠습니다. \n",
            "\n",
            "================================================================================\n",
            "1. 날씨\n",
            "2. 코로나 현황\n",
            "3. 핫 토픽\n",
            "4. 음원 랭킹\n",
            "메뉴 입력 : 3\n",
            "오늘의 핫 토픽 헤드라인\n",
            "-->  박수현 靑소통수석 \"한국, 사실상 G8으로 자리매김\"\n",
            "-->  정은경 \"접종률 23%로는 감염 차단 역부족…적어도 70%는 돼야\"\n",
            "-->  코스피 일주일 만에 최고치 경신…네이버·카카오 강세\n",
            "-->  가해자 조사 뭉갠 공군검찰 수사 압색 후 '잠잠'…봐주기식 우려\n",
            "-->  \"'천안함 막말' 교사 자격박탈\" 靑청원…담임업무 배제\n",
            "-->  전두환 재판 불출석…조영대 신부 \"부정해도 죄 가릴 수 없다\"\n",
            "-->  우체국 택배노조 \"사회적 합의 어겨\"…점거농성 돌입\n",
            "-->  이준석 \"파격이 새로움 넘어 여의도의 새 표준 돼야\"\n",
            "-->  박용진 \"파죽지세로 나가겠다…우파 정책도 끌어안아야\"\n",
            "-->  머스크 비트코인 결제 중단 번복하자 비트코인 11% 뛰어\n",
            "================================================================================\n",
            "1. 날씨\n",
            "2. 코로나 현황\n",
            "3. 핫 토픽\n",
            "4. 음원 랭킹\n",
            "메뉴 입력 : 4\n",
            "오늘의 음원 종합 TOP 10\n",
            "1 위 : 방탄소년단 - Butter\n",
            "2 위 : aespa - Next Level\n",
            "3 위 : 오마이걸(OH MY GIRL) - Dun Dun Dance\n",
            "4 위 : 헤이즈 (Heize) - 헤픈 우연\n",
            "5 위 : 브레이브걸스(Brave Girls) - 롤린 (Rollin')\n",
            "6 위 : 아이유(IU) - 라일락\n",
            "7 위 : Justin Bieber - Peaches (Feat. Daniel Caesar, Giveon)\n",
            "8 위 : STAYC(스테이씨) - ASAP\n",
            "9 위 : 조이 (JOY) - 안녕 (Hello)\n",
            "10 위 : 방탄소년단 - Dynamite\n",
            "================================================================================\n",
            "1. 날씨\n",
            "2. 코로나 현황\n",
            "3. 핫 토픽\n",
            "4. 음원 랭킹\n",
            "메뉴 입력 : a\n"
          ],
          "name": "stdout"
        }
      ]
    },
    {
      "cell_type": "code",
      "metadata": {
        "id": "r0igLFnxfpTu"
      },
      "source": [
        "def greeting():\n",
        "    now = datetime.datetime.now(timezone('Asia/Seoul'))\n",
        "    now_str = now.strftime(\"%Y년 %m월 %d일 %H시 %M분 입니다.\")\n",
        "\n",
        "    print(\"\\t 환영합니다. \\t\" + now_str)\n",
        "    print(\"\\t\\t 오늘의 주요 정보를 요약해 드리겠습니다. \\n\")"
      ],
      "execution_count": 36,
      "outputs": []
    },
    {
      "cell_type": "code",
      "metadata": {
        "id": "EdgXSfLanEzK"
      },
      "source": [
        "https://search.naver.com/search.naver?sm=top_hty&fbm=0&ie=utf8&query=서울날씨\n"
      ],
      "execution_count": 3,
      "outputs": []
    },
    {
      "cell_type": "code",
      "metadata": {
        "id": "-zzLypLmDmFl"
      },
      "source": [
        "def weather():\n",
        "    loc = [\"서울\", \"대구\", \"부산\"]\n",
        "\n",
        "    for i in loc:\n",
        "        html = requests.get('https://search.naver.com/search.naver?sm=top_hty&fbm=0&ie=utf8&query={}날씨'.format(i))\n",
        "        soup = BeautifulSoup(html.text, 'html.parser')\n",
        "        temps = soup.find('span',\"todaytemp\").get_text()\n",
        "        cast = soup.find('span',\"cast_txt\").get_text()\n",
        "\n",
        "        print(\"{}날씨 : {}℃, {}\".format(i, temps, cast))"
      ],
      "execution_count": 70,
      "outputs": []
    },
    {
      "cell_type": "code",
      "metadata": {
        "id": "Q2zKPHmyfpN5"
      },
      "source": [
        "# 오늘의 코로나 현황\n",
        "def corona():\n",
        "    print(\"오늘의 국내 코로나 현황 요약\" + \"\\n\")\n",
        "\n",
        "    html = requests.get('http://ncov.mohw.go.kr')\n",
        "    soup = BeautifulSoup(html.text, 'html.parser')\n",
        "    new = soup.find('span',\"before\").get_text()\n",
        "    sum = soup.find('span',\"num\").get_text()\n",
        "\n",
        "    print(\"--> 오늘의 신규 확진자 :\" + new + \"\\n\" + \"--> 현재까지 확진자 :\" + sum)"
      ],
      "execution_count": 93,
      "outputs": []
    },
    {
      "cell_type": "code",
      "metadata": {
        "id": "wkP1SM9-fpK6"
      },
      "source": [
        "# 오늘의 핫토픽\n",
        "def news():\n",
        "    print(\"오늘의 핫 토픽 헤드라인\")\n",
        "\n",
        "    html = requests.get('https://www.naver.com/')\n",
        "    soup = BeautifulSoup(html.text, 'html.parser')\n",
        "    for i in soup.find_all('a',\"issue\"):\n",
        "        print('--> ' , i.get_text())"
      ],
      "execution_count": 116,
      "outputs": []
    },
    {
      "cell_type": "code",
      "metadata": {
        "id": "yeD6Z-G4fpH6"
      },
      "source": [
        "# 오늘의 음원 TOP10\n",
        "def music():\n",
        "    print(\"오늘의 음원 종합 TOP 10\")\n",
        "    html = requests.get('https://search.naver.com/search.naver?sm=tab_hty.top&where=nexearch&query=%EC%9D%8C%EC%9B%90%EC%B0%A8%ED%8A%B8&oquery=%EB%A9%9C%EB%A1%A0%EC%B0%A8%ED%8A%B8&tqi=UrZ0HsprvN8ssK5ZP%2BsssssstVh-314088')\n",
        "    soup = BeautifulSoup(html.text, 'html.parser')\n",
        "    music_list = []\n",
        "\n",
        "    for i in soup.find_all('a', target = '_vibe'):\n",
        "        music_list.append(i.get_text())\n",
        "\n",
        "    music_list\n",
        "    for i in range(int((len(music_list)-2)/3)):\n",
        "        print(i+1, \"위 :\", music_list[3*i + 2], \"-\", music_list[3*i])"
      ],
      "execution_count": 181,
      "outputs": []
    },
    {
      "cell_type": "code",
      "metadata": {
        "id": "_V2EECuzVkVT"
      },
      "source": [
        ""
      ],
      "execution_count": null,
      "outputs": []
    },
    {
      "cell_type": "code",
      "metadata": {
        "id": "ZOZJ2g1hVkS2"
      },
      "source": [
        ""
      ],
      "execution_count": null,
      "outputs": []
    }
  ]
}