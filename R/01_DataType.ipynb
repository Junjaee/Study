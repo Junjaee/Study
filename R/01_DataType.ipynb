{
  "nbformat": 4,
  "nbformat_minor": 0,
  "metadata": {
    "colab": {
      "name": "01_DataType.ipynb",
      "provenance": [],
      "collapsed_sections": [],
      "authorship_tag": "ABX9TyN9NnmJ3Efub1DgH2QEhcDn",
      "include_colab_link": true
    },
    "kernelspec": {
      "name": "ir",
      "display_name": "R"
    },
    "language_info": {
      "name": "R"
    }
  },
  "cells": [
    {
      "cell_type": "markdown",
      "metadata": {
        "id": "view-in-github",
        "colab_type": "text"
      },
      "source": [
        "<a href=\"https://colab.research.google.com/github/Junjaee/Study/blob/main/R/01_DataType.ipynb\" target=\"_parent\"><img src=\"https://colab.research.google.com/assets/colab-badge.svg\" alt=\"Open In Colab\"/></a>"
      ]
    },
    {
      "cell_type": "markdown",
      "metadata": {
        "id": "tVO5wRSJXACM"
      },
      "source": [
        "## * 배열(Array)\n",
        "    1) 같은 형식끼리 묶어준다\n",
        "    2) 크기가 정해져 있다\n",
        "    3) 삽입, 삭제가 불편\n",
        "\n",
        "## * 데이터 타입 관련 기본 함수\n",
        "    1) is.xxx() : xxx가 맞는지 확인해줌\n",
        "    2) as.xxx() : xxx타입으로 바꿔줌\n",
        "\n",
        "## 0. 데이터 타입\n",
        "\n",
        "    (1) 스칼라(0차원)\n",
        "      - 숫자(Numeric), 문자열(Character), 불린(boolean), 팩터(factor) 결측치(NA, NaN, null, Inf) \n",
        "    (2) 벡터(Vector, 1차원) : 기본 데이터 타입\n",
        "    (3) 행렬(Matrix, 2차원)\n",
        "    (4) DataFrame(2차원) : 배열은 아니다(다른 형식이어도 묶을 수 있다)\n",
        "    (5) Array(3차원 이상)\n",
        "    (6) List(3차원 이상)"
      ]
    },
    {
      "cell_type": "code",
      "metadata": {
        "id": "WYvW_6OZW8gS"
      },
      "source": [
        "#### 변수 ####\n",
        "\n",
        "goods = \"냉장고\"\n",
        "\n",
        "# 변수 사용 시 객체 형태로 사용하는 것을 권장\n",
        "goods.name = \"냉장고\"\n",
        "goods.code = \"ref001\"\n",
        "goods.price = 600000\n",
        "\n",
        "goods.name\n",
        "\n",
        "# 값을 대입할때에는 \"=\" 보다는 \"<-\" 사용\n",
        "goods.name <- \"냉장고\"\n",
        "goods.code <- \"ref001\"\n",
        "goods.price <- 600000\n",
        "\n",
        "# 데이터 타입 확인\n",
        "class(goods.name)\n",
        "class(goods.price)\n",
        "mode(goods.name)\n",
        "mode(goods.price)"
      ],
      "execution_count": null,
      "outputs": []
    },
    {
      "cell_type": "markdown",
      "metadata": {
        "id": "qbxlJO5KXG5P"
      },
      "source": [
        "## 1. Vector\n",
        "    (1) 기본 자료 구조\n",
        "    (2) 1차원 배열\n",
        "    (3) 인덱스 접근\n",
        "    (4) 동일한 자료형만 저장\n",
        "    (5) c() : combine의 약자, seq(), rep(), ..."
      ]
    },
    {
      "cell_type": "code",
      "metadata": {
        "id": "PiRuNf-nXFWB"
      },
      "source": [
        "#### Vector ####\n",
        "\n",
        "# c()\n",
        "v <- c(1, 2, 3, 4, 5)\n",
        "v\n",
        "class(v)\n",
        "mode(v)\n",
        "\n",
        "(v <- c(1, 2, 3, 4, 5)) # 출력까지 바로 가능\n",
        "\n",
        "(c(1:5))\n",
        "mode(c(1:5))\n",
        "(c(1, 2, 3, 4, \"5\")) # 형식이 서로 다르기 때문에 chr형으로 일괄 저장한다\n",
        "class(c(1, 2, 3, 4, \"5\"))\n",
        "\n",
        "# seq()\n",
        "?seq\n",
        "(seq(from = 1, to = 10, by = 2))\n",
        "(seq(1, 10, 2))\n",
        "\n",
        "# rep() : 반복\n",
        "rep(1:3, 3)\n",
        "\n",
        "# 벡터의 접근\n",
        "v <- c(1:50)\n",
        "v[10:45]\n",
        "length(v)\n",
        "\n",
        "v[10 : (length(v)-5)]\n",
        "v[10 : length(v)-5]\n",
        "\n",
        "v1 <- c(13, -5, 20:23, 12, -2:3)\n",
        "v1\n",
        "\n",
        "v1[1]\n",
        "v1[c(2, 4)]\n",
        "v1[c(4, 5:8, 7)]\n",
        "v1[-1] # 첫번째를 제거\n",
        "v1[-2] # 두번째를 제거\n",
        "v1[c(-2, -4)]\n",
        "v1[-c(2, 4)]\n",
        "\n",
        "# 집합 연산\n",
        "x <- c(1, 3, 5, 7)\n",
        "y <- c(3, 5)\n",
        "\n",
        "union(x, y) # 합집합\n",
        "setdiff(x, y) # 차집합\n",
        "intersect(x, y) # 교집합\n",
        "\n",
        "# 컬럼명 지정\n",
        "age <- c(30, 35, 40)\n",
        "names(age) <- c(\"홍길동\", \"임꺽정\", \"신돌석\")\n",
        "\n",
        "age\n",
        "\n",
        "# 특정 변수의 데이터 제거\n",
        "age <- NULL\n",
        "age\n",
        "\n",
        "# 벡터 생성의 또 다른 표현\n",
        "x <- c(2, 3)\n",
        "x <- (2:3)\n",
        "x"
      ],
      "execution_count": null,
      "outputs": []
    },
    {
      "cell_type": "markdown",
      "metadata": {
        "id": "nDIN3vGBXMid"
      },
      "source": [
        "## 2. Factor\n",
        "    (1) 범주형 데이터\n",
        "      1) 명목형(Norminal)\n",
        "      2) 순서형(Ordinal)\n",
        "      \n",
        "    (2) 상대적으로 수치형 데이터(이산형, 연속형)가 있다"
      ]
    },
    {
      "cell_type": "code",
      "metadata": {
        "id": "9Ys1-MZZXFTe"
      },
      "source": [
        "#### Factor ####\n",
        "\n",
        "gender <- c(\"man\", \"woman\", \"woman\", \"man\", \"man\")\n",
        "gender\n",
        "class(gender)\n",
        "mode(gender)\n",
        "\n",
        "is.factor(gender)\n",
        "is.vector(gender)\n",
        "plot(gender)\n",
        "\n",
        "ngender <- as.factor(gender)\n",
        "ngender\n",
        "class(ngender)\n",
        "mode(ngender) # class와 mode가 다르게 나타난다. mode의 종류는 숫자형(numeric), 문자형(character), 리스트(list), 함수(function)\n",
        "is.factor(ngender)\n",
        "plot(ngender)\n",
        "table(ngender)\n",
        "\n",
        "?factor\n",
        "gfactor <- factor(gender, levels = c(\"woman\", \"man\"), ordered = TRUE)\n",
        "gfactor\n",
        "plot(gfactor)"
      ],
      "execution_count": null,
      "outputs": []
    },
    {
      "cell_type": "markdown",
      "metadata": {
        "id": "FBhgcIasXQkg"
      },
      "source": [
        "## 3. Matrix\n",
        "    (1) 행과 열의 2차원 배열\n",
        "    (2) 동일한 데이터 타입만 저장 가능\n",
        "    (3) matrix(), rbind(), cbind(), ..."
      ]
    },
    {
      "cell_type": "code",
      "metadata": {
        "id": "eMB-4lSiXFK2"
      },
      "source": [
        "#### Matrix ####\n",
        "\n",
        "m <- matrix((1:5))\n",
        "m\n",
        "\n",
        "m <- matrix(c(1:10), nrow = 2) # 행의 개수를 2개로 설정\n",
        "m\n",
        "?matrix\n",
        "\n",
        "m <- matrix(c(1:11), nrow = 2) # 첫번째 값인 1이 11과 다시 짝을 맞춰 열을 구성한다(rotation)\n",
        "m\n",
        "\n",
        "m <- matrix(c(1:10), nrow = 2, byrow = T) # 행을 기준으로 배열, default는 열로 배열\n",
        "m\n",
        "\n",
        "class(m)\n",
        "mode(m)\n",
        "\n",
        "# rbind(), cbind()\n",
        "x1 <- c(3, 4, 50:52)\n",
        "x2 <- c(30, 5, 6:8, 7, 8)\n",
        "x1\n",
        "x2\n",
        "\n",
        "mr <- rbind(x1, x2) # x2의 부족한 짝을 x1이 rotation\n",
        "mr\n",
        "\n",
        "mc <- cbind(x1, x2)\n",
        "mc\n",
        "\n",
        "# matrix 차수 확인\n",
        "x <- matrix(c(1:9), ncol = 3)\n",
        "x\n",
        "\n",
        "length(x); nrow(x); ncol(x); dim(x) # dim() = dimension = 차원\n",
        "\n",
        "# 컬럼명 지정\n",
        "colnames(x) <- c(\"one\", \"two\", \"three\")\n",
        "x\n",
        "colnames(x)\n",
        "\n",
        "# apply()\n",
        "?apply\n",
        "apply(x, 1, max) # 가운데 Margin 값은 행 or 열 중 어느 것을 기준으로 호출할지 선택\n",
        "apply(x, 2, max)\n",
        "apply(x, 1, sum)\n",
        "apply(x, 2, sum)"
      ],
      "execution_count": null,
      "outputs": []
    },
    {
      "cell_type": "markdown",
      "metadata": {
        "id": "PnF8OXClXRG-"
      },
      "source": [
        "## 4. data.frame\n",
        "    (1) DB의 table과 유사\n",
        "    (2) R에서 가장 많이 사용되는 구조\n",
        "    (3) 컬럼 단위로 서로 다른 데이터 타입 사용가능\n",
        "    (4) data.frame(), read.csv(), read.delim(), read.table(), ...."
      ]
    },
    {
      "cell_type": "code",
      "metadata": {
        "id": "BX89sM-aXFIN"
      },
      "source": [
        "#### data.frame ####\n",
        "\n",
        "no <- c(1, 2, 3)\n",
        "name <- c('hong', 'lee', 'kim')\n",
        "pay <- c(150.25, 250.18, 300.34)\n",
        "\n",
        "emp <- data.frame(No = no, Name = name, Payment = pay)\n",
        "emp\n",
        "\n",
        "# read.csv(), read.table(), read.delim()\n",
        "getwd()\n",
        "\n",
        "txtemp <- read.table(\"../data/emp.txt\")\n",
        "txtemp\n",
        "\n",
        "setwd(\"../data\") # 자주 사용하는 폴더로 바꿔주기\n",
        "getwd()\n",
        "\n",
        "txtemp <- read.table(\"emp.txt\")\n",
        "txtemp\n",
        "\n",
        "txtemp <- read.table(\"emp.txt\", header = T, sep = \" \")\n",
        "txtemp\n",
        "class(txtemp)\n",
        "\n",
        "csvemp <- read.csv(\"emp.csv\")\n",
        "csvemp\n",
        "\n",
        "csvemp1 <- read.csv(\"emp.csv\", col.name = c(\"사번\", \"이름\", \"급여\")) # 제목을 바꿔서 불러오기\n",
        "csvemp1\n",
        "\n",
        "csvemp2 <- read.csv(\"emp2.csv\") # csv는 제목이 없을경우 첫번째 행을 제목으로 처리한다\n",
        "csvemp2\n",
        "csvemp2 <- read.csv(\"emp2.csv\", header = F) # 첫째행이 제목이 아닌 것으로 설정한다\n",
        "csvemp2\n",
        "\n",
        "csvemp2 <- read.csv(\"emp.csv\", col.name = c(\"사번\", \"이름\", \"급여\"))\n",
        "csvemp2\n",
        "\n",
        "# 접근\n",
        "aws = read.delim(\"../data/AWS_sample.txt\")\n",
        "head(aws)\n",
        "View(aws) # V가 대문자자 \n",
        "aws = read.delim(\"../data/AWS_sample.txt\", sep = \"#\")\n",
        "View(aws)\n",
        "(aws[1,1])\n",
        "x1 <- aws[1:3, 2:4]\n",
        "x1\n",
        "x2 <- aws[9:11, 2:4]\n",
        "x2\n",
        "cbind(x1, x2)\n",
        "rbind(x1, x2)\n",
        "class(cbind(x1, x2))\n",
        "class(rbind(x1, x2))\n",
        "aws[,1]\n",
        "aws$AWS_ID # 결과값은 위와 같다\n",
        "class(aws$AWS_ID) # integer 즉, 벡터값이다\n",
        "class(aws$X.) # character 즉, 벡터값이다\n",
        "\n",
        "# 구조 확인 str()\n",
        "str(aws)\n",
        "\n",
        "# 기본 통계량 summary()\n",
        "summary(aws)\n",
        "\n",
        "# apply()\n",
        "df <- data.frame(x = c(1:5), y = seq(2, 10, 2), z = c(\"a\", \"b\", \"c\", \"d\", \"e\"))\n",
        "df\n",
        "\n",
        "apply(df[,c(1:2)], 1, sum)\n",
        "apply(df[1:2], 1, sum)\n",
        "apply(df[,c(1:2)], 2, sum)\n",
        "apply(df[1:2], 2, sum)\n",
        "\n",
        "# 데이터의 일부 추출 subset()\n",
        "x1 = subset(df, x>=3)\n",
        "x1\n",
        "\n",
        "x2 = subset(df, x>=2 & y<=6)\n",
        "x2\n",
        "\n",
        "# 병합 merge()\n",
        "height <- data.frame(id = c(1, 2), h = c(180, 175))\n",
        "weight <- data.frame(id = c(1, 2), w = c(80, 75))\n",
        "\n",
        "user <- merge(height, weight, by.x = \"id\", by.y = \"id\")\n",
        "user"
      ],
      "execution_count": null,
      "outputs": []
    },
    {
      "cell_type": "markdown",
      "metadata": {
        "id": "hzJCDXIaXReK"
      },
      "source": [
        "## 5. array\n",
        "    (1) 행, 열, 면의 3차원 배열 형태의 객체 생성\n",
        "    (2) array()"
      ]
    },
    {
      "cell_type": "code",
      "metadata": {
        "id": "FBdsBVFlXRtT"
      },
      "source": [
        "v <- c(1:12)\n",
        "v\n",
        "\n",
        "arr <- array(v, c(4, 2, 3))\n",
        "arr\n",
        "\n",
        "# 접근\n",
        "arr[,,1] # 첫번째 면 배열\n",
        "arr[,,2] # 두번째 면 배열\n",
        "\n",
        "# 추출\n",
        "arr[2,2,1]"
      ],
      "execution_count": null,
      "outputs": []
    },
    {
      "cell_type": "markdown",
      "metadata": {
        "id": "XIDnDxJhXSBE"
      },
      "source": [
        "## 6. list\n",
        "    (1) key와 value를 한쌍\n",
        "    (2) python의 dict와 유사\n",
        "    (3) list()"
      ]
    },
    {
      "cell_type": "code",
      "metadata": {
        "id": "5kBJWe-JXSTx"
      },
      "source": [
        "x1 <- 1\n",
        "x2 <- data.frame(var1 = c(1, 2, 3), var2 = c ('a', 'b', 'c'))\n",
        "x3 <- matrix(c(1:12), ncol = 2)\n",
        "x4 <- array(1:20, dim = c(2, 5, 2))\n",
        "\n",
        "x5 <- list(c1 = x1, c2 = x2, c3 = x3, c4 = x4)\n",
        "x5\n",
        "\n",
        "x5$c1 # c1에 접근할때는 $를 이용한다\n",
        "x5$c2\n",
        "\n",
        "list1 <- list(c(\"lee\",\" kim\"), \"이순신\", 95)\n",
        "list1\n",
        "\n",
        "list1[1]\n",
        "list1[[1]]\n",
        "list1[[1]][2]\n",
        "\n",
        "list1 <- list(\"lee\", \"이순신\", 95)\n",
        "list1\n",
        "un <- unlist(list1)\n",
        "un\n",
        "class(un) # 벡터형으로 저장된다\n",
        "\n",
        "# apply : lapply(), sapply()\n",
        "# lapply() : apply는 2차원 이상의 데이터만 입력을 받는다\n",
        "#            vector를 입력 받기 위한 방법으로 사용, 반환형이 list형이다\n",
        "# sapply() : 반환형이 matrix 또는 vector로 반환(lapply의 wrapper) -> lapply() + unlist()\n",
        "\n",
        "a <- list(c(1:5))\n",
        "a\n",
        "b <- list(c(6:10))\n",
        "b\n",
        "\n",
        "c <- c(a,b)\n",
        "c\n",
        "class(c) # list형을 두개 합쳐놓은 vector형이다\n",
        "\n",
        "x <- lapply(c, max)\n",
        "x\n",
        "x1 <- unlist(x)\n",
        "x1\n",
        "\n",
        "y <- sapply(c, max)\n",
        "y"
      ],
      "execution_count": null,
      "outputs": []
    },
    {
      "cell_type": "code",
      "metadata": {
        "id": "9bv2vDAJXhEx"
      },
      "source": [
        "#### 기타 데이터 타입 ####\n",
        "\n",
        "## 날짜\n",
        "Sys.Date()\n",
        "Sys.time()\n",
        "\n",
        "a <- '21/05/03'\n",
        "a\n",
        "class(a)\n",
        "\n",
        "b <- as.Date(a)\n",
        "b\n",
        "class(b)\n",
        "\n",
        "c <- as.Date(a, \"%y/%m/%d\")\n",
        "c"
      ],
      "execution_count": null,
      "outputs": []
    }
  ]
}