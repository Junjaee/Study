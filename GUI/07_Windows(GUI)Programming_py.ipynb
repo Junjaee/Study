{
  "nbformat": 4,
  "nbformat_minor": 0,
  "metadata": {
    "colab": {
      "name": "07_Windows(GUI)Programming.py",
      "provenance": [],
      "collapsed_sections": [],
      "authorship_tag": "ABX9TyOoqLSPhTdQeFGkGP5DJmQ+",
      "include_colab_link": true
    },
    "kernelspec": {
      "name": "python3",
      "display_name": "Python 3"
    },
    "language_info": {
      "name": "python"
    }
  },
  "cells": [
    {
      "cell_type": "markdown",
      "metadata": {
        "id": "view-in-github",
        "colab_type": "text"
      },
      "source": [
        "<a href=\"https://colab.research.google.com/github/Junjaee/Study/blob/main/GUI/07_Windows(GUI)Programming_py.ipynb\" target=\"_parent\"><img src=\"https://colab.research.google.com/assets/colab-badge.svg\" alt=\"Open In Colab\"/></a>"
      ]
    },
    {
      "cell_type": "markdown",
      "metadata": {
        "id": "Wdywfpd6eoSn"
      },
      "source": [
        "### 모듈\n",
        "\n",
        "+ Tkinter, wxPython, PyQt, ....\n",
        "+ http://wxpython.org\n",
        "+ pip install wxPython"
      ]
    },
    {
      "cell_type": "code",
      "metadata": {
        "id": "UFd5yTgfh5go"
      },
      "source": [
        "# 파이참에서 실행\n",
        "\n",
        "# import wx\n",
        "\n",
        "# app = wx.App()\n",
        "# frame = wx.Frame(None, title = \"처음 만드는 윈도우\")\n",
        "# frame.Show(True)\n",
        "# app.MainLoop()"
      ],
      "execution_count": 12,
      "outputs": []
    },
    {
      "cell_type": "code",
      "metadata": {
        "id": "RR8cm_6Qh6mE"
      },
      "source": [
        "# import wx\n",
        "\n",
        "# class ChildFrame(wx.Frame):\n",
        "#     def __init__(self):\n",
        "#         super().__init__(None)\n",
        "\n",
        "# if __name__ == \"__main__\":\n",
        "#     app = wx.App()\n",
        "#     frame = ChildFrame()\n",
        "#     frame.Show(True)\n",
        "#     app.MainLoop()\n"
      ],
      "execution_count": 11,
      "outputs": []
    },
    {
      "cell_type": "code",
      "metadata": {
        "id": "xHhQ6ykBZGzS"
      },
      "source": [
        "# import wx\n",
        "\n",
        "# class ChildFrame(wx.Frame):\n",
        "#     def __init__(self, parent, title, size):\n",
        "#         super().__init__(parent, title = title, size = size) \n",
        "#         # None는 어떠한 위치에서 실행되는지를 알려줌(None은 어떤 상위에서 실행된 것이 아닌 그 자체로 실행된 것)\n",
        "#         self.ui()\n",
        "\n",
        "#     def ui(self):\n",
        "#         # 메뉴 : 고정식 메뉴(pull down menu), 이동식 메뉴(pop up)\n",
        "#         # MenuBar, Menu, MenuItem\n",
        "#         menubar = wx.MenuBar()\n",
        "#         mnuFile = wx.Menu()\n",
        "#         mnuEdit = wx.Menu()\n",
        "#         mnuFile_new = wx.MenuItem(mnuFile, wx.ID_NEW, \"New\", \"New Document\")\n",
        "#         mnuFile_open = wx.MenuItem(mnuFile, wx.ID_OPEN, \"Open\", \"파일 열기\")\n",
        "#         mnuFile_exit = wx.MenuItem(mnuFile, wx.ID_EXIT, \"Exit\", \"프로그램 종료\")\n",
        "        \n",
        "#         mnuFile.Append(mnuFile_new)\n",
        "#         mnuFile.Append(mnuFile_open)\n",
        "#         mnuFile.AppendSeparator() # 구분선\n",
        "#         mnuFile.Append(mnuFile_exit)\n",
        "\n",
        "#         menubar.Append(mnuFile, \"파일\")\n",
        "#         menubar.Append(mnuEdit, \"편집\")\n",
        "\n",
        "#         self.SetMenuBar(menubar)\n",
        "\n",
        "#         self.txtArea = wx.TextCtrl(self, style = wx.TE_MULTILINE)\n",
        "\n",
        "#         self.CreateStatusBar()\n",
        "\n",
        "#         self.Bind(wx.EVT_MENU, self.onNew, mnuFile_new) # New 버튼 바인드\n",
        "#         self.Bind(wx.EVT_MENU, self.onExit, mnuFile_exit) # 종료 버튼 바인드\n",
        "#         self.Bind(wx.EVT_MENU, self.onOpen, mnuFile_open) # Open 버튼 바인드\n",
        "\n",
        "#         # self.Move(50, 50) # 왼쪽 위 (50, 50) 픽셀에 창이 뜬다\n",
        "#         self.Center() # 항상 화면 가운데에 창이 뜬다\n",
        "#         self.Show(True)\n",
        "\n",
        "#     def onNew(self, ev):\n",
        "#         self.txtArea.SetLabelText(\"새 문서를 선택하였습니다.\")\n",
        "\n",
        "#     def onExit(self, ev):\n",
        "#         self.Close(True)\n",
        "\n",
        "#     def onOpen(self, ev):\n",
        "#         # filepath = \"D:\\Coding\\Acorn\\pythonwork\\guiProject\\example.txt\"\n",
        "\n",
        "#         dlg = wx.FileDialog(self, \"파일 불러오기\", \"D:\\\\\", \"\", \"*.*\", style = wx.ID_OPEN)\n",
        "#         if dlg.ShowModal() == wx.ID_OK:\n",
        "#             filepath = dlg.GetPaths()\n",
        "\n",
        "\n",
        "#         f = open(filepath[0], \"r\")\n",
        "#         data = f.read()\n",
        "#         self.txtArea.SetLabelText(data)\n",
        "#         f.close()\n",
        "\n",
        "\n",
        "\n",
        "\n",
        "# if __name__ == \"__main__\":\n",
        "#     app = wx.App()\n",
        "#     frame = ChildFrame(None, \"두번째 만드는 윈도우\", (800, 600))\n",
        "#     app.MainLoop()\n"
      ],
      "execution_count": null,
      "outputs": []
    },
    {
      "cell_type": "code",
      "metadata": {
        "id": "Y5pLP_Hig1ek"
      },
      "source": [
        ""
      ],
      "execution_count": null,
      "outputs": []
    }
  ]
}