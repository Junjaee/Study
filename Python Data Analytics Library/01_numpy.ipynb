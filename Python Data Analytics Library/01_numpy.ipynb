{
  "nbformat": 4,
  "nbformat_minor": 0,
  "metadata": {
    "colab": {
      "name": "01_numpy.ipynb",
      "provenance": [],
      "collapsed_sections": [],
      "authorship_tag": "ABX9TyNfPdhr0Vn7ZTbL/Yzul00A",
      "include_colab_link": true
    },
    "kernelspec": {
      "name": "python3",
      "display_name": "Python 3"
    },
    "language_info": {
      "name": "python"
    }
  },
  "cells": [
    {
      "cell_type": "markdown",
      "metadata": {
        "id": "view-in-github",
        "colab_type": "text"
      },
      "source": [
        "<a href=\"https://colab.research.google.com/github/Junjaee/Study/blob/main/Python%20Data%20Analytics%20Library/01_numpy.ipynb\" target=\"_parent\"><img src=\"https://colab.research.google.com/assets/colab-badge.svg\" alt=\"Open In Colab\"/></a>"
      ]
    },
    {
      "cell_type": "markdown",
      "metadata": {
        "id": "y098DxZpFJrX"
      },
      "source": [
        "\n",
        "\n",
        "## 특징\n",
        "\n",
        "  - 벡터 및 행렬 연산과 관련된 편리한 기능을 제공(선형 대수 관련)\n",
        "  - 리스트에 비해 빠르고 메모리를 효율적으로 사용할 수 있는 배역(ndarray) 제공\n",
        "  - 반복문 없이 데이터 배열에 대한 처리를 지원(인덱싱, 질의)\n",
        "  - http://www.numpy.org\n",
        "  \n"
      ]
    },
    {
      "cell_type": "code",
      "metadata": {
        "id": "94gs14KwFGL_"
      },
      "source": [
        "import numpy as np"
      ],
      "execution_count": 2,
      "outputs": []
    },
    {
      "cell_type": "markdown",
      "metadata": {
        "id": "4kjvWlHIGGwI"
      },
      "source": [
        "### 1. 1차원 배열"
      ]
    },
    {
      "cell_type": "code",
      "metadata": {
        "colab": {
          "base_uri": "https://localhost:8080/"
        },
        "id": "CdDDGozEGDQ-",
        "outputId": "258cfa7d-2c5b-460d-c619-68b300528f01"
      },
      "source": [
        "a1 = [1, 2, 3, 4, 5, 10, 20, \"가\", \"나\"]\n",
        "print(a1)\n",
        "print(type(a1))"
      ],
      "execution_count": 6,
      "outputs": [
        {
          "output_type": "stream",
          "text": [
            "[1, 2, 3, 4, 5, 10, 20, '가', '나']\n",
            "<class 'list'>\n"
          ],
          "name": "stdout"
        }
      ]
    },
    {
      "cell_type": "code",
      "metadata": {
        "colab": {
          "base_uri": "https://localhost:8080/"
        },
        "id": "09902GoMGFfl",
        "outputId": "c6bd1dcd-d4ab-43a9-f342-e23cf9bb4ce9"
      },
      "source": [
        "a2 = np.array([1, 2, 3, 4, 5, 10, 20, \"가\", \"나\"])\n",
        "print(a2)\n",
        "print(type(a2))\n",
        "print(a2.shape)\n",
        "print(a2.dtype)"
      ],
      "execution_count": 10,
      "outputs": [
        {
          "output_type": "stream",
          "text": [
            "['1' '2' '3' '4' '5' '10' '20' '가' '나']\n",
            "<class 'numpy.ndarray'>\n",
            "(9,)\n",
            "<U21\n"
          ],
          "name": "stdout"
        }
      ]
    },
    {
      "cell_type": "code",
      "metadata": {
        "colab": {
          "base_uri": "https://localhost:8080/"
        },
        "id": "vFiD054cGFdG",
        "outputId": "4ba71594-2d1a-4037-d349-68480843f675"
      },
      "source": [
        "a3 = np.array([1, 2, 3, 4, 5, 10, 20, \"30\", \"40\"], float)\n",
        "print(a3)\n",
        "print(a3.dtype)"
      ],
      "execution_count": 13,
      "outputs": [
        {
          "output_type": "stream",
          "text": [
            "[ 1.  2.  3.  4.  5. 10. 20. 30. 40.]\n",
            "float64\n"
          ],
          "name": "stdout"
        }
      ]
    },
    {
      "cell_type": "code",
      "metadata": {
        "colab": {
          "base_uri": "https://localhost:8080/"
        },
        "id": "_A50vLXxGFaP",
        "outputId": "67ddb33c-fe3a-4f5a-d74e-c29c88f2f4cc"
      },
      "source": [
        "a4 = np.dtype(\">i4\")\n",
        "print(a4)\n",
        "print(a4.name)\n",
        "\n",
        "a5 = np.dtype(\">i8\")\n",
        "print(a5)\n",
        "print(a5.name)\n"
      ],
      "execution_count": 15,
      "outputs": [
        {
          "output_type": "stream",
          "text": [
            ">i4\n",
            "int32\n",
            ">i8\n",
            "int64\n"
          ],
          "name": "stdout"
        }
      ]
    },
    {
      "cell_type": "code",
      "metadata": {
        "colab": {
          "base_uri": "https://localhost:8080/"
        },
        "id": "70-HxtMkGFWA",
        "outputId": "432b91a7-0d4a-4cd9-a5d9-3435c8b93b42"
      },
      "source": [
        "# 벡터화 연산\n",
        "\n",
        "data1 = [0, 1, 2, 3, 4, 5, 6, 7, 8, 9]\n",
        "print(data1 * 2)"
      ],
      "execution_count": 17,
      "outputs": [
        {
          "output_type": "stream",
          "text": [
            "[0, 1, 2, 3, 4, 5, 6, 7, 8, 9, 0, 1, 2, 3, 4, 5, 6, 7, 8, 9]\n"
          ],
          "name": "stdout"
        }
      ]
    },
    {
      "cell_type": "code",
      "metadata": {
        "colab": {
          "base_uri": "https://localhost:8080/"
        },
        "id": "jUeIGeJtGFG8",
        "outputId": "755dda37-393c-4b82-81e5-2a7c315308fe"
      },
      "source": [
        "data2 = np.array(data1)\n",
        "print(data2 * 2)\n",
        "print(data2 - 2)\n",
        "print(data2 + 2)"
      ],
      "execution_count": 19,
      "outputs": [
        {
          "output_type": "stream",
          "text": [
            "[ 0  2  4  6  8 10 12 14 16 18]\n",
            "[-2 -1  0  1  2  3  4  5  6  7]\n",
            "[ 2  3  4  5  6  7  8  9 10 11]\n"
          ],
          "name": "stdout"
        }
      ]
    },
    {
      "cell_type": "code",
      "metadata": {
        "colab": {
          "base_uri": "https://localhost:8080/"
        },
        "id": "HZCc0jM7NEEz",
        "outputId": "1d7448e1-84b3-4aaf-9a08-3dd4de55f07c"
      },
      "source": [
        "# 인덱스 접근\n",
        "print(data2[0], data2[1])"
      ],
      "execution_count": 20,
      "outputs": [
        {
          "output_type": "stream",
          "text": [
            "0 1\n"
          ],
          "name": "stdout"
        }
      ]
    },
    {
      "cell_type": "markdown",
      "metadata": {
        "id": "UE00WlwGNv9Q"
      },
      "source": [
        "### 2. 2차원 배열"
      ]
    },
    {
      "cell_type": "code",
      "metadata": {
        "colab": {
          "base_uri": "https://localhost:8080/"
        },
        "id": "EQkGMiRCNK01",
        "outputId": "b9136d83-b78f-40a9-fbc2-284a5a14a8bb"
      },
      "source": [
        "arr = np.array([[1, 2, 3],\n",
        "                [4, 5, 6]])\n",
        "print(arr)\n",
        "print(arr.shape)\n",
        "print(arr.dtype)"
      ],
      "execution_count": 22,
      "outputs": [
        {
          "output_type": "stream",
          "text": [
            "[[1 2 3]\n",
            " [4 5 6]]\n",
            "(2, 3)\n",
            "int64\n"
          ],
          "name": "stdout"
        }
      ]
    },
    {
      "cell_type": "code",
      "metadata": {
        "colab": {
          "base_uri": "https://localhost:8080/"
        },
        "id": "FoedVoLXNKwG",
        "outputId": "3f3c10ed-45bf-47d3-d9fb-036d3501cf45"
      },
      "source": [
        "# 접근\n",
        "print(arr[0])\n",
        "print(arr[0][1])\n",
        "print(\"-----------------------\")\n",
        "print(len(arr))\n",
        "print(len(arr[0]))"
      ],
      "execution_count": 25,
      "outputs": [
        {
          "output_type": "stream",
          "text": [
            "[1 2 3]\n",
            "2\n",
            "-----------------------\n",
            "2\n",
            "3\n"
          ],
          "name": "stdout"
        }
      ]
    },
    {
      "cell_type": "code",
      "metadata": {
        "id": "CyKMbLMeND85"
      },
      "source": [
        ""
      ],
      "execution_count": null,
      "outputs": []
    }
  ]
}