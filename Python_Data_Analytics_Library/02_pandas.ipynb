{
  "nbformat": 4,
  "nbformat_minor": 0,
  "metadata": {
    "colab": {
      "name": "02_pandas.ipynb",
      "provenance": [],
      "collapsed_sections": [],
      "toc_visible": true,
      "authorship_tag": "ABX9TyMoNfLiJ5wA5VXLANOQyroV",
      "include_colab_link": true
    },
    "kernelspec": {
      "name": "python3",
      "display_name": "Python 3"
    },
    "language_info": {
      "name": "python"
    }
  },
  "cells": [
    {
      "cell_type": "markdown",
      "metadata": {
        "id": "view-in-github",
        "colab_type": "text"
      },
      "source": [
        "<a href=\"https://colab.research.google.com/github/Junjaee/Study/blob/main/Python_Data_Analytics_Library/02_pandas.ipynb\" target=\"_parent\"><img src=\"https://colab.research.google.com/assets/colab-badge.svg\" alt=\"Open In Colab\"/></a>"
      ]
    },
    {
      "cell_type": "markdown",
      "metadata": {
        "id": "ZnzjqEOMc46a"
      },
      "source": [
        "## PANDAS에서 제공하는 대표적인 자료구조\n",
        "\n",
        "- 1) Series\n",
        "  - 값 + index\n",
        "- 2) DataFrame\n",
        "  - 여러 개의 Series를 묶어놓은 형태\n",
        "- 3) https://pandas.pydata.org\n",
        "  "
      ]
    },
    {
      "cell_type": "code",
      "metadata": {
        "id": "r1BJAxH3hMjC"
      },
      "source": [
        "import pandas as pd\n",
        "import numpy as np"
      ],
      "execution_count": 1,
      "outputs": []
    },
    {
      "cell_type": "markdown",
      "metadata": {
        "id": "EI0LSdLceAL_"
      },
      "source": [
        "### 1. Series "
      ]
    },
    {
      "cell_type": "code",
      "metadata": {
        "colab": {
          "base_uri": "https://localhost:8080/"
        },
        "id": "rOM6AsyBca0w",
        "outputId": "0f784290-23bd-44dc-b690-9faff90f2503"
      },
      "source": [
        "s = pd.Series([9904312, 34487377, 2890451, 2466052])\n",
        "print(s)\n",
        "print(type(s))"
      ],
      "execution_count": 4,
      "outputs": [
        {
          "output_type": "stream",
          "text": [
            "0     9904312\n",
            "1    34487377\n",
            "2     2890451\n",
            "3     2466052\n",
            "dtype: int64\n",
            "<class 'pandas.core.series.Series'>\n"
          ],
          "name": "stdout"
        }
      ]
    },
    {
      "cell_type": "code",
      "metadata": {
        "colab": {
          "base_uri": "https://localhost:8080/"
        },
        "id": "yICnkDLuiTh4",
        "outputId": "84fed43e-b4a7-402e-d3cf-7a8cd04079c2"
      },
      "source": [
        "for i in enumerate([9904312, 34487377, 2890451, 2466052]):\n",
        "  print(i)"
      ],
      "execution_count": 5,
      "outputs": [
        {
          "output_type": "stream",
          "text": [
            "(0, 9904312)\n",
            "(1, 34487377)\n",
            "(2, 2890451)\n",
            "(3, 2466052)\n"
          ],
          "name": "stdout"
        }
      ]
    },
    {
      "cell_type": "code",
      "metadata": {
        "colab": {
          "base_uri": "https://localhost:8080/"
        },
        "id": "vZnp05Soj-N6",
        "outputId": "76033525-0ab3-4820-f43a-c9c04ddaee64"
      },
      "source": [
        "#### 인덱스를 자유롭게 지정\n",
        "\n",
        "s = pd.Series([9904312, 3448737, 2890451, 2466052], index = [\"서울\", \"부산\", \"인천\", \"대구\"])\n",
        "print(s)\n",
        "\n",
        "print(\"=====================================\")\n",
        "\n",
        "print(s.values)\n",
        "print(s.index)\n",
        "\n",
        "print(\"=====================================\")\n",
        "\n",
        "# 인덱스에 이름 지정\n",
        "s.index.name = \"도시\"\n",
        "print(s)\n",
        "\n",
        "print(\"=====================================\")\n",
        "\n",
        "# Series 전체에 이름 지정\n",
        "s.name = \"인구\"\n",
        "print(s)"
      ],
      "execution_count": 25,
      "outputs": [
        {
          "output_type": "stream",
          "text": [
            "서울    9904312\n",
            "부산    3448737\n",
            "인천    2890451\n",
            "대구    2466052\n",
            "dtype: int64\n",
            "=====================================\n",
            "[9904312 3448737 2890451 2466052]\n",
            "Index(['서울', '부산', '인천', '대구'], dtype='object')\n",
            "=====================================\n",
            "도시\n",
            "서울    9904312\n",
            "부산    3448737\n",
            "인천    2890451\n",
            "대구    2466052\n",
            "dtype: int64\n",
            "=====================================\n",
            "도시\n",
            "서울    9904312\n",
            "부산    3448737\n",
            "인천    2890451\n",
            "대구    2466052\n",
            "Name: 인구, dtype: int64\n"
          ],
          "name": "stdout"
        }
      ]
    },
    {
      "cell_type": "code",
      "metadata": {
        "id": "tJ1xJBHFiTfa"
      },
      "source": [
        "#### 벡터화 연산\n",
        "\n",
        "s1 = s / 1000000"
      ],
      "execution_count": 10,
      "outputs": []
    },
    {
      "cell_type": "code",
      "metadata": {
        "colab": {
          "base_uri": "https://localhost:8080/"
        },
        "id": "icwlJh8nnVg4",
        "outputId": "283dd3ac-2743-4c9e-d039-1b7cb4c37cc3"
      },
      "source": [
        "#### 인덱싱\n",
        "\n",
        "print(s[1], s[\"부산\"])\n",
        "\n",
        "print(\"=====================================\")\n",
        "\n",
        "print(s[[0, 3, 1]], s[[\"서울\", \"대구\", \"부산\"]])\n",
        "\n",
        "print(\"=====================================\")\n",
        "\n",
        "print(s[(s>250e4) & (s<500e4)])\n",
        "\n",
        "print(\"=====================================\")\n",
        "\n",
        "print(s[1:3])\n",
        "print(s[\"부산\" : \"대구\"])"
      ],
      "execution_count": 26,
      "outputs": [
        {
          "output_type": "stream",
          "text": [
            "3448737 3448737\n",
            "=====================================\n",
            "도시\n",
            "서울    9904312\n",
            "대구    2466052\n",
            "부산    3448737\n",
            "Name: 인구, dtype: int64 도시\n",
            "서울    9904312\n",
            "대구    2466052\n",
            "부산    3448737\n",
            "Name: 인구, dtype: int64\n",
            "=====================================\n",
            "도시\n",
            "부산    3448737\n",
            "인천    2890451\n",
            "Name: 인구, dtype: int64\n",
            "=====================================\n",
            "도시\n",
            "부산    3448737\n",
            "인천    2890451\n",
            "Name: 인구, dtype: int64\n",
            "도시\n",
            "부산    3448737\n",
            "인천    2890451\n",
            "대구    2466052\n",
            "Name: 인구, dtype: int64\n"
          ],
          "name": "stdout"
        }
      ]
    },
    {
      "cell_type": "code",
      "metadata": {
        "colab": {
          "base_uri": "https://localhost:8080/"
        },
        "id": "lC03EsG3iTco",
        "outputId": "a060d46b-7fc3-400d-c212-f1fc0f1e2393"
      },
      "source": [
        "#### Series와 dict\n",
        "\n",
        "print(\"서울\" in s)\n",
        "print(\"대전\" in s)\n",
        "\n",
        "print(\"=====================================\")\n",
        "\n",
        "print(list(s.items()))\n",
        "for k, v in s.items():\n",
        "  print(\"%s = %d\"%(k, v))\n",
        "  \n",
        "print(\"=====================================\")\n",
        "\n",
        "s2 = pd.Series({\"서울\" : 9631482, \"부산\" : 3448737, \"인천\" : 2632035, \"대전\" : 1490158})\n",
        "print(s2)"
      ],
      "execution_count": 28,
      "outputs": [
        {
          "output_type": "stream",
          "text": [
            "True\n",
            "False\n",
            "=====================================\n",
            "[('서울', 9904312), ('부산', 3448737), ('인천', 2890451), ('대구', 2466052)]\n",
            "서울 = 9904312\n",
            "부산 = 3448737\n",
            "인천 = 2890451\n",
            "대구 = 2466052\n",
            "=====================================\n",
            "서울    9631482\n",
            "부산    3448737\n",
            "인천    2632035\n",
            "대전    1490158\n",
            "dtype: int64\n"
          ],
          "name": "stdout"
        }
      ]
    },
    {
      "cell_type": "code",
      "metadata": {
        "colab": {
          "base_uri": "https://localhost:8080/"
        },
        "id": "EfLKe6KBv04H",
        "outputId": "39e5d79a-cbcf-4990-dd29-f3cdc65ddbd7"
      },
      "source": [
        "#### 인덱스 기반 연산\n",
        "print(s)\n",
        "\n",
        "print(\"=====================================\")\n",
        "\n",
        "print(s2)\n",
        "\n",
        "print(\"=====================================\")\n",
        "\n",
        "result = s - s2\n",
        "print(s - s2)\n",
        "\n",
        "print(\"=====================================\")\n",
        "\n",
        "print(s.values - s2.values)"
      ],
      "execution_count": 32,
      "outputs": [
        {
          "output_type": "stream",
          "text": [
            "도시\n",
            "서울    9904312\n",
            "부산    3448737\n",
            "인천    2890451\n",
            "대구    2466052\n",
            "Name: 인구, dtype: int64\n",
            "=====================================\n",
            "서울    9631482\n",
            "부산    3448737\n",
            "인천    2632035\n",
            "대전    1490158\n",
            "dtype: int64\n",
            "=====================================\n",
            "대구         NaN\n",
            "대전         NaN\n",
            "부산         0.0\n",
            "서울    272830.0\n",
            "인천    258416.0\n",
            "dtype: float64\n",
            "=====================================\n",
            "[272830      0 258416 975894]\n"
          ],
          "name": "stdout"
        }
      ]
    },
    {
      "cell_type": "code",
      "metadata": {
        "colab": {
          "base_uri": "https://localhost:8080/"
        },
        "id": "xUPFqNcIiTWT",
        "outputId": "75100265-5388-478e-ef0b-d6d5ca02c3a7"
      },
      "source": [
        "#### 결측치 제거\n",
        "\n",
        "print(result)\n",
        "print(result.notnull())\n",
        "print(result[result.notnull()])\n",
        "\n",
        "print(\"=====================================\")\n",
        "\n",
        "# s와 s2 데이터를 이용해서 인구 증가율 : (끝 연도 - 시작연도) / 시작연도 * 100\n",
        "\n",
        "result2 = ((s2-s)/s*100)[((s2-s)/s*100).notnull()]\n",
        "\n",
        "print((s2-s)/s*100)\n",
        "\n",
        "print(((s2-s)/s*100)[((s2-s)/s*100).notnull()])"
      ],
      "execution_count": 43,
      "outputs": [
        {
          "output_type": "stream",
          "text": [
            "대구         NaN\n",
            "대전         NaN\n",
            "부산         0.0\n",
            "서울    272830.0\n",
            "인천    258416.0\n",
            "dtype: float64\n",
            "대구    False\n",
            "대전    False\n",
            "부산     True\n",
            "서울     True\n",
            "인천     True\n",
            "dtype: bool\n",
            "부산         0.0\n",
            "서울    272830.0\n",
            "인천    258416.0\n",
            "dtype: float64\n",
            "=====================================\n",
            "대구         NaN\n",
            "대전         NaN\n",
            "부산    0.000000\n",
            "서울   -2.754659\n",
            "인천   -8.940335\n",
            "dtype: float64\n",
            "부산    0.000000\n",
            "서울   -2.754659\n",
            "인천   -8.940335\n",
            "dtype: float64\n"
          ],
          "name": "stdout"
        }
      ]
    },
    {
      "cell_type": "code",
      "metadata": {
        "colab": {
          "base_uri": "https://localhost:8080/"
        },
        "id": "-jUE1xUI011I",
        "outputId": "037ffef0-02b0-41b3-be63-ef629a0c0351"
      },
      "source": [
        "#### 데이터를 수정, 삭제, 갱신\n",
        "\n",
        "result2[\"부산\"] = 1.63\n",
        "print(result2)\n",
        "\n",
        "result2[\"대구\"] = 1.41\n",
        "print(result2)\n",
        "\n",
        "del result2[\"서울\"] # 삭제\n",
        "print(result2)"
      ],
      "execution_count": 45,
      "outputs": [
        {
          "output_type": "stream",
          "text": [
            "부산    1.630000\n",
            "서울   -2.754659\n",
            "인천   -8.940335\n",
            "대구    1.410000\n",
            "dtype: float64\n",
            "부산    1.630000\n",
            "서울   -2.754659\n",
            "인천   -8.940335\n",
            "대구    1.410000\n",
            "dtype: float64\n",
            "부산    1.630000\n",
            "인천   -8.940335\n",
            "대구    1.410000\n",
            "dtype: float64\n"
          ],
          "name": "stdout"
        }
      ]
    },
    {
      "cell_type": "markdown",
      "metadata": {
        "id": "6NbFoPiB2Uc-"
      },
      "source": [
        "### 2. DataFrame"
      ]
    },
    {
      "cell_type": "code",
      "metadata": {
        "id": "Uy3wORP32UtR"
      },
      "source": [
        "data = {\n",
        "    \"2015\": [9904312, 3448737, 2890451, 2466052],\n",
        "    \"2010\": [9631482, 3393191, 2632035, 2431774],\n",
        "    \"2005\": [9762546, 3512547, 2517680, 2456016],\n",
        "    \"2000\": [9853972, 3655437, 2466338, 2473990],\n",
        "    \"지역\": [\"수도권\", \"경상권\", \"수도권\", \"경상권\"],\n",
        "    \"2010-2015 증가율\": [0.0283, 0.0163, 0.0982, 0.0141]\n",
        "}"
      ],
      "execution_count": 47,
      "outputs": []
    },
    {
      "cell_type": "code",
      "metadata": {
        "colab": {
          "base_uri": "https://localhost:8080/"
        },
        "id": "xG46RKpj2VRU",
        "outputId": "6450df3b-c81c-4151-884f-f27d7f1aa1cc"
      },
      "source": [
        "print(type(data))\n",
        "print(data)"
      ],
      "execution_count": 48,
      "outputs": [
        {
          "output_type": "stream",
          "text": [
            "<class 'dict'>\n",
            "{'2015': [9904312, 3448737, 2890451, 2466052], '2010': [9631482, 3393191, 2632035, 2431774], '2005': [9762546, 3512547, 2517680, 2456016], '2000': [9853972, 3655437, 2466338, 2473990], '지역': ['수도권', '경상권', '수도권', '경상권'], '2010-2015 증가율': [0.0283, 0.0163, 0.0982, 0.0141]}\n"
          ],
          "name": "stdout"
        }
      ]
    },
    {
      "cell_type": "code",
      "metadata": {
        "colab": {
          "base_uri": "https://localhost:8080/",
          "height": 191
        },
        "id": "g3h_bpsZ2VPM",
        "outputId": "adeba30a-3847-449a-fc64-5445dc5915fc"
      },
      "source": [
        "df = pd.DataFrame(data)\n",
        "print(type(df))\n",
        "df"
      ],
      "execution_count": 49,
      "outputs": [
        {
          "output_type": "stream",
          "text": [
            "<class 'pandas.core.frame.DataFrame'>\n"
          ],
          "name": "stdout"
        },
        {
          "output_type": "execute_result",
          "data": {
            "text/html": [
              "<div>\n",
              "<style scoped>\n",
              "    .dataframe tbody tr th:only-of-type {\n",
              "        vertical-align: middle;\n",
              "    }\n",
              "\n",
              "    .dataframe tbody tr th {\n",
              "        vertical-align: top;\n",
              "    }\n",
              "\n",
              "    .dataframe thead th {\n",
              "        text-align: right;\n",
              "    }\n",
              "</style>\n",
              "<table border=\"1\" class=\"dataframe\">\n",
              "  <thead>\n",
              "    <tr style=\"text-align: right;\">\n",
              "      <th></th>\n",
              "      <th>2015</th>\n",
              "      <th>2010</th>\n",
              "      <th>2005</th>\n",
              "      <th>2000</th>\n",
              "      <th>지역</th>\n",
              "      <th>2010-2015 증가율</th>\n",
              "    </tr>\n",
              "  </thead>\n",
              "  <tbody>\n",
              "    <tr>\n",
              "      <th>0</th>\n",
              "      <td>9904312</td>\n",
              "      <td>9631482</td>\n",
              "      <td>9762546</td>\n",
              "      <td>9853972</td>\n",
              "      <td>수도권</td>\n",
              "      <td>0.0283</td>\n",
              "    </tr>\n",
              "    <tr>\n",
              "      <th>1</th>\n",
              "      <td>3448737</td>\n",
              "      <td>3393191</td>\n",
              "      <td>3512547</td>\n",
              "      <td>3655437</td>\n",
              "      <td>경상권</td>\n",
              "      <td>0.0163</td>\n",
              "    </tr>\n",
              "    <tr>\n",
              "      <th>2</th>\n",
              "      <td>2890451</td>\n",
              "      <td>2632035</td>\n",
              "      <td>2517680</td>\n",
              "      <td>2466338</td>\n",
              "      <td>수도권</td>\n",
              "      <td>0.0982</td>\n",
              "    </tr>\n",
              "    <tr>\n",
              "      <th>3</th>\n",
              "      <td>2466052</td>\n",
              "      <td>2431774</td>\n",
              "      <td>2456016</td>\n",
              "      <td>2473990</td>\n",
              "      <td>경상권</td>\n",
              "      <td>0.0141</td>\n",
              "    </tr>\n",
              "  </tbody>\n",
              "</table>\n",
              "</div>"
            ],
            "text/plain": [
              "      2015     2010     2005     2000   지역  2010-2015 증가율\n",
              "0  9904312  9631482  9762546  9853972  수도권         0.0283\n",
              "1  3448737  3393191  3512547  3655437  경상권         0.0163\n",
              "2  2890451  2632035  2517680  2466338  수도권         0.0982\n",
              "3  2466052  2431774  2456016  2473990  경상권         0.0141"
            ]
          },
          "metadata": {
            "tags": []
          },
          "execution_count": 49
        }
      ]
    },
    {
      "cell_type": "markdown",
      "metadata": {
        "id": "_FLNVyMILYZC"
      },
      "source": [
        "#### 1) 컬럼의 위치(순서) 바꾸기"
      ]
    },
    {
      "cell_type": "code",
      "metadata": {
        "colab": {
          "base_uri": "https://localhost:8080/",
          "height": 173
        },
        "id": "4fh3XZVE2VMm",
        "outputId": "0d649bdd-32ed-4bc9-a211-4b46d25e350b"
      },
      "source": [
        "cols = [\"지역\", \"2015\", \"2010\", \"2005\", \"2000\", \"2010-2015 증가율\"]\n",
        "\n",
        "df = pd.DataFrame(data, columns = cols)\n",
        "df"
      ],
      "execution_count": 53,
      "outputs": [
        {
          "output_type": "execute_result",
          "data": {
            "text/html": [
              "<div>\n",
              "<style scoped>\n",
              "    .dataframe tbody tr th:only-of-type {\n",
              "        vertical-align: middle;\n",
              "    }\n",
              "\n",
              "    .dataframe tbody tr th {\n",
              "        vertical-align: top;\n",
              "    }\n",
              "\n",
              "    .dataframe thead th {\n",
              "        text-align: right;\n",
              "    }\n",
              "</style>\n",
              "<table border=\"1\" class=\"dataframe\">\n",
              "  <thead>\n",
              "    <tr style=\"text-align: right;\">\n",
              "      <th></th>\n",
              "      <th>지역</th>\n",
              "      <th>2015</th>\n",
              "      <th>2010</th>\n",
              "      <th>2005</th>\n",
              "      <th>2000</th>\n",
              "      <th>2010-2015 증가율</th>\n",
              "    </tr>\n",
              "  </thead>\n",
              "  <tbody>\n",
              "    <tr>\n",
              "      <th>0</th>\n",
              "      <td>수도권</td>\n",
              "      <td>9904312</td>\n",
              "      <td>9631482</td>\n",
              "      <td>9762546</td>\n",
              "      <td>9853972</td>\n",
              "      <td>0.0283</td>\n",
              "    </tr>\n",
              "    <tr>\n",
              "      <th>1</th>\n",
              "      <td>경상권</td>\n",
              "      <td>3448737</td>\n",
              "      <td>3393191</td>\n",
              "      <td>3512547</td>\n",
              "      <td>3655437</td>\n",
              "      <td>0.0163</td>\n",
              "    </tr>\n",
              "    <tr>\n",
              "      <th>2</th>\n",
              "      <td>수도권</td>\n",
              "      <td>2890451</td>\n",
              "      <td>2632035</td>\n",
              "      <td>2517680</td>\n",
              "      <td>2466338</td>\n",
              "      <td>0.0982</td>\n",
              "    </tr>\n",
              "    <tr>\n",
              "      <th>3</th>\n",
              "      <td>경상권</td>\n",
              "      <td>2466052</td>\n",
              "      <td>2431774</td>\n",
              "      <td>2456016</td>\n",
              "      <td>2473990</td>\n",
              "      <td>0.0141</td>\n",
              "    </tr>\n",
              "  </tbody>\n",
              "</table>\n",
              "</div>"
            ],
            "text/plain": [
              "    지역     2015     2010     2005     2000  2010-2015 증가율\n",
              "0  수도권  9904312  9631482  9762546  9853972         0.0283\n",
              "1  경상권  3448737  3393191  3512547  3655437         0.0163\n",
              "2  수도권  2890451  2632035  2517680  2466338         0.0982\n",
              "3  경상권  2466052  2431774  2456016  2473990         0.0141"
            ]
          },
          "metadata": {
            "tags": []
          },
          "execution_count": 53
        }
      ]
    },
    {
      "cell_type": "markdown",
      "metadata": {
        "id": "HSYVwhE2Mo3c"
      },
      "source": [
        "#### 2) 인덱스 변경"
      ]
    },
    {
      "cell_type": "code",
      "metadata": {
        "colab": {
          "base_uri": "https://localhost:8080/",
          "height": 173
        },
        "id": "TWpuSjsT2VJ7",
        "outputId": "bc823f8b-0c89-43fe-93b4-0fea875e8d4a"
      },
      "source": [
        "idx = [\"서울\", \"부산\", \"인천\", \"대구\"]\n",
        "\n",
        "df = pd.DataFrame(data, columns = cols, index = idx)\n",
        "df"
      ],
      "execution_count": 54,
      "outputs": [
        {
          "output_type": "execute_result",
          "data": {
            "text/html": [
              "<div>\n",
              "<style scoped>\n",
              "    .dataframe tbody tr th:only-of-type {\n",
              "        vertical-align: middle;\n",
              "    }\n",
              "\n",
              "    .dataframe tbody tr th {\n",
              "        vertical-align: top;\n",
              "    }\n",
              "\n",
              "    .dataframe thead th {\n",
              "        text-align: right;\n",
              "    }\n",
              "</style>\n",
              "<table border=\"1\" class=\"dataframe\">\n",
              "  <thead>\n",
              "    <tr style=\"text-align: right;\">\n",
              "      <th></th>\n",
              "      <th>지역</th>\n",
              "      <th>2015</th>\n",
              "      <th>2010</th>\n",
              "      <th>2005</th>\n",
              "      <th>2000</th>\n",
              "      <th>2010-2015 증가율</th>\n",
              "    </tr>\n",
              "  </thead>\n",
              "  <tbody>\n",
              "    <tr>\n",
              "      <th>서울</th>\n",
              "      <td>수도권</td>\n",
              "      <td>9904312</td>\n",
              "      <td>9631482</td>\n",
              "      <td>9762546</td>\n",
              "      <td>9853972</td>\n",
              "      <td>0.0283</td>\n",
              "    </tr>\n",
              "    <tr>\n",
              "      <th>부산</th>\n",
              "      <td>경상권</td>\n",
              "      <td>3448737</td>\n",
              "      <td>3393191</td>\n",
              "      <td>3512547</td>\n",
              "      <td>3655437</td>\n",
              "      <td>0.0163</td>\n",
              "    </tr>\n",
              "    <tr>\n",
              "      <th>인천</th>\n",
              "      <td>수도권</td>\n",
              "      <td>2890451</td>\n",
              "      <td>2632035</td>\n",
              "      <td>2517680</td>\n",
              "      <td>2466338</td>\n",
              "      <td>0.0982</td>\n",
              "    </tr>\n",
              "    <tr>\n",
              "      <th>대구</th>\n",
              "      <td>경상권</td>\n",
              "      <td>2466052</td>\n",
              "      <td>2431774</td>\n",
              "      <td>2456016</td>\n",
              "      <td>2473990</td>\n",
              "      <td>0.0141</td>\n",
              "    </tr>\n",
              "  </tbody>\n",
              "</table>\n",
              "</div>"
            ],
            "text/plain": [
              "     지역     2015     2010     2005     2000  2010-2015 증가율\n",
              "서울  수도권  9904312  9631482  9762546  9853972         0.0283\n",
              "부산  경상권  3448737  3393191  3512547  3655437         0.0163\n",
              "인천  수도권  2890451  2632035  2517680  2466338         0.0982\n",
              "대구  경상권  2466052  2431774  2456016  2473990         0.0141"
            ]
          },
          "metadata": {
            "tags": []
          },
          "execution_count": 54
        }
      ]
    },
    {
      "cell_type": "code",
      "metadata": {
        "colab": {
          "base_uri": "https://localhost:8080/"
        },
        "id": "4o7_eiEu2VA0",
        "outputId": "49c8b0b6-9a35-46ed-cf9d-f025128e6a83"
      },
      "source": [
        "print(df.values)\n",
        "print(df.columns)\n",
        "print(df.index)"
      ],
      "execution_count": 55,
      "outputs": [
        {
          "output_type": "stream",
          "text": [
            "[['수도권' 9904312 9631482 9762546 9853972 0.0283]\n",
            " ['경상권' 3448737 3393191 3512547 3655437 0.0163]\n",
            " ['수도권' 2890451 2632035 2517680 2466338 0.0982]\n",
            " ['경상권' 2466052 2431774 2456016 2473990 0.0141]]\n",
            "Index(['지역', '2015', '2010', '2005', '2000', '2010-2015 증가율'], dtype='object')\n",
            "Index(['서울', '부산', '인천', '대구'], dtype='object')\n"
          ],
          "name": "stdout"
        }
      ]
    },
    {
      "cell_type": "code",
      "metadata": {
        "colab": {
          "base_uri": "https://localhost:8080/",
          "height": 204
        },
        "id": "G9zAJRFPN5OE",
        "outputId": "f11a783d-6179-4dc1-a084-222d710122f2"
      },
      "source": [
        "#### 컬럼과 인덱스에 이름 부여\n",
        "\n",
        "df.index.name = \"도시\"\n",
        "df.columns.name = \"특성\"\n",
        "df"
      ],
      "execution_count": 56,
      "outputs": [
        {
          "output_type": "execute_result",
          "data": {
            "text/html": [
              "<div>\n",
              "<style scoped>\n",
              "    .dataframe tbody tr th:only-of-type {\n",
              "        vertical-align: middle;\n",
              "    }\n",
              "\n",
              "    .dataframe tbody tr th {\n",
              "        vertical-align: top;\n",
              "    }\n",
              "\n",
              "    .dataframe thead th {\n",
              "        text-align: right;\n",
              "    }\n",
              "</style>\n",
              "<table border=\"1\" class=\"dataframe\">\n",
              "  <thead>\n",
              "    <tr style=\"text-align: right;\">\n",
              "      <th>특성</th>\n",
              "      <th>지역</th>\n",
              "      <th>2015</th>\n",
              "      <th>2010</th>\n",
              "      <th>2005</th>\n",
              "      <th>2000</th>\n",
              "      <th>2010-2015 증가율</th>\n",
              "    </tr>\n",
              "    <tr>\n",
              "      <th>도시</th>\n",
              "      <th></th>\n",
              "      <th></th>\n",
              "      <th></th>\n",
              "      <th></th>\n",
              "      <th></th>\n",
              "      <th></th>\n",
              "    </tr>\n",
              "  </thead>\n",
              "  <tbody>\n",
              "    <tr>\n",
              "      <th>서울</th>\n",
              "      <td>수도권</td>\n",
              "      <td>9904312</td>\n",
              "      <td>9631482</td>\n",
              "      <td>9762546</td>\n",
              "      <td>9853972</td>\n",
              "      <td>0.0283</td>\n",
              "    </tr>\n",
              "    <tr>\n",
              "      <th>부산</th>\n",
              "      <td>경상권</td>\n",
              "      <td>3448737</td>\n",
              "      <td>3393191</td>\n",
              "      <td>3512547</td>\n",
              "      <td>3655437</td>\n",
              "      <td>0.0163</td>\n",
              "    </tr>\n",
              "    <tr>\n",
              "      <th>인천</th>\n",
              "      <td>수도권</td>\n",
              "      <td>2890451</td>\n",
              "      <td>2632035</td>\n",
              "      <td>2517680</td>\n",
              "      <td>2466338</td>\n",
              "      <td>0.0982</td>\n",
              "    </tr>\n",
              "    <tr>\n",
              "      <th>대구</th>\n",
              "      <td>경상권</td>\n",
              "      <td>2466052</td>\n",
              "      <td>2431774</td>\n",
              "      <td>2456016</td>\n",
              "      <td>2473990</td>\n",
              "      <td>0.0141</td>\n",
              "    </tr>\n",
              "  </tbody>\n",
              "</table>\n",
              "</div>"
            ],
            "text/plain": [
              "특성   지역     2015     2010     2005     2000  2010-2015 증가율\n",
              "도시                                                        \n",
              "서울  수도권  9904312  9631482  9762546  9853972         0.0283\n",
              "부산  경상권  3448737  3393191  3512547  3655437         0.0163\n",
              "인천  수도권  2890451  2632035  2517680  2466338         0.0982\n",
              "대구  경상권  2466052  2431774  2456016  2473990         0.0141"
            ]
          },
          "metadata": {
            "tags": []
          },
          "execution_count": 56
        }
      ]
    },
    {
      "cell_type": "code",
      "metadata": {
        "colab": {
          "base_uri": "https://localhost:8080/",
          "height": 266
        },
        "id": "wrb5nxpMOeTb",
        "outputId": "b95d68ed-d367-4700-a500-d9ec1fb30ece"
      },
      "source": [
        "#### 전치 가능\n",
        "df.T"
      ],
      "execution_count": 57,
      "outputs": [
        {
          "output_type": "execute_result",
          "data": {
            "text/html": [
              "<div>\n",
              "<style scoped>\n",
              "    .dataframe tbody tr th:only-of-type {\n",
              "        vertical-align: middle;\n",
              "    }\n",
              "\n",
              "    .dataframe tbody tr th {\n",
              "        vertical-align: top;\n",
              "    }\n",
              "\n",
              "    .dataframe thead th {\n",
              "        text-align: right;\n",
              "    }\n",
              "</style>\n",
              "<table border=\"1\" class=\"dataframe\">\n",
              "  <thead>\n",
              "    <tr style=\"text-align: right;\">\n",
              "      <th>도시</th>\n",
              "      <th>서울</th>\n",
              "      <th>부산</th>\n",
              "      <th>인천</th>\n",
              "      <th>대구</th>\n",
              "    </tr>\n",
              "    <tr>\n",
              "      <th>특성</th>\n",
              "      <th></th>\n",
              "      <th></th>\n",
              "      <th></th>\n",
              "      <th></th>\n",
              "    </tr>\n",
              "  </thead>\n",
              "  <tbody>\n",
              "    <tr>\n",
              "      <th>지역</th>\n",
              "      <td>수도권</td>\n",
              "      <td>경상권</td>\n",
              "      <td>수도권</td>\n",
              "      <td>경상권</td>\n",
              "    </tr>\n",
              "    <tr>\n",
              "      <th>2015</th>\n",
              "      <td>9904312</td>\n",
              "      <td>3448737</td>\n",
              "      <td>2890451</td>\n",
              "      <td>2466052</td>\n",
              "    </tr>\n",
              "    <tr>\n",
              "      <th>2010</th>\n",
              "      <td>9631482</td>\n",
              "      <td>3393191</td>\n",
              "      <td>2632035</td>\n",
              "      <td>2431774</td>\n",
              "    </tr>\n",
              "    <tr>\n",
              "      <th>2005</th>\n",
              "      <td>9762546</td>\n",
              "      <td>3512547</td>\n",
              "      <td>2517680</td>\n",
              "      <td>2456016</td>\n",
              "    </tr>\n",
              "    <tr>\n",
              "      <th>2000</th>\n",
              "      <td>9853972</td>\n",
              "      <td>3655437</td>\n",
              "      <td>2466338</td>\n",
              "      <td>2473990</td>\n",
              "    </tr>\n",
              "    <tr>\n",
              "      <th>2010-2015 증가율</th>\n",
              "      <td>0.0283</td>\n",
              "      <td>0.0163</td>\n",
              "      <td>0.0982</td>\n",
              "      <td>0.0141</td>\n",
              "    </tr>\n",
              "  </tbody>\n",
              "</table>\n",
              "</div>"
            ],
            "text/plain": [
              "도시                  서울       부산       인천       대구\n",
              "특성                                               \n",
              "지역                 수도권      경상권      수도권      경상권\n",
              "2015           9904312  3448737  2890451  2466052\n",
              "2010           9631482  3393191  2632035  2431774\n",
              "2005           9762546  3512547  2517680  2456016\n",
              "2000           9853972  3655437  2466338  2473990\n",
              "2010-2015 증가율   0.0283   0.0163   0.0982   0.0141"
            ]
          },
          "metadata": {
            "tags": []
          },
          "execution_count": 57
        }
      ]
    },
    {
      "cell_type": "markdown",
      "metadata": {
        "id": "o56MsNq-PN49"
      },
      "source": [
        "#### 3) 인덱싱"
      ]
    },
    {
      "cell_type": "code",
      "metadata": {
        "colab": {
          "base_uri": "https://localhost:8080/"
        },
        "id": "15bq6P8rOeQf",
        "outputId": "9583d31e-c00c-4755-a24f-0eb923490043"
      },
      "source": [
        "#### 열 인덱싱\n",
        "\n",
        "print(df)\n",
        "print(\"=====================================\")\n",
        "\n",
        "print(df[\"지역\"])\n",
        "print(type(df[\"지역\"]))\n",
        "print(\"=====================================\")\n",
        "print(df[[\"지역\"]])\n",
        "print(type(df[[\"지역\"]]))\n",
        "print(\"=====================================\")\n",
        "print(df[[\"2015\", \"2010\"]])\n",
        "\n",
        "# df[0] : 숫자로 지정 안됨\n",
        "# df[\"2010\" : \"2000\"] : 슬라이싱 안됨"
      ],
      "execution_count": 62,
      "outputs": [
        {
          "output_type": "stream",
          "text": [
            "특성   지역     2015     2010     2005     2000  2010-2015 증가율\n",
            "도시                                                        \n",
            "서울  수도권  9904312  9631482  9762546  9853972         0.0283\n",
            "부산  경상권  3448737  3393191  3512547  3655437         0.0163\n",
            "인천  수도권  2890451  2632035  2517680  2466338         0.0982\n",
            "대구  경상권  2466052  2431774  2456016  2473990         0.0141\n",
            "=====================================\n",
            "도시\n",
            "서울    수도권\n",
            "부산    경상권\n",
            "인천    수도권\n",
            "대구    경상권\n",
            "Name: 지역, dtype: object\n",
            "<class 'pandas.core.series.Series'>\n",
            "=====================================\n",
            "특성   지역\n",
            "도시     \n",
            "서울  수도권\n",
            "부산  경상권\n",
            "인천  수도권\n",
            "대구  경상권\n",
            "<class 'pandas.core.frame.DataFrame'>\n",
            "=====================================\n",
            "특성     2015     2010\n",
            "도시                  \n",
            "서울  9904312  9631482\n",
            "부산  3448737  3393191\n",
            "인천  2890451  2632035\n",
            "대구  2466052  2431774\n"
          ],
          "name": "stdout"
        }
      ]
    },
    {
      "cell_type": "code",
      "metadata": {
        "colab": {
          "base_uri": "https://localhost:8080/"
        },
        "id": "VlZFdoMROeNn",
        "outputId": "2c842b74-1952-487c-8132-67b3afdfab73"
      },
      "source": [
        "#### 행 인덱싱 (2개 이상 데이터를 뽑아올 때 반드시 : 으로 슬라이싱)\n",
        "\n",
        "print(df[:])\n",
        "print(\"=====================================\")\n",
        "print(df[:1])\n",
        "print(\"=====================================\")\n",
        "print(df[1:3])\n",
        "print(\"=====================================\")\n",
        "print(df[\"서울\" : \"부산\"])"
      ],
      "execution_count": 69,
      "outputs": [
        {
          "output_type": "stream",
          "text": [
            "특성   지역     2015     2010     2005     2000  2010-2015 증가율\n",
            "도시                                                        \n",
            "서울  수도권  9904312  9631482  9762546  9853972         0.0283\n",
            "부산  경상권  3448737  3393191  3512547  3655437         0.0163\n",
            "인천  수도권  2890451  2632035  2517680  2466338         0.0982\n",
            "대구  경상권  2466052  2431774  2456016  2473990         0.0141\n",
            "=====================================\n",
            "특성   지역     2015     2010     2005     2000  2010-2015 증가율\n",
            "도시                                                        \n",
            "서울  수도권  9904312  9631482  9762546  9853972         0.0283\n",
            "=====================================\n",
            "특성   지역     2015     2010     2005     2000  2010-2015 증가율\n",
            "도시                                                        \n",
            "부산  경상권  3448737  3393191  3512547  3655437         0.0163\n",
            "인천  수도권  2890451  2632035  2517680  2466338         0.0982\n",
            "=====================================\n",
            "특성   지역     2015     2010     2005     2000  2010-2015 증가율\n",
            "도시                                                        \n",
            "서울  수도권  9904312  9631482  9762546  9853972         0.0283\n",
            "부산  경상권  3448737  3393191  3512547  3655437         0.0163\n"
          ],
          "name": "stdout"
        }
      ]
    },
    {
      "cell_type": "code",
      "metadata": {
        "colab": {
          "base_uri": "https://localhost:8080/",
          "height": 129
        },
        "id": "jhKQruxmOeK-",
        "outputId": "95b3c1e3-b32e-4ff9-c8e2-23687b33a0b2"
      },
      "source": [
        "#### 동시에 행과 열에 접근\n",
        "\n",
        "df[\"2005\"][\"서울\"] # 열에 먼저 접근\n",
        "# df[\"2005\", \"서울\"] 이건 안됨\n",
        "\n",
        "print(\"=====================================\")\n",
        "\n",
        "# 2005년도와 2010년의 서울 인구를 조회\n",
        "df[[\"2005\", \"2010\"]][:\"서울\"]\n",
        "df.loc['서울',['2005', '2010']]"
      ],
      "execution_count": 85,
      "outputs": [
        {
          "output_type": "stream",
          "text": [
            "=====================================\n"
          ],
          "name": "stdout"
        },
        {
          "output_type": "execute_result",
          "data": {
            "text/html": [
              "<div>\n",
              "<style scoped>\n",
              "    .dataframe tbody tr th:only-of-type {\n",
              "        vertical-align: middle;\n",
              "    }\n",
              "\n",
              "    .dataframe tbody tr th {\n",
              "        vertical-align: top;\n",
              "    }\n",
              "\n",
              "    .dataframe thead th {\n",
              "        text-align: right;\n",
              "    }\n",
              "</style>\n",
              "<table border=\"1\" class=\"dataframe\">\n",
              "  <thead>\n",
              "    <tr style=\"text-align: right;\">\n",
              "      <th>특성</th>\n",
              "      <th>2005</th>\n",
              "      <th>2010</th>\n",
              "    </tr>\n",
              "    <tr>\n",
              "      <th>도시</th>\n",
              "      <th></th>\n",
              "      <th></th>\n",
              "    </tr>\n",
              "  </thead>\n",
              "  <tbody>\n",
              "    <tr>\n",
              "      <th>서울</th>\n",
              "      <td>9762546</td>\n",
              "      <td>9631482</td>\n",
              "    </tr>\n",
              "  </tbody>\n",
              "</table>\n",
              "</div>"
            ],
            "text/plain": [
              "특성     2005     2010\n",
              "도시                  \n",
              "서울  9762546  9631482"
            ]
          },
          "metadata": {
            "tags": []
          },
          "execution_count": 85
        }
      ]
    },
    {
      "cell_type": "markdown",
      "metadata": {
        "id": "mfwM65hTZV0v"
      },
      "source": [
        "#### 4) 열 데이터 갱신, 추가, 삭제"
      ]
    },
    {
      "cell_type": "code",
      "metadata": {
        "colab": {
          "base_uri": "https://localhost:8080/",
          "height": 204
        },
        "id": "am8NpObcZbt4",
        "outputId": "7155e4d7-db62-4589-e1be-8b08e42dd675"
      },
      "source": [
        "# 갱신\n",
        "df[\"2010-2015 증가율\"] = df[\"2010-2015 증가율\"] * 100\n",
        "df\n",
        "\n",
        "# 추가\n",
        "df[\"2005-2010 증가율\"] = ((df[\"2010\"] - df[\"2005\"]) / df[\"2005\"] * 100).round(2)\n",
        "df\n",
        "\n",
        "# 삭제\n",
        "del df[\"2010-2015 증가율\"]\n",
        "df"
      ],
      "execution_count": 89,
      "outputs": [
        {
          "output_type": "execute_result",
          "data": {
            "text/html": [
              "<div>\n",
              "<style scoped>\n",
              "    .dataframe tbody tr th:only-of-type {\n",
              "        vertical-align: middle;\n",
              "    }\n",
              "\n",
              "    .dataframe tbody tr th {\n",
              "        vertical-align: top;\n",
              "    }\n",
              "\n",
              "    .dataframe thead th {\n",
              "        text-align: right;\n",
              "    }\n",
              "</style>\n",
              "<table border=\"1\" class=\"dataframe\">\n",
              "  <thead>\n",
              "    <tr style=\"text-align: right;\">\n",
              "      <th>특성</th>\n",
              "      <th>지역</th>\n",
              "      <th>2015</th>\n",
              "      <th>2010</th>\n",
              "      <th>2005</th>\n",
              "      <th>2000</th>\n",
              "      <th>2005-2010 증가율</th>\n",
              "    </tr>\n",
              "    <tr>\n",
              "      <th>도시</th>\n",
              "      <th></th>\n",
              "      <th></th>\n",
              "      <th></th>\n",
              "      <th></th>\n",
              "      <th></th>\n",
              "      <th></th>\n",
              "    </tr>\n",
              "  </thead>\n",
              "  <tbody>\n",
              "    <tr>\n",
              "      <th>서울</th>\n",
              "      <td>수도권</td>\n",
              "      <td>9904312</td>\n",
              "      <td>9631482</td>\n",
              "      <td>9762546</td>\n",
              "      <td>9853972</td>\n",
              "      <td>-1.34</td>\n",
              "    </tr>\n",
              "    <tr>\n",
              "      <th>부산</th>\n",
              "      <td>경상권</td>\n",
              "      <td>3448737</td>\n",
              "      <td>3393191</td>\n",
              "      <td>3512547</td>\n",
              "      <td>3655437</td>\n",
              "      <td>-3.40</td>\n",
              "    </tr>\n",
              "    <tr>\n",
              "      <th>인천</th>\n",
              "      <td>수도권</td>\n",
              "      <td>2890451</td>\n",
              "      <td>2632035</td>\n",
              "      <td>2517680</td>\n",
              "      <td>2466338</td>\n",
              "      <td>4.54</td>\n",
              "    </tr>\n",
              "    <tr>\n",
              "      <th>대구</th>\n",
              "      <td>경상권</td>\n",
              "      <td>2466052</td>\n",
              "      <td>2431774</td>\n",
              "      <td>2456016</td>\n",
              "      <td>2473990</td>\n",
              "      <td>-0.99</td>\n",
              "    </tr>\n",
              "  </tbody>\n",
              "</table>\n",
              "</div>"
            ],
            "text/plain": [
              "특성   지역     2015     2010     2005     2000  2005-2010 증가율\n",
              "도시                                                        \n",
              "서울  수도권  9904312  9631482  9762546  9853972          -1.34\n",
              "부산  경상권  3448737  3393191  3512547  3655437          -3.40\n",
              "인천  수도권  2890451  2632035  2517680  2466338           4.54\n",
              "대구  경상권  2466052  2431774  2456016  2473990          -0.99"
            ]
          },
          "metadata": {
            "tags": []
          },
          "execution_count": 89
        }
      ]
    },
    {
      "cell_type": "markdown",
      "metadata": {
        "id": "p3T4MR7mbL9P"
      },
      "source": [
        "#### 5) 실습1"
      ]
    },
    {
      "cell_type": "code",
      "metadata": {
        "id": "IKbETbtTbEow"
      },
      "source": [
        "data = {\n",
        "    \"국어\" : [80, 90, 70, 30],\n",
        "    \"영어\" : [90, 70, 60, 40],\n",
        "    \"수학\" : [90, 60, 80, 70]\n",
        "}"
      ],
      "execution_count": 90,
      "outputs": []
    },
    {
      "cell_type": "code",
      "metadata": {
        "colab": {
          "base_uri": "https://localhost:8080/",
          "height": 173
        },
        "id": "7Ov1gfXMZbrg",
        "outputId": "59c0f54e-ec54-4113-fa36-8c765eae6a9b"
      },
      "source": [
        "#### 1. 인덱스를 춘향, 몽룡, 향단, 방자로 구성된 데이터 프레임 df를 작성\n",
        "\n",
        "idx = [\"춘향\", \"몽룡\", \"향단\", \"방자\"]\n",
        "\n",
        "df = pd.DataFrame(data, index = idx)\n",
        "df"
      ],
      "execution_count": 94,
      "outputs": [
        {
          "output_type": "execute_result",
          "data": {
            "text/html": [
              "<div>\n",
              "<style scoped>\n",
              "    .dataframe tbody tr th:only-of-type {\n",
              "        vertical-align: middle;\n",
              "    }\n",
              "\n",
              "    .dataframe tbody tr th {\n",
              "        vertical-align: top;\n",
              "    }\n",
              "\n",
              "    .dataframe thead th {\n",
              "        text-align: right;\n",
              "    }\n",
              "</style>\n",
              "<table border=\"1\" class=\"dataframe\">\n",
              "  <thead>\n",
              "    <tr style=\"text-align: right;\">\n",
              "      <th></th>\n",
              "      <th>국어</th>\n",
              "      <th>영어</th>\n",
              "      <th>수학</th>\n",
              "    </tr>\n",
              "  </thead>\n",
              "  <tbody>\n",
              "    <tr>\n",
              "      <th>춘향</th>\n",
              "      <td>80</td>\n",
              "      <td>90</td>\n",
              "      <td>90</td>\n",
              "    </tr>\n",
              "    <tr>\n",
              "      <th>몽룡</th>\n",
              "      <td>90</td>\n",
              "      <td>70</td>\n",
              "      <td>60</td>\n",
              "    </tr>\n",
              "    <tr>\n",
              "      <th>향단</th>\n",
              "      <td>70</td>\n",
              "      <td>60</td>\n",
              "      <td>80</td>\n",
              "    </tr>\n",
              "    <tr>\n",
              "      <th>방자</th>\n",
              "      <td>30</td>\n",
              "      <td>40</td>\n",
              "      <td>70</td>\n",
              "    </tr>\n",
              "  </tbody>\n",
              "</table>\n",
              "</div>"
            ],
            "text/plain": [
              "    국어  영어  수학\n",
              "춘향  80  90  90\n",
              "몽룡  90  70  60\n",
              "향단  70  60  80\n",
              "방자  30  40  70"
            ]
          },
          "metadata": {
            "tags": []
          },
          "execution_count": 94
        }
      ]
    },
    {
      "cell_type": "code",
      "metadata": {
        "colab": {
          "base_uri": "https://localhost:8080/"
        },
        "id": "hGX7z8LLZbot",
        "outputId": "b76c6f4d-e486-48d7-eca9-360b372af932"
      },
      "source": [
        "#### 2. 모든 학생의 수학 점수를 조회\n",
        "df['수학']"
      ],
      "execution_count": 117,
      "outputs": [
        {
          "output_type": "execute_result",
          "data": {
            "text/plain": [
              "춘향    90\n",
              "몽룡    60\n",
              "향단    80\n",
              "방자    70\n",
              "Name: 수학, dtype: int64"
            ]
          },
          "metadata": {
            "tags": []
          },
          "execution_count": 117
        }
      ]
    },
    {
      "cell_type": "code",
      "metadata": {
        "colab": {
          "base_uri": "https://localhost:8080/",
          "height": 173
        },
        "id": "4wmhz7CdZbZC",
        "outputId": "a69912b9-e8b6-4503-b4f1-ba37145947ff"
      },
      "source": [
        "#### 3. 모든 학생의 국어와 영어 점수를 조회\n",
        "df[['국어', '영어']]"
      ],
      "execution_count": 113,
      "outputs": [
        {
          "output_type": "execute_result",
          "data": {
            "text/html": [
              "<div>\n",
              "<style scoped>\n",
              "    .dataframe tbody tr th:only-of-type {\n",
              "        vertical-align: middle;\n",
              "    }\n",
              "\n",
              "    .dataframe tbody tr th {\n",
              "        vertical-align: top;\n",
              "    }\n",
              "\n",
              "    .dataframe thead th {\n",
              "        text-align: right;\n",
              "    }\n",
              "</style>\n",
              "<table border=\"1\" class=\"dataframe\">\n",
              "  <thead>\n",
              "    <tr style=\"text-align: right;\">\n",
              "      <th></th>\n",
              "      <th>국어</th>\n",
              "      <th>영어</th>\n",
              "    </tr>\n",
              "  </thead>\n",
              "  <tbody>\n",
              "    <tr>\n",
              "      <th>춘향</th>\n",
              "      <td>80</td>\n",
              "      <td>90</td>\n",
              "    </tr>\n",
              "    <tr>\n",
              "      <th>몽룡</th>\n",
              "      <td>90</td>\n",
              "      <td>70</td>\n",
              "    </tr>\n",
              "    <tr>\n",
              "      <th>향단</th>\n",
              "      <td>70</td>\n",
              "      <td>60</td>\n",
              "    </tr>\n",
              "    <tr>\n",
              "      <th>방자</th>\n",
              "      <td>30</td>\n",
              "      <td>80</td>\n",
              "    </tr>\n",
              "  </tbody>\n",
              "</table>\n",
              "</div>"
            ],
            "text/plain": [
              "    국어  영어\n",
              "춘향  80  90\n",
              "몽룡  90  70\n",
              "향단  70  60\n",
              "방자  30  80"
            ]
          },
          "metadata": {
            "tags": []
          },
          "execution_count": 113
        }
      ]
    },
    {
      "cell_type": "code",
      "metadata": {
        "colab": {
          "base_uri": "https://localhost:8080/",
          "height": 173
        },
        "id": "iDIvxgpEby1y",
        "outputId": "6ed1d7bd-eb72-4e72-e20f-b398d5600b32"
      },
      "source": [
        "#### 4. 모든 학생의 각 과목평균점수를 새로운 열(과목평균)로 추가하시오\n",
        "df[\"과목평균\"] = ((df['국어'] + df['영어'] + df['수학'])/3).round(2)\n",
        "df"
      ],
      "execution_count": 115,
      "outputs": [
        {
          "output_type": "execute_result",
          "data": {
            "text/html": [
              "<div>\n",
              "<style scoped>\n",
              "    .dataframe tbody tr th:only-of-type {\n",
              "        vertical-align: middle;\n",
              "    }\n",
              "\n",
              "    .dataframe tbody tr th {\n",
              "        vertical-align: top;\n",
              "    }\n",
              "\n",
              "    .dataframe thead th {\n",
              "        text-align: right;\n",
              "    }\n",
              "</style>\n",
              "<table border=\"1\" class=\"dataframe\">\n",
              "  <thead>\n",
              "    <tr style=\"text-align: right;\">\n",
              "      <th></th>\n",
              "      <th>국어</th>\n",
              "      <th>영어</th>\n",
              "      <th>수학</th>\n",
              "      <th>과목평균</th>\n",
              "    </tr>\n",
              "  </thead>\n",
              "  <tbody>\n",
              "    <tr>\n",
              "      <th>춘향</th>\n",
              "      <td>80</td>\n",
              "      <td>90</td>\n",
              "      <td>90</td>\n",
              "      <td>86.67</td>\n",
              "    </tr>\n",
              "    <tr>\n",
              "      <th>몽룡</th>\n",
              "      <td>90</td>\n",
              "      <td>70</td>\n",
              "      <td>60</td>\n",
              "      <td>73.33</td>\n",
              "    </tr>\n",
              "    <tr>\n",
              "      <th>향단</th>\n",
              "      <td>70</td>\n",
              "      <td>60</td>\n",
              "      <td>80</td>\n",
              "      <td>70.00</td>\n",
              "    </tr>\n",
              "    <tr>\n",
              "      <th>방자</th>\n",
              "      <td>30</td>\n",
              "      <td>80</td>\n",
              "      <td>70</td>\n",
              "      <td>60.00</td>\n",
              "    </tr>\n",
              "  </tbody>\n",
              "</table>\n",
              "</div>"
            ],
            "text/plain": [
              "    국어  영어  수학   과목평균\n",
              "춘향  80  90  90  86.67\n",
              "몽룡  90  70  60  73.33\n",
              "향단  70  60  80  70.00\n",
              "방자  30  80  70  60.00"
            ]
          },
          "metadata": {
            "tags": []
          },
          "execution_count": 115
        }
      ]
    },
    {
      "cell_type": "code",
      "metadata": {
        "colab": {
          "base_uri": "https://localhost:8080/",
          "height": 263
        },
        "id": "T0GLOn8rbyzH",
        "outputId": "352fb587-3bc7-4dfc-8b97-b678316a1ed6"
      },
      "source": [
        "#### 5. 방자의 영어점수를 80점으로 수정하고 평균 점수도 다시 수정하시오\n",
        "df['영어']['방자'] = 80\n",
        "df[\"과목평균\"] = ((df['국어'] + df['영어'] + df['수학'])/3).round(2)\n",
        "df"
      ],
      "execution_count": 116,
      "outputs": [
        {
          "output_type": "stream",
          "text": [
            "/usr/local/lib/python3.7/dist-packages/ipykernel_launcher.py:2: SettingWithCopyWarning: \n",
            "A value is trying to be set on a copy of a slice from a DataFrame\n",
            "\n",
            "See the caveats in the documentation: https://pandas.pydata.org/pandas-docs/stable/user_guide/indexing.html#returning-a-view-versus-a-copy\n",
            "  \n"
          ],
          "name": "stderr"
        },
        {
          "output_type": "execute_result",
          "data": {
            "text/html": [
              "<div>\n",
              "<style scoped>\n",
              "    .dataframe tbody tr th:only-of-type {\n",
              "        vertical-align: middle;\n",
              "    }\n",
              "\n",
              "    .dataframe tbody tr th {\n",
              "        vertical-align: top;\n",
              "    }\n",
              "\n",
              "    .dataframe thead th {\n",
              "        text-align: right;\n",
              "    }\n",
              "</style>\n",
              "<table border=\"1\" class=\"dataframe\">\n",
              "  <thead>\n",
              "    <tr style=\"text-align: right;\">\n",
              "      <th></th>\n",
              "      <th>국어</th>\n",
              "      <th>영어</th>\n",
              "      <th>수학</th>\n",
              "      <th>과목평균</th>\n",
              "    </tr>\n",
              "  </thead>\n",
              "  <tbody>\n",
              "    <tr>\n",
              "      <th>춘향</th>\n",
              "      <td>80</td>\n",
              "      <td>90</td>\n",
              "      <td>90</td>\n",
              "      <td>86.67</td>\n",
              "    </tr>\n",
              "    <tr>\n",
              "      <th>몽룡</th>\n",
              "      <td>90</td>\n",
              "      <td>70</td>\n",
              "      <td>60</td>\n",
              "      <td>73.33</td>\n",
              "    </tr>\n",
              "    <tr>\n",
              "      <th>향단</th>\n",
              "      <td>70</td>\n",
              "      <td>60</td>\n",
              "      <td>80</td>\n",
              "      <td>70.00</td>\n",
              "    </tr>\n",
              "    <tr>\n",
              "      <th>방자</th>\n",
              "      <td>30</td>\n",
              "      <td>80</td>\n",
              "      <td>70</td>\n",
              "      <td>60.00</td>\n",
              "    </tr>\n",
              "  </tbody>\n",
              "</table>\n",
              "</div>"
            ],
            "text/plain": [
              "    국어  영어  수학   과목평균\n",
              "춘향  80  90  90  86.67\n",
              "몽룡  90  70  60  73.33\n",
              "향단  70  60  80  70.00\n",
              "방자  30  80  70  60.00"
            ]
          },
          "metadata": {
            "tags": []
          },
          "execution_count": 116
        }
      ]
    },
    {
      "cell_type": "code",
      "metadata": {
        "colab": {
          "base_uri": "https://localhost:8080/",
          "height": 80
        },
        "id": "lDUGGItjbywJ",
        "outputId": "4606d944-0bda-44b7-d603-dd1602f2fb6a"
      },
      "source": [
        "#### 6. 춘향의 점수를 데이터 프레임 형식으로 출력하시오\n",
        "df[:\"춘향\"]"
      ],
      "execution_count": 108,
      "outputs": [
        {
          "output_type": "execute_result",
          "data": {
            "text/html": [
              "<div>\n",
              "<style scoped>\n",
              "    .dataframe tbody tr th:only-of-type {\n",
              "        vertical-align: middle;\n",
              "    }\n",
              "\n",
              "    .dataframe tbody tr th {\n",
              "        vertical-align: top;\n",
              "    }\n",
              "\n",
              "    .dataframe thead th {\n",
              "        text-align: right;\n",
              "    }\n",
              "</style>\n",
              "<table border=\"1\" class=\"dataframe\">\n",
              "  <thead>\n",
              "    <tr style=\"text-align: right;\">\n",
              "      <th></th>\n",
              "      <th>국어</th>\n",
              "      <th>영어</th>\n",
              "      <th>수학</th>\n",
              "      <th>과목평균</th>\n",
              "    </tr>\n",
              "  </thead>\n",
              "  <tbody>\n",
              "    <tr>\n",
              "      <th>춘향</th>\n",
              "      <td>80</td>\n",
              "      <td>90</td>\n",
              "      <td>90</td>\n",
              "      <td>86.67</td>\n",
              "    </tr>\n",
              "  </tbody>\n",
              "</table>\n",
              "</div>"
            ],
            "text/plain": [
              "    국어  영어  수학   과목평균\n",
              "춘향  80  90  90  86.67"
            ]
          },
          "metadata": {
            "tags": []
          },
          "execution_count": 108
        }
      ]
    },
    {
      "cell_type": "code",
      "metadata": {
        "colab": {
          "base_uri": "https://localhost:8080/"
        },
        "id": "U3lnrbGobyrr",
        "outputId": "bd94e3b2-ded9-4de8-ef04-68ac61c3703f"
      },
      "source": [
        "#### 7. 향단의 점수를 Series로 출력하시오\n",
        "df.T['향단']\n"
      ],
      "execution_count": 111,
      "outputs": [
        {
          "output_type": "execute_result",
          "data": {
            "text/plain": [
              "국어      70.0\n",
              "영어      60.0\n",
              "수학      80.0\n",
              "과목평균    70.0\n",
              "Name: 향단, dtype: float64"
            ]
          },
          "metadata": {
            "tags": []
          },
          "execution_count": 111
        }
      ]
    },
    {
      "cell_type": "markdown",
      "metadata": {
        "id": "eRhyNKdSulsr"
      },
      "source": [
        "#### 6) 데이터 입출력\n",
        "\n",
        "- read_csv()\n",
        "- to_csv()\n",
        "- read_table()"
      ]
    },
    {
      "cell_type": "code",
      "metadata": {
        "id": "lp87ZqmAuuK6"
      },
      "source": [
        "%%writefile data/sample1.csv\n",
        "c1, c2, c3\n",
        "1, 1.11, open\n",
        "2, 2.22, two\n",
        "3, 3.33, three"
      ],
      "execution_count": null,
      "outputs": []
    },
    {
      "cell_type": "code",
      "metadata": {
        "id": "CZc6Qj0xutoN"
      },
      "source": [
        "sample1 = pd.read_csv(\"data/sample1.csv\", names = [])\n",
        "sample1"
      ],
      "execution_count": null,
      "outputs": []
    },
    {
      "cell_type": "code",
      "metadata": {
        "id": "KM01Oxr3utk8"
      },
      "source": [
        "# 특정한 열을 인덱스로 지정\n",
        "sample3 = pd.read_csv(\"data/sample1.csv\", index_col = \"c1\")\n",
        "sample3"
      ],
      "execution_count": null,
      "outputs": []
    },
    {
      "cell_type": "code",
      "metadata": {
        "id": "99SM_t3wyXQy"
      },
      "source": [
        "%%writefile data/sample3.txt\n",
        "c1    c2    c3    c4\n",
        "0.23  0.33  0.354 0.2389\n",
        "0.123 0.345 0.567 0.986"
      ],
      "execution_count": null,
      "outputs": []
    },
    {
      "cell_type": "code",
      "metadata": {
        "id": "oEmHxhUDyXOI"
      },
      "source": [
        "sample3 = pd.read_table(\"data/sample3.txt\", sep = \"\")\n",
        "sample3"
      ],
      "execution_count": null,
      "outputs": []
    },
    {
      "cell_type": "code",
      "metadata": {
        "id": "Oh6TnNpnyXLy"
      },
      "source": [
        "%%writefile data/sample4.txt\n",
        "파일제목 : sample4.txt\n",
        "데이터 포맷의 설명 : 어쩌구 저쩌구\n",
        "c1, c2, c3\n",
        "1, 1.11, open\n",
        "2, 2.22, two\n",
        "3, 3.33, three"
      ],
      "execution_count": null,
      "outputs": []
    },
    {
      "cell_type": "code",
      "metadata": {
        "id": "sxPITLbD0hHm"
      },
      "source": [
        "sample4 = pd.read_table(\"data/sample4.txt\", skiprows = [0, 1])\n",
        "sample4"
      ],
      "execution_count": null,
      "outputs": []
    },
    {
      "cell_type": "code",
      "metadata": {
        "id": "OBI5Ze9_0hEu"
      },
      "source": [
        "%%writefile data/sample5.txt\n",
        "c1, c2, c3\n",
        "1, 1.11,\n",
        "2, , two\n",
        "누락, 3.33, three"
      ],
      "execution_count": null,
      "outputs": []
    },
    {
      "cell_type": "code",
      "metadata": {
        "id": "9KvSZpgB0hB_"
      },
      "source": [
        "sample5 = pd.read_csv(\"data/sample5.csv\", na_values = [\" \", \"누락\"])\n",
        "sample5"
      ],
      "execution_count": 3,
      "outputs": []
    },
    {
      "cell_type": "code",
      "metadata": {
        "id": "Y5zjkSfrutKl"
      },
      "source": [
        "# csv로 저장\n",
        "\n",
        "df.to_csv(\"data/sample6.csv\")\n",
        "df.to_csv(\"data/sample7.txt\", sep = \"|\")\n",
        "df.to_csv(\"data/sample8.csv\", index = False, header = False)\n",
        "sample5.to_csv(\"data/sample9.txt\", sep = \":\", na_rep = \"누락\")"
      ],
      "execution_count": null,
      "outputs": []
    },
    {
      "cell_type": "markdown",
      "metadata": {
        "id": "K-aIl4IZ787A"
      },
      "source": [
        "#### 7) Indexer\n",
        "\n",
        "- loc : 라벨값 기반의 2차원 인덱싱을 지원하는 인덱서\n",
        "- iloc : 순서를 나타내는 정수 기반의 인덱서\n",
        "- ix\n",
        "- at\n",
        "- iat"
      ]
    },
    {
      "cell_type": "markdown",
      "metadata": {
        "id": "Mv_QqwNy9Dff"
      },
      "source": [
        "##### - loc"
      ]
    },
    {
      "cell_type": "code",
      "metadata": {
        "colab": {
          "base_uri": "https://localhost:8080/",
          "height": 142
        },
        "id": "xtgw5fFK6c3C",
        "outputId": "f2a6230c-737a-4d14-d889-e6bbc7cf68df"
      },
      "source": [
        "df = pd.DataFrame(np.arange(10, 22).reshape(3, 4), index = [\"a\", \"b\", \"c\"],\n",
        "                  columns = [\"A\", \"B\", \"C\", \"D\"])\n",
        "\n",
        "df"
      ],
      "execution_count": 2,
      "outputs": [
        {
          "output_type": "execute_result",
          "data": {
            "text/html": [
              "<div>\n",
              "<style scoped>\n",
              "    .dataframe tbody tr th:only-of-type {\n",
              "        vertical-align: middle;\n",
              "    }\n",
              "\n",
              "    .dataframe tbody tr th {\n",
              "        vertical-align: top;\n",
              "    }\n",
              "\n",
              "    .dataframe thead th {\n",
              "        text-align: right;\n",
              "    }\n",
              "</style>\n",
              "<table border=\"1\" class=\"dataframe\">\n",
              "  <thead>\n",
              "    <tr style=\"text-align: right;\">\n",
              "      <th></th>\n",
              "      <th>A</th>\n",
              "      <th>B</th>\n",
              "      <th>C</th>\n",
              "      <th>D</th>\n",
              "    </tr>\n",
              "  </thead>\n",
              "  <tbody>\n",
              "    <tr>\n",
              "      <th>a</th>\n",
              "      <td>10</td>\n",
              "      <td>11</td>\n",
              "      <td>12</td>\n",
              "      <td>13</td>\n",
              "    </tr>\n",
              "    <tr>\n",
              "      <th>b</th>\n",
              "      <td>14</td>\n",
              "      <td>15</td>\n",
              "      <td>16</td>\n",
              "      <td>17</td>\n",
              "    </tr>\n",
              "    <tr>\n",
              "      <th>c</th>\n",
              "      <td>18</td>\n",
              "      <td>19</td>\n",
              "      <td>20</td>\n",
              "      <td>21</td>\n",
              "    </tr>\n",
              "  </tbody>\n",
              "</table>\n",
              "</div>"
            ],
            "text/plain": [
              "    A   B   C   D\n",
              "a  10  11  12  13\n",
              "b  14  15  16  17\n",
              "c  18  19  20  21"
            ]
          },
          "metadata": {
            "tags": []
          },
          "execution_count": 2
        }
      ]
    },
    {
      "cell_type": "code",
      "metadata": {
        "colab": {
          "base_uri": "https://localhost:8080/"
        },
        "id": "4T67Nf3B6c0w",
        "outputId": "773c25f9-ed5f-423c-8816-7f93e6151fc1"
      },
      "source": [
        "#### 첫번째 행 추출\n",
        "\n",
        "print(df[:1])\n",
        "print(df[:\"a\"])\n",
        "\n",
        "print(\"=\"*40)\n",
        "\n",
        "print(df.loc[\"a\"])\n",
        "print(type(df.loc[\"a\"]))\n",
        "\n",
        "print(\"=\"*40)\n",
        "\n",
        "print(df.loc[df.A > 15])\n",
        "\n",
        "print(\"=\"*40)\n",
        "\n",
        "def select_row(df, num):\n",
        "  return df.A > num\n",
        "\n",
        "print(df.loc[select_row(df, 15)])"
      ],
      "execution_count": 3,
      "outputs": [
        {
          "output_type": "stream",
          "text": [
            "    A   B   C   D\n",
            "a  10  11  12  13\n",
            "    A   B   C   D\n",
            "a  10  11  12  13\n",
            "========================================\n",
            "A    10\n",
            "B    11\n",
            "C    12\n",
            "D    13\n",
            "Name: a, dtype: int64\n",
            "<class 'pandas.core.series.Series'>\n",
            "========================================\n",
            "    A   B   C   D\n",
            "c  18  19  20  21\n",
            "========================================\n",
            "    A   B   C   D\n",
            "c  18  19  20  21\n"
          ],
          "name": "stdout"
        }
      ]
    },
    {
      "cell_type": "code",
      "metadata": {
        "colab": {
          "base_uri": "https://localhost:8080/"
        },
        "id": "7NESBn-P6cq_",
        "outputId": "8cbec347-f8c0-4451-8ccd-6cc0602b174f"
      },
      "source": [
        "#### 행과 열을 모두 사용할 경우\n",
        "\n",
        "# b행 A열에 있는 하나의 값을 추출\n",
        "print(df[\"B\"][\"b\"])\n",
        "\n",
        "print(\"=\"*40)\n",
        "\n",
        "print(df.loc[\"b\"][\"B\"])\n",
        "print(df.loc[\"b\", \"B\"])\n",
        "\n",
        "print(\"=\"*40)\n",
        "\n",
        "print(df.loc[\"b\":, \"B\":])\n",
        "print(df.loc[[\"a\", \"c\"], [\"B\", \"C\"]])\n",
        "\n",
        "# 모든 항에 대해서 첫번째 행에 있는 값이 11보다 작거나 같은 행의 컬럼을 조회\n",
        "print(df.loc[:, df.loc[\"a\", :] <= 11])\n"
      ],
      "execution_count": 24,
      "outputs": [
        {
          "output_type": "stream",
          "text": [
            "15\n",
            "========================================\n",
            "15\n",
            "15\n",
            "========================================\n",
            "    B   C   D\n",
            "b  15  16  17\n",
            "c  19  20  21\n",
            "    B   C\n",
            "a  11  12\n",
            "c  19  20\n",
            "    A   B\n",
            "a  10  11\n",
            "b  14  15\n",
            "c  18  19\n",
            "A     True\n",
            "B     True\n",
            "C    False\n",
            "D    False\n",
            "Name: a, dtype: bool\n"
          ],
          "name": "stdout"
        }
      ]
    },
    {
      "cell_type": "markdown",
      "metadata": {
        "id": "wNMMPCWoY65u"
      },
      "source": [
        "##### - iloc"
      ]
    },
    {
      "cell_type": "code",
      "metadata": {
        "colab": {
          "base_uri": "https://localhost:8080/"
        },
        "id": "is4ieeE_Y6pu",
        "outputId": "b4715f08-64b6-455f-812c-96ef2020e8a4"
      },
      "source": [
        "print(df[\"A\"])\n",
        "# df[0]\n",
        "\n",
        "print(\"=\"*40)\n",
        "\n",
        "# df.loc[0, 0]\n",
        "print(df.loc[\"a\", \"A\"])\n",
        "\n",
        "print(\"=\"*40)\n",
        "\n",
        "print(df.iloc[0, 0])\n",
        "print(df.iloc[:2, 2])\n",
        "print(df.iloc[0, -2:])\n",
        "\n",
        "print(df.iloc[2, 2:3])"
      ],
      "execution_count": 34,
      "outputs": [
        {
          "output_type": "stream",
          "text": [
            "a    10\n",
            "b    14\n",
            "c    18\n",
            "Name: A, dtype: int64\n",
            "========================================\n",
            "10\n",
            "========================================\n",
            "10\n",
            "a    12\n",
            "b    16\n",
            "Name: C, dtype: int64\n",
            "C    12\n",
            "D    13\n",
            "Name: a, dtype: int64\n",
            "C    20\n",
            "Name: c, dtype: int64\n"
          ],
          "name": "stdout"
        }
      ]
    },
    {
      "cell_type": "code",
      "metadata": {
        "colab": {
          "base_uri": "https://localhost:8080/"
        },
        "id": "cvnnkMk_akNM",
        "outputId": "50974105-10b4-418a-fd29-3d22b93a5374"
      },
      "source": [
        "print(df.iloc[[2], [1,2]])\n",
        "print(df.iloc[2: , 1:3])"
      ],
      "execution_count": 43,
      "outputs": [
        {
          "output_type": "stream",
          "text": [
            "    B   C\n",
            "c  19  20\n",
            "    B   C\n",
            "c  19  20\n"
          ],
          "name": "stdout"
        }
      ]
    },
    {
      "cell_type": "markdown",
      "metadata": {
        "id": "WkCRVg0rc6RO"
      },
      "source": [
        "##### - at"
      ]
    },
    {
      "cell_type": "code",
      "metadata": {
        "colab": {
          "base_uri": "https://localhost:8080/"
        },
        "id": "Dm5Xo9xKc3FO",
        "outputId": "86c65e61-95fa-493e-f805-1b85d1678431"
      },
      "source": [
        "%timeit df.loc[\"a\", \"A\"]\n",
        "%timeit df.at[\"a\", \"A\"]\n",
        "\n",
        "# at의 속도가 더 빠르다"
      ],
      "execution_count": 46,
      "outputs": [
        {
          "output_type": "stream",
          "text": [
            "The slowest run took 32.45 times longer than the fastest. This could mean that an intermediate result is being cached.\n",
            "100000 loops, best of 5: 7.77 µs per loop\n",
            "The slowest run took 14.12 times longer than the fastest. This could mean that an intermediate result is being cached.\n",
            "100000 loops, best of 5: 4.61 µs per loop\n"
          ],
          "name": "stdout"
        }
      ]
    },
    {
      "cell_type": "markdown",
      "metadata": {
        "id": "cXQZEPliegAm"
      },
      "source": [
        "### 3. Data Manipulation"
      ]
    },
    {
      "cell_type": "markdown",
      "metadata": {
        "id": "IuYor7khh0BQ"
      },
      "source": [
        "#### 1) 데이터의 갯수 세기"
      ]
    },
    {
      "cell_type": "code",
      "metadata": {
        "colab": {
          "base_uri": "https://localhost:8080/"
        },
        "id": "OcPmVOFlh3BL",
        "outputId": "5c2273db-d7b6-4749-e0d2-3a5515dd48ce"
      },
      "source": [
        "#### Series에서 갯수 세기\n",
        "\n",
        "s = pd.Series(range(10))\n",
        "s\n",
        "s.count()\n",
        "\n",
        "s[3] = np.nan\n",
        "s\n",
        "s.count()\n",
        "# nan 은 세지 않는다"
      ],
      "execution_count": 50,
      "outputs": [
        {
          "output_type": "execute_result",
          "data": {
            "text/plain": [
              "9"
            ]
          },
          "metadata": {
            "tags": []
          },
          "execution_count": 50
        }
      ]
    },
    {
      "cell_type": "code",
      "metadata": {
        "colab": {
          "base_uri": "https://localhost:8080/"
        },
        "id": "-EJc4sLSh2-9",
        "outputId": "a91b468d-31a0-4a53-ede8-03121cb7c4b8"
      },
      "source": [
        "#### DataFrame에서 갯수 세기\n",
        "\n",
        "np.random.seed(2)\n",
        "df = pd.DataFrame(np.random.randint(5, size = (4, 4)), dtype = float)\n",
        "df\n",
        "df.count()\n",
        "\n",
        "df.iloc[2, 3] = np.nan\n",
        "df.count()"
      ],
      "execution_count": 55,
      "outputs": [
        {
          "output_type": "execute_result",
          "data": {
            "text/plain": [
              "0    4\n",
              "1    4\n",
              "2    4\n",
              "3    3\n",
              "dtype: int64"
            ]
          },
          "metadata": {
            "tags": []
          },
          "execution_count": 55
        }
      ]
    },
    {
      "cell_type": "code",
      "metadata": {
        "colab": {
          "base_uri": "https://localhost:8080/"
        },
        "id": "UBZB3xgVh26z",
        "outputId": "e9efed3f-c98e-44f3-c60e-28acb7a9d3bd"
      },
      "source": [
        "#### titanic\n",
        "\n",
        "import seaborn as sns\n",
        "titanic = sns.load_dataset(\"titanic\")\n",
        "titanic.head()\n",
        "titanic.count()"
      ],
      "execution_count": 57,
      "outputs": [
        {
          "output_type": "execute_result",
          "data": {
            "text/plain": [
              "survived       891\n",
              "pclass         891\n",
              "sex            891\n",
              "age            714\n",
              "sibsp          891\n",
              "parch          891\n",
              "fare           891\n",
              "embarked       889\n",
              "class          891\n",
              "who            891\n",
              "adult_male     891\n",
              "deck           203\n",
              "embark_town    889\n",
              "alive          891\n",
              "alone          891\n",
              "dtype: int64"
            ]
          },
          "metadata": {
            "tags": []
          },
          "execution_count": 57
        }
      ]
    },
    {
      "cell_type": "markdown",
      "metadata": {
        "id": "Bh3SDEOMmSpx"
      },
      "source": [
        "#### 2) 카테고리별 갯수 세기"
      ]
    },
    {
      "cell_type": "code",
      "metadata": {
        "colab": {
          "base_uri": "https://localhost:8080/"
        },
        "id": "s3eW3AwIh23w",
        "outputId": "89be4ae5-e813-4986-e694-ae03c35fd8d9"
      },
      "source": [
        "np.random.seed(1)\n",
        "\n",
        "s2 = pd.Series(np.random.randint(6, size = 100))\n",
        "print(s2)\n",
        "\n",
        "print(s2.value_counts())\n",
        "\n",
        "print(df.value_counts()) # 데이터 프레임에서는 불가능 -> Series로 바꿔서 뽑자"
      ],
      "execution_count": 61,
      "outputs": [
        {
          "output_type": "stream",
          "text": [
            "0     5\n",
            "1     3\n",
            "2     4\n",
            "3     0\n",
            "4     1\n",
            "     ..\n",
            "95    4\n",
            "96    5\n",
            "97    2\n",
            "98    4\n",
            "99    3\n",
            "Length: 100, dtype: int64\n",
            "1    22\n",
            "0    18\n",
            "4    17\n",
            "5    16\n",
            "3    14\n",
            "2    13\n",
            "dtype: int64\n",
            "0    1    2    3  \n",
            "4.0  3.0  4.0  2.0    1\n",
            "3.0  0.0  2.0  1.0    1\n",
            "0.0  0.0  3.0  2.0    1\n",
            "dtype: int64\n"
          ],
          "name": "stdout"
        }
      ]
    },
    {
      "cell_type": "markdown",
      "metadata": {
        "id": "mrpWkSk5aYGK"
      },
      "source": [
        "#### 3) 정렬\n",
        "\n",
        "- sort_index()\n",
        "- sort_value()"
      ]
    },
    {
      "cell_type": "code",
      "metadata": {
        "colab": {
          "base_uri": "https://localhost:8080/"
        },
        "id": "c82w_jWHemdm",
        "outputId": "47880a25-00d2-426c-9947-3112fa82bccf"
      },
      "source": [
        "# Series를 이용한 정렬\n",
        "\n",
        "np.random.seed(1)\n",
        "s = pd.Series(np.random.randint(6, size = 100))\n",
        "\n",
        "s.value_counts().sort_index()\n",
        "s.value_counts().sort_values()\n",
        "s.sort_values()\n",
        "s.sort_values(ascending = False)"
      ],
      "execution_count": 7,
      "outputs": [
        {
          "output_type": "execute_result",
          "data": {
            "text/plain": [
              "0     5\n",
              "11    5\n",
              "46    5\n",
              "40    5\n",
              "71    5\n",
              "     ..\n",
              "28    0\n",
              "85    0\n",
              "39    0\n",
              "38    0\n",
              "57    0\n",
              "Length: 100, dtype: int64"
            ]
          },
          "metadata": {
            "tags": []
          },
          "execution_count": 7
        }
      ]
    },
    {
      "cell_type": "code",
      "metadata": {
        "colab": {
          "base_uri": "https://localhost:8080/"
        },
        "id": "qXmi1tqTemuH",
        "outputId": "0b59b27d-fc7a-4d4b-c9ff-0817a72f4219"
      },
      "source": [
        "# DataFrame을 이용한 정렬\n",
        "\n",
        "np.random.seed(2)\n",
        "df = pd.DataFrame(np.random.randint(5, size = (4, 4)), dtype = float)\n",
        "print(df)\n",
        "print(\"=\"*40)\n",
        "\n",
        "print(df.sort_values(by = 2)) # 2번 컬럼을 기준으로 정렬\n",
        "print(df.sort_values(by = [1, 2])) # 1번 컬럼 우선 정렬, 동률시 2번 컬럼으로 정렬\n",
        "\n",
        "print(\"=\"*40)\n",
        "\n",
        "df1 = pd.DataFrame({\n",
        "    \"seq\" : [1, 3, 2], \"name\" : [\"park\", \"lee\", \"choi\"], \"age\" : [30, 20, 40]\n",
        "})\n",
        "\n",
        "print(df1)\n",
        "\n",
        "print(\"=\"*40)\n",
        "\n",
        "# seq를 기준으로 정렬(내림차순)\n",
        "print(df1.sort_values(by = \"seq\", ascending = False, axis = 0))\n",
        "print(\"=\"*40)\n",
        "\n",
        "# index를 기준으로 정렬\n",
        "print(df1.sort_index())\n",
        "print(df1.sort_index(axis = 0))\n",
        "print(df1.sort_index(axis = 1))\n",
        "print(df1.sort_index(axis = 1, ascending = False))\n",
        "print(\"=\"*40)\n",
        "\n",
        "# inplace\n",
        "print(df1.sort_index(axis = 1))\n",
        "print(df1) # 원본에 적용되어 있지 않다\n",
        "\n",
        "df1 = df1.sort_index(axis = 1)\n",
        "print(df1)\n",
        "\n",
        "df1.sort_values(by = [\"seq\", \"name\"], axis = 0, ascending = False, inplace = True)\n",
        "print(df1)\n",
        "print(\"=\"*40)\n",
        "\n",
        "# 결측치의 위치 선정\n",
        "df2 = pd.DataFrame({\n",
        "    \"seq\" : [1, np.nan, 2], \"name\" : [\"pakr\", \"lee\", \" choi\"], \"age\" : [30, 20, 40]\n",
        "})\n",
        "\n",
        "print(df2)\n",
        "\n",
        "print(df2.sort_values(by = \"seq\"))\n",
        "print(df2.sort_values(by = \"seq\", na_position = \"first\"))"
      ],
      "execution_count": 31,
      "outputs": [
        {
          "output_type": "stream",
          "text": [
            "     0    1    2    3\n",
            "0  0.0  0.0  3.0  2.0\n",
            "1  3.0  0.0  2.0  1.0\n",
            "2  3.0  2.0  4.0  4.0\n",
            "3  4.0  3.0  4.0  2.0\n",
            "========================================\n",
            "     0    1    2    3\n",
            "1  3.0  0.0  2.0  1.0\n",
            "0  0.0  0.0  3.0  2.0\n",
            "2  3.0  2.0  4.0  4.0\n",
            "3  4.0  3.0  4.0  2.0\n",
            "     0    1    2    3\n",
            "1  3.0  0.0  2.0  1.0\n",
            "0  0.0  0.0  3.0  2.0\n",
            "2  3.0  2.0  4.0  4.0\n",
            "3  4.0  3.0  4.0  2.0\n",
            "========================================\n",
            "   seq  name  age\n",
            "0    1  park   30\n",
            "1    3   lee   20\n",
            "2    2  choi   40\n",
            "========================================\n",
            "   seq  name  age\n",
            "1    3   lee   20\n",
            "2    2  choi   40\n",
            "0    1  park   30\n",
            "========================================\n",
            "   seq  name  age\n",
            "0    1  park   30\n",
            "1    3   lee   20\n",
            "2    2  choi   40\n",
            "   seq  name  age\n",
            "0    1  park   30\n",
            "1    3   lee   20\n",
            "2    2  choi   40\n",
            "   age  name  seq\n",
            "0   30  park    1\n",
            "1   20   lee    3\n",
            "2   40  choi    2\n",
            "   seq  name  age\n",
            "0    1  park   30\n",
            "1    3   lee   20\n",
            "2    2  choi   40\n",
            "========================================\n",
            "   age  name  seq\n",
            "0   30  park    1\n",
            "1   20   lee    3\n",
            "2   40  choi    2\n",
            "   seq  name  age\n",
            "0    1  park   30\n",
            "1    3   lee   20\n",
            "2    2  choi   40\n",
            "   age  name  seq\n",
            "0   30  park    1\n",
            "1   20   lee    3\n",
            "2   40  choi    2\n",
            "   age  name  seq\n",
            "1   20   lee    3\n",
            "2   40  choi    2\n",
            "0   30  park    1\n",
            "========================================\n",
            "   seq   name  age\n",
            "0  1.0   pakr   30\n",
            "1  NaN    lee   20\n",
            "2  2.0   choi   40\n",
            "   seq   name  age\n",
            "0  1.0   pakr   30\n",
            "2  2.0   choi   40\n",
            "1  NaN    lee   20\n",
            "   seq   name  age\n",
            "1  NaN    lee   20\n",
            "0  1.0   pakr   30\n",
            "2  2.0   choi   40\n"
          ],
          "name": "stdout"
        }
      ]
    },
    {
      "cell_type": "markdown",
      "metadata": {
        "id": "aA-4h7XPmwuS"
      },
      "source": [
        "#### 4) 행, 열의 합계"
      ]
    },
    {
      "cell_type": "code",
      "metadata": {
        "colab": {
          "base_uri": "https://localhost:8080/"
        },
        "id": "jHUYy0wIemrH",
        "outputId": "3026cabc-edab-4965-dc8e-573d25f0708d"
      },
      "source": [
        "np.random.seed(1)\n",
        "df = pd.DataFrame(np.random.randint(10, size = (4, 8)))\n",
        "print(df)\n",
        "\n",
        "print(\"=\"*40)\n",
        "\n",
        "print(df.sum())\n",
        "print(df.sum(axis = 0))\n",
        "\n",
        "df.loc[\"ColSum\", :] = df.sum()\n",
        "print(df)\n",
        "\n",
        "df.loc[:,\"RowSum\"] = df.sum(axis = 1)\n",
        "print(df)"
      ],
      "execution_count": 41,
      "outputs": [
        {
          "output_type": "stream",
          "text": [
            "   0  1  2  3  4  5  6  7\n",
            "0  5  8  9  5  0  0  1  7\n",
            "1  6  9  2  4  5  2  4  2\n",
            "2  4  7  7  9  1  7  0  6\n",
            "3  9  9  7  6  9  1  0  1\n",
            "========================================\n",
            "0    24\n",
            "1    33\n",
            "2    25\n",
            "3    24\n",
            "4    15\n",
            "5    10\n",
            "6     5\n",
            "7    16\n",
            "dtype: int64\n",
            "0    24\n",
            "1    33\n",
            "2    25\n",
            "3    24\n",
            "4    15\n",
            "5    10\n",
            "6     5\n",
            "7    16\n",
            "dtype: int64\n",
            "           0     1     2     3     4     5    6     7\n",
            "0        5.0   8.0   9.0   5.0   0.0   0.0  1.0   7.0\n",
            "1        6.0   9.0   2.0   4.0   5.0   2.0  4.0   2.0\n",
            "2        4.0   7.0   7.0   9.0   1.0   7.0  0.0   6.0\n",
            "3        9.0   9.0   7.0   6.0   9.0   1.0  0.0   1.0\n",
            "ColSum  24.0  33.0  25.0  24.0  15.0  10.0  5.0  16.0\n",
            "           0     1     2     3     4     5    6     7  RowSum\n",
            "0        5.0   8.0   9.0   5.0   0.0   0.0  1.0   7.0    35.0\n",
            "1        6.0   9.0   2.0   4.0   5.0   2.0  4.0   2.0    34.0\n",
            "2        4.0   7.0   7.0   9.0   1.0   7.0  0.0   6.0    41.0\n",
            "3        9.0   9.0   7.0   6.0   9.0   1.0  0.0   1.0    42.0\n",
            "ColSum  24.0  33.0  25.0  24.0  15.0  10.0  5.0  16.0   152.0\n"
          ],
          "name": "stdout"
        }
      ]
    },
    {
      "cell_type": "markdown",
      "metadata": {
        "id": "JNhvrNQspYxK"
      },
      "source": [
        "#### 5) apply()\n",
        "\n",
        "- 행이나 열 단위로 더 복잡한 처리를 하고자 할 때 사용\n",
        "- 인수로 행 또는 열을 받는 함수를 apply()의 인수로 넢으면 각 열(또는 행)을 반복하여 그 함수에 적용"
      ]
    },
    {
      "cell_type": "code",
      "metadata": {
        "colab": {
          "base_uri": "https://localhost:8080/"
        },
        "id": "tGhZUS5Cemk4",
        "outputId": "7ed792cf-5397-49e8-d4e8-228dd17c4b33"
      },
      "source": [
        "df = pd.DataFrame({\n",
        "    \"A\" : [1, 3, 4, 3, 4],\n",
        "    \"B\" : [2, 3, 1, 2, 3],\n",
        "    \"C\" : [1, 5, 2, 4, 4]\n",
        "})\n",
        "print(df)"
      ],
      "execution_count": 42,
      "outputs": [
        {
          "output_type": "stream",
          "text": [
            "   A  B  C\n",
            "0  1  2  1\n",
            "1  3  3  5\n",
            "2  4  1  2\n",
            "3  3  2  4\n",
            "4  4  3  4\n"
          ],
          "name": "stdout"
        }
      ]
    },
    {
      "cell_type": "code",
      "metadata": {
        "colab": {
          "base_uri": "https://localhost:8080/"
        },
        "id": "O1H6BFtmpbu9",
        "outputId": "e4458222-7a54-42c5-9f0a-e34d70af0a44"
      },
      "source": [
        "#### 각 열(행)별로 최대값에서 최소값을 뺀 값을 구하고자 한다\n",
        "\n",
        "def diff(x):\n",
        "  return x.max() - x.min()\n",
        "\n",
        "print(diff(df[\"A\"]))\n",
        "print(diff(df[\"B\"]))\n",
        "print(diff(df[\"C\"]))\n",
        "\n",
        "print(\"=\"*40)\n",
        "\n",
        "print(df.apply(diff, axis = 0))\n",
        "print(df.apply(diff, axis = 1))"
      ],
      "execution_count": 46,
      "outputs": [
        {
          "output_type": "stream",
          "text": [
            "3\n",
            "2\n",
            "4\n",
            "========================================\n",
            "A    3\n",
            "B    2\n",
            "C    4\n",
            "dtype: int64\n",
            "0    1\n",
            "1    2\n",
            "2    3\n",
            "3    2\n",
            "4    1\n",
            "dtype: int64\n"
          ],
          "name": "stdout"
        }
      ]
    },
    {
      "cell_type": "code",
      "metadata": {
        "colab": {
          "base_uri": "https://localhost:8080/"
        },
        "id": "5sLhD8K0pbr7",
        "outputId": "ab759a72-b51b-41e0-e3e8-68188057298f"
      },
      "source": [
        "#### 람다 함수\n",
        "df.apply(lambda x : x.max() - x.min(), axis = 0)"
      ],
      "execution_count": 47,
      "outputs": [
        {
          "output_type": "execute_result",
          "data": {
            "text/plain": [
              "A    3\n",
              "B    2\n",
              "C    4\n",
              "dtype: int64"
            ]
          },
          "metadata": {
            "tags": []
          },
          "execution_count": 47
        }
      ]
    },
    {
      "cell_type": "code",
      "metadata": {
        "colab": {
          "base_uri": "https://localhost:8080/"
        },
        "id": "9dRV693jpbp8",
        "outputId": "05e6b310-4a75-49a0-c688-8e3c572302bb"
      },
      "source": [
        "#### 각 열에 대해 어떤 값이 얼마나 사용되었는지 조회 : value_counts()\n",
        "\n",
        "print(df[\"A\"].value_counts())\n",
        "print(df[\"B\"].value_counts())\n",
        "print(df[\"C\"].value_counts())\n",
        "print(\"=\"*40)\n",
        "\n",
        "print(df.apply(pd.value_counts, axis = 0).fillna(0))"
      ],
      "execution_count": 53,
      "outputs": [
        {
          "output_type": "stream",
          "text": [
            "4    2\n",
            "3    2\n",
            "1    1\n",
            "Name: A, dtype: int64\n",
            "3    2\n",
            "2    2\n",
            "1    1\n",
            "Name: B, dtype: int64\n",
            "4    2\n",
            "5    1\n",
            "2    1\n",
            "1    1\n",
            "Name: C, dtype: int64\n",
            "========================================\n",
            "     A    B    C\n",
            "1  1.0  1.0  1.0\n",
            "2  0.0  2.0  1.0\n",
            "3  2.0  2.0  0.0\n",
            "4  2.0  0.0  2.0\n",
            "5  0.0  0.0  1.0\n"
          ],
          "name": "stdout"
        }
      ]
    },
    {
      "cell_type": "markdown",
      "metadata": {
        "id": "Le3jp-svxdAo"
      },
      "source": [
        "#### 6) 실수값을 카테고리로 변경(양적 데이터 -> 질적 데이터)\n",
        "\n",
        "- cut()\n",
        "- qcut()"
      ]
    },
    {
      "cell_type": "code",
      "metadata": {
        "colab": {
          "base_uri": "https://localhost:8080/"
        },
        "id": "4ejaL0RbpboR",
        "outputId": "4b4c9469-a26f-4266-944a-b0d3cc41f936"
      },
      "source": [
        "# 1 ~ 15 : 미성년자, 16 ~ 25 : 청년, 26 ~ 35 : 중년, 36 ~ 60 : 장년, 61 ~ 99 : 노년\n",
        "\n",
        "ages = [0, 2, 10, 21, 23, 37, 31, 61, 20, 41, 32, 100]\n",
        "\n",
        "cat = pd.cut(x = ages, bins = [1, 15, 25, 35, 60, 99], labels = [\"미성년자\", \"청년\", \"중년\", \"장년\", \"노년\"])\n",
        "print(cat)\n"
      ],
      "execution_count": 54,
      "outputs": [
        {
          "output_type": "stream",
          "text": [
            "[NaN, '미성년자', '미성년자', '청년', '청년', ..., '노년', '청년', '장년', '중년', NaN]\n",
            "Length: 12\n",
            "Categories (5, object): ['미성년자' < '청년' < '중년' < '장년' < '노년']\n"
          ],
          "name": "stdout"
        }
      ]
    },
    {
      "cell_type": "code",
      "metadata": {
        "colab": {
          "base_uri": "https://localhost:8080/"
        },
        "id": "NjrJTwaRpbmK",
        "outputId": "93d8af05-953d-40d7-abbd-1aec06ff6127"
      },
      "source": [
        "print(type(cat))\n",
        "print(cat.categories)\n",
        "print(cat.codes)"
      ],
      "execution_count": 56,
      "outputs": [
        {
          "output_type": "stream",
          "text": [
            "<class 'pandas.core.arrays.categorical.Categorical'>\n",
            "Index(['미성년자', '청년', '중년', '장년', '노년'], dtype='object')\n",
            "[-1  0  0  1  1  3  2  4  1  3  2 -1]\n"
          ],
          "name": "stdout"
        }
      ]
    },
    {
      "cell_type": "code",
      "metadata": {
        "colab": {
          "base_uri": "https://localhost:8080/",
          "height": 421
        },
        "id": "E_uLHlf0pbi_",
        "outputId": "dade3ed4-0328-46ad-e47c-bf1a45e9553b"
      },
      "source": [
        "df = pd.DataFrame(ages, columns = [\"ages\"])\n",
        "df \n",
        "\n",
        "df[\"age_cat\"] = cat\n",
        "df\n",
        "\n",
        "df[\"age_cat_num\"] = cat.codes\n",
        "df"
      ],
      "execution_count": 59,
      "outputs": [
        {
          "output_type": "execute_result",
          "data": {
            "text/html": [
              "<div>\n",
              "<style scoped>\n",
              "    .dataframe tbody tr th:only-of-type {\n",
              "        vertical-align: middle;\n",
              "    }\n",
              "\n",
              "    .dataframe tbody tr th {\n",
              "        vertical-align: top;\n",
              "    }\n",
              "\n",
              "    .dataframe thead th {\n",
              "        text-align: right;\n",
              "    }\n",
              "</style>\n",
              "<table border=\"1\" class=\"dataframe\">\n",
              "  <thead>\n",
              "    <tr style=\"text-align: right;\">\n",
              "      <th></th>\n",
              "      <th>ages</th>\n",
              "      <th>age_cat</th>\n",
              "      <th>age_cat_num</th>\n",
              "    </tr>\n",
              "  </thead>\n",
              "  <tbody>\n",
              "    <tr>\n",
              "      <th>0</th>\n",
              "      <td>0</td>\n",
              "      <td>NaN</td>\n",
              "      <td>-1</td>\n",
              "    </tr>\n",
              "    <tr>\n",
              "      <th>1</th>\n",
              "      <td>2</td>\n",
              "      <td>미성년자</td>\n",
              "      <td>0</td>\n",
              "    </tr>\n",
              "    <tr>\n",
              "      <th>2</th>\n",
              "      <td>10</td>\n",
              "      <td>미성년자</td>\n",
              "      <td>0</td>\n",
              "    </tr>\n",
              "    <tr>\n",
              "      <th>3</th>\n",
              "      <td>21</td>\n",
              "      <td>청년</td>\n",
              "      <td>1</td>\n",
              "    </tr>\n",
              "    <tr>\n",
              "      <th>4</th>\n",
              "      <td>23</td>\n",
              "      <td>청년</td>\n",
              "      <td>1</td>\n",
              "    </tr>\n",
              "    <tr>\n",
              "      <th>5</th>\n",
              "      <td>37</td>\n",
              "      <td>장년</td>\n",
              "      <td>3</td>\n",
              "    </tr>\n",
              "    <tr>\n",
              "      <th>6</th>\n",
              "      <td>31</td>\n",
              "      <td>중년</td>\n",
              "      <td>2</td>\n",
              "    </tr>\n",
              "    <tr>\n",
              "      <th>7</th>\n",
              "      <td>61</td>\n",
              "      <td>노년</td>\n",
              "      <td>4</td>\n",
              "    </tr>\n",
              "    <tr>\n",
              "      <th>8</th>\n",
              "      <td>20</td>\n",
              "      <td>청년</td>\n",
              "      <td>1</td>\n",
              "    </tr>\n",
              "    <tr>\n",
              "      <th>9</th>\n",
              "      <td>41</td>\n",
              "      <td>장년</td>\n",
              "      <td>3</td>\n",
              "    </tr>\n",
              "    <tr>\n",
              "      <th>10</th>\n",
              "      <td>32</td>\n",
              "      <td>중년</td>\n",
              "      <td>2</td>\n",
              "    </tr>\n",
              "    <tr>\n",
              "      <th>11</th>\n",
              "      <td>100</td>\n",
              "      <td>NaN</td>\n",
              "      <td>-1</td>\n",
              "    </tr>\n",
              "  </tbody>\n",
              "</table>\n",
              "</div>"
            ],
            "text/plain": [
              "    ages age_cat  age_cat_num\n",
              "0      0     NaN           -1\n",
              "1      2    미성년자            0\n",
              "2     10    미성년자            0\n",
              "3     21      청년            1\n",
              "4     23      청년            1\n",
              "5     37      장년            3\n",
              "6     31      중년            2\n",
              "7     61      노년            4\n",
              "8     20      청년            1\n",
              "9     41      장년            3\n",
              "10    32      중년            2\n",
              "11   100     NaN           -1"
            ]
          },
          "metadata": {
            "tags": []
          },
          "execution_count": 59
        }
      ]
    },
    {
      "cell_type": "code",
      "metadata": {
        "colab": {
          "base_uri": "https://localhost:8080/"
        },
        "id": "LB5pUjXXpbff",
        "outputId": "b90523d7-28b6-4085-8cc9-697d47231a87"
      },
      "source": [
        "#### qcut()\n",
        "\n",
        "data = np.random.randn(100)\n",
        "cat1 = pd.qcut(data, 4, labels = [\"Q1\", \"Q2\", \"Q3\", \"Q4\"])\n",
        "cat1\n",
        "pd.value_counts(cat1)"
      ],
      "execution_count": 61,
      "outputs": [
        {
          "output_type": "execute_result",
          "data": {
            "text/plain": [
              "Q4    25\n",
              "Q3    25\n",
              "Q2    25\n",
              "Q1    25\n",
              "dtype: int64"
            ]
          },
          "metadata": {
            "tags": []
          },
          "execution_count": 61
        }
      ]
    },
    {
      "cell_type": "markdown",
      "metadata": {
        "id": "0iQmcwVu5pro"
      },
      "source": [
        "### 4. Index Manipulation"
      ]
    },
    {
      "cell_type": "markdown",
      "metadata": {
        "id": "jywgvKrc6CA9"
      },
      "source": [
        "#### 1) set_index(), reset_index()"
      ]
    },
    {
      "cell_type": "code",
      "metadata": {
        "colab": {
          "base_uri": "https://localhost:8080/",
          "height": 204
        },
        "id": "LX8qQVXJ5nZ8",
        "outputId": "40c99458-7f43-439b-d774-f24275511928"
      },
      "source": [
        "np.random.seed(0)\n",
        "\n",
        "df1 = pd.DataFrame(np.vstack([list(\"ABCDE\"), np.round(np.random.rand(3, 5))]).T,\n",
        "             columns = [\"C1\", \"C2\", \"C3\", \"C4\"])\n",
        "df1"
      ],
      "execution_count": 67,
      "outputs": [
        {
          "output_type": "execute_result",
          "data": {
            "text/html": [
              "<div>\n",
              "<style scoped>\n",
              "    .dataframe tbody tr th:only-of-type {\n",
              "        vertical-align: middle;\n",
              "    }\n",
              "\n",
              "    .dataframe tbody tr th {\n",
              "        vertical-align: top;\n",
              "    }\n",
              "\n",
              "    .dataframe thead th {\n",
              "        text-align: right;\n",
              "    }\n",
              "</style>\n",
              "<table border=\"1\" class=\"dataframe\">\n",
              "  <thead>\n",
              "    <tr style=\"text-align: right;\">\n",
              "      <th></th>\n",
              "      <th>C1</th>\n",
              "      <th>C2</th>\n",
              "      <th>C3</th>\n",
              "      <th>C4</th>\n",
              "    </tr>\n",
              "  </thead>\n",
              "  <tbody>\n",
              "    <tr>\n",
              "      <th>0</th>\n",
              "      <td>A</td>\n",
              "      <td>1.0</td>\n",
              "      <td>1.0</td>\n",
              "      <td>1.0</td>\n",
              "    </tr>\n",
              "    <tr>\n",
              "      <th>1</th>\n",
              "      <td>B</td>\n",
              "      <td>1.0</td>\n",
              "      <td>0.0</td>\n",
              "      <td>1.0</td>\n",
              "    </tr>\n",
              "    <tr>\n",
              "      <th>2</th>\n",
              "      <td>C</td>\n",
              "      <td>1.0</td>\n",
              "      <td>1.0</td>\n",
              "      <td>1.0</td>\n",
              "    </tr>\n",
              "    <tr>\n",
              "      <th>3</th>\n",
              "      <td>D</td>\n",
              "      <td>1.0</td>\n",
              "      <td>1.0</td>\n",
              "      <td>1.0</td>\n",
              "    </tr>\n",
              "    <tr>\n",
              "      <th>4</th>\n",
              "      <td>E</td>\n",
              "      <td>0.0</td>\n",
              "      <td>0.0</td>\n",
              "      <td>0.0</td>\n",
              "    </tr>\n",
              "  </tbody>\n",
              "</table>\n",
              "</div>"
            ],
            "text/plain": [
              "  C1   C2   C3   C4\n",
              "0  A  1.0  1.0  1.0\n",
              "1  B  1.0  0.0  1.0\n",
              "2  C  1.0  1.0  1.0\n",
              "3  D  1.0  1.0  1.0\n",
              "4  E  0.0  0.0  0.0"
            ]
          },
          "metadata": {
            "tags": []
          },
          "execution_count": 67
        }
      ]
    },
    {
      "cell_type": "code",
      "metadata": {
        "colab": {
          "base_uri": "https://localhost:8080/",
          "height": 235
        },
        "id": "h80nnZbd6K8A",
        "outputId": "751bd5f7-bb22-4158-f630-d5ea19c24207"
      },
      "source": [
        "df2 = df1.set_index(\"C1\")\n",
        "df2"
      ],
      "execution_count": 68,
      "outputs": [
        {
          "output_type": "execute_result",
          "data": {
            "text/html": [
              "<div>\n",
              "<style scoped>\n",
              "    .dataframe tbody tr th:only-of-type {\n",
              "        vertical-align: middle;\n",
              "    }\n",
              "\n",
              "    .dataframe tbody tr th {\n",
              "        vertical-align: top;\n",
              "    }\n",
              "\n",
              "    .dataframe thead th {\n",
              "        text-align: right;\n",
              "    }\n",
              "</style>\n",
              "<table border=\"1\" class=\"dataframe\">\n",
              "  <thead>\n",
              "    <tr style=\"text-align: right;\">\n",
              "      <th></th>\n",
              "      <th>C2</th>\n",
              "      <th>C3</th>\n",
              "      <th>C4</th>\n",
              "    </tr>\n",
              "    <tr>\n",
              "      <th>C1</th>\n",
              "      <th></th>\n",
              "      <th></th>\n",
              "      <th></th>\n",
              "    </tr>\n",
              "  </thead>\n",
              "  <tbody>\n",
              "    <tr>\n",
              "      <th>A</th>\n",
              "      <td>1.0</td>\n",
              "      <td>1.0</td>\n",
              "      <td>1.0</td>\n",
              "    </tr>\n",
              "    <tr>\n",
              "      <th>B</th>\n",
              "      <td>1.0</td>\n",
              "      <td>0.0</td>\n",
              "      <td>1.0</td>\n",
              "    </tr>\n",
              "    <tr>\n",
              "      <th>C</th>\n",
              "      <td>1.0</td>\n",
              "      <td>1.0</td>\n",
              "      <td>1.0</td>\n",
              "    </tr>\n",
              "    <tr>\n",
              "      <th>D</th>\n",
              "      <td>1.0</td>\n",
              "      <td>1.0</td>\n",
              "      <td>1.0</td>\n",
              "    </tr>\n",
              "    <tr>\n",
              "      <th>E</th>\n",
              "      <td>0.0</td>\n",
              "      <td>0.0</td>\n",
              "      <td>0.0</td>\n",
              "    </tr>\n",
              "  </tbody>\n",
              "</table>\n",
              "</div>"
            ],
            "text/plain": [
              "     C2   C3   C4\n",
              "C1               \n",
              "A   1.0  1.0  1.0\n",
              "B   1.0  0.0  1.0\n",
              "C   1.0  1.0  1.0\n",
              "D   1.0  1.0  1.0\n",
              "E   0.0  0.0  0.0"
            ]
          },
          "metadata": {
            "tags": []
          },
          "execution_count": 68
        }
      ]
    },
    {
      "cell_type": "code",
      "metadata": {
        "colab": {
          "base_uri": "https://localhost:8080/",
          "height": 235
        },
        "id": "RjEiUO3N6Kyt",
        "outputId": "e5b87cf7-e7a9-41be-9271-258c266fa3b0"
      },
      "source": [
        "df2.set_index(\"C2\")"
      ],
      "execution_count": 72,
      "outputs": [
        {
          "output_type": "execute_result",
          "data": {
            "text/html": [
              "<div>\n",
              "<style scoped>\n",
              "    .dataframe tbody tr th:only-of-type {\n",
              "        vertical-align: middle;\n",
              "    }\n",
              "\n",
              "    .dataframe tbody tr th {\n",
              "        vertical-align: top;\n",
              "    }\n",
              "\n",
              "    .dataframe thead th {\n",
              "        text-align: right;\n",
              "    }\n",
              "</style>\n",
              "<table border=\"1\" class=\"dataframe\">\n",
              "  <thead>\n",
              "    <tr style=\"text-align: right;\">\n",
              "      <th></th>\n",
              "      <th>C3</th>\n",
              "      <th>C4</th>\n",
              "    </tr>\n",
              "    <tr>\n",
              "      <th>C2</th>\n",
              "      <th></th>\n",
              "      <th></th>\n",
              "    </tr>\n",
              "  </thead>\n",
              "  <tbody>\n",
              "    <tr>\n",
              "      <th>1.0</th>\n",
              "      <td>1.0</td>\n",
              "      <td>1.0</td>\n",
              "    </tr>\n",
              "    <tr>\n",
              "      <th>1.0</th>\n",
              "      <td>0.0</td>\n",
              "      <td>1.0</td>\n",
              "    </tr>\n",
              "    <tr>\n",
              "      <th>1.0</th>\n",
              "      <td>1.0</td>\n",
              "      <td>1.0</td>\n",
              "    </tr>\n",
              "    <tr>\n",
              "      <th>1.0</th>\n",
              "      <td>1.0</td>\n",
              "      <td>1.0</td>\n",
              "    </tr>\n",
              "    <tr>\n",
              "      <th>0.0</th>\n",
              "      <td>0.0</td>\n",
              "      <td>0.0</td>\n",
              "    </tr>\n",
              "  </tbody>\n",
              "</table>\n",
              "</div>"
            ],
            "text/plain": [
              "      C3   C4\n",
              "C2           \n",
              "1.0  1.0  1.0\n",
              "1.0  0.0  1.0\n",
              "1.0  1.0  1.0\n",
              "1.0  1.0  1.0\n",
              "0.0  0.0  0.0"
            ]
          },
          "metadata": {
            "tags": []
          },
          "execution_count": 72
        }
      ]
    },
    {
      "cell_type": "code",
      "metadata": {
        "colab": {
          "base_uri": "https://localhost:8080/",
          "height": 204
        },
        "id": "xuSPXd9s5nW0",
        "outputId": "7bc0ced8-b1ec-4185-9a8d-e32fdbc8ce40"
      },
      "source": [
        "df2.reset_index()"
      ],
      "execution_count": 74,
      "outputs": [
        {
          "output_type": "execute_result",
          "data": {
            "text/html": [
              "<div>\n",
              "<style scoped>\n",
              "    .dataframe tbody tr th:only-of-type {\n",
              "        vertical-align: middle;\n",
              "    }\n",
              "\n",
              "    .dataframe tbody tr th {\n",
              "        vertical-align: top;\n",
              "    }\n",
              "\n",
              "    .dataframe thead th {\n",
              "        text-align: right;\n",
              "    }\n",
              "</style>\n",
              "<table border=\"1\" class=\"dataframe\">\n",
              "  <thead>\n",
              "    <tr style=\"text-align: right;\">\n",
              "      <th></th>\n",
              "      <th>C1</th>\n",
              "      <th>C2</th>\n",
              "      <th>C3</th>\n",
              "      <th>C4</th>\n",
              "    </tr>\n",
              "  </thead>\n",
              "  <tbody>\n",
              "    <tr>\n",
              "      <th>0</th>\n",
              "      <td>A</td>\n",
              "      <td>1.0</td>\n",
              "      <td>1.0</td>\n",
              "      <td>1.0</td>\n",
              "    </tr>\n",
              "    <tr>\n",
              "      <th>1</th>\n",
              "      <td>B</td>\n",
              "      <td>1.0</td>\n",
              "      <td>0.0</td>\n",
              "      <td>1.0</td>\n",
              "    </tr>\n",
              "    <tr>\n",
              "      <th>2</th>\n",
              "      <td>C</td>\n",
              "      <td>1.0</td>\n",
              "      <td>1.0</td>\n",
              "      <td>1.0</td>\n",
              "    </tr>\n",
              "    <tr>\n",
              "      <th>3</th>\n",
              "      <td>D</td>\n",
              "      <td>1.0</td>\n",
              "      <td>1.0</td>\n",
              "      <td>1.0</td>\n",
              "    </tr>\n",
              "    <tr>\n",
              "      <th>4</th>\n",
              "      <td>E</td>\n",
              "      <td>0.0</td>\n",
              "      <td>0.0</td>\n",
              "      <td>0.0</td>\n",
              "    </tr>\n",
              "  </tbody>\n",
              "</table>\n",
              "</div>"
            ],
            "text/plain": [
              "  C1   C2   C3   C4\n",
              "0  A  1.0  1.0  1.0\n",
              "1  B  1.0  0.0  1.0\n",
              "2  C  1.0  1.0  1.0\n",
              "3  D  1.0  1.0  1.0\n",
              "4  E  0.0  0.0  0.0"
            ]
          },
          "metadata": {
            "tags": []
          },
          "execution_count": 74
        }
      ]
    },
    {
      "cell_type": "code",
      "metadata": {
        "colab": {
          "base_uri": "https://localhost:8080/",
          "height": 204
        },
        "id": "SDszx7cA95Yk",
        "outputId": "c95136d7-fd0f-4671-a9f9-66ba2b6cb37f"
      },
      "source": [
        "# 기존 index는 drop 시키기\n",
        "df2.reset_index(drop = True)"
      ],
      "execution_count": 76,
      "outputs": [
        {
          "output_type": "execute_result",
          "data": {
            "text/html": [
              "<div>\n",
              "<style scoped>\n",
              "    .dataframe tbody tr th:only-of-type {\n",
              "        vertical-align: middle;\n",
              "    }\n",
              "\n",
              "    .dataframe tbody tr th {\n",
              "        vertical-align: top;\n",
              "    }\n",
              "\n",
              "    .dataframe thead th {\n",
              "        text-align: right;\n",
              "    }\n",
              "</style>\n",
              "<table border=\"1\" class=\"dataframe\">\n",
              "  <thead>\n",
              "    <tr style=\"text-align: right;\">\n",
              "      <th></th>\n",
              "      <th>C2</th>\n",
              "      <th>C3</th>\n",
              "      <th>C4</th>\n",
              "    </tr>\n",
              "  </thead>\n",
              "  <tbody>\n",
              "    <tr>\n",
              "      <th>0</th>\n",
              "      <td>1.0</td>\n",
              "      <td>1.0</td>\n",
              "      <td>1.0</td>\n",
              "    </tr>\n",
              "    <tr>\n",
              "      <th>1</th>\n",
              "      <td>1.0</td>\n",
              "      <td>0.0</td>\n",
              "      <td>1.0</td>\n",
              "    </tr>\n",
              "    <tr>\n",
              "      <th>2</th>\n",
              "      <td>1.0</td>\n",
              "      <td>1.0</td>\n",
              "      <td>1.0</td>\n",
              "    </tr>\n",
              "    <tr>\n",
              "      <th>3</th>\n",
              "      <td>1.0</td>\n",
              "      <td>1.0</td>\n",
              "      <td>1.0</td>\n",
              "    </tr>\n",
              "    <tr>\n",
              "      <th>4</th>\n",
              "      <td>0.0</td>\n",
              "      <td>0.0</td>\n",
              "      <td>0.0</td>\n",
              "    </tr>\n",
              "  </tbody>\n",
              "</table>\n",
              "</div>"
            ],
            "text/plain": [
              "    C2   C3   C4\n",
              "0  1.0  1.0  1.0\n",
              "1  1.0  0.0  1.0\n",
              "2  1.0  1.0  1.0\n",
              "3  1.0  1.0  1.0\n",
              "4  0.0  0.0  0.0"
            ]
          },
          "metadata": {
            "tags": []
          },
          "execution_count": 76
        }
      ]
    },
    {
      "cell_type": "markdown",
      "metadata": {
        "id": "4Be1-zzP-uUL"
      },
      "source": [
        "#### 2) 다중 인덱스 조작"
      ]
    },
    {
      "cell_type": "code",
      "metadata": {
        "colab": {
          "base_uri": "https://localhost:8080/",
          "height": 235
        },
        "id": "zBvew0Pv-xCy",
        "outputId": "15b708c1-812a-469a-f9c9-fd0272e93b49"
      },
      "source": [
        "np.random.seed(0)\n",
        "\n",
        "df2 = pd.DataFrame(np.vstack([list(\"ABCDE\"), np.round(np.random.rand(3, 5))]).T,\n",
        "             columns = [[\"A\", \"A\", \"B\", \"B\"], [\"C1\", \"C2\", \"C1\", \"C2\"]])\n",
        "\n",
        "df2\n",
        "\n",
        "df2.columns.names = [\"Cidx1\", \"Cidx2\"]\n",
        "df2"
      ],
      "execution_count": 79,
      "outputs": [
        {
          "output_type": "execute_result",
          "data": {
            "text/html": [
              "<div>\n",
              "<style scoped>\n",
              "    .dataframe tbody tr th:only-of-type {\n",
              "        vertical-align: middle;\n",
              "    }\n",
              "\n",
              "    .dataframe tbody tr th {\n",
              "        vertical-align: top;\n",
              "    }\n",
              "\n",
              "    .dataframe thead tr th {\n",
              "        text-align: left;\n",
              "    }\n",
              "</style>\n",
              "<table border=\"1\" class=\"dataframe\">\n",
              "  <thead>\n",
              "    <tr>\n",
              "      <th>Cidx1</th>\n",
              "      <th colspan=\"2\" halign=\"left\">A</th>\n",
              "      <th colspan=\"2\" halign=\"left\">B</th>\n",
              "    </tr>\n",
              "    <tr>\n",
              "      <th>Cidx2</th>\n",
              "      <th>C1</th>\n",
              "      <th>C2</th>\n",
              "      <th>C1</th>\n",
              "      <th>C2</th>\n",
              "    </tr>\n",
              "  </thead>\n",
              "  <tbody>\n",
              "    <tr>\n",
              "      <th>0</th>\n",
              "      <td>A</td>\n",
              "      <td>1.0</td>\n",
              "      <td>1.0</td>\n",
              "      <td>1.0</td>\n",
              "    </tr>\n",
              "    <tr>\n",
              "      <th>1</th>\n",
              "      <td>B</td>\n",
              "      <td>1.0</td>\n",
              "      <td>0.0</td>\n",
              "      <td>1.0</td>\n",
              "    </tr>\n",
              "    <tr>\n",
              "      <th>2</th>\n",
              "      <td>C</td>\n",
              "      <td>1.0</td>\n",
              "      <td>1.0</td>\n",
              "      <td>1.0</td>\n",
              "    </tr>\n",
              "    <tr>\n",
              "      <th>3</th>\n",
              "      <td>D</td>\n",
              "      <td>1.0</td>\n",
              "      <td>1.0</td>\n",
              "      <td>1.0</td>\n",
              "    </tr>\n",
              "    <tr>\n",
              "      <th>4</th>\n",
              "      <td>E</td>\n",
              "      <td>0.0</td>\n",
              "      <td>0.0</td>\n",
              "      <td>0.0</td>\n",
              "    </tr>\n",
              "  </tbody>\n",
              "</table>\n",
              "</div>"
            ],
            "text/plain": [
              "Cidx1  A         B     \n",
              "Cidx2 C1   C2   C1   C2\n",
              "0      A  1.0  1.0  1.0\n",
              "1      B  1.0  0.0  1.0\n",
              "2      C  1.0  1.0  1.0\n",
              "3      D  1.0  1.0  1.0\n",
              "4      E  0.0  0.0  0.0"
            ]
          },
          "metadata": {
            "tags": []
          },
          "execution_count": 79
        }
      ]
    },
    {
      "cell_type": "code",
      "metadata": {
        "colab": {
          "base_uri": "https://localhost:8080/"
        },
        "id": "CAA-qzOG-w_9",
        "outputId": "abddcba2-022b-4622-8b7d-60e875057281"
      },
      "source": [
        "# 인덱싱\n",
        "\n",
        "df2[(\"A\", \"C1\")]\n",
        "df2[(\"B\", \"C1\")]\n",
        "df2[(\"B\", \"C2\")]\n",
        "\n",
        "print(df2[(\"B\", \"C1\")][0])\n",
        "print(df2[(\"B\", \"C1\")][0:])\n",
        "\n",
        "print(\"=\"*40)\n",
        "\n",
        "print(df2.loc[0, (\"B\", \"C1\")])\n",
        "print(df2.loc[0:, (\"B\", \"C1\")])\n",
        "\n",
        "print(\"=\"*40)\n",
        "\n",
        "print(df2.iloc[0:, 2])"
      ],
      "execution_count": 89,
      "outputs": [
        {
          "output_type": "stream",
          "text": [
            "1.0\n",
            "0    1.0\n",
            "1    0.0\n",
            "2    1.0\n",
            "3    1.0\n",
            "4    0.0\n",
            "Name: (B, C1), dtype: object\n",
            "========================================\n",
            "1.0\n",
            "0    1.0\n",
            "1    0.0\n",
            "2    1.0\n",
            "3    1.0\n",
            "4    0.0\n",
            "Name: (B, C1), dtype: object\n",
            "========================================\n",
            "0    1.0\n",
            "1    0.0\n",
            "2    1.0\n",
            "3    1.0\n",
            "4    0.0\n",
            "Name: (B, C1), dtype: object\n"
          ],
          "name": "stdout"
        }
      ]
    },
    {
      "cell_type": "code",
      "metadata": {
        "colab": {
          "base_uri": "https://localhost:8080/",
          "height": 297
        },
        "id": "aiuA2hjc-w81",
        "outputId": "bbe74225-de29-4148-e3a6-61026a2d3a64"
      },
      "source": [
        "# 다중 컬럼과 다중 인덱스\n",
        "\n",
        "df3 = pd.DataFrame(np.round(np.random.rand(6, 4), 2),\n",
        "                   columns = [[\"A\", \"A\", \"B\", \"B\"], [\"C\", \"D\", \"C\", \"D\"]],\n",
        "                   index = [[\"M\", \"M\", \"M\", \"F\", \"F\", \"F\"], \n",
        "                            [\"id_\" + str(i+1) for i in range(3)] * 2])\n",
        "df3\n",
        "\n",
        "df3.columns.names = [\"Cidx1\", \"Cidx2\"]\n",
        "df3.index.names = [\"Ridx1\", \"Ridx2\"]\n",
        "df3"
      ],
      "execution_count": 96,
      "outputs": [
        {
          "output_type": "execute_result",
          "data": {
            "text/html": [
              "<div>\n",
              "<style scoped>\n",
              "    .dataframe tbody tr th:only-of-type {\n",
              "        vertical-align: middle;\n",
              "    }\n",
              "\n",
              "    .dataframe tbody tr th {\n",
              "        vertical-align: top;\n",
              "    }\n",
              "\n",
              "    .dataframe thead tr th {\n",
              "        text-align: left;\n",
              "    }\n",
              "\n",
              "    .dataframe thead tr:last-of-type th {\n",
              "        text-align: right;\n",
              "    }\n",
              "</style>\n",
              "<table border=\"1\" class=\"dataframe\">\n",
              "  <thead>\n",
              "    <tr>\n",
              "      <th></th>\n",
              "      <th>Cidx1</th>\n",
              "      <th colspan=\"2\" halign=\"left\">A</th>\n",
              "      <th colspan=\"2\" halign=\"left\">B</th>\n",
              "    </tr>\n",
              "    <tr>\n",
              "      <th></th>\n",
              "      <th>Cidx2</th>\n",
              "      <th>C</th>\n",
              "      <th>D</th>\n",
              "      <th>C</th>\n",
              "      <th>D</th>\n",
              "    </tr>\n",
              "    <tr>\n",
              "      <th>Ridx1</th>\n",
              "      <th>Ridx2</th>\n",
              "      <th></th>\n",
              "      <th></th>\n",
              "      <th></th>\n",
              "      <th></th>\n",
              "    </tr>\n",
              "  </thead>\n",
              "  <tbody>\n",
              "    <tr>\n",
              "      <th rowspan=\"3\" valign=\"top\">M</th>\n",
              "      <th>id_1</th>\n",
              "      <td>0.59</td>\n",
              "      <td>0.57</td>\n",
              "      <td>0.65</td>\n",
              "      <td>0.65</td>\n",
              "    </tr>\n",
              "    <tr>\n",
              "      <th>id_2</th>\n",
              "      <td>0.43</td>\n",
              "      <td>0.90</td>\n",
              "      <td>0.37</td>\n",
              "      <td>0.44</td>\n",
              "    </tr>\n",
              "    <tr>\n",
              "      <th>id_3</th>\n",
              "      <td>0.89</td>\n",
              "      <td>0.81</td>\n",
              "      <td>0.70</td>\n",
              "      <td>0.10</td>\n",
              "    </tr>\n",
              "    <tr>\n",
              "      <th rowspan=\"3\" valign=\"top\">F</th>\n",
              "      <th>id_1</th>\n",
              "      <td>0.92</td>\n",
              "      <td>0.71</td>\n",
              "      <td>1.00</td>\n",
              "      <td>0.15</td>\n",
              "    </tr>\n",
              "    <tr>\n",
              "      <th>id_2</th>\n",
              "      <td>0.87</td>\n",
              "      <td>0.16</td>\n",
              "      <td>0.62</td>\n",
              "      <td>0.12</td>\n",
              "    </tr>\n",
              "    <tr>\n",
              "      <th>id_3</th>\n",
              "      <td>0.85</td>\n",
              "      <td>0.81</td>\n",
              "      <td>0.57</td>\n",
              "      <td>0.41</td>\n",
              "    </tr>\n",
              "  </tbody>\n",
              "</table>\n",
              "</div>"
            ],
            "text/plain": [
              "Cidx1           A           B      \n",
              "Cidx2           C     D     C     D\n",
              "Ridx1 Ridx2                        \n",
              "M     id_1   0.59  0.57  0.65  0.65\n",
              "      id_2   0.43  0.90  0.37  0.44\n",
              "      id_3   0.89  0.81  0.70  0.10\n",
              "F     id_1   0.92  0.71  1.00  0.15\n",
              "      id_2   0.87  0.16  0.62  0.12\n",
              "      id_3   0.85  0.81  0.57  0.41"
            ]
          },
          "metadata": {
            "tags": []
          },
          "execution_count": 96
        }
      ]
    },
    {
      "cell_type": "code",
      "metadata": {
        "colab": {
          "base_uri": "https://localhost:8080/"
        },
        "id": "4i_NeLwf-w5k",
        "outputId": "1ec31927-f07e-487f-8092-b2605546fbc7"
      },
      "source": [
        "#### 행 인덱스와 열 인덱스를 교환 : stack(), unstack()\n",
        "\n",
        "print(df3.T)\n",
        "\n",
        "print(\"=\"*40)\n",
        "\n",
        "print(df3.stack(\"Cidx1\"))\n",
        "print(df3.stack(1))\n",
        "\n",
        "print(\"=\"*40)\n",
        "\n",
        "print(df3.unstack(\"Ridx1\"))\n",
        "print(df3.unstack(1))"
      ],
      "execution_count": 103,
      "outputs": [
        {
          "output_type": "stream",
          "text": [
            "Ridx1           M                 F            \n",
            "Ridx2        id_1  id_2  id_3  id_1  id_2  id_3\n",
            "Cidx1 Cidx2                                    \n",
            "A     C      0.59  0.43  0.89  0.92  0.87  0.85\n",
            "      D      0.57  0.90  0.81  0.71  0.16  0.81\n",
            "B     C      0.65  0.37  0.70  1.00  0.62  0.57\n",
            "      D      0.65  0.44  0.10  0.15  0.12  0.41\n",
            "========================================\n",
            "Cidx2                 C     D\n",
            "Ridx1 Ridx2 Cidx1            \n",
            "M     id_1  A      0.59  0.57\n",
            "            B      0.65  0.65\n",
            "      id_2  A      0.43  0.90\n",
            "            B      0.37  0.44\n",
            "      id_3  A      0.89  0.81\n",
            "            B      0.70  0.10\n",
            "F     id_1  A      0.92  0.71\n",
            "            B      1.00  0.15\n",
            "      id_2  A      0.87  0.16\n",
            "            B      0.62  0.12\n",
            "      id_3  A      0.85  0.81\n",
            "            B      0.57  0.41\n",
            "Cidx1                 A     B\n",
            "Ridx1 Ridx2 Cidx2            \n",
            "M     id_1  C      0.59  0.65\n",
            "            D      0.57  0.65\n",
            "      id_2  C      0.43  0.37\n",
            "            D      0.90  0.44\n",
            "      id_3  C      0.89  0.70\n",
            "            D      0.81  0.10\n",
            "F     id_1  C      0.92  1.00\n",
            "            D      0.71  0.15\n",
            "      id_2  C      0.87  0.62\n",
            "            D      0.16  0.12\n",
            "      id_3  C      0.85  0.57\n",
            "            D      0.81  0.41\n",
            "========================================\n",
            "Cidx1     A                       B                  \n",
            "Cidx2     C           D           C           D      \n",
            "Ridx1     F     M     F     M     F     M     F     M\n",
            "Ridx2                                                \n",
            "id_1   0.92  0.59  0.71  0.57  1.00  0.65  0.15  0.65\n",
            "id_2   0.87  0.43  0.16  0.90  0.62  0.37  0.12  0.44\n",
            "id_3   0.85  0.89  0.81  0.81  0.57  0.70  0.41  0.10\n",
            "Cidx1     A                                   B                              \n",
            "Cidx2     C                 D                 C                 D            \n",
            "Ridx2  id_1  id_2  id_3  id_1  id_2  id_3  id_1  id_2  id_3  id_1  id_2  id_3\n",
            "Ridx1                                                                        \n",
            "F      0.92  0.87  0.85  0.71  0.16  0.81  1.00  0.62  0.57  0.15  0.12  0.41\n",
            "M      0.59  0.43  0.89  0.57  0.90  0.81  0.65  0.37  0.70  0.65  0.44  0.10\n"
          ],
          "name": "stdout"
        }
      ]
    },
    {
      "cell_type": "code",
      "metadata": {
        "colab": {
          "base_uri": "https://localhost:8080/",
          "height": 814
        },
        "id": "OZauY8Bo95Th",
        "outputId": "f1477909-b03c-4b0c-b7ef-6cb71c239731"
      },
      "source": [
        "#### 인덱싱\n",
        "\n",
        "print(df3)\n",
        "print(\"=\"*40)\n",
        "\n",
        "# 첫번째 행과 첫번째 열에 있는 0.24값을 출력\n",
        "print(df3.loc[(\"M\", \"id_1\"), (\"A\", \"C\")])\n",
        "print(\"=\"*40)\n",
        "\n",
        "# 첫번째 열에 있는 0.24 ~ 0.43까지 출력\n",
        "print(df3.iloc[:5, 0])\n",
        "print(\"=\"*40)\n",
        "\n",
        "# 첫번째 행에 모든 컬럼값들을 출력\n",
        "print(df3.loc[(\"M\", \"id_1\"), :])\n",
        "print(\"=\"*40)\n",
        "\n",
        "# 맨 마지막 행에 \"All\"이라는 인덱스를 추가하여 각 열의 합을 출력\n",
        "df3.loc[(\"ALL\", \"ALL\"), :] = df3.sum()\n",
        "df3"
      ],
      "execution_count": 113,
      "outputs": [
        {
          "output_type": "stream",
          "text": [
            "Cidx1           A           B      \n",
            "Cidx2           C     D     C     D\n",
            "Ridx1 Ridx2                        \n",
            "M     id_1   0.59  0.57  0.65  0.65\n",
            "      id_2   0.43  0.90  0.37  0.44\n",
            "      id_3   0.89  0.81  0.70  0.10\n",
            "F     id_1   0.92  0.71  1.00  0.15\n",
            "      id_2   0.87  0.16  0.62  0.12\n",
            "      id_3   0.85  0.81  0.57  0.41\n",
            "========================================\n",
            "0.59\n",
            "========================================\n",
            "Ridx1  Ridx2\n",
            "M      id_1     0.59\n",
            "       id_2     0.43\n",
            "       id_3     0.89\n",
            "F      id_1     0.92\n",
            "       id_2     0.87\n",
            "Name: (A, C), dtype: float64\n",
            "========================================\n",
            "Cidx1  Cidx2\n",
            "A      C        0.59\n",
            "       D        0.57\n",
            "B      C        0.65\n",
            "       D        0.65\n",
            "Name: (M, id_1), dtype: float64\n",
            "========================================\n"
          ],
          "name": "stdout"
        },
        {
          "output_type": "execute_result",
          "data": {
            "text/html": [
              "<div>\n",
              "<style scoped>\n",
              "    .dataframe tbody tr th:only-of-type {\n",
              "        vertical-align: middle;\n",
              "    }\n",
              "\n",
              "    .dataframe tbody tr th {\n",
              "        vertical-align: top;\n",
              "    }\n",
              "\n",
              "    .dataframe thead tr th {\n",
              "        text-align: left;\n",
              "    }\n",
              "\n",
              "    .dataframe thead tr:last-of-type th {\n",
              "        text-align: right;\n",
              "    }\n",
              "</style>\n",
              "<table border=\"1\" class=\"dataframe\">\n",
              "  <thead>\n",
              "    <tr>\n",
              "      <th></th>\n",
              "      <th>Cidx1</th>\n",
              "      <th colspan=\"2\" halign=\"left\">A</th>\n",
              "      <th colspan=\"2\" halign=\"left\">B</th>\n",
              "    </tr>\n",
              "    <tr>\n",
              "      <th></th>\n",
              "      <th>Cidx2</th>\n",
              "      <th>C</th>\n",
              "      <th>D</th>\n",
              "      <th>C</th>\n",
              "      <th>D</th>\n",
              "    </tr>\n",
              "    <tr>\n",
              "      <th>Ridx1</th>\n",
              "      <th>Ridx2</th>\n",
              "      <th></th>\n",
              "      <th></th>\n",
              "      <th></th>\n",
              "      <th></th>\n",
              "    </tr>\n",
              "  </thead>\n",
              "  <tbody>\n",
              "    <tr>\n",
              "      <th rowspan=\"3\" valign=\"top\">M</th>\n",
              "      <th>id_1</th>\n",
              "      <td>0.59</td>\n",
              "      <td>0.57</td>\n",
              "      <td>0.65</td>\n",
              "      <td>0.65</td>\n",
              "    </tr>\n",
              "    <tr>\n",
              "      <th>id_2</th>\n",
              "      <td>0.43</td>\n",
              "      <td>0.90</td>\n",
              "      <td>0.37</td>\n",
              "      <td>0.44</td>\n",
              "    </tr>\n",
              "    <tr>\n",
              "      <th>id_3</th>\n",
              "      <td>0.89</td>\n",
              "      <td>0.81</td>\n",
              "      <td>0.70</td>\n",
              "      <td>0.10</td>\n",
              "    </tr>\n",
              "    <tr>\n",
              "      <th rowspan=\"3\" valign=\"top\">F</th>\n",
              "      <th>id_1</th>\n",
              "      <td>0.92</td>\n",
              "      <td>0.71</td>\n",
              "      <td>1.00</td>\n",
              "      <td>0.15</td>\n",
              "    </tr>\n",
              "    <tr>\n",
              "      <th>id_2</th>\n",
              "      <td>0.87</td>\n",
              "      <td>0.16</td>\n",
              "      <td>0.62</td>\n",
              "      <td>0.12</td>\n",
              "    </tr>\n",
              "    <tr>\n",
              "      <th>id_3</th>\n",
              "      <td>0.85</td>\n",
              "      <td>0.81</td>\n",
              "      <td>0.57</td>\n",
              "      <td>0.41</td>\n",
              "    </tr>\n",
              "    <tr>\n",
              "      <th>ALL</th>\n",
              "      <th>ALL</th>\n",
              "      <td>4.55</td>\n",
              "      <td>3.96</td>\n",
              "      <td>3.91</td>\n",
              "      <td>1.87</td>\n",
              "    </tr>\n",
              "  </tbody>\n",
              "</table>\n",
              "</div>"
            ],
            "text/plain": [
              "Cidx1           A           B      \n",
              "Cidx2           C     D     C     D\n",
              "Ridx1 Ridx2                        \n",
              "M     id_1   0.59  0.57  0.65  0.65\n",
              "      id_2   0.43  0.90  0.37  0.44\n",
              "      id_3   0.89  0.81  0.70  0.10\n",
              "F     id_1   0.92  0.71  1.00  0.15\n",
              "      id_2   0.87  0.16  0.62  0.12\n",
              "      id_3   0.85  0.81  0.57  0.41\n",
              "ALL   ALL    4.55  3.96  3.91  1.87"
            ]
          },
          "metadata": {
            "tags": []
          },
          "execution_count": 113
        }
      ]
    },
    {
      "cell_type": "code",
      "metadata": {
        "colab": {
          "base_uri": "https://localhost:8080/",
          "height": 328
        },
        "id": "Zpwp7R1495LT",
        "outputId": "58ae9fba-ff54-429c-e947-283d58dbb547"
      },
      "source": [
        "#### 순서 교환 : swaplevel(i, j, axis = 0)\n",
        "\n",
        "df4 = df3.swaplevel(\"Ridx1\", \"Ridx2\")\n",
        "df4\n",
        "\n",
        "df5 = df3.swaplevel(\"Cidx1\", \"Cidx2\", axis = 1)\n",
        "df5"
      ],
      "execution_count": 115,
      "outputs": [
        {
          "output_type": "execute_result",
          "data": {
            "text/html": [
              "<div>\n",
              "<style scoped>\n",
              "    .dataframe tbody tr th:only-of-type {\n",
              "        vertical-align: middle;\n",
              "    }\n",
              "\n",
              "    .dataframe tbody tr th {\n",
              "        vertical-align: top;\n",
              "    }\n",
              "\n",
              "    .dataframe thead tr th {\n",
              "        text-align: left;\n",
              "    }\n",
              "\n",
              "    .dataframe thead tr:last-of-type th {\n",
              "        text-align: right;\n",
              "    }\n",
              "</style>\n",
              "<table border=\"1\" class=\"dataframe\">\n",
              "  <thead>\n",
              "    <tr>\n",
              "      <th></th>\n",
              "      <th>Cidx2</th>\n",
              "      <th>C</th>\n",
              "      <th>D</th>\n",
              "      <th>C</th>\n",
              "      <th>D</th>\n",
              "    </tr>\n",
              "    <tr>\n",
              "      <th></th>\n",
              "      <th>Cidx1</th>\n",
              "      <th>A</th>\n",
              "      <th>A</th>\n",
              "      <th>B</th>\n",
              "      <th>B</th>\n",
              "    </tr>\n",
              "    <tr>\n",
              "      <th>Ridx1</th>\n",
              "      <th>Ridx2</th>\n",
              "      <th></th>\n",
              "      <th></th>\n",
              "      <th></th>\n",
              "      <th></th>\n",
              "    </tr>\n",
              "  </thead>\n",
              "  <tbody>\n",
              "    <tr>\n",
              "      <th rowspan=\"3\" valign=\"top\">M</th>\n",
              "      <th>id_1</th>\n",
              "      <td>0.59</td>\n",
              "      <td>0.57</td>\n",
              "      <td>0.65</td>\n",
              "      <td>0.65</td>\n",
              "    </tr>\n",
              "    <tr>\n",
              "      <th>id_2</th>\n",
              "      <td>0.43</td>\n",
              "      <td>0.90</td>\n",
              "      <td>0.37</td>\n",
              "      <td>0.44</td>\n",
              "    </tr>\n",
              "    <tr>\n",
              "      <th>id_3</th>\n",
              "      <td>0.89</td>\n",
              "      <td>0.81</td>\n",
              "      <td>0.70</td>\n",
              "      <td>0.10</td>\n",
              "    </tr>\n",
              "    <tr>\n",
              "      <th rowspan=\"3\" valign=\"top\">F</th>\n",
              "      <th>id_1</th>\n",
              "      <td>0.92</td>\n",
              "      <td>0.71</td>\n",
              "      <td>1.00</td>\n",
              "      <td>0.15</td>\n",
              "    </tr>\n",
              "    <tr>\n",
              "      <th>id_2</th>\n",
              "      <td>0.87</td>\n",
              "      <td>0.16</td>\n",
              "      <td>0.62</td>\n",
              "      <td>0.12</td>\n",
              "    </tr>\n",
              "    <tr>\n",
              "      <th>id_3</th>\n",
              "      <td>0.85</td>\n",
              "      <td>0.81</td>\n",
              "      <td>0.57</td>\n",
              "      <td>0.41</td>\n",
              "    </tr>\n",
              "    <tr>\n",
              "      <th>ALL</th>\n",
              "      <th>ALL</th>\n",
              "      <td>4.55</td>\n",
              "      <td>3.96</td>\n",
              "      <td>3.91</td>\n",
              "      <td>1.87</td>\n",
              "    </tr>\n",
              "  </tbody>\n",
              "</table>\n",
              "</div>"
            ],
            "text/plain": [
              "Cidx2           C     D     C     D\n",
              "Cidx1           A     A     B     B\n",
              "Ridx1 Ridx2                        \n",
              "M     id_1   0.59  0.57  0.65  0.65\n",
              "      id_2   0.43  0.90  0.37  0.44\n",
              "      id_3   0.89  0.81  0.70  0.10\n",
              "F     id_1   0.92  0.71  1.00  0.15\n",
              "      id_2   0.87  0.16  0.62  0.12\n",
              "      id_3   0.85  0.81  0.57  0.41\n",
              "ALL   ALL    4.55  3.96  3.91  1.87"
            ]
          },
          "metadata": {
            "tags": []
          },
          "execution_count": 115
        }
      ]
    },
    {
      "cell_type": "code",
      "metadata": {
        "colab": {
          "base_uri": "https://localhost:8080/"
        },
        "id": "nLzsjNTZ5nTx",
        "outputId": "49015927-789e-4f45-aa7a-65e164054dd8"
      },
      "source": [
        "#### 정렬 : sort_index(level)\n",
        "\n",
        "print(df3)\n",
        "print(\"=\"*40)\n",
        "\n",
        "print(df3.sort_index(level = 0))\n",
        "print(df3.sort_index(level = 1))\n",
        "\n",
        "print(\"=\"*40)\n",
        "\n",
        "print(df3.sort_index(level = 0, axis = 1))\n",
        "print(df3.sort_index(level = 1, axis = 1))\n"
      ],
      "execution_count": 131,
      "outputs": [
        {
          "output_type": "stream",
          "text": [
            "Cidx1           A           B      \n",
            "Cidx2           C     D     C     D\n",
            "Ridx1 Ridx2                        \n",
            "M     id_1   0.59  0.57  0.65  0.65\n",
            "      id_2   0.43  0.90  0.37  0.44\n",
            "      id_3   0.89  0.81  0.70  0.10\n",
            "F     id_1   0.92  0.71  1.00  0.15\n",
            "      id_2   0.87  0.16  0.62  0.12\n",
            "      id_3   0.85  0.81  0.57  0.41\n",
            "ALL   ALL    4.55  3.96  3.91  1.87\n",
            "========================================\n",
            "Cidx1           A           B      \n",
            "Cidx2           C     D     C     D\n",
            "Ridx1 Ridx2                        \n",
            "ALL   ALL    4.55  3.96  3.91  1.87\n",
            "F     id_1   0.92  0.71  1.00  0.15\n",
            "      id_2   0.87  0.16  0.62  0.12\n",
            "      id_3   0.85  0.81  0.57  0.41\n",
            "M     id_1   0.59  0.57  0.65  0.65\n",
            "      id_2   0.43  0.90  0.37  0.44\n",
            "      id_3   0.89  0.81  0.70  0.10\n",
            "Cidx1           A           B      \n",
            "Cidx2           C     D     C     D\n",
            "Ridx1 Ridx2                        \n",
            "ALL   ALL    4.55  3.96  3.91  1.87\n",
            "F     id_1   0.92  0.71  1.00  0.15\n",
            "M     id_1   0.59  0.57  0.65  0.65\n",
            "F     id_2   0.87  0.16  0.62  0.12\n",
            "M     id_2   0.43  0.90  0.37  0.44\n",
            "F     id_3   0.85  0.81  0.57  0.41\n",
            "M     id_3   0.89  0.81  0.70  0.10\n",
            "========================================\n",
            "Cidx1           A           B      \n",
            "Cidx2           C     D     C     D\n",
            "Ridx1 Ridx2                        \n",
            "M     id_1   0.59  0.57  0.65  0.65\n",
            "      id_2   0.43  0.90  0.37  0.44\n",
            "      id_3   0.89  0.81  0.70  0.10\n",
            "F     id_1   0.92  0.71  1.00  0.15\n",
            "      id_2   0.87  0.16  0.62  0.12\n",
            "      id_3   0.85  0.81  0.57  0.41\n",
            "ALL   ALL    4.55  3.96  3.91  1.87\n",
            "Cidx1           A     B     A     B\n",
            "Cidx2           C     C     D     D\n",
            "Ridx1 Ridx2                        \n",
            "M     id_1   0.59  0.65  0.57  0.65\n",
            "      id_2   0.43  0.37  0.90  0.44\n",
            "      id_3   0.89  0.70  0.81  0.10\n",
            "F     id_1   0.92  1.00  0.71  0.15\n",
            "      id_2   0.87  0.62  0.16  0.12\n",
            "      id_3   0.85  0.57  0.81  0.41\n",
            "ALL   ALL    4.55  3.91  3.96  1.87\n"
          ],
          "name": "stdout"
        }
      ]
    },
    {
      "cell_type": "markdown",
      "metadata": {
        "id": "nZvc3DnWk37w"
      },
      "source": [
        "#### 3) 실습"
      ]
    },
    {
      "cell_type": "code",
      "metadata": {
        "colab": {
          "base_uri": "https://localhost:8080/",
          "height": 359
        },
        "id": "PAJo_8CUggA9",
        "outputId": "f944c863-8c4d-4f4c-ac82-b62526224693"
      },
      "source": [
        "df_score1 = pd.DataFrame({\n",
        "    \"반\":[\"A\", \"A\", \"B\", \"A\", \"B\", \"B\", \"B\", \"A\", \"B\", \"A\"],\n",
        "    \"번호\" : [1, 2, 1, 3, 2, 3, 4, 4, 5, 5],\n",
        "    \"국어\" : [79, 67, 88, 68, 92, 54, 67, 88, 97, 85],\n",
        "    \"영어\" : [55, 77, 44, 67, 86, 45, 78, 58, 90, 67],\n",
        "    \"수학\" : [57, 45, 76, 68, 89, 67, 99, 78, 89, 90]\n",
        "})\n",
        "df_score1"
      ],
      "execution_count": 132,
      "outputs": [
        {
          "output_type": "execute_result",
          "data": {
            "text/html": [
              "<div>\n",
              "<style scoped>\n",
              "    .dataframe tbody tr th:only-of-type {\n",
              "        vertical-align: middle;\n",
              "    }\n",
              "\n",
              "    .dataframe tbody tr th {\n",
              "        vertical-align: top;\n",
              "    }\n",
              "\n",
              "    .dataframe thead th {\n",
              "        text-align: right;\n",
              "    }\n",
              "</style>\n",
              "<table border=\"1\" class=\"dataframe\">\n",
              "  <thead>\n",
              "    <tr style=\"text-align: right;\">\n",
              "      <th></th>\n",
              "      <th>반</th>\n",
              "      <th>번호</th>\n",
              "      <th>국어</th>\n",
              "      <th>영어</th>\n",
              "      <th>수학</th>\n",
              "    </tr>\n",
              "  </thead>\n",
              "  <tbody>\n",
              "    <tr>\n",
              "      <th>0</th>\n",
              "      <td>A</td>\n",
              "      <td>1</td>\n",
              "      <td>79</td>\n",
              "      <td>55</td>\n",
              "      <td>57</td>\n",
              "    </tr>\n",
              "    <tr>\n",
              "      <th>1</th>\n",
              "      <td>A</td>\n",
              "      <td>2</td>\n",
              "      <td>67</td>\n",
              "      <td>77</td>\n",
              "      <td>45</td>\n",
              "    </tr>\n",
              "    <tr>\n",
              "      <th>2</th>\n",
              "      <td>B</td>\n",
              "      <td>1</td>\n",
              "      <td>88</td>\n",
              "      <td>44</td>\n",
              "      <td>76</td>\n",
              "    </tr>\n",
              "    <tr>\n",
              "      <th>3</th>\n",
              "      <td>A</td>\n",
              "      <td>3</td>\n",
              "      <td>68</td>\n",
              "      <td>67</td>\n",
              "      <td>68</td>\n",
              "    </tr>\n",
              "    <tr>\n",
              "      <th>4</th>\n",
              "      <td>B</td>\n",
              "      <td>2</td>\n",
              "      <td>92</td>\n",
              "      <td>86</td>\n",
              "      <td>89</td>\n",
              "    </tr>\n",
              "    <tr>\n",
              "      <th>5</th>\n",
              "      <td>B</td>\n",
              "      <td>3</td>\n",
              "      <td>54</td>\n",
              "      <td>45</td>\n",
              "      <td>67</td>\n",
              "    </tr>\n",
              "    <tr>\n",
              "      <th>6</th>\n",
              "      <td>B</td>\n",
              "      <td>4</td>\n",
              "      <td>67</td>\n",
              "      <td>78</td>\n",
              "      <td>99</td>\n",
              "    </tr>\n",
              "    <tr>\n",
              "      <th>7</th>\n",
              "      <td>A</td>\n",
              "      <td>4</td>\n",
              "      <td>88</td>\n",
              "      <td>58</td>\n",
              "      <td>78</td>\n",
              "    </tr>\n",
              "    <tr>\n",
              "      <th>8</th>\n",
              "      <td>B</td>\n",
              "      <td>5</td>\n",
              "      <td>97</td>\n",
              "      <td>90</td>\n",
              "      <td>89</td>\n",
              "    </tr>\n",
              "    <tr>\n",
              "      <th>9</th>\n",
              "      <td>A</td>\n",
              "      <td>5</td>\n",
              "      <td>85</td>\n",
              "      <td>67</td>\n",
              "      <td>90</td>\n",
              "    </tr>\n",
              "  </tbody>\n",
              "</table>\n",
              "</div>"
            ],
            "text/plain": [
              "   반  번호  국어  영어  수학\n",
              "0  A   1  79  55  57\n",
              "1  A   2  67  77  45\n",
              "2  B   1  88  44  76\n",
              "3  A   3  68  67  68\n",
              "4  B   2  92  86  89\n",
              "5  B   3  54  45  67\n",
              "6  B   4  67  78  99\n",
              "7  A   4  88  58  78\n",
              "8  B   5  97  90  89\n",
              "9  A   5  85  67  90"
            ]
          },
          "metadata": {
            "tags": []
          },
          "execution_count": 132
        }
      ]
    },
    {
      "cell_type": "code",
      "metadata": {
        "id": "vfo9pZupgf-l"
      },
      "source": [
        "#### 1. 1차 행 인덱스로 \"반\"을 2차 행 인덱스로 \"번호\"를 가지는 데이터 프레임 작성\n",
        "df_score1 = df_score1.set_index([\"반\", \"번호\"])\n",
        "df_score1"
      ],
      "execution_count": null,
      "outputs": []
    },
    {
      "cell_type": "code",
      "metadata": {
        "id": "TX-6nKL14h7u"
      },
      "source": [
        "df_score1.sore_index"
      ],
      "execution_count": null,
      "outputs": []
    },
    {
      "cell_type": "code",
      "metadata": {
        "id": "Zn3ygtZWgf8H"
      },
      "source": [
        "#### 2. 학생의 평균을 나타내는 행을 오른쪽에 추가\n",
        "df_score1[\"평균\"] = df_score1.mean(axis = 1)\n",
        "df_score1"
      ],
      "execution_count": null,
      "outputs": []
    },
    {
      "cell_type": "code",
      "metadata": {
        "id": "M21k6dAfgf5H"
      },
      "source": [
        "#### 3. 행 인덱스로 \"번호\"를 1차 열 인덱스로 \"국어\", \" 영어\", \" 수학\"을, 2차 열 인덱스로 \"반\"을 가지는 데이터 프레임 작성\n",
        "df_score1 = df_score1.unstack(\"반\")\n",
        "df_score1"
      ],
      "execution_count": null,
      "outputs": []
    },
    {
      "cell_type": "code",
      "metadata": {
        "id": "wgxjmXFlleJ7"
      },
      "source": [
        "#### 4. 각 반별 각 과목의 평균을 나타내는 행을 아래에 추가\n",
        "df_score1.loc[(\"평균\"), :] = df_score1.mean(axis = 0)\n",
        "df_score1"
      ],
      "execution_count": null,
      "outputs": []
    },
    {
      "cell_type": "markdown",
      "metadata": {
        "id": "4bGP3tufmq4p"
      },
      "source": [
        "### 5. 데이터 프레임 합성(병합)\n",
        "\n",
        "- merge()\n",
        "    - 두 데이터 프레임의 공통 열 또는 인덱스를 기준으로 두 개의 테이블을 합친다\n",
        "    - 이 때 기준이 되는 열, 행의 데이트럴 key라고 한다\n",
        "- concat()\n",
        "    - 기준열을 사용하지 않고 단순히 데이터를 연결"
      ]
    },
    {
      "cell_type": "markdown",
      "metadata": {
        "id": "XI8kzl_rnen9"
      },
      "source": [
        "#### 1) merge()"
      ]
    },
    {
      "cell_type": "code",
      "metadata": {
        "colab": {
          "base_uri": "https://localhost:8080/"
        },
        "id": "9msG1laHleH1",
        "outputId": "8297cb85-7f82-4728-c5d2-6a57b34f499e"
      },
      "source": [
        "df1 = pd.DataFrame({\n",
        "    \"고객번호\":[1001, 1002, 1003, 1004, 1005, 1006, 1007],\n",
        "    \"이름\":[\"둘리\", \"도우너\", \"또치\", \"길동\", \"희동\", \"마이콜\", \"영희\"]\n",
        "})\n",
        "print(df1)\n",
        "\n",
        "df2 = pd.DataFrame({\n",
        "    \"고객번호\":[1001, 1001, 1005, 1006, 1008, 1001],\n",
        "    \"금액\":[10000, 20000, 15000, 5000, 100000, 30000]\n",
        "})\n",
        "print(df2)"
      ],
      "execution_count": 133,
      "outputs": [
        {
          "output_type": "stream",
          "text": [
            "   고객번호   이름\n",
            "0  1001   둘리\n",
            "1  1002  도우너\n",
            "2  1003   또치\n",
            "3  1004   길동\n",
            "4  1005   희동\n",
            "5  1006  마이콜\n",
            "6  1007   영희\n",
            "   고객번호      금액\n",
            "0  1001   10000\n",
            "1  1001   20000\n",
            "2  1005   15000\n",
            "3  1006    5000\n",
            "4  1008  100000\n",
            "5  1001   30000\n"
          ],
          "name": "stdout"
        }
      ]
    },
    {
      "cell_type": "code",
      "metadata": {
        "colab": {
          "base_uri": "https://localhost:8080/",
          "height": 359
        },
        "id": "eXsEznQQlmcx",
        "outputId": "cc3748c1-d84b-4288-984b-7a83241d1858"
      },
      "source": [
        "pd.merge(df1, df2)\n",
        "pd.merge(df1, df2, how = \"left\")\n",
        "pd.merge(df1, df2, how = \"right\")\n",
        "pd.merge(df1, df2, how = \"outer\")"
      ],
      "execution_count": 135,
      "outputs": [
        {
          "output_type": "execute_result",
          "data": {
            "text/html": [
              "<div>\n",
              "<style scoped>\n",
              "    .dataframe tbody tr th:only-of-type {\n",
              "        vertical-align: middle;\n",
              "    }\n",
              "\n",
              "    .dataframe tbody tr th {\n",
              "        vertical-align: top;\n",
              "    }\n",
              "\n",
              "    .dataframe thead th {\n",
              "        text-align: right;\n",
              "    }\n",
              "</style>\n",
              "<table border=\"1\" class=\"dataframe\">\n",
              "  <thead>\n",
              "    <tr style=\"text-align: right;\">\n",
              "      <th></th>\n",
              "      <th>고객번호</th>\n",
              "      <th>이름</th>\n",
              "      <th>금액</th>\n",
              "    </tr>\n",
              "  </thead>\n",
              "  <tbody>\n",
              "    <tr>\n",
              "      <th>0</th>\n",
              "      <td>1001</td>\n",
              "      <td>둘리</td>\n",
              "      <td>10000.0</td>\n",
              "    </tr>\n",
              "    <tr>\n",
              "      <th>1</th>\n",
              "      <td>1001</td>\n",
              "      <td>둘리</td>\n",
              "      <td>20000.0</td>\n",
              "    </tr>\n",
              "    <tr>\n",
              "      <th>2</th>\n",
              "      <td>1001</td>\n",
              "      <td>둘리</td>\n",
              "      <td>30000.0</td>\n",
              "    </tr>\n",
              "    <tr>\n",
              "      <th>3</th>\n",
              "      <td>1002</td>\n",
              "      <td>도우너</td>\n",
              "      <td>NaN</td>\n",
              "    </tr>\n",
              "    <tr>\n",
              "      <th>4</th>\n",
              "      <td>1003</td>\n",
              "      <td>또치</td>\n",
              "      <td>NaN</td>\n",
              "    </tr>\n",
              "    <tr>\n",
              "      <th>5</th>\n",
              "      <td>1004</td>\n",
              "      <td>길동</td>\n",
              "      <td>NaN</td>\n",
              "    </tr>\n",
              "    <tr>\n",
              "      <th>6</th>\n",
              "      <td>1005</td>\n",
              "      <td>희동</td>\n",
              "      <td>15000.0</td>\n",
              "    </tr>\n",
              "    <tr>\n",
              "      <th>7</th>\n",
              "      <td>1006</td>\n",
              "      <td>마이콜</td>\n",
              "      <td>5000.0</td>\n",
              "    </tr>\n",
              "    <tr>\n",
              "      <th>8</th>\n",
              "      <td>1007</td>\n",
              "      <td>영희</td>\n",
              "      <td>NaN</td>\n",
              "    </tr>\n",
              "    <tr>\n",
              "      <th>9</th>\n",
              "      <td>1008</td>\n",
              "      <td>NaN</td>\n",
              "      <td>100000.0</td>\n",
              "    </tr>\n",
              "  </tbody>\n",
              "</table>\n",
              "</div>"
            ],
            "text/plain": [
              "   고객번호   이름        금액\n",
              "0  1001   둘리   10000.0\n",
              "1  1001   둘리   20000.0\n",
              "2  1001   둘리   30000.0\n",
              "3  1002  도우너       NaN\n",
              "4  1003   또치       NaN\n",
              "5  1004   길동       NaN\n",
              "6  1005   희동   15000.0\n",
              "7  1006  마이콜    5000.0\n",
              "8  1007   영희       NaN\n",
              "9  1008  NaN  100000.0"
            ]
          },
          "metadata": {
            "tags": []
          },
          "execution_count": 135
        }
      ]
    },
    {
      "cell_type": "code",
      "metadata": {
        "colab": {
          "base_uri": "https://localhost:8080/",
          "height": 304
        },
        "id": "9KWkTGyxlmXo",
        "outputId": "7e333bfd-54b7-48c5-a247-b8131199dc4a"
      },
      "source": [
        "#### 키가 여러 개인 경우 \n",
        "\n",
        "df1 = pd.DataFrame({\n",
        "    \"고객명\":[\"춘향\", \"춘향\", \"몽룡\"],\n",
        "    \"날짜\":[\"2019-01-01\", \"2019-01-02\", \"2019-01-03\"], \n",
        "    \"데이터\":[\"20000\", \"30000\", \"100000\"]\n",
        "})\n",
        "\n",
        "df2 = pd.DataFrame({\n",
        "    \"고객명\":[\"춘향\", \"몽룡\"],\n",
        "    \"데이터\":[\"여자\", \"남자\"]\n",
        "})\n",
        "\n",
        "print(df1)\n",
        "print(\"=\"*40)\n",
        "print(df2)\n",
        "\n",
        "print(\"=\"*40)\n",
        "\n",
        "pd.merge(df1, df2, on = \"고객명\")"
      ],
      "execution_count": 138,
      "outputs": [
        {
          "output_type": "stream",
          "text": [
            "  고객명          날짜     데이터\n",
            "0  춘향  2019-01-01   20000\n",
            "1  춘향  2019-01-02   30000\n",
            "2  몽룡  2019-01-03  100000\n",
            "========================================\n",
            "  고객명 데이터\n",
            "0  춘향  여자\n",
            "1  몽룡  남자\n",
            "========================================\n"
          ],
          "name": "stdout"
        },
        {
          "output_type": "execute_result",
          "data": {
            "text/html": [
              "<div>\n",
              "<style scoped>\n",
              "    .dataframe tbody tr th:only-of-type {\n",
              "        vertical-align: middle;\n",
              "    }\n",
              "\n",
              "    .dataframe tbody tr th {\n",
              "        vertical-align: top;\n",
              "    }\n",
              "\n",
              "    .dataframe thead th {\n",
              "        text-align: right;\n",
              "    }\n",
              "</style>\n",
              "<table border=\"1\" class=\"dataframe\">\n",
              "  <thead>\n",
              "    <tr style=\"text-align: right;\">\n",
              "      <th></th>\n",
              "      <th>고객명</th>\n",
              "      <th>날짜</th>\n",
              "      <th>데이터_x</th>\n",
              "      <th>데이터_y</th>\n",
              "    </tr>\n",
              "  </thead>\n",
              "  <tbody>\n",
              "    <tr>\n",
              "      <th>0</th>\n",
              "      <td>춘향</td>\n",
              "      <td>2019-01-01</td>\n",
              "      <td>20000</td>\n",
              "      <td>여자</td>\n",
              "    </tr>\n",
              "    <tr>\n",
              "      <th>1</th>\n",
              "      <td>춘향</td>\n",
              "      <td>2019-01-02</td>\n",
              "      <td>30000</td>\n",
              "      <td>여자</td>\n",
              "    </tr>\n",
              "    <tr>\n",
              "      <th>2</th>\n",
              "      <td>몽룡</td>\n",
              "      <td>2019-01-03</td>\n",
              "      <td>100000</td>\n",
              "      <td>남자</td>\n",
              "    </tr>\n",
              "  </tbody>\n",
              "</table>\n",
              "</div>"
            ],
            "text/plain": [
              "  고객명          날짜   데이터_x 데이터_y\n",
              "0  춘향  2019-01-01   20000    여자\n",
              "1  춘향  2019-01-02   30000    여자\n",
              "2  몽룡  2019-01-03  100000    남자"
            ]
          },
          "metadata": {
            "tags": []
          },
          "execution_count": 138
        }
      ]
    },
    {
      "cell_type": "code",
      "metadata": {
        "colab": {
          "base_uri": "https://localhost:8080/",
          "height": 353
        },
        "id": "v5EQpQb-emiJ",
        "outputId": "a0fcf13b-e0db-41c7-dc26-2543af5a15a3"
      },
      "source": [
        "#### 공통된 키가 없는 경우\n",
        "\n",
        "df1 = pd.DataFrame({\n",
        "    \"이름\":[\"영희\", \"철수\", \"철수\"],\n",
        "    \"성적\":[1, 2, 3]\n",
        "})\n",
        "\n",
        "df2 = pd.DataFrame({\n",
        "    \"성명\":[\"영희\", \"영희\", \"철수\"],\n",
        "    \"점수\":[4, 5, 6]\n",
        "})\n",
        "\n",
        "print(df1)\n",
        "print(\"=\"*40)\n",
        "print(df2)\n",
        "\n",
        "print(\"=\"*40)\n",
        "\n",
        "pd.merge(df1, df2, left_on = \"이름\", right_on = \"성명\")"
      ],
      "execution_count": 140,
      "outputs": [
        {
          "output_type": "stream",
          "text": [
            "   이름  성적\n",
            "0  영희   1\n",
            "1  철수   2\n",
            "2  철수   3\n",
            "========================================\n",
            "   성명  점수\n",
            "0  영희   4\n",
            "1  영희   5\n",
            "2  철수   6\n",
            "========================================\n"
          ],
          "name": "stdout"
        },
        {
          "output_type": "execute_result",
          "data": {
            "text/html": [
              "<div>\n",
              "<style scoped>\n",
              "    .dataframe tbody tr th:only-of-type {\n",
              "        vertical-align: middle;\n",
              "    }\n",
              "\n",
              "    .dataframe tbody tr th {\n",
              "        vertical-align: top;\n",
              "    }\n",
              "\n",
              "    .dataframe thead th {\n",
              "        text-align: right;\n",
              "    }\n",
              "</style>\n",
              "<table border=\"1\" class=\"dataframe\">\n",
              "  <thead>\n",
              "    <tr style=\"text-align: right;\">\n",
              "      <th></th>\n",
              "      <th>이름</th>\n",
              "      <th>성적</th>\n",
              "      <th>성명</th>\n",
              "      <th>점수</th>\n",
              "    </tr>\n",
              "  </thead>\n",
              "  <tbody>\n",
              "    <tr>\n",
              "      <th>0</th>\n",
              "      <td>영희</td>\n",
              "      <td>1</td>\n",
              "      <td>영희</td>\n",
              "      <td>4</td>\n",
              "    </tr>\n",
              "    <tr>\n",
              "      <th>1</th>\n",
              "      <td>영희</td>\n",
              "      <td>1</td>\n",
              "      <td>영희</td>\n",
              "      <td>5</td>\n",
              "    </tr>\n",
              "    <tr>\n",
              "      <th>2</th>\n",
              "      <td>철수</td>\n",
              "      <td>2</td>\n",
              "      <td>철수</td>\n",
              "      <td>6</td>\n",
              "    </tr>\n",
              "    <tr>\n",
              "      <th>3</th>\n",
              "      <td>철수</td>\n",
              "      <td>3</td>\n",
              "      <td>철수</td>\n",
              "      <td>6</td>\n",
              "    </tr>\n",
              "  </tbody>\n",
              "</table>\n",
              "</div>"
            ],
            "text/plain": [
              "   이름  성적  성명  점수\n",
              "0  영희   1  영희   4\n",
              "1  영희   1  영희   5\n",
              "2  철수   2  철수   6\n",
              "3  철수   3  철수   6"
            ]
          },
          "metadata": {
            "tags": []
          },
          "execution_count": 140
        }
      ]
    },
    {
      "cell_type": "code",
      "metadata": {
        "colab": {
          "base_uri": "https://localhost:8080/",
          "height": 492
        },
        "id": "Z42XUoobuBQm",
        "outputId": "a8325580-1da5-464b-c997-74d563ea8420"
      },
      "source": [
        "#### 인덱스를 기준 열로 사용하는 경우(한쪽은 컬럼, 한쪽은 인덱스)\n",
        "df1 = pd.DataFrame({\n",
        "    '도시': ['서울', '서울', '서울', '부산', '부산'],\n",
        "    '연도': [2000, 2005, 2010, 2000, 2005],\n",
        "    '인구': [9853972, 9762546, 9631482, 3655437, 3512547]})\n",
        "print(df1)\n",
        "print(\"------------------------------\")\n",
        "\n",
        "\n",
        "df2 = pd.DataFrame(\n",
        "    np.arange(12).reshape((6, 2)),\n",
        "    index=[['부산', '부산', '서울', '서울', '서울', '서울'],\n",
        "           [2000, 2005, 2000, 2005, 2010, 2015]],\n",
        "    columns=['데이터1', '데이터2'])\n",
        "print(df2)\n",
        "print(\"------------------------------\")\n",
        "df2\n",
        "\n",
        "print(\"=\"*40)\n",
        "\n",
        "pd.merge(df1, df2, left_on = [\"도시\", \"연도\"], right_index = True)"
      ],
      "execution_count": 143,
      "outputs": [
        {
          "output_type": "stream",
          "text": [
            "   도시    연도       인구\n",
            "0  서울  2000  9853972\n",
            "1  서울  2005  9762546\n",
            "2  서울  2010  9631482\n",
            "3  부산  2000  3655437\n",
            "4  부산  2005  3512547\n",
            "------------------------------\n",
            "         데이터1  데이터2\n",
            "부산 2000     0     1\n",
            "   2005     2     3\n",
            "서울 2000     4     5\n",
            "   2005     6     7\n",
            "   2010     8     9\n",
            "   2015    10    11\n",
            "------------------------------\n",
            "========================================\n"
          ],
          "name": "stdout"
        },
        {
          "output_type": "execute_result",
          "data": {
            "text/html": [
              "<div>\n",
              "<style scoped>\n",
              "    .dataframe tbody tr th:only-of-type {\n",
              "        vertical-align: middle;\n",
              "    }\n",
              "\n",
              "    .dataframe tbody tr th {\n",
              "        vertical-align: top;\n",
              "    }\n",
              "\n",
              "    .dataframe thead th {\n",
              "        text-align: right;\n",
              "    }\n",
              "</style>\n",
              "<table border=\"1\" class=\"dataframe\">\n",
              "  <thead>\n",
              "    <tr style=\"text-align: right;\">\n",
              "      <th></th>\n",
              "      <th>도시</th>\n",
              "      <th>연도</th>\n",
              "      <th>인구</th>\n",
              "      <th>데이터1</th>\n",
              "      <th>데이터2</th>\n",
              "    </tr>\n",
              "  </thead>\n",
              "  <tbody>\n",
              "    <tr>\n",
              "      <th>0</th>\n",
              "      <td>서울</td>\n",
              "      <td>2000</td>\n",
              "      <td>9853972</td>\n",
              "      <td>4</td>\n",
              "      <td>5</td>\n",
              "    </tr>\n",
              "    <tr>\n",
              "      <th>1</th>\n",
              "      <td>서울</td>\n",
              "      <td>2005</td>\n",
              "      <td>9762546</td>\n",
              "      <td>6</td>\n",
              "      <td>7</td>\n",
              "    </tr>\n",
              "    <tr>\n",
              "      <th>2</th>\n",
              "      <td>서울</td>\n",
              "      <td>2010</td>\n",
              "      <td>9631482</td>\n",
              "      <td>8</td>\n",
              "      <td>9</td>\n",
              "    </tr>\n",
              "    <tr>\n",
              "      <th>3</th>\n",
              "      <td>부산</td>\n",
              "      <td>2000</td>\n",
              "      <td>3655437</td>\n",
              "      <td>0</td>\n",
              "      <td>1</td>\n",
              "    </tr>\n",
              "    <tr>\n",
              "      <th>4</th>\n",
              "      <td>부산</td>\n",
              "      <td>2005</td>\n",
              "      <td>3512547</td>\n",
              "      <td>2</td>\n",
              "      <td>3</td>\n",
              "    </tr>\n",
              "  </tbody>\n",
              "</table>\n",
              "</div>"
            ],
            "text/plain": [
              "   도시    연도       인구  데이터1  데이터2\n",
              "0  서울  2000  9853972     4     5\n",
              "1  서울  2005  9762546     6     7\n",
              "2  서울  2010  9631482     8     9\n",
              "3  부산  2000  3655437     0     1\n",
              "4  부산  2005  3512547     2     3"
            ]
          },
          "metadata": {
            "tags": []
          },
          "execution_count": 143
        }
      ]
    },
    {
      "cell_type": "code",
      "metadata": {
        "colab": {
          "base_uri": "https://localhost:8080/",
          "height": 420
        },
        "id": "gw3T3qDPuBKm",
        "outputId": "dbaebb09-e323-4c42-ee77-c8d58142f9f9"
      },
      "source": [
        "#### 인덱스를 기준 열로 사용하는 경우(둘 다 인덱스인 경우)\n",
        "\n",
        "df1 = pd.DataFrame(\n",
        "    [[1., 2.], [3., 4.], [5., 6.]],\n",
        "    index=['a', 'c', 'e'],\n",
        "    columns=['서울', '부산'])\n",
        "print(df1)\n",
        "print(\"------------------------------\")\n",
        "\n",
        "\n",
        "df2 = pd.DataFrame(\n",
        "    [[7., 8.], [9., 10.], [11., 12.], [13, 14]],\n",
        "    index=['b', 'c', 'd', 'e'],\n",
        "    columns=['대구', '광주'])\n",
        "print(df2)\n",
        "print(\"------------------------------\")\n",
        "print(\"=\"*40)\n",
        "\n",
        "pd.merge(df1, df2, left_index = True, right_index = True)\n",
        "pd.merge(df1, df2, left_index = True, right_index = True, how = \"outer\")\n",
        "\n",
        "# merge 대신에 join() 사용 가능\n",
        "df1.join(df2, how = \"outer\")"
      ],
      "execution_count": 149,
      "outputs": [
        {
          "output_type": "stream",
          "text": [
            "    서울   부산\n",
            "a  1.0  2.0\n",
            "c  3.0  4.0\n",
            "e  5.0  6.0\n",
            "------------------------------\n",
            "     대구    광주\n",
            "b   7.0   8.0\n",
            "c   9.0  10.0\n",
            "d  11.0  12.0\n",
            "e  13.0  14.0\n",
            "------------------------------\n",
            "========================================\n"
          ],
          "name": "stdout"
        },
        {
          "output_type": "execute_result",
          "data": {
            "text/html": [
              "<div>\n",
              "<style scoped>\n",
              "    .dataframe tbody tr th:only-of-type {\n",
              "        vertical-align: middle;\n",
              "    }\n",
              "\n",
              "    .dataframe tbody tr th {\n",
              "        vertical-align: top;\n",
              "    }\n",
              "\n",
              "    .dataframe thead th {\n",
              "        text-align: right;\n",
              "    }\n",
              "</style>\n",
              "<table border=\"1\" class=\"dataframe\">\n",
              "  <thead>\n",
              "    <tr style=\"text-align: right;\">\n",
              "      <th></th>\n",
              "      <th>서울</th>\n",
              "      <th>부산</th>\n",
              "      <th>대구</th>\n",
              "      <th>광주</th>\n",
              "    </tr>\n",
              "  </thead>\n",
              "  <tbody>\n",
              "    <tr>\n",
              "      <th>a</th>\n",
              "      <td>1.0</td>\n",
              "      <td>2.0</td>\n",
              "      <td>NaN</td>\n",
              "      <td>NaN</td>\n",
              "    </tr>\n",
              "    <tr>\n",
              "      <th>b</th>\n",
              "      <td>NaN</td>\n",
              "      <td>NaN</td>\n",
              "      <td>7.0</td>\n",
              "      <td>8.0</td>\n",
              "    </tr>\n",
              "    <tr>\n",
              "      <th>c</th>\n",
              "      <td>3.0</td>\n",
              "      <td>4.0</td>\n",
              "      <td>9.0</td>\n",
              "      <td>10.0</td>\n",
              "    </tr>\n",
              "    <tr>\n",
              "      <th>d</th>\n",
              "      <td>NaN</td>\n",
              "      <td>NaN</td>\n",
              "      <td>11.0</td>\n",
              "      <td>12.0</td>\n",
              "    </tr>\n",
              "    <tr>\n",
              "      <th>e</th>\n",
              "      <td>5.0</td>\n",
              "      <td>6.0</td>\n",
              "      <td>13.0</td>\n",
              "      <td>14.0</td>\n",
              "    </tr>\n",
              "  </tbody>\n",
              "</table>\n",
              "</div>"
            ],
            "text/plain": [
              "    서울   부산    대구    광주\n",
              "a  1.0  2.0   NaN   NaN\n",
              "b  NaN  NaN   7.0   8.0\n",
              "c  3.0  4.0   9.0  10.0\n",
              "d  NaN  NaN  11.0  12.0\n",
              "e  5.0  6.0  13.0  14.0"
            ]
          },
          "metadata": {
            "tags": []
          },
          "execution_count": 149
        }
      ]
    },
    {
      "cell_type": "markdown",
      "metadata": {
        "id": "2yO5PXI-w9YX"
      },
      "source": [
        "#### 2) concat()"
      ]
    },
    {
      "cell_type": "code",
      "metadata": {
        "colab": {
          "base_uri": "https://localhost:8080/",
          "height": 286
        },
        "id": "xcT7nHHsuBEs",
        "outputId": "f81de89d-cf49-4cf9-b8c4-45f747a22bfd"
      },
      "source": [
        "#### Series에서 사용\n",
        "\n",
        "s1 = pd.Series([0, 1], index = [\"A\", \"B\"])\n",
        "s2 = pd.Series([2, 3, 4], index = [\"A\", \"B\", \"C\"])\n",
        "\n",
        "print(s1)\n",
        "print(s2)\n",
        "print(\"=\"*40)\n",
        "\n",
        "pd.concat([s1, s2])\n",
        "pd.concat([s1, s2], axis = 1)"
      ],
      "execution_count": 152,
      "outputs": [
        {
          "output_type": "stream",
          "text": [
            "A    0\n",
            "B    1\n",
            "dtype: int64\n",
            "A    2\n",
            "B    3\n",
            "C    4\n",
            "dtype: int64\n",
            "========================================\n"
          ],
          "name": "stdout"
        },
        {
          "output_type": "execute_result",
          "data": {
            "text/html": [
              "<div>\n",
              "<style scoped>\n",
              "    .dataframe tbody tr th:only-of-type {\n",
              "        vertical-align: middle;\n",
              "    }\n",
              "\n",
              "    .dataframe tbody tr th {\n",
              "        vertical-align: top;\n",
              "    }\n",
              "\n",
              "    .dataframe thead th {\n",
              "        text-align: right;\n",
              "    }\n",
              "</style>\n",
              "<table border=\"1\" class=\"dataframe\">\n",
              "  <thead>\n",
              "    <tr style=\"text-align: right;\">\n",
              "      <th></th>\n",
              "      <th>0</th>\n",
              "      <th>1</th>\n",
              "    </tr>\n",
              "  </thead>\n",
              "  <tbody>\n",
              "    <tr>\n",
              "      <th>A</th>\n",
              "      <td>0.0</td>\n",
              "      <td>2</td>\n",
              "    </tr>\n",
              "    <tr>\n",
              "      <th>B</th>\n",
              "      <td>1.0</td>\n",
              "      <td>3</td>\n",
              "    </tr>\n",
              "    <tr>\n",
              "      <th>C</th>\n",
              "      <td>NaN</td>\n",
              "      <td>4</td>\n",
              "    </tr>\n",
              "  </tbody>\n",
              "</table>\n",
              "</div>"
            ],
            "text/plain": [
              "     0  1\n",
              "A  0.0  2\n",
              "B  1.0  3\n",
              "C  NaN  4"
            ]
          },
          "metadata": {
            "tags": []
          },
          "execution_count": 152
        }
      ]
    },
    {
      "cell_type": "code",
      "metadata": {
        "colab": {
          "base_uri": "https://localhost:8080/"
        },
        "id": "XYdjlX-XuBAG",
        "outputId": "868e2c24-d9ca-4203-b5b8-2b98c2476e45"
      },
      "source": [
        "#### DataFrame에서 사용\n",
        "df1 = pd.DataFrame(\n",
        "    np.arange(6).reshape(3, 2),\n",
        "    index=['a', 'b', 'c'],\n",
        "    columns=['데이터1', '데이터2'])\n",
        "\n",
        "print(df1)\n",
        "\n",
        "print(\"-------------------------------------\")\n",
        "\n",
        "df2 = pd.DataFrame(\n",
        "    5 + np.arange(4).reshape(2, 2),\n",
        "    index=['a', 'c'],\n",
        "    columns=['데이터3', '데이터4'])\n",
        "\n",
        "print(df2)\n",
        "\n",
        "print(\"-------------------------------------\")\n",
        "print(\"=\"*40)\n",
        "\n",
        "print(pd.concat([df1, df2], axis = 0))\n",
        "print(pd.concat([df1, df2], axis = 1))"
      ],
      "execution_count": 155,
      "outputs": [
        {
          "output_type": "stream",
          "text": [
            "   데이터1  데이터2\n",
            "a     0     1\n",
            "b     2     3\n",
            "c     4     5\n",
            "-------------------------------------\n",
            "   데이터3  데이터4\n",
            "a     5     6\n",
            "c     7     8\n",
            "-------------------------------------\n",
            "========================================\n",
            "   데이터1  데이터2  데이터3  데이터4\n",
            "a   0.0   1.0   NaN   NaN\n",
            "b   2.0   3.0   NaN   NaN\n",
            "c   4.0   5.0   NaN   NaN\n",
            "a   NaN   NaN   5.0   6.0\n",
            "c   NaN   NaN   7.0   8.0\n",
            "   데이터1  데이터2  데이터3  데이터4\n",
            "a     0     1   5.0   6.0\n",
            "b     2     3   NaN   NaN\n",
            "c     4     5   7.0   8.0\n"
          ],
          "name": "stdout"
        }
      ]
    },
    {
      "cell_type": "markdown",
      "metadata": {
        "id": "QP8gGdO0zE93"
      },
      "source": [
        "### 6. 피봇 테이블과 그룹 분석\n",
        "\n",
        "- pivot()\n",
        "    - DataFrame.pivot(index=None, columns=None, values=None)\n",
        "- groupby()\n",
        "    - DataFrame.groupby(by=None, axis=0, level=None, as_index=True, sort=True, group_keys=True, squeeze=`<object object>`, observed=False, dropna=True)\n",
        "- pivot_table()\n",
        "    - DataFrame.pivot_table(values=None, index=None, columns=None, aggfunc='mean', fill_value=None, margins=False, dropna=True, margins_name='All', observed=False)"
      ]
    },
    {
      "cell_type": "markdown",
      "metadata": {
        "id": "k7mqx6Gl7lvq"
      },
      "source": [
        "#### 1) pivot()"
      ]
    },
    {
      "cell_type": "code",
      "metadata": {
        "colab": {
          "base_uri": "https://localhost:8080/",
          "height": 297
        },
        "id": "B2hsaHijuA6_",
        "outputId": "bccb2f54-854b-479a-8b36-e91704059616"
      },
      "source": [
        "data = {\n",
        "    \"도시\": [\"서울\", \"서울\", \"서울\", \"부산\", \"부산\", \"부산\", \"인천\", \"인천\"],\n",
        "    \"연도\": [\"2015\", \"2010\", \"2005\", \"2015\", \"2010\", \"2005\", \"2015\", \"2010\"],\n",
        "    \"인구\": [9904312, 9631482, 9762546, 3448737, 3393191, 3512547, 2890451, 263203],\n",
        "    \"지역\": [\"수도권\", \"수도권\", \"수도권\", \"경상권\", \"경상권\", \"경상권\", \"수도권\", \"수도권\"]\n",
        "}\n",
        "\n",
        "df = pd.DataFrame(data)\n",
        "df"
      ],
      "execution_count": 9,
      "outputs": [
        {
          "output_type": "execute_result",
          "data": {
            "text/html": [
              "<div>\n",
              "<style scoped>\n",
              "    .dataframe tbody tr th:only-of-type {\n",
              "        vertical-align: middle;\n",
              "    }\n",
              "\n",
              "    .dataframe tbody tr th {\n",
              "        vertical-align: top;\n",
              "    }\n",
              "\n",
              "    .dataframe thead th {\n",
              "        text-align: right;\n",
              "    }\n",
              "</style>\n",
              "<table border=\"1\" class=\"dataframe\">\n",
              "  <thead>\n",
              "    <tr style=\"text-align: right;\">\n",
              "      <th></th>\n",
              "      <th>도시</th>\n",
              "      <th>연도</th>\n",
              "      <th>인구</th>\n",
              "      <th>지역</th>\n",
              "    </tr>\n",
              "  </thead>\n",
              "  <tbody>\n",
              "    <tr>\n",
              "      <th>0</th>\n",
              "      <td>서울</td>\n",
              "      <td>2015</td>\n",
              "      <td>9904312</td>\n",
              "      <td>수도권</td>\n",
              "    </tr>\n",
              "    <tr>\n",
              "      <th>1</th>\n",
              "      <td>서울</td>\n",
              "      <td>2010</td>\n",
              "      <td>9631482</td>\n",
              "      <td>수도권</td>\n",
              "    </tr>\n",
              "    <tr>\n",
              "      <th>2</th>\n",
              "      <td>서울</td>\n",
              "      <td>2005</td>\n",
              "      <td>9762546</td>\n",
              "      <td>수도권</td>\n",
              "    </tr>\n",
              "    <tr>\n",
              "      <th>3</th>\n",
              "      <td>부산</td>\n",
              "      <td>2015</td>\n",
              "      <td>3448737</td>\n",
              "      <td>경상권</td>\n",
              "    </tr>\n",
              "    <tr>\n",
              "      <th>4</th>\n",
              "      <td>부산</td>\n",
              "      <td>2010</td>\n",
              "      <td>3393191</td>\n",
              "      <td>경상권</td>\n",
              "    </tr>\n",
              "    <tr>\n",
              "      <th>5</th>\n",
              "      <td>부산</td>\n",
              "      <td>2005</td>\n",
              "      <td>3512547</td>\n",
              "      <td>경상권</td>\n",
              "    </tr>\n",
              "    <tr>\n",
              "      <th>6</th>\n",
              "      <td>인천</td>\n",
              "      <td>2015</td>\n",
              "      <td>2890451</td>\n",
              "      <td>수도권</td>\n",
              "    </tr>\n",
              "    <tr>\n",
              "      <th>7</th>\n",
              "      <td>인천</td>\n",
              "      <td>2010</td>\n",
              "      <td>263203</td>\n",
              "      <td>수도권</td>\n",
              "    </tr>\n",
              "  </tbody>\n",
              "</table>\n",
              "</div>"
            ],
            "text/plain": [
              "   도시    연도       인구   지역\n",
              "0  서울  2015  9904312  수도권\n",
              "1  서울  2010  9631482  수도권\n",
              "2  서울  2005  9762546  수도권\n",
              "3  부산  2015  3448737  경상권\n",
              "4  부산  2010  3393191  경상권\n",
              "5  부산  2005  3512547  경상권\n",
              "6  인천  2015  2890451  수도권\n",
              "7  인천  2010   263203  수도권"
            ]
          },
          "metadata": {
            "tags": []
          },
          "execution_count": 9
        }
      ]
    },
    {
      "cell_type": "code",
      "metadata": {
        "colab": {
          "base_uri": "https://localhost:8080/",
          "height": 173
        },
        "id": "zWTwrX23ztEc",
        "outputId": "c865a3b7-3ba7-46bf-fc66-186adbacee1c"
      },
      "source": [
        "#### 각 도시에서 연도별로 인구 수를 알고싶다\n",
        "\n",
        "df.pivot(index = \"도시\", columns = \"연도\", values = \"인구\")\n",
        "pd.pivot(data = df, index = \"도시\", columns = \"연도\", values = \"인구\")"
      ],
      "execution_count": 12,
      "outputs": [
        {
          "output_type": "execute_result",
          "data": {
            "text/html": [
              "<div>\n",
              "<style scoped>\n",
              "    .dataframe tbody tr th:only-of-type {\n",
              "        vertical-align: middle;\n",
              "    }\n",
              "\n",
              "    .dataframe tbody tr th {\n",
              "        vertical-align: top;\n",
              "    }\n",
              "\n",
              "    .dataframe thead th {\n",
              "        text-align: right;\n",
              "    }\n",
              "</style>\n",
              "<table border=\"1\" class=\"dataframe\">\n",
              "  <thead>\n",
              "    <tr style=\"text-align: right;\">\n",
              "      <th>연도</th>\n",
              "      <th>2005</th>\n",
              "      <th>2010</th>\n",
              "      <th>2015</th>\n",
              "    </tr>\n",
              "    <tr>\n",
              "      <th>도시</th>\n",
              "      <th></th>\n",
              "      <th></th>\n",
              "      <th></th>\n",
              "    </tr>\n",
              "  </thead>\n",
              "  <tbody>\n",
              "    <tr>\n",
              "      <th>부산</th>\n",
              "      <td>3512547.0</td>\n",
              "      <td>3393191.0</td>\n",
              "      <td>3448737.0</td>\n",
              "    </tr>\n",
              "    <tr>\n",
              "      <th>서울</th>\n",
              "      <td>9762546.0</td>\n",
              "      <td>9631482.0</td>\n",
              "      <td>9904312.0</td>\n",
              "    </tr>\n",
              "    <tr>\n",
              "      <th>인천</th>\n",
              "      <td>NaN</td>\n",
              "      <td>263203.0</td>\n",
              "      <td>2890451.0</td>\n",
              "    </tr>\n",
              "  </tbody>\n",
              "</table>\n",
              "</div>"
            ],
            "text/plain": [
              "연도       2005       2010       2015\n",
              "도시                                 \n",
              "부산  3512547.0  3393191.0  3448737.0\n",
              "서울  9762546.0  9631482.0  9904312.0\n",
              "인천        NaN   263203.0  2890451.0"
            ]
          },
          "metadata": {
            "tags": []
          },
          "execution_count": 12
        }
      ]
    },
    {
      "cell_type": "code",
      "metadata": {
        "colab": {
          "base_uri": "https://localhost:8080/",
          "height": 204
        },
        "id": "Hz0OjWaKzs1w",
        "outputId": "a361eacc-89ef-4d49-b46b-b6f39105ca35"
      },
      "source": [
        "df[['도시', '연도', '인구']].set_index(['도시', '연도']).unstack('연도')\n",
        "\n",
        "df.set_index([\"도시\", \"연도\"])[[\"인구\"]].unstack(\"연도\")"
      ],
      "execution_count": 17,
      "outputs": [
        {
          "output_type": "execute_result",
          "data": {
            "text/html": [
              "<div>\n",
              "<style scoped>\n",
              "    .dataframe tbody tr th:only-of-type {\n",
              "        vertical-align: middle;\n",
              "    }\n",
              "\n",
              "    .dataframe tbody tr th {\n",
              "        vertical-align: top;\n",
              "    }\n",
              "\n",
              "    .dataframe thead tr th {\n",
              "        text-align: left;\n",
              "    }\n",
              "\n",
              "    .dataframe thead tr:last-of-type th {\n",
              "        text-align: right;\n",
              "    }\n",
              "</style>\n",
              "<table border=\"1\" class=\"dataframe\">\n",
              "  <thead>\n",
              "    <tr>\n",
              "      <th></th>\n",
              "      <th colspan=\"3\" halign=\"left\">인구</th>\n",
              "    </tr>\n",
              "    <tr>\n",
              "      <th>연도</th>\n",
              "      <th>2005</th>\n",
              "      <th>2010</th>\n",
              "      <th>2015</th>\n",
              "    </tr>\n",
              "    <tr>\n",
              "      <th>도시</th>\n",
              "      <th></th>\n",
              "      <th></th>\n",
              "      <th></th>\n",
              "    </tr>\n",
              "  </thead>\n",
              "  <tbody>\n",
              "    <tr>\n",
              "      <th>부산</th>\n",
              "      <td>3512547.0</td>\n",
              "      <td>3393191.0</td>\n",
              "      <td>3448737.0</td>\n",
              "    </tr>\n",
              "    <tr>\n",
              "      <th>서울</th>\n",
              "      <td>9762546.0</td>\n",
              "      <td>9631482.0</td>\n",
              "      <td>9904312.0</td>\n",
              "    </tr>\n",
              "    <tr>\n",
              "      <th>인천</th>\n",
              "      <td>NaN</td>\n",
              "      <td>263203.0</td>\n",
              "      <td>2890451.0</td>\n",
              "    </tr>\n",
              "  </tbody>\n",
              "</table>\n",
              "</div>"
            ],
            "text/plain": [
              "           인구                      \n",
              "연도       2005       2010       2015\n",
              "도시                                 \n",
              "부산  3512547.0  3393191.0  3448737.0\n",
              "서울  9762546.0  9631482.0  9904312.0\n",
              "인천        NaN   263203.0  2890451.0"
            ]
          },
          "metadata": {
            "tags": []
          },
          "execution_count": 17
        }
      ]
    },
    {
      "cell_type": "markdown",
      "metadata": {
        "id": "1KKTMUDID7CP"
      },
      "source": [
        "#### 2) groupby()\n",
        "\n",
        "- 반드시 집계함수와 같이 사용\n",
        "      size(), count()\n",
        "      mean(), median(), min(), max()\n",
        "      sum(), prod(), std(), var(), quantile()\n",
        "      first(), last()\n",
        "      agg(), aggregate()\n",
        "      describe()\n",
        "      apply()\n",
        "      transform()"
      ]
    },
    {
      "cell_type": "code",
      "metadata": {
        "colab": {
          "base_uri": "https://localhost:8080/",
          "height": 204
        },
        "id": "bIRAbIt-zsyC",
        "outputId": "a055a5ca-3a58-4c6e-f02f-3a22a03aee80"
      },
      "source": [
        "df2 = pd.DataFrame({\n",
        "    \"key1\":[\"A\", \"A\", \"B\", \"B\", \"A\"],\n",
        "    \"key2\":[\"one\", \"two\", \"one\", \"two\", \"one\"],\n",
        "    \"data1\":[1, 2, 3, 4, 5],\n",
        "    \"data2\":[10, 20, 30, 40, 50]\n",
        "})\n",
        "\n",
        "df2"
      ],
      "execution_count": 18,
      "outputs": [
        {
          "output_type": "execute_result",
          "data": {
            "text/html": [
              "<div>\n",
              "<style scoped>\n",
              "    .dataframe tbody tr th:only-of-type {\n",
              "        vertical-align: middle;\n",
              "    }\n",
              "\n",
              "    .dataframe tbody tr th {\n",
              "        vertical-align: top;\n",
              "    }\n",
              "\n",
              "    .dataframe thead th {\n",
              "        text-align: right;\n",
              "    }\n",
              "</style>\n",
              "<table border=\"1\" class=\"dataframe\">\n",
              "  <thead>\n",
              "    <tr style=\"text-align: right;\">\n",
              "      <th></th>\n",
              "      <th>key1</th>\n",
              "      <th>key2</th>\n",
              "      <th>data1</th>\n",
              "      <th>data2</th>\n",
              "    </tr>\n",
              "  </thead>\n",
              "  <tbody>\n",
              "    <tr>\n",
              "      <th>0</th>\n",
              "      <td>A</td>\n",
              "      <td>one</td>\n",
              "      <td>1</td>\n",
              "      <td>10</td>\n",
              "    </tr>\n",
              "    <tr>\n",
              "      <th>1</th>\n",
              "      <td>A</td>\n",
              "      <td>two</td>\n",
              "      <td>2</td>\n",
              "      <td>20</td>\n",
              "    </tr>\n",
              "    <tr>\n",
              "      <th>2</th>\n",
              "      <td>B</td>\n",
              "      <td>one</td>\n",
              "      <td>3</td>\n",
              "      <td>30</td>\n",
              "    </tr>\n",
              "    <tr>\n",
              "      <th>3</th>\n",
              "      <td>B</td>\n",
              "      <td>two</td>\n",
              "      <td>4</td>\n",
              "      <td>40</td>\n",
              "    </tr>\n",
              "    <tr>\n",
              "      <th>4</th>\n",
              "      <td>A</td>\n",
              "      <td>one</td>\n",
              "      <td>5</td>\n",
              "      <td>50</td>\n",
              "    </tr>\n",
              "  </tbody>\n",
              "</table>\n",
              "</div>"
            ],
            "text/plain": [
              "  key1 key2  data1  data2\n",
              "0    A  one      1     10\n",
              "1    A  two      2     20\n",
              "2    B  one      3     30\n",
              "3    B  two      4     40\n",
              "4    A  one      5     50"
            ]
          },
          "metadata": {
            "tags": []
          },
          "execution_count": 18
        }
      ]
    },
    {
      "cell_type": "code",
      "metadata": {
        "colab": {
          "base_uri": "https://localhost:8080/"
        },
        "id": "RYRjkEgGzsm3",
        "outputId": "4e26611b-8726-4d3c-ed55-b944d18f1019"
      },
      "source": [
        "g = df2.groupby(by = \"key1\")\n",
        "print(g)\n",
        "print(g.sum())"
      ],
      "execution_count": 22,
      "outputs": [
        {
          "output_type": "stream",
          "text": [
            "<pandas.core.groupby.generic.DataFrameGroupBy object at 0x7f260631fb50>\n",
            "      data1  data2\n",
            "key1              \n",
            "A         8     80\n",
            "B         7     70\n"
          ],
          "name": "stdout"
        }
      ]
    },
    {
      "cell_type": "code",
      "metadata": {
        "colab": {
          "base_uri": "https://localhost:8080/"
        },
        "id": "o6_NNkI7GXkS",
        "outputId": "3b872604-a9f6-4a51-d486-eda00a905904"
      },
      "source": [
        "#### 다양한 사용 방법\n",
        "\n",
        "print(df2.groupby(\"key1\").sum())\n",
        "print(\"=\"*40)\n",
        "print(df2.data1.groupby(df2.key1).sum())\n",
        "print(\"=\"*40)\n",
        "print(df2.groupby(\"key1\")[\"data1\"].sum())\n",
        "print(\"=\"*40)\n",
        "print(df2.groupby(\"key1\").sum()[\"data1\"])\n",
        "print(\"=\"*40)\n",
        "print(df2.groupby(\"key1\").sum()[[\"data1\"]])"
      ],
      "execution_count": 27,
      "outputs": [
        {
          "output_type": "stream",
          "text": [
            "      data1  data2\n",
            "key1              \n",
            "A         8     80\n",
            "B         7     70\n",
            "========================================\n",
            "key1\n",
            "A    8\n",
            "B    7\n",
            "Name: data1, dtype: int64\n",
            "========================================\n",
            "key1\n",
            "A    8\n",
            "B    7\n",
            "Name: data1, dtype: int64\n",
            "========================================\n",
            "key1\n",
            "A    8\n",
            "B    7\n",
            "Name: data1, dtype: int64\n",
            "========================================\n",
            "      data1\n",
            "key1       \n",
            "A         8\n",
            "B         7\n"
          ],
          "name": "stdout"
        }
      ]
    },
    {
      "cell_type": "code",
      "metadata": {
        "colab": {
          "base_uri": "https://localhost:8080/",
          "height": 250
        },
        "id": "Rbs37yWXGXhY",
        "outputId": "bec201a0-5cb9-4276-bd00-71e4a9eb5a20"
      },
      "source": [
        "#### 복합 키\n",
        "\n",
        "print(df2.data1.groupby([df2.key1, df2.key2]).sum())\n",
        "df2.data1.groupby([df2.key1, df2.key2]).sum().unstack()\n",
        "\n",
        "# df를 이용하여 각 도시에서 연도별로 인구수를 조회\n",
        "df.인구.groupby([df.도시, df.연도]).sum().unstack(\"연도\")\n",
        "\n",
        "# 지역별 합계\n",
        "df.groupby(by = [\"지역\", \"연도\"]).sum().unstack(\"연도\")\n",
        "df.groupby([\"지역\", \"연도\"])[[\"인구\"]].sum().unstack()\n",
        "df.groupby([df[\"지역\"], df[\"연도\"]]).sum().unstack()\n",
        "df[\"인구\"].groupby([df[\"지역\"], df[\"연도\"]]).sum().unstack()"
      ],
      "execution_count": 31,
      "outputs": [
        {
          "output_type": "stream",
          "text": [
            "key1  key2\n",
            "A     one     6\n",
            "      two     2\n",
            "B     one     3\n",
            "      two     4\n",
            "Name: data1, dtype: int64\n"
          ],
          "name": "stdout"
        },
        {
          "output_type": "execute_result",
          "data": {
            "text/html": [
              "<div>\n",
              "<style scoped>\n",
              "    .dataframe tbody tr th:only-of-type {\n",
              "        vertical-align: middle;\n",
              "    }\n",
              "\n",
              "    .dataframe tbody tr th {\n",
              "        vertical-align: top;\n",
              "    }\n",
              "\n",
              "    .dataframe thead th {\n",
              "        text-align: right;\n",
              "    }\n",
              "</style>\n",
              "<table border=\"1\" class=\"dataframe\">\n",
              "  <thead>\n",
              "    <tr style=\"text-align: right;\">\n",
              "      <th>연도</th>\n",
              "      <th>2005</th>\n",
              "      <th>2010</th>\n",
              "      <th>2015</th>\n",
              "    </tr>\n",
              "    <tr>\n",
              "      <th>지역</th>\n",
              "      <th></th>\n",
              "      <th></th>\n",
              "      <th></th>\n",
              "    </tr>\n",
              "  </thead>\n",
              "  <tbody>\n",
              "    <tr>\n",
              "      <th>경상권</th>\n",
              "      <td>3512547</td>\n",
              "      <td>3393191</td>\n",
              "      <td>3448737</td>\n",
              "    </tr>\n",
              "    <tr>\n",
              "      <th>수도권</th>\n",
              "      <td>9762546</td>\n",
              "      <td>9894685</td>\n",
              "      <td>12794763</td>\n",
              "    </tr>\n",
              "  </tbody>\n",
              "</table>\n",
              "</div>"
            ],
            "text/plain": [
              "연도      2005     2010      2015\n",
              "지역                             \n",
              "경상권  3512547  3393191   3448737\n",
              "수도권  9762546  9894685  12794763"
            ]
          },
          "metadata": {
            "tags": []
          },
          "execution_count": 31
        }
      ]
    },
    {
      "cell_type": "code",
      "metadata": {
        "colab": {
          "base_uri": "https://localhost:8080/",
          "height": 204
        },
        "id": "VTcdG6ZiGXd8",
        "outputId": "bf0837e7-7cb6-4258-a868-e9312127dba7"
      },
      "source": [
        "#### apply, agg, transform\n",
        "\n",
        "import seaborn as sns\n",
        "iris = sns.load_dataset(\"iris\")\n",
        "iris.head()"
      ],
      "execution_count": 52,
      "outputs": [
        {
          "output_type": "execute_result",
          "data": {
            "text/html": [
              "<div>\n",
              "<style scoped>\n",
              "    .dataframe tbody tr th:only-of-type {\n",
              "        vertical-align: middle;\n",
              "    }\n",
              "\n",
              "    .dataframe tbody tr th {\n",
              "        vertical-align: top;\n",
              "    }\n",
              "\n",
              "    .dataframe thead th {\n",
              "        text-align: right;\n",
              "    }\n",
              "</style>\n",
              "<table border=\"1\" class=\"dataframe\">\n",
              "  <thead>\n",
              "    <tr style=\"text-align: right;\">\n",
              "      <th></th>\n",
              "      <th>sepal_length</th>\n",
              "      <th>sepal_width</th>\n",
              "      <th>petal_length</th>\n",
              "      <th>petal_width</th>\n",
              "      <th>species</th>\n",
              "    </tr>\n",
              "  </thead>\n",
              "  <tbody>\n",
              "    <tr>\n",
              "      <th>0</th>\n",
              "      <td>5.1</td>\n",
              "      <td>3.5</td>\n",
              "      <td>1.4</td>\n",
              "      <td>0.2</td>\n",
              "      <td>setosa</td>\n",
              "    </tr>\n",
              "    <tr>\n",
              "      <th>1</th>\n",
              "      <td>4.9</td>\n",
              "      <td>3.0</td>\n",
              "      <td>1.4</td>\n",
              "      <td>0.2</td>\n",
              "      <td>setosa</td>\n",
              "    </tr>\n",
              "    <tr>\n",
              "      <th>2</th>\n",
              "      <td>4.7</td>\n",
              "      <td>3.2</td>\n",
              "      <td>1.3</td>\n",
              "      <td>0.2</td>\n",
              "      <td>setosa</td>\n",
              "    </tr>\n",
              "    <tr>\n",
              "      <th>3</th>\n",
              "      <td>4.6</td>\n",
              "      <td>3.1</td>\n",
              "      <td>1.5</td>\n",
              "      <td>0.2</td>\n",
              "      <td>setosa</td>\n",
              "    </tr>\n",
              "    <tr>\n",
              "      <th>4</th>\n",
              "      <td>5.0</td>\n",
              "      <td>3.6</td>\n",
              "      <td>1.4</td>\n",
              "      <td>0.2</td>\n",
              "      <td>setosa</td>\n",
              "    </tr>\n",
              "  </tbody>\n",
              "</table>\n",
              "</div>"
            ],
            "text/plain": [
              "   sepal_length  sepal_width  petal_length  petal_width species\n",
              "0           5.1          3.5           1.4          0.2  setosa\n",
              "1           4.9          3.0           1.4          0.2  setosa\n",
              "2           4.7          3.2           1.3          0.2  setosa\n",
              "3           4.6          3.1           1.5          0.2  setosa\n",
              "4           5.0          3.6           1.4          0.2  setosa"
            ]
          },
          "metadata": {
            "tags": []
          },
          "execution_count": 52
        }
      ]
    },
    {
      "cell_type": "code",
      "metadata": {
        "colab": {
          "base_uri": "https://localhost:8080/"
        },
        "id": "i22-IShzGXbC",
        "outputId": "d9d0d5f4-6a5d-4c91-e1fd-4edd27c4e8ff"
      },
      "source": [
        "def test(x):\n",
        "  return 1\n",
        "\n",
        "################################\n",
        "\n",
        "g = iris.groupby(\"species\")\n",
        "\n",
        "print(g.apply(test))\n",
        "print(\"=\"*40)\n",
        "print(g.agg(test))\n",
        "print(\"=\"*40)\n",
        "print(g.transform(test))"
      ],
      "execution_count": 34,
      "outputs": [
        {
          "output_type": "stream",
          "text": [
            "species\n",
            "setosa        1\n",
            "versicolor    1\n",
            "virginica     1\n",
            "dtype: int64\n",
            "========================================\n",
            "            sepal_length  sepal_width  petal_length  petal_width\n",
            "species                                                         \n",
            "setosa               1.0          1.0           1.0          1.0\n",
            "versicolor           1.0          1.0           1.0          1.0\n",
            "virginica            1.0          1.0           1.0          1.0\n",
            "========================================\n",
            "     sepal_length  sepal_width  petal_length  petal_width\n",
            "0               1            1             1            1\n",
            "1               1            1             1            1\n",
            "2               1            1             1            1\n",
            "3               1            1             1            1\n",
            "4               1            1             1            1\n",
            "..            ...          ...           ...          ...\n",
            "145             1            1             1            1\n",
            "146             1            1             1            1\n",
            "147             1            1             1            1\n",
            "148             1            1             1            1\n",
            "149             1            1             1            1\n",
            "\n",
            "[150 rows x 4 columns]\n"
          ],
          "name": "stdout"
        }
      ]
    },
    {
      "cell_type": "code",
      "metadata": {
        "colab": {
          "base_uri": "https://localhost:8080/"
        },
        "id": "4QpiMZFNUO81",
        "outputId": "e327bf53-852a-4666-8ad9-5c4bb80203b8"
      },
      "source": [
        "# 각 붓꽃별로 가장 큰 값과 가장 작은 값의 비율을 조회\n",
        "\n",
        "def peak_to_peak_ratio(x):\n",
        "  return x.max() / x.min()\n",
        "\n",
        "#####################################\n",
        "\n",
        "print(iris.groupby(iris.species).apply(peak_to_peak_ratio))\n",
        "print(\"=\"*40)\n",
        "print(iris.groupby(iris.species).agg(peak_to_peak_ratio))\n",
        "print(\"=\"*40)\n",
        "print(iris.groupby(iris.species).transform(peak_to_peak_ratio))"
      ],
      "execution_count": 38,
      "outputs": [
        {
          "output_type": "stream",
          "text": [
            "            sepal_length  sepal_width  petal_length  petal_width\n",
            "species                                                         \n",
            "setosa          1.348837     1.913043      1.900000     6.000000\n",
            "versicolor      1.428571     1.700000      1.700000     1.800000\n",
            "virginica       1.612245     1.727273      1.533333     1.785714\n",
            "========================================\n",
            "            sepal_length  sepal_width  petal_length  petal_width\n",
            "species                                                         \n",
            "setosa          1.348837     1.913043      1.900000     6.000000\n",
            "versicolor      1.428571     1.700000      1.700000     1.800000\n",
            "virginica       1.612245     1.727273      1.533333     1.785714\n",
            "========================================\n",
            "     sepal_length  sepal_width  petal_length  petal_width\n",
            "0        1.348837     1.913043      1.900000     6.000000\n",
            "1        1.348837     1.913043      1.900000     6.000000\n",
            "2        1.348837     1.913043      1.900000     6.000000\n",
            "3        1.348837     1.913043      1.900000     6.000000\n",
            "4        1.348837     1.913043      1.900000     6.000000\n",
            "..            ...          ...           ...          ...\n",
            "145      1.612245     1.727273      1.533333     1.785714\n",
            "146      1.612245     1.727273      1.533333     1.785714\n",
            "147      1.612245     1.727273      1.533333     1.785714\n",
            "148      1.612245     1.727273      1.533333     1.785714\n",
            "149      1.612245     1.727273      1.533333     1.785714\n",
            "\n",
            "[150 rows x 4 columns]\n"
          ],
          "name": "stdout"
        }
      ]
    },
    {
      "cell_type": "code",
      "metadata": {
        "colab": {
          "base_uri": "https://localhost:8080/"
        },
        "id": "PwJODz0lUO63",
        "outputId": "bb615f43-592f-4b51-d7fb-3a064598ee27"
      },
      "source": [
        "# 각 붓꽃별로 가장 꽃잎 길이가 작은 것 3개만 조회\n",
        "\n",
        "def min3(x):\n",
        "  return x.sort_values(by = 'petal_length')[:3]\n",
        "\n",
        "#######################################\n",
        "\n",
        "print(iris.groupby(iris.species).apply(min3))\n",
        "print(\"=\"*40)\n",
        "# print(iris.groupby(iris.species).agg(min3))"
      ],
      "execution_count": 43,
      "outputs": [
        {
          "output_type": "stream",
          "text": [
            "                sepal_length  sepal_width  ...  petal_width     species\n",
            "species                                    ...                         \n",
            "setosa     22            4.6          3.6  ...          0.2      setosa\n",
            "           13            4.3          3.0  ...          0.1      setosa\n",
            "           14            5.8          4.0  ...          0.2      setosa\n",
            "versicolor 98            5.1          2.5  ...          1.1  versicolor\n",
            "           93            5.0          2.3  ...          1.0  versicolor\n",
            "           57            4.9          2.4  ...          1.0  versicolor\n",
            "virginica  106           4.9          2.5  ...          1.7   virginica\n",
            "           126           6.2          2.8  ...          1.8   virginica\n",
            "           138           6.0          3.0  ...          1.8   virginica\n",
            "\n",
            "[9 rows x 5 columns]\n",
            "========================================\n"
          ],
          "name": "stdout"
        }
      ]
    },
    {
      "cell_type": "code",
      "metadata": {
        "colab": {
          "base_uri": "https://localhost:8080/",
          "height": 204
        },
        "id": "N7HrGvQNUO38",
        "outputId": "cd5c6962-cd84-45e1-ffd9-58a140623f2d"
      },
      "source": [
        "iris.groupby(\"species\").agg([np.sum, np.mean, np.std, peak_to_peak_ratio])"
      ],
      "execution_count": 44,
      "outputs": [
        {
          "output_type": "execute_result",
          "data": {
            "text/html": [
              "<div>\n",
              "<style scoped>\n",
              "    .dataframe tbody tr th:only-of-type {\n",
              "        vertical-align: middle;\n",
              "    }\n",
              "\n",
              "    .dataframe tbody tr th {\n",
              "        vertical-align: top;\n",
              "    }\n",
              "\n",
              "    .dataframe thead tr th {\n",
              "        text-align: left;\n",
              "    }\n",
              "\n",
              "    .dataframe thead tr:last-of-type th {\n",
              "        text-align: right;\n",
              "    }\n",
              "</style>\n",
              "<table border=\"1\" class=\"dataframe\">\n",
              "  <thead>\n",
              "    <tr>\n",
              "      <th></th>\n",
              "      <th colspan=\"4\" halign=\"left\">sepal_length</th>\n",
              "      <th colspan=\"4\" halign=\"left\">sepal_width</th>\n",
              "      <th colspan=\"4\" halign=\"left\">petal_length</th>\n",
              "      <th colspan=\"4\" halign=\"left\">petal_width</th>\n",
              "    </tr>\n",
              "    <tr>\n",
              "      <th></th>\n",
              "      <th>sum</th>\n",
              "      <th>mean</th>\n",
              "      <th>std</th>\n",
              "      <th>peak_to_peak_ratio</th>\n",
              "      <th>sum</th>\n",
              "      <th>mean</th>\n",
              "      <th>std</th>\n",
              "      <th>peak_to_peak_ratio</th>\n",
              "      <th>sum</th>\n",
              "      <th>mean</th>\n",
              "      <th>std</th>\n",
              "      <th>peak_to_peak_ratio</th>\n",
              "      <th>sum</th>\n",
              "      <th>mean</th>\n",
              "      <th>std</th>\n",
              "      <th>peak_to_peak_ratio</th>\n",
              "    </tr>\n",
              "    <tr>\n",
              "      <th>species</th>\n",
              "      <th></th>\n",
              "      <th></th>\n",
              "      <th></th>\n",
              "      <th></th>\n",
              "      <th></th>\n",
              "      <th></th>\n",
              "      <th></th>\n",
              "      <th></th>\n",
              "      <th></th>\n",
              "      <th></th>\n",
              "      <th></th>\n",
              "      <th></th>\n",
              "      <th></th>\n",
              "      <th></th>\n",
              "      <th></th>\n",
              "      <th></th>\n",
              "    </tr>\n",
              "  </thead>\n",
              "  <tbody>\n",
              "    <tr>\n",
              "      <th>setosa</th>\n",
              "      <td>250.3</td>\n",
              "      <td>5.006</td>\n",
              "      <td>0.352490</td>\n",
              "      <td>1.348837</td>\n",
              "      <td>171.4</td>\n",
              "      <td>3.428</td>\n",
              "      <td>0.379064</td>\n",
              "      <td>1.913043</td>\n",
              "      <td>73.1</td>\n",
              "      <td>1.462</td>\n",
              "      <td>0.173664</td>\n",
              "      <td>1.900000</td>\n",
              "      <td>12.3</td>\n",
              "      <td>0.246</td>\n",
              "      <td>0.105386</td>\n",
              "      <td>6.000000</td>\n",
              "    </tr>\n",
              "    <tr>\n",
              "      <th>versicolor</th>\n",
              "      <td>296.8</td>\n",
              "      <td>5.936</td>\n",
              "      <td>0.516171</td>\n",
              "      <td>1.428571</td>\n",
              "      <td>138.5</td>\n",
              "      <td>2.770</td>\n",
              "      <td>0.313798</td>\n",
              "      <td>1.700000</td>\n",
              "      <td>213.0</td>\n",
              "      <td>4.260</td>\n",
              "      <td>0.469911</td>\n",
              "      <td>1.700000</td>\n",
              "      <td>66.3</td>\n",
              "      <td>1.326</td>\n",
              "      <td>0.197753</td>\n",
              "      <td>1.800000</td>\n",
              "    </tr>\n",
              "    <tr>\n",
              "      <th>virginica</th>\n",
              "      <td>329.4</td>\n",
              "      <td>6.588</td>\n",
              "      <td>0.635880</td>\n",
              "      <td>1.612245</td>\n",
              "      <td>148.7</td>\n",
              "      <td>2.974</td>\n",
              "      <td>0.322497</td>\n",
              "      <td>1.727273</td>\n",
              "      <td>277.6</td>\n",
              "      <td>5.552</td>\n",
              "      <td>0.551895</td>\n",
              "      <td>1.533333</td>\n",
              "      <td>101.3</td>\n",
              "      <td>2.026</td>\n",
              "      <td>0.274650</td>\n",
              "      <td>1.785714</td>\n",
              "    </tr>\n",
              "  </tbody>\n",
              "</table>\n",
              "</div>"
            ],
            "text/plain": [
              "           sepal_length                   ... petal_width                             \n",
              "                    sum   mean       std  ...        mean       std peak_to_peak_ratio\n",
              "species                                   ...                                         \n",
              "setosa            250.3  5.006  0.352490  ...       0.246  0.105386           6.000000\n",
              "versicolor        296.8  5.936  0.516171  ...       1.326  0.197753           1.800000\n",
              "virginica         329.4  6.588  0.635880  ...       2.026  0.274650           1.785714\n",
              "\n",
              "[3 rows x 16 columns]"
            ]
          },
          "metadata": {
            "tags": []
          },
          "execution_count": 44
        }
      ]
    },
    {
      "cell_type": "code",
      "metadata": {
        "id": "_8gOMKm8UO1X"
      },
      "source": [
        "def func_qcut(x):\n",
        "  return pd.qcut(x, 3, labels = [\"대\", \"중\", \"소\"])\n",
        "\n",
        "###################################################\n",
        "\n",
        "# iris[\"petal_length_class\"] = iris.groupby(iris.species)[\"petal_length\"].transform(func_qcut)\n",
        "\n",
        "# iris.head()"
      ],
      "execution_count": null,
      "outputs": []
    },
    {
      "cell_type": "code",
      "metadata": {
        "colab": {
          "base_uri": "https://localhost:8080/",
          "height": 204
        },
        "id": "Lh1uUiBKuA1T",
        "outputId": "61da1aba-6f46-48ee-cf05-5c4e5ebcd705"
      },
      "source": [
        "iris[\"petal_length_class\"] = iris.groupby(iris.species)[\"petal_length\"].apply(func_qcut)\n",
        "iris.head()"
      ],
      "execution_count": 60,
      "outputs": [
        {
          "output_type": "execute_result",
          "data": {
            "text/html": [
              "<div>\n",
              "<style scoped>\n",
              "    .dataframe tbody tr th:only-of-type {\n",
              "        vertical-align: middle;\n",
              "    }\n",
              "\n",
              "    .dataframe tbody tr th {\n",
              "        vertical-align: top;\n",
              "    }\n",
              "\n",
              "    .dataframe thead th {\n",
              "        text-align: right;\n",
              "    }\n",
              "</style>\n",
              "<table border=\"1\" class=\"dataframe\">\n",
              "  <thead>\n",
              "    <tr style=\"text-align: right;\">\n",
              "      <th></th>\n",
              "      <th>sepal_length</th>\n",
              "      <th>sepal_width</th>\n",
              "      <th>petal_length</th>\n",
              "      <th>petal_width</th>\n",
              "      <th>species</th>\n",
              "      <th>petal_length_class</th>\n",
              "    </tr>\n",
              "  </thead>\n",
              "  <tbody>\n",
              "    <tr>\n",
              "      <th>0</th>\n",
              "      <td>5.1</td>\n",
              "      <td>3.5</td>\n",
              "      <td>1.4</td>\n",
              "      <td>0.2</td>\n",
              "      <td>setosa</td>\n",
              "      <td>대</td>\n",
              "    </tr>\n",
              "    <tr>\n",
              "      <th>1</th>\n",
              "      <td>4.9</td>\n",
              "      <td>3.0</td>\n",
              "      <td>1.4</td>\n",
              "      <td>0.2</td>\n",
              "      <td>setosa</td>\n",
              "      <td>대</td>\n",
              "    </tr>\n",
              "    <tr>\n",
              "      <th>2</th>\n",
              "      <td>4.7</td>\n",
              "      <td>3.2</td>\n",
              "      <td>1.3</td>\n",
              "      <td>0.2</td>\n",
              "      <td>setosa</td>\n",
              "      <td>대</td>\n",
              "    </tr>\n",
              "    <tr>\n",
              "      <th>3</th>\n",
              "      <td>4.6</td>\n",
              "      <td>3.1</td>\n",
              "      <td>1.5</td>\n",
              "      <td>0.2</td>\n",
              "      <td>setosa</td>\n",
              "      <td>중</td>\n",
              "    </tr>\n",
              "    <tr>\n",
              "      <th>4</th>\n",
              "      <td>5.0</td>\n",
              "      <td>3.6</td>\n",
              "      <td>1.4</td>\n",
              "      <td>0.2</td>\n",
              "      <td>setosa</td>\n",
              "      <td>대</td>\n",
              "    </tr>\n",
              "  </tbody>\n",
              "</table>\n",
              "</div>"
            ],
            "text/plain": [
              "   sepal_length  sepal_width  ...  species  petal_length_class\n",
              "0           5.1          3.5  ...   setosa                   대\n",
              "1           4.9          3.0  ...   setosa                   대\n",
              "2           4.7          3.2  ...   setosa                   대\n",
              "3           4.6          3.1  ...   setosa                   중\n",
              "4           5.0          3.6  ...   setosa                   대\n",
              "\n",
              "[5 rows x 6 columns]"
            ]
          },
          "metadata": {
            "tags": []
          },
          "execution_count": 60
        }
      ]
    },
    {
      "cell_type": "code",
      "metadata": {
        "colab": {
          "base_uri": "https://localhost:8080/"
        },
        "id": "Cdli1JvcgL5K",
        "outputId": "320b3b26-e404-4caa-dc72-0118aaed490a"
      },
      "source": [
        "#### 연습 문제\n",
        "df = pd.DataFrame({\n",
        "    'city': ['부산', '부산', '부산', '부산', '서울', '서울', '서울'],\n",
        "    'fruits': ['apple', 'orange', 'banana', 'banana', 'apple', 'apple', 'banana'],\n",
        "    'price': [100, 200, 250, 300, 150, 200, 400],\n",
        "    'quantity': [1, 2, 3, 4, 5, 6, 7]\n",
        "})\n",
        "\n",
        "print(df)\n",
        "\n",
        "print(\"=\"*40)\n",
        "\n",
        "# 1) 도시별로 과일의 가격 평균과 수량 평균을 구하시오\n",
        "print(df.groupby(\"city\").mean())\n",
        "\n",
        "# 2) 도시별, 과일별 가격 평균과 수량 평균을 구하시오\n",
        "print(df.groupby([\"city\",\"fruits\"]).mean())\n",
        "\n",
        "# 3) 위의 문제에서 도시별, 과일별을 인덱스로 하고 싶지 않은 경우\n",
        "print(df.groupby([\"city\",\"fruits\"], as_index=False).mean())\n",
        "\n",
        "# 4) 도시별로 가격의 평균과 수량의 합계를 동시에 구하시오\n",
        "# print(df.groupby(\"city\").agg([np.mean, np.sum]))\n",
        "print(df.groupby(\"city\").agg({\"price\":np.mean, \"quantity\":np.sum}))"
      ],
      "execution_count": 71,
      "outputs": [
        {
          "output_type": "stream",
          "text": [
            "  city  fruits  price  quantity\n",
            "0   부산   apple    100         1\n",
            "1   부산  orange    200         2\n",
            "2   부산  banana    250         3\n",
            "3   부산  banana    300         4\n",
            "4   서울   apple    150         5\n",
            "5   서울   apple    200         6\n",
            "6   서울  banana    400         7\n",
            "========================================\n",
            "      price  quantity\n",
            "city                 \n",
            "부산    212.5       2.5\n",
            "서울    250.0       6.0\n",
            "             price  quantity\n",
            "city fruits                 \n",
            "부산   apple   100.0       1.0\n",
            "     banana  275.0       3.5\n",
            "     orange  200.0       2.0\n",
            "서울   apple   175.0       5.5\n",
            "     banana  400.0       7.0\n",
            "  city  fruits  price  quantity\n",
            "0   부산   apple  100.0       1.0\n",
            "1   부산  banana  275.0       3.5\n",
            "2   부산  orange  200.0       2.0\n",
            "3   서울   apple  175.0       5.5\n",
            "4   서울  banana  400.0       7.0\n",
            "      price  quantity\n",
            "city                 \n",
            "부산    212.5        10\n",
            "서울    250.0        18\n",
            "      price      quantity    \n",
            "       mean  sum     mean sum\n",
            "city                         \n",
            "부산    212.5  850      2.5  10\n",
            "서울    250.0  750      6.0  18\n"
          ],
          "name": "stdout"
        }
      ]
    },
    {
      "cell_type": "markdown",
      "metadata": {
        "id": "E1m7Vs_Knd8n"
      },
      "source": [
        "#### 3) pivot_table()\n",
        "\n",
        "- values : 분석할 데이터 프레임에서 분석할 열\n",
        "- aggfunc : 분석할 메서드\n",
        "- fill_value : NaN 대체값\n",
        "- dropna : NaN에 해당하는 값을 버릴지 여부\n",
        "- margins : 행과 열 끝에 소계 추가"
      ]
    },
    {
      "cell_type": "code",
      "metadata": {
        "colab": {
          "base_uri": "https://localhost:8080/",
          "height": 297
        },
        "id": "LpzbewAGgL2L",
        "outputId": "658a926a-5f03-4aa2-94c0-d4c9986dd804"
      },
      "source": [
        "data = {\n",
        "    \"도시\": [\"서울\", \"서울\", \"서울\", \"부산\", \"부산\", \"부산\", \"인천\", \"인천\"],\n",
        "    \"연도\": [\"2015\", \"2010\", \"2005\", \"2015\", \"2010\", \"2005\", \"2015\", \"2010\"],\n",
        "    \"인구\": [9904312, 9631482, 9762546, 3448737, 3393191, 3512547, 2890451, 263203],\n",
        "    \"지역\": [\"수도권\", \"수도권\", \"수도권\", \"경상권\", \"경상권\", \"경상권\", \"수도권\", \"수도권\"]\n",
        "}\n",
        "\n",
        "df = pd.DataFrame(data)\n",
        "df"
      ],
      "execution_count": 72,
      "outputs": [
        {
          "output_type": "execute_result",
          "data": {
            "text/html": [
              "<div>\n",
              "<style scoped>\n",
              "    .dataframe tbody tr th:only-of-type {\n",
              "        vertical-align: middle;\n",
              "    }\n",
              "\n",
              "    .dataframe tbody tr th {\n",
              "        vertical-align: top;\n",
              "    }\n",
              "\n",
              "    .dataframe thead th {\n",
              "        text-align: right;\n",
              "    }\n",
              "</style>\n",
              "<table border=\"1\" class=\"dataframe\">\n",
              "  <thead>\n",
              "    <tr style=\"text-align: right;\">\n",
              "      <th></th>\n",
              "      <th>도시</th>\n",
              "      <th>연도</th>\n",
              "      <th>인구</th>\n",
              "      <th>지역</th>\n",
              "    </tr>\n",
              "  </thead>\n",
              "  <tbody>\n",
              "    <tr>\n",
              "      <th>0</th>\n",
              "      <td>서울</td>\n",
              "      <td>2015</td>\n",
              "      <td>9904312</td>\n",
              "      <td>수도권</td>\n",
              "    </tr>\n",
              "    <tr>\n",
              "      <th>1</th>\n",
              "      <td>서울</td>\n",
              "      <td>2010</td>\n",
              "      <td>9631482</td>\n",
              "      <td>수도권</td>\n",
              "    </tr>\n",
              "    <tr>\n",
              "      <th>2</th>\n",
              "      <td>서울</td>\n",
              "      <td>2005</td>\n",
              "      <td>9762546</td>\n",
              "      <td>수도권</td>\n",
              "    </tr>\n",
              "    <tr>\n",
              "      <th>3</th>\n",
              "      <td>부산</td>\n",
              "      <td>2015</td>\n",
              "      <td>3448737</td>\n",
              "      <td>경상권</td>\n",
              "    </tr>\n",
              "    <tr>\n",
              "      <th>4</th>\n",
              "      <td>부산</td>\n",
              "      <td>2010</td>\n",
              "      <td>3393191</td>\n",
              "      <td>경상권</td>\n",
              "    </tr>\n",
              "    <tr>\n",
              "      <th>5</th>\n",
              "      <td>부산</td>\n",
              "      <td>2005</td>\n",
              "      <td>3512547</td>\n",
              "      <td>경상권</td>\n",
              "    </tr>\n",
              "    <tr>\n",
              "      <th>6</th>\n",
              "      <td>인천</td>\n",
              "      <td>2015</td>\n",
              "      <td>2890451</td>\n",
              "      <td>수도권</td>\n",
              "    </tr>\n",
              "    <tr>\n",
              "      <th>7</th>\n",
              "      <td>인천</td>\n",
              "      <td>2010</td>\n",
              "      <td>263203</td>\n",
              "      <td>수도권</td>\n",
              "    </tr>\n",
              "  </tbody>\n",
              "</table>\n",
              "</div>"
            ],
            "text/plain": [
              "   도시    연도       인구   지역\n",
              "0  서울  2015  9904312  수도권\n",
              "1  서울  2010  9631482  수도권\n",
              "2  서울  2005  9762546  수도권\n",
              "3  부산  2015  3448737  경상권\n",
              "4  부산  2010  3393191  경상권\n",
              "5  부산  2005  3512547  경상권\n",
              "6  인천  2015  2890451  수도권\n",
              "7  인천  2010   263203  수도권"
            ]
          },
          "metadata": {
            "tags": []
          },
          "execution_count": 72
        }
      ]
    },
    {
      "cell_type": "code",
      "metadata": {
        "colab": {
          "base_uri": "https://localhost:8080/",
          "height": 173
        },
        "id": "YrF2cWO8gLy0",
        "outputId": "33e6e083-ea06-43d6-ca77-0404ab3de24b"
      },
      "source": [
        "#### 각 도기에서 연도별로 인구 수를 알고싶다\n",
        "\n",
        "df.pivot(\"도시\", \"연도\", \"인구\")\n",
        "df.groupby([\"도시\", \"연도\"])[[\"인구\"]].sum().unstack(\"연도\")\n",
        "\n",
        "df.pivot_table(values = \"인구\", index = \"도시\", columns = \"연도\")\n",
        "df.pivot_table(\"인구\", \"도시\", \"연도\")\n",
        "pd.pivot_table(df, \"인구\", \"도시\", \"연도\")"
      ],
      "execution_count": 76,
      "outputs": [
        {
          "output_type": "execute_result",
          "data": {
            "text/html": [
              "<div>\n",
              "<style scoped>\n",
              "    .dataframe tbody tr th:only-of-type {\n",
              "        vertical-align: middle;\n",
              "    }\n",
              "\n",
              "    .dataframe tbody tr th {\n",
              "        vertical-align: top;\n",
              "    }\n",
              "\n",
              "    .dataframe thead th {\n",
              "        text-align: right;\n",
              "    }\n",
              "</style>\n",
              "<table border=\"1\" class=\"dataframe\">\n",
              "  <thead>\n",
              "    <tr style=\"text-align: right;\">\n",
              "      <th>연도</th>\n",
              "      <th>2005</th>\n",
              "      <th>2010</th>\n",
              "      <th>2015</th>\n",
              "    </tr>\n",
              "    <tr>\n",
              "      <th>도시</th>\n",
              "      <th></th>\n",
              "      <th></th>\n",
              "      <th></th>\n",
              "    </tr>\n",
              "  </thead>\n",
              "  <tbody>\n",
              "    <tr>\n",
              "      <th>부산</th>\n",
              "      <td>3512547.0</td>\n",
              "      <td>3393191.0</td>\n",
              "      <td>3448737.0</td>\n",
              "    </tr>\n",
              "    <tr>\n",
              "      <th>서울</th>\n",
              "      <td>9762546.0</td>\n",
              "      <td>9631482.0</td>\n",
              "      <td>9904312.0</td>\n",
              "    </tr>\n",
              "    <tr>\n",
              "      <th>인천</th>\n",
              "      <td>NaN</td>\n",
              "      <td>263203.0</td>\n",
              "      <td>2890451.0</td>\n",
              "    </tr>\n",
              "  </tbody>\n",
              "</table>\n",
              "</div>"
            ],
            "text/plain": [
              "연도       2005       2010       2015\n",
              "도시                                 \n",
              "부산  3512547.0  3393191.0  3448737.0\n",
              "서울  9762546.0  9631482.0  9904312.0\n",
              "인천        NaN   263203.0  2890451.0"
            ]
          },
          "metadata": {
            "tags": []
          },
          "execution_count": 76
        }
      ]
    },
    {
      "cell_type": "code",
      "metadata": {
        "colab": {
          "base_uri": "https://localhost:8080/"
        },
        "id": "vnjWi8md8f50",
        "outputId": "639f6416-f434-49c6-a17a-ad0bcf641d13"
      },
      "source": [
        "#### 연도별, 도시별로 인구 수를 알고싶다\n",
        "\n",
        "print(df.groupby([\"연도\", \"도시\"])[[\"인구\"]].mean())\n",
        "print(\"=\"*40)\n",
        "print(df.pivot_table(\"인구\", [\"연도\", \"도시\"]))"
      ],
      "execution_count": 82,
      "outputs": [
        {
          "output_type": "stream",
          "text": [
            "              인구\n",
            "연도   도시         \n",
            "2005 부산  3512547\n",
            "     서울  9762546\n",
            "2010 부산  3393191\n",
            "     서울  9631482\n",
            "     인천   263203\n",
            "2015 부산  3448737\n",
            "     서울  9904312\n",
            "     인천  2890451\n",
            "========================================\n",
            "              인구\n",
            "연도   도시         \n",
            "2005 부산  3512547\n",
            "     서울  9762546\n",
            "2010 부산  3393191\n",
            "     서울  9631482\n",
            "     인천   263203\n",
            "2015 부산  3448737\n",
            "     서울  9904312\n",
            "     인천  2890451\n"
          ],
          "name": "stdout"
        }
      ]
    },
    {
      "cell_type": "code",
      "metadata": {
        "colab": {
          "base_uri": "https://localhost:8080/",
          "height": 204
        },
        "id": "E4X0i9KW8f0N",
        "outputId": "1c1070e2-9a23-4032-fd92-54ff7ee43e34"
      },
      "source": [
        "#### 각 도시에서 연도별로 인구 수를 알고싶다\n",
        "df.pivot_table(\"인구\", \"도시\", \"연도\", aggfunc = \"sum\", margins = True, margins_name = \"합계\", fill_value = 0)"
      ],
      "execution_count": 87,
      "outputs": [
        {
          "output_type": "execute_result",
          "data": {
            "text/html": [
              "<div>\n",
              "<style scoped>\n",
              "    .dataframe tbody tr th:only-of-type {\n",
              "        vertical-align: middle;\n",
              "    }\n",
              "\n",
              "    .dataframe tbody tr th {\n",
              "        vertical-align: top;\n",
              "    }\n",
              "\n",
              "    .dataframe thead th {\n",
              "        text-align: right;\n",
              "    }\n",
              "</style>\n",
              "<table border=\"1\" class=\"dataframe\">\n",
              "  <thead>\n",
              "    <tr style=\"text-align: right;\">\n",
              "      <th>연도</th>\n",
              "      <th>2005</th>\n",
              "      <th>2010</th>\n",
              "      <th>2015</th>\n",
              "      <th>합계</th>\n",
              "    </tr>\n",
              "    <tr>\n",
              "      <th>도시</th>\n",
              "      <th></th>\n",
              "      <th></th>\n",
              "      <th></th>\n",
              "      <th></th>\n",
              "    </tr>\n",
              "  </thead>\n",
              "  <tbody>\n",
              "    <tr>\n",
              "      <th>부산</th>\n",
              "      <td>3512547</td>\n",
              "      <td>3393191</td>\n",
              "      <td>3448737</td>\n",
              "      <td>10354475</td>\n",
              "    </tr>\n",
              "    <tr>\n",
              "      <th>서울</th>\n",
              "      <td>9762546</td>\n",
              "      <td>9631482</td>\n",
              "      <td>9904312</td>\n",
              "      <td>29298340</td>\n",
              "    </tr>\n",
              "    <tr>\n",
              "      <th>인천</th>\n",
              "      <td>0</td>\n",
              "      <td>263203</td>\n",
              "      <td>2890451</td>\n",
              "      <td>3153654</td>\n",
              "    </tr>\n",
              "    <tr>\n",
              "      <th>합계</th>\n",
              "      <td>13275093</td>\n",
              "      <td>13287876</td>\n",
              "      <td>16243500</td>\n",
              "      <td>42806469</td>\n",
              "    </tr>\n",
              "  </tbody>\n",
              "</table>\n",
              "</div>"
            ],
            "text/plain": [
              "연도      2005      2010      2015        합계\n",
              "도시                                        \n",
              "부산   3512547   3393191   3448737  10354475\n",
              "서울   9762546   9631482   9904312  29298340\n",
              "인천         0    263203   2890451   3153654\n",
              "합계  13275093  13287876  16243500  42806469"
            ]
          },
          "metadata": {
            "tags": []
          },
          "execution_count": 87
        }
      ]
    },
    {
      "cell_type": "markdown",
      "metadata": {
        "id": "IYO7rSywAqGp"
      },
      "source": [
        "### 7. 활용 예제"
      ]
    },
    {
      "cell_type": "markdown",
      "metadata": {
        "id": "zHbdGv0RAsrK"
      },
      "source": [
        "#### 1) 데이터 준비"
      ]
    },
    {
      "cell_type": "code",
      "metadata": {
        "colab": {
          "base_uri": "https://localhost:8080/",
          "height": 297
        },
        "id": "yfI5s9qYAsUL",
        "outputId": "89ec21cd-1c54-4342-c1d4-13f0ca350a97"
      },
      "source": [
        "import seaborn as sns\n",
        "\n",
        "tips = sns.load_dataset(\"tips\")\n",
        "tips.head()\n",
        "tips.tail()\n",
        "tips.describe()"
      ],
      "execution_count": 2,
      "outputs": [
        {
          "output_type": "execute_result",
          "data": {
            "text/html": [
              "<div>\n",
              "<style scoped>\n",
              "    .dataframe tbody tr th:only-of-type {\n",
              "        vertical-align: middle;\n",
              "    }\n",
              "\n",
              "    .dataframe tbody tr th {\n",
              "        vertical-align: top;\n",
              "    }\n",
              "\n",
              "    .dataframe thead th {\n",
              "        text-align: right;\n",
              "    }\n",
              "</style>\n",
              "<table border=\"1\" class=\"dataframe\">\n",
              "  <thead>\n",
              "    <tr style=\"text-align: right;\">\n",
              "      <th></th>\n",
              "      <th>total_bill</th>\n",
              "      <th>tip</th>\n",
              "      <th>size</th>\n",
              "    </tr>\n",
              "  </thead>\n",
              "  <tbody>\n",
              "    <tr>\n",
              "      <th>count</th>\n",
              "      <td>244.000000</td>\n",
              "      <td>244.000000</td>\n",
              "      <td>244.000000</td>\n",
              "    </tr>\n",
              "    <tr>\n",
              "      <th>mean</th>\n",
              "      <td>19.785943</td>\n",
              "      <td>2.998279</td>\n",
              "      <td>2.569672</td>\n",
              "    </tr>\n",
              "    <tr>\n",
              "      <th>std</th>\n",
              "      <td>8.902412</td>\n",
              "      <td>1.383638</td>\n",
              "      <td>0.951100</td>\n",
              "    </tr>\n",
              "    <tr>\n",
              "      <th>min</th>\n",
              "      <td>3.070000</td>\n",
              "      <td>1.000000</td>\n",
              "      <td>1.000000</td>\n",
              "    </tr>\n",
              "    <tr>\n",
              "      <th>25%</th>\n",
              "      <td>13.347500</td>\n",
              "      <td>2.000000</td>\n",
              "      <td>2.000000</td>\n",
              "    </tr>\n",
              "    <tr>\n",
              "      <th>50%</th>\n",
              "      <td>17.795000</td>\n",
              "      <td>2.900000</td>\n",
              "      <td>2.000000</td>\n",
              "    </tr>\n",
              "    <tr>\n",
              "      <th>75%</th>\n",
              "      <td>24.127500</td>\n",
              "      <td>3.562500</td>\n",
              "      <td>3.000000</td>\n",
              "    </tr>\n",
              "    <tr>\n",
              "      <th>max</th>\n",
              "      <td>50.810000</td>\n",
              "      <td>10.000000</td>\n",
              "      <td>6.000000</td>\n",
              "    </tr>\n",
              "  </tbody>\n",
              "</table>\n",
              "</div>"
            ],
            "text/plain": [
              "       total_bill         tip        size\n",
              "count  244.000000  244.000000  244.000000\n",
              "mean    19.785943    2.998279    2.569672\n",
              "std      8.902412    1.383638    0.951100\n",
              "min      3.070000    1.000000    1.000000\n",
              "25%     13.347500    2.000000    2.000000\n",
              "50%     17.795000    2.900000    2.000000\n",
              "75%     24.127500    3.562500    3.000000\n",
              "max     50.810000   10.000000    6.000000"
            ]
          },
          "metadata": {
            "tags": []
          },
          "execution_count": 2
        }
      ]
    },
    {
      "cell_type": "code",
      "metadata": {
        "colab": {
          "base_uri": "https://localhost:8080/",
          "height": 204
        },
        "id": "v-Pf8TP2CvOz",
        "outputId": "74ca1dd0-8e7b-469c-fb92-d7896f87367e"
      },
      "source": [
        "#식사 대금과 팁의 비율(tip/total_bill)을 나타내는 tip_pct를 추가\n",
        "tips['tip_pct'] = tips['tip'] / tips['total_bill']\n",
        "tips.head()"
      ],
      "execution_count": 3,
      "outputs": [
        {
          "output_type": "execute_result",
          "data": {
            "text/html": [
              "<div>\n",
              "<style scoped>\n",
              "    .dataframe tbody tr th:only-of-type {\n",
              "        vertical-align: middle;\n",
              "    }\n",
              "\n",
              "    .dataframe tbody tr th {\n",
              "        vertical-align: top;\n",
              "    }\n",
              "\n",
              "    .dataframe thead th {\n",
              "        text-align: right;\n",
              "    }\n",
              "</style>\n",
              "<table border=\"1\" class=\"dataframe\">\n",
              "  <thead>\n",
              "    <tr style=\"text-align: right;\">\n",
              "      <th></th>\n",
              "      <th>total_bill</th>\n",
              "      <th>tip</th>\n",
              "      <th>sex</th>\n",
              "      <th>smoker</th>\n",
              "      <th>day</th>\n",
              "      <th>time</th>\n",
              "      <th>size</th>\n",
              "      <th>tip_pct</th>\n",
              "    </tr>\n",
              "  </thead>\n",
              "  <tbody>\n",
              "    <tr>\n",
              "      <th>0</th>\n",
              "      <td>16.99</td>\n",
              "      <td>1.01</td>\n",
              "      <td>Female</td>\n",
              "      <td>No</td>\n",
              "      <td>Sun</td>\n",
              "      <td>Dinner</td>\n",
              "      <td>2</td>\n",
              "      <td>0.059447</td>\n",
              "    </tr>\n",
              "    <tr>\n",
              "      <th>1</th>\n",
              "      <td>10.34</td>\n",
              "      <td>1.66</td>\n",
              "      <td>Male</td>\n",
              "      <td>No</td>\n",
              "      <td>Sun</td>\n",
              "      <td>Dinner</td>\n",
              "      <td>3</td>\n",
              "      <td>0.160542</td>\n",
              "    </tr>\n",
              "    <tr>\n",
              "      <th>2</th>\n",
              "      <td>21.01</td>\n",
              "      <td>3.50</td>\n",
              "      <td>Male</td>\n",
              "      <td>No</td>\n",
              "      <td>Sun</td>\n",
              "      <td>Dinner</td>\n",
              "      <td>3</td>\n",
              "      <td>0.166587</td>\n",
              "    </tr>\n",
              "    <tr>\n",
              "      <th>3</th>\n",
              "      <td>23.68</td>\n",
              "      <td>3.31</td>\n",
              "      <td>Male</td>\n",
              "      <td>No</td>\n",
              "      <td>Sun</td>\n",
              "      <td>Dinner</td>\n",
              "      <td>2</td>\n",
              "      <td>0.139780</td>\n",
              "    </tr>\n",
              "    <tr>\n",
              "      <th>4</th>\n",
              "      <td>24.59</td>\n",
              "      <td>3.61</td>\n",
              "      <td>Female</td>\n",
              "      <td>No</td>\n",
              "      <td>Sun</td>\n",
              "      <td>Dinner</td>\n",
              "      <td>4</td>\n",
              "      <td>0.146808</td>\n",
              "    </tr>\n",
              "  </tbody>\n",
              "</table>\n",
              "</div>"
            ],
            "text/plain": [
              "   total_bill   tip     sex smoker  day    time  size   tip_pct\n",
              "0       16.99  1.01  Female     No  Sun  Dinner     2  0.059447\n",
              "1       10.34  1.66    Male     No  Sun  Dinner     3  0.160542\n",
              "2       21.01  3.50    Male     No  Sun  Dinner     3  0.166587\n",
              "3       23.68  3.31    Male     No  Sun  Dinner     2  0.139780\n",
              "4       24.59  3.61  Female     No  Sun  Dinner     4  0.146808"
            ]
          },
          "metadata": {
            "tags": []
          },
          "execution_count": 3
        }
      ]
    },
    {
      "cell_type": "code",
      "metadata": {
        "colab": {
          "base_uri": "https://localhost:8080/"
        },
        "id": "pVylzvU4DtTc",
        "outputId": "876cbf48-3641-4eec-fd10-8f58b9c6d538"
      },
      "source": [
        "#성별로 인원수 파악\n",
        "tips.groupby(\"sex\").count()\n",
        "tips.groupby(\"sex\").size()"
      ],
      "execution_count": 4,
      "outputs": [
        {
          "output_type": "execute_result",
          "data": {
            "text/plain": [
              "sex\n",
              "Male      157\n",
              "Female     87\n",
              "dtype: int64"
            ]
          },
          "metadata": {
            "tags": []
          },
          "execution_count": 4
        }
      ]
    },
    {
      "cell_type": "code",
      "metadata": {
        "colab": {
          "base_uri": "https://localhost:8080/"
        },
        "id": "evfgNFnIDtO7",
        "outputId": "c4e8db04-884b-468d-c6ae-0ce921844f36"
      },
      "source": [
        "#성별, 흡연 유무별로 인원수 파악\n",
        "#tips.pivot_table(\"tip_pct\", \"sex\", \"smoker\", aggfunc=\"count\", margins=True)\n",
        "tips.groupby([\"sex\",\"smoker\"]).count()\n",
        "tips.groupby([\"sex\",\"smoker\"]).size()"
      ],
      "execution_count": 5,
      "outputs": [
        {
          "output_type": "execute_result",
          "data": {
            "text/plain": [
              "sex     smoker\n",
              "Male    Yes       60\n",
              "        No        97\n",
              "Female  Yes       33\n",
              "        No        54\n",
              "dtype: int64"
            ]
          },
          "metadata": {
            "tags": []
          },
          "execution_count": 5
        }
      ]
    },
    {
      "cell_type": "code",
      "metadata": {
        "colab": {
          "base_uri": "https://localhost:8080/",
          "height": 204
        },
        "id": "liJcc43jDtL3",
        "outputId": "aec7f2a3-44ac-4270-cd4f-b2f2cb15db00"
      },
      "source": [
        "#위의 두 정보를 하나의 테이블로 출력(pivot_table 사용)\n",
        "tips.pivot_table(\"tip_pct\",[\"sex\",\"smoker\"])\n",
        "# tips.pivot_table(\"tip_pct\",[\"sex\",\"smoker\"],aggfunc=\"count\", margins=True,margins_name=\"합계\")\n",
        "tips.pivot_table(values = \"tip_pct\", index = \"sex\", columns = \"smoker\")\n",
        "tips.pivot_table(values = \"tip_pct\", index = [\"sex\", \"smoker\"])"
      ],
      "execution_count": 11,
      "outputs": [
        {
          "output_type": "execute_result",
          "data": {
            "text/html": [
              "<div>\n",
              "<style scoped>\n",
              "    .dataframe tbody tr th:only-of-type {\n",
              "        vertical-align: middle;\n",
              "    }\n",
              "\n",
              "    .dataframe tbody tr th {\n",
              "        vertical-align: top;\n",
              "    }\n",
              "\n",
              "    .dataframe thead th {\n",
              "        text-align: right;\n",
              "    }\n",
              "</style>\n",
              "<table border=\"1\" class=\"dataframe\">\n",
              "  <thead>\n",
              "    <tr style=\"text-align: right;\">\n",
              "      <th></th>\n",
              "      <th></th>\n",
              "      <th>tip_pct</th>\n",
              "    </tr>\n",
              "    <tr>\n",
              "      <th>sex</th>\n",
              "      <th>smoker</th>\n",
              "      <th></th>\n",
              "    </tr>\n",
              "  </thead>\n",
              "  <tbody>\n",
              "    <tr>\n",
              "      <th rowspan=\"2\" valign=\"top\">Male</th>\n",
              "      <th>Yes</th>\n",
              "      <td>0.152771</td>\n",
              "    </tr>\n",
              "    <tr>\n",
              "      <th>No</th>\n",
              "      <td>0.160669</td>\n",
              "    </tr>\n",
              "    <tr>\n",
              "      <th rowspan=\"2\" valign=\"top\">Female</th>\n",
              "      <th>Yes</th>\n",
              "      <td>0.182150</td>\n",
              "    </tr>\n",
              "    <tr>\n",
              "      <th>No</th>\n",
              "      <td>0.156921</td>\n",
              "    </tr>\n",
              "  </tbody>\n",
              "</table>\n",
              "</div>"
            ],
            "text/plain": [
              "                tip_pct\n",
              "sex    smoker          \n",
              "Male   Yes     0.152771\n",
              "       No      0.160669\n",
              "Female Yes     0.182150\n",
              "       No      0.156921"
            ]
          },
          "metadata": {
            "tags": []
          },
          "execution_count": 11
        }
      ]
    },
    {
      "cell_type": "code",
      "metadata": {
        "colab": {
          "base_uri": "https://localhost:8080/",
          "height": 142
        },
        "id": "VuHQrPU0DtAs",
        "outputId": "e2861797-1436-4f72-c17c-8bb80317545e"
      },
      "source": [
        "#성별에 따른 평균 평균 팁 비율\n",
        "# tips.groupby(\"sex\")[[\"tip_pct\"]].describe()\n",
        "tips.groupby(\"sex\")[[\"tip_pct\"]].mean()"
      ],
      "execution_count": 16,
      "outputs": [
        {
          "output_type": "execute_result",
          "data": {
            "text/html": [
              "<div>\n",
              "<style scoped>\n",
              "    .dataframe tbody tr th:only-of-type {\n",
              "        vertical-align: middle;\n",
              "    }\n",
              "\n",
              "    .dataframe tbody tr th {\n",
              "        vertical-align: top;\n",
              "    }\n",
              "\n",
              "    .dataframe thead th {\n",
              "        text-align: right;\n",
              "    }\n",
              "</style>\n",
              "<table border=\"1\" class=\"dataframe\">\n",
              "  <thead>\n",
              "    <tr style=\"text-align: right;\">\n",
              "      <th></th>\n",
              "      <th>tip_pct</th>\n",
              "    </tr>\n",
              "    <tr>\n",
              "      <th>sex</th>\n",
              "      <th></th>\n",
              "    </tr>\n",
              "  </thead>\n",
              "  <tbody>\n",
              "    <tr>\n",
              "      <th>Male</th>\n",
              "      <td>0.157651</td>\n",
              "    </tr>\n",
              "    <tr>\n",
              "      <th>Female</th>\n",
              "      <td>0.166491</td>\n",
              "    </tr>\n",
              "  </tbody>\n",
              "</table>\n",
              "</div>"
            ],
            "text/plain": [
              "         tip_pct\n",
              "sex             \n",
              "Male    0.157651\n",
              "Female  0.166491"
            ]
          },
          "metadata": {
            "tags": []
          },
          "execution_count": 16
        }
      ]
    },
    {
      "cell_type": "code",
      "metadata": {
        "colab": {
          "base_uri": "https://localhost:8080/",
          "height": 142
        },
        "id": "638EH3tB8fvb",
        "outputId": "ed71c36e-b8bd-4d74-cae3-93767fd87ca2"
      },
      "source": [
        "#흡연 여부에 따른 팁 비율\n",
        "tips.groupby(\"smoker\")[[\"tip_pct\"]].mean()"
      ],
      "execution_count": 13,
      "outputs": [
        {
          "output_type": "execute_result",
          "data": {
            "text/html": [
              "<div>\n",
              "<style scoped>\n",
              "    .dataframe tbody tr th:only-of-type {\n",
              "        vertical-align: middle;\n",
              "    }\n",
              "\n",
              "    .dataframe tbody tr th {\n",
              "        vertical-align: top;\n",
              "    }\n",
              "\n",
              "    .dataframe thead th {\n",
              "        text-align: right;\n",
              "    }\n",
              "</style>\n",
              "<table border=\"1\" class=\"dataframe\">\n",
              "  <thead>\n",
              "    <tr style=\"text-align: right;\">\n",
              "      <th></th>\n",
              "      <th>tip_pct</th>\n",
              "    </tr>\n",
              "    <tr>\n",
              "      <th>smoker</th>\n",
              "      <th></th>\n",
              "    </tr>\n",
              "  </thead>\n",
              "  <tbody>\n",
              "    <tr>\n",
              "      <th>Yes</th>\n",
              "      <td>0.163196</td>\n",
              "    </tr>\n",
              "    <tr>\n",
              "      <th>No</th>\n",
              "      <td>0.159328</td>\n",
              "    </tr>\n",
              "  </tbody>\n",
              "</table>\n",
              "</div>"
            ],
            "text/plain": [
              "         tip_pct\n",
              "smoker          \n",
              "Yes     0.163196\n",
              "No      0.159328"
            ]
          },
          "metadata": {
            "tags": []
          },
          "execution_count": 13
        }
      ]
    },
    {
      "cell_type": "code",
      "metadata": {
        "colab": {
          "base_uri": "https://localhost:8080/",
          "height": 762
        },
        "id": "uaq78F8J8fp8",
        "outputId": "7b810ea0-e627-41c8-f940-b306abb34817"
      },
      "source": [
        "#팁의 비율이 요일과 점심/저녁 여부, 인원수에 어떤 영향을 받는지 살펴보자.\n",
        "tips.pivot_table(\"tip_pct\",\"day\")\n",
        "tips.pivot_table(\"tip_pct\",\"time\")\n",
        "tips.pivot_table(\"tip_pct\",\"size\")\n",
        "\n",
        "tips.pivot_table(\"tip_pct\",[\"day\",\"time\",\"size\"])\n",
        "tips.groupby([\"day\",\"time\",\"size\"])[[\"tip_pct\"]].mean().dropna()"
      ],
      "execution_count": 14,
      "outputs": [
        {
          "output_type": "execute_result",
          "data": {
            "text/html": [
              "<div>\n",
              "<style scoped>\n",
              "    .dataframe tbody tr th:only-of-type {\n",
              "        vertical-align: middle;\n",
              "    }\n",
              "\n",
              "    .dataframe tbody tr th {\n",
              "        vertical-align: top;\n",
              "    }\n",
              "\n",
              "    .dataframe thead th {\n",
              "        text-align: right;\n",
              "    }\n",
              "</style>\n",
              "<table border=\"1\" class=\"dataframe\">\n",
              "  <thead>\n",
              "    <tr style=\"text-align: right;\">\n",
              "      <th></th>\n",
              "      <th></th>\n",
              "      <th></th>\n",
              "      <th>tip_pct</th>\n",
              "    </tr>\n",
              "    <tr>\n",
              "      <th>day</th>\n",
              "      <th>time</th>\n",
              "      <th>size</th>\n",
              "      <th></th>\n",
              "    </tr>\n",
              "  </thead>\n",
              "  <tbody>\n",
              "    <tr>\n",
              "      <th rowspan=\"7\" valign=\"top\">Thur</th>\n",
              "      <th rowspan=\"6\" valign=\"top\">Lunch</th>\n",
              "      <th>1</th>\n",
              "      <td>0.181728</td>\n",
              "    </tr>\n",
              "    <tr>\n",
              "      <th>2</th>\n",
              "      <td>0.164024</td>\n",
              "    </tr>\n",
              "    <tr>\n",
              "      <th>3</th>\n",
              "      <td>0.144599</td>\n",
              "    </tr>\n",
              "    <tr>\n",
              "      <th>4</th>\n",
              "      <td>0.145515</td>\n",
              "    </tr>\n",
              "    <tr>\n",
              "      <th>5</th>\n",
              "      <td>0.121389</td>\n",
              "    </tr>\n",
              "    <tr>\n",
              "      <th>6</th>\n",
              "      <td>0.173706</td>\n",
              "    </tr>\n",
              "    <tr>\n",
              "      <th>Dinner</th>\n",
              "      <th>2</th>\n",
              "      <td>0.159744</td>\n",
              "    </tr>\n",
              "    <tr>\n",
              "      <th rowspan=\"5\" valign=\"top\">Fri</th>\n",
              "      <th rowspan=\"3\" valign=\"top\">Lunch</th>\n",
              "      <th>1</th>\n",
              "      <td>0.223776</td>\n",
              "    </tr>\n",
              "    <tr>\n",
              "      <th>2</th>\n",
              "      <td>0.181969</td>\n",
              "    </tr>\n",
              "    <tr>\n",
              "      <th>3</th>\n",
              "      <td>0.187735</td>\n",
              "    </tr>\n",
              "    <tr>\n",
              "      <th rowspan=\"2\" valign=\"top\">Dinner</th>\n",
              "      <th>2</th>\n",
              "      <td>0.162659</td>\n",
              "    </tr>\n",
              "    <tr>\n",
              "      <th>4</th>\n",
              "      <td>0.117750</td>\n",
              "    </tr>\n",
              "    <tr>\n",
              "      <th rowspan=\"5\" valign=\"top\">Sat</th>\n",
              "      <th rowspan=\"5\" valign=\"top\">Dinner</th>\n",
              "      <th>1</th>\n",
              "      <td>0.231832</td>\n",
              "    </tr>\n",
              "    <tr>\n",
              "      <th>2</th>\n",
              "      <td>0.155289</td>\n",
              "    </tr>\n",
              "    <tr>\n",
              "      <th>3</th>\n",
              "      <td>0.151439</td>\n",
              "    </tr>\n",
              "    <tr>\n",
              "      <th>4</th>\n",
              "      <td>0.138289</td>\n",
              "    </tr>\n",
              "    <tr>\n",
              "      <th>5</th>\n",
              "      <td>0.106572</td>\n",
              "    </tr>\n",
              "    <tr>\n",
              "      <th rowspan=\"5\" valign=\"top\">Sun</th>\n",
              "      <th rowspan=\"5\" valign=\"top\">Dinner</th>\n",
              "      <th>2</th>\n",
              "      <td>0.180870</td>\n",
              "    </tr>\n",
              "    <tr>\n",
              "      <th>3</th>\n",
              "      <td>0.152662</td>\n",
              "    </tr>\n",
              "    <tr>\n",
              "      <th>4</th>\n",
              "      <td>0.153168</td>\n",
              "    </tr>\n",
              "    <tr>\n",
              "      <th>5</th>\n",
              "      <td>0.159839</td>\n",
              "    </tr>\n",
              "    <tr>\n",
              "      <th>6</th>\n",
              "      <td>0.103799</td>\n",
              "    </tr>\n",
              "  </tbody>\n",
              "</table>\n",
              "</div>"
            ],
            "text/plain": [
              "                   tip_pct\n",
              "day  time   size          \n",
              "Thur Lunch  1     0.181728\n",
              "            2     0.164024\n",
              "            3     0.144599\n",
              "            4     0.145515\n",
              "            5     0.121389\n",
              "            6     0.173706\n",
              "     Dinner 2     0.159744\n",
              "Fri  Lunch  1     0.223776\n",
              "            2     0.181969\n",
              "            3     0.187735\n",
              "     Dinner 2     0.162659\n",
              "            4     0.117750\n",
              "Sat  Dinner 1     0.231832\n",
              "            2     0.155289\n",
              "            3     0.151439\n",
              "            4     0.138289\n",
              "            5     0.106572\n",
              "Sun  Dinner 2     0.180870\n",
              "            3     0.152662\n",
              "            4     0.153168\n",
              "            5     0.159839\n",
              "            6     0.103799"
            ]
          },
          "metadata": {
            "tags": []
          },
          "execution_count": 14
        }
      ]
    },
    {
      "cell_type": "code",
      "metadata": {
        "colab": {
          "base_uri": "https://localhost:8080/",
          "height": 204
        },
        "id": "UEY5npnCgLuh",
        "outputId": "79cb04c9-3a32-4c0c-dd67-2a8b533e650b"
      },
      "source": [
        "#성별,흡연 유무별로 가장 많은 팁과 가장 적은 팁의 차이\n",
        "\n",
        "def peak_to_peak(x):\n",
        "    return x.max() - x.min()\n",
        "tips.groupby([\"sex\",\"smoker\"])[[\"tip\"]].agg(peak_to_peak)\n",
        "tips.groupby([\"sex\",\"smoker\"])[[\"tip\"]].apply(peak_to_peak)\n",
        "#tips.groupby([\"sex\",\"smoker\"])[[\"tip\"]].transform(peak_to_peak)\n",
        "tips.groupby([\"sex\",\"smoker\"]).agg({\"tip_pct\":\"mean\",\"total_bill\":peak_to_peak})\n",
        "\n",
        "tips.pivot_table([\"tip_pct\", \"size\"], [\"sex\", \"day\"], \"smoker\")\n",
        "tips.pivot_table(\"size\", [\"time\", \"sex\", \"smoker\"], \"day\", aggfunc = \"sum\", fill_value = 0)"
      ],
      "execution_count": 15,
      "outputs": [
        {
          "output_type": "execute_result",
          "data": {
            "text/html": [
              "<div>\n",
              "<style scoped>\n",
              "    .dataframe tbody tr th:only-of-type {\n",
              "        vertical-align: middle;\n",
              "    }\n",
              "\n",
              "    .dataframe tbody tr th {\n",
              "        vertical-align: top;\n",
              "    }\n",
              "\n",
              "    .dataframe thead th {\n",
              "        text-align: right;\n",
              "    }\n",
              "</style>\n",
              "<table border=\"1\" class=\"dataframe\">\n",
              "  <thead>\n",
              "    <tr style=\"text-align: right;\">\n",
              "      <th></th>\n",
              "      <th></th>\n",
              "      <th>tip_pct</th>\n",
              "      <th>total_bill</th>\n",
              "    </tr>\n",
              "    <tr>\n",
              "      <th>sex</th>\n",
              "      <th>smoker</th>\n",
              "      <th></th>\n",
              "      <th></th>\n",
              "    </tr>\n",
              "  </thead>\n",
              "  <tbody>\n",
              "    <tr>\n",
              "      <th rowspan=\"2\" valign=\"top\">Male</th>\n",
              "      <th>Yes</th>\n",
              "      <td>0.152771</td>\n",
              "      <td>43.56</td>\n",
              "    </tr>\n",
              "    <tr>\n",
              "      <th>No</th>\n",
              "      <td>0.160669</td>\n",
              "      <td>40.82</td>\n",
              "    </tr>\n",
              "    <tr>\n",
              "      <th rowspan=\"2\" valign=\"top\">Female</th>\n",
              "      <th>Yes</th>\n",
              "      <td>0.182150</td>\n",
              "      <td>41.23</td>\n",
              "    </tr>\n",
              "    <tr>\n",
              "      <th>No</th>\n",
              "      <td>0.156921</td>\n",
              "      <td>28.58</td>\n",
              "    </tr>\n",
              "  </tbody>\n",
              "</table>\n",
              "</div>"
            ],
            "text/plain": [
              "                tip_pct  total_bill\n",
              "sex    smoker                      \n",
              "Male   Yes     0.152771       43.56\n",
              "       No      0.160669       40.82\n",
              "Female Yes     0.182150       41.23\n",
              "       No      0.156921       28.58"
            ]
          },
          "metadata": {
            "tags": []
          },
          "execution_count": 15
        }
      ]
    },
    {
      "cell_type": "markdown",
      "metadata": {
        "id": "xcWDXDscE0oM"
      },
      "source": [
        "#### 2) 데이터 준비"
      ]
    },
    {
      "cell_type": "code",
      "metadata": {
        "colab": {
          "base_uri": "https://localhost:8080/",
          "height": 204
        },
        "id": "GBchgx7QD-eF",
        "outputId": "c10bf0d1-461c-498d-baa4-61be8f22c05c"
      },
      "source": [
        "titanic = sns.load_dataset(\"titanic\")\n",
        "titanic.count()\n",
        "titanic.head()"
      ],
      "execution_count": 17,
      "outputs": [
        {
          "output_type": "execute_result",
          "data": {
            "text/html": [
              "<div>\n",
              "<style scoped>\n",
              "    .dataframe tbody tr th:only-of-type {\n",
              "        vertical-align: middle;\n",
              "    }\n",
              "\n",
              "    .dataframe tbody tr th {\n",
              "        vertical-align: top;\n",
              "    }\n",
              "\n",
              "    .dataframe thead th {\n",
              "        text-align: right;\n",
              "    }\n",
              "</style>\n",
              "<table border=\"1\" class=\"dataframe\">\n",
              "  <thead>\n",
              "    <tr style=\"text-align: right;\">\n",
              "      <th></th>\n",
              "      <th>survived</th>\n",
              "      <th>pclass</th>\n",
              "      <th>sex</th>\n",
              "      <th>age</th>\n",
              "      <th>sibsp</th>\n",
              "      <th>parch</th>\n",
              "      <th>fare</th>\n",
              "      <th>embarked</th>\n",
              "      <th>class</th>\n",
              "      <th>who</th>\n",
              "      <th>adult_male</th>\n",
              "      <th>deck</th>\n",
              "      <th>embark_town</th>\n",
              "      <th>alive</th>\n",
              "      <th>alone</th>\n",
              "    </tr>\n",
              "  </thead>\n",
              "  <tbody>\n",
              "    <tr>\n",
              "      <th>0</th>\n",
              "      <td>0</td>\n",
              "      <td>3</td>\n",
              "      <td>male</td>\n",
              "      <td>22.0</td>\n",
              "      <td>1</td>\n",
              "      <td>0</td>\n",
              "      <td>7.2500</td>\n",
              "      <td>S</td>\n",
              "      <td>Third</td>\n",
              "      <td>man</td>\n",
              "      <td>True</td>\n",
              "      <td>NaN</td>\n",
              "      <td>Southampton</td>\n",
              "      <td>no</td>\n",
              "      <td>False</td>\n",
              "    </tr>\n",
              "    <tr>\n",
              "      <th>1</th>\n",
              "      <td>1</td>\n",
              "      <td>1</td>\n",
              "      <td>female</td>\n",
              "      <td>38.0</td>\n",
              "      <td>1</td>\n",
              "      <td>0</td>\n",
              "      <td>71.2833</td>\n",
              "      <td>C</td>\n",
              "      <td>First</td>\n",
              "      <td>woman</td>\n",
              "      <td>False</td>\n",
              "      <td>C</td>\n",
              "      <td>Cherbourg</td>\n",
              "      <td>yes</td>\n",
              "      <td>False</td>\n",
              "    </tr>\n",
              "    <tr>\n",
              "      <th>2</th>\n",
              "      <td>1</td>\n",
              "      <td>3</td>\n",
              "      <td>female</td>\n",
              "      <td>26.0</td>\n",
              "      <td>0</td>\n",
              "      <td>0</td>\n",
              "      <td>7.9250</td>\n",
              "      <td>S</td>\n",
              "      <td>Third</td>\n",
              "      <td>woman</td>\n",
              "      <td>False</td>\n",
              "      <td>NaN</td>\n",
              "      <td>Southampton</td>\n",
              "      <td>yes</td>\n",
              "      <td>True</td>\n",
              "    </tr>\n",
              "    <tr>\n",
              "      <th>3</th>\n",
              "      <td>1</td>\n",
              "      <td>1</td>\n",
              "      <td>female</td>\n",
              "      <td>35.0</td>\n",
              "      <td>1</td>\n",
              "      <td>0</td>\n",
              "      <td>53.1000</td>\n",
              "      <td>S</td>\n",
              "      <td>First</td>\n",
              "      <td>woman</td>\n",
              "      <td>False</td>\n",
              "      <td>C</td>\n",
              "      <td>Southampton</td>\n",
              "      <td>yes</td>\n",
              "      <td>False</td>\n",
              "    </tr>\n",
              "    <tr>\n",
              "      <th>4</th>\n",
              "      <td>0</td>\n",
              "      <td>3</td>\n",
              "      <td>male</td>\n",
              "      <td>35.0</td>\n",
              "      <td>0</td>\n",
              "      <td>0</td>\n",
              "      <td>8.0500</td>\n",
              "      <td>S</td>\n",
              "      <td>Third</td>\n",
              "      <td>man</td>\n",
              "      <td>True</td>\n",
              "      <td>NaN</td>\n",
              "      <td>Southampton</td>\n",
              "      <td>no</td>\n",
              "      <td>True</td>\n",
              "    </tr>\n",
              "  </tbody>\n",
              "</table>\n",
              "</div>"
            ],
            "text/plain": [
              "   survived  pclass     sex   age  ...  deck  embark_town  alive  alone\n",
              "0         0       3    male  22.0  ...   NaN  Southampton     no  False\n",
              "1         1       1  female  38.0  ...     C    Cherbourg    yes  False\n",
              "2         1       3  female  26.0  ...   NaN  Southampton    yes   True\n",
              "3         1       1  female  35.0  ...     C  Southampton    yes  False\n",
              "4         0       3    male  35.0  ...   NaN  Southampton     no   True\n",
              "\n",
              "[5 rows x 15 columns]"
            ]
          },
          "metadata": {
            "tags": []
          },
          "execution_count": 17
        }
      ]
    },
    {
      "cell_type": "code",
      "metadata": {
        "colab": {
          "base_uri": "https://localhost:8080/",
          "height": 359
        },
        "id": "Yj8lvXJaD-bH",
        "outputId": "a271c6b8-eb8f-4213-8b63-7af4c5547039"
      },
      "source": [
        "##### 나이대별 클래스를 만들어서 파생변수로 추가(age_class)\n",
        "# 1,20,60,100으로 3등분해서 미성년, 성년, 노년으로 분류\n",
        "\n",
        "titanic[\"age_class\"] = pd.qcut(titanic[\"age\"], 3, labels = [\"미성년\", \"성년\", \"노년\"])\n",
        "titanic.head(10)\n",
        "\n",
        "bins = [1, 20, 60, 100]\n",
        "labels = [\"미성년\", \"성년\", \"노년\"]\n",
        "titanic[\"age_class2\"] = pd.cut(titanic[\"age\"], bins = bins, labels = labels)\n",
        "titanic.head(10)"
      ],
      "execution_count": 20,
      "outputs": [
        {
          "output_type": "execute_result",
          "data": {
            "text/html": [
              "<div>\n",
              "<style scoped>\n",
              "    .dataframe tbody tr th:only-of-type {\n",
              "        vertical-align: middle;\n",
              "    }\n",
              "\n",
              "    .dataframe tbody tr th {\n",
              "        vertical-align: top;\n",
              "    }\n",
              "\n",
              "    .dataframe thead th {\n",
              "        text-align: right;\n",
              "    }\n",
              "</style>\n",
              "<table border=\"1\" class=\"dataframe\">\n",
              "  <thead>\n",
              "    <tr style=\"text-align: right;\">\n",
              "      <th></th>\n",
              "      <th>survived</th>\n",
              "      <th>pclass</th>\n",
              "      <th>sex</th>\n",
              "      <th>age</th>\n",
              "      <th>sibsp</th>\n",
              "      <th>parch</th>\n",
              "      <th>fare</th>\n",
              "      <th>embarked</th>\n",
              "      <th>class</th>\n",
              "      <th>who</th>\n",
              "      <th>adult_male</th>\n",
              "      <th>deck</th>\n",
              "      <th>embark_town</th>\n",
              "      <th>alive</th>\n",
              "      <th>alone</th>\n",
              "      <th>age_class</th>\n",
              "      <th>age_class2</th>\n",
              "    </tr>\n",
              "  </thead>\n",
              "  <tbody>\n",
              "    <tr>\n",
              "      <th>0</th>\n",
              "      <td>0</td>\n",
              "      <td>3</td>\n",
              "      <td>male</td>\n",
              "      <td>22.0</td>\n",
              "      <td>1</td>\n",
              "      <td>0</td>\n",
              "      <td>7.2500</td>\n",
              "      <td>S</td>\n",
              "      <td>Third</td>\n",
              "      <td>man</td>\n",
              "      <td>True</td>\n",
              "      <td>NaN</td>\n",
              "      <td>Southampton</td>\n",
              "      <td>no</td>\n",
              "      <td>False</td>\n",
              "      <td>미성년</td>\n",
              "      <td>성년</td>\n",
              "    </tr>\n",
              "    <tr>\n",
              "      <th>1</th>\n",
              "      <td>1</td>\n",
              "      <td>1</td>\n",
              "      <td>female</td>\n",
              "      <td>38.0</td>\n",
              "      <td>1</td>\n",
              "      <td>0</td>\n",
              "      <td>71.2833</td>\n",
              "      <td>C</td>\n",
              "      <td>First</td>\n",
              "      <td>woman</td>\n",
              "      <td>False</td>\n",
              "      <td>C</td>\n",
              "      <td>Cherbourg</td>\n",
              "      <td>yes</td>\n",
              "      <td>False</td>\n",
              "      <td>노년</td>\n",
              "      <td>성년</td>\n",
              "    </tr>\n",
              "    <tr>\n",
              "      <th>2</th>\n",
              "      <td>1</td>\n",
              "      <td>3</td>\n",
              "      <td>female</td>\n",
              "      <td>26.0</td>\n",
              "      <td>0</td>\n",
              "      <td>0</td>\n",
              "      <td>7.9250</td>\n",
              "      <td>S</td>\n",
              "      <td>Third</td>\n",
              "      <td>woman</td>\n",
              "      <td>False</td>\n",
              "      <td>NaN</td>\n",
              "      <td>Southampton</td>\n",
              "      <td>yes</td>\n",
              "      <td>True</td>\n",
              "      <td>성년</td>\n",
              "      <td>성년</td>\n",
              "    </tr>\n",
              "    <tr>\n",
              "      <th>3</th>\n",
              "      <td>1</td>\n",
              "      <td>1</td>\n",
              "      <td>female</td>\n",
              "      <td>35.0</td>\n",
              "      <td>1</td>\n",
              "      <td>0</td>\n",
              "      <td>53.1000</td>\n",
              "      <td>S</td>\n",
              "      <td>First</td>\n",
              "      <td>woman</td>\n",
              "      <td>False</td>\n",
              "      <td>C</td>\n",
              "      <td>Southampton</td>\n",
              "      <td>yes</td>\n",
              "      <td>False</td>\n",
              "      <td>노년</td>\n",
              "      <td>성년</td>\n",
              "    </tr>\n",
              "    <tr>\n",
              "      <th>4</th>\n",
              "      <td>0</td>\n",
              "      <td>3</td>\n",
              "      <td>male</td>\n",
              "      <td>35.0</td>\n",
              "      <td>0</td>\n",
              "      <td>0</td>\n",
              "      <td>8.0500</td>\n",
              "      <td>S</td>\n",
              "      <td>Third</td>\n",
              "      <td>man</td>\n",
              "      <td>True</td>\n",
              "      <td>NaN</td>\n",
              "      <td>Southampton</td>\n",
              "      <td>no</td>\n",
              "      <td>True</td>\n",
              "      <td>노년</td>\n",
              "      <td>성년</td>\n",
              "    </tr>\n",
              "    <tr>\n",
              "      <th>5</th>\n",
              "      <td>0</td>\n",
              "      <td>3</td>\n",
              "      <td>male</td>\n",
              "      <td>NaN</td>\n",
              "      <td>0</td>\n",
              "      <td>0</td>\n",
              "      <td>8.4583</td>\n",
              "      <td>Q</td>\n",
              "      <td>Third</td>\n",
              "      <td>man</td>\n",
              "      <td>True</td>\n",
              "      <td>NaN</td>\n",
              "      <td>Queenstown</td>\n",
              "      <td>no</td>\n",
              "      <td>True</td>\n",
              "      <td>NaN</td>\n",
              "      <td>NaN</td>\n",
              "    </tr>\n",
              "    <tr>\n",
              "      <th>6</th>\n",
              "      <td>0</td>\n",
              "      <td>1</td>\n",
              "      <td>male</td>\n",
              "      <td>54.0</td>\n",
              "      <td>0</td>\n",
              "      <td>0</td>\n",
              "      <td>51.8625</td>\n",
              "      <td>S</td>\n",
              "      <td>First</td>\n",
              "      <td>man</td>\n",
              "      <td>True</td>\n",
              "      <td>E</td>\n",
              "      <td>Southampton</td>\n",
              "      <td>no</td>\n",
              "      <td>True</td>\n",
              "      <td>노년</td>\n",
              "      <td>성년</td>\n",
              "    </tr>\n",
              "    <tr>\n",
              "      <th>7</th>\n",
              "      <td>0</td>\n",
              "      <td>3</td>\n",
              "      <td>male</td>\n",
              "      <td>2.0</td>\n",
              "      <td>3</td>\n",
              "      <td>1</td>\n",
              "      <td>21.0750</td>\n",
              "      <td>S</td>\n",
              "      <td>Third</td>\n",
              "      <td>child</td>\n",
              "      <td>False</td>\n",
              "      <td>NaN</td>\n",
              "      <td>Southampton</td>\n",
              "      <td>no</td>\n",
              "      <td>False</td>\n",
              "      <td>미성년</td>\n",
              "      <td>미성년</td>\n",
              "    </tr>\n",
              "    <tr>\n",
              "      <th>8</th>\n",
              "      <td>1</td>\n",
              "      <td>3</td>\n",
              "      <td>female</td>\n",
              "      <td>27.0</td>\n",
              "      <td>0</td>\n",
              "      <td>2</td>\n",
              "      <td>11.1333</td>\n",
              "      <td>S</td>\n",
              "      <td>Third</td>\n",
              "      <td>woman</td>\n",
              "      <td>False</td>\n",
              "      <td>NaN</td>\n",
              "      <td>Southampton</td>\n",
              "      <td>yes</td>\n",
              "      <td>False</td>\n",
              "      <td>성년</td>\n",
              "      <td>성년</td>\n",
              "    </tr>\n",
              "    <tr>\n",
              "      <th>9</th>\n",
              "      <td>1</td>\n",
              "      <td>2</td>\n",
              "      <td>female</td>\n",
              "      <td>14.0</td>\n",
              "      <td>1</td>\n",
              "      <td>0</td>\n",
              "      <td>30.0708</td>\n",
              "      <td>C</td>\n",
              "      <td>Second</td>\n",
              "      <td>child</td>\n",
              "      <td>False</td>\n",
              "      <td>NaN</td>\n",
              "      <td>Cherbourg</td>\n",
              "      <td>yes</td>\n",
              "      <td>False</td>\n",
              "      <td>미성년</td>\n",
              "      <td>미성년</td>\n",
              "    </tr>\n",
              "  </tbody>\n",
              "</table>\n",
              "</div>"
            ],
            "text/plain": [
              "   survived  pclass     sex   age  ...  alive  alone  age_class age_class2\n",
              "0         0       3    male  22.0  ...     no  False        미성년         성년\n",
              "1         1       1  female  38.0  ...    yes  False         노년         성년\n",
              "2         1       3  female  26.0  ...    yes   True         성년         성년\n",
              "3         1       1  female  35.0  ...    yes  False         노년         성년\n",
              "4         0       3    male  35.0  ...     no   True         노년         성년\n",
              "5         0       3    male   NaN  ...     no   True        NaN        NaN\n",
              "6         0       1    male  54.0  ...     no   True         노년         성년\n",
              "7         0       3    male   2.0  ...     no  False        미성년        미성년\n",
              "8         1       3  female  27.0  ...    yes  False         성년         성년\n",
              "9         1       2  female  14.0  ...    yes  False        미성년        미성년\n",
              "\n",
              "[10 rows x 17 columns]"
            ]
          },
          "metadata": {
            "tags": []
          },
          "execution_count": 20
        }
      ]
    },
    {
      "cell_type": "code",
      "metadata": {
        "colab": {
          "base_uri": "https://localhost:8080/",
          "height": 266
        },
        "id": "lUZNkIaOD-X_",
        "outputId": "8eb25484-9b8e-4d92-8573-e3ae7661b0b4"
      },
      "source": [
        "##### 성별 , 나이대별, 객실별로 생존여부의 평균값 조회\n",
        "titanic.groupby([\"sex\", \"age_class2\", \"pclass\"])[[\"survived\"]].mean()\n",
        "titanic.groupby([\"sex\", \"age_class2\", \"pclass\"])[[\"survived\"]].mean().unstack(\"pclass\")\n",
        "titanic.pivot_table(\"survived\", [\"sex\", \"pclass\"])"
      ],
      "execution_count": 22,
      "outputs": [
        {
          "output_type": "execute_result",
          "data": {
            "text/html": [
              "<div>\n",
              "<style scoped>\n",
              "    .dataframe tbody tr th:only-of-type {\n",
              "        vertical-align: middle;\n",
              "    }\n",
              "\n",
              "    .dataframe tbody tr th {\n",
              "        vertical-align: top;\n",
              "    }\n",
              "\n",
              "    .dataframe thead th {\n",
              "        text-align: right;\n",
              "    }\n",
              "</style>\n",
              "<table border=\"1\" class=\"dataframe\">\n",
              "  <thead>\n",
              "    <tr style=\"text-align: right;\">\n",
              "      <th></th>\n",
              "      <th></th>\n",
              "      <th>survived</th>\n",
              "    </tr>\n",
              "    <tr>\n",
              "      <th>sex</th>\n",
              "      <th>pclass</th>\n",
              "      <th></th>\n",
              "    </tr>\n",
              "  </thead>\n",
              "  <tbody>\n",
              "    <tr>\n",
              "      <th rowspan=\"3\" valign=\"top\">female</th>\n",
              "      <th>1</th>\n",
              "      <td>0.968085</td>\n",
              "    </tr>\n",
              "    <tr>\n",
              "      <th>2</th>\n",
              "      <td>0.921053</td>\n",
              "    </tr>\n",
              "    <tr>\n",
              "      <th>3</th>\n",
              "      <td>0.500000</td>\n",
              "    </tr>\n",
              "    <tr>\n",
              "      <th rowspan=\"3\" valign=\"top\">male</th>\n",
              "      <th>1</th>\n",
              "      <td>0.368852</td>\n",
              "    </tr>\n",
              "    <tr>\n",
              "      <th>2</th>\n",
              "      <td>0.157407</td>\n",
              "    </tr>\n",
              "    <tr>\n",
              "      <th>3</th>\n",
              "      <td>0.135447</td>\n",
              "    </tr>\n",
              "  </tbody>\n",
              "</table>\n",
              "</div>"
            ],
            "text/plain": [
              "               survived\n",
              "sex    pclass          \n",
              "female 1       0.968085\n",
              "       2       0.921053\n",
              "       3       0.500000\n",
              "male   1       0.368852\n",
              "       2       0.157407\n",
              "       3       0.135447"
            ]
          },
          "metadata": {
            "tags": []
          },
          "execution_count": 22
        }
      ]
    },
    {
      "cell_type": "markdown",
      "metadata": {
        "id": "0LN2qgZ-Jzk_"
      },
      "source": [
        "#### 8. 시계열 데이터\n",
        "\n",
        "- DateTimeIndex 자료형\n",
        "      - pd.to_datetime() : 문자열을 날짜 타입으로 변환\n",
        "      - pd.date_range() : 날짜의 범위"
      ]
    },
    {
      "cell_type": "code",
      "metadata": {
        "colab": {
          "base_uri": "https://localhost:8080/"
        },
        "id": "cdp7vir3D-VO",
        "outputId": "03bcdefe-d1a7-4e70-c01e-51648f41c1e1"
      },
      "source": [
        "date_str = [\"2021, 1, 1\", \"2021, 1, 4\", \"2021, 1, 6\", \"2021, 1, 9\"]\n",
        "\n",
        "idx = pd.to_datetime(date_str)\n",
        "idx"
      ],
      "execution_count": 95,
      "outputs": [
        {
          "output_type": "execute_result",
          "data": {
            "text/plain": [
              "DatetimeIndex(['2021-01-01', '2021-01-04', '2021-01-06', '2021-01-09'], dtype='datetime64[ns]', freq=None)"
            ]
          },
          "metadata": {
            "tags": []
          },
          "execution_count": 95
        }
      ]
    },
    {
      "cell_type": "code",
      "metadata": {
        "colab": {
          "base_uri": "https://localhost:8080/"
        },
        "id": "sMqQuq1HLu2i",
        "outputId": "a29ead4b-a94f-4451-ba03-89fe43a57766"
      },
      "source": [
        "# 날짜를 인덱스로 활용\n",
        "\n",
        "np.random.seed(0)\n",
        "s = pd.Series(np.random.randn(4), index=idx)\n",
        "s"
      ],
      "execution_count": 92,
      "outputs": [
        {
          "output_type": "execute_result",
          "data": {
            "text/plain": [
              "2021-01-01    1.764052\n",
              "2021-01-04    0.400157\n",
              "2021-01-06    0.978738\n",
              "2021-01-09    2.240893\n",
              "dtype: float64"
            ]
          },
          "metadata": {
            "tags": []
          },
          "execution_count": 92
        }
      ]
    },
    {
      "cell_type": "code",
      "metadata": {
        "colab": {
          "base_uri": "https://localhost:8080/"
        },
        "id": "lyWaPGnoLuyX",
        "outputId": "a45ee040-fee1-429b-eacf-f6f9a4406d09"
      },
      "source": [
        "# 날짜 데이터 생성\n",
        "pd.date_range(\"2020-1-1\",\"2020-4-30\")\n",
        "pd.date_range(\"2020-1-1\",periods = 30)\n",
        "# freq = 'D' 일수를 기준으로 반복했다"
      ],
      "execution_count": 100,
      "outputs": [
        {
          "output_type": "execute_result",
          "data": {
            "text/plain": [
              "DatetimeIndex(['2020-01-01', '2020-01-02', '2020-01-03', '2020-01-04',\n",
              "               '2020-01-05', '2020-01-06', '2020-01-07', '2020-01-08',\n",
              "               '2020-01-09', '2020-01-10', '2020-01-11', '2020-01-12',\n",
              "               '2020-01-13', '2020-01-14', '2020-01-15', '2020-01-16',\n",
              "               '2020-01-17', '2020-01-18', '2020-01-19', '2020-01-20',\n",
              "               '2020-01-21', '2020-01-22', '2020-01-23', '2020-01-24',\n",
              "               '2020-01-25', '2020-01-26', '2020-01-27', '2020-01-28',\n",
              "               '2020-01-29', '2020-01-30'],\n",
              "              dtype='datetime64[ns]', freq='D')"
            ]
          },
          "metadata": {
            "tags": []
          },
          "execution_count": 100
        }
      ]
    },
    {
      "cell_type": "code",
      "metadata": {
        "id": "JdO5wUt-Luty"
      },
      "source": [
        "\"\"\"\n",
        "freq\n",
        "    S : 초\n",
        "    T : 분\n",
        "    H : 시간\n",
        "    D : 일\n",
        "    B : 주말이 아닌 평일\n",
        "    W : 주(일요일)\n",
        "    W-MON : 주(월요일)\n",
        "    M : 각 달의 마지막 날\n",
        "    MS : 각 달의 첫날\n",
        "    BM : 주말이 아닌 평일중에서 각 달의 마지막 날\n",
        "    BMS : 주말이 아닌 평일중에서 각 달의 첫날\n",
        "    WOM-2THU : 각 달의 두번째 목요일\n",
        "    Q-JAN : 각 분기의 첫 달의 마지막 날\n",
        "    Q-DEC : 각 분기의 마지막 달의 마지막 날\n",
        "\"\"\""
      ],
      "execution_count": null,
      "outputs": []
    },
    {
      "cell_type": "code",
      "metadata": {
        "colab": {
          "base_uri": "https://localhost:8080/"
        },
        "id": "Sxx0YljOOIiT",
        "outputId": "11f1ea8a-def6-40c5-fdf9-21726d65e4c1"
      },
      "source": [
        "pd.date_range(\"2021-1-1\",\"2021-1-31\",freq=\"B\")"
      ],
      "execution_count": 101,
      "outputs": [
        {
          "output_type": "execute_result",
          "data": {
            "text/plain": [
              "DatetimeIndex(['2021-01-01', '2021-01-04', '2021-01-05', '2021-01-06',\n",
              "               '2021-01-07', '2021-01-08', '2021-01-11', '2021-01-12',\n",
              "               '2021-01-13', '2021-01-14', '2021-01-15', '2021-01-18',\n",
              "               '2021-01-19', '2021-01-20', '2021-01-21', '2021-01-22',\n",
              "               '2021-01-25', '2021-01-26', '2021-01-27', '2021-01-28',\n",
              "               '2021-01-29'],\n",
              "              dtype='datetime64[ns]', freq='B')"
            ]
          },
          "metadata": {
            "tags": []
          },
          "execution_count": 101
        }
      ]
    },
    {
      "cell_type": "code",
      "metadata": {
        "colab": {
          "base_uri": "https://localhost:8080/"
        },
        "id": "CD2veJqkOIbb",
        "outputId": "6a50b08e-3de6-4f87-d65b-e5f3e333817e"
      },
      "source": [
        "#### shift 연산\n",
        "\n",
        "np.random.seed(0)\n",
        "ts = pd.Series(np.random.randn(4),index=pd.date_range(\"2021-1,1\",periods=4, freq=\"M\"))\n",
        "\n",
        "print(ts)\n",
        "print(\"=\"*40)\n",
        "print(ts.shift(1))\n",
        "print(\"=\"*40)\n",
        "print(ts.shift(-1))\n",
        "print(\"=\"*40)\n",
        "\n",
        "print(ts.shift(1, freq=\"M\"))\n",
        "\n",
        "print(\"=\"*40)\n",
        "\n",
        "print(ts.shift(1, freq=\"W\"))"
      ],
      "execution_count": 104,
      "outputs": [
        {
          "output_type": "stream",
          "text": [
            "2021-01-31    1.764052\n",
            "2021-02-28    0.400157\n",
            "2021-03-31    0.978738\n",
            "2021-04-30    2.240893\n",
            "Freq: M, dtype: float64\n",
            "========================================\n",
            "2021-01-31         NaN\n",
            "2021-02-28    1.764052\n",
            "2021-03-31    0.400157\n",
            "2021-04-30    0.978738\n",
            "Freq: M, dtype: float64\n",
            "========================================\n",
            "2021-01-31    0.400157\n",
            "2021-02-28    0.978738\n",
            "2021-03-31    2.240893\n",
            "2021-04-30         NaN\n",
            "Freq: M, dtype: float64\n",
            "========================================\n",
            "2021-02-28    1.764052\n",
            "2021-03-31    0.400157\n",
            "2021-04-30    0.978738\n",
            "2021-05-31    2.240893\n",
            "Freq: M, dtype: float64\n",
            "========================================\n",
            "2021-02-07    1.764052\n",
            "2021-03-07    0.400157\n",
            "2021-04-04    0.978738\n",
            "2021-05-02    2.240893\n",
            "dtype: float64\n"
          ],
          "name": "stdout"
        }
      ]
    },
    {
      "cell_type": "code",
      "metadata": {
        "colab": {
          "base_uri": "https://localhost:8080/"
        },
        "id": "DSbQZnlFOIVt",
        "outputId": "d2d0ee2d-3dfc-472d-c892-0259b4155a53"
      },
      "source": [
        "#### resampling :시간 간격을 다시 재조정\n",
        "#### 시간구간이 작아지면 데이터 양이 증가 : 업-샘플링\n",
        "#### 시간 구간이 커지면 데이터 양이 감소 : 다운-샘플링\n",
        "\n",
        "ts= pd.Series(np.random.randn(100), index=pd.date_range(\"2021-1-1\",periods=100, freq=\"D\"))\n",
        "\n",
        "print(ts.tail(10))\n",
        "\n",
        "print(\"=\"*40)\n",
        "\n",
        "#### 다운 샘플링 : 데이터가 그룹으로 묶이기 때문에 집계 연산을 해서 대표값을 구해야 한다\n",
        "\n",
        "print(ts.resample(\"W\").mean())\n",
        "\n",
        "print(\"=\"*40)\n",
        "\n",
        "print(ts.resample(\"M\").mean())\n",
        "\n",
        "print(\"=\"*40)\n",
        "\n",
        "ts= pd.Series(np.random.randn(60), index=pd.date_range(\"2021-1-1\",periods=60, freq=\"T\"))\n",
        "ts\n",
        "print(ts.resample(\"10T\").sum())"
      ],
      "execution_count": 112,
      "outputs": [
        {
          "output_type": "stream",
          "text": [
            "2021-04-01   -0.532703\n",
            "2021-04-02    1.090750\n",
            "2021-04-03   -0.346249\n",
            "2021-04-04   -0.794636\n",
            "2021-04-05    0.197967\n",
            "2021-04-06    1.081935\n",
            "2021-04-07   -1.444940\n",
            "2021-04-08   -1.210543\n",
            "2021-04-09   -0.788669\n",
            "2021-04-10    1.094638\n",
            "Freq: D, dtype: float64\n",
            "========================================\n",
            "2021-01-03   -0.702170\n",
            "2021-01-10   -0.495660\n",
            "2021-01-17    0.183109\n",
            "2021-01-24   -0.093654\n",
            "2021-01-31   -0.174310\n",
            "2021-02-07    0.456463\n",
            "2021-02-14   -0.161245\n",
            "2021-02-21    0.147296\n",
            "2021-02-28   -0.635044\n",
            "2021-03-07   -0.224454\n",
            "2021-03-14   -0.802170\n",
            "2021-03-21    0.713130\n",
            "2021-03-28   -0.044222\n",
            "2021-04-04   -0.416237\n",
            "2021-04-11   -0.178269\n",
            "Freq: W-SUN, dtype: float64\n",
            "========================================\n",
            "2021-01-31   -0.199036\n",
            "2021-02-28   -0.048132\n",
            "2021-03-31   -0.155962\n",
            "2021-04-30   -0.165245\n",
            "Freq: M, dtype: float64\n",
            "========================================\n",
            "2021-01-01 00:00:00    3.733230\n",
            "2021-01-01 00:10:00   -0.670456\n",
            "2021-01-01 00:20:00   -3.659101\n",
            "2021-01-01 00:30:00   -2.256838\n",
            "2021-01-01 00:40:00    0.255288\n",
            "2021-01-01 00:50:00   -0.195517\n",
            "Freq: 10T, dtype: float64\n"
          ],
          "name": "stdout"
        }
      ]
    },
    {
      "cell_type": "code",
      "metadata": {
        "colab": {
          "base_uri": "https://localhost:8080/"
        },
        "id": "Wn7W4YOOOIS4",
        "outputId": "84bb33cd-50f8-426e-f9a3-5669ab37603c"
      },
      "source": [
        "#### up-samling\n",
        "#### forward filling : 앞에서 나온 데이터를 그대로 사용\n",
        "#### backward filling : 뒤에서 나올 데이터를 앞에서 미리 사용\n",
        "\n",
        "print(ts.head(10))\n",
        "print(\"=\"*40)\n",
        "print(ts.resample(\"30S\").ffill().head(10))\n",
        "print(\"=\"*40)\n",
        "print(ts.resample(\"30S\").bfill().head(10))"
      ],
      "execution_count": 116,
      "outputs": [
        {
          "output_type": "stream",
          "text": [
            "2021-01-01 00:00:00    0.234822\n",
            "2021-01-01 00:01:00    2.132153\n",
            "2021-01-01 00:02:00    0.936446\n",
            "2021-01-01 00:03:00   -0.035095\n",
            "2021-01-01 00:04:00    1.265078\n",
            "2021-01-01 00:05:00    0.211497\n",
            "2021-01-01 00:06:00   -0.704921\n",
            "2021-01-01 00:07:00    0.679975\n",
            "2021-01-01 00:08:00   -0.696327\n",
            "2021-01-01 00:09:00   -0.290397\n",
            "Freq: T, dtype: float64\n",
            "========================================\n",
            "2021-01-01 00:00:00    0.234822\n",
            "2021-01-01 00:00:30    0.234822\n",
            "2021-01-01 00:01:00    2.132153\n",
            "2021-01-01 00:01:30    2.132153\n",
            "2021-01-01 00:02:00    0.936446\n",
            "2021-01-01 00:02:30    0.936446\n",
            "2021-01-01 00:03:00   -0.035095\n",
            "2021-01-01 00:03:30   -0.035095\n",
            "2021-01-01 00:04:00    1.265078\n",
            "2021-01-01 00:04:30    1.265078\n",
            "Freq: 30S, dtype: float64\n",
            "========================================\n",
            "2021-01-01 00:00:00    0.234822\n",
            "2021-01-01 00:00:30    2.132153\n",
            "2021-01-01 00:01:00    2.132153\n",
            "2021-01-01 00:01:30    0.936446\n",
            "2021-01-01 00:02:00    0.936446\n",
            "2021-01-01 00:02:30   -0.035095\n",
            "2021-01-01 00:03:00   -0.035095\n",
            "2021-01-01 00:03:30    1.265078\n",
            "2021-01-01 00:04:00    1.265078\n",
            "2021-01-01 00:04:30    0.211497\n",
            "Freq: 30S, dtype: float64\n"
          ],
          "name": "stdout"
        }
      ]
    }
  ]
}