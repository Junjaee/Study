{
  "nbformat": 4,
  "nbformat_minor": 0,
  "metadata": {
    "colab": {
      "name": "05_기타 알고리즘.ipynb",
      "provenance": [],
      "collapsed_sections": [],
      "toc_visible": true,
      "authorship_tag": "ABX9TyNdyTTr82QKuiCH7kKoE3IZ",
      "include_colab_link": true
    },
    "kernelspec": {
      "name": "python3",
      "display_name": "Python 3"
    },
    "language_info": {
      "name": "python"
    }
  },
  "cells": [
    {
      "cell_type": "markdown",
      "metadata": {
        "id": "view-in-github",
        "colab_type": "text"
      },
      "source": [
        "<a href=\"https://colab.research.google.com/github/Junjaee/Study/blob/main/MachineLearning_DeepLearning/Study/05_%EA%B8%B0%ED%83%80_%EC%95%8C%EA%B3%A0%EB%A6%AC%EC%A6%98.ipynb\" target=\"_parent\"><img src=\"https://colab.research.google.com/assets/colab-badge.svg\" alt=\"Open In Colab\"/></a>"
      ]
    },
    {
      "cell_type": "markdown",
      "metadata": {
        "id": "nkWn1gHCfOGx"
      },
      "source": [
        "# import"
      ]
    },
    {
      "cell_type": "code",
      "metadata": {
        "id": "0CLEEIqYfCZS"
      },
      "source": [
        "import numpy as np\n",
        "import pandas as pd\n",
        "import matplotlib.pyplot as plt\n",
        "\n",
        "import matplotlib as mpl\n",
        "import matplotlib.font_manager as fm\n",
        "fm.FontProperties(fname = \"맑은 고딕\")\n",
        "mpl.rcParams[\"axes.unicode_minus\"] = False # 음수표시\n",
        "\n",
        "import seaborn as sns\n",
        "\n",
        "import mglearn\n",
        "from sklearn.datasets import load_breast_cancer, load_boston, load_iris, make_moons, load_digits, load_wine, load_diabetes, make_blobs, make_moons\n",
        "\n",
        "from sklearn.neighbors import KNeighborsClassifier, KNeighborsRegressor\n",
        "from sklearn.metrics import accuracy_score, confusion_matrix, classification_report, roc_curve\n",
        "from sklearn.model_selection import train_test_split, KFold, StratifiedKFold, cross_val_score, GridSearchCV, cross_validate\n",
        "from sklearn.preprocessing import StandardScaler, MinMaxScaler, LabelEncoder, OneHotEncoder\n",
        "from sklearn.linear_model import LinearRegression, LogisticRegression\n",
        "from sklearn import model_selection\n",
        "from sklearn import metrics\n",
        "from sklearn.svm import SVR, SVC, LinearSVR, LinearSVC\n",
        "from sklearn.tree import DecisionTreeClassifier, DecisionTreeRegressor, export_graphviz\n",
        "from sklearn.ensemble import RandomForestClassifier, GradientBoostingClassifier, VotingClassifier\n",
        "from sklearn.naive_bayes import GaussianNB, BernoulliNB, MultinomialNB\n",
        "from sklearn.feature_extraction.text import CountVectorizer \n",
        "from sklearn.cluster import KMeans\n",
        "import xgboost as xgb\n",
        "# conda install -c anaconda py-xgboost\n",
        "from xgboost import XGBClassifier, XGBRegressor\n",
        "from xgboost import plot_importance, plot_tree\n",
        "from lightgbm import LGBMClassifier, LGBMRegressor, plot_importance, plot_metric, plot_tree\n",
        "import lightgbm as lgb\n",
        "\n",
        "import multiprocessing\n",
        "from sklearn.pipeline import make_pipeline, Pipeline\n",
        "from sklearn.manifold import TSNE\n",
        "\n",
        "import graphviz"
      ],
      "execution_count": null,
      "outputs": []
    },
    {
      "cell_type": "code",
      "metadata": {
        "colab": {
          "base_uri": "https://localhost:8080/"
        },
        "id": "z3aAXGKFfRrs",
        "outputId": "33360e84-423e-4db6-e821-a9eb76ec0104"
      },
      "source": [
        "pip install mglearn"
      ],
      "execution_count": null,
      "outputs": [
        {
          "output_type": "stream",
          "text": [
            "Collecting mglearn\n",
            "\u001b[?25l  Downloading https://files.pythonhosted.org/packages/65/38/8aced26fce0b2ae82c3c87cd3b6105f38ca6d9d51704ecc44aa54473e6b9/mglearn-0.1.9.tar.gz (540kB)\n",
            "\r\u001b[K     |▋                               | 10kB 14.9MB/s eta 0:00:01\r\u001b[K     |█▏                              | 20kB 19.3MB/s eta 0:00:01\r\u001b[K     |█▉                              | 30kB 23.7MB/s eta 0:00:01\r\u001b[K     |██▍                             | 40kB 25.0MB/s eta 0:00:01\r\u001b[K     |███                             | 51kB 26.5MB/s eta 0:00:01\r\u001b[K     |███▋                            | 61kB 27.9MB/s eta 0:00:01\r\u001b[K     |████▎                           | 71kB 23.6MB/s eta 0:00:01\r\u001b[K     |████▉                           | 81kB 24.0MB/s eta 0:00:01\r\u001b[K     |█████▌                          | 92kB 22.8MB/s eta 0:00:01\r\u001b[K     |██████                          | 102kB 22.6MB/s eta 0:00:01\r\u001b[K     |██████▊                         | 112kB 22.6MB/s eta 0:00:01\r\u001b[K     |███████▎                        | 122kB 22.6MB/s eta 0:00:01\r\u001b[K     |███████▉                        | 133kB 22.6MB/s eta 0:00:01\r\u001b[K     |████████▌                       | 143kB 22.6MB/s eta 0:00:01\r\u001b[K     |█████████                       | 153kB 22.6MB/s eta 0:00:01\r\u001b[K     |█████████▊                      | 163kB 22.6MB/s eta 0:00:01\r\u001b[K     |██████████▎                     | 174kB 22.6MB/s eta 0:00:01\r\u001b[K     |███████████                     | 184kB 22.6MB/s eta 0:00:01\r\u001b[K     |███████████▌                    | 194kB 22.6MB/s eta 0:00:01\r\u001b[K     |████████████▏                   | 204kB 22.6MB/s eta 0:00:01\r\u001b[K     |████████████▊                   | 215kB 22.6MB/s eta 0:00:01\r\u001b[K     |█████████████▍                  | 225kB 22.6MB/s eta 0:00:01\r\u001b[K     |██████████████                  | 235kB 22.6MB/s eta 0:00:01\r\u001b[K     |██████████████▋                 | 245kB 22.6MB/s eta 0:00:01\r\u001b[K     |███████████████▏                | 256kB 22.6MB/s eta 0:00:01\r\u001b[K     |███████████████▊                | 266kB 22.6MB/s eta 0:00:01\r\u001b[K     |████████████████▍               | 276kB 22.6MB/s eta 0:00:01\r\u001b[K     |█████████████████               | 286kB 22.6MB/s eta 0:00:01\r\u001b[K     |█████████████████▋              | 296kB 22.6MB/s eta 0:00:01\r\u001b[K     |██████████████████▏             | 307kB 22.6MB/s eta 0:00:01\r\u001b[K     |██████████████████▉             | 317kB 22.6MB/s eta 0:00:01\r\u001b[K     |███████████████████▍            | 327kB 22.6MB/s eta 0:00:01\r\u001b[K     |████████████████████            | 337kB 22.6MB/s eta 0:00:01\r\u001b[K     |████████████████████▋           | 348kB 22.6MB/s eta 0:00:01\r\u001b[K     |█████████████████████▎          | 358kB 22.6MB/s eta 0:00:01\r\u001b[K     |█████████████████████▉          | 368kB 22.6MB/s eta 0:00:01\r\u001b[K     |██████████████████████▌         | 378kB 22.6MB/s eta 0:00:01\r\u001b[K     |███████████████████████         | 389kB 22.6MB/s eta 0:00:01\r\u001b[K     |███████████████████████▋        | 399kB 22.6MB/s eta 0:00:01\r\u001b[K     |████████████████████████▎       | 409kB 22.6MB/s eta 0:00:01\r\u001b[K     |████████████████████████▉       | 419kB 22.6MB/s eta 0:00:01\r\u001b[K     |█████████████████████████▌      | 430kB 22.6MB/s eta 0:00:01\r\u001b[K     |██████████████████████████      | 440kB 22.6MB/s eta 0:00:01\r\u001b[K     |██████████████████████████▊     | 450kB 22.6MB/s eta 0:00:01\r\u001b[K     |███████████████████████████▎    | 460kB 22.6MB/s eta 0:00:01\r\u001b[K     |████████████████████████████    | 471kB 22.6MB/s eta 0:00:01\r\u001b[K     |████████████████████████████▌   | 481kB 22.6MB/s eta 0:00:01\r\u001b[K     |█████████████████████████████▏  | 491kB 22.6MB/s eta 0:00:01\r\u001b[K     |█████████████████████████████▊  | 501kB 22.6MB/s eta 0:00:01\r\u001b[K     |██████████████████████████████▍ | 512kB 22.6MB/s eta 0:00:01\r\u001b[K     |███████████████████████████████ | 522kB 22.6MB/s eta 0:00:01\r\u001b[K     |███████████████████████████████▌| 532kB 22.6MB/s eta 0:00:01\r\u001b[K     |████████████████████████████████| 542kB 22.6MB/s \n",
            "\u001b[?25hRequirement already satisfied: numpy in /usr/local/lib/python3.7/dist-packages (from mglearn) (1.19.5)\n",
            "Requirement already satisfied: matplotlib in /usr/local/lib/python3.7/dist-packages (from mglearn) (3.2.2)\n",
            "Requirement already satisfied: scikit-learn in /usr/local/lib/python3.7/dist-packages (from mglearn) (0.22.2.post1)\n",
            "Requirement already satisfied: pandas in /usr/local/lib/python3.7/dist-packages (from mglearn) (1.1.5)\n",
            "Requirement already satisfied: pillow in /usr/local/lib/python3.7/dist-packages (from mglearn) (7.1.2)\n",
            "Requirement already satisfied: cycler in /usr/local/lib/python3.7/dist-packages (from mglearn) (0.10.0)\n",
            "Requirement already satisfied: imageio in /usr/local/lib/python3.7/dist-packages (from mglearn) (2.4.1)\n",
            "Requirement already satisfied: joblib in /usr/local/lib/python3.7/dist-packages (from mglearn) (1.0.1)\n",
            "Requirement already satisfied: python-dateutil>=2.1 in /usr/local/lib/python3.7/dist-packages (from matplotlib->mglearn) (2.8.1)\n",
            "Requirement already satisfied: pyparsing!=2.0.4,!=2.1.2,!=2.1.6,>=2.0.1 in /usr/local/lib/python3.7/dist-packages (from matplotlib->mglearn) (2.4.7)\n",
            "Requirement already satisfied: kiwisolver>=1.0.1 in /usr/local/lib/python3.7/dist-packages (from matplotlib->mglearn) (1.3.1)\n",
            "Requirement already satisfied: scipy>=0.17.0 in /usr/local/lib/python3.7/dist-packages (from scikit-learn->mglearn) (1.4.1)\n",
            "Requirement already satisfied: pytz>=2017.2 in /usr/local/lib/python3.7/dist-packages (from pandas->mglearn) (2018.9)\n",
            "Requirement already satisfied: six in /usr/local/lib/python3.7/dist-packages (from cycler->mglearn) (1.15.0)\n",
            "Building wheels for collected packages: mglearn\n",
            "  Building wheel for mglearn (setup.py) ... \u001b[?25l\u001b[?25hdone\n",
            "  Created wheel for mglearn: filename=mglearn-0.1.9-py2.py3-none-any.whl size=582638 sha256=750dc5e4b8e1dbcdcaaae39d4d2a1ffbe2abd49ce46ce830cd03fdb0bd675554\n",
            "  Stored in directory: /root/.cache/pip/wheels/eb/a6/ea/a6a3716233fa62fc561259b5cb1e28f79e9ff3592c0adac5f0\n",
            "Successfully built mglearn\n",
            "Installing collected packages: mglearn\n",
            "Successfully installed mglearn-0.1.9\n"
          ],
          "name": "stdout"
        }
      ]
    },
    {
      "cell_type": "code",
      "metadata": {
        "colab": {
          "base_uri": "https://localhost:8080/"
        },
        "id": "4p4hvF1MfRph",
        "outputId": "fc18f39d-aebb-4c9c-9cb4-a1e471c22cc8"
      },
      "source": [
        "# 한글 깨짐 방지를 위한 나눔 폰트 설치\n",
        "!sudo apt-get install -y fonts-nanum\n",
        "!sudo fc-cache -fv\n",
        "!rm ~/.cache/matplotlib -rf"
      ],
      "execution_count": null,
      "outputs": [
        {
          "output_type": "stream",
          "text": [
            "Reading package lists... Done\n",
            "Building dependency tree       \n",
            "Reading state information... Done\n",
            "The following NEW packages will be installed:\n",
            "  fonts-nanum\n",
            "0 upgraded, 1 newly installed, 0 to remove and 39 not upgraded.\n",
            "Need to get 9,604 kB of archives.\n",
            "After this operation, 29.5 MB of additional disk space will be used.\n",
            "Get:1 http://archive.ubuntu.com/ubuntu bionic/universe amd64 fonts-nanum all 20170925-1 [9,604 kB]\n",
            "Fetched 9,604 kB in 1s (9,391 kB/s)\n",
            "debconf: unable to initialize frontend: Dialog\n",
            "debconf: (No usable dialog-like program is installed, so the dialog based frontend cannot be used. at /usr/share/perl5/Debconf/FrontEnd/Dialog.pm line 76, <> line 1.)\n",
            "debconf: falling back to frontend: Readline\n",
            "debconf: unable to initialize frontend: Readline\n",
            "debconf: (This frontend requires a controlling tty.)\n",
            "debconf: falling back to frontend: Teletype\n",
            "dpkg-preconfigure: unable to re-open stdin: \n",
            "Selecting previously unselected package fonts-nanum.\n",
            "(Reading database ... 160815 files and directories currently installed.)\n",
            "Preparing to unpack .../fonts-nanum_20170925-1_all.deb ...\n",
            "Unpacking fonts-nanum (20170925-1) ...\n",
            "Setting up fonts-nanum (20170925-1) ...\n",
            "Processing triggers for fontconfig (2.12.6-0ubuntu2) ...\n",
            "/usr/share/fonts: caching, new cache contents: 0 fonts, 1 dirs\n",
            "/usr/share/fonts/truetype: caching, new cache contents: 0 fonts, 3 dirs\n",
            "/usr/share/fonts/truetype/humor-sans: caching, new cache contents: 1 fonts, 0 dirs\n",
            "/usr/share/fonts/truetype/liberation: caching, new cache contents: 16 fonts, 0 dirs\n",
            "/usr/share/fonts/truetype/nanum: caching, new cache contents: 10 fonts, 0 dirs\n",
            "/usr/local/share/fonts: caching, new cache contents: 0 fonts, 0 dirs\n",
            "/root/.local/share/fonts: skipping, no such directory\n",
            "/root/.fonts: skipping, no such directory\n",
            "/var/cache/fontconfig: cleaning cache directory\n",
            "/root/.cache/fontconfig: not cleaning non-existent cache directory\n",
            "/root/.fontconfig: not cleaning non-existent cache directory\n",
            "fc-cache: succeeded\n"
          ],
          "name": "stdout"
        }
      ]
    },
    {
      "cell_type": "code",
      "metadata": {
        "id": "LjLg2OS_fRnI"
      },
      "source": [
        "# 폰트 적용\n",
        "import matplotlib.pyplot as plt\n",
        "\n",
        "plt.rc('font', family='NanumBarunGothic') "
      ],
      "execution_count": null,
      "outputs": []
    },
    {
      "cell_type": "markdown",
      "metadata": {
        "id": "sJxXZ-Wwfnfz"
      },
      "source": [
        "# Naive Bayes\n",
        "\n",
        "- 선형 모델과 유사(LogisticRegression, LinearSVC, ...)\n",
        "- 훈련 속도는 빠르지만 일반화 성능이 조금 뒤쳐진다\n",
        "- 종류\n",
        "    - GaussianNB\n",
        "    - BernoulliNB\n",
        "    - MultinomialNB\n",
        "- 파라미터\n",
        "    - alpha"
      ]
    },
    {
      "cell_type": "markdown",
      "metadata": {
        "id": "yPQ3DmCVkxam"
      },
      "source": [
        "## (1) GaussianNB"
      ]
    },
    {
      "cell_type": "code",
      "metadata": {
        "id": "kRmnAPpofRlJ"
      },
      "source": [
        "iris = load_iris()\n",
        "X_train, X_test, y_train, y_test = train_test_split(iris.data, iris.target, test_size = 0.2)"
      ],
      "execution_count": null,
      "outputs": []
    },
    {
      "cell_type": "code",
      "metadata": {
        "id": "dZAVgdmrfRiN"
      },
      "source": [
        "model = GaussianNB().fit(X_train, y_train)"
      ],
      "execution_count": null,
      "outputs": []
    },
    {
      "cell_type": "code",
      "metadata": {
        "id": "TKoKbaUMfRfq"
      },
      "source": [
        "preds = model.predict(X_test)"
      ],
      "execution_count": null,
      "outputs": []
    },
    {
      "cell_type": "code",
      "metadata": {
        "colab": {
          "base_uri": "https://localhost:8080/"
        },
        "id": "0dm-l3KUmUHg",
        "outputId": "be57f148-0e3c-4aef-a3e7-277e6fe9e4cb"
      },
      "source": [
        "print(\"정확도 :\", accuracy_score(y_test, preds))"
      ],
      "execution_count": null,
      "outputs": [
        {
          "output_type": "stream",
          "text": [
            "정확도 : 1.0\n"
          ],
          "name": "stdout"
        }
      ]
    },
    {
      "cell_type": "code",
      "metadata": {
        "colab": {
          "base_uri": "https://localhost:8080/"
        },
        "id": "GrhvAh08mUFR",
        "outputId": "ea53de79-0d85-4865-aec2-74e9993b1033"
      },
      "source": [
        "confusion_matrix(y_test, preds)"
      ],
      "execution_count": null,
      "outputs": [
        {
          "output_type": "execute_result",
          "data": {
            "text/plain": [
              "array([[ 8,  0,  0],\n",
              "       [ 0,  7,  0],\n",
              "       [ 0,  0, 15]])"
            ]
          },
          "metadata": {
            "tags": []
          },
          "execution_count": 11
        }
      ]
    },
    {
      "cell_type": "code",
      "metadata": {
        "colab": {
          "base_uri": "https://localhost:8080/"
        },
        "id": "FxfL08EomUDD",
        "outputId": "3b013ba7-8ed7-48ae-aa92-1ab82b863037"
      },
      "source": [
        "print(classification_report(y_test, preds))"
      ],
      "execution_count": null,
      "outputs": [
        {
          "output_type": "stream",
          "text": [
            "              precision    recall  f1-score   support\n",
            "\n",
            "           0       1.00      1.00      1.00         8\n",
            "           1       1.00      1.00      1.00         7\n",
            "           2       1.00      1.00      1.00        15\n",
            "\n",
            "    accuracy                           1.00        30\n",
            "   macro avg       1.00      1.00      1.00        30\n",
            "weighted avg       1.00      1.00      1.00        30\n",
            "\n"
          ],
          "name": "stdout"
        }
      ]
    },
    {
      "cell_type": "markdown",
      "metadata": {
        "id": "WRohAkM2oklO"
      },
      "source": [
        "## (2) MultinomialNB"
      ]
    },
    {
      "cell_type": "markdown",
      "metadata": {
        "id": "qmWBQwy-o0WA"
      },
      "source": [
        "- 영화 리뷰를 이용한 평가 예측(부정/긍정)"
      ]
    },
    {
      "cell_type": "code",
      "metadata": {
        "colab": {
          "base_uri": "https://localhost:8080/",
          "height": 359
        },
        "id": "1tOzjxXWmUAz",
        "outputId": "ce554469-0453-435f-bdad-926e4a07ad8f"
      },
      "source": [
        "review_list = [\n",
        "                {'movie_review': 'this is great great movie. I will watch again', 'type': 'positive'},\n",
        "                {'movie_review': 'I like this movie', 'type': 'positive'},\n",
        "                {'movie_review': 'amazing movie in this year', 'type': 'positive'},\n",
        "                {'movie_review': 'cool my boyfriend also said the movie is cool', 'type': 'positive'},\n",
        "                {'movie_review': 'awesome of the awesome movie ever', 'type': 'positive'},\n",
        "                {'movie_review': 'shame I wasted money and time', 'type': 'negative'},\n",
        "                {'movie_review': 'regret on this move. I will never never what movie from this director', 'type': 'negative'},\n",
        "                {'movie_review': 'I do not like this movie', 'type': 'negative'},\n",
        "                {'movie_review': 'I do not like actors in this movie', 'type': 'negative'},\n",
        "                {'movie_review': 'boring boring sleeping movie', 'type': 'negative'}\n",
        "             ]\n",
        "\n",
        "df = pd.DataFrame(review_list)\n",
        "df\n"
      ],
      "execution_count": null,
      "outputs": [
        {
          "output_type": "execute_result",
          "data": {
            "text/html": [
              "<div>\n",
              "<style scoped>\n",
              "    .dataframe tbody tr th:only-of-type {\n",
              "        vertical-align: middle;\n",
              "    }\n",
              "\n",
              "    .dataframe tbody tr th {\n",
              "        vertical-align: top;\n",
              "    }\n",
              "\n",
              "    .dataframe thead th {\n",
              "        text-align: right;\n",
              "    }\n",
              "</style>\n",
              "<table border=\"1\" class=\"dataframe\">\n",
              "  <thead>\n",
              "    <tr style=\"text-align: right;\">\n",
              "      <th></th>\n",
              "      <th>movie_review</th>\n",
              "      <th>type</th>\n",
              "    </tr>\n",
              "  </thead>\n",
              "  <tbody>\n",
              "    <tr>\n",
              "      <th>0</th>\n",
              "      <td>this is great great movie. I will watch again</td>\n",
              "      <td>positive</td>\n",
              "    </tr>\n",
              "    <tr>\n",
              "      <th>1</th>\n",
              "      <td>I like this movie</td>\n",
              "      <td>positive</td>\n",
              "    </tr>\n",
              "    <tr>\n",
              "      <th>2</th>\n",
              "      <td>amazing movie in this year</td>\n",
              "      <td>positive</td>\n",
              "    </tr>\n",
              "    <tr>\n",
              "      <th>3</th>\n",
              "      <td>cool my boyfriend also said the movie is cool</td>\n",
              "      <td>positive</td>\n",
              "    </tr>\n",
              "    <tr>\n",
              "      <th>4</th>\n",
              "      <td>awesome of the awesome movie ever</td>\n",
              "      <td>positive</td>\n",
              "    </tr>\n",
              "    <tr>\n",
              "      <th>5</th>\n",
              "      <td>shame I wasted money and time</td>\n",
              "      <td>negative</td>\n",
              "    </tr>\n",
              "    <tr>\n",
              "      <th>6</th>\n",
              "      <td>regret on this move. I will never never what m...</td>\n",
              "      <td>negative</td>\n",
              "    </tr>\n",
              "    <tr>\n",
              "      <th>7</th>\n",
              "      <td>I do not like this movie</td>\n",
              "      <td>negative</td>\n",
              "    </tr>\n",
              "    <tr>\n",
              "      <th>8</th>\n",
              "      <td>I do not like actors in this movie</td>\n",
              "      <td>negative</td>\n",
              "    </tr>\n",
              "    <tr>\n",
              "      <th>9</th>\n",
              "      <td>boring boring sleeping movie</td>\n",
              "      <td>negative</td>\n",
              "    </tr>\n",
              "  </tbody>\n",
              "</table>\n",
              "</div>"
            ],
            "text/plain": [
              "                                        movie_review      type\n",
              "0      this is great great movie. I will watch again  positive\n",
              "1                                  I like this movie  positive\n",
              "2                         amazing movie in this year  positive\n",
              "3      cool my boyfriend also said the movie is cool  positive\n",
              "4                  awesome of the awesome movie ever  positive\n",
              "5                      shame I wasted money and time  negative\n",
              "6  regret on this move. I will never never what m...  negative\n",
              "7                           I do not like this movie  negative\n",
              "8                 I do not like actors in this movie  negative\n",
              "9                       boring boring sleeping movie  negative"
            ]
          },
          "metadata": {
            "tags": []
          },
          "execution_count": 14
        }
      ]
    },
    {
      "cell_type": "code",
      "metadata": {
        "colab": {
          "base_uri": "https://localhost:8080/",
          "height": 359
        },
        "id": "KQVt62_hmT93",
        "outputId": "cbf7f1b9-bfa4-4130-f276-7e7b430d2236"
      },
      "source": [
        "##### type특성을 숫자로 매핑\n",
        "\n",
        "df[\"label\"] = df[\"type\"].map({\"positive\":1, \"negative\":0})\n",
        "df"
      ],
      "execution_count": null,
      "outputs": [
        {
          "output_type": "execute_result",
          "data": {
            "text/html": [
              "<div>\n",
              "<style scoped>\n",
              "    .dataframe tbody tr th:only-of-type {\n",
              "        vertical-align: middle;\n",
              "    }\n",
              "\n",
              "    .dataframe tbody tr th {\n",
              "        vertical-align: top;\n",
              "    }\n",
              "\n",
              "    .dataframe thead th {\n",
              "        text-align: right;\n",
              "    }\n",
              "</style>\n",
              "<table border=\"1\" class=\"dataframe\">\n",
              "  <thead>\n",
              "    <tr style=\"text-align: right;\">\n",
              "      <th></th>\n",
              "      <th>movie_review</th>\n",
              "      <th>type</th>\n",
              "      <th>label</th>\n",
              "    </tr>\n",
              "  </thead>\n",
              "  <tbody>\n",
              "    <tr>\n",
              "      <th>0</th>\n",
              "      <td>this is great great movie. I will watch again</td>\n",
              "      <td>positive</td>\n",
              "      <td>1</td>\n",
              "    </tr>\n",
              "    <tr>\n",
              "      <th>1</th>\n",
              "      <td>I like this movie</td>\n",
              "      <td>positive</td>\n",
              "      <td>1</td>\n",
              "    </tr>\n",
              "    <tr>\n",
              "      <th>2</th>\n",
              "      <td>amazing movie in this year</td>\n",
              "      <td>positive</td>\n",
              "      <td>1</td>\n",
              "    </tr>\n",
              "    <tr>\n",
              "      <th>3</th>\n",
              "      <td>cool my boyfriend also said the movie is cool</td>\n",
              "      <td>positive</td>\n",
              "      <td>1</td>\n",
              "    </tr>\n",
              "    <tr>\n",
              "      <th>4</th>\n",
              "      <td>awesome of the awesome movie ever</td>\n",
              "      <td>positive</td>\n",
              "      <td>1</td>\n",
              "    </tr>\n",
              "    <tr>\n",
              "      <th>5</th>\n",
              "      <td>shame I wasted money and time</td>\n",
              "      <td>negative</td>\n",
              "      <td>0</td>\n",
              "    </tr>\n",
              "    <tr>\n",
              "      <th>6</th>\n",
              "      <td>regret on this move. I will never never what m...</td>\n",
              "      <td>negative</td>\n",
              "      <td>0</td>\n",
              "    </tr>\n",
              "    <tr>\n",
              "      <th>7</th>\n",
              "      <td>I do not like this movie</td>\n",
              "      <td>negative</td>\n",
              "      <td>0</td>\n",
              "    </tr>\n",
              "    <tr>\n",
              "      <th>8</th>\n",
              "      <td>I do not like actors in this movie</td>\n",
              "      <td>negative</td>\n",
              "      <td>0</td>\n",
              "    </tr>\n",
              "    <tr>\n",
              "      <th>9</th>\n",
              "      <td>boring boring sleeping movie</td>\n",
              "      <td>negative</td>\n",
              "      <td>0</td>\n",
              "    </tr>\n",
              "  </tbody>\n",
              "</table>\n",
              "</div>"
            ],
            "text/plain": [
              "                                        movie_review      type  label\n",
              "0      this is great great movie. I will watch again  positive      1\n",
              "1                                  I like this movie  positive      1\n",
              "2                         amazing movie in this year  positive      1\n",
              "3      cool my boyfriend also said the movie is cool  positive      1\n",
              "4                  awesome of the awesome movie ever  positive      1\n",
              "5                      shame I wasted money and time  negative      0\n",
              "6  regret on this move. I will never never what m...  negative      0\n",
              "7                           I do not like this movie  negative      0\n",
              "8                 I do not like actors in this movie  negative      0\n",
              "9                       boring boring sleeping movie  negative      0"
            ]
          },
          "metadata": {
            "tags": []
          },
          "execution_count": 15
        }
      ]
    },
    {
      "cell_type": "code",
      "metadata": {
        "id": "cIqq3YPqmT7J"
      },
      "source": [
        "df_X = df[\"movie_review\"]\n",
        "df_y = df[\"label\"]"
      ],
      "execution_count": null,
      "outputs": []
    },
    {
      "cell_type": "code",
      "metadata": {
        "colab": {
          "base_uri": "https://localhost:8080/"
        },
        "id": "EEoUCvquqCr7",
        "outputId": "92f6ffe6-d64c-4402-b211-963ba1d9eca9"
      },
      "source": [
        "cv = CountVectorizer()\n",
        "\n",
        "X_traincv = cv.fit_transform(df_X)\n",
        "X_traincv\n",
        "\n",
        "encoded_input = X_traincv.toarray()\n",
        "encoded_input"
      ],
      "execution_count": null,
      "outputs": [
        {
          "output_type": "execute_result",
          "data": {
            "text/plain": [
              "array([[0, 1, 0, 0, 0, 0, 0, 0, 0, 0, 0, 0, 0, 2, 0, 1, 0, 0, 0, 1, 0, 0,\n",
              "        0, 0, 0, 0, 0, 0, 0, 0, 1, 0, 0, 1, 0, 1, 0],\n",
              "       [0, 0, 0, 0, 0, 0, 0, 0, 0, 0, 0, 0, 0, 0, 0, 0, 1, 0, 0, 1, 0, 0,\n",
              "        0, 0, 0, 0, 0, 0, 0, 0, 1, 0, 0, 0, 0, 0, 0],\n",
              "       [0, 0, 0, 1, 0, 0, 0, 0, 0, 0, 0, 0, 0, 0, 1, 0, 0, 0, 0, 1, 0, 0,\n",
              "        0, 0, 0, 0, 0, 0, 0, 0, 1, 0, 0, 0, 0, 0, 1],\n",
              "       [0, 0, 1, 0, 0, 0, 0, 1, 2, 0, 0, 0, 0, 0, 0, 1, 0, 0, 0, 1, 1, 0,\n",
              "        0, 0, 0, 0, 1, 0, 0, 1, 0, 0, 0, 0, 0, 0, 0],\n",
              "       [0, 0, 0, 0, 0, 2, 0, 0, 0, 0, 0, 1, 0, 0, 0, 0, 0, 0, 0, 1, 0, 0,\n",
              "        0, 1, 0, 0, 0, 0, 0, 1, 0, 0, 0, 0, 0, 0, 0],\n",
              "       [0, 0, 0, 0, 1, 0, 0, 0, 0, 0, 0, 0, 0, 0, 0, 0, 0, 1, 0, 0, 0, 0,\n",
              "        0, 0, 0, 0, 0, 1, 0, 0, 0, 1, 1, 0, 0, 0, 0],\n",
              "       [0, 0, 0, 0, 0, 0, 0, 0, 0, 1, 0, 0, 1, 0, 0, 0, 0, 0, 1, 1, 0, 2,\n",
              "        0, 0, 1, 1, 0, 0, 0, 0, 2, 0, 0, 0, 1, 1, 0],\n",
              "       [0, 0, 0, 0, 0, 0, 0, 0, 0, 0, 1, 0, 0, 0, 0, 0, 1, 0, 0, 1, 0, 0,\n",
              "        1, 0, 0, 0, 0, 0, 0, 0, 1, 0, 0, 0, 0, 0, 0],\n",
              "       [1, 0, 0, 0, 0, 0, 0, 0, 0, 0, 1, 0, 0, 0, 1, 0, 1, 0, 0, 1, 0, 0,\n",
              "        1, 0, 0, 0, 0, 0, 0, 0, 1, 0, 0, 0, 0, 0, 0],\n",
              "       [0, 0, 0, 0, 0, 0, 2, 0, 0, 0, 0, 0, 0, 0, 0, 0, 0, 0, 0, 1, 0, 0,\n",
              "        0, 0, 0, 0, 0, 0, 1, 0, 0, 0, 0, 0, 0, 0, 0]])"
            ]
          },
          "metadata": {
            "tags": []
          },
          "execution_count": 19
        }
      ]
    },
    {
      "cell_type": "code",
      "metadata": {
        "colab": {
          "base_uri": "https://localhost:8080/"
        },
        "id": "GFrgDVtxqCpo",
        "outputId": "9addece1-7f45-467f-c3b4-d51c47254da6"
      },
      "source": [
        "cv.inverse_transform(encoded_input[0])"
      ],
      "execution_count": null,
      "outputs": [
        {
          "output_type": "execute_result",
          "data": {
            "text/plain": [
              "[array(['again', 'great', 'is', 'movie', 'this', 'watch', 'will'],\n",
              "       dtype='<U9')]"
            ]
          },
          "metadata": {
            "tags": []
          },
          "execution_count": 20
        }
      ]
    },
    {
      "cell_type": "code",
      "metadata": {
        "colab": {
          "base_uri": "https://localhost:8080/"
        },
        "id": "UzaRV81qqCmT",
        "outputId": "178f2ad6-f1be-469e-c50d-c95f7681c704"
      },
      "source": [
        "##### 총 37개의 단어\n",
        "cv.get_feature_names()"
      ],
      "execution_count": null,
      "outputs": [
        {
          "output_type": "execute_result",
          "data": {
            "text/plain": [
              "['actors',\n",
              " 'again',\n",
              " 'also',\n",
              " 'amazing',\n",
              " 'and',\n",
              " 'awesome',\n",
              " 'boring',\n",
              " 'boyfriend',\n",
              " 'cool',\n",
              " 'director',\n",
              " 'do',\n",
              " 'ever',\n",
              " 'from',\n",
              " 'great',\n",
              " 'in',\n",
              " 'is',\n",
              " 'like',\n",
              " 'money',\n",
              " 'move',\n",
              " 'movie',\n",
              " 'my',\n",
              " 'never',\n",
              " 'not',\n",
              " 'of',\n",
              " 'on',\n",
              " 'regret',\n",
              " 'said',\n",
              " 'shame',\n",
              " 'sleeping',\n",
              " 'the',\n",
              " 'this',\n",
              " 'time',\n",
              " 'wasted',\n",
              " 'watch',\n",
              " 'what',\n",
              " 'will',\n",
              " 'year']"
            ]
          },
          "metadata": {
            "tags": []
          },
          "execution_count": 21
        }
      ]
    },
    {
      "cell_type": "code",
      "metadata": {
        "id": "6T0reey5qCif"
      },
      "source": [
        "model = MultinomialNB().fit(X_traincv, df_y)"
      ],
      "execution_count": null,
      "outputs": []
    },
    {
      "cell_type": "code",
      "metadata": {
        "id": "CYXG3pn2qCff"
      },
      "source": [
        "test_feedback_list = [\n",
        "                {'movie_review': 'great great great movie ever', 'type': 'positive'},\n",
        "                {'movie_review': 'I like this amazing movie', 'type': 'positive'},\n",
        "                {'movie_review': 'my boyfriend said great movie ever', 'type': 'positive'},\n",
        "                {'movie_review': 'cool cool cool', 'type': 'positive'},\n",
        "                {'movie_review': 'awesome boyfriend said cool movie ever', 'type': 'positive'},\n",
        "                {'movie_review': 'shame shame shame', 'type': 'negative'},\n",
        "                {'movie_review': 'awesome director shame movie boring movie', 'type': 'negative'},\n",
        "                {'movie_review': 'do not like this movie', 'type': 'negative'},\n",
        "                {'movie_review': 'I do not like this boring movie', 'type': 'negative'},\n",
        "                {'movie_review': 'aweful terrible boring movie', 'type': 'negative'}\n",
        "             ]\n"
      ],
      "execution_count": null,
      "outputs": []
    },
    {
      "cell_type": "code",
      "metadata": {
        "id": "mxc7IpcIufhR"
      },
      "source": [
        "test_df = pd.DataFrame(test_feedback_list)\n",
        "test_df[\"label\"] = test_df[\"type\"].map({\"positive\":1, \"negative\":0})\n",
        "test_X = test_df[\"movie_review\"]\n",
        "test_y = test_df[\"label\"]"
      ],
      "execution_count": null,
      "outputs": []
    },
    {
      "cell_type": "code",
      "metadata": {
        "id": "KreWp5seufeK"
      },
      "source": [
        "X_testcv = cv.transform(test_X)\n",
        "preds = model.predict(X_testcv)"
      ],
      "execution_count": null,
      "outputs": []
    },
    {
      "cell_type": "code",
      "metadata": {
        "colab": {
          "base_uri": "https://localhost:8080/"
        },
        "id": "MAEoGRGKufbf",
        "outputId": "81ac66e5-5063-4d24-a212-cab87edef118"
      },
      "source": [
        "accuracy_score(test_y, preds)"
      ],
      "execution_count": null,
      "outputs": [
        {
          "output_type": "execute_result",
          "data": {
            "text/plain": [
              "1.0"
            ]
          },
          "metadata": {
            "tags": []
          },
          "execution_count": 27
        }
      ]
    },
    {
      "cell_type": "markdown",
      "metadata": {
        "id": "PM6FrkBqye86"
      },
      "source": [
        "## (3) BernoulliNB\n",
        "- 스팸 메일"
      ]
    },
    {
      "cell_type": "code",
      "metadata": {
        "id": "l8nTqD05qCc0"
      },
      "source": [
        "email_list = [\n",
        "                {'email title': 'free game only today', 'spam': True},\n",
        "                {'email title': 'cheapest flight deal', 'spam': True},\n",
        "                {'email title': 'limited time offer only today only today', 'spam': True},\n",
        "                {'email title': 'today meeting schedule', 'spam': False},\n",
        "                {'email title': 'your flight schedule attached', 'spam': False},\n",
        "                {'email title': 'your credit card statement', 'spam': False}\n",
        "             ]\n",
        "\n",
        "test_email_list = [\n",
        "                {'email title': 'free flight offer', 'spam': True},\n",
        "                {'email title': 'hey traveler free flight deal', 'spam': True},\n",
        "                {'email title': 'limited free game offer', 'spam': True},\n",
        "                {'email title': 'today flight schedule', 'spam': False},\n",
        "                {'email title': 'your credit card attached', 'spam': False},\n",
        "                {'email title': 'free credit card offer only today', 'spam': False}\n",
        "             ]\n"
      ],
      "execution_count": null,
      "outputs": []
    },
    {
      "cell_type": "code",
      "metadata": {
        "id": "jmGjcHz2097o"
      },
      "source": [
        "df = pd.DataFrame(email_list)"
      ],
      "execution_count": null,
      "outputs": []
    },
    {
      "cell_type": "code",
      "metadata": {
        "id": "na4nqtXR095G"
      },
      "source": [
        "df[\"label\"] = df[\"spam\"].map({True:1, False:0})"
      ],
      "execution_count": null,
      "outputs": []
    },
    {
      "cell_type": "code",
      "metadata": {
        "id": "E7SLJOQM092W"
      },
      "source": [
        "df_X = df[\"email title\"]\n",
        "df_y = df[\"label\"]"
      ],
      "execution_count": null,
      "outputs": []
    },
    {
      "cell_type": "code",
      "metadata": {
        "colab": {
          "base_uri": "https://localhost:8080/"
        },
        "id": "CR9sHB1L1WLM",
        "outputId": "60737156-5ca6-4b9f-a21a-813537a69657"
      },
      "source": [
        "cv = CountVectorizer()\n",
        "\n",
        "X_traincv = cv.fit_transform(df_X)\n",
        "X_traincv\n",
        "\n",
        "encoded_input = X_traincv.toarray()\n",
        "encoded_input"
      ],
      "execution_count": null,
      "outputs": [
        {
          "output_type": "execute_result",
          "data": {
            "text/plain": [
              "array([[0, 0, 0, 0, 0, 0, 1, 1, 0, 0, 0, 1, 0, 0, 0, 1, 0],\n",
              "       [0, 0, 1, 0, 1, 1, 0, 0, 0, 0, 0, 0, 0, 0, 0, 0, 0],\n",
              "       [0, 0, 0, 0, 0, 0, 0, 0, 1, 0, 1, 2, 0, 0, 1, 2, 0],\n",
              "       [0, 0, 0, 0, 0, 0, 0, 0, 0, 1, 0, 0, 1, 0, 0, 1, 0],\n",
              "       [1, 0, 0, 0, 0, 1, 0, 0, 0, 0, 0, 0, 1, 0, 0, 0, 1],\n",
              "       [0, 1, 0, 1, 0, 0, 0, 0, 0, 0, 0, 0, 0, 1, 0, 0, 1]])"
            ]
          },
          "metadata": {
            "tags": []
          },
          "execution_count": 52
        }
      ]
    },
    {
      "cell_type": "code",
      "metadata": {
        "colab": {
          "base_uri": "https://localhost:8080/"
        },
        "id": "8PN6cciA1WLV",
        "outputId": "c79015b9-bd9a-4898-e752-8518d15655eb"
      },
      "source": [
        "cv.inverse_transform(encoded_input[0])"
      ],
      "execution_count": null,
      "outputs": [
        {
          "output_type": "execute_result",
          "data": {
            "text/plain": [
              "[array(['free', 'game', 'only', 'today'], dtype='<U9')]"
            ]
          },
          "metadata": {
            "tags": []
          },
          "execution_count": 53
        }
      ]
    },
    {
      "cell_type": "code",
      "metadata": {
        "colab": {
          "base_uri": "https://localhost:8080/"
        },
        "id": "bSzSmRhM1WLW",
        "outputId": "d82570b0-253b-41bc-e921-59d57e238ed6"
      },
      "source": [
        "##### 총 17개의 단어\n",
        "cv.get_feature_names()"
      ],
      "execution_count": null,
      "outputs": [
        {
          "output_type": "execute_result",
          "data": {
            "text/plain": [
              "['attached',\n",
              " 'card',\n",
              " 'cheapest',\n",
              " 'credit',\n",
              " 'deal',\n",
              " 'flight',\n",
              " 'free',\n",
              " 'game',\n",
              " 'limited',\n",
              " 'meeting',\n",
              " 'offer',\n",
              " 'only',\n",
              " 'schedule',\n",
              " 'statement',\n",
              " 'time',\n",
              " 'today',\n",
              " 'your']"
            ]
          },
          "metadata": {
            "tags": []
          },
          "execution_count": 54
        }
      ]
    },
    {
      "cell_type": "code",
      "metadata": {
        "id": "M2AtQjo61WLW"
      },
      "source": [
        "model = BernoulliNB().fit(X_traincv, df_y)"
      ],
      "execution_count": null,
      "outputs": []
    },
    {
      "cell_type": "code",
      "metadata": {
        "id": "yplmd5Ha1WLX"
      },
      "source": [
        "test_df = pd.DataFrame(test_email_list)\n",
        "test_df[\"label\"] = test_df[\"spam\"].map({True:1, False:0})\n",
        "test_X = test_df[\"email title\"]\n",
        "test_y = test_df[\"label\"]"
      ],
      "execution_count": null,
      "outputs": []
    },
    {
      "cell_type": "code",
      "metadata": {
        "id": "NYQ-FJUo1WLY"
      },
      "source": [
        "X_testcv = cv.transform(test_X)\n",
        "preds = model.predict(X_testcv)"
      ],
      "execution_count": null,
      "outputs": []
    },
    {
      "cell_type": "code",
      "metadata": {
        "colab": {
          "base_uri": "https://localhost:8080/"
        },
        "id": "PVFVOc4V1WLY",
        "outputId": "d21bd1d1-8ef2-4c5b-f7af-4203d2501da9"
      },
      "source": [
        "accuracy_score(test_y, preds)"
      ],
      "execution_count": null,
      "outputs": [
        {
          "output_type": "execute_result",
          "data": {
            "text/plain": [
              "0.8333333333333334"
            ]
          },
          "metadata": {
            "tags": []
          },
          "execution_count": 58
        }
      ]
    },
    {
      "cell_type": "markdown",
      "metadata": {
        "id": "VpOa6Yvp4i9o"
      },
      "source": [
        "# 2. K-MEANS"
      ]
    },
    {
      "cell_type": "code",
      "metadata": {
        "colab": {
          "base_uri": "https://localhost:8080/",
          "height": 484
        },
        "id": "sjwxmkiS2WeG",
        "outputId": "2726cdc4-1363-4e69-ed3c-1b6a1b30f5a1"
      },
      "source": [
        "mglearn.plots.plot_kmeans_algorithm()"
      ],
      "execution_count": null,
      "outputs": [
        {
          "output_type": "display_data",
          "data": {
            "image/png": "[encoded data removed]",
            "text/plain": [
              "<Figure size 720x576 with 9 Axes>"
            ]
          },
          "metadata": {
            "tags": []
          }
        }
      ]
    },
    {
      "cell_type": "markdown",
      "metadata": {
        "id": "2qo_GrMnWstn"
      },
      "source": [
        "## 1) make_blobs 샘플 활용"
      ]
    },
    {
      "cell_type": "code",
      "metadata": {
        "id": "LZCaGPrN4usl"
      },
      "source": [
        "X, y = make_blobs()"
      ],
      "execution_count": null,
      "outputs": []
    },
    {
      "cell_type": "code",
      "metadata": {
        "colab": {
          "base_uri": "https://localhost:8080/",
          "height": 319
        },
        "id": "TM259bj-4uqg",
        "outputId": "64577926-47ee-4c4d-baf9-c82b06ddae8d"
      },
      "source": [
        "mglearn.discrete_scatter(X[:, 0], X[:, 1], y)"
      ],
      "execution_count": null,
      "outputs": [
        {
          "output_type": "execute_result",
          "data": {
            "text/plain": [
              "[<matplotlib.lines.Line2D at 0x7f0e6c8c4110>,\n",
              " <matplotlib.lines.Line2D at 0x7f0e6c82bbd0>,\n",
              " <matplotlib.lines.Line2D at 0x7f0e6c83c150>]"
            ]
          },
          "metadata": {
            "tags": []
          },
          "execution_count": 5
        },
        {
          "output_type": "display_data",
          "data": {
            "image/png": "[encoded data removed]",
            "text/plain": [
              "<Figure size 432x288 with 1 Axes>"
            ]
          },
          "metadata": {
            "tags": [],
            "needs_background": "light"
          }
        }
      ]
    },
    {
      "cell_type": "code",
      "metadata": {
        "id": "V9XPcovS4unH"
      },
      "source": [
        "model = KMeans(n_clusters=3).fit(X)"
      ],
      "execution_count": null,
      "outputs": []
    },
    {
      "cell_type": "code",
      "metadata": {
        "colab": {
          "base_uri": "https://localhost:8080/"
        },
        "id": "J0Yzj7RZ4ukp",
        "outputId": "1c16640f-d832-4db6-a3b0-2b9d646a0d60"
      },
      "source": [
        "model.labels_"
      ],
      "execution_count": null,
      "outputs": [
        {
          "output_type": "execute_result",
          "data": {
            "text/plain": [
              "array([1, 2, 0, 0, 1, 2, 2, 2, 2, 0, 2, 2, 1, 1, 2, 1, 0, 1, 0, 2, 0, 2,\n",
              "       2, 1, 1, 2, 0, 1, 0, 1, 2, 0, 0, 1, 1, 2, 2, 1, 0, 1, 0, 1, 2, 1,\n",
              "       2, 1, 2, 1, 1, 2, 0, 2, 2, 2, 0, 2, 2, 1, 1, 1, 0, 2, 0, 1, 1, 0,\n",
              "       2, 2, 0, 2, 0, 2, 0, 2, 2, 1, 0, 1, 0, 1, 0, 0, 1, 1, 0, 0, 0, 0,\n",
              "       1, 0, 1, 1, 0, 0, 1, 2, 2, 0, 0, 2], dtype=int32)"
            ]
          },
          "metadata": {
            "tags": []
          },
          "execution_count": 9
        }
      ]
    },
    {
      "cell_type": "code",
      "metadata": {
        "colab": {
          "base_uri": "https://localhost:8080/",
          "height": 319
        },
        "id": "BqwESbLwbS-6",
        "outputId": "3d59495f-510f-4a9b-ca9b-d6483124bc6f"
      },
      "source": [
        "mglearn.discrete_scatter(X[:, 0], X[:, 1], model.labels_, markers=\"o\")\n",
        "mglearn.discrete_scatter(model.cluster_centers_[:, 0], model.cluster_centers_[:, 1], [0, 1, 2], markers=\"^\")"
      ],
      "execution_count": null,
      "outputs": [
        {
          "output_type": "execute_result",
          "data": {
            "text/plain": [
              "[<matplotlib.lines.Line2D at 0x7f0e6c620150>,\n",
              " <matplotlib.lines.Line2D at 0x7f0e6c620690>,\n",
              " <matplotlib.lines.Line2D at 0x7f0e6c620c10>]"
            ]
          },
          "metadata": {
            "tags": []
          },
          "execution_count": 16
        },
        {
          "output_type": "display_data",
          "data": {
            "image/png": "[encoded data removed]",
            "text/plain": [
              "<Figure size 432x288 with 1 Axes>"
            ]
          },
          "metadata": {
            "tags": [],
            "needs_background": "light"
          }
        }
      ]
    },
    {
      "cell_type": "code",
      "metadata": {
        "id": "KZh4iJeNdaZm"
      },
      "source": [
        "model = KMeans(n_clusters=2).fit(X)"
      ],
      "execution_count": null,
      "outputs": []
    },
    {
      "cell_type": "code",
      "metadata": {
        "colab": {
          "base_uri": "https://localhost:8080/"
        },
        "id": "pCvOhAbEdbB0",
        "outputId": "d499bce8-b51f-42b2-b025-3c5ffd6d33d3"
      },
      "source": [
        "model.labels_"
      ],
      "execution_count": null,
      "outputs": [
        {
          "output_type": "execute_result",
          "data": {
            "text/plain": [
              "array([1, 0, 0, 0, 1, 0, 0, 0, 0, 0, 0, 0, 1, 1, 0, 1, 0, 1, 0, 0, 0, 0,\n",
              "       0, 1, 1, 0, 0, 1, 0, 1, 0, 0, 0, 1, 1, 0, 0, 1, 0, 1, 0, 1, 0, 1,\n",
              "       0, 1, 0, 1, 1, 0, 0, 0, 0, 0, 0, 0, 0, 1, 1, 1, 0, 0, 0, 1, 1, 0,\n",
              "       0, 0, 0, 0, 0, 0, 0, 0, 0, 1, 0, 1, 0, 1, 0, 0, 1, 1, 0, 0, 0, 0,\n",
              "       1, 0, 1, 1, 0, 0, 1, 0, 0, 0, 0, 0], dtype=int32)"
            ]
          },
          "metadata": {
            "tags": []
          },
          "execution_count": 19
        }
      ]
    },
    {
      "cell_type": "code",
      "metadata": {
        "colab": {
          "base_uri": "https://localhost:8080/",
          "height": 301
        },
        "id": "tl9YMlgYbS8E",
        "outputId": "9dd7df58-dd09-439c-e49e-dc70639c5e97"
      },
      "source": [
        "mglearn.discrete_scatter(X[:, 0], X[:, 1], model.labels_, markers=\"o\")\n",
        "mglearn.discrete_scatter(model.cluster_centers_[:, 0], model.cluster_centers_[:, 1], [0, 1], markers=\"^\")"
      ],
      "execution_count": null,
      "outputs": [
        {
          "output_type": "execute_result",
          "data": {
            "text/plain": [
              "[<matplotlib.lines.Line2D at 0x7f0e6c51cc90>,\n",
              " <matplotlib.lines.Line2D at 0x7f0e6c522210>]"
            ]
          },
          "metadata": {
            "tags": []
          },
          "execution_count": 20
        },
        {
          "output_type": "display_data",
          "data": {
            "image/png": "[encoded data removed]",
            "text/plain": [
              "<Figure size 432x288 with 1 Axes>"
            ]
          },
          "metadata": {
            "tags": [],
            "needs_background": "light"
          }
        }
      ]
    },
    {
      "cell_type": "code",
      "metadata": {
        "id": "5BJCZb83drWO"
      },
      "source": [
        "model = KMeans(n_clusters=5).fit(X)"
      ],
      "execution_count": null,
      "outputs": []
    },
    {
      "cell_type": "code",
      "metadata": {
        "colab": {
          "base_uri": "https://localhost:8080/"
        },
        "id": "7o6G_RPVdrWO",
        "outputId": "9c0adbd8-fe55-4808-a924-a9d600209f0b"
      },
      "source": [
        "model.labels_"
      ],
      "execution_count": null,
      "outputs": [
        {
          "output_type": "execute_result",
          "data": {
            "text/plain": [
              "array([0, 2, 3, 1, 0, 2, 4, 2, 2, 3, 4, 2, 0, 0, 4, 0, 1, 0, 1, 2, 1, 2,\n",
              "       4, 0, 0, 2, 3, 0, 3, 0, 2, 1, 3, 0, 0, 2, 4, 0, 3, 0, 1, 0, 2, 0,\n",
              "       2, 0, 4, 0, 0, 4, 3, 2, 2, 2, 3, 2, 2, 0, 0, 0, 1, 2, 3, 0, 0, 1,\n",
              "       4, 2, 1, 2, 3, 2, 1, 2, 2, 0, 3, 0, 3, 0, 3, 3, 0, 0, 1, 3, 3, 1,\n",
              "       0, 1, 0, 0, 1, 1, 0, 2, 4, 1, 3, 2], dtype=int32)"
            ]
          },
          "metadata": {
            "tags": []
          },
          "execution_count": 22
        }
      ]
    },
    {
      "cell_type": "code",
      "metadata": {
        "colab": {
          "base_uri": "https://localhost:8080/",
          "height": 355
        },
        "id": "G6kbgShydrWP",
        "outputId": "c80ab836-8574-40ee-839b-4ef77bdd315b"
      },
      "source": [
        "mglearn.discrete_scatter(X[:, 0], X[:, 1], model.labels_, markers=\"o\")\n",
        "mglearn.discrete_scatter(model.cluster_centers_[:, 0], model.cluster_centers_[:, 1], [0, 1, 2, 3, 4], markers=\"^\")"
      ],
      "execution_count": null,
      "outputs": [
        {
          "output_type": "execute_result",
          "data": {
            "text/plain": [
              "[<matplotlib.lines.Line2D at 0x7f0e63c9a990>,\n",
              " <matplotlib.lines.Line2D at 0x7f0e63c9aed0>,\n",
              " <matplotlib.lines.Line2D at 0x7f0e63ca4450>,\n",
              " <matplotlib.lines.Line2D at 0x7f0e63ca4990>,\n",
              " <matplotlib.lines.Line2D at 0x7f0e63ca4ed0>]"
            ]
          },
          "metadata": {
            "tags": []
          },
          "execution_count": 23
        },
        {
          "output_type": "display_data",
          "data": {
            "image/png": "[encoded data removed]",
            "text/plain": [
              "<Figure size 432x288 with 1 Axes>"
            ]
          },
          "metadata": {
            "tags": [],
            "needs_background": "light"
          }
        }
      ]
    },
    {
      "cell_type": "markdown",
      "metadata": {
        "id": "IKb4IcD8eZLW"
      },
      "source": [
        "## 2) make_moons 샘플 활용"
      ]
    },
    {
      "cell_type": "code",
      "metadata": {
        "id": "TEhNyxCfdq8u"
      },
      "source": [
        "X, y = make_moons(n_samples=200, noise=0.05, random_state=0)"
      ],
      "execution_count": null,
      "outputs": []
    },
    {
      "cell_type": "code",
      "metadata": {
        "colab": {
          "base_uri": "https://localhost:8080/",
          "height": 301
        },
        "id": "F4xNXxEqdq5g",
        "outputId": "71d2e371-f880-4b0a-e755-ecceb256c32e"
      },
      "source": [
        "mglearn.discrete_scatter(X[:, 0], X[:, 1], y)"
      ],
      "execution_count": null,
      "outputs": [
        {
          "output_type": "execute_result",
          "data": {
            "text/plain": [
              "[<matplotlib.lines.Line2D at 0x7f0e63c0be90>,\n",
              " <matplotlib.lines.Line2D at 0x7f0e63bdf4d0>]"
            ]
          },
          "metadata": {
            "tags": []
          },
          "execution_count": 27
        },
        {
          "output_type": "display_data",
          "data": {
            "image/png": "[encoded data removed]",
            "text/plain": [
              "<Figure size 432x288 with 1 Axes>"
            ]
          },
          "metadata": {
            "tags": [],
            "needs_background": "light"
          }
        }
      ]
    },
    {
      "cell_type": "code",
      "metadata": {
        "id": "rbMo-NhwfDJH"
      },
      "source": [
        "model = KMeans(n_clusters=2).fit(X)"
      ],
      "execution_count": null,
      "outputs": []
    },
    {
      "cell_type": "code",
      "metadata": {
        "colab": {
          "base_uri": "https://localhost:8080/"
        },
        "id": "VY4DQivEfDGC",
        "outputId": "8a379971-7e11-4e6f-ded7-6fb1a5ffc7a5"
      },
      "source": [
        "model.labels_"
      ],
      "execution_count": null,
      "outputs": [
        {
          "output_type": "execute_result",
          "data": {
            "text/plain": [
              "array([1, 1, 0, 0, 1, 1, 1, 1, 1, 1, 0, 0, 1, 1, 0, 1, 0, 1, 0, 0, 1, 1,\n",
              "       0, 1, 0, 0, 1, 1, 0, 0, 1, 0, 1, 0, 1, 1, 1, 1, 0, 0, 1, 0, 0, 0,\n",
              "       1, 0, 1, 0, 0, 1, 0, 1, 1, 0, 1, 1, 0, 1, 0, 0, 1, 0, 1, 1, 1, 0,\n",
              "       0, 1, 0, 0, 1, 0, 1, 0, 1, 0, 0, 1, 0, 1, 1, 0, 1, 1, 0, 0, 1, 0,\n",
              "       1, 1, 0, 1, 1, 0, 1, 1, 1, 1, 0, 0, 1, 1, 0, 1, 0, 0, 0, 0, 1, 0,\n",
              "       0, 0, 0, 0, 1, 1, 0, 1, 1, 1, 1, 0, 0, 0, 0, 0, 1, 0, 1, 1, 1, 0,\n",
              "       0, 0, 1, 1, 1, 0, 1, 1, 0, 0, 0, 0, 0, 1, 0, 1, 0, 0, 1, 1, 1, 0,\n",
              "       1, 0, 1, 1, 0, 0, 0, 1, 0, 1, 1, 1, 0, 1, 1, 1, 0, 0, 0, 0, 0, 1,\n",
              "       1, 0, 0, 0, 1, 0, 1, 1, 1, 0, 0, 1, 0, 0, 0, 0, 1, 1, 0, 0, 1, 0,\n",
              "       0, 1], dtype=int32)"
            ]
          },
          "metadata": {
            "tags": []
          },
          "execution_count": 29
        }
      ]
    },
    {
      "cell_type": "code",
      "metadata": {
        "colab": {
          "base_uri": "https://localhost:8080/",
          "height": 301
        },
        "id": "3nkkwzO2fDDL",
        "outputId": "1efded01-3bf8-43bd-94c9-2485b6a3a802"
      },
      "source": [
        "mglearn.discrete_scatter(X[:, 0], X[:, 1], model.labels_, markers=\"o\")\n",
        "mglearn.discrete_scatter(model.cluster_centers_[:, 0], model.cluster_centers_[:, 1], [0, 1], markers=\"^\")"
      ],
      "execution_count": null,
      "outputs": [
        {
          "output_type": "execute_result",
          "data": {
            "text/plain": [
              "[<matplotlib.lines.Line2D at 0x7f0e63b5d290>,\n",
              " <matplotlib.lines.Line2D at 0x7f0e63b5d7d0>]"
            ]
          },
          "metadata": {
            "tags": []
          },
          "execution_count": 30
        },
        {
          "output_type": "display_data",
          "data": {
            "image/png": "[encoded data removed]",
            "text/plain": [
              "<Figure size 432x288 with 1 Axes>"
            ]
          },
          "metadata": {
            "tags": [],
            "needs_background": "light"
          }
        }
      ]
    },
    {
      "cell_type": "code",
      "metadata": {
        "id": "pNH41S27f6ZF"
      },
      "source": [
        "preds = model.predict(X)"
      ],
      "execution_count": null,
      "outputs": []
    },
    {
      "cell_type": "code",
      "metadata": {
        "colab": {
          "base_uri": "https://localhost:8080/"
        },
        "id": "izllGQQ0f6Wn",
        "outputId": "c7a18422-4627-4267-d21b-2e4f1a11620a"
      },
      "source": [
        "accuracy_score(y, preds)"
      ],
      "execution_count": null,
      "outputs": [
        {
          "output_type": "execute_result",
          "data": {
            "text/plain": [
              "0.755"
            ]
          },
          "metadata": {
            "tags": []
          },
          "execution_count": 32
        }
      ]
    },
    {
      "cell_type": "markdown",
      "metadata": {
        "id": "-gLdwRsyhecI"
      },
      "source": [
        "## 3) iris 샘플 활용"
      ]
    },
    {
      "cell_type": "code",
      "metadata": {
        "colab": {
          "base_uri": "https://localhost:8080/",
          "height": 204
        },
        "id": "sND7tWLbf6Tn",
        "outputId": "e3f566f5-29f1-4d09-9029-3a2a47408781"
      },
      "source": [
        "iris = load_iris()\n",
        "\n",
        "X = pd.DataFrame(iris.data, columns=[\"sepal_length\", \"sepal_width\", \"petal_length\", \"petal_width\"])\n",
        "y = pd.DataFrame(iris.target, columns=[\"target\"])\n",
        "\n",
        "X.head()\n",
        "y.head()"
      ],
      "execution_count": null,
      "outputs": [
        {
          "output_type": "execute_result",
          "data": {
            "text/html": [
              "<div>\n",
              "<style scoped>\n",
              "    .dataframe tbody tr th:only-of-type {\n",
              "        vertical-align: middle;\n",
              "    }\n",
              "\n",
              "    .dataframe tbody tr th {\n",
              "        vertical-align: top;\n",
              "    }\n",
              "\n",
              "    .dataframe thead th {\n",
              "        text-align: right;\n",
              "    }\n",
              "</style>\n",
              "<table border=\"1\" class=\"dataframe\">\n",
              "  <thead>\n",
              "    <tr style=\"text-align: right;\">\n",
              "      <th></th>\n",
              "      <th>target</th>\n",
              "    </tr>\n",
              "  </thead>\n",
              "  <tbody>\n",
              "    <tr>\n",
              "      <th>0</th>\n",
              "      <td>0</td>\n",
              "    </tr>\n",
              "    <tr>\n",
              "      <th>1</th>\n",
              "      <td>0</td>\n",
              "    </tr>\n",
              "    <tr>\n",
              "      <th>2</th>\n",
              "      <td>0</td>\n",
              "    </tr>\n",
              "    <tr>\n",
              "      <th>3</th>\n",
              "      <td>0</td>\n",
              "    </tr>\n",
              "    <tr>\n",
              "      <th>4</th>\n",
              "      <td>0</td>\n",
              "    </tr>\n",
              "  </tbody>\n",
              "</table>\n",
              "</div>"
            ],
            "text/plain": [
              "   target\n",
              "0       0\n",
              "1       0\n",
              "2       0\n",
              "3       0\n",
              "4       0"
            ]
          },
          "metadata": {
            "tags": []
          },
          "execution_count": 33
        }
      ]
    },
    {
      "cell_type": "code",
      "metadata": {
        "colab": {
          "base_uri": "https://localhost:8080/",
          "height": 461
        },
        "id": "XykQ0Ppbdb78",
        "outputId": "18e31b08-aac5-42d1-f66c-c8f0f10d7ebd"
      },
      "source": [
        "plt.figure(figsize=(14, 7))\n",
        "colormap = np.array([\"lime\", \"red\", \"black\"])\n",
        "\n",
        "plt.subplot(1, 2, 1)\n",
        "plt.scatter(X.sepal_length, X.sepal_width, c=colormap[y.target], s=40)\n",
        "plt.title(\"꽃받침\")"
      ],
      "execution_count": null,
      "outputs": [
        {
          "output_type": "execute_result",
          "data": {
            "text/plain": [
              "Text(0.5, 1.0, '꽃받침')"
            ]
          },
          "metadata": {
            "tags": []
          },
          "execution_count": 35
        },
        {
          "output_type": "display_data",
          "data": {
            "image/png": "[encoded data removed]",
            "text/plain": [
              "<Figure size 1008x504 with 1 Axes>"
            ]
          },
          "metadata": {
            "tags": [],
            "needs_background": "light"
          }
        }
      ]
    },
    {
      "cell_type": "code",
      "metadata": {
        "id": "Y4B0wV3sjwiy"
      },
      "source": [
        "model = KMeans(n_clusters=3).fit(X)"
      ],
      "execution_count": null,
      "outputs": []
    },
    {
      "cell_type": "code",
      "metadata": {
        "colab": {
          "base_uri": "https://localhost:8080/"
        },
        "id": "Fn7Y7Xm6jwgj",
        "outputId": "c2bbeb4d-6605-4a79-be3c-3281a128cd35"
      },
      "source": [
        "model.labels_"
      ],
      "execution_count": null,
      "outputs": [
        {
          "output_type": "execute_result",
          "data": {
            "text/plain": [
              "array([0, 0, 0, 0, 0, 0, 0, 0, 0, 0, 0, 0, 0, 0, 0, 0, 0, 0, 0, 0, 0, 0,\n",
              "       0, 0, 0, 0, 0, 0, 0, 0, 0, 0, 0, 0, 0, 0, 0, 0, 0, 0, 0, 0, 0, 0,\n",
              "       0, 0, 0, 0, 0, 0, 2, 2, 1, 2, 2, 2, 2, 2, 2, 2, 2, 2, 2, 2, 2, 2,\n",
              "       2, 2, 2, 2, 2, 2, 2, 2, 2, 2, 2, 1, 2, 2, 2, 2, 2, 2, 2, 2, 2, 2,\n",
              "       2, 2, 2, 2, 2, 2, 2, 2, 2, 2, 2, 2, 1, 2, 1, 1, 1, 1, 2, 1, 1, 1,\n",
              "       1, 1, 1, 2, 2, 1, 1, 1, 1, 2, 1, 2, 1, 2, 1, 1, 2, 2, 1, 1, 1, 1,\n",
              "       1, 2, 1, 1, 1, 1, 2, 1, 1, 1, 2, 1, 1, 1, 2, 1, 1, 2], dtype=int32)"
            ]
          },
          "metadata": {
            "tags": []
          },
          "execution_count": 39
        }
      ]
    },
    {
      "cell_type": "code",
      "metadata": {
        "colab": {
          "base_uri": "https://localhost:8080/",
          "height": 461
        },
        "id": "Z0dD88d6jwcc",
        "outputId": "b0082878-0866-42f0-defa-f01174c0c6c5"
      },
      "source": [
        "plt.figure(figsize=(14, 7))\n",
        "colormap = np.array([\"lime\", \"red\", \"black\"])\n",
        "\n",
        "plt.subplot(1, 2, 1)\n",
        "plt.scatter(X.petal_length, X.petal_width, c=colormap[y.target], s=40)\n",
        "plt.title(\"정답\")\n",
        "\n",
        "plt.subplot(1, 2, 2)\n",
        "plt.scatter(X.petal_length, X.petal_width, c=colormap[model.labels_], s=40)\n",
        "plt.title(\"예측 결과\")"
      ],
      "execution_count": null,
      "outputs": [
        {
          "output_type": "execute_result",
          "data": {
            "text/plain": [
              "Text(0.5, 1.0, '예측 결과')"
            ]
          },
          "metadata": {
            "tags": []
          },
          "execution_count": 48
        },
        {
          "output_type": "display_data",
          "data": {
            "image/png": "[encoded data removed]",
            "text/plain": [
              "<Figure size 1008x504 with 2 Axes>"
            ]
          },
          "metadata": {
            "tags": [],
            "needs_background": "light"
          }
        }
      ]
    },
    {
      "cell_type": "code",
      "metadata": {
        "colab": {
          "base_uri": "https://localhost:8080/"
        },
        "id": "aKU1oI84jwZq",
        "outputId": "c39b0c46-dbd2-437d-ca3a-be3e03d2ea12"
      },
      "source": [
        "accuracy_score(y, model.labels_)"
      ],
      "execution_count": null,
      "outputs": [
        {
          "output_type": "execute_result",
          "data": {
            "text/plain": [
              "0.44"
            ]
          },
          "metadata": {
            "tags": []
          },
          "execution_count": 42
        }
      ]
    },
    {
      "cell_type": "code",
      "metadata": {
        "colab": {
          "base_uri": "https://localhost:8080/"
        },
        "id": "pdzx9H0KlIIe",
        "outputId": "115fced3-f9cd-4fce-b4ec-38c1761063a3"
      },
      "source": [
        "confusion_matrix(y, model.labels_)"
      ],
      "execution_count": null,
      "outputs": [
        {
          "output_type": "execute_result",
          "data": {
            "text/plain": [
              "array([[50,  0,  0],\n",
              "       [ 0,  2, 48],\n",
              "       [ 0, 36, 14]])"
            ]
          },
          "metadata": {
            "tags": []
          },
          "execution_count": 44
        }
      ]
    },
    {
      "cell_type": "markdown",
      "metadata": {
        "id": "G8PGbGUhltoL"
      },
      "source": [
        "## 4) 사람의 키와 몸무게를 활용"
      ]
    },
    {
      "cell_type": "code",
      "metadata": {
        "colab": {
          "base_uri": "https://localhost:8080/",
          "height": 359
        },
        "id": "dFVAlpq9lIE_",
        "outputId": "cb2579f5-e2dd-47fb-e142-b7a71b577d53"
      },
      "source": [
        "df = pd.DataFrame(columns=[\"height\", \"weight\"])\n",
        "df.loc[0] = [185, 60]\n",
        "df.loc[1] = [180, 65]\n",
        "df.loc[2] = [185, 75]\n",
        "df.loc[3] = [165, 50]\n",
        "df.loc[4] = [170, 58]\n",
        "df.loc[5] = [155, 60]\n",
        "df.loc[6] = [157, 57]\n",
        "df.loc[7] = [162, 62]\n",
        "df.loc[8] = [173, 70]\n",
        "df.loc[9] = [171, 70]\n",
        "df"
      ],
      "execution_count": null,
      "outputs": [
        {
          "output_type": "execute_result",
          "data": {
            "text/html": [
              "<div>\n",
              "<style scoped>\n",
              "    .dataframe tbody tr th:only-of-type {\n",
              "        vertical-align: middle;\n",
              "    }\n",
              "\n",
              "    .dataframe tbody tr th {\n",
              "        vertical-align: top;\n",
              "    }\n",
              "\n",
              "    .dataframe thead th {\n",
              "        text-align: right;\n",
              "    }\n",
              "</style>\n",
              "<table border=\"1\" class=\"dataframe\">\n",
              "  <thead>\n",
              "    <tr style=\"text-align: right;\">\n",
              "      <th></th>\n",
              "      <th>height</th>\n",
              "      <th>weight</th>\n",
              "    </tr>\n",
              "  </thead>\n",
              "  <tbody>\n",
              "    <tr>\n",
              "      <th>0</th>\n",
              "      <td>185</td>\n",
              "      <td>60</td>\n",
              "    </tr>\n",
              "    <tr>\n",
              "      <th>1</th>\n",
              "      <td>180</td>\n",
              "      <td>65</td>\n",
              "    </tr>\n",
              "    <tr>\n",
              "      <th>2</th>\n",
              "      <td>185</td>\n",
              "      <td>75</td>\n",
              "    </tr>\n",
              "    <tr>\n",
              "      <th>3</th>\n",
              "      <td>165</td>\n",
              "      <td>50</td>\n",
              "    </tr>\n",
              "    <tr>\n",
              "      <th>4</th>\n",
              "      <td>170</td>\n",
              "      <td>58</td>\n",
              "    </tr>\n",
              "    <tr>\n",
              "      <th>5</th>\n",
              "      <td>155</td>\n",
              "      <td>60</td>\n",
              "    </tr>\n",
              "    <tr>\n",
              "      <th>6</th>\n",
              "      <td>157</td>\n",
              "      <td>57</td>\n",
              "    </tr>\n",
              "    <tr>\n",
              "      <th>7</th>\n",
              "      <td>162</td>\n",
              "      <td>62</td>\n",
              "    </tr>\n",
              "    <tr>\n",
              "      <th>8</th>\n",
              "      <td>173</td>\n",
              "      <td>70</td>\n",
              "    </tr>\n",
              "    <tr>\n",
              "      <th>9</th>\n",
              "      <td>171</td>\n",
              "      <td>70</td>\n",
              "    </tr>\n",
              "  </tbody>\n",
              "</table>\n",
              "</div>"
            ],
            "text/plain": [
              "  height weight\n",
              "0    185     60\n",
              "1    180     65\n",
              "2    185     75\n",
              "3    165     50\n",
              "4    170     58\n",
              "5    155     60\n",
              "6    157     57\n",
              "7    162     62\n",
              "8    173     70\n",
              "9    171     70"
            ]
          },
          "metadata": {
            "tags": []
          },
          "execution_count": 49
        }
      ]
    },
    {
      "cell_type": "code",
      "metadata": {
        "id": "_7y17ryUlIB0"
      },
      "source": [
        ""
      ],
      "execution_count": null,
      "outputs": []
    }
  ]
}