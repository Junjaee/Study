{
  "nbformat": 4,
  "nbformat_minor": 0,
  "metadata": {
    "colab": {
      "name": "05_모듈과 패키지.ipynb",
      "provenance": [],
      "collapsed_sections": [],
      "authorship_tag": "ABX9TyM+xh6+FLyqUlCJgN5dIXHs",
      "include_colab_link": true
    },
    "kernelspec": {
      "name": "python3",
      "display_name": "Python 3"
    },
    "language_info": {
      "name": "python"
    }
  },
  "cells": [
    {
      "cell_type": "markdown",
      "metadata": {
        "id": "view-in-github",
        "colab_type": "text"
      },
      "source": [
        "<a href=\"https://colab.research.google.com/github/Junjaee/Study/blob/main/Python/05_%EB%AA%A8%EB%93%88%EA%B3%BC_%ED%8C%A8%ED%82%A4%EC%A7%80.ipynb\" target=\"_parent\"><img src=\"https://colab.research.google.com/assets/colab-badge.svg\" alt=\"Open In Colab\"/></a>"
      ]
    },
    {
      "cell_type": "markdown",
      "metadata": {
        "id": "CvRGU_9K8mym"
      },
      "source": [
        "### 1. 정의\n",
        "\n",
        "+ 비슷하거나 관련된 일을 하는 함수, 클래스, 상수값들을 모아서 하나의 파일에 저장하고 추후에 재사용하기 위한 목적\n",
        "+ 상수, 함수, 클래스들을 모아놓은 파일 : .py\n",
        "\n",
        "### 2. 종류\n",
        "\n",
        "+ 표준 모듈\n",
        "+ 사용자 정의 모듈\n",
        "+ 서드 파티 모듈\n",
        "\n",
        "### 3. 선언 방법\n",
        "\n",
        "+ import 모듈\n",
        "+ import 모듈 as 별칭\n",
        "+ from 모듈 import 상수, 함수, 클래스\n",
        "+ from 모듈 import*\n",
        "+ from 모듈 import 이름 as 별칭\n",
        "\n",
        "### 4. 참조\n",
        "\n",
        "+ 같은 경로\n",
        "+ 기존 모듈 경로에 추가 : 아나콘다의 경우에는 주로 Lib/site-packages\n",
        "+ sys 모듈을 이용해서 path 경로 추가\n",
        "  - sys.path.append(\"경로\")\n",
        "+ windows의 환경변수 pythonpath 추가\n"
      ]
    },
    {
      "cell_type": "code",
      "metadata": {
        "id": "4OwC9uqN8P6X"
      },
      "source": [
        ""
      ],
      "execution_count": null,
      "outputs": []
    }
  ]
}