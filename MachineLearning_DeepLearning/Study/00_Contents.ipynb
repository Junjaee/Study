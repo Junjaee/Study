{
  "nbformat": 4,
  "nbformat_minor": 0,
  "metadata": {
    "colab": {
      "name": "00_Contents.ipynb",
      "provenance": [],
      "collapsed_sections": [],
      "toc_visible": true,
      "authorship_tag": "ABX9TyOYoJ9uskcBgZc8nK/eCaoo",
      "include_colab_link": true
    },
    "kernelspec": {
      "name": "python3",
      "display_name": "Python 3"
    },
    "language_info": {
      "name": "python"
    }
  },
  "cells": [
    {
      "cell_type": "markdown",
      "metadata": {
        "id": "view-in-github",
        "colab_type": "text"
      },
      "source": [
        "<a href=\"https://colab.research.google.com/github/Junjaee/Study/blob/main/MachineLearning_DeepLearning/Study/00_Contents.ipynb\" target=\"_parent\"><img src=\"https://colab.research.google.com/assets/colab-badge.svg\" alt=\"Open In Colab\"/></a>"
      ]
    },
    {
      "cell_type": "markdown",
      "metadata": {
        "id": "jyK_qYgAtvul"
      },
      "source": [
        "# 1. 개요\n",
        "=========================================\n",
        "- (1) AI\n",
        "    - 머신러닝, 컴퓨터 비전, 자연어 처리, 로봇 공학 등 그와 관련된 모든 주제를 포함하는 개념\n",
        "\n",
        "- (2) Machine Learning\n",
        "    - 더 많은 데이터 축적을 통해 성능을 개선할 수 있도록 하는 다양한 알고리즘과 방법론\n",
        "    - \"환경(E)과의 상호 작용을 통해서 축적되는 경험적인 데이터(D)를 바탕으로 지식 즉 모델(M)을 자동으로 구축하고 스스로 성능(P)을 향상하는 시스템\" - Tom Mitchell(1997)\n",
        "    - 데이터를 기반으로 모델을 자동으로 생성하는 기술\n",
        "    - 실세계의 복잡한 데이터로부터 규칙과 패턴을 발견하여 미래를 예측하는 기술\n",
        "    - 입출력 데이터로부터 프로그램(알고리즘)을 자동으로 생성하는 기술\n",
        "\n",
        "- (3) Machine Learning과 Data Mining\n",
        "    - 머신러닝은 훈련 데이터를 통해 학습된 알려진 속성을 기반으로 한 예측에 중점\n",
        "    - 데이터 마이닝은 데이터의 미처 몰랐던 속성을 발견하는 것에 집중\n",
        "    - 데이터 마이닝에서는 머신러닝이 필수는 아니지만 머신러닝에서는 데이터 마이닝이 필수이다\n",
        "\n",
        "# 2. 머신러닝의 종류\n",
        "=========================================\n",
        "- (1) 지도 학습(교사 학습)\n",
        "    - 1) 회귀(Regression)\n",
        "        - 선형 회귀(Linear Regression)\n",
        "\n",
        "    - 2) 분류(Classfication)\n",
        "        - Logistic Regression\n",
        "        - KNN\n",
        "        - Decision Tree\n",
        "        - Random Forest\n",
        "        - SVM\n",
        "        - Naive Bayes\n",
        "        - Neural Network\n",
        "\n",
        "- (2) 비지도 학습(비교사 학습)\n",
        "    - 1) 군집(Clustering)\n",
        "        - K Means\n",
        "        - DBSCAN\n",
        "        - 이상치 탐지, 특이치 탐지\n",
        "\n",
        "    - 2) 시각화, 차원 축소\n",
        "        - PCA(주성분 분석)\n",
        "    \n",
        "    - 3) 연관 규칙 학습(Association Rule Learning)\n",
        "        - 대량의 데이터에서 특성 간의 흥미로운 관계를 찾는 방식\n",
        "\n",
        "    - 4) 피처 추출(Feature Extraction)\n",
        "\n",
        "- (3) 강화 학습(Reinforcement Learning)\n",
        "    - 완전한 답을 제공하지 않는다\n",
        "    - 보상 시스템 적용\n",
        "    - 대표적인 예 : 알파고"
      ]
    },
    {
      "cell_type": "code",
      "metadata": {
        "id": "oaI__4K0l3ip"
      },
      "source": [
        ""
      ],
      "execution_count": null,
      "outputs": []
    }
  ]
}