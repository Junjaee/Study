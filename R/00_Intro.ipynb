{
  "nbformat": 4,
  "nbformat_minor": 0,
  "metadata": {
    "colab": {
      "name": "00_Intro.ipynb",
      "provenance": [],
      "collapsed_sections": [],
      "authorship_tag": "ABX9TyO09fnAF3LFS4EP57vdQctZ",
      "include_colab_link": true
    },
    "kernelspec": {
      "name": "ir",
      "display_name": "R"
    },
    "language_info": {
      "name": "R"
    }
  },
  "cells": [
    {
      "cell_type": "markdown",
      "metadata": {
        "id": "view-in-github",
        "colab_type": "text"
      },
      "source": [
        "<a href=\"https://colab.research.google.com/github/Junjaee/Study/blob/main/R/00_Intro.ipynb\" target=\"_parent\"><img src=\"https://colab.research.google.com/assets/colab-badge.svg\" alt=\"Open In Colab\"/></a>"
      ]
    },
    {
      "cell_type": "code",
      "metadata": {
        "id": "tIcOAEGesb8g"
      },
      "source": [
        "# 코랩에서 R 사용하기\n",
        "https://colab.research.google.com/notebook#create=true&language=r"
      ],
      "execution_count": null,
      "outputs": []
    },
    {
      "cell_type": "code",
      "metadata": {
        "id": "DOZX1UPF7R49"
      },
      "source": [
        "# COLAB에서 R실행\n",
        "https://colab.research.google.com/notebook#create=true&language=r\n",
        "\n",
        "#### 버전 업그레이드\n",
        "install.packages(\"installr\")\n",
        "library(installr)\n",
        "updateR()\n",
        "\n",
        "# 패키지 업데이트\n",
        "update.packages()\n",
        "\n",
        "# Python Anaconda에서 R 실행\n",
        "# conda install -c r r-essectials\n",
        "\n",
        "#### 도움말 ####\n",
        "help(print)\n",
        "?sum\n",
        "help(\"for\")\n",
        "example(lm) # lm함수의 예제\n",
        "\n",
        "#### 설정 ####\n",
        "# Tools > Global options > Code > Saving > Default Text Encoding을 utf-8로 변경\n"
      ],
      "execution_count": null,
      "outputs": []
    }
  ]
}