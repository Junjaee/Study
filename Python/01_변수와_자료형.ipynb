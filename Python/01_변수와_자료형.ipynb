{
  "nbformat": 4,
  "nbformat_minor": 0,
  "metadata": {
    "colab": {
      "name": "01_변수와 자료형.ipynb",
      "provenance": [],
      "collapsed_sections": [],
      "authorship_tag": "ABX9TyNqJc4BNJhFJEYxE6+0m1NW",
      "include_colab_link": true
    },
    "kernelspec": {
      "name": "python3",
      "display_name": "Python 3"
    },
    "language_info": {
      "name": "python"
    }
  },
  "cells": [
    {
      "cell_type": "markdown",
      "metadata": {
        "id": "view-in-github",
        "colab_type": "text"
      },
      "source": [
        "<a href=\"https://colab.research.google.com/github/Junjaee/Study/blob/main/Python/01_%EB%B3%80%EC%88%98%EC%99%80_%EC%9E%90%EB%A3%8C%ED%98%95.ipynb\" target=\"_parent\"><img src=\"https://colab.research.google.com/assets/colab-badge.svg\" alt=\"Open In Colab\"/></a>"
      ]
    },
    {
      "cell_type": "markdown",
      "metadata": {
        "id": "A0vtHTof-ijk"
      },
      "source": [
        "## 1. 변수의 정의 : 임시 기억(저장) 공간\n",
        "\n",
        "## 2. 변수의 톡징\n",
        "  + 묵시적 선언 - 선언문을 사용하는 것이 아니라 디폴트 규칙에 의해서 변수에 속성을 부여함(변수를 선언하지 않고 사용)\n",
        "  + 동적 바인딩 - 유형을 마음대로 변경 가능(ex.  정수형 저장 후 실수형 저장)\n",
        "  + immutable(불변성) - 변수 안의 데이터는 수정할수 없음(ex. int, str, tuple) <-> (ex. list, dict)"
      ]
    },
    {
      "cell_type": "code",
      "metadata": {
        "colab": {
          "base_uri": "https://localhost:8080/"
        },
        "id": "8XuX9K_x9ICD",
        "outputId": "bd8d573d-3527-49d4-dba1-524abb05fcb3"
      },
      "source": [
        "a = 10\n",
        "print(a)\n",
        "\n",
        "a = '가나다'\n",
        "print(a)\n",
        "\n",
        "a = 3.14\n",
        "print(a)\n",
        "\n",
        "a = True\n",
        "print(a)\n"
      ],
      "execution_count": null,
      "outputs": [
        {
          "output_type": "stream",
          "text": [
            "10\n",
            "가나다\n",
            "3.14\n",
            "True\n"
          ],
          "name": "stdout"
        }
      ]
    },
    {
      "cell_type": "markdown",
      "metadata": {
        "id": "OwNRvcneQJ5W"
      },
      "source": [
        "## 3. Data Type\n",
        "\n",
        "* 종류\n",
        "    1. 기본 자료형\n",
        "      * int 정수\n",
        "      * float 실수\n",
        "      * str 문자열\n",
        "      * bool 논리(참 or 거짓)\n",
        "    2. 집합 자료형\n",
        "      * list\n",
        "      * tuple\n",
        "      * dict\n",
        "      * set"
      ]
    },
    {
      "cell_type": "markdown",
      "metadata": {
        "id": "cdTdT_EKSR04"
      },
      "source": [
        "---\n",
        "\n",
        "\n",
        "(1) str"
      ]
    },
    {
      "cell_type": "code",
      "metadata": {
        "colab": {
          "base_uri": "https://localhost:8080/"
        },
        "id": "g09mSkmLCl0D",
        "outputId": "132925fd-f8c9-49b2-b4ba-c137599baeff"
      },
      "source": [
        "a = 10\n",
        "type(a)\n",
        "\n",
        "a = '10'\n",
        "type(a)\n",
        "\n",
        "a = \"안녕하세요\"\n",
        "type(a)\n",
        "\n",
        "\n",
        "# \"\"\"를 이용해 줄을 띄어도 상관없이 문장을 사용\n",
        "a = \"\"\"안녕하세요, \n",
        "    저는 홍길동입니다. \n",
        "    안녕히 계세요\"\"\"\n",
        "\n",
        "print(a)\n"
      ],
      "execution_count": null,
      "outputs": [
        {
          "output_type": "stream",
          "text": [
            "안녕하세요, \n",
            "    저는 홍길동입니다. \n",
            "    안녕히 계세요\n"
          ],
          "name": "stdout"
        }
      ]
    },
    {
      "cell_type": "code",
      "metadata": {
        "colab": {
          "base_uri": "https://localhost:8080/"
        },
        "id": "PQQCHGKdSeX_",
        "outputId": "36591a7a-2597-41bf-eb73-5c431194335a"
      },
      "source": [
        "print(a[:3])"
      ],
      "execution_count": null,
      "outputs": [
        {
          "output_type": "stream",
          "text": [
            "안녕하\n"
          ],
          "name": "stdout"
        }
      ]
    },
    {
      "cell_type": "code",
      "metadata": {
        "colab": {
          "base_uri": "https://localhost:8080/"
        },
        "id": "BGaFVlXgS3pt",
        "outputId": "19bd48d5-4447-43d5-dbc8-40717fe817f5"
      },
      "source": [
        "#### 특수문자(제어문자) : \\문자\n",
        "# \\n : 줄바꿈\n",
        "# \\t : tap간격 띄어쓰기\n",
        "\n",
        "\n",
        "a = \"이것은 파이썬입니다. \\n열심히 공부합시다.\"\n",
        "print(a)\n",
        "\n",
        "b = \"현재 시간은 \\t9시 입니다.\"\n",
        "print(b)\n",
        "\n",
        "c = \"\\\"\\\\t는 탭키의 역할이다\\\"\"\n",
        "print(c)"
      ],
      "execution_count": null,
      "outputs": [
        {
          "output_type": "stream",
          "text": [
            "이것은 파이썬입니다. \n",
            "열심히 공부합시다.\n",
            "현재 시간은 \t9시 입니다.\n",
            "\"\\t는 탭키의 역할이다\"\n"
          ],
          "name": "stdout"
        }
      ]
    },
    {
      "cell_type": "code",
      "metadata": {
        "colab": {
          "base_uri": "https://localhost:8080/"
        },
        "id": "QPLC6AjbaCdZ",
        "outputId": "d6575bdc-aaba-4f6e-9223-0cdae86beaae"
      },
      "source": [
        "# \\를 줄바꿈의 용도로 사용\n",
        "\n",
        "a = '10 + 2 - 3 + 5 + 6 * \\\n",
        "7'\n",
        "\n",
        "print(a)"
      ],
      "execution_count": null,
      "outputs": [
        {
          "output_type": "stream",
          "text": [
            "10 + 2 - 3 + 5 + 6 * 7\n"
          ],
          "name": "stdout"
        }
      ]
    },
    {
      "cell_type": "code",
      "metadata": {
        "colab": {
          "base_uri": "https://localhost:8080/"
        },
        "id": "epw7x_OKehpD",
        "outputId": "739f1609-5dc1-4e9d-fd46-7db95ab8d81e"
      },
      "source": [
        "# 문자열을 연결하기\n",
        "\n",
        "a = \"python\"\n",
        "b = \" is fun\"\n",
        "c = \" and great\"\n",
        "\n",
        "d = a,b,c\n",
        "print(d)\n",
        "\n",
        "e = a + b + c\n",
        "print(e)\n"
      ],
      "execution_count": null,
      "outputs": [
        {
          "output_type": "stream",
          "text": [
            "('python', ' is fun', ' and great')\n",
            "python is fun and great\n"
          ],
          "name": "stdout"
        }
      ]
    },
    {
      "cell_type": "code",
      "metadata": {
        "colab": {
          "base_uri": "https://localhost:8080/"
        },
        "id": "Lh5ZjxVJAEdk",
        "outputId": "bfe223ea-302d-4755-c3b4-7298ea78d5cf"
      },
      "source": [
        "# 문자열 곱하기(반복)\n",
        "\n",
        "print(a * 3)"
      ],
      "execution_count": null,
      "outputs": [
        {
          "output_type": "stream",
          "text": [
            "pythonpythonpython\n"
          ],
          "name": "stdout"
        }
      ]
    },
    {
      "cell_type": "code",
      "metadata": {
        "colab": {
          "base_uri": "https://localhost:8080/"
        },
        "id": "1A9oQJlQB7rl",
        "outputId": "2a13305e-c481-44b8-deab-539567acd4f5"
      },
      "source": [
        "# 문자열의 길이\n",
        "\n",
        "print(len(a))\n",
        "print(len(b))\n",
        "print(len(c))"
      ],
      "execution_count": null,
      "outputs": [
        {
          "output_type": "stream",
          "text": [
            "6\n",
            "7\n",
            "10\n"
          ],
          "name": "stdout"
        }
      ]
    },
    {
      "cell_type": "code",
      "metadata": {
        "colab": {
          "base_uri": "https://localhost:8080/"
        },
        "id": "9wnbAD6eCYlr",
        "outputId": "a83b72ca-f3db-41c6-a22c-1bb5b08cfdab"
      },
      "source": [
        "# 인덱싱(indexing) : 원하는 문자에 접근할 수 있는 방법 제공\n",
        "\n",
        "a = \"Life is too short, You need python\"\n",
        "\n",
        "print(a[5])\n",
        "print(a[10])\n",
        "print(a[-2]) # 맨끝에서부터 왼쪽으로 진행\n",
        "print(a[len(a)-1])\n"
      ],
      "execution_count": null,
      "outputs": [
        {
          "output_type": "stream",
          "text": [
            "i\n",
            "o\n",
            "o\n",
            "n\n"
          ],
          "name": "stdout"
        }
      ]
    },
    {
      "cell_type": "code",
      "metadata": {
        "colab": {
          "base_uri": "https://localhost:8080/"
        },
        "id": "KP1VPtoKDsnA",
        "outputId": "40ab0993-f6c8-4f1e-f1f7-8f21504bdfb5"
      },
      "source": [
        "# 슬라이싱(Slicing) : [시작위치 : 끝위치]\n",
        "\n",
        "print(a[0:6])\n",
        "print(a[:6])\n",
        "print(a[6:])\n",
        "print(a[:])\n",
        "print(a[19: -7])\n"
      ],
      "execution_count": null,
      "outputs": [
        {
          "output_type": "stream",
          "text": [
            "Life i\n",
            "Life i\n",
            "s too short, You need python\n",
            "Life is too short, You need python\n",
            "You need\n"
          ],
          "name": "stdout"
        }
      ]
    },
    {
      "cell_type": "code",
      "metadata": {
        "colab": {
          "base_uri": "https://localhost:8080/"
        },
        "id": "ZRaQVgx3JJs1",
        "outputId": "49740a6a-cf14-43ac-fa50-1379426e92ac"
      },
      "source": [
        "# step : [시작위치 : 끝위치 : 간격]\n",
        "\n",
        "print(a[::1])\n",
        "print(a[::2])\n",
        "print(a[::3])\n",
        "print(a[::-1])"
      ],
      "execution_count": null,
      "outputs": [
        {
          "output_type": "stream",
          "text": [
            "Life is too short, You need python\n",
            "Lf stosot o edpto\n",
            "Lesosr ue tn\n",
            "nohtyp deen uoY ,trohs oot si efiL\n"
          ],
          "name": "stdout"
        }
      ]
    },
    {
      "cell_type": "code",
      "metadata": {
        "colab": {
          "base_uri": "https://localhost:8080/",
          "height": 35
        },
        "id": "LkWzz2j7NacV",
        "outputId": "0469d995-f641-4f94-fff0-8724032eae27"
      },
      "source": [
        "# 수정 불가\n",
        "a = \"pition\"\n",
        "#a[1] = 'y'\n",
        "\n",
        "a[:1] + 'y' + a[2:]"
      ],
      "execution_count": null,
      "outputs": [
        {
          "output_type": "execute_result",
          "data": {
            "application/vnd.google.colaboratory.intrinsic+json": {
              "type": "string"
            },
            "text/plain": [
              "'pytion'"
            ]
          },
          "metadata": {
            "tags": []
          },
          "execution_count": 28
        }
      ]
    },
    {
      "cell_type": "code",
      "metadata": {
        "colab": {
          "base_uri": "https://localhost:8080/"
        },
        "id": "YoBrB_BFOPrr",
        "outputId": "0e382ac4-a750-4c54-cfc2-9d70c3845938"
      },
      "source": [
        "### 문자열 관련 함수\n",
        "\n",
        "# count()\n",
        "\n",
        "str1 = \"홍길동, 홍경래, 홍장군, 입경업, 신돌석\"\n",
        "\n",
        "print(len(str1))\n",
        "print(str1.count(\"홍\"))\n",
        "print(\"-------------------------------------\")\n",
        "\n",
        "# join()\n",
        "\n",
        "str1 = \"abcdefg\"\n",
        "str2 = \",\".join(str1)\n",
        "print(str2)\n",
        "print(\"-------------------------------------\")\n",
        "\n",
        "# split()\n",
        "str1 = \"홍길동, 홍경래, 홍장군, 입경업, 신돌석\"\n",
        "print(str1.split(\",\"))\n",
        "print(\"-------------------------------------\")\n",
        "\n",
        "# find() : 첫번째로 찾는 것이 몇번째 위치에 있는지 알려줌, index()\n",
        "print(str1.find(\"홍\"), str1.find(\"길\"))\n",
        "print(str1.index(\"홍\"), str1.index(\"길\"))\n",
        "\n",
        "\n"
      ],
      "execution_count": null,
      "outputs": [
        {
          "output_type": "stream",
          "text": [
            "23\n",
            "3\n",
            "-------------------------------------\n",
            "a,b,c,d,e,f,g\n",
            "-------------------------------------\n",
            "['홍길동', ' 홍경래', ' 홍장군', ' 입경업', ' 신돌석']\n",
            "-------------------------------------\n",
            "0 1\n",
            "0 1\n"
          ],
          "name": "stdout"
        }
      ]
    },
    {
      "cell_type": "code",
      "metadata": {
        "id": "WRdUyAw6HuK6"
      },
      "source": [
        ""
      ],
      "execution_count": null,
      "outputs": []
    },
    {
      "cell_type": "markdown",
      "metadata": {
        "id": "gVQ01vSBdwmo"
      },
      "source": [
        "---\n",
        "#### (3) list\n",
        "* [] 사용\n",
        "* 임의의 객체를 순차적으로 저장하는 집합적 자료형\n",
        "* 인덱스 사용\n",
        "* mutable"
      ]
    },
    {
      "cell_type": "code",
      "metadata": {
        "colab": {
          "base_uri": "https://localhost:8080/"
        },
        "id": "jy7OIIDcHuaW",
        "outputId": "e8704ef3-c9f1-4640-da73-e7a87293b7da"
      },
      "source": [
        "### 복사 (얕은 복사, 깊은 복사)\n",
        "\n",
        "a = [1, 2, 3, 4, 5]\n",
        "b = a\n",
        "b[0] = 10\n",
        "print(a)\n",
        "print(b)\n",
        "\n",
        "print(\"-------------------------------\")\n",
        "\n",
        "a = [1, 2, 3, 4, 5]\n",
        "# b = a[0:5]\n",
        "b = a[:]\n",
        "\n",
        "b[0] = 10\n",
        "print(a)\n",
        "print(b)"
      ],
      "execution_count": null,
      "outputs": [
        {
          "output_type": "stream",
          "text": [
            "[10, 2, 3, 4, 5]\n",
            "[10, 2, 3, 4, 5]\n",
            "-------------------------------\n",
            "[1, 2, 3, 4, 5]\n",
            "[10, 2, 3, 4, 5]\n"
          ],
          "name": "stdout"
        }
      ]
    },
    {
      "cell_type": "code",
      "metadata": {
        "colab": {
          "base_uri": "https://localhost:8080/"
        },
        "id": "C3C3owloIZGD",
        "outputId": "1c4d0abf-5024-4bc5-973d-c2b5033b1d2a"
      },
      "source": [
        "### 추가하기 : insert(), append(), extend()\n",
        "\n",
        "a = [1, 2, 3]\n",
        "print(a)\n",
        "\n",
        "a.insert(0, 0)\n",
        "print(a)\n",
        "\n",
        "a.append(4)\n",
        "print(a)\n",
        "\n",
        "a.extend([5])\n",
        "# 리스트 + 리스트\n",
        "print(a)\n"
      ],
      "execution_count": null,
      "outputs": [
        {
          "output_type": "stream",
          "text": [
            "[1, 2, 3]\n",
            "[0, 1, 2, 3]\n",
            "[0, 1, 2, 3, 4]\n",
            "[0, 1, 2, 3, 4, 5]\n",
            "[0, 1, 2, 3, 4, 5, 6]\n"
          ],
          "name": "stdout"
        }
      ]
    },
    {
      "cell_type": "code",
      "metadata": {
        "colab": {
          "base_uri": "https://localhost:8080/"
        },
        "id": "1wWHJKkyMcDF",
        "outputId": "f03e3971-e92c-4980-dcab-fe85afc0b351"
      },
      "source": [
        "### 정렬\n",
        "\n",
        "a = [1, 4, 3, 2]\n",
        "# a.sort()\n",
        "# print(a)\n",
        "\n",
        "print(sorted(a))\n",
        "print(a)\n",
        "\n",
        "a.reverse()\n",
        "print(a)"
      ],
      "execution_count": null,
      "outputs": [
        {
          "output_type": "stream",
          "text": [
            "[1, 2, 3, 4]\n",
            "[1, 4, 3, 2]\n",
            "[2, 3, 4, 1]\n"
          ],
          "name": "stdout"
        }
      ]
    },
    {
      "cell_type": "code",
      "metadata": {
        "colab": {
          "base_uri": "https://localhost:8080/"
        },
        "id": "4ONsE-WlMb8C",
        "outputId": "25f852a0-ded6-49c7-f23b-ac835be09d32"
      },
      "source": [
        "### 제거\n",
        "\n",
        "# 범위를 지정해서 삭제\n",
        "a = [1, 2, 3, 1, 2, 3]\n",
        "a[1:3] = []\n",
        "print(a)\n",
        "\n",
        "# 특정 값을 찾아서 삭제\n",
        "a = [1, 2, 3, 1, 2, 3]\n",
        "a.remove(3)\n",
        "print(a)\n",
        "\n",
        "# 위치를 찾아서 삭제\n",
        "a = [1, 2, 3, 1, 2, 3]\n",
        "del a[4]\n",
        "print(a)\n",
        "\n",
        "# 전체 데이터 삭제\n",
        "a = [1, 2, 3, 1, 2, 3]\n",
        "a[:] = []\n",
        "print(a)\n",
        "\n",
        "a = [1, 2, 3, 1, 2, 3]\n",
        "del a\n",
        "# 변수 자체도 삭제해버림\n",
        "# print(a)\n",
        "\n",
        "# stack\n",
        "# LIFO 구조 : 나중에 들어간 데이터 먼저 꺼내고, 먼저 들어간 데이터 나중에 꺼낸다 -> 임시용 메모리\n",
        "# 데이터를 넣은 동작을 push, 데이터를 빼는 동작을 pop라고 한다.\n",
        "\n",
        "# pop()은 리스트 맨 마지막 요소을 돌려주고 그 요소는 삭제한다.\n",
        "# pop(x)는 리스트의 x번째 요소를 돌려주고 그 요소는 삭제한다.\n",
        "a = [1, 2, 3]\n",
        "b = a.pop()\n",
        "print(a)\n",
        "print(b)\n",
        "\n",
        "a.pop()\n",
        "print(a)\n",
        "\n"
      ],
      "execution_count": null,
      "outputs": [
        {
          "output_type": "stream",
          "text": [
            "[1, 1, 2, 3]\n",
            "[1, 2, 1, 2, 3]\n",
            "[1, 2, 3, 1, 3]\n",
            "[]\n",
            "[1, 2]\n",
            "3\n",
            "[1]\n"
          ],
          "name": "stdout"
        }
      ]
    },
    {
      "cell_type": "code",
      "metadata": {
        "colab": {
          "base_uri": "https://localhost:8080/"
        },
        "id": "SCBZHpyjag5P",
        "outputId": "a3afbfdc-22ef-4658-9d72-6475ad19092d"
      },
      "source": [
        "### 검색\n",
        "\n",
        "a = [1, 2, 3, 4, 5]\n",
        "\n",
        "print(a.index(4))\n",
        "print(2 in a)"
      ],
      "execution_count": null,
      "outputs": [
        {
          "output_type": "stream",
          "text": [
            "3\n",
            "True\n"
          ],
          "name": "stdout"
        }
      ]
    },
    {
      "cell_type": "markdown",
      "metadata": {
        "id": "IpzeCjELdroH"
      },
      "source": [
        "---\n",
        "#### (4) tuple\n",
        "\n",
        "* ( ) 사용\n",
        "* immuutable -> 수정불가!\n",
        "* 나머지는 list와 동일"
      ]
    },
    {
      "cell_type": "code",
      "metadata": {
        "colab": {
          "base_uri": "https://localhost:8080/"
        },
        "id": "l2CsSCbodZ_m",
        "outputId": "eca1955e-5b75-426d-e6a8-b53ab7670323"
      },
      "source": [
        "a = ('a', 'b', 'c', 'd')\n",
        "print(a)\n",
        "print(type(a))\n",
        "print(len(a))\n",
        "print(a.count('c'))\n",
        "print(a.index('b'))"
      ],
      "execution_count": null,
      "outputs": [
        {
          "output_type": "stream",
          "text": [
            "('a', 'b', 'c', 'd')\n",
            "<class 'tuple'>\n",
            "4\n",
            "1\n",
            "1\n"
          ],
          "name": "stdout"
        }
      ]
    },
    {
      "cell_type": "code",
      "metadata": {
        "colab": {
          "base_uri": "https://localhost:8080/"
        },
        "id": "5LZvo8qXdZ36",
        "outputId": "a418d610-27af-439a-a450-dd0a099e5d4a"
      },
      "source": [
        "#굳이 튜플을 수정하고 싶다면...\n",
        "#a[1] = 10\n",
        "b = list(a)\n",
        "print(b)\n",
        "b[1] = 10\n",
        "print(b)\n",
        "a = tuple(b)\n",
        "print(a)\n"
      ],
      "execution_count": null,
      "outputs": [
        {
          "output_type": "stream",
          "text": [
            "['a', 'b', 'c', 'd']\n",
            "['a', 10, 'c', 'd']\n",
            "('a', 10, 'c', 'd')\n"
          ],
          "name": "stdout"
        }
      ]
    },
    {
      "cell_type": "code",
      "metadata": {
        "colab": {
          "base_uri": "https://localhost:8080/"
        },
        "id": "Z8b9V1kqgORU",
        "outputId": "83ca0b69-ef90-4a1e-b61c-bb99e029744b"
      },
      "source": [
        "# packing과 unpacking\n",
        "\n",
        "a = 10, 20, 30\n",
        "print(a)\n",
        "\n",
        "a1, a2, a3 = a\n",
        "print(a1, a2, a3)"
      ],
      "execution_count": null,
      "outputs": [
        {
          "output_type": "stream",
          "text": [
            "(10, 20, 30)\n",
            "10 20 30\n"
          ],
          "name": "stdout"
        }
      ]
    },
    {
      "cell_type": "markdown",
      "metadata": {
        "id": "nzJ5M9YmAzLW"
      },
      "source": [
        "---\n",
        "#### (5) dict (dictionary)\n",
        "\n",
        "* 순서가 없다\n",
        "* {키 : 값}\n",
        "* 키를 이용해서 값을 조회\n",
        "\n"
      ]
    },
    {
      "cell_type": "code",
      "metadata": {
        "colab": {
          "base_uri": "https://localhost:8080/",
          "height": 72
        },
        "id": "1dcGTch0FWEI",
        "outputId": "d817848e-f6c4-47ca-d8d0-da89e3a8ddcf"
      },
      "source": [
        "a = {\"name\" : \"홍길동\", \"tel\" : \"111-1111\", \"age\" : 25}\n",
        "print(a)\n",
        "print(type(a))\n",
        "a['name']"
      ],
      "execution_count": 2,
      "outputs": [
        {
          "output_type": "stream",
          "text": [
            "{'name': '홍길동', 'tel': '111-1111', 'age': 25}\n",
            "<class 'dict'>\n"
          ],
          "name": "stdout"
        },
        {
          "output_type": "execute_result",
          "data": {
            "application/vnd.google.colaboratory.intrinsic+json": {
              "type": "string"
            },
            "text/plain": [
              "'홍길동'"
            ]
          },
          "metadata": {
            "tags": []
          },
          "execution_count": 2
        }
      ]
    },
    {
      "cell_type": "code",
      "metadata": {
        "colab": {
          "base_uri": "https://localhost:8080/"
        },
        "id": "ymBSh3iPGQm5",
        "outputId": "2dae2d13-f9ff-4ad1-c689-a8de0a75c3df"
      },
      "source": [
        "print(a[\"name\"])"
      ],
      "execution_count": 4,
      "outputs": [
        {
          "output_type": "stream",
          "text": [
            "홍길동\n"
          ],
          "name": "stdout"
        }
      ]
    },
    {
      "cell_type": "code",
      "metadata": {
        "colab": {
          "base_uri": "https://localhost:8080/"
        },
        "id": "Z_dw6rzeHgLb",
        "outputId": "66f20631-0bb3-4ba1-b328-6bf5874d04bb"
      },
      "source": [
        "print(a.keys())\n",
        "print(a.values())\n",
        "print(a.items())"
      ],
      "execution_count": 8,
      "outputs": [
        {
          "output_type": "stream",
          "text": [
            "dict_keys(['name', 'tel', 'age'])\n",
            "dict_values(['홍길동', '111-1111', 25])\n",
            "dict_items([('name', '홍길동'), ('tel', '111-1111'), ('age', 25)])\n"
          ],
          "name": "stdout"
        }
      ]
    },
    {
      "cell_type": "code",
      "metadata": {
        "colab": {
          "base_uri": "https://localhost:8080/"
        },
        "id": "Uge-ZpHbH27g",
        "outputId": "ae93e8f0-108b-4a7c-c920-c2a52419a622"
      },
      "source": [
        "b = a.items()\n",
        "print(type(b))\n",
        "\n",
        "c = list(a.items())\n",
        "print(c)\n",
        "print(type(c))\n",
        "print(c[0], c[0][0])"
      ],
      "execution_count": 11,
      "outputs": [
        {
          "output_type": "stream",
          "text": [
            "<class 'dict_items'>\n",
            "[('name', '홍길동'), ('tel', '111-1111'), ('age', 25)]\n",
            "<class 'list'>\n",
            "('name', '홍길동') name\n"
          ],
          "name": "stdout"
        }
      ]
    },
    {
      "cell_type": "code",
      "metadata": {
        "colab": {
          "base_uri": "https://localhost:8080/"
        },
        "id": "OEb39O10KR60",
        "outputId": "41686dc3-71cf-4a70-9fb5-2260530244ac"
      },
      "source": [
        "# 수정\n",
        "\n",
        "a[\"name\"] = \"임꺽정\"\n",
        "print(a)\n",
        "\n",
        "# dict는 수정 가능하다"
      ],
      "execution_count": 12,
      "outputs": [
        {
          "output_type": "stream",
          "text": [
            "{'name': '임꺽정', 'tel': '111-1111', 'age': 25}\n"
          ],
          "name": "stdout"
        }
      ]
    },
    {
      "cell_type": "code",
      "metadata": {
        "colab": {
          "base_uri": "https://localhost:8080/"
        },
        "id": "F4HOLaKdNOo2",
        "outputId": "ac587cf1-acce-4989-dc28-8b431df59caf"
      },
      "source": [
        "# 추가\n",
        "\n",
        "a[\"hobby\"] = [\"낚시\", \"여행\"]\n",
        "print(a)"
      ],
      "execution_count": 18,
      "outputs": [
        {
          "output_type": "stream",
          "text": [
            "{'name': '임꺽정', 'tel': '111-1111', 'age': 25, 'hobby': ['낚시', '여행']}\n"
          ],
          "name": "stdout"
        }
      ]
    },
    {
      "cell_type": "code",
      "metadata": {
        "colab": {
          "base_uri": "https://localhost:8080/"
        },
        "id": "0Er-IXiEN3pb",
        "outputId": "4a6f4c70-73ac-488b-8650-ca0dc7e1b0c7"
      },
      "source": [
        "# 삭제\n",
        "\n",
        "del a[\"tel\"]\n",
        "print(a)"
      ],
      "execution_count": 19,
      "outputs": [
        {
          "output_type": "stream",
          "text": [
            "{'name': '임꺽정', 'age': 25, 'hobby': ['낚시', '여행']}\n"
          ],
          "name": "stdout"
        }
      ]
    },
    {
      "cell_type": "code",
      "metadata": {
        "colab": {
          "base_uri": "https://localhost:8080/"
        },
        "id": "zbx92rgAOQMV",
        "outputId": "5d778828-5fbd-40f9-c891-70611039e7e9"
      },
      "source": [
        "# 변수만 삭제\n",
        "\n",
        "a.clear()\n",
        "print(a)"
      ],
      "execution_count": 20,
      "outputs": [
        {
          "output_type": "stream",
          "text": [
            "{}\n"
          ],
          "name": "stdout"
        }
      ]
    },
    {
      "cell_type": "code",
      "metadata": {
        "colab": {
          "base_uri": "https://localhost:8080/"
        },
        "id": "GUqxgNRQOeFD",
        "outputId": "5feaee05-18ab-448b-c76f-8e77ecfeccfd"
      },
      "source": [
        "# 데이터 가져오기 : get()\n",
        "\n",
        "a = {\"name\" : \"홍길동\", \"tel\" : \"111-1111\", \"age\" : 25}\n",
        "print(a[\"name\"])\n",
        "print(a.get(\"name\"))\n",
        "\n",
        "print(a.get(\"hobby\", \"독서\"))\n",
        "# 키가 없을경우 디폴트 값을 지정한다."
      ],
      "execution_count": 24,
      "outputs": [
        {
          "output_type": "stream",
          "text": [
            "홍길동\n",
            "홍길동\n",
            "독서\n"
          ],
          "name": "stdout"
        }
      ]
    },
    {
      "cell_type": "markdown",
      "metadata": {
        "id": "8-qC7H7_QF7j"
      },
      "source": [
        "---\n",
        "#### (6) set\n",
        "\n",
        "* {} 사용\n",
        "* 순서가 없다\n",
        "* **중복 불가**"
      ]
    },
    {
      "cell_type": "code",
      "metadata": {
        "colab": {
          "base_uri": "https://localhost:8080/"
        },
        "id": "AKxATgYnOd3C",
        "outputId": "5f7918cc-f771-405c-d378-ae9fa87ffaed"
      },
      "source": [
        "a = {1, 2, 3, 4, 2, 4}\n",
        "print(a)\n",
        "print(type(a))"
      ],
      "execution_count": 28,
      "outputs": [
        {
          "output_type": "stream",
          "text": [
            "{1, 2, 3, 4}\n",
            "<class 'set'>\n"
          ],
          "name": "stdout"
        }
      ]
    },
    {
      "cell_type": "code",
      "metadata": {
        "colab": {
          "base_uri": "https://localhost:8080/"
        },
        "id": "uvUAVGfYRabi",
        "outputId": "40d23dd2-ec50-4413-a3fd-0202850d9b46"
      },
      "source": [
        "#print(a[0])\n",
        "b = list(a)\n",
        "print(b[0])"
      ],
      "execution_count": 27,
      "outputs": [
        {
          "output_type": "stream",
          "text": [
            "1\n"
          ],
          "name": "stdout"
        }
      ]
    }
  ]
}