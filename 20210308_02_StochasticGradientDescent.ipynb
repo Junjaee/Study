{
  "nbformat": 4,
  "nbformat_minor": 0,
  "metadata": {
    "colab": {
      "name": "20210308_02.ipynb",
      "provenance": []
    },
    "kernelspec": {
      "name": "python3",
      "display_name": "Python 3"
    }
  },
  "cells": [
    {
      "cell_type": "markdown",
      "metadata": {
        "id": "iXuk1v9k68Bd"
      },
      "source": [
        "확률적 경사 하강법"
      ]
    },
    {
      "cell_type": "markdown",
      "metadata": {
        "id": "azLhmZx77I7O"
      },
      "source": [
        "SGDClassifier\r\n"
      ]
    },
    {
      "cell_type": "code",
      "metadata": {
        "id": "G8Gg6UwC7DcV"
      },
      "source": [
        "import pandas as pd\r\n",
        "\r\n",
        "fish = pd.read_csv('https://bit.ly/fish_csv_data')"
      ],
      "execution_count": 1,
      "outputs": []
    },
    {
      "cell_type": "code",
      "metadata": {
        "id": "HhgguuqI7DfA"
      },
      "source": [
        "fish_input = fish[['Weight','Length','Diagonal','Height','Width']].to_numpy()\r\n",
        "fish_target = fish['Species'].to_numpy()"
      ],
      "execution_count": 2,
      "outputs": []
    },
    {
      "cell_type": "code",
      "metadata": {
        "id": "rrxTckm57Dhf"
      },
      "source": [
        "from sklearn.model_selection import train_test_split\r\n",
        "\r\n",
        "train_input, test_input, train_target, test_target = train_test_split(\r\n",
        "    fish_input, fish_target, random_state=42)"
      ],
      "execution_count": 3,
      "outputs": []
    },
    {
      "cell_type": "code",
      "metadata": {
        "id": "0X3uy5DH7Dj9"
      },
      "source": [
        "from sklearn.preprocessing import StandardScaler\r\n",
        "\r\n",
        "ss = StandardScaler()\r\n",
        "ss.fit(train_input)\r\n",
        "train_scaled = ss.transform(train_input)\r\n",
        "test_scaled = ss.transform(test_input)"
      ],
      "execution_count": 4,
      "outputs": []
    },
    {
      "cell_type": "code",
      "metadata": {
        "id": "PR_Ab8Cr7Dme"
      },
      "source": [
        "from sklearn.linear_model import SGDClassifier"
      ],
      "execution_count": 5,
      "outputs": []
    },
    {
      "cell_type": "code",
      "metadata": {
        "colab": {
          "base_uri": "https://localhost:8080/"
        },
        "id": "qV8IVwfB7Dpu",
        "outputId": "7edbf114-0762-441c-c03c-8a008c6040ea"
      },
      "source": [
        "sc = SGDClassifier(loss='log', max_iter=10, random_state=42)\r\n",
        "sc.fit(train_scaled, train_target)\r\n",
        "\r\n",
        "print(sc.score(train_scaled, train_target))\r\n",
        "print(sc.score(test_scaled, test_target))"
      ],
      "execution_count": 6,
      "outputs": [
        {
          "output_type": "stream",
          "text": [
            "0.773109243697479\n",
            "0.775\n"
          ],
          "name": "stdout"
        },
        {
          "output_type": "stream",
          "text": [
            "/usr/local/lib/python3.7/dist-packages/sklearn/linear_model/_stochastic_gradient.py:557: ConvergenceWarning: Maximum number of iteration reached before convergence. Consider increasing max_iter to improve the fit.\n",
            "  ConvergenceWarning)\n"
          ],
          "name": "stderr"
        }
      ]
    },
    {
      "cell_type": "code",
      "metadata": {
        "colab": {
          "base_uri": "https://localhost:8080/"
        },
        "id": "ACemd1AG7DrR",
        "outputId": "a31d40ec-0821-4f98-afcf-6c3fd8e4e308"
      },
      "source": [
        "sc.partial_fit(train_scaled, train_target)\r\n",
        "\r\n",
        "print(sc.score(train_scaled, train_target))\r\n",
        "print(sc.score(test_scaled, test_target))"
      ],
      "execution_count": 7,
      "outputs": [
        {
          "output_type": "stream",
          "text": [
            "0.8151260504201681\n",
            "0.825\n"
          ],
          "name": "stdout"
        }
      ]
    },
    {
      "cell_type": "markdown",
      "metadata": {
        "id": "UaeFnudI7WJx"
      },
      "source": [
        "에포크와 과대/과소적합"
      ]
    },
    {
      "cell_type": "code",
      "metadata": {
        "id": "I7xKu2K07Dty"
      },
      "source": [
        "import numpy as np\r\n",
        "\r\n",
        "sc = SGDClassifier(loss='log', random_state=42)\r\n",
        "\r\n",
        "train_score = []\r\n",
        "test_score = []\r\n",
        "\r\n",
        "classes = np.unique(train_target)"
      ],
      "execution_count": 8,
      "outputs": []
    },
    {
      "cell_type": "code",
      "metadata": {
        "id": "EFfMO_x67Dvh"
      },
      "source": [
        "for _ in range(0, 300):\r\n",
        "    sc.partial_fit(train_scaled, train_target, classes=classes)\r\n",
        "    \r\n",
        "    train_score.append(sc.score(train_scaled, train_target))\r\n",
        "    test_score.append(sc.score(test_scaled, test_target))"
      ],
      "execution_count": 9,
      "outputs": []
    },
    {
      "cell_type": "code",
      "metadata": {
        "colab": {
          "base_uri": "https://localhost:8080/",
          "height": 279
        },
        "id": "Pwzfkev77aXb",
        "outputId": "ba626e45-21fc-4460-c723-b307d745872f"
      },
      "source": [
        "import matplotlib.pyplot as plt\r\n",
        "\r\n",
        "plt.plot(train_score)\r\n",
        "plt.plot(test_score)\r\n",
        "plt.xlabel('epoch')\r\n",
        "plt.ylabel('accuracy')\r\n",
        "plt.show()"
      ],
      "execution_count": 10,
      "outputs": [
        {
          "output_type": "display_data",
          "data": {
            "image/png": "[encoded data removed]",
            "text/plain": [
              "<Figure size 432x288 with 1 Axes>"
            ]
          },
          "metadata": {
            "tags": [],
            "needs_background": "light"
          }
        }
      ]
    },
    {
      "cell_type": "code",
      "metadata": {
        "colab": {
          "base_uri": "https://localhost:8080/"
        },
        "id": "ct2ZRCCv7abd",
        "outputId": "757bc2cd-ae7c-4621-eb42-44374d8be721"
      },
      "source": [
        "sc = SGDClassifier(loss='log', max_iter=100, tol=None, random_state=42)\r\n",
        "sc.fit(train_scaled, train_target)\r\n",
        "\r\n",
        "print(sc.score(train_scaled, train_target))\r\n",
        "print(sc.score(test_scaled, test_target))"
      ],
      "execution_count": 11,
      "outputs": [
        {
          "output_type": "stream",
          "text": [
            "0.957983193277311\n",
            "0.925\n"
          ],
          "name": "stdout"
        }
      ]
    },
    {
      "cell_type": "code",
      "metadata": {
        "colab": {
          "base_uri": "https://localhost:8080/"
        },
        "id": "3VdAywv17afi",
        "outputId": "bc2adf32-34a3-4245-f330-81445dca2cb0"
      },
      "source": [
        "sc = SGDClassifier(loss='hinge', max_iter=100, tol=None, random_state=42)\r\n",
        "sc.fit(train_scaled, train_target)\r\n",
        "\r\n",
        "print(sc.score(train_scaled, train_target))\r\n",
        "print(sc.score(test_scaled, test_target))"
      ],
      "execution_count": 12,
      "outputs": [
        {
          "output_type": "stream",
          "text": [
            "0.9495798319327731\n",
            "0.925\n"
          ],
          "name": "stdout"
        }
      ]
    }
  ]
}
