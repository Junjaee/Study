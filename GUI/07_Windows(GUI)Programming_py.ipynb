{
  "nbformat": 4,
  "nbformat_minor": 0,
  "metadata": {
    "colab": {
      "name": "07_Windows(GUI)Programming.py",
      "provenance": [],
      "authorship_tag": "ABX9TyNH4Xntod9ZCbf2Y05UvnOt",
      "include_colab_link": true
    },
    "kernelspec": {
      "name": "python3",
      "display_name": "Python 3"
    },
    "language_info": {
      "name": "python"
    }
  },
  "cells": [
    {
      "cell_type": "markdown",
      "metadata": {
        "id": "view-in-github",
        "colab_type": "text"
      },
      "source": [
        "<a href=\"https://colab.research.google.com/github/Junjaee/Study/blob/main/GUI/07_Windows(GUI)Programming_py.ipynb\" target=\"_parent\"><img src=\"https://colab.research.google.com/assets/colab-badge.svg\" alt=\"Open In Colab\"/></a>"
      ]
    },
    {
      "cell_type": "markdown",
      "metadata": {
        "id": "Wdywfpd6eoSn"
      },
      "source": [
        "### 모듈\n",
        "\n",
        "+ Tkinter, wxPython, PyQt, ....\n",
        "+ http://wxpython.org\n",
        "+ pip install wxPython"
      ]
    },
    {
      "cell_type": "code",
      "metadata": {
        "id": "UFd5yTgfh5go"
      },
      "source": [
        "# 파이참에서 실행\n",
        "\n",
        "# import wx\n",
        "\n",
        "# app = wx.App()\n",
        "# frame = wx.Frame(None, title = \"처음 만드는 윈도우\")\n",
        "# frame.Show(True)\n",
        "# app.MainLoop()"
      ],
      "execution_count": 12,
      "outputs": []
    },
    {
      "cell_type": "code",
      "metadata": {
        "id": "RR8cm_6Qh6mE"
      },
      "source": [
        "# import wx\n",
        "\n",
        "# class ChildFrame(wx.Frame):\n",
        "#     def __init__(self):\n",
        "#         super().__init__(None)\n",
        "\n",
        "# if __name__ == \"__main__\":\n",
        "#     app = wx.App()\n",
        "#     frame = ChildFrame()\n",
        "#     frame.Show(True)\n",
        "#     app.MainLoop()\n"
      ],
      "execution_count": 11,
      "outputs": []
    },
    {
      "cell_type": "code",
      "metadata": {
        "id": "xHhQ6ykBZGzS"
      },
      "source": [
        ""
      ],
      "execution_count": null,
      "outputs": []
    },
    {
      "cell_type": "code",
      "metadata": {
        "id": "Y5pLP_Hig1ek"
      },
      "source": [
        ""
      ],
      "execution_count": null,
      "outputs": []
    }
  ]
}