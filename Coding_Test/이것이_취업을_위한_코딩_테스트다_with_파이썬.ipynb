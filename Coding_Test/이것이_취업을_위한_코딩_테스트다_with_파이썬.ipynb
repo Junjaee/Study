{
  "nbformat": 4,
  "nbformat_minor": 0,
  "metadata": {
    "colab": {
      "name": "이것이 취업을 위한 코딩 테스트다 with 파이썬.ipynb",
      "provenance": [],
      "collapsed_sections": [],
      "toc_visible": true,
      "authorship_tag": "ABX9TyNP3rH0wx1KDQErAXeZuIGM",
      "include_colab_link": true
    },
    "kernelspec": {
      "name": "python3",
      "display_name": "Python 3"
    },
    "language_info": {
      "name": "python"
    }
  },
  "cells": [
    {
      "cell_type": "markdown",
      "metadata": {
        "id": "view-in-github",
        "colab_type": "text"
      },
      "source": [
        "<a href=\"https://colab.research.google.com/github/Junjaee/Study/blob/main/Coding_Test/%EC%9D%B4%EA%B2%83%EC%9D%B4_%EC%B7%A8%EC%97%85%EC%9D%84_%EC%9C%84%ED%95%9C_%EC%BD%94%EB%94%A9_%ED%85%8C%EC%8A%A4%ED%8A%B8%EB%8B%A4_with_%ED%8C%8C%EC%9D%B4%EC%8D%AC.ipynb\" target=\"_parent\"><img src=\"https://colab.research.google.com/assets/colab-badge.svg\" alt=\"Open In Colab\"/></a>"
      ]
    },
    {
      "cell_type": "markdown",
      "metadata": {
        "id": "Cmmq13rWVXHd"
      },
      "source": [
        "## 3. 그리디"
      ]
    },
    {
      "cell_type": "code",
      "metadata": {
        "id": "N0hNPx_sVWZM"
      },
      "source": [
        ""
      ],
      "execution_count": null,
      "outputs": []
    },
    {
      "cell_type": "markdown",
      "metadata": {
        "id": "O4o4h__TVb5_"
      },
      "source": [
        "## 4. \n"
      ]
    },
    {
      "cell_type": "code",
      "metadata": {
        "id": "NVm-bMe1VcSs"
      },
      "source": [
        ""
      ],
      "execution_count": null,
      "outputs": []
    },
    {
      "cell_type": "markdown",
      "metadata": {
        "id": "7Ud5it8HVcpz"
      },
      "source": [
        "## 5. DFS/BFS"
      ]
    },
    {
      "cell_type": "markdown",
      "metadata": {
        "id": "eH1_XI2vWAnB"
      },
      "source": [
        "### 이론"
      ]
    },
    {
      "cell_type": "code",
      "metadata": {
        "colab": {
          "base_uri": "https://localhost:8080/"
        },
        "id": "mp1oZ0L1ViD2",
        "outputId": "745cf9ed-f462-4f51-8e8b-5d32fcccd8d4"
      },
      "source": [
        "# 스택 구현 예제\n",
        "\n",
        "stack = []\n",
        "\n",
        "# 삽입(5) - 삽입(2) - 삽입(3) - 삽입(7) - 삭제() - 삽입(1) - 삽입(4) - 삭제()\n",
        "stack.append(5)\n",
        "stack.append(2)\n",
        "stack.append(3)\n",
        "stack.append(7)\n",
        "stack.pop()\n",
        "stack.append(1)\n",
        "stack.append(4)\n",
        "stack.pop()\n",
        "\n",
        "print(stack) # 최하단 원소부터 출력\n",
        "print(stack[::-1]) # 최상단 원소부터 출력"
      ],
      "execution_count": null,
      "outputs": [
        {
          "output_type": "stream",
          "text": [
            "[5, 2, 3, 1]\n",
            "[1, 3, 2, 5]\n"
          ],
          "name": "stdout"
        }
      ]
    },
    {
      "cell_type": "code",
      "metadata": {
        "colab": {
          "base_uri": "https://localhost:8080/"
        },
        "id": "p1kQfl5RVpU4",
        "outputId": "e552acb0-a48b-4d36-c828-8591870e943c"
      },
      "source": [
        "# 큐 구현 예제\n",
        "\n",
        "from collections import deque \n",
        "\n",
        "# 큐(Queue) 구현을 위해 deque 라이브러리 사용\n",
        "queue = deque()\n",
        "\n",
        "# 삽입(5) - 삽입(2) - 삽입(3) - 삽입(7) - 삭제() - 삽입(1) - 삽입(4) - 삭제()\n",
        "queue.append(5)\n",
        "queue.append(2)\n",
        "queue.append(3)\n",
        "queue.append(7)\n",
        "queue.popleft()\n",
        "queue.append(1)\n",
        "queue.append(4)\n",
        "queue.popleft()\n",
        "\n",
        "print(queue) # 먼저 들어온 순서대로 출력\n",
        "queue.reverse() # 다음 출력을 위해 역순으로 바꾸기\n",
        "print(queue) # 나중에 들어온 원소부터 출력"
      ],
      "execution_count": null,
      "outputs": [
        {
          "output_type": "stream",
          "text": [
            "deque([3, 7, 1, 4])\n",
            "deque([4, 1, 7, 3])\n"
          ],
          "name": "stdout"
        }
      ]
    },
    {
      "cell_type": "code",
      "metadata": {
        "id": "RkFcb9Z-Vtxo"
      },
      "source": [
        "# 무한히 반복되는 재쉬함수 예제\n",
        "\n",
        "def recursive_function():\n",
        "    print('재귀 함수를 호출합니다.')\n",
        "    recursive_function()\n",
        "\n",
        "recursive_function()"
      ],
      "execution_count": null,
      "outputs": []
    },
    {
      "cell_type": "code",
      "metadata": {
        "colab": {
          "base_uri": "https://localhost:8080/"
        },
        "id": "eb_YzWbtVtva",
        "outputId": "af058e56-9c54-48a3-d60c-60e5736028e3"
      },
      "source": [
        "# 재귀함수의 종료 조건 예제\n",
        "\n",
        "def recursive_function(i):\n",
        "    # 100번째 호출을 했을 때 종료되도록 종료 조건 명시\n",
        "    if i == 100:\n",
        "        return\n",
        "    print(i, '번째 재귀함수에서', i + 1, '번째 재귀함수를 호출합니다.')\n",
        "    recursive_function(i + 1)\n",
        "    print(i, '번째 재귀함수를 종료합니다.')\n",
        "\n",
        "recursive_function(1)"
      ],
      "execution_count": null,
      "outputs": [
        {
          "output_type": "stream",
          "text": [
            "1 번째 재귀함수에서 2 번째 재귀함수를 호출합니다.\n",
            "2 번째 재귀함수에서 3 번째 재귀함수를 호출합니다.\n",
            "3 번째 재귀함수에서 4 번째 재귀함수를 호출합니다.\n",
            "4 번째 재귀함수에서 5 번째 재귀함수를 호출합니다.\n",
            "5 번째 재귀함수에서 6 번째 재귀함수를 호출합니다.\n",
            "6 번째 재귀함수에서 7 번째 재귀함수를 호출합니다.\n",
            "7 번째 재귀함수에서 8 번째 재귀함수를 호출합니다.\n",
            "8 번째 재귀함수에서 9 번째 재귀함수를 호출합니다.\n",
            "9 번째 재귀함수에서 10 번째 재귀함수를 호출합니다.\n",
            "10 번째 재귀함수에서 11 번째 재귀함수를 호출합니다.\n",
            "11 번째 재귀함수에서 12 번째 재귀함수를 호출합니다.\n",
            "12 번째 재귀함수에서 13 번째 재귀함수를 호출합니다.\n",
            "13 번째 재귀함수에서 14 번째 재귀함수를 호출합니다.\n",
            "14 번째 재귀함수에서 15 번째 재귀함수를 호출합니다.\n",
            "15 번째 재귀함수에서 16 번째 재귀함수를 호출합니다.\n",
            "16 번째 재귀함수에서 17 번째 재귀함수를 호출합니다.\n",
            "17 번째 재귀함수에서 18 번째 재귀함수를 호출합니다.\n",
            "18 번째 재귀함수에서 19 번째 재귀함수를 호출합니다.\n",
            "19 번째 재귀함수에서 20 번째 재귀함수를 호출합니다.\n",
            "20 번째 재귀함수에서 21 번째 재귀함수를 호출합니다.\n",
            "21 번째 재귀함수에서 22 번째 재귀함수를 호출합니다.\n",
            "22 번째 재귀함수에서 23 번째 재귀함수를 호출합니다.\n",
            "23 번째 재귀함수에서 24 번째 재귀함수를 호출합니다.\n",
            "24 번째 재귀함수에서 25 번째 재귀함수를 호출합니다.\n",
            "25 번째 재귀함수에서 26 번째 재귀함수를 호출합니다.\n",
            "26 번째 재귀함수에서 27 번째 재귀함수를 호출합니다.\n",
            "27 번째 재귀함수에서 28 번째 재귀함수를 호출합니다.\n",
            "28 번째 재귀함수에서 29 번째 재귀함수를 호출합니다.\n",
            "29 번째 재귀함수에서 30 번째 재귀함수를 호출합니다.\n",
            "30 번째 재귀함수에서 31 번째 재귀함수를 호출합니다.\n",
            "31 번째 재귀함수에서 32 번째 재귀함수를 호출합니다.\n",
            "32 번째 재귀함수에서 33 번째 재귀함수를 호출합니다.\n",
            "33 번째 재귀함수에서 34 번째 재귀함수를 호출합니다.\n",
            "34 번째 재귀함수에서 35 번째 재귀함수를 호출합니다.\n",
            "35 번째 재귀함수에서 36 번째 재귀함수를 호출합니다.\n",
            "36 번째 재귀함수에서 37 번째 재귀함수를 호출합니다.\n",
            "37 번째 재귀함수에서 38 번째 재귀함수를 호출합니다.\n",
            "38 번째 재귀함수에서 39 번째 재귀함수를 호출합니다.\n",
            "39 번째 재귀함수에서 40 번째 재귀함수를 호출합니다.\n",
            "40 번째 재귀함수에서 41 번째 재귀함수를 호출합니다.\n",
            "41 번째 재귀함수에서 42 번째 재귀함수를 호출합니다.\n",
            "42 번째 재귀함수에서 43 번째 재귀함수를 호출합니다.\n",
            "43 번째 재귀함수에서 44 번째 재귀함수를 호출합니다.\n",
            "44 번째 재귀함수에서 45 번째 재귀함수를 호출합니다.\n",
            "45 번째 재귀함수에서 46 번째 재귀함수를 호출합니다.\n",
            "46 번째 재귀함수에서 47 번째 재귀함수를 호출합니다.\n",
            "47 번째 재귀함수에서 48 번째 재귀함수를 호출합니다.\n",
            "48 번째 재귀함수에서 49 번째 재귀함수를 호출합니다.\n",
            "49 번째 재귀함수에서 50 번째 재귀함수를 호출합니다.\n",
            "50 번째 재귀함수에서 51 번째 재귀함수를 호출합니다.\n",
            "51 번째 재귀함수에서 52 번째 재귀함수를 호출합니다.\n",
            "52 번째 재귀함수에서 53 번째 재귀함수를 호출합니다.\n",
            "53 번째 재귀함수에서 54 번째 재귀함수를 호출합니다.\n",
            "54 번째 재귀함수에서 55 번째 재귀함수를 호출합니다.\n",
            "55 번째 재귀함수에서 56 번째 재귀함수를 호출합니다.\n",
            "56 번째 재귀함수에서 57 번째 재귀함수를 호출합니다.\n",
            "57 번째 재귀함수에서 58 번째 재귀함수를 호출합니다.\n",
            "58 번째 재귀함수에서 59 번째 재귀함수를 호출합니다.\n",
            "59 번째 재귀함수에서 60 번째 재귀함수를 호출합니다.\n",
            "60 번째 재귀함수에서 61 번째 재귀함수를 호출합니다.\n",
            "61 번째 재귀함수에서 62 번째 재귀함수를 호출합니다.\n",
            "62 번째 재귀함수에서 63 번째 재귀함수를 호출합니다.\n",
            "63 번째 재귀함수에서 64 번째 재귀함수를 호출합니다.\n",
            "64 번째 재귀함수에서 65 번째 재귀함수를 호출합니다.\n",
            "65 번째 재귀함수에서 66 번째 재귀함수를 호출합니다.\n",
            "66 번째 재귀함수에서 67 번째 재귀함수를 호출합니다.\n",
            "67 번째 재귀함수에서 68 번째 재귀함수를 호출합니다.\n",
            "68 번째 재귀함수에서 69 번째 재귀함수를 호출합니다.\n",
            "69 번째 재귀함수에서 70 번째 재귀함수를 호출합니다.\n",
            "70 번째 재귀함수에서 71 번째 재귀함수를 호출합니다.\n",
            "71 번째 재귀함수에서 72 번째 재귀함수를 호출합니다.\n",
            "72 번째 재귀함수에서 73 번째 재귀함수를 호출합니다.\n",
            "73 번째 재귀함수에서 74 번째 재귀함수를 호출합니다.\n",
            "74 번째 재귀함수에서 75 번째 재귀함수를 호출합니다.\n",
            "75 번째 재귀함수에서 76 번째 재귀함수를 호출합니다.\n",
            "76 번째 재귀함수에서 77 번째 재귀함수를 호출합니다.\n",
            "77 번째 재귀함수에서 78 번째 재귀함수를 호출합니다.\n",
            "78 번째 재귀함수에서 79 번째 재귀함수를 호출합니다.\n",
            "79 번째 재귀함수에서 80 번째 재귀함수를 호출합니다.\n",
            "80 번째 재귀함수에서 81 번째 재귀함수를 호출합니다.\n",
            "81 번째 재귀함수에서 82 번째 재귀함수를 호출합니다.\n",
            "82 번째 재귀함수에서 83 번째 재귀함수를 호출합니다.\n",
            "83 번째 재귀함수에서 84 번째 재귀함수를 호출합니다.\n",
            "84 번째 재귀함수에서 85 번째 재귀함수를 호출합니다.\n",
            "85 번째 재귀함수에서 86 번째 재귀함수를 호출합니다.\n",
            "86 번째 재귀함수에서 87 번째 재귀함수를 호출합니다.\n",
            "87 번째 재귀함수에서 88 번째 재귀함수를 호출합니다.\n",
            "88 번째 재귀함수에서 89 번째 재귀함수를 호출합니다.\n",
            "89 번째 재귀함수에서 90 번째 재귀함수를 호출합니다.\n",
            "90 번째 재귀함수에서 91 번째 재귀함수를 호출합니다.\n",
            "91 번째 재귀함수에서 92 번째 재귀함수를 호출합니다.\n",
            "92 번째 재귀함수에서 93 번째 재귀함수를 호출합니다.\n",
            "93 번째 재귀함수에서 94 번째 재귀함수를 호출합니다.\n",
            "94 번째 재귀함수에서 95 번째 재귀함수를 호출합니다.\n",
            "95 번째 재귀함수에서 96 번째 재귀함수를 호출합니다.\n",
            "96 번째 재귀함수에서 97 번째 재귀함수를 호출합니다.\n",
            "97 번째 재귀함수에서 98 번째 재귀함수를 호출합니다.\n",
            "98 번째 재귀함수에서 99 번째 재귀함수를 호출합니다.\n",
            "99 번째 재귀함수에서 100 번째 재귀함수를 호출합니다.\n",
            "99 번째 재귀함수를 종료합니다.\n",
            "98 번째 재귀함수를 종료합니다.\n",
            "97 번째 재귀함수를 종료합니다.\n",
            "96 번째 재귀함수를 종료합니다.\n",
            "95 번째 재귀함수를 종료합니다.\n",
            "94 번째 재귀함수를 종료합니다.\n",
            "93 번째 재귀함수를 종료합니다.\n",
            "92 번째 재귀함수를 종료합니다.\n",
            "91 번째 재귀함수를 종료합니다.\n",
            "90 번째 재귀함수를 종료합니다.\n",
            "89 번째 재귀함수를 종료합니다.\n",
            "88 번째 재귀함수를 종료합니다.\n",
            "87 번째 재귀함수를 종료합니다.\n",
            "86 번째 재귀함수를 종료합니다.\n",
            "85 번째 재귀함수를 종료합니다.\n",
            "84 번째 재귀함수를 종료합니다.\n",
            "83 번째 재귀함수를 종료합니다.\n",
            "82 번째 재귀함수를 종료합니다.\n",
            "81 번째 재귀함수를 종료합니다.\n",
            "80 번째 재귀함수를 종료합니다.\n",
            "79 번째 재귀함수를 종료합니다.\n",
            "78 번째 재귀함수를 종료합니다.\n",
            "77 번째 재귀함수를 종료합니다.\n",
            "76 번째 재귀함수를 종료합니다.\n",
            "75 번째 재귀함수를 종료합니다.\n",
            "74 번째 재귀함수를 종료합니다.\n",
            "73 번째 재귀함수를 종료합니다.\n",
            "72 번째 재귀함수를 종료합니다.\n",
            "71 번째 재귀함수를 종료합니다.\n",
            "70 번째 재귀함수를 종료합니다.\n",
            "69 번째 재귀함수를 종료합니다.\n",
            "68 번째 재귀함수를 종료합니다.\n",
            "67 번째 재귀함수를 종료합니다.\n",
            "66 번째 재귀함수를 종료합니다.\n",
            "65 번째 재귀함수를 종료합니다.\n",
            "64 번째 재귀함수를 종료합니다.\n",
            "63 번째 재귀함수를 종료합니다.\n",
            "62 번째 재귀함수를 종료합니다.\n",
            "61 번째 재귀함수를 종료합니다.\n",
            "60 번째 재귀함수를 종료합니다.\n",
            "59 번째 재귀함수를 종료합니다.\n",
            "58 번째 재귀함수를 종료합니다.\n",
            "57 번째 재귀함수를 종료합니다.\n",
            "56 번째 재귀함수를 종료합니다.\n",
            "55 번째 재귀함수를 종료합니다.\n",
            "54 번째 재귀함수를 종료합니다.\n",
            "53 번째 재귀함수를 종료합니다.\n",
            "52 번째 재귀함수를 종료합니다.\n",
            "51 번째 재귀함수를 종료합니다.\n",
            "50 번째 재귀함수를 종료합니다.\n",
            "49 번째 재귀함수를 종료합니다.\n",
            "48 번째 재귀함수를 종료합니다.\n",
            "47 번째 재귀함수를 종료합니다.\n",
            "46 번째 재귀함수를 종료합니다.\n",
            "45 번째 재귀함수를 종료합니다.\n",
            "44 번째 재귀함수를 종료합니다.\n",
            "43 번째 재귀함수를 종료합니다.\n",
            "42 번째 재귀함수를 종료합니다.\n",
            "41 번째 재귀함수를 종료합니다.\n",
            "40 번째 재귀함수를 종료합니다.\n",
            "39 번째 재귀함수를 종료합니다.\n",
            "38 번째 재귀함수를 종료합니다.\n",
            "37 번째 재귀함수를 종료합니다.\n",
            "36 번째 재귀함수를 종료합니다.\n",
            "35 번째 재귀함수를 종료합니다.\n",
            "34 번째 재귀함수를 종료합니다.\n",
            "33 번째 재귀함수를 종료합니다.\n",
            "32 번째 재귀함수를 종료합니다.\n",
            "31 번째 재귀함수를 종료합니다.\n",
            "30 번째 재귀함수를 종료합니다.\n",
            "29 번째 재귀함수를 종료합니다.\n",
            "28 번째 재귀함수를 종료합니다.\n",
            "27 번째 재귀함수를 종료합니다.\n",
            "26 번째 재귀함수를 종료합니다.\n",
            "25 번째 재귀함수를 종료합니다.\n",
            "24 번째 재귀함수를 종료합니다.\n",
            "23 번째 재귀함수를 종료합니다.\n",
            "22 번째 재귀함수를 종료합니다.\n",
            "21 번째 재귀함수를 종료합니다.\n",
            "20 번째 재귀함수를 종료합니다.\n",
            "19 번째 재귀함수를 종료합니다.\n",
            "18 번째 재귀함수를 종료합니다.\n",
            "17 번째 재귀함수를 종료합니다.\n",
            "16 번째 재귀함수를 종료합니다.\n",
            "15 번째 재귀함수를 종료합니다.\n",
            "14 번째 재귀함수를 종료합니다.\n",
            "13 번째 재귀함수를 종료합니다.\n",
            "12 번째 재귀함수를 종료합니다.\n",
            "11 번째 재귀함수를 종료합니다.\n",
            "10 번째 재귀함수를 종료합니다.\n",
            "9 번째 재귀함수를 종료합니다.\n",
            "8 번째 재귀함수를 종료합니다.\n",
            "7 번째 재귀함수를 종료합니다.\n",
            "6 번째 재귀함수를 종료합니다.\n",
            "5 번째 재귀함수를 종료합니다.\n",
            "4 번째 재귀함수를 종료합니다.\n",
            "3 번째 재귀함수를 종료합니다.\n",
            "2 번째 재귀함수를 종료합니다.\n",
            "1 번째 재귀함수를 종료합니다.\n"
          ],
          "name": "stdout"
        }
      ]
    },
    {
      "cell_type": "code",
      "metadata": {
        "colab": {
          "base_uri": "https://localhost:8080/"
        },
        "id": "4vu4LMBpVttD",
        "outputId": "feb32c5b-6183-43ce-cfc0-00c8d07c73dd"
      },
      "source": [
        "# 2가지 방식으로 구현한 팩토리얼 예제\n",
        "\n",
        "# 반복적으로 구현한 n!\n",
        "def factorial_iterative(n):        \n",
        "    result = 1\n",
        "    # 1부터 n까지의 수를 차례대로 곱하기\n",
        "    for i in range(1, n + 1):\n",
        "       result *= i\n",
        "    return result\n",
        "\n",
        "# 재귀적으로 구현한 n!\n",
        "def factorial_recursive(n):        \n",
        "    if n <= 1: # n이 1 이하인 경우 1을 반환\n",
        "        return 1\n",
        "    # n! = n * (n - 1)!를 그대로 코드로 작성하기\n",
        "    return n * factorial_recursive(n - 1)\n",
        "\n",
        "# 각각의 방식으로 구현한 n! 출력(n = 5)\n",
        "print('반복적으로 구현:', factorial_iterative(5))\n",
        "print('재귀적으로 구현:', factorial_recursive(5))"
      ],
      "execution_count": null,
      "outputs": [
        {
          "output_type": "stream",
          "text": [
            "반복적으로 구현: 120\n",
            "재귀적으로 구현: 120\n"
          ],
          "name": "stdout"
        }
      ]
    },
    {
      "cell_type": "code",
      "metadata": {
        "colab": {
          "base_uri": "https://localhost:8080/"
        },
        "id": "rTaL8YQRVtq0",
        "outputId": "dec7f260-4b79-404b-f43f-68e167576de5"
      },
      "source": [
        "# 인접 행렬 예제\n",
        "\n",
        "INF = 999999999 # 무한의 비용 선언\n",
        "\n",
        "# 2차원 리스트를 이용해 인접 행렬 표현\n",
        "graph = [\n",
        "    [0, 7, 5],\n",
        "    [7, 0, INF],\n",
        "    [5, INF, 0]\n",
        "]\n",
        "\n",
        "print(graph)"
      ],
      "execution_count": null,
      "outputs": [
        {
          "output_type": "stream",
          "text": [
            "[[0, 7, 5], [7, 0, 999999999], [5, 999999999, 0]]\n"
          ],
          "name": "stdout"
        }
      ]
    },
    {
      "cell_type": "code",
      "metadata": {
        "colab": {
          "base_uri": "https://localhost:8080/"
        },
        "id": "RABCu4yvVtoS",
        "outputId": "6d894b67-3fed-4a34-cfbe-8afedb59f4a0"
      },
      "source": [
        "# 인접 리스트 예제\n",
        "\n",
        "# 행(Row)이 3개인 2차원 리스트로 인접 리스트 표현\n",
        "graph = [[] for _ in range(3)]\n",
        "\n",
        "# 노드 0에 연결된 노드 정보 저장 (노드, 거리)\n",
        "graph[0].append((1, 7))\n",
        "graph[0].append((2, 5))\n",
        "\n",
        "# 노드 1에 연결된 노드 정보 저장 (노드, 거리)\n",
        "graph[1].append((0, 7))\n",
        "\n",
        "# 노드 2에 연결된 노드 정보 저장 (노드, 거리)\n",
        "graph[2].append((0, 5))\n",
        "\n",
        "print(graph)"
      ],
      "execution_count": null,
      "outputs": [
        {
          "output_type": "stream",
          "text": [
            "[[(1, 7), (2, 5)], [(0, 7)], [(0, 5)]]\n"
          ],
          "name": "stdout"
        }
      ]
    },
    {
      "cell_type": "code",
      "metadata": {
        "colab": {
          "base_uri": "https://localhost:8080/"
        },
        "id": "A1lBLb0KVtl1",
        "outputId": "ea2589c4-d354-4893-95fc-2cf0bcf5d68f"
      },
      "source": [
        "# DFS\n",
        "\n",
        "# DFS 함수 정의\n",
        "def dfs(graph, v, visited):\n",
        "    # 현재 노드를 방문 처리\n",
        "    visited[v] = True\n",
        "    print(v, end=' ')\n",
        "    # 현재 노드와 연결된 다른 노드를 재귀적으로 방문\n",
        "    for i in graph[v]:\n",
        "        if not visited[i]:\n",
        "            dfs(graph, i, visited)\n",
        "\n",
        "# 각 노드가 연결된 정보를 리스트 자료형으로 표현(2차원 리스트)\n",
        "graph = [\n",
        "  [],\n",
        "  [2, 3, 8],\n",
        "  [1, 7],\n",
        "  [1, 4, 5],\n",
        "  [3, 5],\n",
        "  [3, 4],\n",
        "  [7],\n",
        "  [2, 6, 8],\n",
        "  [1, 7]\n",
        "]\n",
        "\n",
        "# 각 노드가 방문된 정보를 리스트 자료형으로 표현(1차원 리스트)\n",
        "visited = [False] * 9\n",
        "\n",
        "# 정의된 DFS 함수 호출\n",
        "dfs(graph, 1, visited)"
      ],
      "execution_count": null,
      "outputs": [
        {
          "output_type": "stream",
          "text": [
            "1 2 7 6 8 3 4 5 "
          ],
          "name": "stdout"
        }
      ]
    },
    {
      "cell_type": "code",
      "metadata": {
        "colab": {
          "base_uri": "https://localhost:8080/"
        },
        "id": "DSwFgtW8Vtje",
        "outputId": "a008b1be-b0b6-4f84-db73-fc8da1c0109f"
      },
      "source": [
        "# BFS\n",
        "\n",
        "from collections import deque\n",
        "\n",
        "# BFS 함수 정의\n",
        "def bfs(graph, start, visited):\n",
        "    # 큐(Queue) 구현을 위해 deque 라이브러리 사용\n",
        "    queue = deque([start])\n",
        "    # 현재 노드를 방문 처리\n",
        "    visited[start] = True\n",
        "    # 큐가 빌 때까지 반복\n",
        "    while queue:\n",
        "        # 큐에서 하나의 원소를 뽑아 출력\n",
        "        v = queue.popleft()\n",
        "        print(v, end=' ')\n",
        "        # 해당 원소와 연결된, 아직 방문하지 않은 원소들을 큐에 삽입\n",
        "        for i in graph[v]:\n",
        "            if not visited[i]:\n",
        "                queue.append(i)\n",
        "                visited[i] = True\n",
        "\n",
        "# 각 노드가 연결된 정보를 리스트 자료형으로 표현(2차원 리스트)\n",
        "graph = [\n",
        "  [],\n",
        "  [2, 3, 8],\n",
        "  [1, 7],\n",
        "  [1, 4, 5],\n",
        "  [3, 5],\n",
        "  [3, 4],\n",
        "  [7],\n",
        "  [2, 6, 8],\n",
        "  [1, 7]\n",
        "]\n",
        "\n",
        "# 각 노드가 방문된 정보를 리스트 자료형으로 표현(1차원 리스트)\n",
        "visited = [False] * 9\n",
        "\n",
        "# 정의된 BFS 함수 호출\n",
        "bfs(graph, 1, visited)"
      ],
      "execution_count": null,
      "outputs": [
        {
          "output_type": "stream",
          "text": [
            "1 2 3 8 7 4 5 6 "
          ],
          "name": "stdout"
        }
      ]
    },
    {
      "cell_type": "markdown",
      "metadata": {
        "id": "kvaRtGo2WCMf"
      },
      "source": [
        "### 실전"
      ]
    },
    {
      "cell_type": "code",
      "metadata": {
        "colab": {
          "base_uri": "https://localhost:8080/"
        },
        "id": "poKh2z74Vtg4",
        "outputId": "156b6e9a-f1fd-435c-a593-ea53db20b59f"
      },
      "source": [
        "# 음료수 얼려 먹기\n",
        "\n",
        "# N, M을 공백을 기준으로 구분하여 입력 받기\n",
        "n, m = map(int, input().split())\n",
        "\n",
        "# 2차원 리스트의 맵 정보 입력 받기\n",
        "graph = []\n",
        "for i in range(n):\n",
        "    graph.append(list(map(int, input())))\n",
        "\n",
        "# DFS로 특정한 노드를 방문한 뒤에 연결된 모든 노드들도 방문\n",
        "def dfs(x, y):\n",
        "    # 주어진 범위를 벗어나는 경우에는 즉시 종료\n",
        "    if x <= -1 or x >= n or y <= -1 or y >= m:\n",
        "        return False\n",
        "    # 현재 노드를 아직 방문하지 않았다면\n",
        "    if graph[x][y] == 0:\n",
        "        # 해당 노드 방문 처리\n",
        "        graph[x][y] = 1\n",
        "        # 상, 하, 좌, 우의 위치들도 모두 재귀적으로 호출\n",
        "        dfs(x - 1, y)\n",
        "        dfs(x, y - 1)\n",
        "        dfs(x + 1, y)\n",
        "        dfs(x, y + 1)\n",
        "        return True\n",
        "    return False\n",
        "\n",
        "# 모든 노드(위치)에 대하여 음료수 채우기\n",
        "result = 0\n",
        "for i in range(n):\n",
        "    for j in range(m):\n",
        "        # 현재 위치에서 DFS 수행\n",
        "        if dfs(i, j) == True:\n",
        "            result += 1\n",
        "\n",
        "print(result) # 정답 출력"
      ],
      "execution_count": null,
      "outputs": [
        {
          "output_type": "stream",
          "text": [
            "4 5\n",
            "00110\n",
            "00011\n",
            "11111\n",
            "00000\n",
            "3\n"
          ],
          "name": "stdout"
        }
      ]
    },
    {
      "cell_type": "code",
      "metadata": {
        "colab": {
          "base_uri": "https://localhost:8080/"
        },
        "id": "yBydcYiMVteF",
        "outputId": "7041ec1a-7f4a-4fd0-9a0d-80708c965ac2"
      },
      "source": [
        "# 미로 탈출\n",
        "\n",
        "from collections import deque\n",
        "\n",
        "# N, M을 공백을 기준으로 구분하여 입력 받기\n",
        "n, m = map(int, input().split())\n",
        "# 2차원 리스트의 맵 정보 입력 받기\n",
        "graph = []\n",
        "for i in range(n):\n",
        "    graph.append(list(map(int, input())))\n",
        "\n",
        "# 이동할 네 가지 방향 정의 (상, 하, 좌, 우)\n",
        "dx = [-1, 1, 0, 0]\n",
        "dy = [0, 0, -1, 1]\n",
        "\n",
        "# BFS 소스코드 구현\n",
        "def bfs(x, y):\n",
        "    # 큐(Queue) 구현을 위해 deque 라이브러리 사용\n",
        "    queue = deque()\n",
        "    queue.append((x, y))\n",
        "    # 큐가 빌 때까지 반복하기\n",
        "    while queue:\n",
        "        x, y = queue.popleft()\n",
        "        # 현재 위치에서 4가지 방향으로의 위치 확인\n",
        "        for i in range(4):\n",
        "            nx = x + dx[i]\n",
        "            ny = y + dy[i]\n",
        "            # 미로 찾기 공간을 벗어난 경우 무시\n",
        "            if nx < 0 or nx >= n or ny < 0 or ny >= m:\n",
        "                continue\n",
        "            # 벽인 경우 무시\n",
        "            if graph[nx][ny] == 0:\n",
        "                continue\n",
        "            # 해당 노드를 처음 방문하는 경우에만 최단 거리 기록\n",
        "            if graph[nx][ny] == 1:\n",
        "                graph[nx][ny] = graph[x][y] + 1\n",
        "                queue.append((nx, ny))\n",
        "    # 가장 오른쪽 아래까지의 최단 거리 반환\n",
        "    return graph[n - 1][m - 1]\n",
        "\n",
        "# BFS를 수행한 결과 출력\n",
        "print(bfs(0, 0))"
      ],
      "execution_count": null,
      "outputs": [
        {
          "output_type": "stream",
          "text": [
            "3 3\n",
            "110\n",
            "010\n",
            "011\n",
            "5\n"
          ],
          "name": "stdout"
        }
      ]
    },
    {
      "cell_type": "markdown",
      "metadata": {
        "id": "6w4tYQZsYhtn"
      },
      "source": [
        "## 6. 정렬"
      ]
    },
    {
      "cell_type": "markdown",
      "metadata": {
        "id": "iLIbYC9hYp5v"
      },
      "source": [
        "### 이론"
      ]
    },
    {
      "cell_type": "markdown",
      "metadata": {
        "id": "tuySpC-oZnkG"
      },
      "source": [
        "#### 선택 정렬"
      ]
    },
    {
      "cell_type": "code",
      "metadata": {
        "colab": {
          "base_uri": "https://localhost:8080/"
        },
        "id": "3m8vRQElWcGr",
        "outputId": "3e1fa9c6-01ce-42e4-f9f8-d1b71c651829"
      },
      "source": [
        "array = [7, 5, 9, 0, 3, 1, 6, 2, 4, 8]\n",
        "\n",
        "for i in range(len(array)):\n",
        "    min_index = i # 가장 작은 원소의 인덱스\n",
        "    for j in range(i + 1, len(array)):\n",
        "        if array[min_index] > array[j]:\n",
        "            min_index = j\n",
        "    array[i], array[min_index] = array[min_index], array[i] # 스와프\n",
        "\n",
        "print(array)"
      ],
      "execution_count": null,
      "outputs": [
        {
          "output_type": "stream",
          "text": [
            "[0, 1, 2, 3, 4, 5, 6, 7, 8, 9]\n"
          ],
          "name": "stdout"
        }
      ]
    },
    {
      "cell_type": "markdown",
      "metadata": {
        "id": "5bjtkSmNZqm2"
      },
      "source": [
        "#### 스와프"
      ]
    },
    {
      "cell_type": "code",
      "metadata": {
        "colab": {
          "base_uri": "https://localhost:8080/"
        },
        "id": "p9j_TPteYt59",
        "outputId": "0dd7e3dd-94ba-43e1-b03e-d4899d78e4b9"
      },
      "source": [
        "# 0 인덱스와 1 인덱스의 원소 교체하기\n",
        "array = [3, 5]\n",
        "array[0], array[1] = array[1], array[0]\n",
        "\n",
        "print(array)"
      ],
      "execution_count": null,
      "outputs": [
        {
          "output_type": "stream",
          "text": [
            "[5, 3]\n"
          ],
          "name": "stdout"
        }
      ]
    },
    {
      "cell_type": "markdown",
      "metadata": {
        "id": "d8Ki3fphY2HA"
      },
      "source": [
        "#### 삽입 정렬"
      ]
    },
    {
      "cell_type": "code",
      "metadata": {
        "colab": {
          "base_uri": "https://localhost:8080/"
        },
        "id": "kIHB5dkeYyZG",
        "outputId": "a35bfa90-905d-4af8-fffa-859a4882874b"
      },
      "source": [
        "array = [7, 5, 9, 0, 3, 1, 6, 2, 4, 8]\n",
        "\n",
        "for i in range(1, len(array)):\n",
        "    for j in range(i, 0, -1): # 인덱스 i부터 1까지 1씩 감소하며 반복하는 문법\n",
        "        if array[j] < array[j - 1]: # 한 칸씩 왼쪽으로 이동\n",
        "            array[j], array[j - 1] = array[j - 1], array[j]\n",
        "        else: # 자기보다 작은 데이터를 만나면 그 위치에서 멈춤\n",
        "            break\n",
        "\n",
        "print(array)"
      ],
      "execution_count": null,
      "outputs": [
        {
          "output_type": "stream",
          "text": [
            "[0, 1, 2, 3, 4, 5, 6, 7, 8, 9]\n"
          ],
          "name": "stdout"
        }
      ]
    },
    {
      "cell_type": "markdown",
      "metadata": {
        "id": "_VpMLtl9Y7FK"
      },
      "source": [
        "#### 퀵 정렬"
      ]
    },
    {
      "cell_type": "code",
      "metadata": {
        "colab": {
          "base_uri": "https://localhost:8080/"
        },
        "id": "MX99y6k9YyRa",
        "outputId": "fd913037-5447-4a14-d0a2-c39317d3bcec"
      },
      "source": [
        "array = [5, 7, 9, 0, 3, 1, 6, 2, 4, 8]\n",
        "\n",
        "def quick_sort(array, start, end):\n",
        "    if start >= end: # 원소가 1개인 경우 종료\n",
        "        return\n",
        "    pivot = start # 피벗은 첫 번째 원소\n",
        "    left = start + 1\n",
        "    right = end\n",
        "    while(left <= right):\n",
        "        # 피벗보다 큰 데이터를 찾을 때까지 반복 \n",
        "        while(left <= end and array[left] <= array[pivot]):\n",
        "            left += 1\n",
        "        # 피벗보다 작은 데이터를 찾을 때까지 반복\n",
        "        while(right > start and array[right] >= array[pivot]):\n",
        "            right -= 1\n",
        "        if(left > right): # 엇갈렸다면 작은 데이터와 피벗을 교체\n",
        "            array[right], array[pivot] = array[pivot], array[right]\n",
        "        else: # 엇갈리지 않았다면 작은 데이터와 큰 데이터를 교체\n",
        "            array[left], array[right] = array[right], array[left]\n",
        "    # 분할 이후 왼쪽 부분과 오른쪽 부분에서 각각 정렬 수행\n",
        "    quick_sort(array, start, right - 1)\n",
        "    quick_sort(array, right + 1, end)\n",
        "\n",
        "quick_sort(array, 0, len(array) - 1)\n",
        "print(array)"
      ],
      "execution_count": null,
      "outputs": [
        {
          "output_type": "stream",
          "text": [
            "[0, 1, 2, 3, 4, 5, 6, 7, 8, 9]\n"
          ],
          "name": "stdout"
        }
      ]
    },
    {
      "cell_type": "markdown",
      "metadata": {
        "id": "Mlpn5UubY_WO"
      },
      "source": [
        "#### 파이썬의 장점을 살린 퀵 정렬"
      ]
    },
    {
      "cell_type": "code",
      "metadata": {
        "id": "Z0YmOT3EYyO5"
      },
      "source": [
        "array = [5, 7, 9, 0, 3, 1, 6, 2, 4, 8]\n",
        "\n",
        "def quick_sort(array):\n",
        "    # 리스트가 하나 이하의 원소만을 담고 있다면 종료\n",
        "    if len(array) <= 1:\n",
        "        return array\n",
        "\n",
        "    pivot = array[0] # 피벗은 첫 번째 원소\n",
        "    tail = array[1:] # 피벗을 제외한 리스트\n",
        "\n",
        "    left_side = [x for x in tail if x <= pivot] # 분할된 왼쪽 부분\n",
        "    right_side = [x for x in tail if x > pivot] # 분할된 오른쪽 부분\n",
        "\n",
        "    # 분할 이후 왼쪽 부분과 오른쪽 부분에서 각각 정렬을 수행하고, 전체 리스트를 반환\n",
        "    return quick_sort(left_side) + [pivot] + quick_sort(right_side)\n",
        "\n",
        "print(quick_sort(array))"
      ],
      "execution_count": null,
      "outputs": []
    },
    {
      "cell_type": "markdown",
      "metadata": {
        "id": "6mKlTwMHZOGY"
      },
      "source": [
        "#### 계수 정렬"
      ]
    },
    {
      "cell_type": "code",
      "metadata": {
        "colab": {
          "base_uri": "https://localhost:8080/"
        },
        "id": "_fEMPo6EZDwO",
        "outputId": "43e60917-9aab-4e66-fcbb-94b8e45f7a60"
      },
      "source": [
        "# 모든 원소의 값이 0보다 크거나 같다고 가정\n",
        "array = [7, 5, 9, 0, 3, 1, 6, 2, 9, 1, 4, 8, 0, 5, 2]\n",
        "# 모든 범위를 포함하는 리스트 선언 (모든 값은 0으로 초기화)\n",
        "count = [0] * (max(array) + 1)\n",
        "\n",
        "for i in range(len(array)):\n",
        "    count[array[i]] += 1 # 각 데이터에 해당하는 인덱스의 값 증가\n",
        "\n",
        "for i in range(len(count)): # 리스트에 기록된 정렬 정보 확인\n",
        "    for j in range(count[i]):\n",
        "        print(i, end=' ') # 띄어쓰기를 구분으로 등장한 횟수만큼 인덱스 출력"
      ],
      "execution_count": null,
      "outputs": [
        {
          "output_type": "stream",
          "text": [
            "0 0 1 1 2 2 3 4 5 5 6 7 8 9 9 "
          ],
          "name": "stdout"
        }
      ]
    },
    {
      "cell_type": "markdown",
      "metadata": {
        "id": "eKrvnxBNZQsR"
      },
      "source": [
        "#### 정렬 라이브러리 기본 예제"
      ]
    },
    {
      "cell_type": "code",
      "metadata": {
        "colab": {
          "base_uri": "https://localhost:8080/"
        },
        "id": "U5_annPcZXy_",
        "outputId": "82bfab5a-b22a-4c54-98d4-812a1c45f3a4"
      },
      "source": [
        "array = [7, 5, 9, 0, 3, 1, 6, 2, 4, 8]\n",
        "\n",
        "result = sorted(array)\n",
        "print(result)"
      ],
      "execution_count": null,
      "outputs": [
        {
          "output_type": "stream",
          "text": [
            "[0, 1, 2, 3, 4, 5, 6, 7, 8, 9]\n"
          ],
          "name": "stdout"
        }
      ]
    },
    {
      "cell_type": "markdown",
      "metadata": {
        "id": "3iRromQyZQmF"
      },
      "source": [
        "#### 정렬 라이브러리 키(Key) 기준 정렬 예제"
      ]
    },
    {
      "cell_type": "code",
      "metadata": {
        "colab": {
          "base_uri": "https://localhost:8080/"
        },
        "id": "r0zbaqoQZYMN",
        "outputId": "a9f5edf1-5e01-483d-c9b5-ebca8801120f"
      },
      "source": [
        "array = [('바나나', 2), ('사과', 5), ('당근', 3)]\n",
        "\n",
        "def setting(data):\n",
        "    return data[1]\n",
        "\n",
        "result = sorted(array, key=setting)\n",
        "print(result)"
      ],
      "execution_count": null,
      "outputs": [
        {
          "output_type": "stream",
          "text": [
            "[('바나나', 2), ('당근', 3), ('사과', 5)]\n"
          ],
          "name": "stdout"
        }
      ]
    },
    {
      "cell_type": "markdown",
      "metadata": {
        "id": "vT1bzl7dYs1-"
      },
      "source": [
        "### 실전"
      ]
    },
    {
      "cell_type": "markdown",
      "metadata": {
        "id": "1jELJuxqgn8y"
      },
      "source": [
        "#### 두 배열의 원소 교체"
      ]
    },
    {
      "cell_type": "code",
      "metadata": {
        "colab": {
          "base_uri": "https://localhost:8080/"
        },
        "id": "g2NSU6rpgk3a",
        "outputId": "d4ab8334-0258-4b84-c1ab-8c75a96fd544"
      },
      "source": [
        "n, k = map(int, input().split()) # N과 K를 입력 받기\n",
        "a = list(map(int, input().split())) # 배열 A의 모든 원소를 입력받기\n",
        "b = list(map(int, input().split())) # 배열 B의 모든 원소를 입력받기\n",
        "\n",
        "a.sort() # 배열 A는 오름차순 정렬 수행\n",
        "b.sort(reverse=True) # 배열 B는 내림차순 정렬 수행\n",
        "\n",
        "# 첫 번째 인덱스부터 확인하며, 두 배열의 원소를 최대 K번 비교\n",
        "for i in range(k):\n",
        "    # A의 원소가 B의 원소보다 작은 경우\n",
        "    if a[i] < b[i]:\n",
        "        # 두 원소를 교체\n",
        "        a[i], b[i] = b[i], a[i]\n",
        "    else: # A의 원소가 B의 원소보다 크거나 같을 때, 반복문을 탈출\n",
        "        break\n",
        "\n",
        "print(sum(a)) # 배열 A의 모든 원소의 합을 출력"
      ],
      "execution_count": null,
      "outputs": [
        {
          "output_type": "stream",
          "text": [
            "5 3 \n",
            "1 2 5 4 3\n",
            "5 5 6 6 5\n",
            "26\n"
          ],
          "name": "stdout"
        }
      ]
    },
    {
      "cell_type": "markdown",
      "metadata": {
        "id": "GTlqE8qXv3qF"
      },
      "source": [
        "## 7. 이진 탐색"
      ]
    },
    {
      "cell_type": "markdown",
      "metadata": {
        "id": "yO5JqzM_v8aD"
      },
      "source": [
        "### 이론"
      ]
    },
    {
      "cell_type": "markdown",
      "metadata": {
        "id": "S74wqimAv8T1"
      },
      "source": [
        "#### 순차 탐색"
      ]
    },
    {
      "cell_type": "code",
      "metadata": {
        "colab": {
          "base_uri": "https://localhost:8080/"
        },
        "id": "C6_WW_Bmv6Xr",
        "outputId": "d88b7eda-f487-486f-d17b-b202bdceb2f2"
      },
      "source": [
        "# 순차 탐색 소스코드 구현\n",
        "def sequential_search(n, target, array):\n",
        "    # 각 원소를 하나씩 확인하며\n",
        "    for i in range(n):\n",
        "        # 현재의 원소가 찾고자 하는 원소와 동일한 경우\n",
        "        if array[i] == target:\n",
        "            return i + 1 # 현재의 위치 반환 (인덱스는 0부터 시작하므로 1 더하기)\n",
        "    return -1 # 원소를 찾지 못한 경우 -1 반환\n",
        "\n",
        "print(\"생성할 원소 개수를 입력한 다음 한 칸 띄고 찾을 문자열을 입력하세요.\")\n",
        "input_data = input().split()\n",
        "n = int(input_data[0]) # 원소의 개수\n",
        "target = input_data[1] # 찾고자 하는 문자열\n",
        "\n",
        "print(\"앞서 적은 원소 개수만큼 문자열을 입력하세요. 구분은 띄어쓰기 한 칸으로 합니다.\")  \n",
        "array = input().split()\n",
        "\n",
        "# 순차 탐색 수행 결과 출력\n",
        "print(sequential_search(n, target, array))"
      ],
      "execution_count": null,
      "outputs": [
        {
          "output_type": "stream",
          "text": [
            "생성할 원소 개수를 입력한 다음 한 칸 띄고 찾을 문자열을 입력하세요.\n",
            "6 8\n",
            "앞서 적은 원소 개수만큼 문자열을 입력하세요. 구분은 띄어쓰기 한 칸으로 합니다.\n",
            "2 4 6 8 10 12\n",
            "4\n"
          ],
          "name": "stdout"
        }
      ]
    },
    {
      "cell_type": "markdown",
      "metadata": {
        "id": "tZrZEdg1wAAN"
      },
      "source": [
        "#### 재귀 함수를 이용한 이진 탐색"
      ]
    },
    {
      "cell_type": "code",
      "metadata": {
        "colab": {
          "base_uri": "https://localhost:8080/"
        },
        "id": "hZhbUxqKv6Vn",
        "outputId": "13fce900-d8d2-4344-9473-21a33b2ada6a"
      },
      "source": [
        "# 이진 탐색 소스코드 구현 (재귀 함수)\n",
        "def binary_search(array, target, start, end):\n",
        "    if start > end:\n",
        "        return None\n",
        "    mid = (start + end) // 2\n",
        "    # 찾은 경우 중간점 인덱스 반환\n",
        "    if array[mid] == target:\n",
        "        return mid\n",
        "    # 중간점의 값보다 찾고자 하는 값이 작은 경우 왼쪽 확인\n",
        " 1   elif array[mid] > target:\n",
        "        return binary_search(array, target, start, mid - 1)\n",
        "    # 중간점의 값보다 찾고자 하는 값이 큰 경우 오른쪽 확인\n",
        "    else:\n",
        "        return binary_search(array, target, mid + 1, end)\n",
        "\n",
        "# n(원소의 개수)과 target(찾고자 하는 값)을 입력 받기\n",
        "n, target = list(map(int, input().split()))\n",
        "# 전체 원소 입력 받기\n",
        "array = list(map(int, input().split()))\n",
        "\n",
        "# 이진 탐색 수행 결과 출력\n",
        "result = binary_search(array, target, 0, n - 1)\n",
        "if result == None:\n",
        "    print(\"원소가 존재하지 않습니다.\")\n",
        "else:\n",
        "    print(result + 1)"
      ],
      "execution_count": null,
      "outputs": [
        {
          "output_type": "stream",
          "text": [
            "10 7\n",
            "1 3 5 7 9 11 13 15 17 19\n",
            "4\n"
          ],
          "name": "stdout"
        }
      ]
    },
    {
      "cell_type": "markdown",
      "metadata": {
        "id": "ZFiCpuFhwCCt"
      },
      "source": [
        "#### 반복문을 이용한 이진 탐색"
      ]
    },
    {
      "cell_type": "code",
      "metadata": {
        "id": "kpYgQZQsv6T6"
      },
      "source": [
        "# 이진 탐색 소스코드 구현 (반복문)\n",
        "def binary_search(array, target, start, end):\n",
        "    while start <= end:\n",
        "        mid = (start + end) // 2\n",
        "        # 찾은 경우 중간점 인덱스 반환\n",
        "        if array[mid] == target:\n",
        "            return mid\n",
        "        # 중간점의 값보다 찾고자 하는 값이 작은 경우 왼쪽 확인\n",
        "        elif array[mid] > target:\n",
        "            end = mid - 1\n",
        "        # 중간점의 값보다 찾고자 하는 값이 큰 경우 오른쪽 확인\n",
        "        else:\n",
        "            start = mid + 1\n",
        "    return None\n",
        "\n",
        "# n(원소의 개수)과 target(찾고자 하는 값)을 입력 받기\n",
        "n, target = list(map(int, input().split()))\n",
        "# 전체 원소 입력 받기\n",
        "array = list(map(int, input().split()))\n",
        "\n",
        "# 이진 탐색 수행 결과 출력\n",
        "result = binary_search(array, target, 0, n - 1)\n",
        "if result == None:\n",
        "    print(\"원소가 존재하지 않습니다.\")\n",
        "else:\n",
        "    print(result + 1)"
      ],
      "execution_count": null,
      "outputs": []
    },
    {
      "cell_type": "markdown",
      "metadata": {
        "id": "-KQSg0SmwEJ7"
      },
      "source": [
        "#### 파이썬에서 빠르게 입력 받기"
      ]
    },
    {
      "cell_type": "code",
      "metadata": {
        "id": "fkFM0Sg8v6RJ"
      },
      "source": [
        "import sys\n",
        "\n",
        "# 하나의 문자열 데이터 입력 받기\n",
        "input_data = sys.stdin.readline().rstrip()\n",
        "# 입력 받은 문자열 그대로 출력하기\n",
        "print(input_data)"
      ],
      "execution_count": null,
      "outputs": []
    },
    {
      "cell_type": "markdown",
      "metadata": {
        "id": "A_kkXtOUx0Xe"
      },
      "source": [
        "#### 실습"
      ]
    },
    {
      "cell_type": "code",
      "metadata": {
        "colab": {
          "base_uri": "https://localhost:8080/"
        },
        "id": "dqDE0m2dv6Op",
        "outputId": "4422bc4a-b973-4ce3-ba00-cfa2c82a698b"
      },
      "source": [
        "# 내 정답\n",
        "# 떡의 개수(N)와 요청한 떡의 길이(M)을 입력\n",
        "n, m = list(map(int, input().split(' ')))\n",
        "# 각 떡의 개별 높이 정보를 입력\n",
        "array = list(map(int, input().split()))\n",
        "\n",
        "array.sort(reverse=True)\n",
        "\n",
        "for i in range(array[0]):\n",
        "    h = array[0] - (i + 1) # 18\n",
        "    b = 0\n",
        "    for i in range(n):\n",
        "        if array[i] > h:\n",
        "            b += (array[i] - h)            \n",
        "    print(b)\n",
        "    if b >= m:\n",
        "        print(h)\n",
        "        break"
      ],
      "execution_count": null,
      "outputs": [
        {
          "output_type": "stream",
          "text": [
            "4 6\n",
            "19 15 10 17\n",
            "1\n",
            "2\n",
            "4\n",
            "6\n",
            "15\n"
          ],
          "name": "stdout"
        }
      ]
    },
    {
      "cell_type": "code",
      "metadata": {
        "colab": {
          "base_uri": "https://localhost:8080/"
        },
        "id": "zV_xMMszv6MO",
        "outputId": "2be5c225-b490-4664-de38-deaaa2bc1723"
      },
      "source": [
        "# 떡의 개수(N)와 요청한 떡의 길이(M)을 입력\n",
        "n, m = list(map(int, input().split(' ')))\n",
        "# 각 떡의 개별 높이 정보를 입력\n",
        "array = list(map(int, input().split()))\n",
        "\n",
        "# 이진 탐색을 위한 시작점과 끝점 설정\n",
        "start = 0\n",
        "end = max(array)\n",
        "\n",
        "# 이진 탐색 수행 (반복적)\n",
        "result = 0\n",
        "while(start <= end):\n",
        "    total = 0\n",
        "    mid = (start + end) // 2\n",
        "    for x in array:\n",
        "        # 잘랐을 때의 떡볶이 양 계산\n",
        "        if x > mid:\n",
        "            total += x - mid\n",
        "    # 떡볶이 양이 부족한 경우 더 많이 자르기 (오른쪽 부분 탐색)\n",
        "    if total < m:\n",
        "        end = mid - 1\n",
        "    # 떡볶이 양이 충분한 경우 덜 자르기 (왼쪽 부분 탐색)\n",
        "    else:\n",
        "        result = mid # 최대한 덜 잘랐을 때가 정답이므로, 여기에서 result에 기록\n",
        "        start = mid + 1\n",
        "\n",
        "# 정답 출력\n",
        "print(result)"
      ],
      "execution_count": null,
      "outputs": [
        {
          "output_type": "stream",
          "text": [
            "4 6\n",
            "19 15 10 17\n",
            "15\n"
          ],
          "name": "stdout"
        }
      ]
    },
    {
      "cell_type": "markdown",
      "metadata": {
        "id": "WsXhlsJi4Qpd"
      },
      "source": [
        "## 8. 다이나믹 프로그래밍"
      ]
    },
    {
      "cell_type": "markdown",
      "metadata": {
        "id": "KZSD1jY04TYK"
      },
      "source": [
        "### 이론"
      ]
    },
    {
      "cell_type": "markdown",
      "metadata": {
        "id": "v9MWG0bD4VIQ"
      },
      "source": [
        "#### 비효율적인 피보나치 수열 방식"
      ]
    },
    {
      "cell_type": "code",
      "metadata": {
        "colab": {
          "base_uri": "https://localhost:8080/"
        },
        "id": "2cf0d5Okv6Id",
        "outputId": "40ef1502-dc90-4a67-f3ef-61cab8999e40"
      },
      "source": [
        "# 피보나치 함수(Fibonacci Function)을 재귀함수로 구현\n",
        "def fibo(x):\n",
        "    if x == 1 or x == 2:\n",
        "        return 1\n",
        "    return fibo(x - 1) + fibo(x - 2)\n",
        "\n",
        "print(fibo(4))"
      ],
      "execution_count": null,
      "outputs": [
        {
          "output_type": "stream",
          "text": [
            "3\n"
          ],
          "name": "stdout"
        }
      ]
    },
    {
      "cell_type": "markdown",
      "metadata": {
        "id": "x4nV46Fg4Xd6"
      },
      "source": [
        "#### 피보나치 수열 (Top-bottom)"
      ]
    },
    {
      "cell_type": "code",
      "metadata": {
        "colab": {
          "base_uri": "https://localhost:8080/"
        },
        "id": "wriS14nnv6GM",
        "outputId": "a0a59512-6951-4081-80f3-827a4f34ddad"
      },
      "source": [
        "# 한 번 계산된 결과를 메모이제이션(Memoization)하기 위한 리스트 초기화\n",
        "d = [0] * 100\n",
        "\n",
        "# 피보나치 함수(Fibonacci Function)를 재귀함수로 구현 (탑다운 다이나믹 프로그래밍)\n",
        "def fibo(x):\n",
        "    # 종료 조건(1 혹은 2일 때 1을 반환)\n",
        "    if x == 1 or x == 2:\n",
        "        return 1\n",
        "    # 이미 계산한 적 있는 문제라면 그대로 반환\n",
        "    if d[x] != 0:\n",
        "        return d[x]\n",
        "    # 아직 계산하지 않은 문제라면 점화식에 따라서 피보나치 결과 반환\n",
        "    d[x] = fibo(x - 1) + fibo(x - 2)\n",
        "    return d[x]\n",
        "\n",
        "print(fibo(99))"
      ],
      "execution_count": null,
      "outputs": [
        {
          "output_type": "stream",
          "text": [
            "218922995834555169026\n"
          ],
          "name": "stdout"
        }
      ]
    },
    {
      "cell_type": "markdown",
      "metadata": {
        "id": "M9zXZgjR4ZUo"
      },
      "source": [
        "#### 피보나치 수열 (Bottom-top)"
      ]
    },
    {
      "cell_type": "code",
      "metadata": {
        "colab": {
          "base_uri": "https://localhost:8080/"
        },
        "id": "8yJlelJWv6D4",
        "outputId": "e57645b6-74bf-40cc-ab96-50504b46b985"
      },
      "source": [
        "# 앞서 계산된 결과를 저장하기 위한 DP 테이블 초기화\n",
        "d = [0] * 100\n",
        "\n",
        "# 첫 번째 피보나치 수와 두 번째 피보나치 수는 1\n",
        "d[1] = 1\n",
        "d[2] = 1\n",
        "n = 99\n",
        "\n",
        "# 피보나치 함수(Fibonacci Function) 반복문으로 구현(보텀업 다이나믹 프로그래밍)\n",
        "for i in range(3, n + 1):\n",
        "    d[i] = d[i - 1] + d[i - 2]\n",
        "\n",
        "print(d[n])"
      ],
      "execution_count": null,
      "outputs": [
        {
          "output_type": "stream",
          "text": [
            "218922995834555169026\n"
          ],
          "name": "stdout"
        }
      ]
    },
    {
      "cell_type": "markdown",
      "metadata": {
        "id": "yjYmLOsC4ca5"
      },
      "source": [
        "### 실전"
      ]
    },
    {
      "cell_type": "markdown",
      "metadata": {
        "id": "__YAbU244dqA"
      },
      "source": [
        "#### 개미 전사"
      ]
    },
    {
      "cell_type": "code",
      "metadata": {
        "colab": {
          "base_uri": "https://localhost:8080/"
        },
        "id": "Ayv4Kxufv6Bv",
        "outputId": "1b451a1e-2686-405c-b08a-9974329a3ebc"
      },
      "source": [
        "# 정수 N을 입력 받기\n",
        "n = int(input())\n",
        "# 모든 식량 정보 입력 받기\n",
        "array = list(map(int, input().split()))\n",
        "\n",
        "# 앞서 계산된 결과를 저장하기 위한 DP 테이블 초기화\n",
        "d = [0] * 100\n",
        "\n",
        "# 다이나믹 프로그래밍(Dynamic Programming) 진행 (보텀업)\n",
        "d[0] = array[0]\n",
        "d[1] = max(array[0], array[1]) \n",
        "for i in range(2, n):\n",
        "    d[i] = max(d[i - 1], d[i - 2] + array[i])\n",
        "\n",
        "# 계산된 결과 출력\n",
        "print(d[n - 1])"
      ],
      "execution_count": null,
      "outputs": [
        {
          "output_type": "stream",
          "text": [
            "4\n",
            "1 3 1 5\n",
            "8\n"
          ],
          "name": "stdout"
        }
      ]
    },
    {
      "cell_type": "markdown",
      "metadata": {
        "id": "QJvIU77bmVhy"
      },
      "source": [
        "#### 1로 만들기"
      ]
    },
    {
      "cell_type": "code",
      "metadata": {
        "colab": {
          "base_uri": "https://localhost:8080/"
        },
        "id": "MpGX8kwGv5_W",
        "outputId": "02927d2f-9471-420a-f533-103f2846f2e9"
      },
      "source": [
        "# 정수 X를 입력 받기\n",
        "x = int(input())\n",
        "\n",
        "# 앞서 계산된 결과를 저장하기 위한 DP 테이블 초기화\n",
        "d = [0] * 30001\n",
        "\n",
        "# 다이나믹 프로그래밍(Dynamic Programming) 진행(보텀업)\n",
        "for i in range(2, x + 1):\n",
        "    # 현재의 수에서 1을 빼는 경우\n",
        "    d[i] = d[i - 1] + 1\n",
        "    # 현재의 수가 2로 나누어 떨어지는 경우\n",
        "    if i % 2 == 0:\n",
        "        d[i] = min(d[i], d[i // 2] + 1)\n",
        "    # 현재의 수가 3으로 나누어 떨어지는 경우\n",
        "    if i % 3 == 0:\n",
        "        d[i] = min(d[i], d[i // 3] + 1)\n",
        "    # 현재의 수가 5로 나누어 떨어지는 경우\n",
        "    if i % 5 == 0:\n",
        "        d[i] = min(d[i], d[i // 5] + 1)\n",
        "\n",
        "print(d[x])"
      ],
      "execution_count": null,
      "outputs": [
        {
          "output_type": "stream",
          "text": [
            "5\n",
            "1\n"
          ],
          "name": "stdout"
        }
      ]
    },
    {
      "cell_type": "markdown",
      "metadata": {
        "id": "FnGq8893qPqW"
      },
      "source": [
        "#### 효율적인 화폐 구성"
      ]
    },
    {
      "cell_type": "code",
      "metadata": {
        "colab": {
          "base_uri": "https://localhost:8080/"
        },
        "id": "SlX6wcj_v59B",
        "outputId": "b98edd57-98fe-4f00-d126-d3269ce9b23d"
      },
      "source": [
        "# 정수 N, M을 입력 받기\n",
        "n, m = map(int, input().split())\n",
        "# N개의 화폐 단위 정보를 입력 받기\n",
        "array = []\n",
        "for i in range(n):\n",
        "    array.append(int(input()))\n",
        "\n",
        "# 한 번 계산된 결과를 저장하기 위한 DP 테이블 초기화\n",
        "d = [10001] * (m + 1)\n",
        "\n",
        "# 다이나믹 프로그래밍(Dynamic Programming) 진행(보텀업)\n",
        "d[0] = 0\n",
        "for i in range(n):\n",
        "    for j in range(array[i], m + 1):\n",
        "        if d[j - array[i]] != 10001: # (i - k)원을 만드는 방법이 존재하는 경우\n",
        "            d[j] = min(d[j], d[j - array[i]] + 1)\n",
        "\n",
        "# 계산된 결과 출력\n",
        "if d[m] == 10001: # 최종적으로 M원을 만드는 방법이 없는 경우\n",
        "    print(-1)\n",
        "else:\n",
        "    print(d[m])"
      ],
      "execution_count": null,
      "outputs": [
        {
          "output_type": "stream",
          "text": [
            "2 15\n",
            "2\n",
            "3\n",
            "5\n"
          ],
          "name": "stdout"
        }
      ]
    },
    {
      "cell_type": "code",
      "metadata": {
        "id": "tkAN88rZv56j"
      },
      "source": [
        ""
      ],
      "execution_count": null,
      "outputs": []
    },
    {
      "cell_type": "code",
      "metadata": {
        "id": "SuxD91vUv51y"
      },
      "source": [
        ""
      ],
      "execution_count": null,
      "outputs": []
    },
    {
      "cell_type": "code",
      "metadata": {
        "id": "NkB9SJRIv5xF"
      },
      "source": [
        ""
      ],
      "execution_count": null,
      "outputs": []
    }
  ]
}