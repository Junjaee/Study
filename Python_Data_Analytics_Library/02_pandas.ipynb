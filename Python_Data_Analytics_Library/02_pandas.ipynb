{
  "nbformat": 4,
  "nbformat_minor": 0,
  "metadata": {
    "colab": {
      "name": "02_pandas.ipynb",
      "provenance": [],
      "collapsed_sections": [],
      "authorship_tag": "ABX9TyOgMNTx3TuCeq0mWT9FK4BO",
      "include_colab_link": true
    },
    "kernelspec": {
      "name": "python3",
      "display_name": "Python 3"
    },
    "language_info": {
      "name": "python"
    }
  },
  "cells": [
    {
      "cell_type": "markdown",
      "metadata": {
        "id": "view-in-github",
        "colab_type": "text"
      },
      "source": [
        "<a href=\"https://colab.research.google.com/github/Junjaee/Study/blob/main/Python_Data_Analytics_Library/02_pandas.ipynb\" target=\"_parent\"><img src=\"https://colab.research.google.com/assets/colab-badge.svg\" alt=\"Open In Colab\"/></a>"
      ]
    },
    {
      "cell_type": "markdown",
      "metadata": {
        "id": "ZnzjqEOMc46a"
      },
      "source": [
        "## PANDAS에서 제공하는 대표적인 자료구조\n",
        "\n",
        "- 1) Series\n",
        "  - 값 + index\n",
        "- 2) DataFrame\n",
        "  - 여러 개의 Series를 묶어놓은 형태\n",
        "- 3) https://pandas.pydata.org\n",
        "  "
      ]
    },
    {
      "cell_type": "code",
      "metadata": {
        "id": "r1BJAxH3hMjC"
      },
      "source": [
        "import pandas as pd\n",
        "import numpy as np"
      ],
      "execution_count": 2,
      "outputs": []
    },
    {
      "cell_type": "markdown",
      "metadata": {
        "id": "EI0LSdLceAL_"
      },
      "source": [
        "### 1. Series "
      ]
    },
    {
      "cell_type": "code",
      "metadata": {
        "colab": {
          "base_uri": "https://localhost:8080/"
        },
        "id": "rOM6AsyBca0w",
        "outputId": "0f784290-23bd-44dc-b690-9faff90f2503"
      },
      "source": [
        "s = pd.Series([9904312, 34487377, 2890451, 2466052])\n",
        "print(s)\n",
        "print(type(s))"
      ],
      "execution_count": 4,
      "outputs": [
        {
          "output_type": "stream",
          "text": [
            "0     9904312\n",
            "1    34487377\n",
            "2     2890451\n",
            "3     2466052\n",
            "dtype: int64\n",
            "<class 'pandas.core.series.Series'>\n"
          ],
          "name": "stdout"
        }
      ]
    },
    {
      "cell_type": "code",
      "metadata": {
        "colab": {
          "base_uri": "https://localhost:8080/"
        },
        "id": "yICnkDLuiTh4",
        "outputId": "84fed43e-b4a7-402e-d3cf-7a8cd04079c2"
      },
      "source": [
        "for i in enumerate([9904312, 34487377, 2890451, 2466052]):\n",
        "  print(i)"
      ],
      "execution_count": 5,
      "outputs": [
        {
          "output_type": "stream",
          "text": [
            "(0, 9904312)\n",
            "(1, 34487377)\n",
            "(2, 2890451)\n",
            "(3, 2466052)\n"
          ],
          "name": "stdout"
        }
      ]
    },
    {
      "cell_type": "code",
      "metadata": {
        "colab": {
          "base_uri": "https://localhost:8080/"
        },
        "id": "vZnp05Soj-N6",
        "outputId": "76033525-0ab3-4820-f43a-c9c04ddaee64"
      },
      "source": [
        "#### 인덱스를 자유롭게 지정\n",
        "\n",
        "s = pd.Series([9904312, 3448737, 2890451, 2466052], index = [\"서울\", \"부산\", \"인천\", \"대구\"])\n",
        "print(s)\n",
        "\n",
        "print(\"=====================================\")\n",
        "\n",
        "print(s.values)\n",
        "print(s.index)\n",
        "\n",
        "print(\"=====================================\")\n",
        "\n",
        "# 인덱스에 이름 지정\n",
        "s.index.name = \"도시\"\n",
        "print(s)\n",
        "\n",
        "print(\"=====================================\")\n",
        "\n",
        "# Series 전체에 이름 지정\n",
        "s.name = \"인구\"\n",
        "print(s)"
      ],
      "execution_count": 25,
      "outputs": [
        {
          "output_type": "stream",
          "text": [
            "서울    9904312\n",
            "부산    3448737\n",
            "인천    2890451\n",
            "대구    2466052\n",
            "dtype: int64\n",
            "=====================================\n",
            "[9904312 3448737 2890451 2466052]\n",
            "Index(['서울', '부산', '인천', '대구'], dtype='object')\n",
            "=====================================\n",
            "도시\n",
            "서울    9904312\n",
            "부산    3448737\n",
            "인천    2890451\n",
            "대구    2466052\n",
            "dtype: int64\n",
            "=====================================\n",
            "도시\n",
            "서울    9904312\n",
            "부산    3448737\n",
            "인천    2890451\n",
            "대구    2466052\n",
            "Name: 인구, dtype: int64\n"
          ],
          "name": "stdout"
        }
      ]
    },
    {
      "cell_type": "code",
      "metadata": {
        "id": "tJ1xJBHFiTfa"
      },
      "source": [
        "#### 벡터화 연산\n",
        "\n",
        "s1 = s / 1000000"
      ],
      "execution_count": 10,
      "outputs": []
    },
    {
      "cell_type": "code",
      "metadata": {
        "colab": {
          "base_uri": "https://localhost:8080/"
        },
        "id": "icwlJh8nnVg4",
        "outputId": "283dd3ac-2743-4c9e-d039-1b7cb4c37cc3"
      },
      "source": [
        "#### 인덱싱\n",
        "\n",
        "print(s[1], s[\"부산\"])\n",
        "\n",
        "print(\"=====================================\")\n",
        "\n",
        "print(s[[0, 3, 1]], s[[\"서울\", \"대구\", \"부산\"]])\n",
        "\n",
        "print(\"=====================================\")\n",
        "\n",
        "print(s[(s>250e4) & (s<500e4)])\n",
        "\n",
        "print(\"=====================================\")\n",
        "\n",
        "print(s[1:3])\n",
        "print(s[\"부산\" : \"대구\"])"
      ],
      "execution_count": 26,
      "outputs": [
        {
          "output_type": "stream",
          "text": [
            "3448737 3448737\n",
            "=====================================\n",
            "도시\n",
            "서울    9904312\n",
            "대구    2466052\n",
            "부산    3448737\n",
            "Name: 인구, dtype: int64 도시\n",
            "서울    9904312\n",
            "대구    2466052\n",
            "부산    3448737\n",
            "Name: 인구, dtype: int64\n",
            "=====================================\n",
            "도시\n",
            "부산    3448737\n",
            "인천    2890451\n",
            "Name: 인구, dtype: int64\n",
            "=====================================\n",
            "도시\n",
            "부산    3448737\n",
            "인천    2890451\n",
            "Name: 인구, dtype: int64\n",
            "도시\n",
            "부산    3448737\n",
            "인천    2890451\n",
            "대구    2466052\n",
            "Name: 인구, dtype: int64\n"
          ],
          "name": "stdout"
        }
      ]
    },
    {
      "cell_type": "code",
      "metadata": {
        "colab": {
          "base_uri": "https://localhost:8080/"
        },
        "id": "lC03EsG3iTco",
        "outputId": "a060d46b-7fc3-400d-c212-f1fc0f1e2393"
      },
      "source": [
        "#### Series와 dict\n",
        "\n",
        "print(\"서울\" in s)\n",
        "print(\"대전\" in s)\n",
        "\n",
        "print(\"=====================================\")\n",
        "\n",
        "print(list(s.items()))\n",
        "for k, v in s.items():\n",
        "  print(\"%s = %d\"%(k, v))\n",
        "  \n",
        "print(\"=====================================\")\n",
        "\n",
        "s2 = pd.Series({\"서울\" : 9631482, \"부산\" : 3448737, \"인천\" : 2632035, \"대전\" : 1490158})\n",
        "print(s2)"
      ],
      "execution_count": 28,
      "outputs": [
        {
          "output_type": "stream",
          "text": [
            "True\n",
            "False\n",
            "=====================================\n",
            "[('서울', 9904312), ('부산', 3448737), ('인천', 2890451), ('대구', 2466052)]\n",
            "서울 = 9904312\n",
            "부산 = 3448737\n",
            "인천 = 2890451\n",
            "대구 = 2466052\n",
            "=====================================\n",
            "서울    9631482\n",
            "부산    3448737\n",
            "인천    2632035\n",
            "대전    1490158\n",
            "dtype: int64\n"
          ],
          "name": "stdout"
        }
      ]
    },
    {
      "cell_type": "code",
      "metadata": {
        "colab": {
          "base_uri": "https://localhost:8080/"
        },
        "id": "EfLKe6KBv04H",
        "outputId": "39e5d79a-cbcf-4990-dd29-f3cdc65ddbd7"
      },
      "source": [
        "#### 인덱스 기반 연산\n",
        "print(s)\n",
        "\n",
        "print(\"=====================================\")\n",
        "\n",
        "print(s2)\n",
        "\n",
        "print(\"=====================================\")\n",
        "\n",
        "result = s - s2\n",
        "print(s - s2)\n",
        "\n",
        "print(\"=====================================\")\n",
        "\n",
        "print(s.values - s2.values)"
      ],
      "execution_count": 32,
      "outputs": [
        {
          "output_type": "stream",
          "text": [
            "도시\n",
            "서울    9904312\n",
            "부산    3448737\n",
            "인천    2890451\n",
            "대구    2466052\n",
            "Name: 인구, dtype: int64\n",
            "=====================================\n",
            "서울    9631482\n",
            "부산    3448737\n",
            "인천    2632035\n",
            "대전    1490158\n",
            "dtype: int64\n",
            "=====================================\n",
            "대구         NaN\n",
            "대전         NaN\n",
            "부산         0.0\n",
            "서울    272830.0\n",
            "인천    258416.0\n",
            "dtype: float64\n",
            "=====================================\n",
            "[272830      0 258416 975894]\n"
          ],
          "name": "stdout"
        }
      ]
    },
    {
      "cell_type": "code",
      "metadata": {
        "colab": {
          "base_uri": "https://localhost:8080/"
        },
        "id": "xUPFqNcIiTWT",
        "outputId": "75100265-5388-478e-ef0b-d6d5ca02c3a7"
      },
      "source": [
        "#### 결측치 제거\n",
        "\n",
        "print(result)\n",
        "print(result.notnull())\n",
        "print(result[result.notnull()])\n",
        "\n",
        "print(\"=====================================\")\n",
        "\n",
        "# s와 s2 데이터를 이용해서 인구 증가율 : (끝 연도 - 시작연도) / 시작연도 * 100\n",
        "\n",
        "result2 = ((s2-s)/s*100)[((s2-s)/s*100).notnull()]\n",
        "\n",
        "print((s2-s)/s*100)\n",
        "\n",
        "print(((s2-s)/s*100)[((s2-s)/s*100).notnull()])"
      ],
      "execution_count": 43,
      "outputs": [
        {
          "output_type": "stream",
          "text": [
            "대구         NaN\n",
            "대전         NaN\n",
            "부산         0.0\n",
            "서울    272830.0\n",
            "인천    258416.0\n",
            "dtype: float64\n",
            "대구    False\n",
            "대전    False\n",
            "부산     True\n",
            "서울     True\n",
            "인천     True\n",
            "dtype: bool\n",
            "부산         0.0\n",
            "서울    272830.0\n",
            "인천    258416.0\n",
            "dtype: float64\n",
            "=====================================\n",
            "대구         NaN\n",
            "대전         NaN\n",
            "부산    0.000000\n",
            "서울   -2.754659\n",
            "인천   -8.940335\n",
            "dtype: float64\n",
            "부산    0.000000\n",
            "서울   -2.754659\n",
            "인천   -8.940335\n",
            "dtype: float64\n"
          ],
          "name": "stdout"
        }
      ]
    },
    {
      "cell_type": "code",
      "metadata": {
        "colab": {
          "base_uri": "https://localhost:8080/"
        },
        "id": "-jUE1xUI011I",
        "outputId": "037ffef0-02b0-41b3-be63-ef629a0c0351"
      },
      "source": [
        "#### 데이터를 수정, 삭제, 갱신\n",
        "\n",
        "result2[\"부산\"] = 1.63\n",
        "print(result2)\n",
        "\n",
        "result2[\"대구\"] = 1.41\n",
        "print(result2)\n",
        "\n",
        "del result2[\"서울\"] # 삭제\n",
        "print(result2)"
      ],
      "execution_count": 45,
      "outputs": [
        {
          "output_type": "stream",
          "text": [
            "부산    1.630000\n",
            "서울   -2.754659\n",
            "인천   -8.940335\n",
            "대구    1.410000\n",
            "dtype: float64\n",
            "부산    1.630000\n",
            "서울   -2.754659\n",
            "인천   -8.940335\n",
            "대구    1.410000\n",
            "dtype: float64\n",
            "부산    1.630000\n",
            "인천   -8.940335\n",
            "대구    1.410000\n",
            "dtype: float64\n"
          ],
          "name": "stdout"
        }
      ]
    },
    {
      "cell_type": "markdown",
      "metadata": {
        "id": "6NbFoPiB2Uc-"
      },
      "source": [
        "### 2. DataFrame"
      ]
    },
    {
      "cell_type": "code",
      "metadata": {
        "id": "Uy3wORP32UtR"
      },
      "source": [
        "data = {\n",
        "    \"2015\": [9904312, 3448737, 2890451, 2466052],\n",
        "    \"2010\": [9631482, 3393191, 2632035, 2431774],\n",
        "    \"2005\": [9762546, 3512547, 2517680, 2456016],\n",
        "    \"2000\": [9853972, 3655437, 2466338, 2473990],\n",
        "    \"지역\": [\"수도권\", \"경상권\", \"수도권\", \"경상권\"],\n",
        "    \"2010-2015 증가율\": [0.0283, 0.0163, 0.0982, 0.0141]\n",
        "}"
      ],
      "execution_count": 47,
      "outputs": []
    },
    {
      "cell_type": "code",
      "metadata": {
        "colab": {
          "base_uri": "https://localhost:8080/"
        },
        "id": "xG46RKpj2VRU",
        "outputId": "6450df3b-c81c-4151-884f-f27d7f1aa1cc"
      },
      "source": [
        "print(type(data))\n",
        "print(data)"
      ],
      "execution_count": 48,
      "outputs": [
        {
          "output_type": "stream",
          "text": [
            "<class 'dict'>\n",
            "{'2015': [9904312, 3448737, 2890451, 2466052], '2010': [9631482, 3393191, 2632035, 2431774], '2005': [9762546, 3512547, 2517680, 2456016], '2000': [9853972, 3655437, 2466338, 2473990], '지역': ['수도권', '경상권', '수도권', '경상권'], '2010-2015 증가율': [0.0283, 0.0163, 0.0982, 0.0141]}\n"
          ],
          "name": "stdout"
        }
      ]
    },
    {
      "cell_type": "code",
      "metadata": {
        "colab": {
          "base_uri": "https://localhost:8080/",
          "height": 191
        },
        "id": "g3h_bpsZ2VPM",
        "outputId": "adeba30a-3847-449a-fc64-5445dc5915fc"
      },
      "source": [
        "df = pd.DataFrame(data)\n",
        "print(type(df))\n",
        "df"
      ],
      "execution_count": 49,
      "outputs": [
        {
          "output_type": "stream",
          "text": [
            "<class 'pandas.core.frame.DataFrame'>\n"
          ],
          "name": "stdout"
        },
        {
          "output_type": "execute_result",
          "data": {
            "text/html": [
              "<div>\n",
              "<style scoped>\n",
              "    .dataframe tbody tr th:only-of-type {\n",
              "        vertical-align: middle;\n",
              "    }\n",
              "\n",
              "    .dataframe tbody tr th {\n",
              "        vertical-align: top;\n",
              "    }\n",
              "\n",
              "    .dataframe thead th {\n",
              "        text-align: right;\n",
              "    }\n",
              "</style>\n",
              "<table border=\"1\" class=\"dataframe\">\n",
              "  <thead>\n",
              "    <tr style=\"text-align: right;\">\n",
              "      <th></th>\n",
              "      <th>2015</th>\n",
              "      <th>2010</th>\n",
              "      <th>2005</th>\n",
              "      <th>2000</th>\n",
              "      <th>지역</th>\n",
              "      <th>2010-2015 증가율</th>\n",
              "    </tr>\n",
              "  </thead>\n",
              "  <tbody>\n",
              "    <tr>\n",
              "      <th>0</th>\n",
              "      <td>9904312</td>\n",
              "      <td>9631482</td>\n",
              "      <td>9762546</td>\n",
              "      <td>9853972</td>\n",
              "      <td>수도권</td>\n",
              "      <td>0.0283</td>\n",
              "    </tr>\n",
              "    <tr>\n",
              "      <th>1</th>\n",
              "      <td>3448737</td>\n",
              "      <td>3393191</td>\n",
              "      <td>3512547</td>\n",
              "      <td>3655437</td>\n",
              "      <td>경상권</td>\n",
              "      <td>0.0163</td>\n",
              "    </tr>\n",
              "    <tr>\n",
              "      <th>2</th>\n",
              "      <td>2890451</td>\n",
              "      <td>2632035</td>\n",
              "      <td>2517680</td>\n",
              "      <td>2466338</td>\n",
              "      <td>수도권</td>\n",
              "      <td>0.0982</td>\n",
              "    </tr>\n",
              "    <tr>\n",
              "      <th>3</th>\n",
              "      <td>2466052</td>\n",
              "      <td>2431774</td>\n",
              "      <td>2456016</td>\n",
              "      <td>2473990</td>\n",
              "      <td>경상권</td>\n",
              "      <td>0.0141</td>\n",
              "    </tr>\n",
              "  </tbody>\n",
              "</table>\n",
              "</div>"
            ],
            "text/plain": [
              "      2015     2010     2005     2000   지역  2010-2015 증가율\n",
              "0  9904312  9631482  9762546  9853972  수도권         0.0283\n",
              "1  3448737  3393191  3512547  3655437  경상권         0.0163\n",
              "2  2890451  2632035  2517680  2466338  수도권         0.0982\n",
              "3  2466052  2431774  2456016  2473990  경상권         0.0141"
            ]
          },
          "metadata": {
            "tags": []
          },
          "execution_count": 49
        }
      ]
    },
    {
      "cell_type": "markdown",
      "metadata": {
        "id": "_FLNVyMILYZC"
      },
      "source": [
        "#### 1) 컬럼의 위치(순서) 바꾸기"
      ]
    },
    {
      "cell_type": "code",
      "metadata": {
        "colab": {
          "base_uri": "https://localhost:8080/",
          "height": 173
        },
        "id": "4fh3XZVE2VMm",
        "outputId": "0d649bdd-32ed-4bc9-a211-4b46d25e350b"
      },
      "source": [
        "cols = [\"지역\", \"2015\", \"2010\", \"2005\", \"2000\", \"2010-2015 증가율\"]\n",
        "\n",
        "df = pd.DataFrame(data, columns = cols)\n",
        "df"
      ],
      "execution_count": 53,
      "outputs": [
        {
          "output_type": "execute_result",
          "data": {
            "text/html": [
              "<div>\n",
              "<style scoped>\n",
              "    .dataframe tbody tr th:only-of-type {\n",
              "        vertical-align: middle;\n",
              "    }\n",
              "\n",
              "    .dataframe tbody tr th {\n",
              "        vertical-align: top;\n",
              "    }\n",
              "\n",
              "    .dataframe thead th {\n",
              "        text-align: right;\n",
              "    }\n",
              "</style>\n",
              "<table border=\"1\" class=\"dataframe\">\n",
              "  <thead>\n",
              "    <tr style=\"text-align: right;\">\n",
              "      <th></th>\n",
              "      <th>지역</th>\n",
              "      <th>2015</th>\n",
              "      <th>2010</th>\n",
              "      <th>2005</th>\n",
              "      <th>2000</th>\n",
              "      <th>2010-2015 증가율</th>\n",
              "    </tr>\n",
              "  </thead>\n",
              "  <tbody>\n",
              "    <tr>\n",
              "      <th>0</th>\n",
              "      <td>수도권</td>\n",
              "      <td>9904312</td>\n",
              "      <td>9631482</td>\n",
              "      <td>9762546</td>\n",
              "      <td>9853972</td>\n",
              "      <td>0.0283</td>\n",
              "    </tr>\n",
              "    <tr>\n",
              "      <th>1</th>\n",
              "      <td>경상권</td>\n",
              "      <td>3448737</td>\n",
              "      <td>3393191</td>\n",
              "      <td>3512547</td>\n",
              "      <td>3655437</td>\n",
              "      <td>0.0163</td>\n",
              "    </tr>\n",
              "    <tr>\n",
              "      <th>2</th>\n",
              "      <td>수도권</td>\n",
              "      <td>2890451</td>\n",
              "      <td>2632035</td>\n",
              "      <td>2517680</td>\n",
              "      <td>2466338</td>\n",
              "      <td>0.0982</td>\n",
              "    </tr>\n",
              "    <tr>\n",
              "      <th>3</th>\n",
              "      <td>경상권</td>\n",
              "      <td>2466052</td>\n",
              "      <td>2431774</td>\n",
              "      <td>2456016</td>\n",
              "      <td>2473990</td>\n",
              "      <td>0.0141</td>\n",
              "    </tr>\n",
              "  </tbody>\n",
              "</table>\n",
              "</div>"
            ],
            "text/plain": [
              "    지역     2015     2010     2005     2000  2010-2015 증가율\n",
              "0  수도권  9904312  9631482  9762546  9853972         0.0283\n",
              "1  경상권  3448737  3393191  3512547  3655437         0.0163\n",
              "2  수도권  2890451  2632035  2517680  2466338         0.0982\n",
              "3  경상권  2466052  2431774  2456016  2473990         0.0141"
            ]
          },
          "metadata": {
            "tags": []
          },
          "execution_count": 53
        }
      ]
    },
    {
      "cell_type": "markdown",
      "metadata": {
        "id": "HSYVwhE2Mo3c"
      },
      "source": [
        "#### 2) 인덱스 변경"
      ]
    },
    {
      "cell_type": "code",
      "metadata": {
        "colab": {
          "base_uri": "https://localhost:8080/",
          "height": 173
        },
        "id": "TWpuSjsT2VJ7",
        "outputId": "bc823f8b-0c89-43fe-93b4-0fea875e8d4a"
      },
      "source": [
        "idx = [\"서울\", \"부산\", \"인천\", \"대구\"]\n",
        "\n",
        "df = pd.DataFrame(data, columns = cols, index = idx)\n",
        "df"
      ],
      "execution_count": 54,
      "outputs": [
        {
          "output_type": "execute_result",
          "data": {
            "text/html": [
              "<div>\n",
              "<style scoped>\n",
              "    .dataframe tbody tr th:only-of-type {\n",
              "        vertical-align: middle;\n",
              "    }\n",
              "\n",
              "    .dataframe tbody tr th {\n",
              "        vertical-align: top;\n",
              "    }\n",
              "\n",
              "    .dataframe thead th {\n",
              "        text-align: right;\n",
              "    }\n",
              "</style>\n",
              "<table border=\"1\" class=\"dataframe\">\n",
              "  <thead>\n",
              "    <tr style=\"text-align: right;\">\n",
              "      <th></th>\n",
              "      <th>지역</th>\n",
              "      <th>2015</th>\n",
              "      <th>2010</th>\n",
              "      <th>2005</th>\n",
              "      <th>2000</th>\n",
              "      <th>2010-2015 증가율</th>\n",
              "    </tr>\n",
              "  </thead>\n",
              "  <tbody>\n",
              "    <tr>\n",
              "      <th>서울</th>\n",
              "      <td>수도권</td>\n",
              "      <td>9904312</td>\n",
              "      <td>9631482</td>\n",
              "      <td>9762546</td>\n",
              "      <td>9853972</td>\n",
              "      <td>0.0283</td>\n",
              "    </tr>\n",
              "    <tr>\n",
              "      <th>부산</th>\n",
              "      <td>경상권</td>\n",
              "      <td>3448737</td>\n",
              "      <td>3393191</td>\n",
              "      <td>3512547</td>\n",
              "      <td>3655437</td>\n",
              "      <td>0.0163</td>\n",
              "    </tr>\n",
              "    <tr>\n",
              "      <th>인천</th>\n",
              "      <td>수도권</td>\n",
              "      <td>2890451</td>\n",
              "      <td>2632035</td>\n",
              "      <td>2517680</td>\n",
              "      <td>2466338</td>\n",
              "      <td>0.0982</td>\n",
              "    </tr>\n",
              "    <tr>\n",
              "      <th>대구</th>\n",
              "      <td>경상권</td>\n",
              "      <td>2466052</td>\n",
              "      <td>2431774</td>\n",
              "      <td>2456016</td>\n",
              "      <td>2473990</td>\n",
              "      <td>0.0141</td>\n",
              "    </tr>\n",
              "  </tbody>\n",
              "</table>\n",
              "</div>"
            ],
            "text/plain": [
              "     지역     2015     2010     2005     2000  2010-2015 증가율\n",
              "서울  수도권  9904312  9631482  9762546  9853972         0.0283\n",
              "부산  경상권  3448737  3393191  3512547  3655437         0.0163\n",
              "인천  수도권  2890451  2632035  2517680  2466338         0.0982\n",
              "대구  경상권  2466052  2431774  2456016  2473990         0.0141"
            ]
          },
          "metadata": {
            "tags": []
          },
          "execution_count": 54
        }
      ]
    },
    {
      "cell_type": "code",
      "metadata": {
        "colab": {
          "base_uri": "https://localhost:8080/"
        },
        "id": "4o7_eiEu2VA0",
        "outputId": "49c8b0b6-9a35-46ed-cf9d-f025128e6a83"
      },
      "source": [
        "print(df.values)\n",
        "print(df.columns)\n",
        "print(df.index)"
      ],
      "execution_count": 55,
      "outputs": [
        {
          "output_type": "stream",
          "text": [
            "[['수도권' 9904312 9631482 9762546 9853972 0.0283]\n",
            " ['경상권' 3448737 3393191 3512547 3655437 0.0163]\n",
            " ['수도권' 2890451 2632035 2517680 2466338 0.0982]\n",
            " ['경상권' 2466052 2431774 2456016 2473990 0.0141]]\n",
            "Index(['지역', '2015', '2010', '2005', '2000', '2010-2015 증가율'], dtype='object')\n",
            "Index(['서울', '부산', '인천', '대구'], dtype='object')\n"
          ],
          "name": "stdout"
        }
      ]
    },
    {
      "cell_type": "code",
      "metadata": {
        "colab": {
          "base_uri": "https://localhost:8080/",
          "height": 204
        },
        "id": "G9zAJRFPN5OE",
        "outputId": "f11a783d-6179-4dc1-a084-222d710122f2"
      },
      "source": [
        "#### 컬럼과 인덱스에 이름 부여\n",
        "\n",
        "df.index.name = \"도시\"\n",
        "df.columns.name = \"특성\"\n",
        "df"
      ],
      "execution_count": 56,
      "outputs": [
        {
          "output_type": "execute_result",
          "data": {
            "text/html": [
              "<div>\n",
              "<style scoped>\n",
              "    .dataframe tbody tr th:only-of-type {\n",
              "        vertical-align: middle;\n",
              "    }\n",
              "\n",
              "    .dataframe tbody tr th {\n",
              "        vertical-align: top;\n",
              "    }\n",
              "\n",
              "    .dataframe thead th {\n",
              "        text-align: right;\n",
              "    }\n",
              "</style>\n",
              "<table border=\"1\" class=\"dataframe\">\n",
              "  <thead>\n",
              "    <tr style=\"text-align: right;\">\n",
              "      <th>특성</th>\n",
              "      <th>지역</th>\n",
              "      <th>2015</th>\n",
              "      <th>2010</th>\n",
              "      <th>2005</th>\n",
              "      <th>2000</th>\n",
              "      <th>2010-2015 증가율</th>\n",
              "    </tr>\n",
              "    <tr>\n",
              "      <th>도시</th>\n",
              "      <th></th>\n",
              "      <th></th>\n",
              "      <th></th>\n",
              "      <th></th>\n",
              "      <th></th>\n",
              "      <th></th>\n",
              "    </tr>\n",
              "  </thead>\n",
              "  <tbody>\n",
              "    <tr>\n",
              "      <th>서울</th>\n",
              "      <td>수도권</td>\n",
              "      <td>9904312</td>\n",
              "      <td>9631482</td>\n",
              "      <td>9762546</td>\n",
              "      <td>9853972</td>\n",
              "      <td>0.0283</td>\n",
              "    </tr>\n",
              "    <tr>\n",
              "      <th>부산</th>\n",
              "      <td>경상권</td>\n",
              "      <td>3448737</td>\n",
              "      <td>3393191</td>\n",
              "      <td>3512547</td>\n",
              "      <td>3655437</td>\n",
              "      <td>0.0163</td>\n",
              "    </tr>\n",
              "    <tr>\n",
              "      <th>인천</th>\n",
              "      <td>수도권</td>\n",
              "      <td>2890451</td>\n",
              "      <td>2632035</td>\n",
              "      <td>2517680</td>\n",
              "      <td>2466338</td>\n",
              "      <td>0.0982</td>\n",
              "    </tr>\n",
              "    <tr>\n",
              "      <th>대구</th>\n",
              "      <td>경상권</td>\n",
              "      <td>2466052</td>\n",
              "      <td>2431774</td>\n",
              "      <td>2456016</td>\n",
              "      <td>2473990</td>\n",
              "      <td>0.0141</td>\n",
              "    </tr>\n",
              "  </tbody>\n",
              "</table>\n",
              "</div>"
            ],
            "text/plain": [
              "특성   지역     2015     2010     2005     2000  2010-2015 증가율\n",
              "도시                                                        \n",
              "서울  수도권  9904312  9631482  9762546  9853972         0.0283\n",
              "부산  경상권  3448737  3393191  3512547  3655437         0.0163\n",
              "인천  수도권  2890451  2632035  2517680  2466338         0.0982\n",
              "대구  경상권  2466052  2431774  2456016  2473990         0.0141"
            ]
          },
          "metadata": {
            "tags": []
          },
          "execution_count": 56
        }
      ]
    },
    {
      "cell_type": "code",
      "metadata": {
        "colab": {
          "base_uri": "https://localhost:8080/",
          "height": 266
        },
        "id": "wrb5nxpMOeTb",
        "outputId": "b95d68ed-d367-4700-a500-d9ec1fb30ece"
      },
      "source": [
        "#### 전치 가능\n",
        "df.T"
      ],
      "execution_count": 57,
      "outputs": [
        {
          "output_type": "execute_result",
          "data": {
            "text/html": [
              "<div>\n",
              "<style scoped>\n",
              "    .dataframe tbody tr th:only-of-type {\n",
              "        vertical-align: middle;\n",
              "    }\n",
              "\n",
              "    .dataframe tbody tr th {\n",
              "        vertical-align: top;\n",
              "    }\n",
              "\n",
              "    .dataframe thead th {\n",
              "        text-align: right;\n",
              "    }\n",
              "</style>\n",
              "<table border=\"1\" class=\"dataframe\">\n",
              "  <thead>\n",
              "    <tr style=\"text-align: right;\">\n",
              "      <th>도시</th>\n",
              "      <th>서울</th>\n",
              "      <th>부산</th>\n",
              "      <th>인천</th>\n",
              "      <th>대구</th>\n",
              "    </tr>\n",
              "    <tr>\n",
              "      <th>특성</th>\n",
              "      <th></th>\n",
              "      <th></th>\n",
              "      <th></th>\n",
              "      <th></th>\n",
              "    </tr>\n",
              "  </thead>\n",
              "  <tbody>\n",
              "    <tr>\n",
              "      <th>지역</th>\n",
              "      <td>수도권</td>\n",
              "      <td>경상권</td>\n",
              "      <td>수도권</td>\n",
              "      <td>경상권</td>\n",
              "    </tr>\n",
              "    <tr>\n",
              "      <th>2015</th>\n",
              "      <td>9904312</td>\n",
              "      <td>3448737</td>\n",
              "      <td>2890451</td>\n",
              "      <td>2466052</td>\n",
              "    </tr>\n",
              "    <tr>\n",
              "      <th>2010</th>\n",
              "      <td>9631482</td>\n",
              "      <td>3393191</td>\n",
              "      <td>2632035</td>\n",
              "      <td>2431774</td>\n",
              "    </tr>\n",
              "    <tr>\n",
              "      <th>2005</th>\n",
              "      <td>9762546</td>\n",
              "      <td>3512547</td>\n",
              "      <td>2517680</td>\n",
              "      <td>2456016</td>\n",
              "    </tr>\n",
              "    <tr>\n",
              "      <th>2000</th>\n",
              "      <td>9853972</td>\n",
              "      <td>3655437</td>\n",
              "      <td>2466338</td>\n",
              "      <td>2473990</td>\n",
              "    </tr>\n",
              "    <tr>\n",
              "      <th>2010-2015 증가율</th>\n",
              "      <td>0.0283</td>\n",
              "      <td>0.0163</td>\n",
              "      <td>0.0982</td>\n",
              "      <td>0.0141</td>\n",
              "    </tr>\n",
              "  </tbody>\n",
              "</table>\n",
              "</div>"
            ],
            "text/plain": [
              "도시                  서울       부산       인천       대구\n",
              "특성                                               \n",
              "지역                 수도권      경상권      수도권      경상권\n",
              "2015           9904312  3448737  2890451  2466052\n",
              "2010           9631482  3393191  2632035  2431774\n",
              "2005           9762546  3512547  2517680  2456016\n",
              "2000           9853972  3655437  2466338  2473990\n",
              "2010-2015 증가율   0.0283   0.0163   0.0982   0.0141"
            ]
          },
          "metadata": {
            "tags": []
          },
          "execution_count": 57
        }
      ]
    },
    {
      "cell_type": "markdown",
      "metadata": {
        "id": "o56MsNq-PN49"
      },
      "source": [
        "#### 3) 인덱싱"
      ]
    },
    {
      "cell_type": "code",
      "metadata": {
        "colab": {
          "base_uri": "https://localhost:8080/"
        },
        "id": "15bq6P8rOeQf",
        "outputId": "9583d31e-c00c-4755-a24f-0eb923490043"
      },
      "source": [
        "#### 열 인덱싱\n",
        "\n",
        "print(df)\n",
        "print(\"=====================================\")\n",
        "\n",
        "print(df[\"지역\"])\n",
        "print(type(df[\"지역\"]))\n",
        "print(\"=====================================\")\n",
        "print(df[[\"지역\"]])\n",
        "print(type(df[[\"지역\"]]))\n",
        "print(\"=====================================\")\n",
        "print(df[[\"2015\", \"2010\"]])\n",
        "\n",
        "# df[0] : 숫자로 지정 안됨\n",
        "# df[\"2010\" : \"2000\"] : 슬라이싱 안됨"
      ],
      "execution_count": 62,
      "outputs": [
        {
          "output_type": "stream",
          "text": [
            "특성   지역     2015     2010     2005     2000  2010-2015 증가율\n",
            "도시                                                        \n",
            "서울  수도권  9904312  9631482  9762546  9853972         0.0283\n",
            "부산  경상권  3448737  3393191  3512547  3655437         0.0163\n",
            "인천  수도권  2890451  2632035  2517680  2466338         0.0982\n",
            "대구  경상권  2466052  2431774  2456016  2473990         0.0141\n",
            "=====================================\n",
            "도시\n",
            "서울    수도권\n",
            "부산    경상권\n",
            "인천    수도권\n",
            "대구    경상권\n",
            "Name: 지역, dtype: object\n",
            "<class 'pandas.core.series.Series'>\n",
            "=====================================\n",
            "특성   지역\n",
            "도시     \n",
            "서울  수도권\n",
            "부산  경상권\n",
            "인천  수도권\n",
            "대구  경상권\n",
            "<class 'pandas.core.frame.DataFrame'>\n",
            "=====================================\n",
            "특성     2015     2010\n",
            "도시                  \n",
            "서울  9904312  9631482\n",
            "부산  3448737  3393191\n",
            "인천  2890451  2632035\n",
            "대구  2466052  2431774\n"
          ],
          "name": "stdout"
        }
      ]
    },
    {
      "cell_type": "code",
      "metadata": {
        "colab": {
          "base_uri": "https://localhost:8080/"
        },
        "id": "VlZFdoMROeNn",
        "outputId": "2c842b74-1952-487c-8132-67b3afdfab73"
      },
      "source": [
        "#### 행 인덱싱 (2개 이상 데이터를 뽑아올 때 반드시 : 으로 슬라이싱)\n",
        "\n",
        "print(df[:])\n",
        "print(\"=====================================\")\n",
        "print(df[:1])\n",
        "print(\"=====================================\")\n",
        "print(df[1:3])\n",
        "print(\"=====================================\")\n",
        "print(df[\"서울\" : \"부산\"])"
      ],
      "execution_count": 69,
      "outputs": [
        {
          "output_type": "stream",
          "text": [
            "특성   지역     2015     2010     2005     2000  2010-2015 증가율\n",
            "도시                                                        \n",
            "서울  수도권  9904312  9631482  9762546  9853972         0.0283\n",
            "부산  경상권  3448737  3393191  3512547  3655437         0.0163\n",
            "인천  수도권  2890451  2632035  2517680  2466338         0.0982\n",
            "대구  경상권  2466052  2431774  2456016  2473990         0.0141\n",
            "=====================================\n",
            "특성   지역     2015     2010     2005     2000  2010-2015 증가율\n",
            "도시                                                        \n",
            "서울  수도권  9904312  9631482  9762546  9853972         0.0283\n",
            "=====================================\n",
            "특성   지역     2015     2010     2005     2000  2010-2015 증가율\n",
            "도시                                                        \n",
            "부산  경상권  3448737  3393191  3512547  3655437         0.0163\n",
            "인천  수도권  2890451  2632035  2517680  2466338         0.0982\n",
            "=====================================\n",
            "특성   지역     2015     2010     2005     2000  2010-2015 증가율\n",
            "도시                                                        \n",
            "서울  수도권  9904312  9631482  9762546  9853972         0.0283\n",
            "부산  경상권  3448737  3393191  3512547  3655437         0.0163\n"
          ],
          "name": "stdout"
        }
      ]
    },
    {
      "cell_type": "code",
      "metadata": {
        "colab": {
          "base_uri": "https://localhost:8080/",
          "height": 129
        },
        "id": "jhKQruxmOeK-",
        "outputId": "95b3c1e3-b32e-4ff9-c8e2-23687b33a0b2"
      },
      "source": [
        "#### 동시에 행과 열에 접근\n",
        "\n",
        "df[\"2005\"][\"서울\"] # 열에 먼저 접근\n",
        "# df[\"2005\", \"서울\"] 이건 안됨\n",
        "\n",
        "print(\"=====================================\")\n",
        "\n",
        "# 2005년도와 2010년의 서울 인구를 조회\n",
        "df[[\"2005\", \"2010\"]][:\"서울\"]\n",
        "df.loc['서울',['2005', '2010']]"
      ],
      "execution_count": 85,
      "outputs": [
        {
          "output_type": "stream",
          "text": [
            "=====================================\n"
          ],
          "name": "stdout"
        },
        {
          "output_type": "execute_result",
          "data": {
            "text/html": [
              "<div>\n",
              "<style scoped>\n",
              "    .dataframe tbody tr th:only-of-type {\n",
              "        vertical-align: middle;\n",
              "    }\n",
              "\n",
              "    .dataframe tbody tr th {\n",
              "        vertical-align: top;\n",
              "    }\n",
              "\n",
              "    .dataframe thead th {\n",
              "        text-align: right;\n",
              "    }\n",
              "</style>\n",
              "<table border=\"1\" class=\"dataframe\">\n",
              "  <thead>\n",
              "    <tr style=\"text-align: right;\">\n",
              "      <th>특성</th>\n",
              "      <th>2005</th>\n",
              "      <th>2010</th>\n",
              "    </tr>\n",
              "    <tr>\n",
              "      <th>도시</th>\n",
              "      <th></th>\n",
              "      <th></th>\n",
              "    </tr>\n",
              "  </thead>\n",
              "  <tbody>\n",
              "    <tr>\n",
              "      <th>서울</th>\n",
              "      <td>9762546</td>\n",
              "      <td>9631482</td>\n",
              "    </tr>\n",
              "  </tbody>\n",
              "</table>\n",
              "</div>"
            ],
            "text/plain": [
              "특성     2005     2010\n",
              "도시                  \n",
              "서울  9762546  9631482"
            ]
          },
          "metadata": {
            "tags": []
          },
          "execution_count": 85
        }
      ]
    },
    {
      "cell_type": "markdown",
      "metadata": {
        "id": "mfwM65hTZV0v"
      },
      "source": [
        "#### 4) 열 데이터 갱신, 추가, 삭제"
      ]
    },
    {
      "cell_type": "code",
      "metadata": {
        "colab": {
          "base_uri": "https://localhost:8080/",
          "height": 204
        },
        "id": "am8NpObcZbt4",
        "outputId": "7155e4d7-db62-4589-e1be-8b08e42dd675"
      },
      "source": [
        "# 갱신\n",
        "df[\"2010-2015 증가율\"] = df[\"2010-2015 증가율\"] * 100\n",
        "df\n",
        "\n",
        "# 추가\n",
        "df[\"2005-2010 증가율\"] = ((df[\"2010\"] - df[\"2005\"]) / df[\"2005\"] * 100).round(2)\n",
        "df\n",
        "\n",
        "# 삭제\n",
        "del df[\"2010-2015 증가율\"]\n",
        "df"
      ],
      "execution_count": 89,
      "outputs": [
        {
          "output_type": "execute_result",
          "data": {
            "text/html": [
              "<div>\n",
              "<style scoped>\n",
              "    .dataframe tbody tr th:only-of-type {\n",
              "        vertical-align: middle;\n",
              "    }\n",
              "\n",
              "    .dataframe tbody tr th {\n",
              "        vertical-align: top;\n",
              "    }\n",
              "\n",
              "    .dataframe thead th {\n",
              "        text-align: right;\n",
              "    }\n",
              "</style>\n",
              "<table border=\"1\" class=\"dataframe\">\n",
              "  <thead>\n",
              "    <tr style=\"text-align: right;\">\n",
              "      <th>특성</th>\n",
              "      <th>지역</th>\n",
              "      <th>2015</th>\n",
              "      <th>2010</th>\n",
              "      <th>2005</th>\n",
              "      <th>2000</th>\n",
              "      <th>2005-2010 증가율</th>\n",
              "    </tr>\n",
              "    <tr>\n",
              "      <th>도시</th>\n",
              "      <th></th>\n",
              "      <th></th>\n",
              "      <th></th>\n",
              "      <th></th>\n",
              "      <th></th>\n",
              "      <th></th>\n",
              "    </tr>\n",
              "  </thead>\n",
              "  <tbody>\n",
              "    <tr>\n",
              "      <th>서울</th>\n",
              "      <td>수도권</td>\n",
              "      <td>9904312</td>\n",
              "      <td>9631482</td>\n",
              "      <td>9762546</td>\n",
              "      <td>9853972</td>\n",
              "      <td>-1.34</td>\n",
              "    </tr>\n",
              "    <tr>\n",
              "      <th>부산</th>\n",
              "      <td>경상권</td>\n",
              "      <td>3448737</td>\n",
              "      <td>3393191</td>\n",
              "      <td>3512547</td>\n",
              "      <td>3655437</td>\n",
              "      <td>-3.40</td>\n",
              "    </tr>\n",
              "    <tr>\n",
              "      <th>인천</th>\n",
              "      <td>수도권</td>\n",
              "      <td>2890451</td>\n",
              "      <td>2632035</td>\n",
              "      <td>2517680</td>\n",
              "      <td>2466338</td>\n",
              "      <td>4.54</td>\n",
              "    </tr>\n",
              "    <tr>\n",
              "      <th>대구</th>\n",
              "      <td>경상권</td>\n",
              "      <td>2466052</td>\n",
              "      <td>2431774</td>\n",
              "      <td>2456016</td>\n",
              "      <td>2473990</td>\n",
              "      <td>-0.99</td>\n",
              "    </tr>\n",
              "  </tbody>\n",
              "</table>\n",
              "</div>"
            ],
            "text/plain": [
              "특성   지역     2015     2010     2005     2000  2005-2010 증가율\n",
              "도시                                                        \n",
              "서울  수도권  9904312  9631482  9762546  9853972          -1.34\n",
              "부산  경상권  3448737  3393191  3512547  3655437          -3.40\n",
              "인천  수도권  2890451  2632035  2517680  2466338           4.54\n",
              "대구  경상권  2466052  2431774  2456016  2473990          -0.99"
            ]
          },
          "metadata": {
            "tags": []
          },
          "execution_count": 89
        }
      ]
    },
    {
      "cell_type": "markdown",
      "metadata": {
        "id": "p3T4MR7mbL9P"
      },
      "source": [
        "#### 5) 실습1"
      ]
    },
    {
      "cell_type": "code",
      "metadata": {
        "id": "IKbETbtTbEow"
      },
      "source": [
        "data = {\n",
        "    \"국어\" : [80, 90, 70, 30],\n",
        "    \"영어\" : [90, 70, 60, 40],\n",
        "    \"수학\" : [90, 60, 80, 70]\n",
        "}"
      ],
      "execution_count": 90,
      "outputs": []
    },
    {
      "cell_type": "code",
      "metadata": {
        "colab": {
          "base_uri": "https://localhost:8080/",
          "height": 173
        },
        "id": "7Ov1gfXMZbrg",
        "outputId": "59c0f54e-ec54-4113-fa36-8c765eae6a9b"
      },
      "source": [
        "#### 1. 인덱스를 춘향, 몽룡, 향단, 방자로 구성된 데이터 프레임 df를 작성\n",
        "\n",
        "idx = [\"춘향\", \"몽룡\", \"향단\", \"방자\"]\n",
        "\n",
        "df = pd.DataFrame(data, index = idx)\n",
        "df"
      ],
      "execution_count": 94,
      "outputs": [
        {
          "output_type": "execute_result",
          "data": {
            "text/html": [
              "<div>\n",
              "<style scoped>\n",
              "    .dataframe tbody tr th:only-of-type {\n",
              "        vertical-align: middle;\n",
              "    }\n",
              "\n",
              "    .dataframe tbody tr th {\n",
              "        vertical-align: top;\n",
              "    }\n",
              "\n",
              "    .dataframe thead th {\n",
              "        text-align: right;\n",
              "    }\n",
              "</style>\n",
              "<table border=\"1\" class=\"dataframe\">\n",
              "  <thead>\n",
              "    <tr style=\"text-align: right;\">\n",
              "      <th></th>\n",
              "      <th>국어</th>\n",
              "      <th>영어</th>\n",
              "      <th>수학</th>\n",
              "    </tr>\n",
              "  </thead>\n",
              "  <tbody>\n",
              "    <tr>\n",
              "      <th>춘향</th>\n",
              "      <td>80</td>\n",
              "      <td>90</td>\n",
              "      <td>90</td>\n",
              "    </tr>\n",
              "    <tr>\n",
              "      <th>몽룡</th>\n",
              "      <td>90</td>\n",
              "      <td>70</td>\n",
              "      <td>60</td>\n",
              "    </tr>\n",
              "    <tr>\n",
              "      <th>향단</th>\n",
              "      <td>70</td>\n",
              "      <td>60</td>\n",
              "      <td>80</td>\n",
              "    </tr>\n",
              "    <tr>\n",
              "      <th>방자</th>\n",
              "      <td>30</td>\n",
              "      <td>40</td>\n",
              "      <td>70</td>\n",
              "    </tr>\n",
              "  </tbody>\n",
              "</table>\n",
              "</div>"
            ],
            "text/plain": [
              "    국어  영어  수학\n",
              "춘향  80  90  90\n",
              "몽룡  90  70  60\n",
              "향단  70  60  80\n",
              "방자  30  40  70"
            ]
          },
          "metadata": {
            "tags": []
          },
          "execution_count": 94
        }
      ]
    },
    {
      "cell_type": "code",
      "metadata": {
        "colab": {
          "base_uri": "https://localhost:8080/"
        },
        "id": "hGX7z8LLZbot",
        "outputId": "b76c6f4d-e486-48d7-eca9-360b372af932"
      },
      "source": [
        "#### 2. 모든 학생의 수학 점수를 조회\n",
        "df['수학']"
      ],
      "execution_count": 117,
      "outputs": [
        {
          "output_type": "execute_result",
          "data": {
            "text/plain": [
              "춘향    90\n",
              "몽룡    60\n",
              "향단    80\n",
              "방자    70\n",
              "Name: 수학, dtype: int64"
            ]
          },
          "metadata": {
            "tags": []
          },
          "execution_count": 117
        }
      ]
    },
    {
      "cell_type": "code",
      "metadata": {
        "colab": {
          "base_uri": "https://localhost:8080/",
          "height": 173
        },
        "id": "4wmhz7CdZbZC",
        "outputId": "a69912b9-e8b6-4503-b4f1-ba37145947ff"
      },
      "source": [
        "#### 3. 모든 학생의 국어와 영어 점수를 조회\n",
        "df[['국어', '영어']]"
      ],
      "execution_count": 113,
      "outputs": [
        {
          "output_type": "execute_result",
          "data": {
            "text/html": [
              "<div>\n",
              "<style scoped>\n",
              "    .dataframe tbody tr th:only-of-type {\n",
              "        vertical-align: middle;\n",
              "    }\n",
              "\n",
              "    .dataframe tbody tr th {\n",
              "        vertical-align: top;\n",
              "    }\n",
              "\n",
              "    .dataframe thead th {\n",
              "        text-align: right;\n",
              "    }\n",
              "</style>\n",
              "<table border=\"1\" class=\"dataframe\">\n",
              "  <thead>\n",
              "    <tr style=\"text-align: right;\">\n",
              "      <th></th>\n",
              "      <th>국어</th>\n",
              "      <th>영어</th>\n",
              "    </tr>\n",
              "  </thead>\n",
              "  <tbody>\n",
              "    <tr>\n",
              "      <th>춘향</th>\n",
              "      <td>80</td>\n",
              "      <td>90</td>\n",
              "    </tr>\n",
              "    <tr>\n",
              "      <th>몽룡</th>\n",
              "      <td>90</td>\n",
              "      <td>70</td>\n",
              "    </tr>\n",
              "    <tr>\n",
              "      <th>향단</th>\n",
              "      <td>70</td>\n",
              "      <td>60</td>\n",
              "    </tr>\n",
              "    <tr>\n",
              "      <th>방자</th>\n",
              "      <td>30</td>\n",
              "      <td>80</td>\n",
              "    </tr>\n",
              "  </tbody>\n",
              "</table>\n",
              "</div>"
            ],
            "text/plain": [
              "    국어  영어\n",
              "춘향  80  90\n",
              "몽룡  90  70\n",
              "향단  70  60\n",
              "방자  30  80"
            ]
          },
          "metadata": {
            "tags": []
          },
          "execution_count": 113
        }
      ]
    },
    {
      "cell_type": "code",
      "metadata": {
        "colab": {
          "base_uri": "https://localhost:8080/",
          "height": 173
        },
        "id": "iDIvxgpEby1y",
        "outputId": "6ed1d7bd-eb72-4e72-e20f-b398d5600b32"
      },
      "source": [
        "#### 4. 모든 학생의 각 과목평균점수를 새로운 열(과목평균)로 추가하시오\n",
        "df[\"과목평균\"] = ((df['국어'] + df['영어'] + df['수학'])/3).round(2)\n",
        "df"
      ],
      "execution_count": 115,
      "outputs": [
        {
          "output_type": "execute_result",
          "data": {
            "text/html": [
              "<div>\n",
              "<style scoped>\n",
              "    .dataframe tbody tr th:only-of-type {\n",
              "        vertical-align: middle;\n",
              "    }\n",
              "\n",
              "    .dataframe tbody tr th {\n",
              "        vertical-align: top;\n",
              "    }\n",
              "\n",
              "    .dataframe thead th {\n",
              "        text-align: right;\n",
              "    }\n",
              "</style>\n",
              "<table border=\"1\" class=\"dataframe\">\n",
              "  <thead>\n",
              "    <tr style=\"text-align: right;\">\n",
              "      <th></th>\n",
              "      <th>국어</th>\n",
              "      <th>영어</th>\n",
              "      <th>수학</th>\n",
              "      <th>과목평균</th>\n",
              "    </tr>\n",
              "  </thead>\n",
              "  <tbody>\n",
              "    <tr>\n",
              "      <th>춘향</th>\n",
              "      <td>80</td>\n",
              "      <td>90</td>\n",
              "      <td>90</td>\n",
              "      <td>86.67</td>\n",
              "    </tr>\n",
              "    <tr>\n",
              "      <th>몽룡</th>\n",
              "      <td>90</td>\n",
              "      <td>70</td>\n",
              "      <td>60</td>\n",
              "      <td>73.33</td>\n",
              "    </tr>\n",
              "    <tr>\n",
              "      <th>향단</th>\n",
              "      <td>70</td>\n",
              "      <td>60</td>\n",
              "      <td>80</td>\n",
              "      <td>70.00</td>\n",
              "    </tr>\n",
              "    <tr>\n",
              "      <th>방자</th>\n",
              "      <td>30</td>\n",
              "      <td>80</td>\n",
              "      <td>70</td>\n",
              "      <td>60.00</td>\n",
              "    </tr>\n",
              "  </tbody>\n",
              "</table>\n",
              "</div>"
            ],
            "text/plain": [
              "    국어  영어  수학   과목평균\n",
              "춘향  80  90  90  86.67\n",
              "몽룡  90  70  60  73.33\n",
              "향단  70  60  80  70.00\n",
              "방자  30  80  70  60.00"
            ]
          },
          "metadata": {
            "tags": []
          },
          "execution_count": 115
        }
      ]
    },
    {
      "cell_type": "code",
      "metadata": {
        "colab": {
          "base_uri": "https://localhost:8080/",
          "height": 263
        },
        "id": "T0GLOn8rbyzH",
        "outputId": "352fb587-3bc7-4dfc-8b97-b678316a1ed6"
      },
      "source": [
        "#### 5. 방자의 영어점수를 80점으로 수정하고 평균 점수도 다시 수정하시오\n",
        "df['영어']['방자'] = 80\n",
        "df[\"과목평균\"] = ((df['국어'] + df['영어'] + df['수학'])/3).round(2)\n",
        "df"
      ],
      "execution_count": 116,
      "outputs": [
        {
          "output_type": "stream",
          "text": [
            "/usr/local/lib/python3.7/dist-packages/ipykernel_launcher.py:2: SettingWithCopyWarning: \n",
            "A value is trying to be set on a copy of a slice from a DataFrame\n",
            "\n",
            "See the caveats in the documentation: https://pandas.pydata.org/pandas-docs/stable/user_guide/indexing.html#returning-a-view-versus-a-copy\n",
            "  \n"
          ],
          "name": "stderr"
        },
        {
          "output_type": "execute_result",
          "data": {
            "text/html": [
              "<div>\n",
              "<style scoped>\n",
              "    .dataframe tbody tr th:only-of-type {\n",
              "        vertical-align: middle;\n",
              "    }\n",
              "\n",
              "    .dataframe tbody tr th {\n",
              "        vertical-align: top;\n",
              "    }\n",
              "\n",
              "    .dataframe thead th {\n",
              "        text-align: right;\n",
              "    }\n",
              "</style>\n",
              "<table border=\"1\" class=\"dataframe\">\n",
              "  <thead>\n",
              "    <tr style=\"text-align: right;\">\n",
              "      <th></th>\n",
              "      <th>국어</th>\n",
              "      <th>영어</th>\n",
              "      <th>수학</th>\n",
              "      <th>과목평균</th>\n",
              "    </tr>\n",
              "  </thead>\n",
              "  <tbody>\n",
              "    <tr>\n",
              "      <th>춘향</th>\n",
              "      <td>80</td>\n",
              "      <td>90</td>\n",
              "      <td>90</td>\n",
              "      <td>86.67</td>\n",
              "    </tr>\n",
              "    <tr>\n",
              "      <th>몽룡</th>\n",
              "      <td>90</td>\n",
              "      <td>70</td>\n",
              "      <td>60</td>\n",
              "      <td>73.33</td>\n",
              "    </tr>\n",
              "    <tr>\n",
              "      <th>향단</th>\n",
              "      <td>70</td>\n",
              "      <td>60</td>\n",
              "      <td>80</td>\n",
              "      <td>70.00</td>\n",
              "    </tr>\n",
              "    <tr>\n",
              "      <th>방자</th>\n",
              "      <td>30</td>\n",
              "      <td>80</td>\n",
              "      <td>70</td>\n",
              "      <td>60.00</td>\n",
              "    </tr>\n",
              "  </tbody>\n",
              "</table>\n",
              "</div>"
            ],
            "text/plain": [
              "    국어  영어  수학   과목평균\n",
              "춘향  80  90  90  86.67\n",
              "몽룡  90  70  60  73.33\n",
              "향단  70  60  80  70.00\n",
              "방자  30  80  70  60.00"
            ]
          },
          "metadata": {
            "tags": []
          },
          "execution_count": 116
        }
      ]
    },
    {
      "cell_type": "code",
      "metadata": {
        "colab": {
          "base_uri": "https://localhost:8080/",
          "height": 80
        },
        "id": "lDUGGItjbywJ",
        "outputId": "4606d944-0bda-44b7-d603-dd1602f2fb6a"
      },
      "source": [
        "#### 6. 춘향의 점수를 데이터 프레임 형식으로 출력하시오\n",
        "df[:\"춘향\"]"
      ],
      "execution_count": 108,
      "outputs": [
        {
          "output_type": "execute_result",
          "data": {
            "text/html": [
              "<div>\n",
              "<style scoped>\n",
              "    .dataframe tbody tr th:only-of-type {\n",
              "        vertical-align: middle;\n",
              "    }\n",
              "\n",
              "    .dataframe tbody tr th {\n",
              "        vertical-align: top;\n",
              "    }\n",
              "\n",
              "    .dataframe thead th {\n",
              "        text-align: right;\n",
              "    }\n",
              "</style>\n",
              "<table border=\"1\" class=\"dataframe\">\n",
              "  <thead>\n",
              "    <tr style=\"text-align: right;\">\n",
              "      <th></th>\n",
              "      <th>국어</th>\n",
              "      <th>영어</th>\n",
              "      <th>수학</th>\n",
              "      <th>과목평균</th>\n",
              "    </tr>\n",
              "  </thead>\n",
              "  <tbody>\n",
              "    <tr>\n",
              "      <th>춘향</th>\n",
              "      <td>80</td>\n",
              "      <td>90</td>\n",
              "      <td>90</td>\n",
              "      <td>86.67</td>\n",
              "    </tr>\n",
              "  </tbody>\n",
              "</table>\n",
              "</div>"
            ],
            "text/plain": [
              "    국어  영어  수학   과목평균\n",
              "춘향  80  90  90  86.67"
            ]
          },
          "metadata": {
            "tags": []
          },
          "execution_count": 108
        }
      ]
    },
    {
      "cell_type": "code",
      "metadata": {
        "colab": {
          "base_uri": "https://localhost:8080/"
        },
        "id": "U3lnrbGobyrr",
        "outputId": "bd94e3b2-ded9-4de8-ef04-68ac61c3703f"
      },
      "source": [
        "#### 7. 향단의 점수를 Series로 출력하시오\n",
        "df.T['향단']\n"
      ],
      "execution_count": 111,
      "outputs": [
        {
          "output_type": "execute_result",
          "data": {
            "text/plain": [
              "국어      70.0\n",
              "영어      60.0\n",
              "수학      80.0\n",
              "과목평균    70.0\n",
              "Name: 향단, dtype: float64"
            ]
          },
          "metadata": {
            "tags": []
          },
          "execution_count": 111
        }
      ]
    }
  ]
}