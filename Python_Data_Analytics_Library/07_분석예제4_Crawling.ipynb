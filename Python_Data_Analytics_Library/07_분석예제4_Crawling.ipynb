{
  "nbformat": 4,
  "nbformat_minor": 0,
  "metadata": {
    "colab": {
      "name": "07_분석예제4_Crawling.ipynb",
      "provenance": [],
      "collapsed_sections": [],
      "authorship_tag": "ABX9TyNxQNOZVQQyjinTAuCmNhOn",
      "include_colab_link": true
    },
    "kernelspec": {
      "name": "python3",
      "display_name": "Python 3"
    },
    "language_info": {
      "name": "python"
    }
  },
  "cells": [
    {
      "cell_type": "markdown",
      "metadata": {
        "id": "view-in-github",
        "colab_type": "text"
      },
      "source": [
        "<a href=\"https://colab.research.google.com/github/Junjaee/Study/blob/main/Python_Data_Analytics_Library/07_%EB%B6%84%EC%84%9D%EC%98%88%EC%A0%9C4_Crawling.ipynb\" target=\"_parent\"><img src=\"https://colab.research.google.com/assets/colab-badge.svg\" alt=\"Open In Colab\"/></a>"
      ]
    },
    {
      "cell_type": "code",
      "metadata": {
        "id": "1zocdrkdK5j6"
      },
      "source": [
        "import numpy as np\n",
        "import pandas as pd\n",
        "import matplotlib.pyplot as plt\n",
        "\n",
        "import matplotlib as mpl\n",
        "import matplotlib.font_manager as fm\n",
        "fm.FontProperties(fname = \"맑은 고딕\")\n",
        "mpl.rcParams[\"axes.unicode_minus\"] = False # 음수표시\n",
        "\n",
        "import seaborn as sns\n",
        "\n",
        "plt.style.use(\"fivethirtyeight\")\n",
        "\n",
        "import warnings\n",
        "warnings.filterwarnings(\"ignore\")"
      ],
      "execution_count": 1,
      "outputs": []
    },
    {
      "cell_type": "markdown",
      "metadata": {
        "id": "Oz1NaBb3OAbz"
      },
      "source": [
        "### XML(Extension Markup Language)\n",
        "\n",
        "  - 1. 특징\n",
        "            1) 메타 언어 : GML -> SGML -> XML\n",
        "            2) 데이터를 위한 언어\n",
        "            3) 데이터베이스 용도\n",
        "            4) 데이터 표준화 : 이 기종 시스템간의 정보교환, 웹서비스, 유비쿼터스, 사물인터넷 기타등등...\n",
        " \n",
        "  - 2. 문법(물리적인 구성요소)\n",
        "            1) XML(.xml)\n",
        "            2) DTD(.dtd) : XML 작성을 위한 설계문서\n",
        "            3) XML Schema(.xsd) : XML 작성을 위한 설계문서\n",
        "            4) XSL(.xsl, xslt) : XML문서에 스타일을 입혀주는 언어\n",
        " \n",
        "  - 3. 결과 문서의 종류\n",
        "            1) Well-Formed XML Document(잘 짜여진 문서)\n",
        "            2) Valid XML Document(유효한 문서)\n",
        "    \n",
        "  - 4. Element 문법\n",
        "            - 작성 규칙\n",
        "                a) 모든 XML문서는 반드시 단 하나의 루트 엘리먼트를 가진다.\n",
        "                b) 루트 엘리먼트는 여러 개의 자식 엘리먼트를 가질 수 있고\n",
        "                    또 그 자식도 자신의 자식을 가질 수 있다.\n",
        "                c) 시작태그와 끝태그는 반드시 짝을 이루어야 한다.\n",
        "                d) \"<\"는 값으로 사용 불가. \">\"는 사용할 수 있으나 가급적 사용 금지\n",
        "                e) \"<\"와 \">\" 다음에 공백문자가 올 수 없으며 반드시 시작태그와 끝태그의 이름이 같아야 한다.\n",
        "    \n",
        "            - 종류\n",
        "                a) 내용을 가지는 엘리먼트\n",
        "                b) 내용이 없는 엘리먼트\n",
        "        \n",
        "            - 내용에 대한 종류\n",
        "                a) 문자 데이터\n",
        "                b) 자식 엘리먼트\n",
        "                c) 엔티티 또는 문자 참조\n",
        "                d) CDATA Section\n",
        "                e) 프로세싱 지시자\n",
        "                f) 주석 : <!-- 주석 내용 -->\n",
        "                g) 공백 문자열\n",
        "    \n",
        "  - 5. DTD \n",
        "            - 종류\n",
        "                내부 DTD\n",
        "                외부 DTD\n",
        "        \n",
        "            - 구성 요소\n",
        "                엘리먼트 선언\n",
        "                속성(attribute) 선언\n",
        "                Entity 선언\n",
        "                Notation 선언\n",
        "                프로세싱 지시자\n",
        "                파라미터 엔티티 참조\n",
        "                주석\n",
        "                공백\n",
        "                conditional section\n",
        "        \n",
        "            - 문서 유형 선언\n",
        "                <!DOCTYPE 루트엘리먼트명 SYSTEM 또는 PUBLIC \"식별자\">\n",
        "                    DOCTYPE은 반드시 대문자\n",
        "                    SYSTEM은 특정 단체나 업체내부에서 사용되는 경우\n",
        "                    PUBLIC은 공개\n",
        "                    식별자는 다운로드 받을 수 있는 경로\n",
        "                    PUBLIC일 경우 추가된 식별자\n",
        "                    +-//DTD를 개발 및 유지보수 업체명//DTD명 및 버전번호//사용된 언어\n",
        "        \n",
        "            - 엘리먼트 선언\n",
        "                <!ELEMENT 엘리먼트명 컨텐트 유형>\n",
        "                    컨텐트 유형\n",
        "                        #PCDATA    : 내용으로 문자데이터만 갖는 엘리먼트\n",
        "                        자식 엘리먼트\n",
        "                            , : 작성 순서\n",
        "                            | : 선택\n",
        "                            ? : 생략하거나 한번만 작성\n",
        "                            + : 한번 이상\n",
        "                            * : 생략하거나 여러번 작성\n",
        "                            기호 없음 : 단 한번만 작성\n",
        "                        EMPTY\n",
        "                        MIXED : 문자데이터 또는 자식엘리먼트를 혼합형태\n",
        "                        ANY\n",
        "        \n",
        "            - ATTRIBUTE 선언\n",
        "                <!ATTLIST 엘리먼트명 속성명 속성유형 디폴트선언>\n",
        "                    속성 유형\n",
        "                        CDATA :  문자 데이터\n",
        "                        ENUMERATION    : dtd에 나열된 값 중 하나가 와야 함\n",
        "                        ID : 유일한 값을 지정\n",
        "                        IDREF/IDREFS : ID값을 참조\n",
        "                        NMTOKEN/NMTOKENS : 이름 작성 규칙을 준수하는 데이터만 사용\n",
        "                        NOTATION : dtd에 명시적으로 선언된 notation만 사용가능\n",
        "                        ENTITY : dtd에 명시적으로 선언된 entity만 사용 가능\n",
        "        \n",
        "            - validation check\n",
        "                https://www.xmlvalidation.com/\n",
        "    \n",
        "  - 6. 네임 스페이스\n",
        "        CML\n",
        "        -----\n",
        "            <?xml version=1.0>\n",
        "            <정보>\n",
        "                <고유번호>111111-1111111</고유번호>\n",
        "                <이름>홍길동</이름>\n",
        "                ...\n",
        "            </정보>\n",
        "    \n",
        "        PML\n",
        "        -----\n",
        "            <?xml version=1.0>\n",
        "            <정보>\n",
        "                <고유번호>LC100</고유번호>\n",
        "                <이름>캠코더</이름>\n",
        "                ...\n",
        "            </정보>\n",
        "    \n",
        "        OML\n",
        "        -----\n",
        "            <?xml version=1.0>\n",
        "            <주문정보 xmlns:고객=\"http://www.a.com/2017/Custom\"\n",
        "                xmlns:상품=\"http://www.a.com/2017/Product\"\n",
        "                xmlns=\"http://www.a.com/2017/Order\">\n",
        "                <주문번호>1</주문번호>\n",
        "                <주문수량>10</주문수량>\n",
        "                <결제>\n",
        "                    <방법>현금</방법>\n",
        "                    <금액>10000000</금액>\n",
        "                </결제>\n",
        "    \n",
        "                <고객:고유번호>111111-1111111</고객:고유번호>\n",
        "                <고객:이름>홍길동</고객:이름>\n",
        "    \n",
        "                <상품:고유번호>LC100</상품:고유번호>\n",
        "                <상품:이름>캠코더</상품:이름>\n",
        "                ...\n",
        "            </주문정보>"
      ]
    },
    {
      "cell_type": "code",
      "metadata": {
        "id": "Hp-No58nK8yU"
      },
      "source": [
        ""
      ],
      "execution_count": null,
      "outputs": []
    },
    {
      "cell_type": "code",
      "metadata": {
        "id": "-H5idZiUK8v_"
      },
      "source": [
        ""
      ],
      "execution_count": null,
      "outputs": []
    },
    {
      "cell_type": "code",
      "metadata": {
        "id": "_br0y4aEK8ti"
      },
      "source": [
        ""
      ],
      "execution_count": null,
      "outputs": []
    },
    {
      "cell_type": "code",
      "metadata": {
        "id": "sX5rjVq-K8o8"
      },
      "source": [
        ""
      ],
      "execution_count": null,
      "outputs": []
    },
    {
      "cell_type": "code",
      "metadata": {
        "id": "NuWe3AdEK8mr"
      },
      "source": [
        ""
      ],
      "execution_count": null,
      "outputs": []
    },
    {
      "cell_type": "code",
      "metadata": {
        "id": "Nuflzh6bK8kY"
      },
      "source": [
        ""
      ],
      "execution_count": null,
      "outputs": []
    }
  ]
}