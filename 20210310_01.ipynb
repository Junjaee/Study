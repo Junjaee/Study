{
  "nbformat": 4,
  "nbformat_minor": 0,
  "metadata": {
    "colab": {
      "name": "20210310_01.ipynb",
      "provenance": [],
      "collapsed_sections": []
    },
    "kernelspec": {
      "name": "python3",
      "display_name": "Python 3"
    }
  },
  "cells": [
    {
      "cell_type": "markdown",
      "metadata": {
        "id": "4zF6nis_wsL8"
      },
      "source": [
        "# **트리의 앙상블**"
      ]
    },
    {
      "cell_type": "markdown",
      "metadata": {
        "id": "uvcWiv4dwrMI"
      },
      "source": [
        "### **랜덤포레스트**"
      ]
    },
    {
      "cell_type": "code",
      "metadata": {
        "id": "LBEV-8nswrgW"
      },
      "source": [
        "import numpy as np\r\n",
        "import pandas as pd\r\n",
        "from sklearn.model_selection import train_test_split\r\n",
        "\r\n",
        "wine = pd.read_csv('https://bit.ly/wine_csv_data')\r\n",
        "\r\n",
        "data = wine[['alcohol', 'sugar', 'pH']].to_numpy()\r\n",
        "target = wine['class'].to_numpy()\r\n",
        "\r\n",
        "train_input, test_input, train_target, test_target = train_test_split(data, target, test_size=0.2, random_state=42)"
      ],
      "execution_count": null,
      "outputs": []
    },
    {
      "cell_type": "code",
      "metadata": {
        "id": "udirWH3Vwriy"
      },
      "source": [
        "from sklearn.model_selection import cross_validate\r\n",
        "from sklearn.ensemble import RandomForestClassifier\r\n",
        "\r\n",
        "rf = RandomForestClassifier(n_jobs=-1, random_state=42)\r\n",
        "scores = cross_validate(rf, train_input, train_target, return_train_score=True, n_jobs=-1)\r\n",
        "\r\n",
        "print(np.mean(scores['train_score']), np.mean(scores['test_score']))"
      ],
      "execution_count": null,
      "outputs": []
    },
    {
      "cell_type": "code",
      "metadata": {
        "id": "z_CQ-BSQwrld"
      },
      "source": [
        "rf.fit(train_input, train_target)\r\n",
        "print(rf.feature_importances_)"
      ],
      "execution_count": null,
      "outputs": []
    },
    {
      "cell_type": "code",
      "metadata": {
        "id": "0Am3GNFBwrni"
      },
      "source": [
        "rf = RandomForestClassifier(oob_score=True, n_jobs=-1, random_state=42)\r\n",
        "\r\n",
        "rf.fit(train_input, train_target)\r\n",
        "print(rf.oob_score_)"
      ],
      "execution_count": null,
      "outputs": []
    },
    {
      "cell_type": "markdown",
      "metadata": {
        "id": "17zJUAwLDBvE"
      },
      "source": [
        "### **엑스트라트리**"
      ]
    },
    {
      "cell_type": "code",
      "metadata": {
        "id": "PL5jYSIHwrpw"
      },
      "source": [
        "from sklearn.ensemble import ExtraTreesClassifier\r\n",
        "\r\n",
        "et = ExtraTreesClassifier(n_jobs=-1, random_state=42)\r\n",
        "scores = cross_validate(et, train_input, train_target, return_train_score=True, n_jobs=-1)\r\n",
        "\r\n",
        "print(np.mean(scores['train_score']), np.mean(scores['test_score']))"
      ],
      "execution_count": null,
      "outputs": []
    },
    {
      "cell_type": "code",
      "metadata": {
        "id": "Yq0ppGeawrr8"
      },
      "source": [
        "et.fit(train_input, train_target)\r\n",
        "print(et.feature_importances_)"
      ],
      "execution_count": null,
      "outputs": []
    },
    {
      "cell_type": "markdown",
      "metadata": {
        "id": "H__8i1VTDFZL"
      },
      "source": [
        "### **그레이디언트 부스팅**"
      ]
    },
    {
      "cell_type": "code",
      "metadata": {
        "id": "qBV4Mwq6wruR"
      },
      "source": [
        "from sklearn.ensemble import GradientBoostingClassifier\r\n",
        "\r\n",
        "gb = GradientBoostingClassifier(random_state=42)\r\n",
        "scores = cross_validate(gb, train_input, train_target, return_train_score=True, n_jobs=-1)\r\n",
        "\r\n",
        "print(np.mean(scores['train_score']), np.mean(scores['test_score']))"
      ],
      "execution_count": null,
      "outputs": []
    },
    {
      "cell_type": "code",
      "metadata": {
        "id": "fspfkY9swrwV"
      },
      "source": [
        "gb = GradientBoostingClassifier(n_estimators=500, learning_rate=0.2, random_state=42)\r\n",
        "scores = cross_validate(gb, train_input, train_target, return_train_score=True, n_jobs=-1)\r\n",
        "\r\n",
        "print(np.mean(scores['train_score']), np.mean(scores['test_score']))"
      ],
      "execution_count": null,
      "outputs": []
    },
    {
      "cell_type": "code",
      "metadata": {
        "id": "l6gF7e56wryc"
      },
      "source": [
        "gb.fit(train_input, train_target)\r\n",
        "print(gb.feature_importances_)"
      ],
      "execution_count": null,
      "outputs": []
    },
    {
      "cell_type": "markdown",
      "metadata": {
        "id": "csuIrSYLDKwp"
      },
      "source": [
        "### **히스토그램 기반 부스팅**"
      ]
    },
    {
      "cell_type": "code",
      "metadata": {
        "id": "OX8q3lxKwr0l"
      },
      "source": [
        "from sklearn.experimental import enable_hist_gradient_boosting\r\n",
        "from sklearn.ensemble import HistGradientBoostingClassifier\r\n",
        "\r\n",
        "hgb = HistGradientBoostingClassifier(random_state=42)\r\n",
        "scores = cross_validate(hgb, train_input, train_target, return_train_score=True, n_jobs=-1)\r\n",
        "\r\n",
        "print(np.mean(scores['train_score']), np.mean(scores['test_score']))"
      ],
      "execution_count": null,
      "outputs": []
    },
    {
      "cell_type": "code",
      "metadata": {
        "id": "2ynMLBIuDMOF"
      },
      "source": [
        "from sklearn.inspection import permutation_importance\r\n",
        "\r\n",
        "hgb.fit(train_input, train_target)\r\n",
        "result = permutation_importance(hgb, train_input, train_target, n_repeats=10,\r\n",
        "                                random_state=42, n_jobs=-1)\r\n",
        "print(result.importances_mean)"
      ],
      "execution_count": null,
      "outputs": []
    },
    {
      "cell_type": "code",
      "metadata": {
        "id": "aCFrCmlRDMRL"
      },
      "source": [
        "result = permutation_importance(hgb, test_input, test_target, n_repeats=10,\r\n",
        "                                random_state=42, n_jobs=-1)\r\n",
        "print(result.importances_mean)"
      ],
      "execution_count": null,
      "outputs": []
    },
    {
      "cell_type": "code",
      "metadata": {
        "id": "qY6lEiCoDPuI"
      },
      "source": [
        "hgb.score(test_input, test_target)"
      ],
      "execution_count": null,
      "outputs": []
    },
    {
      "cell_type": "markdown",
      "metadata": {
        "id": "fvOHDUloDQtD"
      },
      "source": [
        "**XGBoost**"
      ]
    },
    {
      "cell_type": "code",
      "metadata": {
        "id": "Du0e8v-_DSip"
      },
      "source": [
        "from xgboost import XGBClassifier\r\n",
        "\r\n",
        "xgb = XGBClassifier(tree_method='hist', random_state=42)\r\n",
        "scores = cross_validate(xgb, train_input, train_target, return_train_score=True, n_jobs=-1)\r\n",
        "\r\n",
        "print(np.mean(scores['train_score']), np.mean(scores['test_score']))"
      ],
      "execution_count": null,
      "outputs": []
    },
    {
      "cell_type": "markdown",
      "metadata": {
        "id": "aPxUitwvDUdK"
      },
      "source": [
        "**LightGBM**"
      ]
    },
    {
      "cell_type": "code",
      "metadata": {
        "id": "qFgwh0QADVlm"
      },
      "source": [
        "from lightgbm import LGBMClassifier\r\n",
        "\r\n",
        "lgb = LGBMClassifier(random_state=42)\r\n",
        "scores = cross_validate(lgb, train_input, train_target, return_train_score=True, n_jobs=-1)\r\n",
        "\r\n",
        "print(np.mean(scores['train_score']), np.mean(scores['test_score']))"
      ],
      "execution_count": null,
      "outputs": []
    }
  ]
}