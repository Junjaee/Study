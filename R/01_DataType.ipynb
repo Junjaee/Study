{
  "nbformat": 4,
  "nbformat_minor": 0,
  "metadata": {
    "colab": {
      "name": "01_DataType.ipynb",
      "provenance": [],
      "collapsed_sections": [],
      "authorship_tag": "ABX9TyOsj+Mgd1uOl3C3tbnF6l2T",
      "include_colab_link": true
    },
    "kernelspec": {
      "name": "python3",
      "display_name": "Python 3"
    },
    "language_info": {
      "name": "python"
    }
  },
  "cells": [
    {
      "cell_type": "markdown",
      "metadata": {
        "id": "view-in-github",
        "colab_type": "text"
      },
      "source": [
        "<a href=\"https://colab.research.google.com/github/Junjaee/Study/blob/main/R/01_DataType.ipynb\" target=\"_parent\"><img src=\"https://colab.research.google.com/assets/colab-badge.svg\" alt=\"Open In Colab\"/></a>"
      ]
    },
    {
      "cell_type": "markdown",
      "metadata": {
        "id": "zuUd4aFg7K8-"
      },
      "source": [
        "## * 배열(Array)\n",
        "    1) 같은 형식끼리 묶어준다\n",
        "    2) 크기가 정해져 있다\n",
        "    3) 삽입, 삭제가 불편\n",
        "\n",
        "## * 데이터 타입 관련 기본 함수\n",
        "    1) is.xxx() : xxx가 맞는지 확인해줌\n",
        "    2) as.xxx() : xxx타입으로 바꿔줌\n",
        "\n",
        "## 0. 데이터 타입\n",
        "\n",
        "    (1) 스칼라(0차원)\n",
        "      - 숫자(Numeric), 문자열(Character), 불린(boolean), 팩터(factor) 결측치(NA, NaN, null, Inf) \n",
        "    (2) 벡터(Vector, 1차원) : 기본 데이터 타입\n",
        "    (3) 행렬(Matrix, 2차원)\n",
        "    (4) DataFrame(2차원) : 배열은 아니다(다른 형식이어도 묶을 수 있다)\n",
        "    (5) Array(3차원 이상)\n",
        "    (6) List(3차원 이상)"
      ]
    },
    {
      "cell_type": "code",
      "metadata": {
        "id": "cmF-8iVz62SN"
      },
      "source": [
        "#### 변수 ####\n",
        "\n",
        "goods = \"냉장고\"\n",
        "\n",
        "# 변수 사용 시 객체 형태로 사용하는 것을 권장\n",
        "goods.name = \"냉장고\"\n",
        "goods.code = \"ref001\"\n",
        "goods.price = 600000\n",
        "\n",
        "goods.name\n",
        "\n",
        "# 값을 대입할때에는 \"=\" 보다는 \"<-\" 사용\n",
        "goods.name <- \"냉장고\"\n",
        "goods.code <- \"ref001\"\n",
        "goods.price <- 600000\n",
        "\n",
        "# 데이터 타입 확인\n",
        "class(goods.name)\n",
        "class(goods.price)\n",
        "mode(goods.name)\n",
        "mode(goods.price)"
      ],
      "execution_count": null,
      "outputs": []
    },
    {
      "cell_type": "markdown",
      "metadata": {
        "id": "xIc930v97sJk"
      },
      "source": [
        "## 1. Vector\n",
        "    (1) 기본 자료 구조\n",
        "    (2) 1차원 배열\n",
        "    (3) 인덱스 접근\n",
        "    (4) 동일한 자료형만 저장\n",
        "    (5) c() : combine의 약자, seq(), rep(), ..."
      ]
    },
    {
      "cell_type": "code",
      "metadata": {
        "id": "bK61kFEW64lp"
      },
      "source": [
        "#### Vector ####\n",
        "\n",
        "# c()\n",
        "v <- c(1, 2, 3, 4, 5)\n",
        "v\n",
        "class(v)\n",
        "mode(v)\n",
        "\n",
        "(v <- c(1, 2, 3, 4, 5)) # 출력까지 바로 가능\n",
        "\n",
        "(c(1:5))\n",
        "mode(c(1:5))\n",
        "(c(1, 2, 3, 4, \"5\")) # 형식이 서로 다르기 때문에 chr형으로 일괄 저장한다\n",
        "class(c(1, 2, 3, 4, \"5\"))\n",
        "\n",
        "# seq()\n",
        "?seq\n",
        "(seq(from = 1, to = 10, by = 2))\n",
        "(seq(1, 10, 2))\n",
        "\n",
        "# rep() : 반복\n",
        "rep(1:3, 3)\n",
        "\n",
        "# 벡터의 접근\n",
        "v <- c(1:50)\n",
        "v[10:45]\n",
        "length(v)\n",
        "\n",
        "v[10 : (length(v)-5)]\n",
        "v[10 : length(v)-5]\n",
        "\n",
        "v1 <- c(13, -5, 20:23, 12, -2:3)\n",
        "v1\n",
        "\n",
        "v1[1]\n",
        "v1[c(2, 4)]\n",
        "v1[c(4, 5:8, 7)]\n",
        "v1[-1] # 첫번째를 제거\n",
        "v1[-2] # 두번째를 제거\n",
        "v1[c(-2, -4)]\n",
        "v1[-c(2, 4)]\n",
        "\n",
        "# 집합 연산\n",
        "x <- c(1, 3, 5, 7)\n",
        "y <- c(3, 5)\n",
        "\n",
        "union(x, y) # 합집합\n",
        "setdiff(x, y) # 차집합\n",
        "intersect(x, y) # 교집합\n",
        "\n",
        "# 컬럼명 지정\n",
        "age <- c(30, 35, 40)\n",
        "names(age) <- c(\"홍길동\", \"임꺽정\", \"신돌석\")\n",
        "\n",
        "age\n",
        "\n",
        "# 특정 변수의 데이터 제거\n",
        "age <- NULL\n",
        "age\n",
        "\n",
        "# 벡터 생성의 또 다른 표현\n",
        "x <- c(2, 3)\n",
        "x <- (2:3)\n",
        "x"
      ],
      "execution_count": null,
      "outputs": []
    },
    {
      "cell_type": "markdown",
      "metadata": {
        "id": "oY9YH1EE7wuE"
      },
      "source": [
        "## 2. Factor\n",
        "    (1) 범주형 데이터\n",
        "      1) 명목형(Norminal)\n",
        "      2) 순서형(Ordinal)\n",
        "      \n",
        "    (2) 상대적으로 수치형 데이터(이산형, 연속형)가 있다"
      ]
    },
    {
      "cell_type": "code",
      "metadata": {
        "id": "SeG3J9Ce68EY"
      },
      "source": [
        "#### Factor ####\n",
        "\n",
        "gender <- c(\"man\", \"woman\", \"woman\", \"man\", \"man\")\n",
        "gender\n",
        "class(gender)\n",
        "mode(gender)\n",
        "\n",
        "is.factor(gender)\n",
        "is.vector(gender)\n",
        "plot(gender)\n",
        "\n",
        "ngender <- as.factor(gender)\n",
        "ngender\n",
        "class(ngender)\n",
        "mode(ngender) # class와 mode가 다르게 나타난다. mode의 종류는 숫자형(numeric), 문자형(character), 리스트(list), 함수(function)\n",
        "is.factor(ngender)\n",
        "plot(ngender)\n",
        "table(ngender)\n",
        "\n",
        "?factor\n",
        "gfactor <- factor(gender, levels = c(\"woman\", \"man\"), ordered = TRUE)\n",
        "gfactor\n",
        "plot(gfactor)"
      ],
      "execution_count": null,
      "outputs": []
    },
    {
      "cell_type": "markdown",
      "metadata": {
        "id": "ZubKYPOK70uu"
      },
      "source": [
        "## 3. Matrix\n",
        "    (1) 행과 열의 2차원 배열\n",
        "    (2) 동일한 데이터 타입만 저장 가능\n",
        "    (3) matrix(), rbind(), cbind(), ..."
      ]
    },
    {
      "cell_type": "code",
      "metadata": {
        "id": "6bF-S8Hp7AQy"
      },
      "source": [
        "#### Matrix ####\n",
        "\n",
        "m <- matrix((1:5))\n",
        "m\n",
        "\n",
        "m <- matrix(c(1:10), nrow = 2) # 행의 개수를 2개로 설정\n",
        "m\n",
        "?matrix\n",
        "\n",
        "m <- matrix(c(1:11), nrow = 2) # 첫번째 값인 1이 11과 다시 짝을 맞춰 열을 구성한다(rotation)\n",
        "m\n",
        "\n",
        "m <- matrix(c(1:10), nrow = 2, byrow = T) # 행을 기준으로 배열, default는 열로 배열\n",
        "m\n",
        "\n",
        "class(m)\n",
        "mode(m)\n",
        "\n",
        "# rbind(), cbind()\n",
        "x1 <- c(3, 4, 50:52)\n",
        "x2 <- c(30, 5, 6:8, 7, 8)\n",
        "x1\n",
        "x2\n",
        "\n",
        "mr <- rbind(x1, x2) # x2의 부족한 짝을 x1이 rotation\n",
        "mr\n",
        "\n",
        "mc <- cbind(x1, x2)\n",
        "mc\n",
        "\n",
        "# matrix 차수 확인\n",
        "x <- matrix(c(1:9), ncol = 3)\n",
        "x\n",
        "\n",
        "length(x); nrow(x); ncol(x); dim(x) # dim() = dimension = 차원\n",
        "\n",
        "# 컬럼명 지정\n",
        "colnames(x) <- c(\"one\", \"two\", \"three\")\n",
        "x\n",
        "colnames(x)\n",
        "\n",
        "# apply()\n",
        "?apply\n",
        "apply(x, 1, max) # 가운데 Margin 값은 행 or 열 중 어느 것을 기준으로 호출할지 선택\n",
        "apply(x, 2, max)\n",
        "apply(x, 1, sum)\n",
        "apply(x, 2, sum)"
      ],
      "execution_count": null,
      "outputs": []
    },
    {
      "cell_type": "markdown",
      "metadata": {
        "id": "P0iZqZJ-731h"
      },
      "source": [
        "## 4. data.frame\n",
        "    (1) DB의 table과 유사\n",
        "    (2) R에서 가장 많이 사용되는 구조\n",
        "    (3) 컬럼 단위로 서로 다른 데이터 타입 사용가능\n",
        "    (4) data.frame(), read.csv(), read.delim(), read.table(), ...."
      ]
    },
    {
      "cell_type": "code",
      "metadata": {
        "id": "KAJPGPTZ6rRo"
      },
      "source": [
        "#### data.frame ####\n",
        "\n",
        "no <- c(1, 2, 3)\n",
        "name <- c('hong', 'lee', 'kim')\n",
        "pay <- c(150.25, 250.18, 300.34)\n",
        "\n",
        "emp <- data.frame(No = no, Name = name, Payment = pay)\n",
        "emp\n",
        "\n",
        "# read.csv(), read.table(), read.delim()\n",
        "getwd()\n",
        "\n",
        "txtemp <- read.table(\"../data/emp.txt\")\n",
        "txtemp\n",
        "\n",
        "setwd(\"../data\") # 자주 사용하는 폴더로 바꿔주기\n",
        "getwd()\n",
        "\n",
        "txtemp <- read.table(\"emp.txt\")\n",
        "txtemp\n",
        "\n",
        "txtemp <- read.table(\"emp.txt\", header = T, sep = \" \")\n",
        "txtemp\n",
        "class(txtemp)\n",
        "\n",
        "csvemp <- read.csv(\"emp.csv\")\n",
        "csvemp\n",
        "\n",
        "csvemp1 <- read.csv(\"emp.csv\", col.name = c(\"사번\", \"이름\", \"급여\")) # 제목을 바꿔서 불러오기\n",
        "csvemp1\n",
        "\n",
        "csvemp2 <- read.csv(\"emp2.csv\") # csv는 제목이 없을경우 첫번째 행을 제목으로 처리한다\n",
        "csvemp2\n",
        "csvemp2 <- read.csv(\"emp2.csv\", header = F) # 첫째행이 제목이 아닌 것으로 설정한다\n",
        "csvemp2\n",
        "\n",
        "csvemp2 <- read.csv(\"emp.csv\", col.name = c(\"사번\", \"이름\", \"급여\"))\n",
        "csvemp2"
      ],
      "execution_count": null,
      "outputs": []
    }
  ]
}