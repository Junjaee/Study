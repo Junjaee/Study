{
  "nbformat": 4,
  "nbformat_minor": 0,
  "metadata": {
    "colab": {
      "name": "파이썬 시험_20210413.ipynb",
      "provenance": [],
      "collapsed_sections": [],
      "authorship_tag": "ABX9TyOHMdLSVhLVl28d6r9aGjpG",
      "include_colab_link": true
    },
    "kernelspec": {
      "name": "python3",
      "display_name": "Python 3"
    },
    "language_info": {
      "name": "python"
    }
  },
  "cells": [
    {
      "cell_type": "markdown",
      "metadata": {
        "id": "view-in-github",
        "colab_type": "text"
      },
      "source": [
        "<a href=\"https://colab.research.google.com/github/Junjaee/Study/blob/main/Python/%ED%8C%8C%EC%9D%B4%EC%8D%AC_%EC%8B%9C%ED%97%98_20210413.ipynb\" target=\"_parent\"><img src=\"https://colab.research.google.com/assets/colab-badge.svg\" alt=\"Open In Colab\"/></a>"
      ]
    },
    {
      "cell_type": "code",
      "metadata": {
        "colab": {
          "base_uri": "https://localhost:8080/"
        },
        "id": "7mBBNrzLJFIv",
        "outputId": "dca49e1c-9cfa-4eb1-d649-7862ccff26a3"
      },
      "source": [
        "# 3\n",
        "\n",
        "print(\"\\\"\\\\n은 엔터키 기능이다.\\\"\")"
      ],
      "execution_count": 76,
      "outputs": [
        {
          "output_type": "stream",
          "text": [
            "\"\\n은 엔터키 기능이다.\"\n"
          ],
          "name": "stdout"
        }
      ]
    },
    {
      "cell_type": "code",
      "metadata": {
        "colab": {
          "base_uri": "https://localhost:8080/"
        },
        "id": "3jxQtX35JRH2",
        "outputId": "1f741897-ce92-4d58-d41f-76ddff7a537b"
      },
      "source": [
        "# 4\n",
        "\n",
        "a = \"Life is too short, You need python\"\n",
        "\n",
        "print(\"결과 : \")\n",
        "print(a[0:5])\n",
        "print(a[8:12])\n",
        "print(a[8:])\n",
        "print(a[31:33])\n"
      ],
      "execution_count": 77,
      "outputs": [
        {
          "output_type": "stream",
          "text": [
            "결과 : \n",
            "Life \n",
            "too \n",
            "too short, You need python\n",
            "ho\n"
          ],
          "name": "stdout"
        }
      ]
    },
    {
      "cell_type": "code",
      "metadata": {
        "colab": {
          "base_uri": "https://localhost:8080/"
        },
        "id": "GzHnlS67KbE1",
        "outputId": "364b9212-f70c-4fe4-a14d-2b7a01645dc0"
      },
      "source": [
        "# 5\n",
        "\n",
        "data = {\"name\" : \"홍길동\", \"phone\" : \"111-1111\", \"age\" : 25}\n",
        "data[\"address\"] = \"서울시 강남구\"\n",
        "print(data)"
      ],
      "execution_count": 75,
      "outputs": [
        {
          "output_type": "stream",
          "text": [
            "{'name': '홍길동', 'phone': '111-1111', 'age': 25, 'address': '서울시 강남구'}\n"
          ],
          "name": "stdout"
        }
      ]
    },
    {
      "cell_type": "code",
      "metadata": {
        "colab": {
          "base_uri": "https://localhost:8080/"
        },
        "id": "Wx2AzoDzK60r",
        "outputId": "90ea284d-1911-4b0e-9b94-23cf6f238249"
      },
      "source": [
        "# 6\n",
        "\n",
        "data = [1, 2, 3, 2, 4, 6, 3, 2]\n",
        "b = set(data)\n",
        "data = list(b)\n",
        "print(data)"
      ],
      "execution_count": 74,
      "outputs": [
        {
          "output_type": "stream",
          "text": [
            "[1, 2, 3, 4, 6]\n"
          ],
          "name": "stdout"
        }
      ]
    },
    {
      "cell_type": "code",
      "metadata": {
        "colab": {
          "base_uri": "https://localhost:8080/"
        },
        "id": "r70vf0XWL7mi",
        "outputId": "955fdfe8-183b-41af-8d76-eee40bd6408a"
      },
      "source": [
        "# 7\n",
        "\n",
        "print(\"동전 교환 프로그램\\n==================\")\n",
        "\n",
        "coin = int(input(\"교환할 돈은 얼마입니까? \"))\n",
        "\n",
        "a = coin//500\n",
        "a1 = coin%500\n",
        "\n",
        "b = a1//100\n",
        "b1 = a1%100\n",
        "\n",
        "c = b1//50\n",
        "c1 = b1%50\n",
        "\n",
        "d = c1//10\n",
        "\n",
        "e = c1%10\n",
        "\n",
        "print(\"\\n결과 : \", \"\\n오백원짜리 ===> {}개\\n백원짜리 ===> {}개\\n오십원짜리 ===> {}개\\n십원짜리 ===> {}개\\n나머지 바꾸지 못한 잔돈 ===> {}원\".format(a,b,c,d,e))\n"
      ],
      "execution_count": 64,
      "outputs": [
        {
          "output_type": "stream",
          "text": [
            "동전 교환 프로그램\n",
            "==================\n",
            "교환할 돈은 얼마입니까? 2763\n",
            "\n",
            "결과 :  \n",
            "오백원짜리 ===> 5개\n",
            "백원짜리 ===> 2개\n",
            "오십원짜리 ===> 1개\n",
            "십원짜리 ===> 1개\n",
            "나머지 바꾸지 못한 잔돈 ===> 3원\n"
          ],
          "name": "stdout"
        }
      ]
    },
    {
      "cell_type": "code",
      "metadata": {
        "colab": {
          "base_uri": "https://localhost:8080/"
        },
        "id": "_CN2gWmtMEaL",
        "outputId": "1e885a59-1029-4fc9-f330-8ad7f5560a84"
      },
      "source": [
        "# 8\n",
        "\n",
        "odd = 0\n",
        "even = 0\n",
        "cnt = 1\n",
        "while True:\n",
        "  num = int(input(\"숫자를 입력해 주세요(0을 입력하면 종료) : \"))\n",
        "  \n",
        "  if num == 0:\n",
        "    print(\"=======================\")\n",
        "    print(\"홀수의 합 : {}\".format(odd))\n",
        "    print(\"짝수의 합 : {}\".format(even))\n",
        "    break\n",
        "  print(\"숫자{} : {}\".format(cnt, num))\n",
        "  if num%2 == 1:\n",
        "    odd += num\n",
        "  elif num%2 == 0:\n",
        "    even += num\n",
        "  cnt += 1"
      ],
      "execution_count": 22,
      "outputs": [
        {
          "output_type": "stream",
          "text": [
            "숫자를 입력해 주세요(0을 입력하면 종료) : 1\n",
            "숫자1 : 1\n",
            "숫자를 입력해 주세요(0을 입력하면 종료) : 2\n",
            "숫자2 : 2\n",
            "숫자를 입력해 주세요(0을 입력하면 종료) : 3\n",
            "숫자3 : 3\n",
            "숫자를 입력해 주세요(0을 입력하면 종료) : 4\n",
            "숫자4 : 4\n",
            "숫자를 입력해 주세요(0을 입력하면 종료) : 5\n",
            "숫자5 : 5\n",
            "숫자를 입력해 주세요(0을 입력하면 종료) : 6\n",
            "숫자6 : 6\n",
            "숫자를 입력해 주세요(0을 입력하면 종료) : 0\n",
            "=======================\n",
            "홀수의 합 : 9\n",
            "짝수의 합 : 12\n"
          ],
          "name": "stdout"
        }
      ]
    },
    {
      "cell_type": "code",
      "metadata": {
        "colab": {
          "base_uri": "https://localhost:8080/"
        },
        "id": "MJbs-IjdMum5",
        "outputId": "16ed3652-32b6-4e35-8a35-1f522aece03b"
      },
      "source": [
        "# 9\n",
        "\n",
        "def test(num):\n",
        "  try:\n",
        "    a = 10/num\n",
        "    print(a)\n",
        "  except ZeroDivisionError:\n",
        "    print(\"0으로 나누면 안됩니다\")\n",
        "    return\n",
        "\n",
        "test(1)\n",
        "test(2)\n",
        "test(0)\n",
        "\n"
      ],
      "execution_count": 66,
      "outputs": [
        {
          "output_type": "stream",
          "text": [
            "10.0\n",
            "5.0\n",
            "0으로 나누면 안됩니다\n"
          ],
          "name": "stdout"
        }
      ]
    },
    {
      "cell_type": "code",
      "metadata": {
        "colab": {
          "base_uri": "https://localhost:8080/"
        },
        "id": "FptRKoMfNnT3",
        "outputId": "e1f69cee-1c1f-4151-a761-15055414e040"
      },
      "source": [
        "# 10\n",
        "\n",
        "print(\"여기는 커피 전문점입니다.\")\n",
        "print(\"커피는 아메리카노만 팔아요.\")\n",
        "print(\"가격은 3000원 입니다.\")\n",
        "print(\"오늘 커피 남은 양은 3잔입니다\")\n",
        "print(\"1회 주문 시 1잔 씩만 판매합니다\")\n",
        "print(\"==\" * 10)\n",
        "print()\n",
        "\n",
        "coffee = 3\n",
        "\n",
        "while True:\n",
        "  money = int(input(\"지불할 금액 : \"))  \n",
        "  if money < 3000:\n",
        "    print(\"금액이 부족합니다\")\n",
        "    print(\"남은 커피의 양은 {}잔입니다.\\n\".format(coffee))\n",
        "  \n",
        "  elif money >= 3000:\n",
        "    coffee -= 1\n",
        "    if money != 3000:\n",
        "      print(\"거스름 돈은 {}원\".format(money - 3000))\n",
        "    print(\"커피 맛있게 드세요\")\n",
        "    print(\"남은 커피의 양은 {}잔입니다\\n\".format(coffee))\n",
        "\n",
        "  if coffee == 0:\n",
        "    print(\"커피가 없어요~~. 장사 끝!!!\")\n",
        "    break\n",
        "  \n"
      ],
      "execution_count": 67,
      "outputs": [
        {
          "output_type": "stream",
          "text": [
            "여기는 커피 전문점입니다.\n",
            "커피는 아메리카노만 팔아요.\n",
            "가격은 3000원 입니다.\n",
            "오늘 커피 남은 양은 3잔입니다\n",
            "1회 주문 시 1잔 씩만 판매합니다\n",
            "====================\n",
            "\n",
            "지불할 금액 : 1000\n",
            "금액이 부족합니다\n",
            "남은 커피의 양은 3잔입니다.\n",
            "\n",
            "지불할 금액 : 5000\n",
            "거스름 돈은 2000원\n",
            "커피 맛있게 드세요\n",
            "남은 커피의 양은 2잔입니다\n",
            "\n",
            "지불할 금액 : 3000\n",
            "커피 맛있게 드세요\n",
            "남은 커피의 양은 1잔입니다\n",
            "\n",
            "지불할 금액 : 3000\n",
            "커피 맛있게 드세요\n",
            "남은 커피의 양은 0잔입니다\n",
            "\n",
            "커피가 없어요~~. 장사 끝!!!\n"
          ],
          "name": "stdout"
        }
      ]
    },
    {
      "cell_type": "code",
      "metadata": {
        "colab": {
          "base_uri": "https://localhost:8080/"
        },
        "id": "KzSUesyENni9",
        "outputId": "fbb8a8cb-0e93-4bf4-d24c-7dcf982bbff9"
      },
      "source": [
        "# 11\n",
        "\n",
        "class Employee:\n",
        "    num = int()\n",
        "    name = str()\n",
        "    salary = int()\n",
        "    hobby = []\n",
        "    cnt = 0\n",
        "    \n",
        "    def __init__(self,num,name,salary,hobby):\n",
        "        Employee.cnt += 1\n",
        "        \n",
        "        self.num = num\n",
        "        self.name = name\n",
        "        self.salary = salary\n",
        "        self.hobby = hobby\n",
        "    \n",
        "    \n",
        "    @classmethod\n",
        "    def getCount(cls):\n",
        "        print(\"총 인원수 : \",Employee.cnt)\n",
        "        print()\n",
        "\n",
        "    def setSalary(self,salary):\n",
        "        self.salary = salary\n",
        "    \n",
        "    def appendHobbies(self,hobby):\n",
        "        self.hobby += (hobby)\n",
        "        \n",
        "    def display(self):\n",
        "        print(\"결과 : \")\n",
        "        print(\"사번 :\",self.num)\n",
        "        print(\"이름 :\",self.name)\n",
        "        print(\"급여 :\",self.salary)\n",
        "        print(\"취미 :\", \", \".join(self.hobby))\n",
        "        print()\n",
        "\n",
        "\n",
        "\n",
        "e1 = Employee(1111, \"홍길동\", 1000000, [\"여행\", \"낚시\", \"운동\"])\n",
        "e1.display()\n",
        "\n",
        "e2 = Employee(1112, \"임꺽정\", 1200000, [\"자전거\", \"볼링\"])\n",
        "e3 = Employee(1113, \"신돌석\", 1000000, [\"독서\"])\n",
        "\n",
        "total = Employee.getCount()\n",
        "\n",
        "# 세번째 사람(신돌석)의 정보 수정\n",
        "e3.setSalary(2500000)\n",
        "e3.appendHobbies([\"피아노\", \"드론\"])\n",
        "e3.display()\n"
      ],
      "execution_count": 73,
      "outputs": [
        {
          "output_type": "stream",
          "text": [
            "결과 : \n",
            "사번 : 1111\n",
            "이름 : 홍길동\n",
            "급여 : 1000000\n",
            "취미 : 여행, 낚시, 운동\n",
            "\n",
            "총 인원수 :  3\n",
            "\n",
            "결과 : \n",
            "사번 : 1113\n",
            "이름 : 신돌석\n",
            "급여 : 2500000\n",
            "취미 : 독서, 피아노, 드론\n",
            "\n"
          ],
          "name": "stdout"
        }
      ]
    }
  ]
}