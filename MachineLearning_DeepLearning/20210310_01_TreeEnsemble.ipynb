{
  "nbformat": 4,
  "nbformat_minor": 0,
  "metadata": {
    "colab": {
      "name": "20210310_01.ipynb",
      "provenance": [],
      "collapsed_sections": []
    },
    "kernelspec": {
      "name": "python3",
      "display_name": "Python 3"
    }
  },
  "cells": [
    {
      "cell_type": "markdown",
      "metadata": {
        "id": "4zF6nis_wsL8"
      },
      "source": [
        "# **트리의 앙상블**"
      ]
    },
    {
      "cell_type": "markdown",
      "metadata": {
        "id": "uvcWiv4dwrMI"
      },
      "source": [
        "### **랜덤포레스트**"
      ]
    },
    {
      "cell_type": "code",
      "metadata": {
        "id": "LBEV-8nswrgW"
      },
      "source": [
        "import numpy as np\r\n",
        "import pandas as pd\r\n",
        "from sklearn.model_selection import train_test_split\r\n",
        "\r\n",
        "wine = pd.read_csv('https://bit.ly/wine_csv_data')\r\n",
        "\r\n",
        "data = wine[['alcohol', 'sugar', 'pH']].to_numpy()\r\n",
        "target = wine['class'].to_numpy()\r\n",
        "\r\n",
        "train_input, test_input, train_target, test_target = train_test_split(data, target, test_size=0.2, random_state=42)"
      ],
      "execution_count": 1,
      "outputs": []
    },
    {
      "cell_type": "code",
      "metadata": {
        "colab": {
          "base_uri": "https://localhost:8080/"
        },
        "id": "udirWH3Vwriy",
        "outputId": "77c96bdf-7a05-475b-f73f-9771ccc620ea"
      },
      "source": [
        "from sklearn.model_selection import cross_validate\r\n",
        "from sklearn.ensemble import RandomForestClassifier\r\n",
        "\r\n",
        "rf = RandomForestClassifier(n_jobs=-1, random_state=42)\r\n",
        "scores = cross_validate(rf, train_input, train_target, return_train_score=True, n_jobs=-1)\r\n",
        "\r\n",
        "print(np.mean(scores['train_score']), np.mean(scores['test_score']))"
      ],
      "execution_count": 2,
      "outputs": [
        {
          "output_type": "stream",
          "text": [
            "0.9973541965122431 0.8905151032797809\n"
          ],
          "name": "stdout"
        }
      ]
    },
    {
      "cell_type": "code",
      "metadata": {
        "colab": {
          "base_uri": "https://localhost:8080/"
        },
        "id": "z_CQ-BSQwrld",
        "outputId": "85629b5f-4cd9-43d7-ac44-e914235283cd"
      },
      "source": [
        "rf.fit(train_input, train_target)\r\n",
        "print(rf.feature_importances_)"
      ],
      "execution_count": 3,
      "outputs": [
        {
          "output_type": "stream",
          "text": [
            "[0.23167441 0.50039841 0.26792718]\n"
          ],
          "name": "stdout"
        }
      ]
    },
    {
      "cell_type": "code",
      "metadata": {
        "colab": {
          "base_uri": "https://localhost:8080/"
        },
        "id": "0Am3GNFBwrni",
        "outputId": "07af1528-ee62-4650-d13e-666d41a3aed9"
      },
      "source": [
        "rf = RandomForestClassifier(oob_score=True, n_jobs=-1, random_state=42)\r\n",
        "\r\n",
        "rf.fit(train_input, train_target)\r\n",
        "print(rf.oob_score_)"
      ],
      "execution_count": 4,
      "outputs": [
        {
          "output_type": "stream",
          "text": [
            "0.8934000384837406\n"
          ],
          "name": "stdout"
        }
      ]
    },
    {
      "cell_type": "markdown",
      "metadata": {
        "id": "17zJUAwLDBvE"
      },
      "source": [
        "### **엑스트라트리**"
      ]
    },
    {
      "cell_type": "code",
      "metadata": {
        "colab": {
          "base_uri": "https://localhost:8080/"
        },
        "id": "PL5jYSIHwrpw",
        "outputId": "cf6d6280-342f-41eb-cbf6-7a49e81b6d54"
      },
      "source": [
        "from sklearn.ensemble import ExtraTreesClassifier\r\n",
        "\r\n",
        "et = ExtraTreesClassifier(n_jobs=-1, random_state=42)\r\n",
        "scores = cross_validate(et, train_input, train_target, return_train_score=True, n_jobs=-1)\r\n",
        "\r\n",
        "print(np.mean(scores['train_score']), np.mean(scores['test_score']))"
      ],
      "execution_count": 5,
      "outputs": [
        {
          "output_type": "stream",
          "text": [
            "0.9974503966084433 0.8887848893166506\n"
          ],
          "name": "stdout"
        }
      ]
    },
    {
      "cell_type": "code",
      "metadata": {
        "colab": {
          "base_uri": "https://localhost:8080/"
        },
        "id": "Yq0ppGeawrr8",
        "outputId": "67e8e7f7-1ac6-45f4-cb16-c9f467bbbe31"
      },
      "source": [
        "et.fit(train_input, train_target)\r\n",
        "print(et.feature_importances_)"
      ],
      "execution_count": 6,
      "outputs": [
        {
          "output_type": "stream",
          "text": [
            "[0.20183568 0.52242907 0.27573525]\n"
          ],
          "name": "stdout"
        }
      ]
    },
    {
      "cell_type": "markdown",
      "metadata": {
        "id": "H__8i1VTDFZL"
      },
      "source": [
        "### **그레이디언트 부스팅**"
      ]
    },
    {
      "cell_type": "code",
      "metadata": {
        "colab": {
          "base_uri": "https://localhost:8080/"
        },
        "id": "qBV4Mwq6wruR",
        "outputId": "6c995866-e919-48e4-bdb1-a61f0c45229c"
      },
      "source": [
        "from sklearn.ensemble import GradientBoostingClassifier\r\n",
        "\r\n",
        "gb = GradientBoostingClassifier(random_state=42)\r\n",
        "scores = cross_validate(gb, train_input, train_target, return_train_score=True, n_jobs=-1)\r\n",
        "\r\n",
        "print(np.mean(scores['train_score']), np.mean(scores['test_score']))"
      ],
      "execution_count": 7,
      "outputs": [
        {
          "output_type": "stream",
          "text": [
            "0.8881086892152563 0.8720430147331015\n"
          ],
          "name": "stdout"
        }
      ]
    },
    {
      "cell_type": "code",
      "metadata": {
        "colab": {
          "base_uri": "https://localhost:8080/"
        },
        "id": "fspfkY9swrwV",
        "outputId": "1d69ecd8-f006-41a1-c449-7294f8e04099"
      },
      "source": [
        "gb = GradientBoostingClassifier(n_estimators=500, learning_rate=0.2, random_state=42)\r\n",
        "scores = cross_validate(gb, train_input, train_target, return_train_score=True, n_jobs=-1)\r\n",
        "\r\n",
        "print(np.mean(scores['train_score']), np.mean(scores['test_score']))"
      ],
      "execution_count": 8,
      "outputs": [
        {
          "output_type": "stream",
          "text": [
            "0.9464595437171814 0.8780082549788999\n"
          ],
          "name": "stdout"
        }
      ]
    },
    {
      "cell_type": "code",
      "metadata": {
        "colab": {
          "base_uri": "https://localhost:8080/"
        },
        "id": "l6gF7e56wryc",
        "outputId": "9a647662-dab5-4d60-b449-2f98912c2001"
      },
      "source": [
        "gb.fit(train_input, train_target)\r\n",
        "print(gb.feature_importances_)"
      ],
      "execution_count": 9,
      "outputs": [
        {
          "output_type": "stream",
          "text": [
            "[0.15872278 0.68010884 0.16116839]\n"
          ],
          "name": "stdout"
        }
      ]
    },
    {
      "cell_type": "markdown",
      "metadata": {
        "id": "csuIrSYLDKwp"
      },
      "source": [
        "### **히스토그램 기반 부스팅**"
      ]
    },
    {
      "cell_type": "code",
      "metadata": {
        "colab": {
          "base_uri": "https://localhost:8080/"
        },
        "id": "OX8q3lxKwr0l",
        "outputId": "3be61982-53ac-4283-f191-04b75aae451e"
      },
      "source": [
        "from sklearn.experimental import enable_hist_gradient_boosting\r\n",
        "from sklearn.ensemble import HistGradientBoostingClassifier\r\n",
        "\r\n",
        "hgb = HistGradientBoostingClassifier(random_state=42)\r\n",
        "scores = cross_validate(hgb, train_input, train_target, return_train_score=True, n_jobs=-1)\r\n",
        "\r\n",
        "print(np.mean(scores['train_score']), np.mean(scores['test_score']))"
      ],
      "execution_count": 10,
      "outputs": [
        {
          "output_type": "stream",
          "text": [
            "0.9321723946453317 0.8801241948619236\n"
          ],
          "name": "stdout"
        }
      ]
    },
    {
      "cell_type": "code",
      "metadata": {
        "colab": {
          "base_uri": "https://localhost:8080/"
        },
        "id": "2ynMLBIuDMOF",
        "outputId": "ed299adc-95f0-4c3f-ae9e-078230dae59a"
      },
      "source": [
        "from sklearn.inspection import permutation_importance\r\n",
        "\r\n",
        "hgb.fit(train_input, train_target)\r\n",
        "result = permutation_importance(hgb, train_input, train_target, n_repeats=10,\r\n",
        "                                random_state=42, n_jobs=-1)\r\n",
        "print(result.importances_mean)"
      ],
      "execution_count": 11,
      "outputs": [
        {
          "output_type": "stream",
          "text": [
            "[0.08876275 0.23438522 0.08027708]\n"
          ],
          "name": "stdout"
        }
      ]
    },
    {
      "cell_type": "code",
      "metadata": {
        "colab": {
          "base_uri": "https://localhost:8080/"
        },
        "id": "aCFrCmlRDMRL",
        "outputId": "c07351d3-e134-43fa-8128-a99a6dcd4139"
      },
      "source": [
        "result = permutation_importance(hgb, test_input, test_target, n_repeats=10,\r\n",
        "                                random_state=42, n_jobs=-1)\r\n",
        "print(result.importances_mean)"
      ],
      "execution_count": 12,
      "outputs": [
        {
          "output_type": "stream",
          "text": [
            "[0.05969231 0.20238462 0.049     ]\n"
          ],
          "name": "stdout"
        }
      ]
    },
    {
      "cell_type": "code",
      "metadata": {
        "colab": {
          "base_uri": "https://localhost:8080/"
        },
        "id": "qY6lEiCoDPuI",
        "outputId": "89b93fbe-4614-434a-fd70-e62de7036ca4"
      },
      "source": [
        "hgb.score(test_input, test_target)"
      ],
      "execution_count": 13,
      "outputs": [
        {
          "output_type": "execute_result",
          "data": {
            "text/plain": [
              "0.8723076923076923"
            ]
          },
          "metadata": {
            "tags": []
          },
          "execution_count": 13
        }
      ]
    },
    {
      "cell_type": "markdown",
      "metadata": {
        "id": "fvOHDUloDQtD"
      },
      "source": [
        "**XGBoost**"
      ]
    },
    {
      "cell_type": "code",
      "metadata": {
        "colab": {
          "base_uri": "https://localhost:8080/"
        },
        "id": "Du0e8v-_DSip",
        "outputId": "4f25859a-703a-4cff-e1f4-f1eeb6f868c5"
      },
      "source": [
        "from xgboost import XGBClassifier\r\n",
        "\r\n",
        "xgb = XGBClassifier(tree_method='hist', random_state=42)\r\n",
        "scores = cross_validate(xgb, train_input, train_target, return_train_score=True, n_jobs=-1)\r\n",
        "\r\n",
        "print(np.mean(scores['train_score']), np.mean(scores['test_score']))"
      ],
      "execution_count": 14,
      "outputs": [
        {
          "output_type": "stream",
          "text": [
            "0.8824322471423747 0.8726214185237284\n"
          ],
          "name": "stdout"
        }
      ]
    },
    {
      "cell_type": "markdown",
      "metadata": {
        "id": "aPxUitwvDUdK"
      },
      "source": [
        "**LightGBM**"
      ]
    },
    {
      "cell_type": "code",
      "metadata": {
        "colab": {
          "base_uri": "https://localhost:8080/"
        },
        "id": "qFgwh0QADVlm",
        "outputId": "ccbb656c-4470-4458-d544-d31baee0d9f6"
      },
      "source": [
        "from lightgbm import LGBMClassifier\r\n",
        "\r\n",
        "lgb = LGBMClassifier(random_state=42)\r\n",
        "scores = cross_validate(lgb, train_input, train_target, return_train_score=True, n_jobs=-1)\r\n",
        "\r\n",
        "print(np.mean(scores['train_score']), np.mean(scores['test_score']))"
      ],
      "execution_count": 15,
      "outputs": [
        {
          "output_type": "stream",
          "text": [
            "0.9338079582727165 0.8789710890649293\n"
          ],
          "name": "stdout"
        }
      ]
    }
  ]
}
