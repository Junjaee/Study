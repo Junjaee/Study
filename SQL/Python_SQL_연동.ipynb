{
  "nbformat": 4,
  "nbformat_minor": 0,
  "metadata": {
    "colab": {
      "name": "Python_SQL_연동.ipynb",
      "provenance": [],
      "collapsed_sections": [],
      "authorship_tag": "ABX9TyMzKTvCng8Qz7KHlzejm8sH",
      "include_colab_link": true
    },
    "kernelspec": {
      "name": "python3",
      "display_name": "Python 3"
    },
    "language_info": {
      "name": "python"
    }
  },
  "cells": [
    {
      "cell_type": "markdown",
      "metadata": {
        "id": "view-in-github",
        "colab_type": "text"
      },
      "source": [
        "<a href=\"https://colab.research.google.com/github/Junjaee/Study/blob/main/SQL/Python_SQL_%EC%97%B0%EB%8F%99.ipynb\" target=\"_parent\"><img src=\"https://colab.research.google.com/assets/colab-badge.svg\" alt=\"Open In Colab\"/></a>"
      ]
    },
    {
      "cell_type": "markdown",
      "metadata": {
        "id": "j7-DmNTNTMdK"
      },
      "source": [
        "\n",
        "\n",
        "## 1. 파이썬과 MySQL 활용\n",
        "\n",
        "- 파이썬과 MySQL을 연결해주는 모듈 : mysqlclient, PyMySQL\n",
        "  - pip install mysqlclient\n",
        "  - pip install PyMySQL\n",
        "\n"
      ]
    },
    {
      "cell_type": "code",
      "metadata": {
        "colab": {
          "base_uri": "https://localhost:8080/"
        },
        "id": "T6UdwPArSudb",
        "outputId": "6e6043c0-610b-4b34-9bcd-82f8b5d9cd3f"
      },
      "source": [
        "pip install mysqlclient"
      ],
      "execution_count": 12,
      "outputs": [
        {
          "output_type": "stream",
          "text": [
            "Requirement already satisfied: mysqlclient in /usr/local/lib/python3.7/dist-packages (2.0.3)\n"
          ],
          "name": "stdout"
        }
      ]
    },
    {
      "cell_type": "code",
      "metadata": {
        "colab": {
          "base_uri": "https://localhost:8080/"
        },
        "id": "LzLkKsFdT6xB",
        "outputId": "03a05274-22dc-4dc7-94ed-00708a774efb"
      },
      "source": [
        "pip install PyMySQL"
      ],
      "execution_count": 3,
      "outputs": [
        {
          "output_type": "stream",
          "text": [
            "Collecting PyMySQL\n",
            "\u001b[?25l  Downloading https://files.pythonhosted.org/packages/4f/52/a115fe175028b058df353c5a3d5290b71514a83f67078a6482cff24d6137/PyMySQL-1.0.2-py3-none-any.whl (43kB)\n",
            "\r\u001b[K     |███████▌                        | 10kB 13.6MB/s eta 0:00:01\r\u001b[K     |███████████████                 | 20kB 14.0MB/s eta 0:00:01\r\u001b[K     |██████████████████████▍         | 30kB 7.5MB/s eta 0:00:01\r\u001b[K     |██████████████████████████████  | 40kB 3.6MB/s eta 0:00:01\r\u001b[K     |████████████████████████████████| 51kB 2.6MB/s \n",
            "\u001b[?25hInstalling collected packages: PyMySQL\n",
            "Successfully installed PyMySQL-1.0.2\n"
          ],
          "name": "stdout"
        }
      ]
    },
    {
      "cell_type": "code",
      "metadata": {
        "id": "mGg4xMb9UT_E"
      },
      "source": [
        "# mysqlclient 모듈 사용\n",
        "\n",
        "import MySQLdb\n",
        "\n",
        "conn = MySQLdb.connect(host = \"127.0.0.1\", user = \"root\", password = \"1111\", database = \"world\")\n",
        "print(conn)\n",
        "conn.close()"
      ],
      "execution_count": null,
      "outputs": []
    },
    {
      "cell_type": "code",
      "metadata": {
        "id": "cLOZODfcVMPy"
      },
      "source": [
        "# pymysql 모듈 사용\n",
        "\n",
        "import pymysql\n",
        "\n",
        "conn = pymysql.connect(host = \"127.0.0.1\", user = \"root\", password = \"1111\", database = \"world\")\n",
        "print(conn)\n",
        "conn.close()"
      ],
      "execution_count": null,
      "outputs": []
    },
    {
      "cell_type": "code",
      "metadata": {
        "id": "EwlGFA2yYEy6"
      },
      "source": [
        "# mysqlclient 모듈을 사용해서 계속 실습하기\n",
        "\n",
        "config = {\"host\" : \"127.0.0.1\", \"user\" : \"root\", \"password\" : \"1111\", \"database\" : \"world\"}"
      ],
      "execution_count": null,
      "outputs": []
    },
    {
      "cell_type": "markdown",
      "metadata": {
        "id": "wWMVr788tejQ"
      },
      "source": [
        "### (1) SELECT"
      ]
    },
    {
      "cell_type": "code",
      "metadata": {
        "id": "s247icPOte3y"
      },
      "source": [
        "conn = MySQLdb.connect(**config)\n",
        "\n",
        "sql = 'select * from city limit 10'\n",
        "\n",
        "cur = conn.cursor()\n",
        "cur.execute(sql)\n",
        "\n",
        "# print(cur)\n",
        "# for data in cur:\n",
        "#     print(data)\n",
        "#     print(\"%d %s %s %s %d\"% data)\n",
        "\n",
        "# for a,b,c,d,e in cur:\n",
        "#     print(a,b,c,d,e)\n",
        "\n",
        "\n",
        "result = list()\n",
        "for data in cur:\n",
        "    result.append(data)\n",
        "       \n",
        "# result = list(data for data in cur)    \n",
        "    \n",
        "conn.close()\n",
        "\n",
        "print(result)"
      ],
      "execution_count": null,
      "outputs": []
    },
    {
      "cell_type": "markdown",
      "metadata": {
        "id": "NeigjMATyWNu"
      },
      "source": [
        "### (2) INSERT"
      ]
    },
    {
      "cell_type": "code",
      "metadata": {
        "id": "cWCIYVxOyV2V"
      },
      "source": [
        "conn = MySQLdb.connect(**config)\n",
        "\n",
        "sql = \"create table if not exists tbltest(empno int, ename varchar(10), sal int, job varchar(10))\"\n",
        "# if not exists -> 테이블 중복 생성시 오류 방지\n",
        "\n",
        "cur = conn.cursor()\n",
        "cur.execute(sql)\n",
        "\n",
        "sql = \"insert into tbltest(empno, ename, sal) values(1, 'scott', 5000)\"\n",
        "cur.execute(sql)\n",
        "conn.commit()\n",
        "\n",
        "conn.close()"
      ],
      "execution_count": null,
      "outputs": []
    },
    {
      "cell_type": "code",
      "metadata": {
        "id": "EapmeqZaQ6Fc"
      },
      "source": [
        "empno = 2\n",
        "ename = 'miller'\n",
        "sal = 1300\n",
        "\n",
        "conn = MySQLdb.connect(**config)\n",
        "cur = conn.cursor()\n",
        "\n",
        "sql = \"insert into tbltest(empno, ename, sal) values(\" + str(empno) + \", '\" + ename + \"', \" + str(sal) + \")\"\n",
        "# miller 에 따옴표를 해주어야 문자로 인식한다\n",
        "print(sql)\n",
        "cur.execute(sql)\n",
        "conn.commit()\n",
        "\n",
        "conn.close()"
      ],
      "execution_count": null,
      "outputs": []
    },
    {
      "cell_type": "code",
      "metadata": {
        "id": "wOu_DEK3Q8tp"
      },
      "source": [
        "empno = 3\n",
        "ename = 'tom'\n",
        "sal = 2000\n",
        "\n",
        "conn = MySQLdb.connect(**config)\n",
        "cur = conn.cursor()\n",
        "\n",
        "sql = \"insert into tbltest(empno, ename, sal) values(%s, %s, %s)\"\n",
        "sql_data = (str(empno), ename, str(sal))\n",
        "\n",
        "cur.execute(sql, sql_data)\n",
        "conn.commit()\n",
        "\n",
        "conn.close()\n",
        "# close를 안하면 서버에 부하가 가해진다"
      ],
      "execution_count": null,
      "outputs": []
    },
    {
      "cell_type": "code",
      "metadata": {
        "id": "5cYSLZxmQ-Uf"
      },
      "source": [
        "try : \n",
        "    conn = MySQLdb.connect(**config)\n",
        "    cur = conn.cursor()\n",
        "    \n",
        "    empno = 4\n",
        "    ename = 'jerry'\n",
        "    sal = 2000\n",
        "    \n",
        "    sql = \"insert into tbltest(empno, ename, sal) values(%s, %s, %s)\"\n",
        "    sql_data = (str(empno), ename, str(sal))\n",
        "\n",
        "    cur.execute(sql, sql_data)\n",
        "    conn.commit()\n",
        "except Exception as e:\n",
        "    print(\"error : \", e)\n",
        "finally:\n",
        "    conn.close()"
      ],
      "execution_count": null,
      "outputs": []
    },
    {
      "cell_type": "code",
      "metadata": {
        "id": "Ac3WcfaRQ_lB"
      },
      "source": [
        "# 데이터 여러 개 입력하기\n",
        "\n",
        "conn = MySQLdb.connect(**config)\n",
        "cur = conn.cursor()\n",
        "\n",
        "for i in range(10):\n",
        "    sql = \"insert into tbltest(empno, ename, sal) values(5, 'jane', 10000)\"\n",
        "    cur.execute(sql)\n",
        "    conn.commit()\n",
        "    \n",
        "conn.close()"
      ],
      "execution_count": null,
      "outputs": []
    },
    {
      "cell_type": "markdown",
      "metadata": {
        "id": "VGrK5gboQ5Th"
      },
      "source": [
        "### (3) cursor 객체의 fetchall(), fetchmany(), fetchone()\n",
        "- default는 fetchall()"
      ]
    },
    {
      "cell_type": "code",
      "metadata": {
        "id": "Z_edamk2Q46I"
      },
      "source": [
        "try:\n",
        "    conn = MySQLdb.connect(**config)\n",
        "    cur = conn.cursor()\n",
        "    \n",
        "    cur.execute(\"select * from tbltest\")\n",
        "    \n",
        "#     for i in cur.fetchall(10):\n",
        "#         print(i)\n",
        "        \n",
        "#     for i in cur.fetchmany(5):\n",
        "#         print(i)\n",
        "        \n",
        "    print(cur.fetchone())\n",
        "    # fetchmany(1)보다 성능적으로 더 좋다\n",
        "    \n",
        "    \n",
        "finally:\n",
        "    conn.close()"
      ],
      "execution_count": null,
      "outputs": []
    },
    {
      "cell_type": "markdown",
      "metadata": {
        "id": "FXe9Q9vuREfH"
      },
      "source": [
        "### (4) DictCursor\n",
        "\n",
        "- 필드명을 인덱스 대신 키로 사용"
      ]
    },
    {
      "cell_type": "code",
      "metadata": {
        "id": "V4uV2rYWQ43q"
      },
      "source": [
        "try:\n",
        "    conn = MySQLdb.connect(**config)\n",
        "    cur = conn.cursor(MySQLdb.cursors.DictCursor)\n",
        "    \n",
        "    cur.execute(\"select * from tbltest\")\n",
        "    \n",
        "    for i in cur.fetchall():\n",
        "        print(i[\"empno\"], i[\"ename\"], i[\"sal\"])\n",
        "\n",
        "        \n",
        "finally:\n",
        "    conn.close()"
      ],
      "execution_count": null,
      "outputs": []
    },
    {
      "cell_type": "markdown",
      "metadata": {
        "id": "5JVHLxncRHmo"
      },
      "source": [
        "### (5) 응용 실습1 : CSV파일을 DB에 저장"
      ]
    },
    {
      "cell_type": "code",
      "metadata": {
        "id": "BgBhZIYiQ41G"
      },
      "source": [
        "'''\n",
        "CREATE TABLE IF NOT EXISTS suppliers(\n",
        "    Supplier_Name    varchar(20),\n",
        "    Invoice_Number   varchar(20),\n",
        "    Part_Number      varchar(20),\n",
        "    Cost             float,\n",
        "    Purchase_Date    date\n",
        ");\n",
        "'''"
      ],
      "execution_count": null,
      "outputs": []
    },
    {
      "cell_type": "code",
      "metadata": {
        "id": "2l_B7AHxRJQn"
      },
      "source": [
        "import csv\n",
        "\n",
        "file = csv.reader(open(\"D:\\Coding\\Acorn\\SQL\\응용 실습용 CSV파일.csv\"))\n",
        "print(file)\n",
        "\n",
        "# print(next(file))\n",
        "\n",
        "header = next(file)\n",
        "\n",
        "try:\n",
        "    conn = MySQLdb.connect(**config)\n",
        "    cur = conn.cursor()\n",
        "    \n",
        "    cur.execute(\"delete from suppliers\")\n",
        "    conn.commit()\n",
        "    #이미 테이블에 등록되어 있는 데이터들 전부 삭제하기\n",
        "    \n",
        "    for row in file:\n",
        "#         print(row)\n",
        "        cur.execute(\"insert into suppliers values(%s, %s, %s, %s, %s)\", row)\n",
        "    conn.commit()\n",
        "        \n",
        "finally:\n",
        "    conn.close()"
      ],
      "execution_count": null,
      "outputs": []
    }
  ]
}