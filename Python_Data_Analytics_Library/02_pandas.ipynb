{
  "nbformat": 4,
  "nbformat_minor": 0,
  "metadata": {
    "colab": {
      "name": "02_pandas.ipynb",
      "provenance": [],
      "collapsed_sections": [],
      "authorship_tag": "ABX9TyO/G7OaWOxrGqhM32LJiU8R",
      "include_colab_link": true
    },
    "kernelspec": {
      "name": "python3",
      "display_name": "Python 3"
    },
    "language_info": {
      "name": "python"
    }
  },
  "cells": [
    {
      "cell_type": "markdown",
      "metadata": {
        "id": "view-in-github",
        "colab_type": "text"
      },
      "source": [
        "<a href=\"https://colab.research.google.com/github/Junjaee/Study/blob/main/Python_Data_Analytics_Library/02_pandas.ipynb\" target=\"_parent\"><img src=\"https://colab.research.google.com/assets/colab-badge.svg\" alt=\"Open In Colab\"/></a>"
      ]
    },
    {
      "cell_type": "markdown",
      "metadata": {
        "id": "ZnzjqEOMc46a"
      },
      "source": [
        "## PANDAS에서 제공하는 대표적인 자료구조\n",
        "\n",
        "- 1) Series\n",
        "  - 값 + index\n",
        "- 2) DataFrame\n",
        "  - 여러 개의 Series를 묶어놓은 형태\n",
        "- 3) https://pandas.pydata.org\n",
        "  "
      ]
    },
    {
      "cell_type": "code",
      "metadata": {
        "id": "r1BJAxH3hMjC"
      },
      "source": [
        "import pandas as pd\n",
        "import numpy as np"
      ],
      "execution_count": 2,
      "outputs": []
    },
    {
      "cell_type": "markdown",
      "metadata": {
        "id": "EI0LSdLceAL_"
      },
      "source": [
        "### 1. Series "
      ]
    },
    {
      "cell_type": "code",
      "metadata": {
        "colab": {
          "base_uri": "https://localhost:8080/"
        },
        "id": "rOM6AsyBca0w",
        "outputId": "0f784290-23bd-44dc-b690-9faff90f2503"
      },
      "source": [
        "s = pd.Series([9904312, 34487377, 2890451, 2466052])\n",
        "print(s)\n",
        "print(type(s))"
      ],
      "execution_count": 4,
      "outputs": [
        {
          "output_type": "stream",
          "text": [
            "0     9904312\n",
            "1    34487377\n",
            "2     2890451\n",
            "3     2466052\n",
            "dtype: int64\n",
            "<class 'pandas.core.series.Series'>\n"
          ],
          "name": "stdout"
        }
      ]
    },
    {
      "cell_type": "code",
      "metadata": {
        "colab": {
          "base_uri": "https://localhost:8080/"
        },
        "id": "yICnkDLuiTh4",
        "outputId": "84fed43e-b4a7-402e-d3cf-7a8cd04079c2"
      },
      "source": [
        "for i in enumerate([9904312, 34487377, 2890451, 2466052]):\n",
        "  print(i)"
      ],
      "execution_count": 5,
      "outputs": [
        {
          "output_type": "stream",
          "text": [
            "(0, 9904312)\n",
            "(1, 34487377)\n",
            "(2, 2890451)\n",
            "(3, 2466052)\n"
          ],
          "name": "stdout"
        }
      ]
    },
    {
      "cell_type": "code",
      "metadata": {
        "colab": {
          "base_uri": "https://localhost:8080/"
        },
        "id": "vZnp05Soj-N6",
        "outputId": "76033525-0ab3-4820-f43a-c9c04ddaee64"
      },
      "source": [
        "#### 인덱스를 자유롭게 지정\n",
        "\n",
        "s = pd.Series([9904312, 3448737, 2890451, 2466052], index = [\"서울\", \"부산\", \"인천\", \"대구\"])\n",
        "print(s)\n",
        "\n",
        "print(\"=====================================\")\n",
        "\n",
        "print(s.values)\n",
        "print(s.index)\n",
        "\n",
        "print(\"=====================================\")\n",
        "\n",
        "# 인덱스에 이름 지정\n",
        "s.index.name = \"도시\"\n",
        "print(s)\n",
        "\n",
        "print(\"=====================================\")\n",
        "\n",
        "# Series 전체에 이름 지정\n",
        "s.name = \"인구\"\n",
        "print(s)"
      ],
      "execution_count": 25,
      "outputs": [
        {
          "output_type": "stream",
          "text": [
            "서울    9904312\n",
            "부산    3448737\n",
            "인천    2890451\n",
            "대구    2466052\n",
            "dtype: int64\n",
            "=====================================\n",
            "[9904312 3448737 2890451 2466052]\n",
            "Index(['서울', '부산', '인천', '대구'], dtype='object')\n",
            "=====================================\n",
            "도시\n",
            "서울    9904312\n",
            "부산    3448737\n",
            "인천    2890451\n",
            "대구    2466052\n",
            "dtype: int64\n",
            "=====================================\n",
            "도시\n",
            "서울    9904312\n",
            "부산    3448737\n",
            "인천    2890451\n",
            "대구    2466052\n",
            "Name: 인구, dtype: int64\n"
          ],
          "name": "stdout"
        }
      ]
    },
    {
      "cell_type": "markdown",
      "metadata": {
        "id": "uNN-lEMGmtaZ"
      },
      "source": [
        ""
      ]
    },
    {
      "cell_type": "code",
      "metadata": {
        "id": "tJ1xJBHFiTfa"
      },
      "source": [
        "#### 벡터화 연산\n",
        "\n",
        "s1 = s / 1000000"
      ],
      "execution_count": 10,
      "outputs": []
    },
    {
      "cell_type": "code",
      "metadata": {
        "colab": {
          "base_uri": "https://localhost:8080/"
        },
        "id": "icwlJh8nnVg4",
        "outputId": "283dd3ac-2743-4c9e-d039-1b7cb4c37cc3"
      },
      "source": [
        "#### 인덱싱\n",
        "\n",
        "print(s[1], s[\"부산\"])\n",
        "\n",
        "print(\"=====================================\")\n",
        "\n",
        "print(s[[0, 3, 1]], s[[\"서울\", \"대구\", \"부산\"]])\n",
        "\n",
        "print(\"=====================================\")\n",
        "\n",
        "print(s[(s>250e4) & (s<500e4)])\n",
        "\n",
        "print(\"=====================================\")\n",
        "\n",
        "print(s[1:3])\n",
        "print(s[\"부산\" : \"대구\"])"
      ],
      "execution_count": 26,
      "outputs": [
        {
          "output_type": "stream",
          "text": [
            "3448737 3448737\n",
            "=====================================\n",
            "도시\n",
            "서울    9904312\n",
            "대구    2466052\n",
            "부산    3448737\n",
            "Name: 인구, dtype: int64 도시\n",
            "서울    9904312\n",
            "대구    2466052\n",
            "부산    3448737\n",
            "Name: 인구, dtype: int64\n",
            "=====================================\n",
            "도시\n",
            "부산    3448737\n",
            "인천    2890451\n",
            "Name: 인구, dtype: int64\n",
            "=====================================\n",
            "도시\n",
            "부산    3448737\n",
            "인천    2890451\n",
            "Name: 인구, dtype: int64\n",
            "도시\n",
            "부산    3448737\n",
            "인천    2890451\n",
            "대구    2466052\n",
            "Name: 인구, dtype: int64\n"
          ],
          "name": "stdout"
        }
      ]
    },
    {
      "cell_type": "code",
      "metadata": {
        "colab": {
          "base_uri": "https://localhost:8080/"
        },
        "id": "lC03EsG3iTco",
        "outputId": "a060d46b-7fc3-400d-c212-f1fc0f1e2393"
      },
      "source": [
        "#### Series와 dict\n",
        "\n",
        "print(\"서울\" in s)\n",
        "print(\"대전\" in s)\n",
        "\n",
        "print(\"=====================================\")\n",
        "\n",
        "print(list(s.items()))\n",
        "for k, v in s.items():\n",
        "  print(\"%s = %d\"%(k, v))\n",
        "  \n",
        "print(\"=====================================\")\n",
        "\n",
        "s2 = pd.Series({\"서울\" : 9631482, \"부산\" : 3448737, \"인천\" : 2632035, \"대전\" : 1490158})\n",
        "print(s2)"
      ],
      "execution_count": 28,
      "outputs": [
        {
          "output_type": "stream",
          "text": [
            "True\n",
            "False\n",
            "=====================================\n",
            "[('서울', 9904312), ('부산', 3448737), ('인천', 2890451), ('대구', 2466052)]\n",
            "서울 = 9904312\n",
            "부산 = 3448737\n",
            "인천 = 2890451\n",
            "대구 = 2466052\n",
            "=====================================\n",
            "서울    9631482\n",
            "부산    3448737\n",
            "인천    2632035\n",
            "대전    1490158\n",
            "dtype: int64\n"
          ],
          "name": "stdout"
        }
      ]
    },
    {
      "cell_type": "code",
      "metadata": {
        "colab": {
          "base_uri": "https://localhost:8080/"
        },
        "id": "EfLKe6KBv04H",
        "outputId": "39e5d79a-cbcf-4990-dd29-f3cdc65ddbd7"
      },
      "source": [
        "#### 인덱스 기반 연산\n",
        "print(s)\n",
        "\n",
        "print(\"=====================================\")\n",
        "\n",
        "print(s2)\n",
        "\n",
        "print(\"=====================================\")\n",
        "\n",
        "result = s - s2\n",
        "print(s - s2)\n",
        "\n",
        "print(\"=====================================\")\n",
        "\n",
        "print(s.values - s2.values)"
      ],
      "execution_count": 32,
      "outputs": [
        {
          "output_type": "stream",
          "text": [
            "도시\n",
            "서울    9904312\n",
            "부산    3448737\n",
            "인천    2890451\n",
            "대구    2466052\n",
            "Name: 인구, dtype: int64\n",
            "=====================================\n",
            "서울    9631482\n",
            "부산    3448737\n",
            "인천    2632035\n",
            "대전    1490158\n",
            "dtype: int64\n",
            "=====================================\n",
            "대구         NaN\n",
            "대전         NaN\n",
            "부산         0.0\n",
            "서울    272830.0\n",
            "인천    258416.0\n",
            "dtype: float64\n",
            "=====================================\n",
            "[272830      0 258416 975894]\n"
          ],
          "name": "stdout"
        }
      ]
    },
    {
      "cell_type": "code",
      "metadata": {
        "colab": {
          "base_uri": "https://localhost:8080/"
        },
        "id": "xUPFqNcIiTWT",
        "outputId": "75100265-5388-478e-ef0b-d6d5ca02c3a7"
      },
      "source": [
        "#### 결측치 제거\n",
        "\n",
        "print(result)\n",
        "print(result.notnull())\n",
        "print(result[result.notnull()])\n",
        "\n",
        "print(\"=====================================\")\n",
        "\n",
        "# s와 s2 데이터를 이용해서 인구 증가율 : (끝 연도 - 시작연도) / 시작연도 * 100\n",
        "\n",
        "result2 = ((s2-s)/s*100)[((s2-s)/s*100).notnull()]\n",
        "\n",
        "print((s2-s)/s*100)\n",
        "\n",
        "print(((s2-s)/s*100)[((s2-s)/s*100).notnull()])"
      ],
      "execution_count": 43,
      "outputs": [
        {
          "output_type": "stream",
          "text": [
            "대구         NaN\n",
            "대전         NaN\n",
            "부산         0.0\n",
            "서울    272830.0\n",
            "인천    258416.0\n",
            "dtype: float64\n",
            "대구    False\n",
            "대전    False\n",
            "부산     True\n",
            "서울     True\n",
            "인천     True\n",
            "dtype: bool\n",
            "부산         0.0\n",
            "서울    272830.0\n",
            "인천    258416.0\n",
            "dtype: float64\n",
            "=====================================\n",
            "대구         NaN\n",
            "대전         NaN\n",
            "부산    0.000000\n",
            "서울   -2.754659\n",
            "인천   -8.940335\n",
            "dtype: float64\n",
            "부산    0.000000\n",
            "서울   -2.754659\n",
            "인천   -8.940335\n",
            "dtype: float64\n"
          ],
          "name": "stdout"
        }
      ]
    },
    {
      "cell_type": "code",
      "metadata": {
        "colab": {
          "base_uri": "https://localhost:8080/"
        },
        "id": "-jUE1xUI011I",
        "outputId": "037ffef0-02b0-41b3-be63-ef629a0c0351"
      },
      "source": [
        "#### 데이터를 수정, 삭제, 갱신\n",
        "\n",
        "result2[\"부산\"] = 1.63\n",
        "print(result2)\n",
        "\n",
        "result2[\"대구\"] = 1.41\n",
        "print(result2)\n",
        "\n",
        "del result2[\"서울\"] # 삭제\n",
        "print(result2)"
      ],
      "execution_count": 45,
      "outputs": [
        {
          "output_type": "stream",
          "text": [
            "부산    1.630000\n",
            "서울   -2.754659\n",
            "인천   -8.940335\n",
            "대구    1.410000\n",
            "dtype: float64\n",
            "부산    1.630000\n",
            "서울   -2.754659\n",
            "인천   -8.940335\n",
            "대구    1.410000\n",
            "dtype: float64\n",
            "부산    1.630000\n",
            "인천   -8.940335\n",
            "대구    1.410000\n",
            "dtype: float64\n"
          ],
          "name": "stdout"
        }
      ]
    },
    {
      "cell_type": "markdown",
      "metadata": {
        "id": "6NbFoPiB2Uc-"
      },
      "source": [
        "### 2. DataFrame"
      ]
    },
    {
      "cell_type": "code",
      "metadata": {
        "id": "Uy3wORP32UtR"
      },
      "source": [
        ""
      ],
      "execution_count": null,
      "outputs": []
    },
    {
      "cell_type": "code",
      "metadata": {
        "id": "xG46RKpj2VRU"
      },
      "source": [
        ""
      ],
      "execution_count": null,
      "outputs": []
    },
    {
      "cell_type": "code",
      "metadata": {
        "id": "g3h_bpsZ2VPM"
      },
      "source": [
        ""
      ],
      "execution_count": null,
      "outputs": []
    },
    {
      "cell_type": "code",
      "metadata": {
        "id": "4fh3XZVE2VMm"
      },
      "source": [
        ""
      ],
      "execution_count": null,
      "outputs": []
    },
    {
      "cell_type": "code",
      "metadata": {
        "id": "TWpuSjsT2VJ7"
      },
      "source": [
        ""
      ],
      "execution_count": null,
      "outputs": []
    },
    {
      "cell_type": "code",
      "metadata": {
        "id": "4o7_eiEu2VA0"
      },
      "source": [
        ""
      ],
      "execution_count": null,
      "outputs": []
    }
  ]
}