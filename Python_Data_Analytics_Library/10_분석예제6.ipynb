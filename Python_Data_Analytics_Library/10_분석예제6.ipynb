{
  "nbformat": 4,
  "nbformat_minor": 0,
  "metadata": {
    "colab": {
      "name": "10_분석예제6.ipynb",
      "provenance": [],
      "collapsed_sections": [],
      "toc_visible": true,
      "authorship_tag": "ABX9TyNRRGe1EPRhtBzZCuKqF8bX",
      "include_colab_link": true
    },
    "kernelspec": {
      "name": "python3",
      "display_name": "Python 3"
    },
    "language_info": {
      "name": "python"
    },
    "widgets": {
      "application/vnd.jupyter.widget-state+json": {
        "f82197aa9df94ed796f3e52c714fef8b": {
          "model_module": "@jupyter-widgets/controls",
          "model_name": "HBoxModel",
          "state": {
            "_view_name": "HBoxView",
            "_dom_classes": [],
            "_model_name": "HBoxModel",
            "_view_module": "@jupyter-widgets/controls",
            "_model_module_version": "1.5.0",
            "_view_count": null,
            "_view_module_version": "1.5.0",
            "box_style": "",
            "layout": "IPY_MODEL_0028df4d362e4df9b8572bc53dc480be",
            "_model_module": "@jupyter-widgets/controls",
            "children": [
              "IPY_MODEL_c19af5dbda334484a2101572911d77bc",
              "IPY_MODEL_49d7700e341e41498883e33dfba5daba"
            ]
          }
        },
        "0028df4d362e4df9b8572bc53dc480be": {
          "model_module": "@jupyter-widgets/base",
          "model_name": "LayoutModel",
          "state": {
            "_view_name": "LayoutView",
            "grid_template_rows": null,
            "right": null,
            "justify_content": null,
            "_view_module": "@jupyter-widgets/base",
            "overflow": null,
            "_model_module_version": "1.2.0",
            "_view_count": null,
            "flex_flow": null,
            "width": null,
            "min_width": null,
            "border": null,
            "align_items": null,
            "bottom": null,
            "_model_module": "@jupyter-widgets/base",
            "top": null,
            "grid_column": null,
            "overflow_y": null,
            "overflow_x": null,
            "grid_auto_flow": null,
            "grid_area": null,
            "grid_template_columns": null,
            "flex": null,
            "_model_name": "LayoutModel",
            "justify_items": null,
            "grid_row": null,
            "max_height": null,
            "align_content": null,
            "visibility": null,
            "align_self": null,
            "height": null,
            "min_height": null,
            "padding": null,
            "grid_auto_rows": null,
            "grid_gap": null,
            "max_width": null,
            "order": null,
            "_view_module_version": "1.2.0",
            "grid_template_areas": null,
            "object_position": null,
            "object_fit": null,
            "grid_auto_columns": null,
            "margin": null,
            "display": null,
            "left": null
          }
        },
        "c19af5dbda334484a2101572911d77bc": {
          "model_module": "@jupyter-widgets/controls",
          "model_name": "FloatProgressModel",
          "state": {
            "_view_name": "ProgressView",
            "style": "IPY_MODEL_125fd72251134be180717b33b5cb557d",
            "_dom_classes": [],
            "description": "100%",
            "_model_name": "FloatProgressModel",
            "bar_style": "success",
            "max": 25,
            "_view_module": "@jupyter-widgets/controls",
            "_model_module_version": "1.5.0",
            "value": 25,
            "_view_count": null,
            "_view_module_version": "1.5.0",
            "orientation": "horizontal",
            "min": 0,
            "description_tooltip": null,
            "_model_module": "@jupyter-widgets/controls",
            "layout": "IPY_MODEL_500c154576a4435cb758352267f35a1c"
          }
        },
        "49d7700e341e41498883e33dfba5daba": {
          "model_module": "@jupyter-widgets/controls",
          "model_name": "HTMLModel",
          "state": {
            "_view_name": "HTMLView",
            "style": "IPY_MODEL_b97161d1f52b48c28c82f5efda8331d6",
            "_dom_classes": [],
            "description": "",
            "_model_name": "HTMLModel",
            "placeholder": "​",
            "_view_module": "@jupyter-widgets/controls",
            "_model_module_version": "1.5.0",
            "value": " 25/25 [05:32&lt;00:00, 13.31s/it]",
            "_view_count": null,
            "_view_module_version": "1.5.0",
            "description_tooltip": null,
            "_model_module": "@jupyter-widgets/controls",
            "layout": "IPY_MODEL_88385de7efc24efe89c07f5eb6936abc"
          }
        },
        "125fd72251134be180717b33b5cb557d": {
          "model_module": "@jupyter-widgets/controls",
          "model_name": "ProgressStyleModel",
          "state": {
            "_view_name": "StyleView",
            "_model_name": "ProgressStyleModel",
            "description_width": "initial",
            "_view_module": "@jupyter-widgets/base",
            "_model_module_version": "1.5.0",
            "_view_count": null,
            "_view_module_version": "1.2.0",
            "bar_color": null,
            "_model_module": "@jupyter-widgets/controls"
          }
        },
        "500c154576a4435cb758352267f35a1c": {
          "model_module": "@jupyter-widgets/base",
          "model_name": "LayoutModel",
          "state": {
            "_view_name": "LayoutView",
            "grid_template_rows": null,
            "right": null,
            "justify_content": null,
            "_view_module": "@jupyter-widgets/base",
            "overflow": null,
            "_model_module_version": "1.2.0",
            "_view_count": null,
            "flex_flow": null,
            "width": null,
            "min_width": null,
            "border": null,
            "align_items": null,
            "bottom": null,
            "_model_module": "@jupyter-widgets/base",
            "top": null,
            "grid_column": null,
            "overflow_y": null,
            "overflow_x": null,
            "grid_auto_flow": null,
            "grid_area": null,
            "grid_template_columns": null,
            "flex": null,
            "_model_name": "LayoutModel",
            "justify_items": null,
            "grid_row": null,
            "max_height": null,
            "align_content": null,
            "visibility": null,
            "align_self": null,
            "height": null,
            "min_height": null,
            "padding": null,
            "grid_auto_rows": null,
            "grid_gap": null,
            "max_width": null,
            "order": null,
            "_view_module_version": "1.2.0",
            "grid_template_areas": null,
            "object_position": null,
            "object_fit": null,
            "grid_auto_columns": null,
            "margin": null,
            "display": null,
            "left": null
          }
        },
        "b97161d1f52b48c28c82f5efda8331d6": {
          "model_module": "@jupyter-widgets/controls",
          "model_name": "DescriptionStyleModel",
          "state": {
            "_view_name": "StyleView",
            "_model_name": "DescriptionStyleModel",
            "description_width": "",
            "_view_module": "@jupyter-widgets/base",
            "_model_module_version": "1.5.0",
            "_view_count": null,
            "_view_module_version": "1.2.0",
            "_model_module": "@jupyter-widgets/controls"
          }
        },
        "88385de7efc24efe89c07f5eb6936abc": {
          "model_module": "@jupyter-widgets/base",
          "model_name": "LayoutModel",
          "state": {
            "_view_name": "LayoutView",
            "grid_template_rows": null,
            "right": null,
            "justify_content": null,
            "_view_module": "@jupyter-widgets/base",
            "overflow": null,
            "_model_module_version": "1.2.0",
            "_view_count": null,
            "flex_flow": null,
            "width": null,
            "min_width": null,
            "border": null,
            "align_items": null,
            "bottom": null,
            "_model_module": "@jupyter-widgets/base",
            "top": null,
            "grid_column": null,
            "overflow_y": null,
            "overflow_x": null,
            "grid_auto_flow": null,
            "grid_area": null,
            "grid_template_columns": null,
            "flex": null,
            "_model_name": "LayoutModel",
            "justify_items": null,
            "grid_row": null,
            "max_height": null,
            "align_content": null,
            "visibility": null,
            "align_self": null,
            "height": null,
            "min_height": null,
            "padding": null,
            "grid_auto_rows": null,
            "grid_gap": null,
            "max_width": null,
            "order": null,
            "_view_module_version": "1.2.0",
            "grid_template_areas": null,
            "object_position": null,
            "object_fit": null,
            "grid_auto_columns": null,
            "margin": null,
            "display": null,
            "left": null
          }
        }
      }
    }
  },
  "cells": [
    {
      "cell_type": "markdown",
      "metadata": {
        "id": "view-in-github",
        "colab_type": "text"
      },
      "source": [
        "<a href=\"https://colab.research.google.com/github/Junjaee/Study/blob/main/Python_Data_Analytics_Library/10_%EB%B6%84%EC%84%9D%EC%98%88%EC%A0%9C6.ipynb\" target=\"_parent\"><img src=\"https://colab.research.google.com/assets/colab-badge.svg\" alt=\"Open In Colab\"/></a>"
      ]
    },
    {
      "cell_type": "code",
      "metadata": {
        "id": "69NvcJ4mDasU"
      },
      "source": [
        "import numpy as np\n",
        "import pandas as pd\n",
        "import matplotlib.pyplot as plt\n",
        "\n",
        "import matplotlib as mpl\n",
        "import matplotlib.font_manager as fm\n",
        "fm.FontProperties(fname = \"맑은 고딕\")\n",
        "mpl.rcParams[\"axes.unicode_minus\"] = False # 음수표시\n",
        "\n",
        "import seaborn as sns\n",
        "\n",
        "plt.style.use(\"fivethirtyeight\")\n",
        "\n",
        "import warnings\n",
        "warnings.filterwarnings(\"ignore\")\n",
        "\n",
        "\n",
        "import urllib.request as req\n",
        "from urllib.request import urlopen\n",
        "from urllib.error import HTTPError, URLError\n",
        "import requests\n",
        "# from selenium import webdriver\n",
        "import urllib.parse\n",
        "\n",
        "from bs4 import BeautifulSoup"
      ],
      "execution_count": null,
      "outputs": []
    },
    {
      "cell_type": "markdown",
      "metadata": {
        "id": "lnpICymKDeIu"
      },
      "source": [
        "# 셀프 주유소는 과연 저렴한가?\n",
        "\n",
        "- 실제 셀프 주유소가 저렴한지에 대한 팩트 체크\n",
        "- 가장 싼 주유소는 어디인가?\n",
        "- http://www.opinet.co.kr\n"
      ]
    },
    {
      "cell_type": "markdown",
      "metadata": {
        "id": "7mniwdyyIlTa"
      },
      "source": [
        "### 1. 서울시 구별 주유소 가격 정보 가져오기"
      ]
    },
    {
      "cell_type": "markdown",
      "metadata": {
        "id": "aidSCoYiI4Fm"
      },
      "source": [
        "#### 1) Sample Code"
      ]
    },
    {
      "cell_type": "code",
      "metadata": {
        "id": "aKdAm1apDiAw"
      },
      "source": [
        "##### 원격 제어창 실행\n",
        "\n",
        "!pip install Selenium\n",
        "!apt-get update # to update ubuntu to correctly run apt install\n",
        "!apt install chromium-chromedriver"
      ],
      "execution_count": null,
      "outputs": []
    },
    {
      "cell_type": "code",
      "metadata": {
        "id": "YbX81PvPDh-p"
      },
      "source": [
        "from selenium import webdriver\n",
        "\n",
        "chrome_options = webdriver.ChromeOptions()\n",
        "chrome_options.add_argument('--headless') #내부 창을 띄울 수 없으므로 설정\n",
        "chrome_options.add_argument('--no-sandbox')\n",
        "chrome_options.add_argument('--disable-dev-shm-usage')\n",
        "\n",
        "driver = webdriver.Chrome('chromedriver', options = chrome_options)\n",
        "driver.get(\"https://www.opinet.co.kr/searRgSelect.do\")\n",
        "\n"
      ],
      "execution_count": null,
      "outputs": []
    },
    {
      "cell_type": "code",
      "metadata": {
        "colab": {
          "base_uri": "https://localhost:8080/"
        },
        "id": "4NuB8f4JDh8Y",
        "outputId": "5d41950f-5cf6-484c-f499-5b5cb889024c"
      },
      "source": [
        "# 시 목록 가져오기\n",
        "driver.get(\"https://www.opinet.co.kr/searRgSelect.do\")\n",
        "\n",
        "si_list_raw = driver.find_element_by_xpath(\"\"\"//*[@id=\"SIDO_NM0\"]\"\"\")\n",
        "\n",
        "# si_list = si_list_raw.find_element_by_tag_name(\"option\")#태그 하나만 가저옴\n",
        "si_list = si_list_raw.find_elements_by_tag_name(\"option\")#태그 전부 가저옴\n",
        "si_names = [option.get_attribute(\"value\") for option in si_list]\n",
        "si_names.remove(\"\")\n",
        "si_names"
      ],
      "execution_count": null,
      "outputs": [
        {
          "output_type": "execute_result",
          "data": {
            "text/plain": [
              "['서울특별시',\n",
              " '부산광역시',\n",
              " '대구광역시',\n",
              " '인천광역시',\n",
              " '광주광역시',\n",
              " '대전광역시',\n",
              " '울산광역시',\n",
              " '세종특별자치시',\n",
              " '경기도',\n",
              " '강원도',\n",
              " '충청북도',\n",
              " '충청남도',\n",
              " '전라북도',\n",
              " '전라남도',\n",
              " '경상북도',\n",
              " '경상남도',\n",
              " '제주특별자치도']"
            ]
          },
          "metadata": {
            "tags": []
          },
          "execution_count": 16
        }
      ]
    },
    {
      "cell_type": "code",
      "metadata": {
        "id": "nehredVKDh6c"
      },
      "source": [
        "#시 선택하기\n",
        "element = driver.find_element_by_id(\"SIDO_NM0\")\n",
        "element.send_keys(si_names[0])"
      ],
      "execution_count": null,
      "outputs": []
    },
    {
      "cell_type": "code",
      "metadata": {
        "colab": {
          "base_uri": "https://localhost:8080/"
        },
        "id": "IEtaaASODh39",
        "outputId": "7f93e727-fb28-4fb7-edfc-693419f67c39"
      },
      "source": [
        "# 구 목록 가져오기\n",
        "\n",
        "gu_list_raw = driver.find_element_by_xpath(\"\"\"//*[@id=\"SIGUNGU_NM0\"]\"\"\")\n",
        "#si_list = si_list_raw.find_element_by_tag_name(\"option\")#태그 하나만 가저옴\n",
        "gu_list = gu_list_raw.find_elements_by_tag_name(\"option\")#태그 전부 가저옴\n",
        "gu_names=[option.get_attribute(\"value\") for option in gu_list]\n",
        "gu_names.remove(\"\")\n",
        "gu_names"
      ],
      "execution_count": null,
      "outputs": [
        {
          "output_type": "execute_result",
          "data": {
            "text/plain": [
              "['강남구',\n",
              " '강동구',\n",
              " '강북구',\n",
              " '강서구',\n",
              " '관악구',\n",
              " '광진구',\n",
              " '구로구',\n",
              " '금천구',\n",
              " '노원구',\n",
              " '도봉구',\n",
              " '동대문구',\n",
              " '동작구',\n",
              " '마포구',\n",
              " '서대문구',\n",
              " '서초구',\n",
              " '성동구',\n",
              " '성북구',\n",
              " '송파구',\n",
              " '양천구',\n",
              " '영등포구',\n",
              " '용산구',\n",
              " '은평구',\n",
              " '종로구',\n",
              " '중구',\n",
              " '중랑구']"
            ]
          },
          "metadata": {
            "tags": []
          },
          "execution_count": 18
        }
      ]
    },
    {
      "cell_type": "code",
      "metadata": {
        "id": "XxC1mMvODh1W"
      },
      "source": [
        "#구 선택하기\n",
        "\n",
        "element = driver.find_element_by_id(\"SIGUNGU_NM0\")\n",
        "element.send_keys(gu_names[2])"
      ],
      "execution_count": null,
      "outputs": []
    },
    {
      "cell_type": "code",
      "metadata": {
        "id": "9tQ9Q2zSDhyr"
      },
      "source": [
        "# 조회 버튼 누르기 (이 사이트의 경우 자동으로 조회가 눌리기 때문에 안해도 상관없음)\n",
        "\n",
        "xp = \"\"\"//*[@id=\"searRgSelect\"]/span\"\"\"\n",
        "driver.find_element_by_xpath(xp).click()"
      ],
      "execution_count": null,
      "outputs": []
    },
    {
      "cell_type": "code",
      "metadata": {
        "id": "vz6B53PeDhwD"
      },
      "source": [
        "#엑셀 저장 버튼  누르기\n",
        "\n",
        "xp = \"\"\"//*[@id=\"glopopd_excel\"]/span\"\"\"\n",
        "driver.find_element_by_xpath(xp).click()"
      ],
      "execution_count": null,
      "outputs": []
    },
    {
      "cell_type": "markdown",
      "metadata": {
        "id": "BtKxDPcuoDZt"
      },
      "source": [
        "#### 2) 지역별(구 별)로 주유소 정보를 엑셀파일로 저장"
      ]
    },
    {
      "cell_type": "code",
      "metadata": {
        "colab": {
          "base_uri": "https://localhost:8080/",
          "height": 121,
          "referenced_widgets": [
            "f82197aa9df94ed796f3e52c714fef8b",
            "0028df4d362e4df9b8572bc53dc480be",
            "c19af5dbda334484a2101572911d77bc",
            "49d7700e341e41498883e33dfba5daba",
            "125fd72251134be180717b33b5cb557d",
            "500c154576a4435cb758352267f35a1c",
            "b97161d1f52b48c28c82f5efda8331d6",
            "88385de7efc24efe89c07f5eb6936abc"
          ]
        },
        "id": "RSJZPUQSDhtl",
        "outputId": "cebaee62-cc47-4c68-e704-397fee37399f"
      },
      "source": [
        "# 지역별(구별)로 주유소 정보를 엑셀파일로 저장 \n",
        "driver.get(\"https://www.opinet.co.kr/searRgSelect.do\")\n",
        "\n",
        "from tqdm import tqdm_notebook\n",
        "import time\n",
        "\n",
        "for gu in tqdm_notebook(gu_names):\n",
        "    elemnet = driver.find_element_by_id(\"SIGUNGU_NM0\")\n",
        "    elemnet.send_keys(gu)\n",
        "    \n",
        "    time.sleep(1)\n",
        "    \n",
        "    xp = \"\"\"//*[@id=\"searRgSelect\"]/span\"\"\"\n",
        "    driver.find_element_by_xpath(xp).click()\n",
        "    \n",
        "    time.sleep(1)\n",
        "    \n",
        "    xp = \"\"\"//*[@id=\"glopopd_excel\"]/span\"\"\"\n",
        "    driver.find_element_by_xpath(xp).click()\n",
        "\n",
        "    time.sleep(1)\n",
        "    \n",
        "driver.close()"
      ],
      "execution_count": null,
      "outputs": [
        {
          "output_type": "stream",
          "text": [
            "/usr/local/lib/python3.7/dist-packages/ipykernel_launcher.py:7: TqdmDeprecationWarning: This function will be removed in tqdm==5.0.0\n",
            "Please use `tqdm.notebook.tqdm` instead of `tqdm.tqdm_notebook`\n",
            "  import sys\n"
          ],
          "name": "stderr"
        },
        {
          "output_type": "display_data",
          "data": {
            "application/vnd.jupyter.widget-view+json": {
              "model_id": "f82197aa9df94ed796f3e52c714fef8b",
              "version_minor": 0,
              "version_major": 2
            },
            "text/plain": [
              "HBox(children=(FloatProgress(value=0.0, max=25.0), HTML(value='')))"
            ]
          },
          "metadata": {
            "tags": []
          }
        },
        {
          "output_type": "stream",
          "text": [
            "\n"
          ],
          "name": "stdout"
        }
      ]
    },
    {
      "cell_type": "code",
      "metadata": {
        "colab": {
          "base_uri": "https://localhost:8080/"
        },
        "id": "tybQUAHYtktd",
        "outputId": "024c19dc-b74f-4947-b6d3-9aaf829a84c2"
      },
      "source": [
        "from google.colab import drive\n",
        "drive.mount('/content/drive')"
      ],
      "execution_count": null,
      "outputs": [
        {
          "output_type": "stream",
          "text": [
            "Mounted at /content/drive\n"
          ],
          "name": "stdout"
        }
      ]
    },
    {
      "cell_type": "code",
      "metadata": {
        "id": "UqW5Kjjst4FG"
      },
      "source": [
        "\"/content/drive/My Drive/Colab Notebooks/Study/Python Data Analytics Library/data/분석예제_10\""
      ],
      "execution_count": null,
      "outputs": []
    },
    {
      "cell_type": "code",
      "metadata": {
        "id": "blzMwu70nYec"
      },
      "source": [
        "# 저장된 엑셀파일 불러오기\n",
        "from glob import glob\n",
        "\n",
        "station_files = glob(\"/content/drive/My Drive/Colab Notebooks/Study/Python Data Analytics Library/data/분석예제_10/*\")\n",
        "station_files\n",
        "\n",
        "tmp_raw=[]\n",
        "for fname in station_files:\n",
        "    tmp = pd.read_excel(fname, header=2)\n",
        "    tmp_raw.append(tmp)"
      ],
      "execution_count": null,
      "outputs": []
    },
    {
      "cell_type": "code",
      "metadata": {
        "colab": {
          "base_uri": "https://localhost:8080/"
        },
        "id": "9a-SsBkpnYbF",
        "outputId": "aacd38c1-1381-463c-e76c-1ab240f7c4fd"
      },
      "source": [
        "tmp_raw"
      ],
      "execution_count": null,
      "outputs": [
        {
          "output_type": "execute_result",
          "data": {
            "text/plain": [
              "[       지역                     상호                         주소  ...   휘발유    경유  실내등유\n",
              " 0   서울특별시               오일프러스 셀프    서울 강남구 남부순환로 2651 (도곡동)  ...  1593  1389     -\n",
              " 1   서울특별시            (주)보성 세곡주유소      서울 강남구  헌릉로 731 (세곡동)  ...  1595  1395     -\n",
              " 2   서울특별시                  방죽주유소      서울 강남구 밤고개로 215 (율현동)  ...  1607  1409     -\n",
              " 3   서울특별시      지에스칼텍스(주)직영 산성주유소             서울 강남구 헌릉로 730  ...  1610  1410     -\n",
              " 4   서울특별시         현대오일뱅크 도곡셀프주유소  서울 강남구  남부순환로 2718 (도곡2동)  ...  1613  1409     -\n",
              " 5   서울특별시                  대교주유소      서울 강남구 강남대로 640 (신사동)  ...  1615  1415     -\n",
              " 6   서울특별시        현대오일뱅크(주) 유진주유소       서울 강남구 논현로 152 (도곡동)  ...  1628  1424  1070\n",
              " 7   서울특별시    지에스칼텍스㈜에너지플러스허브GS타워       서울 강남구 논현로 516 (역삼동)  ...  1628  1428     -\n",
              " 8   서울특별시                자곡셀프주유소      서울 강남구 밤고개로 120 (자곡동)  ...  1645  1437     -\n",
              " 9   서울특별시                SK서광주유소             서울 강남구 역삼로 142  ...  1645  1445     -\n",
              " 10  서울특별시         (주)중앙에너비스 수서지점       서울 강남구 광평로 202 (수서동)  ...  1668  1458     -\n",
              " 11  서울특별시        (유)동하석유 힐탑셀프주유소             서울 강남구 논현로 640  ...  1687  1487     -\n",
              " 12  서울특별시            대동석유 압구정주유소       서울 강남구 언주로 842 (신사동)  ...  1688  1488     -\n",
              " 13  서울특별시             (주)선진도곡주유소       서울 강남구 도곡로 162 (도곡동)  ...  1689  1489     -\n",
              " 14  서울특별시          SK에너지㈜ 진달래주유소             서울 강남구 도곡로 208  ...  1689  1489     -\n",
              " 15  서울특별시        에쓰-오일㈜직영 개나리주유소       서울 강남구 언주로 423 (역삼동)  ...  1689  1489     -\n",
              " 16  서울특별시                  일원주유소     서울 강남구 양재대로55길 3 (일원동)  ...  1695  1475     -\n",
              " 17  서울특별시         SK에너지(주) 매봉주유소             서울 강남구 언주로 307  ...  1699  1499     -\n",
              " 18  서울특별시          지에스칼텍스㈜ 은마주유소            서울 강남구 영동대로 235  ...  1720  1528     -\n",
              " 19  서울특별시        현대오일뱅크㈜직영 오천주유소      서울 강남구 봉은사로 503 (삼성동)  ...  1739  1529  1298\n",
              " 20  서울특별시         지에스칼텍스㈜ 삼성로주유소       서울 강남구 삼성로 563 (삼성동)  ...  1739  1529     -\n",
              " 21  서울특별시     에스제이에너지산업(주) 개포주유소            서울 강남구 양재대로 339  ...  1748  1558  1310\n",
              " 22  서울특별시       현대오일뱅크㈜직영 삼성동주유소      서울 강남구 테헤란로 619 (삼성동)  ...  1755  1570     -\n",
              " 23  서울특별시    현대오일뱅크(주)직영 신사현대주유소      서울 강남구 도산대로 163 (신사동)  ...  1796  1622     -\n",
              " 24  서울특별시      현대오일뱅크(주)직영 한양주유소      서울 강남구 압구정로 302 (신사동)  ...  1798  1593     -\n",
              " 25  서울특별시          ㈜새서울석유 새서울주유소            서울 강남구 압구정로 154  ...  1857  1657     -\n",
              " 26  서울특별시          지에스칼텍스㈜ 주성주유소            서울 강남구 영동대로 716  ...  1937  1733     -\n",
              " 27  서울특별시           대성석유(주)동호주유소         서울 강남구 봉은사로113길 51  ...  1957  1757     -\n",
              " 28  서울특별시                  명품주유소       서울 강남구 도곡로 249 (역삼동)  ...  1958  1788     -\n",
              " 29  서울특별시                  대청주유소       서울 강남구 개포로 654 (일원동)  ...  1986  1786     -\n",
              " 30  서울특별시                SK논현주유소       서울 강남구 논현로 747 (논현동)  ...  2048  1835  1350\n",
              " 31  서울특별시                갤러리아주유소            서울 강남구 압구정로 426  ...  2055  1825  1340\n",
              " 32  서울특별시                  경원주유소      서울 강남구 도산대로 428 (청담동)  ...  2056  1825     -\n",
              " 33  서울특별시  (주)소모에너지엔테크놀러지 쎈트럴주유소             서울 강남구 삼성로 335  ...  2068  1858     -\n",
              " 34  서울특별시                 학여울주유소   서울 강남구 남부순환로 3170 (일원2동)  ...  2069  1819     -\n",
              " 35  서울특별시               (주)만정에너지      서울 강남구 봉은사로 433 (삼성동)  ...  2113  1859  1359\n",
              " 36  서울특별시                뉴서울(강남)             서울 강남구 언주로 716  ...  2195  1975     -\n",
              " 37  서울특별시                  삼성주유소       서울 강남구 삼성로 521 (삼성동)  ...     -     -     -\n",
              " 38  서울특별시                  동우주유소  서울특별시 강남구  봉은사로 311 (논현동)  ...     -     -     -\n",
              " \n",
              " [39 rows x 10 columns],\n",
              "        지역                    상호                            주소  ...   휘발유    경유  실내등유\n",
              " 0   서울특별시  재건에너지 재정제2주유소 고속셀프지점  서울특별시 강동구  천호대로 1246 (둔촌제2동)  ...  1549  1349     -\n",
              " 1   서울특별시                구천면주유소         서울 강동구 구천면로 357 (암사동)  ...  1603  1407     -\n",
              " 2   서울특별시        지에스칼텍스㈜ 동서울주유소        서울 강동구 천호대로 1456 (상일동)  ...  1635  1435     -\n",
              " 3   서울특별시     현대오일뱅크㈜직영 명일셀프주유소          서울 강동구 고덕로 168 (명일동)  ...  1635  1429     -\n",
              " 4   서울특별시       대성석유(주)직영 길동주유소              서울 강동구 천호대로 1168  ...  1638  1438  1200\n",
              " 5   서울특별시               방아다리주유소          서울 강동구 동남로 811 (명일동)  ...  1648  1448  1100\n",
              " 6   서울특별시         지에스칼텍스㈜ 신월주유소        서울 강동구 양재대로 1323 (성내동)  ...  1649  1449  1000\n",
              " 7   서울특별시      주)지유에너지직영 오렌지주유소          서울 강동구 성안로 102 (성내동)  ...  1653  1453  1100\n",
              " 8   서울특별시       (주)퍼스트오일 코알라주유소     서울특별시 강동구  올림픽로 556 (성내동)  ...  1658  1458     -\n",
              " 9   서울특별시              sk해뜨는주유소         서울 강동구  상일로 132 (강일동)  ...  1659  1449  1100\n",
              " 10  서울특별시     현대오일뱅크㈜직영 암사셀프주유소         서울 강동구 올림픽로 749 (암사동)  ...  1663  1459     -\n",
              " 11  서울특별시               천호현대주유소           서울 강동구 천중로 67 (천호동)  ...  1677  1478     -\n",
              " 12  서울특별시        (주)삼표에너지 고덕주유소           서울 강동구 고덕로 39 (암사동)  ...  1678  1479  1303\n",
              " 13  서울특별시                 광성주유소         서울 강동구 올림픽로 673 (천호동)  ...  1748  1548     -\n",
              " 14  서울특별시  (주)소모에너지엔테크놀러지 성내주유소         서울 강동구 올림픽로 578 (성내동)  ...  1748  1548     -\n",
              " 15  서울특별시                 강동주유소         서울 강동구 양재대로 1509 (길동)  ...  2078  1857  1217\n",
              " \n",
              " [16 rows x 10 columns],\n",
              "        지역                   상호                     주소  ...   휘발유    경유  실내등유\n",
              " 0   서울특별시             (주)석산에너지   서울 강북구 삼양로 316 (수유동)  ...  1526  1326   900\n",
              " 1   서울특별시             북서울고속주유소   서울 강북구 삼양로 410 (수유동)  ...  1526  1326     -\n",
              " 2   서울특별시               수유동주유소   서울 강북구 도봉로 395 (수유동)  ...  1526  1326     -\n",
              " 3   서울특별시               덕릉로주유소    서울 강북구 덕릉로 158 (번동)  ...  1534  1335     -\n",
              " 4   서울특별시        ㈜지에스이앤알 미아주유소   서울 강북구 도봉로 122 (미아동)  ...  1538  1338     -\n",
              " 5   서울특별시     KH에너지(주)직영 송정주유소  서울 강북구 인수봉로 185 (수유동)  ...  1548  1348     -\n",
              " 6   서울특별시  현대오일뱅크(주)직영 번동셀프주유소    서울 강북구 한천로 963 (번동)  ...  1558  1358     -\n",
              " 7   서울특별시                세원주유소    서울 강북구 한천로 918 (번동)  ...  1558  1348  1000\n",
              " 8   서울특별시       SK에너지(주) 매일주유소   서울 강북구 삼양로 217 (미아동)  ...  1558  1358     -\n",
              " 9   서울특별시  현대오일뱅크(주)직영 미아셀프주유소   서울 강북구 도봉로 200 (미아동)  ...  1558  1358     -\n",
              " 10  서울특별시    현대오일뱅크㈜직영 새한셀프주유소          서울 강북구 도봉로 75  ...  1558  1358     -\n",
              " 11  서울특별시                에덴주유소    서울 강북구 월계로 195 (번동)  ...  1569  1357     -\n",
              " 12  서울특별시         대성석유(주)신광주유소         서울 강북구 삼양로 484  ...  1569  1359  1100\n",
              " \n",
              " [13 rows x 10 columns],\n",
              "        지역                   상호                       주소  ...   휘발유    경유  실내등유\n",
              " 0   서울특별시               화곡역주유소     서울 강서구 강서로 154 (화곡동)  ...  1529  1326     -\n",
              " 1   서울특별시               뉴신정주유소    서울 강서구 곰달래로 207 (화곡동)  ...  1529  1326     -\n",
              " 2   서울특별시            강서오곡셀프주유소     서울 강서구 벌말로 254 (오곡동)  ...  1537  1327     -\n",
              " 3   서울특별시                방화주유소   서울 강서구 방화동로 58-2 (방화동)  ...  1543  1343  1100\n",
              " 4   서울특별시               스카이주유소    서울 강서구 개화동로 457 (방화동)  ...  1546  1352     -\n",
              " 5   서울특별시                유턴주유소          서울 강서구 남부순환로 57  ...  1547  1347   985\n",
              " 6   서울특별시          행촌에너지 공항주유소    서울 강서구 개화동로 420 (개화동)  ...  1547  1347     -\n",
              " 7   서울특별시  KH에너지(주)직영 KH외발산주유소           서울 강서구 방화대로 30  ...  1547  1347     -\n",
              " 8   서울특별시                목화주유소    서울 강서구 국회대로 251 (화곡동)  ...  1554  1349     -\n",
              " 9   서울특별시      지에스칼텍스㈜ 경인고속주유소    서울 강서구 국회대로 225 (화곡동)  ...  1554  1354     -\n",
              " 10  서울특별시        (주)한진 김포공항주유소           서울 강서구 하늘길 259  ...  1564  1374  1020\n",
              " 11  서울특별시  현대오일뱅크㈜직영 강서제일셀프주유소     서울 강서구 화곡로 273 (화곡동)  ...  1566  1378     -\n",
              " 12  서울특별시                개화주유소            서울 강서구 양천로 57  ...  1577  1377     -\n",
              " 13  서울특별시         현대오일뱅크 등촌주유소     서울 강서구 등촌로 189 (등촌동)  ...  1577  1377     -\n",
              " 14  서울특별시              화곡현대주유소     서울 강서구 강서로 151 (화곡동)  ...  1586  1386     -\n",
              " 15  서울특별시               신화곡주유소           서울 강서구 국회대로 71  ...  1595  1385     -\n",
              " 16  서울특별시              하이웨이주유소  서울특별시 강서구 공항대로 432(화곡동)  ...  1597  1457     -\n",
              " 17  서울특별시       대성석유(주)직영관문주유소          서울 강서구 공항대로 314  ...  1598  1417  1200\n",
              " 18  서울특별시               우장산주유소    서울 강서구 강서로 292 (내발산동)  ...  1598  1415  1150\n",
              " 19  서울특별시              강서열린주유소     서울 강서구 등촌로 213 (등촌동)  ...  1598  1398  1250\n",
              " 20  서울특별시        현대오일뱅크 양화교주유소          서울 강서구 공항대로 653  ...  1599  1394  1100\n",
              " 21  서울특별시       대성석유(주)방화대성주유소           서울 강서구 양천로 176  ...  1605  1405     -\n",
              " 22  서울특별시      대성석유(주) 마곡대성주유소           서울 강서구 강서로 457  ...  1605  1405     -\n",
              " 23  서울특별시              세원제1주유소     서울 강서구 양천로 311 (가양동)  ...  1615  1418     -\n",
              " 24  서울특별시      현대오일뱅크(주) 가양주유소    서울 강서구  양천로 391 (가양동)  ...  1618  1423     -\n",
              " 25  서울특별시     KH에너지(주)직영 가양주유소     서울 강서구 강서로 498 (가양동)  ...  1619  1419     -\n",
              " 26  서울특별시                대성주유소           서울 강서구 강서로 472  ...  1619  1419     -\n",
              " 27  서울특별시    현대오일뱅크㈜직영 에어포트주유소    서울 강서구 개화동로 519 (방화동)  ...  1628  1433     -\n",
              " 28  서울특별시      (주)한진 김포공항제2주유소           서울 강서구 하늘길 112  ...  1651  1450     -\n",
              " 29  서울특별시               박물관주유소   서울 강서구 양천로53길 97 (가양동)  ...  1658  1458  1148\n",
              " 30  서울특별시          코리나(주)청룡주유소           서울 강서구 양천로 576  ...  1678  1478  1100\n",
              " 31  서울특별시                참솔에너지     서울 강서구 벌말로 281 (오곡동)  ...  1698  1498     -\n",
              " 32  서울특별시               염창동주유소     서울 강서구 양천로 720 (염창동)  ...  1875  1643     -\n",
              " \n",
              " [33 rows x 10 columns],\n",
              "        지역                   상호                          주소  ...   휘발유    경유  실내등유\n",
              " 0   서울특별시  현대오일뱅크(주)직영 관악셀프주유소     서울 관악구 남부순환로 1520 (신림동)  ...  1569  1374     -\n",
              " 1   서울특별시   (주)엠오티이엔지 직영 삼화주유소              서울 관악구 보라매로 41  ...  1578  1378  1000\n",
              " 2   서울특별시       (주)연우에너지 신관주유소        서울 관악구 신림로 290 (신림동)  ...  1589  1389     -\n",
              " 3   서울특별시         서일석유(주)락성주유소     서울 관악구 남부순환로 1920 (봉천동)  ...  1599  1399  1090\n",
              " 4   서울특별시                남현주유소           서울 관악구 남부순환로 2014  ...  1599  1389     -\n",
              " 5   서울특별시     대양석유(주)직영 보라매주유소       서울 관악구  보라매로 26 (봉천동)  ...  1599  1399     -\n",
              " 6   서울특별시                유림주유소        서울 관악구 신림로 176 (신림동)  ...  1618  1418  1098\n",
              " 7   서울특별시        지에스칼텍스㈜ 난곡주유소              서울 관악구 난곡로 206  ...  1619  1419     -\n",
              " 8   서울특별시                현대주유소        서울 관악구 난곡로 108 (신림동)  ...  1619  1419     -\n",
              " 9   서울특별시   현대오일뱅크(주)직영 문성골주유소         서울 관악구 문성로 97 (신림동)  ...  1648  1448  1100\n",
              " 10  서울특별시    SK에너지(주)직영 대공원주유소       서울 관악구 과천대로 921 (남현동)  ...  1649  1449     -\n",
              " 11  서울특별시                유정주유소     서울 관악구 남부순환로 1691 (봉천동)  ...  1657  1457     -\n",
              " 12  서울특별시              관악시몬주유소  서울특별시 관악구 남부순환로 1753 (봉천동)  ...  1657  1457     -\n",
              " 13  서울특별시         SK에너지(주) 신봉천     서울 관악구 남부순환로 1880 (봉천동)  ...  1659  1459     -\n",
              " 14  서울특별시      (주)한유에너지행운셀프주유소     서울 관악구 남부순환로 1883 (봉천동)  ...  1669  1468     -\n",
              " 15  서울특별시        CJ대한통운㈜ 신림주유소     서울 관악구 남부순환로 1515 (신림동)  ...  1699  1491     -\n",
              " \n",
              " [16 rows x 10 columns],\n",
              "        지역                   상호                     주소  ...   휘발유    경유  실내등유\n",
              " 0   서울특별시    현대오일뱅크(주)직영 능동주유소   서울 광진구 천호대로 584 (능동)  ...  1564  1359  1000\n",
              " 1   서울특별시                태양주유소   서울 광진구 동일로 345 (중곡동)  ...  1565  1365     -\n",
              " 2   서울특별시  현대오일뱅크(주)직영 중곡현대주유소   서울 광진구 동일로 435 (중곡동)  ...  1574  1379     -\n",
              " 3   서울특별시      현대오일뱅크(주) 중원주유소   서울 광진구 동일로 398 (중곡동)  ...  1574  1379  1100\n",
              " 4   서울특별시       정해네트웍스(주)일진주유소   서울 광진구 동일로 413 (중곡동)  ...  1577  1377     -\n",
              " 5   서울특별시                대원주유소  서울 광진구 용마산로 122 (중곡동)  ...  1579  1369     -\n",
              " 6   서울특별시                용마주유소   서울 광진구 용마산로 68 (중곡동)  ...  1585  1375     -\n",
              " 7   서울특별시             (주)장수주유소   서울 광진구 동일로 266 (군자동)  ...  1585  1378     -\n",
              " 8   서울특별시    현대오일뱅크㈜직영 장호셀프주유소     서울 광진구 자양로37 (자양동)  ...  1599  1399     -\n",
              " 9   서울특별시         대성산업(주)구의주유소  서울 광진구 광나루로 570 (구의동)  ...  1629  1429     -\n",
              " 10  서울특별시               동서울주유소   서울 광진구 강변역로 10 (구의동)  ...  1637  1437  1050\n",
              " 11  서울특별시                삼호주유소  서울 광진구 천호대로 809 (광장동)  ...  1648  1448     -\n",
              " 12  서울특별시                강평주유소  서울 광진구 아차산로 616 (광장동)  ...  1668  1468  1100\n",
              " 13  서울특별시                자양주유소  서울 광진구 아차산로 298 (자양동)  ...  1668  1468     -\n",
              " 14  서울특별시              구의스타주유소         서울 광진구 자양로 103  ...     -     -     -\n",
              " 15  서울특별시    현대오일뱅크㈜직영 대명셀프주유소  서울 광진구 광나루로 460 (화양동)  ...     -     -     -\n",
              " \n",
              " [16 rows x 10 columns],\n",
              "        지역                  상호                       주소  ...   휘발유    경유  실내등유\n",
              " 0   서울특별시             대원셀프주유소             서울 구로구 개봉로 7  ...  1535  1335     -\n",
              " 1   서울특별시       서울석유(주)풀페이주유소      서울 구로구 경인로 41 (온수동)  ...  1539  1339     -\n",
              " 2   서울특별시    현대오일뱅크㈜직영 신오류주유소     서울 구로구 경인로 161 (오류동)  ...  1540  1384  1100\n",
              " 3   서울특별시      (주)한미석유구로그린주유소    서울 구로구 구로중앙로 76 (구로동)  ...  1547  1347     -\n",
              " 4   서울특별시               구인주유소     서울 구로구 경인로 558 (구로동)  ...  1547  1347  1100\n",
              " 5   서울특별시             SK구로주유소      서울 구로구 구일로 94 (구로동)  ...  1548  1348     -\n",
              " 6   서울특별시       극동유화(주) 항동주유소    서울 구로구 서해안로 2154 (항동)  ...  1549  1349     -\n",
              " 7   서울특별시               신성주유소  서울 구로구 구로동로 187 (구로제2동)  ...  1549  1349  1050\n",
              " 8   서울특별시             처음처럼주유소     서울 구로구 오리로 1299 (궁동)  ...  1549  1339   875\n",
              " 9   서울특별시   현대오일뱅크㈜직영 구로셀프주유소          서울 구로구 시흥대로 531  ...  1558  1358     -\n",
              " 10  서울특별시              JHC에너지          서울 구로구 시흥대로 539  ...  1566  1366     -\n",
              " 11  서울특별시             근린공원주유소     서울 구로구 고척로 199 (고척동)  ...  1587  1387  1100\n",
              " 12  서울특별시               정은주유소     서울 구로구 경인로 407 (고척동)  ...  1587  1357  1100\n",
              " 13  서울특별시               개봉주유소     서울 구로구 고척로 115 (개봉동)  ...  1589  1389     -\n",
              " 14  서울특별시               동선주유소     서울 구로구 경인로 150 (오류동)  ...  1595  1395     -\n",
              " 15  서울특별시               시몬주유소           서울 구로구 부일로 871  ...  1597  1397     -\n",
              " 16  서울특별시   SK에너지(주)직영 개봉동주유소     서울 구로구 경인로 290 (개봉동)  ...  1599  1399  1050\n",
              " 17  서울특별시       대성산업(주)디큐브주유소    서울 구로구 경인로 650 (신도림동)  ...  1609  1369     -\n",
              " 18  서울특별시  현대오일뱅크(주)직영 신구로주유소    서울 구로구 가마산로 293 (구로동)  ...  1638  1443     -\n",
              " 19  서울특별시               영진주유소    서울 구로구 구로동로 20 (가리봉동)  ...  1659  1369  1100\n",
              " 20  서울특별시               동아주유소      서울 구로구 도림로 91 (구로동)  ...  1798  1498     -\n",
              " 21  서울특별시               구로주유소    서울 구로구 구로동로 137 (구로동)  ...  2062  1848  1376\n",
              " \n",
              " [22 rows x 10 columns],\n",
              "        지역                     상호                         주소  ...   휘발유    경유  실내등유\n",
              " 0   서울특별시                  구광주유소  서울특별시 금천구  서부샛길 674 (가산동)  ...  1555  1355   950\n",
              " 1   서울특별시                  명보에너지      서울 금천구 시흥대로 377 (독산동)  ...  1564  1364     -\n",
              " 2   서울특별시         (주)진우에너지 백운주유소      서울 금천구 시흥대로 282 (독산동)  ...  1565  1365     -\n",
              " 3   서울특별시      현대오일뱅크㈜직영 금천제일주유소    서울 금천구 남부순환로 1410 (독산동)  ...  1569  1374     -\n",
              " 4   서울특별시           (주)태영유업 독산고개            서울 금천구 시흥대로 484  ...  1589  1389  1100\n",
              " 5   서울특별시                  백산주유소  서울특별시 금천구  시흥대로 174 (시흥동)  ...  1595  1385     -\n",
              " 6   서울특별시  현대오일뱅크(주)직영 금천현대셀프주유소       서울 금천구 독산로 147 (시흥동)  ...  1595  1385     -\n",
              " 7   서울특별시         대득에너지(금천셀프주유소)      서울 금천구  시흥대로 81 (시흥동)  ...  1595  1385     -\n",
              " 8   서울특별시         지에스칼텍스(주)일신주유소            서울 금천구 시흥대로 118  ...  1595  1385  1000\n",
              " 9   서울특별시               남서울경복에너지       서울 금천구 독산로 257 (독산동)  ...  1595  1385     -\n",
              " 10  서울특별시         SK에너지(주) 이가주유소            서울 금천구 시흥대로 441  ...  1603  1403     -\n",
              " 11  서울특별시         SK에너지(주) 박미주유소     서울 금천구 시흥대로 39-7 (시흥동)  ...  1608  1408  1150\n",
              " \n",
              " [12 rows x 10 columns],\n",
              "        지역                 상호                       주소  ...   휘발유    경유  실내등유\n",
              " 0   서울특별시            배꽃나라주유소     서울 노원구 화랑로 466 (공릉동)  ...  1557  1357     -\n",
              " 1   서울특별시              삼육주유소     서울 노원구 화랑로 822 (공릉동)  ...  1565  1365  1050\n",
              " 2   서울특별시            태릉솔밭주유소      서울 노원구 노원로 49 (공릉동)  ...  1565  1365     -\n",
              " 3   서울특별시             성북역주유소      서울 노원구 광운로 95 (월계동)  ...  1568  1353     -\n",
              " 4   서울특별시              월계주유소     서울 노원구 월계로 252 (월계동)  ...  1569  1357  1049\n",
              " 5   서울특별시             화랑대주유소           서울 노원구 화랑로 483  ...  1598  1398  1050\n",
              " 6   서울특별시              한신주유소    서울 노원구 동일로 1089 (공릉동)  ...  1598  1398  1100\n",
              " 7   서울특별시              신성주유소     서울 노원구 월계로 328 (월계동)  ...  1598  1398     -\n",
              " 8   서울특별시    현대오일뱅크㈜직영 하계주유소   서울 노원구 노원로17길 29 (하계동)  ...  1618  1418  1049\n",
              " 9   서울특별시   남선석유(주)구도일주유소 불암   서울 노원구 한글비석로 268 (중계동)  ...  1625  1425     -\n",
              " 10  서울특별시              노원주유소    서울 노원구 동일로 1008 (공릉동)  ...  1629  1428  1150\n",
              " 11  서울특별시             상계동주유소  서울 노원구 노원로26길 191 (상계동)  ...  1670  1470  1200\n",
              " 12  서울특별시            하계삼호주유소     서울 노원구 공릉로 294 (하계동)  ...  1690  1478     -\n",
              " 13  서울특별시  (주)소모에너지 수락산셀프주유소          서울 노원구 동일로 1772  ...  1748  1548  1100\n",
              " 14  서울특별시     양지진흥개발(주)상계주유소     서울 노원구 노해로 527 (상계동)  ...     -     -     -\n",
              " \n",
              " [15 rows x 10 columns],\n",
              "        지역                   상호                    주소  ...   휘발유    경유  실내등유\n",
              " 0   서울특별시      도봉제일주유소(주)송만에너지  서울 도봉구 도봉로 783 (도봉동)  ...  1529  1329   990\n",
              " 1   서울특별시           구도일주유소 파크빌  서울 도봉구 해등로3길 86 (창동)  ...  1534  1334  1000\n",
              " 2   서울특별시             정다운셀프주유소        서울 도봉구 도봉로 635  ...  1534  1339     -\n",
              " 3   서울특별시       한이에너지(주) 쌍문주유소  서울 도봉구 도봉로 547 (쌍문동)  ...  1534  1334     -\n",
              " 4   서울특별시            구도일주유소 도봉  서울 도봉구 도봉로 706 (방학동)  ...  1534  1334  1000\n",
              " 5   서울특별시  현대오일뱅크㈜직영 도봉현대셀프주유소  서울 도봉구 도봉로 941 (도봉동)  ...  1534  1334     -\n",
              " 6   서울특별시     한이에너지(주)KLP제1주유소   서울 도봉구 도봉로 596 (창동)  ...  1534  1334     -\n",
              " 7   서울특별시            삼미북부셀프주유소  서울 도봉구 도봉로 437 (쌍문동)  ...  1537  1334  1100\n",
              " 8   서울특별시        극동유화(주) 대안주유소   서울 도봉구 마들로 574 (창동)  ...  1545  1345     -\n",
              " 9   서울특별시        동일석유(주) 창동주유소  서울 도봉구  도봉로 434 (창동)  ...  1548  1348     -\n",
              " 10  서울특별시       지에스칼텍스㈜ 방학동주유소        서울 도봉구 방학로 186  ...  1555  1355  1065\n",
              " 11  서울특별시                서현주유소  서울 도봉구 방학로 142 (방학동)  ...  1555  1355     -\n",
              " 12  서울특별시        지에스칼텍스㈜ 도봉주유소  서울 도봉구 도봉로 895 (도봉동)  ...  1555  1355  1065\n",
              " 13  서울특별시               노원교주유소  서울 도봉구 마들로 776 (도봉동)  ...  1588  1388     -\n",
              " 14  서울특별시           (주)쌍문셀프주유소  서울 도봉구 노해로 161 (쌍문동)  ...  1595  1395  1000\n",
              " 15  서울특별시         대성산업(주)신창주유소   서울 도봉구 덕릉로 267 (창동)  ...  1599  1398     -\n",
              " 16  서울특별시                오복주유소         서울 도봉구 방학로 43  ...  1618  1417     -\n",
              " 17  서울특별시      현대오일뱅크㈜직영 영신주유소        서울 도봉구 방학로 151  ...  1618  1418  1049\n",
              " \n",
              " [18 rows x 10 columns],\n",
              "        지역                상호                          주소  ...   휘발유    경유  실내등유\n",
              " 0   서울특별시             열린주유소       서울 동대문구 한천로 263 (휘경동)  ...  1544  1344     -\n",
              " 1   서울특별시             풍한주유소             서울 동대문구 안암로 168  ...  1545  1345     -\n",
              " 2   서울특별시           재정제2주유소       서울 동대문구 사가정로 90 (전농동)  ...  1549  1349     -\n",
              " 3   서울특별시      동일석유(주)강남주유소  서울특별시 동대문구  사가정로 103 (전농동)  ...  1549  1349  1200\n",
              " 4   서울특별시             재정주유소       서울 동대문구 전농로 121 (전농동)  ...  1549  1349  1200\n",
              " 5   서울특별시          (주)경동주유소       서울 동대문구 이문로 191 (이문동)  ...  1567  1367  1000\n",
              " 6   서울특별시            배봉로주유소          서울 동대문구 서울시립대로 108  ...  1575  1365     -\n",
              " 7   서울특별시          (주)파랑에너지             서울 동대문구 망우로 126  ...  1585  1385   890\n",
              " 8   서울특별시            답십리주유소     서울 동대문구 답십리로 223 (답십리동)  ...  1594  1359     -\n",
              " 9   서울특별시   삼미상사(주)장안킹셀프주유소      서울 동대문구  한천로 100 (장안동)  ...  1597  1397     -\n",
              " 10  서울특별시             삼영주유소      서울 동대문구 답십리로 258 (장안동)  ...  1597  1397  1200\n",
              " 11  서울특별시  (주)안국에너지 삼원셀프주유소        서울 동대문구 망우로 90 (휘경동)  ...  1598  1388  1050\n",
              " 12  서울특별시             홍능주유소       서울 동대문구 홍릉로 87 (청량리동)  ...  1617  1417  1050\n",
              " 13  서울특별시       대성산업㈜청량리주유소      서울 동대문구 왕산로 289 (청량리동)  ...  1617  1417     -\n",
              " 14  서울특별시  현대오일뱅크㈜직영 스피드주유소      서울 동대문구 천호대로 453 (장안동)  ...  1618  1423     -\n",
              " 15  서울특별시     대성산업(주)동마장주유소      서울 동대문구 고산자로 405 (용두동)  ...  1628  1428     -\n",
              " 16  서울특별시           오동나무주유소      서울 동대문구  한천로 81 (답십리동)  ...  1629  1419  1200\n",
              " 17  서울특별시     재원에너지(주)용일주유소        서울 동대문구 안암로 54 (용두동)  ...  1692  1493     -\n",
              " 18  서울특별시        한영주유소 (한화)        서울 동대문구 망우로 38 (휘경동)  ...  1695  1490     -\n",
              " 19  서울특별시             능주주유소      서울 동대문구 청계천로 431 (신설동)  ...  1795  1585     -\n",
              " \n",
              " [20 rows x 10 columns],\n",
              "       지역                   상호                      주소  ...   휘발유    경유  실내등유\n",
              " 0  서울특별시      지에스칼텍스(주) 대방주유소        서울 동작구 여의대방로 214  ...  1569  1369  1100\n",
              " 1  서울특별시                매일주유소    서울 동작구 상도로 139 (상도동)  ...  1569  1369  1200\n",
              " 2  서울특별시   현대오일뱅크㈜직영 신대방셀프주유소  서울 동작구 시흥대로 616 (신대방동)  ...  1579  1379     -\n",
              " 3  서울특별시             창원이엔지주유소     서울 동작구 사당로 59 (상도동)  ...  1589  1389     -\n",
              " 4  서울특별시  현대오일뱅크(주)직영 사당셀프주유소    서울 동작구 동작대로 73 (사당동)  ...  1599  1399     -\n",
              " 5  서울특별시   현대오일뱅크㈜직영 흑석동셀프주유소    서울 동작구 현충로 101 (흑석동)  ...  1608  1408     -\n",
              " 6  서울특별시    현대오일뱅크(주)직영 동작주유소    서울 동작구 상도로 403 (상도동)  ...  1614  1414     -\n",
              " 7  서울특별시       대성산업(주) 노량진주유소         서울 동작구 노량진로 172  ...  1628  1428  1050\n",
              " 8  서울특별시       (주)성림에너지 남성주유소   서울 동작구 동작대로 135 (사당동)  ...  1629  1429     -\n",
              " 9  서울특별시               살피재주유소          서울 동작구 상도로 334  ...  1725  1515     -\n",
              " \n",
              " [10 rows x 10 columns],\n",
              "        지역                 상호                        주소  ...   휘발유    경유  실내등유\n",
              " 0   서울특별시          성산대교셀프주유소            서울 마포구 성산로 144  ...  1568  1368     -\n",
              " 1   서울특별시              성산주유소  서울 마포구 월드컵북로 170 (성산제2동)  ...  1597  1397     -\n",
              " 2   서울특별시            마포시엠주유소      서울 마포구 월드컵북로62 (성산동)  ...  1607  1397     -\n",
              " 3   서울특별시    (주)안국에너지 망원동주유소     서울 마포구 월드컵로 119 (망원동)  ...  1638  1428     -\n",
              " 4   서울특별시              청원주유소    서울 마포구 월드컵북로 113 (성산동)  ...  1638  1438     -\n",
              " 5   서울특별시     에스오일(주) 염리동주유소      서울 마포구 백범로 126 (염리동)  ...  1638  1438     -\n",
              " 6   서울특별시              용강주유소            서울 마포구 토정로 258  ...  1656  1456     -\n",
              " 7   서울특별시              대흥주유소       서울 마포구 대흥로 61 (대흥동)  ...  1668  1468  1400\n",
              " 8   서울특별시  현대오일뱅크㈜직영 마포제일주유소       서울 마포구 서강로 76 (창전동)  ...  1698  1493  1198\n",
              " 9   서울특별시     SK에너지(주) 안국주유소       서울 마포구 양화로 33 (합정동)  ...  1763  1558     -\n",
              " 10  서울특별시        SK에너지 양지주유소      서울 마포구 마포대로 69 (도화동)  ...  1844  1644     -\n",
              " 11  서울특별시              마포주유소     서울 마포구 마포대로 186 (공덕동)  ...  1897  1698  1257\n",
              " 12  서울특별시              서강주유소      서울 마포구 독막로 134 (창전동)  ...     -     -     -\n",
              " \n",
              " [13 rows x 10 columns],\n",
              "        지역                  상호                            주소  ...   휘발유    경유  실내등유\n",
              " 0   서울특별시             문화사랑주유소         서울 서대문구 세검정로 87 (홍제동)  ...  1559  1359  1100\n",
              " 1   서울특별시       (주)창원이엔지 홍제지점         서울 서대문구 통일로 455 (홍제동)  ...  1559  1359  1200\n",
              " 2   서울특별시     (주)미래아스팔트 신우주유소         서울 서대문구 가좌로 106 (홍은동)  ...  1564  1365     -\n",
              " 3   서울특별시        (주)가재울뉴타운주유소              서울 서대문구 모래내로 205  ...  1572  1372     -\n",
              " 4   서울특별시   현대오일뱅크(주)직영 연세주유소               서울 서대문구 연희로 184  ...  1572  1372     -\n",
              " 5   서울특별시     지에스칼텍스(주)홍제동주유소               서울 서대문구 통일로 372  ...  1574  1374     -\n",
              " 6   서울특별시               남정주유소       서울 서대문구 모래내로 243 (남가좌동)  ...  1577  1377  1200\n",
              " 7   서울특별시             행촌제2주유소         서울 서대문구 성산로 490 (대신동)  ...  1582  1382     -\n",
              " 8   서울특별시  세일석유(주) 구도일주유소 두꺼비               서울 서대문구 성산로 312  ...  1582  1382  1100\n",
              " 9   서울특별시               연희주유소  서울 서대문구 연희로 129 (연희동 89-7번지)  ...  1582  1382     -\n",
              " 10  서울특별시    (주)안국에너지 삼보셀프주유소          서울 서대문구 연희로 78 (연희동)  ...  1588  1388     -\n",
              " 11  서울특별시    현대오일뱅크㈜직영 독립문주유소         서울 서대문구 통일로 384 (홍제동)  ...  1588  1388     -\n",
              " 12  서울특별시         중앙에너비스 동교지점          서울 서대문구 연희로 12 (창천동)  ...  1588  1388     -\n",
              " 13  서울특별시        삼미상사(주)서부주유소               서울 서대문구 성산로 255  ...  1597  1397     -\n",
              " 14  서울특별시               광호주유소         서울 서대문구 연희로 266 (홍은동)  ...  1598  1398     -\n",
              " \n",
              " [15 rows x 10 columns],\n",
              "        지역                    상호                          주소  ...   휘발유    경유  실내등유\n",
              " 0   서울특별시              만남의광장주유소        서울 서초구 양재대로12길 73-71  ...  1504  1299     -\n",
              " 1   서울특별시     에쓰오일(주)직영 오토테크주유소    서울특별시 서초구  효령로 356 (서초동)  ...  1578  1376     -\n",
              " 2   서울특별시        극동유화(주) 전당앞주유소     서울 서초구 남부순환로 2391 (서초동)  ...  1583  1383     -\n",
              " 3   서울특별시        (주)대농석유 남태령주유소       서울 서초구 과천대로 838 (방배동)  ...  1585  1385     -\n",
              " 4   서울특별시               강남대로주유소       서울 서초구 강남대로 206 (양재동)  ...  1593  1395     -\n",
              " 5   서울특별시         (주)한미석유 서초주유소        서울 서초구 반포대로 64 (서초동)  ...  1593  1393     -\n",
              " 6   서울특별시          대성석유(주)연일주유소           서울 서초구 남부순환로 2451  ...  1595  1398  1200\n",
              " 7   서울특별시                방배동주유소         서울 서초구 효령로 29 (방배동)  ...  1597  1395     -\n",
              " 8   서울특별시              서초꽃마을주유소        서울 서초구 반포대로 69 (서초동)  ...  1598  1398     -\n",
              " 9   서울특별시    현대오일뱅크(주)직영 팔레스주유소       서울 서초구 사평대로 136 (반포동)  ...  1599  1399     -\n",
              " 10  서울특별시                 한독주유소        서울 서초구 방배로 218 (방배동)  ...  1599  1399     -\n",
              " 11  서울특별시                 양재주유소             서울 서초구 바우뫼로 178  ...  1607  1407     -\n",
              " 12  서울특별시               태봉셀프주유소        서울 서초구 태봉로 117 (우면동)  ...  1607  1407     -\n",
              " 13  서울특별시               말죽거리주유소     서울 서초구 남부순환로 2650 (양재동)  ...  1616  1416  1256\n",
              " 14  서울특별시                신반포주유소        서울 서초구 사평대로 94 (반포동)  ...  1618  1418  1200\n",
              " 15  서울특별시        에너지플러스허브 삼방주유소       서울 서초구 사평대로 364 (서초동)  ...  1618  1418     -\n",
              " 16  서울특별시               반포그린주유소      서울 서초구 서초중앙로 239 (반포동)  ...  1618  1418     -\n",
              " 17  서울특별시     현대오일뱅크㈜직영 반포셀프주유소              서울 서초구 사평대로 12  ...  1619  1409     -\n",
              " 18  서울특별시   현대오일뱅크(주)직영 서초제일주유소       서울 서초구 사임당로 116 (서초동)  ...  1619  1414     -\n",
              " 19  서울특별시        지에스칼텍스(주)선천주유소       서울 서초구 동작대로 206 (방배동)  ...  1619  1409     -\n",
              " 20  서울특별시   현대오일뱅크(주)직영 방배현대주유소       서울 서초구 동작대로 182 (방배동)  ...  1624  1414  1100\n",
              " 21  서울특별시     현대오일뱅크㈜직영 양재현대주유소                서울 서초구 마방로 6  ...  1628  1424  1070\n",
              " 22  서울특별시          대신석유(주)대우주유소       서울 서초구 양재대로 173 (양재동)  ...  1639  1437     -\n",
              " 23  서울특별시        지에스칼텍스(주)내곡주유소              서울 서초구 헌릉로 210  ...  1645  1460  1260\n",
              " 24  서울특별시       지에스칼텍스(주)헌릉로주유소        서울 서초구 헌릉로 177 (내곡동)  ...  1645  1460  1250\n",
              " 25  서울특별시              (주)홈런주유소  서울 서초구 양재대로2길 100-30 (우면동)  ...  1648  1448     -\n",
              " 26  서울특별시       지에스칼텍스(주)남서울주유소        서울 서초구 나루터로 83 (잠원동)  ...  1675  1480     -\n",
              " 27  서울특별시  대성산업(주)직영 터미널(고속)주유소       서울 서초구 신반포로 222 (반포동)  ...  1678  1478  1050\n",
              " 28  서울특별시        대성산업(주)직영강남주유소       서울 서초구 반포대로 284 (반포동)  ...  1678  1478     -\n",
              " 29  서울특별시                크로바주유소        서울 서초구 효령로 327 (서초동)  ...  1698  1508     -\n",
              " 30  서울특별시               양재최고주유소         서울 서초구 매헌로 72 (양재동)  ...  1795  1495     -\n",
              " 31  서울특별시      현대오일뱅크㈜직영 사평로주유소       서울 서초구 사평대로 350 (서초동)  ...  1842  1642     -\n",
              " 32  서울특별시        (주)선문에너지 중앙주유소  서울특별시 서초구  바우뫼로 219 (양재1동)  ...  1947  1737     -\n",
              " 33  서울특별시            대신석유㈜서원주유소       서울 서초구 반포대로 142 (서초동)  ...  1968  1768     -\n",
              " 34  서울특별시               선우상사Q엔느         서울 서초구 방배로 66 (방배동)  ...  2087  1878     -\n",
              " \n",
              " [35 rows x 10 columns],\n",
              "        지역                 상호                       주소  ...   휘발유    경유  실내등유\n",
              " 0   서울특별시        (주)서울에너지 직영    서울 성동구 천호대로 324 (용답동)  ...  1549  1349     -\n",
              " 1   서울특별시              정호주유소    서울 성동구 고산자로 307 (마장동)  ...  1568  1358     -\n",
              " 2   서울특별시           KLP제2주유소     서울 성동구 동일로 249 (송정동)  ...  1576  1376     -\n",
              " 3   서울특별시     지에스칼텍스㈜ 도루코주유소          서울 성동구 아차산로 180  ...  1596  1396  1030\n",
              " 4   서울특별시  현대오일뱅크(주) 성동셀프주유소     서울 성동구 마장로 311 (마장동)  ...  1598  1398     -\n",
              " 5   서울특별시             아이콘주유소    서울 성동구 고산자로 273 (도선동)  ...  1618  1418  1100\n",
              " 6   서울특별시              삼우주유소          서울 성동구 천호대로 392  ...  1638  1428     -\n",
              " 7   서울특별시    SK에너지(주) 군자동주유소    서울 성동구 천호대로 446 (용답동)  ...  1639  1429     -\n",
              " 8   서울특별시    현대오일뱅크㈜직영 효진주유소           서울 성동구 동일로 129  ...  1648  1443  1028\n",
              " 9   서울특별시              경진주유소    서울 성동구 고산자로 348 (마장동)  ...  1648  1448  1250\n",
              " 10  서울특별시    kh에너지(주)성수만세주유소          서울 성동구 왕십리로 109  ...  1666  1456     -\n",
              " 11  서울특별시     SK에너지(주) 성수주유소   서울 성동구 뚝섬로 352 (성수동1가)  ...  1689  1489     -\n",
              " 12  서울특별시           SK세원2주유소  서울 성동구 광나루로 184 (성수동1가)  ...  1710  1535     -\n",
              " 13  서울특별시              금호주유소    서울 성동구 금호로 39 (금호동4가)  ...  1798  1596  1325\n",
              " 14  서울특별시              동일주유소  서울 성동구 광나루로 254 (성수동2가)  ...  1877  1675  1198\n",
              " 15  서울특별시      (주)옥수하이웨이스테이션    서울 성동구 독서당로 168 (옥수동)  ...  1895  1695     -\n",
              " 16  서울특별시             청계로주유소  서울 성동구 청계천로 454 (하왕십리동)  ...  1898  1697  1245\n",
              " \n",
              " [17 rows x 10 columns],\n",
              "        지역                 상호                         주소  ...   휘발유    경유  실내등유\n",
              " 0   서울특별시              원천주유소      서울 성북구 돌곶이로 142 (장위동)  ...  1527  1327     -\n",
              " 1   서울특별시     (주)삼표에너지 정릉주유소       서울 성북구 보국문로 35 (정릉동)  ...  1538  1338  1000\n",
              " 2   서울특별시  이케이에너지(주) 강산제2주유소             서울 성북구 보국문로 52  ...  1538  1338     -\n",
              " 3   서울특별시      이케이에너지㈜ 강산주유소      서울 성북구 보문로 27 (보문동7가)  ...  1539  1339  1000\n",
              " 4   서울특별시           (주)성북주유소             서울 성북구 보문로 142  ...  1549  1349     -\n",
              " 5   서울특별시  현대오일뱅크㈜직영 고대셀프주유소        서울 성북구 종암로 12 (종암동)  ...  1550  1350     -\n",
              " 6   서울특별시    지에스칼텍스(주) 종암주유소       서울 성북구 종암로 145 (종암동)  ...  1555  1355     -\n",
              " 7   서울특별시             신동방주유소        서울 성북구 월계로 84 (장위동)  ...  1557  1347     -\n",
              " 8   서울특별시  현대오일뱅크㈜직영 광덕셀프주유소      서울 성북구 보문로 89 (보문동5가)  ...  1557  1357     -\n",
              " 9   서울특별시    현대오일뱅크㈜직영 장삼주유소       서울 성북구 한천로 612 (장위동)  ...  1557  1357  1049\n",
              " 10  서울특별시       재정제2주유소 길음지점        서울 성북구 삼양로 78 (길음동)  ...  1558  1358  1200\n",
              " 11  서울특별시  현대오일뱅크㈜직영 북악셀프주유소       서울 성북구 정릉로 218 (정릉동)  ...  1558  1358     -\n",
              " 12  서울특별시       ㈜명연에너지 효성주유소              서울 성북구 화랑로 27  ...  1567  1449  1149\n",
              " 13  서울특별시    (주)신용 구도일주유소화랑로             서울 성북구 화랑로 174  ...  1567  1367     -\n",
              " 14  서울특별시              우리주유소             서울 성북구 화랑로 292  ...  1567  1357     -\n",
              " 15  서울특별시        중앙에너비스 종암지점              서울 성북구 종암로 58  ...  1567  1357     -\n",
              " 16  서울특별시              장위주유소      서울 성북구 화랑로 110 (하월곡동)  ...  1568  1367     -\n",
              " 17  서울특별시              삼선주유소            서울 성북구 창경궁로 324  ...  1587  1367     -\n",
              " 18  서울특별시   SK에너지(주) 드림랜드주유소       서울 성북구 월계로 128 (장위동)  ...  1589  1359  1084\n",
              " 19  서울특별시              신방주유소     서울 성북구 안암로 111 (안암동5가)  ...  1599  1399     -\n",
              " 20  서울특별시      지에스칼텍스㈜ 화랑주유소             서울 성북구 화랑로 185  ...  1599  1399  1190\n",
              " 21  서울특별시   현대오일뱅크㈜직영 아리랑주유소       서울 성북구 아리랑로 96 (정릉동)  ...  1628  1428  1049\n",
              " 22  서울특별시              동일주유소  서울특별시 성북구  보문로 85 (보문동5가)  ...  1629  1429  1319\n",
              " 23  서울특별시      지에스칼텍스㈜ 세창주유소            서울 성북구 동소문로 323  ...  1669  1469  1330\n",
              " \n",
              " [24 rows x 10 columns],\n",
              "        지역                  상호                        주소  ...   휘발유    경유  실내등유\n",
              " 0   서울특별시             송파알찬주유소    서울 송파구 백제고분로 229 (삼전동)  ...  1590  1390     -\n",
              " 1   서울특별시   지에스이앤알 직영 송파제일주유소      서울 송파구 삼학사로 50 (석촌동)  ...  1590  1390     -\n",
              " 2   서울특별시             삼전셀프주유소          서울 송파구 백제고분로 199  ...  1590  1384     -\n",
              " 3   서울특별시               삼화주유소          서울 송파구 백제고분로 125  ...  1593  1384     -\n",
              " 4   서울특별시               상아주유소             서울 송파구 거마로 82  ...  1593  1384   950\n",
              " 5   서울특별시             위례제일주유소           서울 송파구 위례서로 260  ...  1593  1384     -\n",
              " 6   서울특별시              아시아주유소      서울 송파구 도곡로 438 (잠실동)  ...  1593  1384     -\n",
              " 7   서울특별시            백제고분로주유소      서울 송파구 오금로 143 (방이동)  ...  1597  1397     -\n",
              " 8   서울특별시     (주)삼표에너지 훼미리주유소       서울 송파구 중대로 58 (문정동)  ...  1598  1398  1200\n",
              " 9   서울특별시      (주)삼표에너지 우리주유소            서울 송파구 동남로 153  ...  1599  1398  1230\n",
              " 10  서울특별시   현대오일뱅크㈜직영 잠실셀프주유소     서울 송파구 송파대로 397 (석촌동)  ...  1604  1407  1240\n",
              " 11  서울특별시            (주)잠실에너지     서울 송파구 송파대로 442 (송파동)  ...  1607  1407     -\n",
              " 12  서울특별시               대성주유소      서울 송파구 마천로 230 (마천동)  ...  1608  1408     -\n",
              " 13  서울특별시           제트라인DM주유소      서울 송파구 중대로 183 (가락동)  ...  1608  1408     -\n",
              " 14  서울특별시               완불주유소       서울 송파구 송파대로 3 (장지동)  ...  1615  1419     -\n",
              " 15  서울특별시               방이주유소  서울 송파구 위례성대로12길 38 (방이동)  ...  1617  1417     -\n",
              " 16  서울특별시           (주)정직한주유소      서울 송파구 오금로 455 (거여동)  ...  1618  1418     -\n",
              " 17  서울특별시   현대오일뱅크㈜직영 거여셀프주유소        서울 송파구 거마로 5 (거여동)  ...  1618  1418     -\n",
              " 18  서울특별시               송파주유소       서울 송파구 송이로 28 (송파동)  ...  1623  1423  1200\n",
              " 19  서울특별시              남성대주유소      서울 송파구 송파대로 52 (장지동)  ...  1625  1425     -\n",
              " 20  서울특별시            (주)유진주유소      서울 송파구 동남로 325 (오금동)  ...  1625  1428     -\n",
              " 21  서울특별시       (주)신화에너지 서울지점       서울 송파구 가락로 47 (석촌동)  ...  1625  1425  1100\n",
              " 22  서울특별시      (주)뉴명성산업 남성주유소    서울 송파구 백제고분로 474 (방이동)  ...  1625  1425     -\n",
              " 23  서울특별시      한강에너지(주)퍼스트주유소      서울 송파구 삼학사로 22 (석촌동)  ...  1625  1425     -\n",
              " 24  서울특별시        대성석유(주)석촌주유소          서울 송파구 백제고분로 289  ...  1628  1448  1200\n",
              " 25  서울특별시       (주)퍼스트오일서울주유소            서울 송파구 문정로 153  ...  1628  1428  1050\n",
              " 26  서울특별시  현대오일뱅크㈜직영 올림픽셀프주유소    서울 송파구 위례성대로 188 (오금동)  ...  1628  1428     -\n",
              " 27  서울특별시       (주)남경석유 세영주유소            서울 송파구 동남로 298  ...  1628  1418     -\n",
              " 28  서울특별시   지에스칼텍스(주)스마트위례주유소     서울 송파구 위례중앙로 43 (장지동)  ...  1630  1430     -\n",
              " 29  서울특별시   지에스칼텍스(주)가든파이브주유소           서울 송파구 탄천동로 740  ...  1634  1439     -\n",
              " 30  서울특별시     현대오일뱅크㈜직영 서원주유소      서울 송파구 중대로 154 (가락동)  ...  1648  1453  1095\n",
              " 31  서울특별시        대신석유(주)진양주유소     서울 송파구 올림픽로 499 (풍납동)  ...  1818  1618     -\n",
              " \n",
              " [32 rows x 10 columns],\n",
              "        지역                     상호                      주소  ...   휘발유    경유  실내등유\n",
              " 0   서울특별시                가로공원주유소  서울 양천구 가로공원로 165 (신월동)  ...  1524  1324     -\n",
              " 1   서울특별시                  현대주유소  서울 양천구 남부순환로 372 (신월동)  ...  1525  1325     -\n",
              " 2   서울특별시             개나리Self주유소  서울 양천구 남부순환로 442 (신월동)  ...  1529  1329     -\n",
              " 3   서울특별시            형산석유(주)원주유소        서울 양천구 남부순환로 408  ...  1539  1339  1100\n",
              " 4   서울특별시                 양천구주유소    서울 양천구 국회대로 275 (목동)  ...  1543  1338     -\n",
              " 5   서울특별시          지에스칼텍스㈜ 서호주유소        서울 양천구 남부순환로 317  ...  1554  1354     -\n",
              " 6   서울특별시        지에스이앤알 직영 서울주유소    서울 양천구 신정로 236 (신정동)  ...  1564  1364     -\n",
              " 7   서울특별시  현대오일뱅크(주)직영 남부순환셀프주유소  서울 양천구 남부순환로 553 (신월동)  ...  1564  1364     -\n",
              " 8   서울특별시      현대오일뱅크㈜직영 목동셀프주유소    서울 양천구 공항대로 648 (목동)  ...  1564  1364     -\n",
              " 9   서울특별시          지에스칼텍스㈜ 건지주유소   서울 양천구 안양천로 1171 (목동)  ...  1564  1364  1030\n",
              " 10  서울특별시  현대오일뱅크(주)직영 양천현대셀프주유소   서울 양천구 안양천로 1179 (목동)  ...  1564  1364     -\n",
              " 11  서울특별시                  신월주유소    서울 양천구 신월로 193 (신월동)  ...  1568  1368     -\n",
              " 12  서울특별시               (주)블루에너지    서울 양천구 중앙로 226 (신정동)  ...  1569  1369     -\n",
              " 13  서울특별시         (주)삼표에너지 목동주유소    서울 양천구 목동서로 129 (목동)  ...  1569  1369     -\n",
              " 14  서울특별시    현대오일뱅크(주)직영 양천셀프주유소           서울 양천구 목동로 17  ...  1574  1369     -\n",
              " 15  서울특별시                  목동주유소   서울 양천구 목동중앙로 125 (목동)  ...  1579  1379     -\n",
              " 16  서울특별시                 신정동주유소   서울 양천구 안양천로 663 (신정동)  ...  1584  1374     -\n",
              " 17  서울특별시              대농self주유소    서울 양천구 중앙로 331 (신월동)  ...  1589  1389     -\n",
              " 18  서울특별시             (주)서부트럭터미날    서울 양천구 신정로 167 (신정동)  ...  1599  1399  1150\n",
              " 19  서울특별시   현대오일뱅크(주)직영 신목동셀프주유소       서울 양천구 목동동로10길 13  ...  1618  1423     -\n",
              " 20  서울특별시         SK에너지(주) 경인주유소   서울 양천구 국회대로 170 (신정동)  ...  1619  1449     -\n",
              " 21  서울특별시            SK에너지(주) 신평    서울 양천구 목동남로 62 (신정동)  ...  1619  1419  1048\n",
              " 22  서울특별시                  양정주유소   서울 양천구 국회대로 158 (신정동)  ...  1628  1428     -\n",
              " 23  서울특별시                  신양주유소           서울 양천구 지양로 67  ...  1639  1439  1259\n",
              " 24  서울특별시       현대오일뱅크㈜직영 코리아주유소          서울 양천구 신목로7길 1  ...  1833  1628     -\n",
              " 25  서울특별시                  평화주유소   서울 양천구 안양천로 657 (신정동)  ...  1837  1626     -\n",
              " \n",
              " [26 rows x 10 columns],\n",
              "        지역                  상호                             주소  ...   휘발유    경유  실내등유\n",
              " 0   서울특별시            남서울고속주유소         서울 영등포구 가마산로 367 (대림동)  ...  1515  1315     -\n",
              " 1   서울특별시          영등포제일셀프주유소               서울 영등포구 가마산로 379  ...  1515  1315     -\n",
              " 2   서울특별시               성락주유소         서울 영등포구 가마산로 414 (신길동)  ...  1519  1317     -\n",
              " 3   서울특별시               도림주유소          서울 영등포구 도림로 343 (도림동)  ...  1529  1329     -\n",
              " 4   서울특별시            (주)MS주유소                서울 영등포구 대림로 230  ...  1548  1348     -\n",
              " 5   서울특별시             (주)강서오일                서울 영등포구 도신로 151  ...  1549  1349   999\n",
              " 6   서울특별시       지에스칼텍스㈜ 신길주유소           서울 영등포구 신길로 74 (신길동)  ...  1558  1348  1084\n",
              " 7   서울특별시     (주)지에스이앤알 보라주유소         서울 영등포구 영등포로 399 (신길동)  ...  1565  1365     -\n",
              " 8   서울특별시               행촌주유소          서울 영등포구 도신로 130 (신길동)  ...  1568  1368     -\n",
              " 9   서울특별시               매봉주유소          서울 영등포구 도신로 248 (신길동)  ...  1568  1368  1000\n",
              " 10  서울특별시        한경석유(주)경덕주유소       서울 영등포구 여의대방로23길 2 (신길동)  ...  1568  1368     -\n",
              " 11  서울특별시               한일주유소        서울 영등포구 도림로 486 (문래동3가)  ...  1580  1380  1200\n",
              " 12  서울특별시     (주)한미석유 제2한강주유소        서울 영등포구 선유로 260 (양평동4가)  ...  1588  1388     -\n",
              " 13  서울특별시              선유도주유소        서울 영등포구 양평로 141 (양평동5가)  ...  1588  1388     -\n",
              " 14  서울특별시      (주)대청에너지 대청주유소         서울 영등포구 가마산로 328 (대림동)  ...  1588  1378     -\n",
              " 15  서울특별시          영등포현대셀프주유소         서울 영등포구 경인로 822 (영등포동)  ...  1589  1389     -\n",
              " 16  서울특별시      ㈜지에스이앤알 모드니주유소                서울 영등포구 경인로 789  ...  1589  1389     -\n",
              " 17  서울특별시        씨앤에스유통 한성주유소              서울 영등포구 여의대방로 227  ...  1594  1394  1100\n",
              " 18  서울특별시      SK에너지(주) 기린주유소                서울 영등포구 선유로 270  ...  1598  1398     -\n",
              " 19  서울특별시      SK에너지(주) 양평주유소        서울 영등포구 선유로 195 (양평동3가)  ...  1598  1398     -\n",
              " 20  서울특별시     SK에너지(주) 신길동주유소         서울 영등포구 영등포로 348 (신길동)  ...  1599  1399  1173\n",
              " 21  서울특별시      성원이앤에스(주)영등포지점  서울 영등포구 국회대로52길 9-13 (영등포동7가)  ...  1828  1628  1250\n",
              " 22  서울특별시            버드나룻길주유소        서울 영등포구 버드나루로 111 (당산동)  ...  1940  1750  1340\n",
              " 23  서울특별시            KH여의도주유소        서울 영등포구 국회대로 794 (여의도동)  ...  1985  1784     -\n",
              " 24  서울특별시      SJ오일(주) 여의도주유소                 서울 영등포구 은행로 64  ...  1985  1800  1288\n",
              " 25  서울특별시   지에스칼텍스(주) 국회대로주유소        서울 영등포구 국회대로 746 (여의도동)  ...  1989  1789     -\n",
              " 26  서울특별시  현대오일뱅크㈜직영 여의도현대주유소       서울 영등포구 의사당대로 154 (여의도동)  ...  2099  1894     -\n",
              " 27  서울특별시       지에스칼텍스㈜ 화일주유소                서울 영등포구 도림로 415  ...     -     -     -\n",
              " 28  서울특별시   현대오일뱅크㈜직영 대일셀프주유소               서울 영등포구 영등포로 168  ...     -     -     -\n",
              " \n",
              " [29 rows x 10 columns],\n",
              "        지역                  상호                       주소  ...   휘발유    경유  실내등유\n",
              " 0   서울특별시   현대오일뱅크㈜직영 강변현대주유소       서울 용산구 원효로 9 (청암동)  ...  1808  1683     -\n",
              " 1   서울특별시             제3한강주유소     서울 용산구 한남대로 45 (한남동)  ...  1848  1648     -\n",
              " 2   서울특별시         (주)영원 풍기주유소   서울 용산구 원효로 178 (원효로2가)  ...  1930  1720  1367\n",
              " 3   서울특별시               한석주유소           서울 용산구 이촌로 164  ...  1975  1835     -\n",
              " 4   서울특별시    현대오일뱅크㈜직영 한남동주유소    서울 용산구 한남대로 204 (한남동)  ...  1988  1883     -\n",
              " 5   서울특별시           (주)신태성주유소   서울 용산구 원효로 147 (원효로3가)  ...  1988  1799  1237\n",
              " 6   서울특별시  현대오일뱅크(주)직영 소월길주유소      서울 용산구 소월로 66 (후암동)  ...  1997  1793     -\n",
              " 7   서울특별시    현대오일뱅크㈜직영 갈월동주유소    서울 용산구 한강대로 322 (갈월동)  ...  1998  1797   969\n",
              " 8   서울특별시            (주)남경주유소       서울 용산구 녹사평대로11길 24  ...  1999  1849  1268\n",
              " 9   서울특별시                에너비스     서울 용산구 한남대로 82 (한남동)  ...  2098  1898     -\n",
              " 10  서울특별시                한남지점   서울 용산구 한남대로21길 4 (한남동)  ...  2098  1898     -\n",
              " 11  서울특별시              동자동주유소  서울 용산구 한강대로104길 6 (동자동)  ...  2180  1980  1280\n",
              " 12  서울특별시               서계주유소     서울 용산구 청파로 367 (서계동)  ...  2384  2184  1657\n",
              " \n",
              " [13 rows x 10 columns],\n",
              "        지역                 상호                     주소  ...   휘발유    경유  실내등유\n",
              " 0   서울특별시             타이거주유소   서울 은평구 수색로 188 (증산동)  ...  1554  1354  1000\n",
              " 1   서울특별시              불광주유소   서울 은평구 연서로 314 (불광동)  ...  1557  1357     -\n",
              " 2   서울특별시  (주)명연에너지 수색훼미리주유소   서울 은평구 수색로 236 (수색동)  ...  1557  1357     -\n",
              " 3   서울특별시              다회주유소   서울 은평구 증산로 441 (신사동)  ...  1559  1359     -\n",
              " 4   서울특별시  지에스칼텍스(주)수색뉴타운주유소   서울 은평구 수색로 350 (수색동)  ...  1559  1359     -\n",
              " 5   서울특별시  현대오일뱅크㈜직영 은평드림주유소  서울 은평구 통일로 1151 (진관동)  ...  1568  1368  1000\n",
              " 6   서울특별시    지에스칼텍스㈜ 신사제일주유소   서울 은평구 증산로 423 (신사동)  ...  1568  1368  1000\n",
              " 7   서울특별시      지에스칼텍스㈜ 서부주유소   서울 은평구 응암로 210 (응암동)  ...  1568  1368  1000\n",
              " 8   서울특별시      지에스칼텍스㈜ 녹번주유소   서울 은평구 통일로 600 (녹번동)  ...  1574  1374     -\n",
              " 9   서울특별시      성원이앤에스(주)은평지점   서울 은평구 통일로 968 (진관동)  ...  1578  1378     -\n",
              " 10  서울특별시           은평뉴타운주유소   서울 은평구 통일로 924 (불광동)  ...  1578  1378  1030\n",
              " 11  서울특별시            제이제이에너지         서울 은평구 응암로 163  ...  1587  1387     -\n",
              " 12  서울특별시            박석고개주유소   서울 은평구 통일로 945 (갈현동)  ...  1588  1378     -\n",
              " 13  서울특별시           뉴타운셀프주유소        서울 은평구 통일로 1031  ...  1596  1396     -\n",
              " 14  서울특별시        대성산업㈜ 대성주유소         서울 은평구 통일로 642  ...  1619  1419     -\n",
              " 15  서울특별시             코끼리주유소   서울 은평구 서오릉로 41 (녹번동)  ...  1648  1448     -\n",
              " 16  서울특별시              삼융주유소   서울 은평구 수색로 299 (수색동)  ...     -     -     -\n",
              " \n",
              " [17 rows x 10 columns],\n",
              "       지역               상호                      주소  ...   휘발유    경유  실내등유\n",
              " 0  서울특별시    ㈜지에스이앤알 평창주유소  서울 종로구 평창문화로 135 (평창동)  ...  1670  1450     -\n",
              " 1  서울특별시           자하문주유소   서울 종로구 자하문로 248 (부암동)  ...  1670  1450     -\n",
              " 2  서울특별시            안풍주유소         서울 종로구 자하문로 303  ...  1670  1450     -\n",
              " 3  서울특별시         구도일주유소특종   서울 종로구 평창문화로 90 (평창동)  ...  1690  1470  1150\n",
              " 4  서울특별시  현대오일뱅크㈜직영 재동주유소     서울 종로구 율곡로 58 (경운동)  ...  1998  1773     -\n",
              " 5  서울특별시          SK북악주유소        서울 종로구 평창문화로 137  ...  1998  1848     -\n",
              " 6  서울특별시           경복궁주유소      서울 종로구 율곡로 6 (중학동)  ...  2095  1885     -\n",
              " 7  서울특별시  (주)중앙에너비스 혜화주유소        서울 종로구 창경궁로35길 1  ...  2098  1898  1100\n",
              " 8  서울특별시   (주)대양씨앤씨 사직주유소     서울 종로구 사직로 65 (사직동)  ...  2098  1896  1290\n",
              " \n",
              " [9 rows x 10 columns],\n",
              "        지역               상호                      주소  ...   휘발유    경유  실내등유\n",
              " 0   서울특별시            세화주유소          서울 중구 왕십리로 403  ...  1648  1448     -\n",
              " 1   서울특별시     현대오일뱅크 장원주유소     서울 중구 동호로 203 (신당동)  ...  1798  1598  1100\n",
              " 2   서울특별시            장충주유소  서울 중구 장충단로 202 (장충동1가)  ...  1938  1738     -\n",
              " 3   서울특별시            화성주유소           서울 중구 다산로 233  ...  1948  1778  1100\n",
              " 4   서울특별시           신당동주유소     서울 중구 다산로 242 (신당동)  ...  1968  1798  1150\n",
              " 5   서울특별시   SK에너지(주) 통일주유소           서울 중구 동호로 296  ...  1993  1798  1210\n",
              " 6   서울특별시            약수주유소           서울 중구 다산로 173  ...  2169  1912     -\n",
              " 7   서울특별시  SK에너지(주) 퇴계로주유소    서울 중구 퇴계로 228 (필동2가)  ...  2259  2069     -\n",
              " 8   서울특별시            필동주유소   서울 중구  퇴계로 196 (필동2가)  ...  2269  2099  1469\n",
              " 9   서울특별시            서남주유소            서울 중구 통일로 30  ...  2428  2259     -\n",
              " 10  서울특별시     에스씨(주) 역전주유소            서울 중구 퇴계로 15  ...     -     -     -\n",
              " \n",
              " [11 rows x 10 columns],\n",
              "        지역                  상호                     주소  ...   휘발유    경유  실내등유\n",
              " 0   서울특별시      (주)자연에너지 대창주유소   서울 중랑구 동일로 636 (면목동)  ...  1547  1347   900\n",
              " 1   서울특별시           면목SELF주유소   서울 중랑구 동일로 627 (면목동)  ...  1547  1347     -\n",
              " 2   서울특별시            (주)기지에너지  서울 중랑구 용마산로 716 (신내동)  ...  1555  1355  1050\n",
              " 3   서울특별시              오천만주유소   서울 중랑구 동일로 547 (면목동)  ...  1557  1357     -\n",
              " 4   서울특별시               대원주유소         서울 중랑구 동일로 600  ...  1557  1357  1050\n",
              " 5   서울특별시               우림주유소  서울 중랑구 용마산로 487 (망우동)  ...  1565  1365     -\n",
              " 6   서울특별시           구도일주유소 동천   서울 중랑구 동일로 654 (면목동)  ...  1567  1367     -\n",
              " 7   서울특별시               신내주유소  서울 중랑구 용마산로 705 (신내동)  ...  1573  1372  1050\n",
              " 8   서울특별시              용마로주유소  서울 중랑구 용마산로 309 (면목동)  ...  1577  1377  1000\n",
              " 9   서울특별시     (주)태영 구도일주유소 한인   서울 중랑구 망우로 170 (상봉동)  ...  1589  1389   900\n",
              " 10  서울특별시               범아주유소    서울 중랑구 동일로 881 (묵동)  ...  1595  1395  1090\n",
              " 11  서울특별시  현대오일뱅크㈜직영 중랑교셀프주유소   서울 중랑구 망우로 229 (중화동)  ...  1597  1397     -\n",
              " 12  서울특별시             신일셀프주유소    서울 중랑구 상봉로 58 (망우동)  ...  1599  1399  1100\n",
              " 13  서울특별시       지에스칼텍스㈜ 소망주유소         서울 중랑구 망우로 475  ...     -     -     -\n",
              " 14  서울특별시               대양주유소  서울 중랑구 봉우재로 105 (상봉동)  ...     -     -     -\n",
              " \n",
              " [15 rows x 10 columns]]"
            ]
          },
          "metadata": {
            "tags": []
          },
          "execution_count": 54
        }
      ]
    },
    {
      "cell_type": "code",
      "metadata": {
        "colab": {
          "base_uri": "https://localhost:8080/"
        },
        "id": "DjYZaBIlnYWO",
        "outputId": "0d9bacab-c487-4b59-fd1f-e1990bbeaa9a"
      },
      "source": [
        "station_raw = pd.concat(tmp_raw)\n",
        "station_raw\n",
        "station_raw.info()"
      ],
      "execution_count": null,
      "outputs": [
        {
          "output_type": "stream",
          "text": [
            "<class 'pandas.core.frame.DataFrame'>\n",
            "Int64Index: 486 entries, 0 to 14\n",
            "Data columns (total 10 columns):\n",
            " #   Column  Non-Null Count  Dtype \n",
            "---  ------  --------------  ----- \n",
            " 0   지역      486 non-null    object\n",
            " 1   상호      486 non-null    object\n",
            " 2   주소      486 non-null    object\n",
            " 3   상표      486 non-null    object\n",
            " 4   전화번호    486 non-null    object\n",
            " 5   셀프여부    486 non-null    object\n",
            " 6   고급휘발유   486 non-null    object\n",
            " 7   휘발유     486 non-null    object\n",
            " 8   경유      486 non-null    object\n",
            " 9   실내등유    486 non-null    object\n",
            "dtypes: object(10)\n",
            "memory usage: 41.8+ KB\n"
          ],
          "name": "stdout"
        }
      ]
    },
    {
      "cell_type": "code",
      "metadata": {
        "colab": {
          "base_uri": "https://localhost:8080/",
          "height": 204
        },
        "id": "q38WddwunYQr",
        "outputId": "6fc77201-2582-401a-ce90-18dad71bc607"
      },
      "source": [
        "#데이터프레임 재구성\n",
        "\n",
        "stations=pd.DataFrame({\"Oil_store\":station_raw[\"상호\"],\n",
        "            \"주소\":station_raw[\"주소\"],\n",
        "            \"가격\":station_raw[\"휘발유\"],\n",
        "            \"셀프\":station_raw[\"셀프여부\"],\n",
        "            \"상표\":station_raw[\"상표\"]})\n",
        "stations.head()"
      ],
      "execution_count": null,
      "outputs": [
        {
          "output_type": "execute_result",
          "data": {
            "text/html": [
              "<div>\n",
              "<style scoped>\n",
              "    .dataframe tbody tr th:only-of-type {\n",
              "        vertical-align: middle;\n",
              "    }\n",
              "\n",
              "    .dataframe tbody tr th {\n",
              "        vertical-align: top;\n",
              "    }\n",
              "\n",
              "    .dataframe thead th {\n",
              "        text-align: right;\n",
              "    }\n",
              "</style>\n",
              "<table border=\"1\" class=\"dataframe\">\n",
              "  <thead>\n",
              "    <tr style=\"text-align: right;\">\n",
              "      <th></th>\n",
              "      <th>Oil_store</th>\n",
              "      <th>주소</th>\n",
              "      <th>가격</th>\n",
              "      <th>셀프</th>\n",
              "      <th>상표</th>\n",
              "    </tr>\n",
              "  </thead>\n",
              "  <tbody>\n",
              "    <tr>\n",
              "      <th>0</th>\n",
              "      <td>오일프러스 셀프</td>\n",
              "      <td>서울 강남구 남부순환로 2651 (도곡동)</td>\n",
              "      <td>1593</td>\n",
              "      <td>Y</td>\n",
              "      <td>SK에너지</td>\n",
              "    </tr>\n",
              "    <tr>\n",
              "      <th>1</th>\n",
              "      <td>(주)보성 세곡주유소</td>\n",
              "      <td>서울 강남구  헌릉로 731 (세곡동)</td>\n",
              "      <td>1595</td>\n",
              "      <td>Y</td>\n",
              "      <td>SK에너지</td>\n",
              "    </tr>\n",
              "    <tr>\n",
              "      <th>2</th>\n",
              "      <td>방죽주유소</td>\n",
              "      <td>서울 강남구 밤고개로 215 (율현동)</td>\n",
              "      <td>1607</td>\n",
              "      <td>Y</td>\n",
              "      <td>GS칼텍스</td>\n",
              "    </tr>\n",
              "    <tr>\n",
              "      <th>3</th>\n",
              "      <td>지에스칼텍스(주)직영 산성주유소</td>\n",
              "      <td>서울 강남구 헌릉로 730</td>\n",
              "      <td>1610</td>\n",
              "      <td>Y</td>\n",
              "      <td>GS칼텍스</td>\n",
              "    </tr>\n",
              "    <tr>\n",
              "      <th>4</th>\n",
              "      <td>현대오일뱅크 도곡셀프주유소</td>\n",
              "      <td>서울 강남구  남부순환로 2718 (도곡2동)</td>\n",
              "      <td>1613</td>\n",
              "      <td>Y</td>\n",
              "      <td>현대오일뱅크</td>\n",
              "    </tr>\n",
              "  </tbody>\n",
              "</table>\n",
              "</div>"
            ],
            "text/plain": [
              "           Oil_store                         주소    가격 셀프      상표\n",
              "0           오일프러스 셀프    서울 강남구 남부순환로 2651 (도곡동)  1593  Y   SK에너지\n",
              "1        (주)보성 세곡주유소      서울 강남구  헌릉로 731 (세곡동)  1595  Y   SK에너지\n",
              "2              방죽주유소      서울 강남구 밤고개로 215 (율현동)  1607  Y   GS칼텍스\n",
              "3  지에스칼텍스(주)직영 산성주유소             서울 강남구 헌릉로 730  1610  Y   GS칼텍스\n",
              "4     현대오일뱅크 도곡셀프주유소  서울 강남구  남부순환로 2718 (도곡2동)  1613  Y  현대오일뱅크"
            ]
          },
          "metadata": {
            "tags": []
          },
          "execution_count": 56
        }
      ]
    },
    {
      "cell_type": "code",
      "metadata": {
        "colab": {
          "base_uri": "https://localhost:8080/",
          "height": 204
        },
        "id": "a6bmYfbGxZGy",
        "outputId": "63f89ed2-0c9b-41ad-db41-6a45cea94dab"
      },
      "source": [
        "#파생변수 추가\n",
        "stations[\"구\"] = [addr.split()[1] for addr in stations[\"주소\"]]\n",
        "stations.head()"
      ],
      "execution_count": null,
      "outputs": [
        {
          "output_type": "execute_result",
          "data": {
            "text/html": [
              "<div>\n",
              "<style scoped>\n",
              "    .dataframe tbody tr th:only-of-type {\n",
              "        vertical-align: middle;\n",
              "    }\n",
              "\n",
              "    .dataframe tbody tr th {\n",
              "        vertical-align: top;\n",
              "    }\n",
              "\n",
              "    .dataframe thead th {\n",
              "        text-align: right;\n",
              "    }\n",
              "</style>\n",
              "<table border=\"1\" class=\"dataframe\">\n",
              "  <thead>\n",
              "    <tr style=\"text-align: right;\">\n",
              "      <th></th>\n",
              "      <th>Oil_store</th>\n",
              "      <th>주소</th>\n",
              "      <th>가격</th>\n",
              "      <th>셀프</th>\n",
              "      <th>상표</th>\n",
              "      <th>구</th>\n",
              "    </tr>\n",
              "  </thead>\n",
              "  <tbody>\n",
              "    <tr>\n",
              "      <th>0</th>\n",
              "      <td>오일프러스 셀프</td>\n",
              "      <td>서울 강남구 남부순환로 2651 (도곡동)</td>\n",
              "      <td>1593</td>\n",
              "      <td>Y</td>\n",
              "      <td>SK에너지</td>\n",
              "      <td>강남구</td>\n",
              "    </tr>\n",
              "    <tr>\n",
              "      <th>1</th>\n",
              "      <td>(주)보성 세곡주유소</td>\n",
              "      <td>서울 강남구  헌릉로 731 (세곡동)</td>\n",
              "      <td>1595</td>\n",
              "      <td>Y</td>\n",
              "      <td>SK에너지</td>\n",
              "      <td>강남구</td>\n",
              "    </tr>\n",
              "    <tr>\n",
              "      <th>2</th>\n",
              "      <td>방죽주유소</td>\n",
              "      <td>서울 강남구 밤고개로 215 (율현동)</td>\n",
              "      <td>1607</td>\n",
              "      <td>Y</td>\n",
              "      <td>GS칼텍스</td>\n",
              "      <td>강남구</td>\n",
              "    </tr>\n",
              "    <tr>\n",
              "      <th>3</th>\n",
              "      <td>지에스칼텍스(주)직영 산성주유소</td>\n",
              "      <td>서울 강남구 헌릉로 730</td>\n",
              "      <td>1610</td>\n",
              "      <td>Y</td>\n",
              "      <td>GS칼텍스</td>\n",
              "      <td>강남구</td>\n",
              "    </tr>\n",
              "    <tr>\n",
              "      <th>4</th>\n",
              "      <td>현대오일뱅크 도곡셀프주유소</td>\n",
              "      <td>서울 강남구  남부순환로 2718 (도곡2동)</td>\n",
              "      <td>1613</td>\n",
              "      <td>Y</td>\n",
              "      <td>현대오일뱅크</td>\n",
              "      <td>강남구</td>\n",
              "    </tr>\n",
              "  </tbody>\n",
              "</table>\n",
              "</div>"
            ],
            "text/plain": [
              "           Oil_store                         주소    가격 셀프      상표    구\n",
              "0           오일프러스 셀프    서울 강남구 남부순환로 2651 (도곡동)  1593  Y   SK에너지  강남구\n",
              "1        (주)보성 세곡주유소      서울 강남구  헌릉로 731 (세곡동)  1595  Y   SK에너지  강남구\n",
              "2              방죽주유소      서울 강남구 밤고개로 215 (율현동)  1607  Y   GS칼텍스  강남구\n",
              "3  지에스칼텍스(주)직영 산성주유소             서울 강남구 헌릉로 730  1610  Y   GS칼텍스  강남구\n",
              "4     현대오일뱅크 도곡셀프주유소  서울 강남구  남부순환로 2718 (도곡2동)  1613  Y  현대오일뱅크  강남구"
            ]
          },
          "metadata": {
            "tags": []
          },
          "execution_count": 57
        }
      ]
    },
    {
      "cell_type": "code",
      "metadata": {
        "colab": {
          "base_uri": "https://localhost:8080/"
        },
        "id": "MP99kmV2xZD7",
        "outputId": "6382b428-0577-4187-e994-8bbcd54497f5"
      },
      "source": [
        "stations[\"구\"].unique()"
      ],
      "execution_count": null,
      "outputs": [
        {
          "output_type": "execute_result",
          "data": {
            "text/plain": [
              "array(['강남구', '강동구', '강북구', '강서구', '관악구', '광진구', '구로구', '금천구', '노원구',\n",
              "       '도봉구', '동대문구', '동작구', '마포구', '서대문구', '서초구', '성동구', '성북구', '송파구',\n",
              "       '양천구', '영등포구', '용산구', '은평구', '종로구', '중구', '중랑구'], dtype=object)"
            ]
          },
          "metadata": {
            "tags": []
          },
          "execution_count": 59
        }
      ]
    },
    {
      "cell_type": "code",
      "metadata": {
        "id": "L3jfapPFxZBm"
      },
      "source": [
        "#결측치 처리\n",
        "\n",
        "stations[stations[\"가격\"] == \"-\"]\n",
        "stations = stations[stations[\"가격\"]!= \"-\"]"
      ],
      "execution_count": null,
      "outputs": []
    },
    {
      "cell_type": "code",
      "metadata": {
        "colab": {
          "base_uri": "https://localhost:8080/",
          "height": 49
        },
        "id": "BhN8PTOgxmG6",
        "outputId": "e5767d9d-e628-458c-fab7-cff5f90f69e8"
      },
      "source": [
        "stations[stations[\"가격\"] == \"-\"]"
      ],
      "execution_count": null,
      "outputs": [
        {
          "output_type": "execute_result",
          "data": {
            "text/html": [
              "<div>\n",
              "<style scoped>\n",
              "    .dataframe tbody tr th:only-of-type {\n",
              "        vertical-align: middle;\n",
              "    }\n",
              "\n",
              "    .dataframe tbody tr th {\n",
              "        vertical-align: top;\n",
              "    }\n",
              "\n",
              "    .dataframe thead th {\n",
              "        text-align: right;\n",
              "    }\n",
              "</style>\n",
              "<table border=\"1\" class=\"dataframe\">\n",
              "  <thead>\n",
              "    <tr style=\"text-align: right;\">\n",
              "      <th></th>\n",
              "      <th>Oil_store</th>\n",
              "      <th>주소</th>\n",
              "      <th>가격</th>\n",
              "      <th>셀프</th>\n",
              "      <th>상표</th>\n",
              "      <th>구</th>\n",
              "    </tr>\n",
              "  </thead>\n",
              "  <tbody>\n",
              "  </tbody>\n",
              "</table>\n",
              "</div>"
            ],
            "text/plain": [
              "Empty DataFrame\n",
              "Columns: [Oil_store, 주소, 가격, 셀프, 상표, 구]\n",
              "Index: []"
            ]
          },
          "metadata": {
            "tags": []
          },
          "execution_count": 61
        }
      ]
    },
    {
      "cell_type": "code",
      "metadata": {
        "id": "PTY-4NJpxmEl"
      },
      "source": [
        "#인덱스 재정렬\n",
        "stations.reset_index(inplace=True)"
      ],
      "execution_count": null,
      "outputs": []
    },
    {
      "cell_type": "code",
      "metadata": {
        "colab": {
          "base_uri": "https://localhost:8080/",
          "height": 204
        },
        "id": "mUkolIPXxmCp",
        "outputId": "9e52f0db-1a33-45a7-e77e-e528aa396247"
      },
      "source": [
        "stations.head()"
      ],
      "execution_count": null,
      "outputs": [
        {
          "output_type": "execute_result",
          "data": {
            "text/html": [
              "<div>\n",
              "<style scoped>\n",
              "    .dataframe tbody tr th:only-of-type {\n",
              "        vertical-align: middle;\n",
              "    }\n",
              "\n",
              "    .dataframe tbody tr th {\n",
              "        vertical-align: top;\n",
              "    }\n",
              "\n",
              "    .dataframe thead th {\n",
              "        text-align: right;\n",
              "    }\n",
              "</style>\n",
              "<table border=\"1\" class=\"dataframe\">\n",
              "  <thead>\n",
              "    <tr style=\"text-align: right;\">\n",
              "      <th></th>\n",
              "      <th>index</th>\n",
              "      <th>Oil_store</th>\n",
              "      <th>주소</th>\n",
              "      <th>가격</th>\n",
              "      <th>셀프</th>\n",
              "      <th>상표</th>\n",
              "      <th>구</th>\n",
              "    </tr>\n",
              "  </thead>\n",
              "  <tbody>\n",
              "    <tr>\n",
              "      <th>0</th>\n",
              "      <td>0</td>\n",
              "      <td>오일프러스 셀프</td>\n",
              "      <td>서울 강남구 남부순환로 2651 (도곡동)</td>\n",
              "      <td>1593</td>\n",
              "      <td>Y</td>\n",
              "      <td>SK에너지</td>\n",
              "      <td>강남구</td>\n",
              "    </tr>\n",
              "    <tr>\n",
              "      <th>1</th>\n",
              "      <td>1</td>\n",
              "      <td>(주)보성 세곡주유소</td>\n",
              "      <td>서울 강남구  헌릉로 731 (세곡동)</td>\n",
              "      <td>1595</td>\n",
              "      <td>Y</td>\n",
              "      <td>SK에너지</td>\n",
              "      <td>강남구</td>\n",
              "    </tr>\n",
              "    <tr>\n",
              "      <th>2</th>\n",
              "      <td>2</td>\n",
              "      <td>방죽주유소</td>\n",
              "      <td>서울 강남구 밤고개로 215 (율현동)</td>\n",
              "      <td>1607</td>\n",
              "      <td>Y</td>\n",
              "      <td>GS칼텍스</td>\n",
              "      <td>강남구</td>\n",
              "    </tr>\n",
              "    <tr>\n",
              "      <th>3</th>\n",
              "      <td>3</td>\n",
              "      <td>지에스칼텍스(주)직영 산성주유소</td>\n",
              "      <td>서울 강남구 헌릉로 730</td>\n",
              "      <td>1610</td>\n",
              "      <td>Y</td>\n",
              "      <td>GS칼텍스</td>\n",
              "      <td>강남구</td>\n",
              "    </tr>\n",
              "    <tr>\n",
              "      <th>4</th>\n",
              "      <td>4</td>\n",
              "      <td>현대오일뱅크 도곡셀프주유소</td>\n",
              "      <td>서울 강남구  남부순환로 2718 (도곡2동)</td>\n",
              "      <td>1613</td>\n",
              "      <td>Y</td>\n",
              "      <td>현대오일뱅크</td>\n",
              "      <td>강남구</td>\n",
              "    </tr>\n",
              "  </tbody>\n",
              "</table>\n",
              "</div>"
            ],
            "text/plain": [
              "   index          Oil_store                         주소    가격 셀프      상표    구\n",
              "0      0           오일프러스 셀프    서울 강남구 남부순환로 2651 (도곡동)  1593  Y   SK에너지  강남구\n",
              "1      1        (주)보성 세곡주유소      서울 강남구  헌릉로 731 (세곡동)  1595  Y   SK에너지  강남구\n",
              "2      2              방죽주유소      서울 강남구 밤고개로 215 (율현동)  1607  Y   GS칼텍스  강남구\n",
              "3      3  지에스칼텍스(주)직영 산성주유소             서울 강남구 헌릉로 730  1610  Y   GS칼텍스  강남구\n",
              "4      4     현대오일뱅크 도곡셀프주유소  서울 강남구  남부순환로 2718 (도곡2동)  1613  Y  현대오일뱅크  강남구"
            ]
          },
          "metadata": {
            "tags": []
          },
          "execution_count": 63
        }
      ]
    },
    {
      "cell_type": "code",
      "metadata": {
        "id": "liHUyDusxl_p"
      },
      "source": [
        "#index 컬럼삭제\n",
        "\n",
        "del stations[\"index\"]"
      ],
      "execution_count": null,
      "outputs": []
    },
    {
      "cell_type": "code",
      "metadata": {
        "colab": {
          "base_uri": "https://localhost:8080/",
          "height": 204
        },
        "id": "-2BTEYkRxl9H",
        "outputId": "37fc6851-38bc-4342-ae60-ba6c54858ce9"
      },
      "source": [
        "stations.head()"
      ],
      "execution_count": null,
      "outputs": [
        {
          "output_type": "execute_result",
          "data": {
            "text/html": [
              "<div>\n",
              "<style scoped>\n",
              "    .dataframe tbody tr th:only-of-type {\n",
              "        vertical-align: middle;\n",
              "    }\n",
              "\n",
              "    .dataframe tbody tr th {\n",
              "        vertical-align: top;\n",
              "    }\n",
              "\n",
              "    .dataframe thead th {\n",
              "        text-align: right;\n",
              "    }\n",
              "</style>\n",
              "<table border=\"1\" class=\"dataframe\">\n",
              "  <thead>\n",
              "    <tr style=\"text-align: right;\">\n",
              "      <th></th>\n",
              "      <th>Oil_store</th>\n",
              "      <th>주소</th>\n",
              "      <th>가격</th>\n",
              "      <th>셀프</th>\n",
              "      <th>상표</th>\n",
              "      <th>구</th>\n",
              "    </tr>\n",
              "  </thead>\n",
              "  <tbody>\n",
              "    <tr>\n",
              "      <th>0</th>\n",
              "      <td>오일프러스 셀프</td>\n",
              "      <td>서울 강남구 남부순환로 2651 (도곡동)</td>\n",
              "      <td>1593</td>\n",
              "      <td>Y</td>\n",
              "      <td>SK에너지</td>\n",
              "      <td>강남구</td>\n",
              "    </tr>\n",
              "    <tr>\n",
              "      <th>1</th>\n",
              "      <td>(주)보성 세곡주유소</td>\n",
              "      <td>서울 강남구  헌릉로 731 (세곡동)</td>\n",
              "      <td>1595</td>\n",
              "      <td>Y</td>\n",
              "      <td>SK에너지</td>\n",
              "      <td>강남구</td>\n",
              "    </tr>\n",
              "    <tr>\n",
              "      <th>2</th>\n",
              "      <td>방죽주유소</td>\n",
              "      <td>서울 강남구 밤고개로 215 (율현동)</td>\n",
              "      <td>1607</td>\n",
              "      <td>Y</td>\n",
              "      <td>GS칼텍스</td>\n",
              "      <td>강남구</td>\n",
              "    </tr>\n",
              "    <tr>\n",
              "      <th>3</th>\n",
              "      <td>지에스칼텍스(주)직영 산성주유소</td>\n",
              "      <td>서울 강남구 헌릉로 730</td>\n",
              "      <td>1610</td>\n",
              "      <td>Y</td>\n",
              "      <td>GS칼텍스</td>\n",
              "      <td>강남구</td>\n",
              "    </tr>\n",
              "    <tr>\n",
              "      <th>4</th>\n",
              "      <td>현대오일뱅크 도곡셀프주유소</td>\n",
              "      <td>서울 강남구  남부순환로 2718 (도곡2동)</td>\n",
              "      <td>1613</td>\n",
              "      <td>Y</td>\n",
              "      <td>현대오일뱅크</td>\n",
              "      <td>강남구</td>\n",
              "    </tr>\n",
              "  </tbody>\n",
              "</table>\n",
              "</div>"
            ],
            "text/plain": [
              "           Oil_store                         주소    가격 셀프      상표    구\n",
              "0           오일프러스 셀프    서울 강남구 남부순환로 2651 (도곡동)  1593  Y   SK에너지  강남구\n",
              "1        (주)보성 세곡주유소      서울 강남구  헌릉로 731 (세곡동)  1595  Y   SK에너지  강남구\n",
              "2              방죽주유소      서울 강남구 밤고개로 215 (율현동)  1607  Y   GS칼텍스  강남구\n",
              "3  지에스칼텍스(주)직영 산성주유소             서울 강남구 헌릉로 730  1610  Y   GS칼텍스  강남구\n",
              "4     현대오일뱅크 도곡셀프주유소  서울 강남구  남부순환로 2718 (도곡2동)  1613  Y  현대오일뱅크  강남구"
            ]
          },
          "metadata": {
            "tags": []
          },
          "execution_count": 65
        }
      ]
    },
    {
      "cell_type": "code",
      "metadata": {
        "colab": {
          "base_uri": "https://localhost:8080/"
        },
        "id": "8UrXjrHJxY-w",
        "outputId": "000baeaa-cecd-4d96-ea41-3aa0aefe79cd"
      },
      "source": [
        "#휘발유 컬럼 형변환 문자 -> 숫자\n",
        "stations[\"가격\"] = [float(val) for val in stations[\"가격\"]]\n",
        "stations.info()"
      ],
      "execution_count": null,
      "outputs": [
        {
          "output_type": "stream",
          "text": [
            "<class 'pandas.core.frame.DataFrame'>\n",
            "Int64Index: 474 entries, 0 to 473\n",
            "Data columns (total 6 columns):\n",
            " #   Column     Non-Null Count  Dtype  \n",
            "---  ------     --------------  -----  \n",
            " 0   Oil_store  474 non-null    object \n",
            " 1   주소         474 non-null    object \n",
            " 2   가격         474 non-null    float64\n",
            " 3   셀프         474 non-null    object \n",
            " 4   상표         474 non-null    object \n",
            " 5   구          474 non-null    object \n",
            "dtypes: float64(1), object(5)\n",
            "memory usage: 25.9+ KB\n"
          ],
          "name": "stdout"
        }
      ]
    },
    {
      "cell_type": "code",
      "metadata": {
        "colab": {
          "base_uri": "https://localhost:8080/"
        },
        "id": "kaC8JH-rnYJs",
        "outputId": "017816a2-0d6b-40ef-af08-e898fbdb177d"
      },
      "source": [
        ""
      ],
      "execution_count": null,
      "outputs": [
        {
          "output_type": "stream",
          "text": [
            "Object `read.csv` not found.\n"
          ],
          "name": "stdout"
        }
      ]
    },
    {
      "cell_type": "code",
      "metadata": {
        "id": "lFB3pQ2EnYCd"
      },
      "source": [
        ""
      ],
      "execution_count": null,
      "outputs": []
    }
  ]
}