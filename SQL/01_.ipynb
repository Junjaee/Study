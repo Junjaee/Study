{
  "nbformat": 4,
  "nbformat_minor": 0,
  "metadata": {
    "colab": {
      "name": "01_.ipynb",
      "provenance": [],
      "collapsed_sections": [],
      "authorship_tag": "ABX9TyMNgZ1K7rzxrxrE5Y1rTji0",
      "include_colab_link": true
    },
    "kernelspec": {
      "name": "python3",
      "display_name": "Python 3"
    },
    "language_info": {
      "name": "python"
    }
  },
  "cells": [
    {
      "cell_type": "markdown",
      "metadata": {
        "id": "view-in-github",
        "colab_type": "text"
      },
      "source": [
        "<a href=\"https://colab.research.google.com/github/Junjaee/Study/blob/main/SQL/01_.ipynb\" target=\"_parent\"><img src=\"https://colab.research.google.com/assets/colab-badge.svg\" alt=\"Open In Colab\"/></a>"
      ]
    },
    {
      "cell_type": "markdown",
      "metadata": {
        "id": "GWDR4xr5YzkL"
      },
      "source": [
        "데이터 베이스(DBMS) : 파일 -> DBMS\n",
        "====================\n",
        "- Data Persistence : 파일 -> DBMS\n",
        "- DataWareHouse : 정보에 입각한 의사결정을 내릴 수 있도록 분석 가능한 정보의 중앙 레포지토리\n",
        "- Data Mining : 대규모로 저장된 데이터 안에서 체계적이고 자동적으로 통계적 규칙이나 패턴을 찾아내는 것\n",
        "\n",
        "1. 제품의 종류 : Oracle, MS-SQL Server, DB2, informix, sybase, mysql, .....\n",
        "\n",
        "2. 연결 방식\n",
        "\t- 로컬 DBMS : Access, SQLite\n",
        "\t- 네트워크 DBMS : 서버용, 클라이언트용\n",
        "\n",
        "3. MySQL의 클라이언트 프로그램\n",
        "\t- 콘솔용 : mysql.exe (서버용 : mysqld.exe)\n",
        "\t- 윈도우용 : \n",
        "\t\t- workbench\n",
        "\t\t- HeidiSql\n",
        "\n",
        "4. 데이터의 저장 형태\n",
        "  - 1 계층형 DB : Tree\n",
        "  - 2 네트워크형 DB : Graph\n",
        "  - 3 관계형 DB : Table\n",
        "  - 4 객체지향형 DB\n",
        "  - 5 객체관계형\n",
        "\n",
        "5. DB 단위\n",
        "\n",
        "  - 필드< 레코드 < 테이블 < DB < DataBank\n",
        "\n",
        "  - Table에서 열 : 컬럼, 행 : 레코드(튜플), 하나의 데이터 : 필드\n",
        "\n",
        "  - 데이터 개수를 물어본다면 필드가 아닌 레코드의 개수를 물어보는 것이다\n",
        "\n",
        "6. DB 서버에 접속속소\n",
        "  - 콘솔 이용\n",
        "      - mysql -uroot -p(비밀번호)\n",
        "      - mysql -uroot -p\n",
        "      - mysql -h127.0.0.1 -uroot -p(비밀번호)\n",
        "      - show databases; (sakila와 world는 샘플 DB) <br>\n",
        "        use db명; <br>\n",
        "        show tables; <br>\n",
        "        desc 테이블명; <br>"
      ]
    },
    {
      "cell_type": "code",
      "metadata": {
        "id": "j6dsqIkFYwO0"
      },
      "source": [
        ""
      ],
      "execution_count": null,
      "outputs": []
    }
  ]
}