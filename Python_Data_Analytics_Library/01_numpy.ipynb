{
  "nbformat": 4,
  "nbformat_minor": 0,
  "metadata": {
    "colab": {
      "name": "01_numpy.ipynb",
      "provenance": [],
      "collapsed_sections": [],
      "authorship_tag": "ABX9TyNoK1GcjS9Zo1f33J4+qRcK",
      "include_colab_link": true
    },
    "kernelspec": {
      "name": "python3",
      "display_name": "Python 3"
    },
    "language_info": {
      "name": "python"
    }
  },
  "cells": [
    {
      "cell_type": "markdown",
      "metadata": {
        "id": "view-in-github",
        "colab_type": "text"
      },
      "source": [
        "<a href=\"https://colab.research.google.com/github/Junjaee/Study/blob/main/Python_Data_Analytics_Library/01_numpy.ipynb\" target=\"_parent\"><img src=\"https://colab.research.google.com/assets/colab-badge.svg\" alt=\"Open In Colab\"/></a>"
      ]
    },
    {
      "cell_type": "markdown",
      "metadata": {
        "id": "y098DxZpFJrX"
      },
      "source": [
        "\n",
        "\n",
        "## 특징\n",
        "\n",
        "  - 벡터 및 행렬 연산과 관련된 편리한 기능을 제공(선형 대수 관련)\n",
        "  - 리스트에 비해 빠르고 메모리를 효율적으로 사용할 수 있는 배역(ndarray) 제공\n",
        "  - 반복문 없이 데이터 배열에 대한 처리를 지원(인덱싱, 질의)\n",
        "  - http://www.numpy.org\n",
        "  \n"
      ]
    },
    {
      "cell_type": "code",
      "metadata": {
        "id": "94gs14KwFGL_"
      },
      "source": [
        "import numpy as np"
      ],
      "execution_count": 1,
      "outputs": []
    },
    {
      "cell_type": "markdown",
      "metadata": {
        "id": "4kjvWlHIGGwI"
      },
      "source": [
        "### 1. 1차원 배열"
      ]
    },
    {
      "cell_type": "code",
      "metadata": {
        "colab": {
          "base_uri": "https://localhost:8080/"
        },
        "id": "CdDDGozEGDQ-",
        "outputId": "258cfa7d-2c5b-460d-c619-68b300528f01"
      },
      "source": [
        "a1 = [1, 2, 3, 4, 5, 10, 20, \"가\", \"나\"]\n",
        "print(a1)\n",
        "print(type(a1))"
      ],
      "execution_count": null,
      "outputs": [
        {
          "output_type": "stream",
          "text": [
            "[1, 2, 3, 4, 5, 10, 20, '가', '나']\n",
            "<class 'list'>\n"
          ],
          "name": "stdout"
        }
      ]
    },
    {
      "cell_type": "code",
      "metadata": {
        "colab": {
          "base_uri": "https://localhost:8080/"
        },
        "id": "09902GoMGFfl",
        "outputId": "c6bd1dcd-d4ab-43a9-f342-e23cf9bb4ce9"
      },
      "source": [
        "a2 = np.array([1, 2, 3, 4, 5, 10, 20, \"가\", \"나\"])\n",
        "print(a2)\n",
        "print(type(a2))\n",
        "print(a2.shape)\n",
        "print(a2.dtype)"
      ],
      "execution_count": null,
      "outputs": [
        {
          "output_type": "stream",
          "text": [
            "['1' '2' '3' '4' '5' '10' '20' '가' '나']\n",
            "<class 'numpy.ndarray'>\n",
            "(9,)\n",
            "<U21\n"
          ],
          "name": "stdout"
        }
      ]
    },
    {
      "cell_type": "code",
      "metadata": {
        "colab": {
          "base_uri": "https://localhost:8080/"
        },
        "id": "vFiD054cGFdG",
        "outputId": "4ba71594-2d1a-4037-d349-68480843f675"
      },
      "source": [
        "a3 = np.array([1, 2, 3, 4, 5, 10, 20, \"30\", \"40\"], float)\n",
        "print(a3)\n",
        "print(a3.dtype)"
      ],
      "execution_count": null,
      "outputs": [
        {
          "output_type": "stream",
          "text": [
            "[ 1.  2.  3.  4.  5. 10. 20. 30. 40.]\n",
            "float64\n"
          ],
          "name": "stdout"
        }
      ]
    },
    {
      "cell_type": "code",
      "metadata": {
        "colab": {
          "base_uri": "https://localhost:8080/"
        },
        "id": "_A50vLXxGFaP",
        "outputId": "67ddb33c-fe3a-4f5a-d74e-c29c88f2f4cc"
      },
      "source": [
        "a4 = np.dtype(\">i4\")\n",
        "print(a4)\n",
        "print(a4.name)\n",
        "\n",
        "a5 = np.dtype(\">i8\")\n",
        "print(a5)\n",
        "print(a5.name)\n"
      ],
      "execution_count": null,
      "outputs": [
        {
          "output_type": "stream",
          "text": [
            ">i4\n",
            "int32\n",
            ">i8\n",
            "int64\n"
          ],
          "name": "stdout"
        }
      ]
    },
    {
      "cell_type": "code",
      "metadata": {
        "colab": {
          "base_uri": "https://localhost:8080/"
        },
        "id": "70-HxtMkGFWA",
        "outputId": "432b91a7-0d4a-4cd9-a5d9-3435c8b93b42"
      },
      "source": [
        "# 벡터화 연산\n",
        "\n",
        "data1 = [0, 1, 2, 3, 4, 5, 6, 7, 8, 9]\n",
        "print(data1 * 2)"
      ],
      "execution_count": null,
      "outputs": [
        {
          "output_type": "stream",
          "text": [
            "[0, 1, 2, 3, 4, 5, 6, 7, 8, 9, 0, 1, 2, 3, 4, 5, 6, 7, 8, 9]\n"
          ],
          "name": "stdout"
        }
      ]
    },
    {
      "cell_type": "code",
      "metadata": {
        "colab": {
          "base_uri": "https://localhost:8080/"
        },
        "id": "jUeIGeJtGFG8",
        "outputId": "755dda37-393c-4b82-81e5-2a7c315308fe"
      },
      "source": [
        "data2 = np.array(data1)\n",
        "print(data2 * 2)\n",
        "print(data2 - 2)\n",
        "print(data2 + 2)"
      ],
      "execution_count": null,
      "outputs": [
        {
          "output_type": "stream",
          "text": [
            "[ 0  2  4  6  8 10 12 14 16 18]\n",
            "[-2 -1  0  1  2  3  4  5  6  7]\n",
            "[ 2  3  4  5  6  7  8  9 10 11]\n"
          ],
          "name": "stdout"
        }
      ]
    },
    {
      "cell_type": "code",
      "metadata": {
        "colab": {
          "base_uri": "https://localhost:8080/"
        },
        "id": "HZCc0jM7NEEz",
        "outputId": "1d7448e1-84b3-4aaf-9a08-3dd4de55f07c"
      },
      "source": [
        "# 인덱스 접근\n",
        "print(data2[0], data2[1])"
      ],
      "execution_count": null,
      "outputs": [
        {
          "output_type": "stream",
          "text": [
            "0 1\n"
          ],
          "name": "stdout"
        }
      ]
    },
    {
      "cell_type": "markdown",
      "metadata": {
        "id": "UE00WlwGNv9Q"
      },
      "source": [
        "### 2. 2차원 배열"
      ]
    },
    {
      "cell_type": "code",
      "metadata": {
        "colab": {
          "base_uri": "https://localhost:8080/"
        },
        "id": "EQkGMiRCNK01",
        "outputId": "b9136d83-b78f-40a9-fbc2-284a5a14a8bb"
      },
      "source": [
        "arr = np.array([[1, 2, 3],\n",
        "                [4, 5, 6]])\n",
        "print(arr)\n",
        "print(arr.shape)\n",
        "print(arr.dtype)"
      ],
      "execution_count": null,
      "outputs": [
        {
          "output_type": "stream",
          "text": [
            "[[1 2 3]\n",
            " [4 5 6]]\n",
            "(2, 3)\n",
            "int64\n"
          ],
          "name": "stdout"
        }
      ]
    },
    {
      "cell_type": "code",
      "metadata": {
        "colab": {
          "base_uri": "https://localhost:8080/"
        },
        "id": "FoedVoLXNKwG",
        "outputId": "3f3c10ed-45bf-47d3-d9fb-036d3501cf45"
      },
      "source": [
        "# 접근\n",
        "print(arr[0])\n",
        "print(arr[0][1])\n",
        "print(\"-----------------------\")\n",
        "print(len(arr))\n",
        "print(len(arr[0]))"
      ],
      "execution_count": null,
      "outputs": [
        {
          "output_type": "stream",
          "text": [
            "[1 2 3]\n",
            "2\n",
            "-----------------------\n",
            "2\n",
            "3\n"
          ],
          "name": "stdout"
        }
      ]
    },
    {
      "cell_type": "markdown",
      "metadata": {
        "id": "F5j7uE3U9lH9"
      },
      "source": [
        "### 3. 3차원 배열"
      ]
    },
    {
      "cell_type": "code",
      "metadata": {
        "id": "CyKMbLMeND85",
        "colab": {
          "base_uri": "https://localhost:8080/"
        },
        "outputId": "feccb1a6-1d7d-4ae4-fa07-91a47d6fc2bd"
      },
      "source": [
        "arr = np.array([[[1, 2, 3, 4], \n",
        "                 [5, 6, 7, 8]], \n",
        "                [[9, 10, 11, 12], \n",
        "                 [13, 14, 15, 16]]])\n",
        "print(arr)\n",
        "print(arr.shape)\n",
        "print(arr.ndim)\n",
        "print(\"===============================\")\n",
        "print(arr[0])\n",
        "print(\"===============================\")\n",
        "print(arr[0][0])\n",
        "print(\"===============================\")\n",
        "print(arr[0][0][0])\n",
        "print(\"===============================\")\n",
        "print(len(arr), len(arr[0]), len(arr[0][0]))"
      ],
      "execution_count": 13,
      "outputs": [
        {
          "output_type": "stream",
          "text": [
            "[[[ 1  2  3  4]\n",
            "  [ 5  6  7  8]]\n",
            "\n",
            " [[ 9 10 11 12]\n",
            "  [13 14 15 16]]]\n",
            "(2, 2, 4)\n",
            "3\n",
            "===============================\n",
            "[[1 2 3 4]\n",
            " [5 6 7 8]]\n",
            "===============================\n",
            "[1 2 3 4]\n",
            "===============================\n",
            "1\n",
            "===============================\n",
            "2 2 4\n"
          ],
          "name": "stdout"
        }
      ]
    },
    {
      "cell_type": "code",
      "metadata": {
        "colab": {
          "base_uri": "https://localhost:8080/"
        },
        "id": "Vyf_alerEgYz",
        "outputId": "6e6a96fd-c0a8-49b8-dbe4-e38b1740339f"
      },
      "source": [
        "arr = np.array(1)\n",
        "print(arr)\n",
        "print(arr.dtype)\n",
        "print(arr.shape)\n",
        "print(arr.ndim)"
      ],
      "execution_count": 14,
      "outputs": [
        {
          "output_type": "stream",
          "text": [
            "1\n",
            "int64\n",
            "()\n",
            "0\n"
          ],
          "name": "stdout"
        }
      ]
    },
    {
      "cell_type": "markdown",
      "metadata": {
        "id": "Q2MWN1gSFVss"
      },
      "source": [
        "### 4. 집계 함수"
      ]
    },
    {
      "cell_type": "code",
      "metadata": {
        "colab": {
          "base_uri": "https://localhost:8080/"
        },
        "id": "06R18rLBFXz4",
        "outputId": "900a05a7-7897-42af-d693-83997b308451"
      },
      "source": [
        "x = np.random.randn(8)\n",
        "y = np.random.randn(8)\n",
        "\n",
        "print(x)\n",
        "print(y)"
      ],
      "execution_count": 16,
      "outputs": [
        {
          "output_type": "stream",
          "text": [
            "[ 1.57752699  0.77239212 -0.31355386  0.04693592  0.56058059 -2.17795289\n",
            "  0.41851253  0.84245463]\n",
            "[ 0.25976183 -0.82155139  1.08119498  1.96045141  1.66658118  1.1080513\n",
            " -0.23978424  0.83337988]\n"
          ],
          "name": "stdout"
        }
      ]
    },
    {
      "cell_type": "code",
      "metadata": {
        "colab": {
          "base_uri": "https://localhost:8080/"
        },
        "id": "nsAg6iFcFYQs",
        "outputId": "09a686d4-60b6-4020-d369-50c462fc3111"
      },
      "source": [
        "np.maximum(x, y)"
      ],
      "execution_count": 17,
      "outputs": [
        {
          "output_type": "execute_result",
          "data": {
            "text/plain": [
              "array([1.57752699, 0.77239212, 1.08119498, 1.96045141, 1.66658118,\n",
              "       1.1080513 , 0.41851253, 0.84245463])"
            ]
          },
          "metadata": {
            "tags": []
          },
          "execution_count": 17
        }
      ]
    },
    {
      "cell_type": "code",
      "metadata": {
        "colab": {
          "base_uri": "https://localhost:8080/"
        },
        "id": "izWqOwKKFYL9",
        "outputId": "998fd052-c6bf-4cfa-d862-0c4a49bff4c5"
      },
      "source": [
        "arr = np.random.randn(5, 4)\n",
        "arr"
      ],
      "execution_count": 18,
      "outputs": [
        {
          "output_type": "execute_result",
          "data": {
            "text/plain": [
              "array([[ 0.53463953,  0.37577965, -0.73551069,  0.10937081],\n",
              "       [ 0.38291653,  0.90230154, -1.36474709, -0.73140212],\n",
              "       [ 0.28881299, -1.67402716,  0.77247471, -0.36069283],\n",
              "       [-0.82496145,  0.13900891, -1.65782167, -0.59572345],\n",
              "       [-0.44416696, -3.39962136, -0.15977392, -0.9375487 ]])"
            ]
          },
          "metadata": {
            "tags": []
          },
          "execution_count": 18
        }
      ]
    },
    {
      "cell_type": "code",
      "metadata": {
        "colab": {
          "base_uri": "https://localhost:8080/"
        },
        "id": "HCtZo7lTFYFy",
        "outputId": "e32752a1-6c1a-4211-ceb8-c220256267cc"
      },
      "source": [
        "arr.sum\n",
        "print(arr.sum())\n",
        "print(arr.sum(axis = 0)) # 열의 합계\n",
        "print(arr.sum(axis = 1)) # 행의 합계"
      ],
      "execution_count": 20,
      "outputs": [
        {
          "output_type": "stream",
          "text": [
            "-9.380692732782148\n",
            "[-0.06275937 -3.65655841 -3.14537866 -2.51599629]\n",
            "[ 0.28427929 -0.81093115 -0.97343229 -2.93949766 -4.94111093]\n"
          ],
          "name": "stdout"
        }
      ]
    },
    {
      "cell_type": "markdown",
      "metadata": {
        "id": "jnK3K4nOK-K0"
      },
      "source": [
        "### 5. 배열의 인덱싱"
      ]
    },
    {
      "cell_type": "code",
      "metadata": {
        "colab": {
          "base_uri": "https://localhost:8080/"
        },
        "id": "efUEY-bvLAXG",
        "outputId": "24489bb2-b6db-41f8-85e9-e6277c7655eb"
      },
      "source": [
        "arr = np.array([0, 1, 2 ,3 ,4])\n",
        "\n",
        "print(arr[2], arr[4], arr[-1], arr[-3])"
      ],
      "execution_count": 22,
      "outputs": [
        {
          "output_type": "stream",
          "text": [
            "2 4 4 2\n"
          ],
          "name": "stdout"
        }
      ]
    },
    {
      "cell_type": "code",
      "metadata": {
        "colab": {
          "base_uri": "https://localhost:8080/"
        },
        "id": "oyoBi_l5LAyB",
        "outputId": "51ce245d-8491-4b09-c729-02399c08899f"
      },
      "source": [
        "arr = np.array([[0, 1, 2], [3, 4, 5]])\n",
        "\n",
        "print(arr[0][2], arr[0, 2], arr[-1, -1])"
      ],
      "execution_count": 23,
      "outputs": [
        {
          "output_type": "stream",
          "text": [
            "2 2 5\n"
          ],
          "name": "stdout"
        }
      ]
    },
    {
      "cell_type": "code",
      "metadata": {
        "colab": {
          "base_uri": "https://localhost:8080/"
        },
        "id": "sWHAn-CxLAuD",
        "outputId": "540077f7-75a8-4897-ae70-3deb6e43bece"
      },
      "source": [
        "# fancy index\n",
        "\n",
        "arr = np.array([i for i in range(10)])\n",
        "arr\n",
        "idx = np.array([True, False, True, False, True, False, True, False, True, False,])\n",
        "\n",
        "print(arr[idx])\n",
        "print(arr % 2)\n",
        "print(arr % 2 == 0)\n",
        "print(arr[arr % 2 == 0])\n",
        "\n",
        "# arr에서 3의 배수를 찾아라\n",
        "print(arr[arr % 3 == 0])\n",
        "\n",
        "# arr에서 4로 나누면 1이 남는 수를 찾아라\n",
        "print(arr[arr % 4 == 1])\n",
        "\n",
        "# arr에서 3으로 나누면 나눠지고 4로 나누면 1이 남는 수를 찾아라 : 9\n",
        "print(arr[(arr % 3 == 0) & (arr % 4 == 1)])"
      ],
      "execution_count": 32,
      "outputs": [
        {
          "output_type": "stream",
          "text": [
            "[0 2 4 6 8]\n",
            "[0 1 0 1 0 1 0 1 0 1]\n",
            "[ True False  True False  True False  True False  True False]\n",
            "[0 2 4 6 8]\n",
            "[0 3 6 9]\n",
            "[1 5 9]\n",
            "[9]\n"
          ],
          "name": "stdout"
        }
      ]
    },
    {
      "cell_type": "markdown",
      "metadata": {
        "id": "KtVdnTweQJFe"
      },
      "source": [
        "### 6. 배열의 슬라이싱"
      ]
    },
    {
      "cell_type": "code",
      "metadata": {
        "colab": {
          "base_uri": "https://localhost:8080/"
        },
        "id": "NfzxDF_hLArU",
        "outputId": "ef5e3967-d37d-471a-e475-bd7eb6309379"
      },
      "source": [
        "arr = np.array([[0, 1, 2, 3], [4, 5, 6, 7], [8, 9, 10, 11]])\n",
        "\n",
        "print(arr[0, 0:2])\n",
        "print(\"===============================\")\n",
        "print(arr[1:3, 0:2])\n",
        "print(\"===============================\")\n",
        "print(arr[0, :])\n",
        "print(\"===============================\")\n",
        "\n",
        "# [[0, 1], [4, 5]] 출력\n",
        "print(arr[:2, :2])\n",
        "print(\"===============================\")\n",
        "print(arr[[2, 1, 0], :])\n",
        "print(\"===============================\")\n",
        "print(arr[:, [1, 2]])"
      ],
      "execution_count": 38,
      "outputs": [
        {
          "output_type": "stream",
          "text": [
            "[0 1]\n",
            "===============================\n",
            "[[4 5]\n",
            " [8 9]]\n",
            "===============================\n",
            "[0 1 2 3]\n",
            "===============================\n",
            "[[0 1]\n",
            " [4 5]]\n",
            "===============================\n",
            "[[ 8  9 10 11]\n",
            " [ 4  5  6  7]\n",
            " [ 0  1  2  3]]\n",
            "===============================\n",
            "[[ 1  2]\n",
            " [ 5  6]\n",
            " [ 9 10]]\n"
          ],
          "name": "stdout"
        }
      ]
    },
    {
      "cell_type": "markdown",
      "metadata": {
        "id": "u-FrIIrSSo5L"
      },
      "source": [
        "### 7. numpy 자료형\n",
        "\n",
        "- b : 불리언\n",
        "- i : 정수형\n",
        "- u : 부호없는 정수\n",
        "- f : 부동소수점\n",
        "- c : 복소수\n",
        "- 0 : 객체\n",
        "- S : 바이트 문자열\n",
        "- U : 유니코드 문자열"
      ]
    },
    {
      "cell_type": "code",
      "metadata": {
        "colab": {
          "base_uri": "https://localhost:8080/"
        },
        "id": "dca8Tb0ALAos",
        "outputId": "b6acbbab-fc2a-4bee-c386-731dde55d59b"
      },
      "source": [
        "arr = np.array([1, 2, 3], dtype = 'f')\n",
        "print(arr.dtype)\n",
        "print(arr[0] + arr[1])"
      ],
      "execution_count": 41,
      "outputs": [
        {
          "output_type": "stream",
          "text": [
            "float32\n",
            "3.0\n"
          ],
          "name": "stdout"
        }
      ]
    },
    {
      "cell_type": "code",
      "metadata": {
        "colab": {
          "base_uri": "https://localhost:8080/"
        },
        "id": "q5TsanymLAmC",
        "outputId": "6d7b62ac-b76d-4b16-d6cf-82e7f64662ea"
      },
      "source": [
        "arr = np.array([1, 2, 3], dtype = 'S')\n",
        "print(arr.dtype)\n",
        "print(arr[0] + arr[1])\n",
        "print(\"===============================\")\n",
        "arr = np.array([1, 2, 3], dtype = 'U')\n",
        "print(arr.dtype)\n",
        "print(arr[0] + arr[1])"
      ],
      "execution_count": 43,
      "outputs": [
        {
          "output_type": "stream",
          "text": [
            "|S1\n",
            "b'12'\n",
            "===============================\n",
            "<U1\n",
            "12\n"
          ],
          "name": "stdout"
        }
      ]
    },
    {
      "cell_type": "code",
      "metadata": {
        "colab": {
          "base_uri": "https://localhost:8080/"
        },
        "id": "e2rJ_kDjLAgx",
        "outputId": "679a099a-3139-49c5-920d-ae38d3efe936"
      },
      "source": [
        "#### 사용자 정의 자료형\n",
        "\n",
        "dt = np.dtype([(\"name\", np.unicode_, 5), (\"grades\", np.float64, (2,))])\n",
        "print(dt[\"name\"])\n",
        "print(dt[\"grades\"])\n",
        "\n",
        "print(\"===============================\")\n",
        "\n",
        "arr = np.array([\"홍길동\", \"임꺽정\", \"신돌석\"])\n",
        "print(arr)\n",
        "\n",
        "arr = np.array([\"홍길동\", \"임꺽정\", \"신돌석\"], dtype = dt[\"name\"])\n",
        "print(arr)\n",
        "\n",
        "arr = np.array([\"홍길동\", \"임꺽정\", \"신돌석\", \"김수한무 거북이와 두루미\"], dtype = dt[\"name\"])\n",
        "print(arr)\n",
        "\n",
        "print(\"===============================\")\n",
        "\n",
        "arr = np.array([(\"홍길동\", (5.0, 7.0)), (\"임꺽정\", (8.0, 9.0))], dtype = dt)\n",
        "print(arr)"
      ],
      "execution_count": 56,
      "outputs": [
        {
          "output_type": "stream",
          "text": [
            "<U5\n",
            "('<f8', (2,))\n",
            "===============================\n",
            "['홍길동' '임꺽정' '신돌석']\n",
            "['홍길동' '임꺽정' '신돌석']\n",
            "['홍길동' '임꺽정' '신돌석' '김수한무 ']\n",
            "===============================\n",
            "[('홍길동', [5., 7.]) ('임꺽정', [8., 9.])]\n"
          ],
          "name": "stdout"
        }
      ]
    },
    {
      "cell_type": "markdown",
      "metadata": {
        "id": "IzyB3zT0dbXT"
      },
      "source": [
        "### 8. 배열 생성"
      ]
    },
    {
      "cell_type": "code",
      "metadata": {
        "colab": {
          "base_uri": "https://localhost:8080/"
        },
        "id": "fmzISgBVddjk",
        "outputId": "b9b58ea4-cfac-423e-d4d7-5cc079356350"
      },
      "source": [
        "arr = np.zeros(5)\n",
        "print(arr)\n",
        "print(arr.dtype)\n",
        "print(type(arr))\n",
        "\n",
        "print(\"===============================\")\n",
        "\n",
        "arr = np.zeros(5, dtype = \"i\")\n",
        "print(arr)\n",
        "print(arr.dtype)\n",
        "\n",
        "print(\"===============================\")\n",
        "\n",
        "arr = np.zeros(5, dtype = \"U4\")\n",
        "print(arr)\n",
        "print(arr.dtype)\n",
        "arr[0] = \"abc\"\n",
        "arr[1] = \"abcd\"\n",
        "arr[2] = \"abcde\"\n",
        "print(arr)\n",
        "\n",
        "print(\"===============================\")\n",
        "\n",
        "arr = np.zeros((2, 3))\n",
        "print(arr)"
      ],
      "execution_count": 61,
      "outputs": [
        {
          "output_type": "stream",
          "text": [
            "[0. 0. 0. 0. 0.]\n",
            "float64\n",
            "<class 'numpy.ndarray'>\n",
            "===============================\n",
            "[0 0 0 0 0]\n",
            "int32\n",
            "===============================\n",
            "['' '' '' '' '']\n",
            "<U4\n",
            "['abc' 'abcd' 'abcd' '' '']\n",
            "===============================\n",
            "[[0. 0. 0.]\n",
            " [0. 0. 0.]]\n"
          ],
          "name": "stdout"
        }
      ]
    },
    {
      "cell_type": "code",
      "metadata": {
        "colab": {
          "base_uri": "https://localhost:8080/"
        },
        "id": "ABj5zEosdddm",
        "outputId": "769cc5be-a2f1-4f29-d38d-a498f8fadad9"
      },
      "source": [
        "arr = np.ones((2, 3, 4))\n",
        "print(arr)\n",
        "\n",
        "print(\"===============================\")\n",
        "\n",
        "arr1 = np.zeros((2, 3))\n",
        "arr2 = np.ones_like(arr1)\n",
        "print(arr2)\n",
        "\n",
        "print(\"===============================\")\n",
        "\n",
        "arr = np.empty((4, 3))\n",
        "print(arr)\n",
        "\n",
        "print(\"===============================\")\n",
        "\n",
        "arr = np.arange(10)\n",
        "print(arr)\n",
        "\n",
        "print(\"===============================\")\n",
        "\n",
        "arr = np.linspace(0, 100, 5)\n",
        "print(arr)"
      ],
      "execution_count": 68,
      "outputs": [
        {
          "output_type": "stream",
          "text": [
            "[[[1. 1. 1. 1.]\n",
            "  [1. 1. 1. 1.]\n",
            "  [1. 1. 1. 1.]]\n",
            "\n",
            " [[1. 1. 1. 1.]\n",
            "  [1. 1. 1. 1.]\n",
            "  [1. 1. 1. 1.]]]\n",
            "===============================\n",
            "[[1. 1. 1.]\n",
            " [1. 1. 1.]]\n",
            "===============================\n",
            "[[0.0e+000 4.9e-324 9.9e-324]\n",
            " [1.5e-323 2.0e-323 2.5e-323]\n",
            " [3.0e-323 3.5e-323 4.0e-323]\n",
            " [4.4e-323 4.9e-323 5.4e-323]]\n",
            "===============================\n",
            "[0 1 2 3 4 5 6 7 8 9]\n",
            "===============================\n",
            "[  0.  25.  50.  75. 100.]\n"
          ],
          "name": "stdout"
        }
      ]
    },
    {
      "cell_type": "markdown",
      "metadata": {
        "id": "L7A5qhb0iQP6"
      },
      "source": [
        "### 9. 전치 연산(Transpose)"
      ]
    },
    {
      "cell_type": "code",
      "metadata": {
        "colab": {
          "base_uri": "https://localhost:8080/"
        },
        "id": "CQ2y-BY6dda_",
        "outputId": "10b57d0b-6334-4df1-9e10-b1b8e35c7678"
      },
      "source": [
        "arr = np.array([[1, 2, 3], [4, 5, 6]])\n",
        "print(arr)\n",
        "print(arr.T)"
      ],
      "execution_count": 69,
      "outputs": [
        {
          "output_type": "stream",
          "text": [
            "[[1 2 3]\n",
            " [4 5 6]]\n",
            "[[1 4]\n",
            " [2 5]\n",
            " [3 6]]\n"
          ],
          "name": "stdout"
        }
      ]
    },
    {
      "cell_type": "markdown",
      "metadata": {
        "id": "9h9mou_Mlb0x"
      },
      "source": [
        "### 10. 배열의 크기 변형 : reshape(), flatten(), ravel()"
      ]
    },
    {
      "cell_type": "code",
      "metadata": {
        "colab": {
          "base_uri": "https://localhost:8080/"
        },
        "id": "NGxo47WTddX9",
        "outputId": "a99db5db-540a-4ecd-de08-023226d91b60"
      },
      "source": [
        "arr = np.arange(12)\n",
        "print(arr)\n",
        "print(arr.shape)"
      ],
      "execution_count": 71,
      "outputs": [
        {
          "output_type": "stream",
          "text": [
            "[ 0  1  2  3  4  5  6  7  8  9 10 11]\n",
            "(12,)\n"
          ],
          "name": "stdout"
        }
      ]
    },
    {
      "cell_type": "code",
      "metadata": {
        "colab": {
          "base_uri": "https://localhost:8080/"
        },
        "id": "VR32EQh0LAaF",
        "outputId": "c84817c9-1a03-4c3e-d3cf-99e3d897393e"
      },
      "source": [
        "arr1 = arr.reshape(3, 4)\n",
        "print(arr1)\n",
        "print(arr1.shape)\n",
        "\n",
        "print(\"===============================\")\n",
        "\n",
        "arr1 = arr.reshape(3, -1)\n",
        "print(arr1)\n",
        "print(arr1.shape)\n",
        "\n",
        "print(\"===============================\")\n",
        "\n",
        "arr1 = arr.reshape(-1, 4)\n",
        "print(arr1)\n",
        "print(arr1.shape)"
      ],
      "execution_count": 76,
      "outputs": [
        {
          "output_type": "stream",
          "text": [
            "[[ 0  1  2  3]\n",
            " [ 4  5  6  7]\n",
            " [ 8  9 10 11]]\n",
            "(3, 4)\n",
            "===============================\n",
            "[[ 0  1  2  3]\n",
            " [ 4  5  6  7]\n",
            " [ 8  9 10 11]]\n",
            "(3, 4)\n",
            "===============================\n",
            "[[ 0  1  2  3]\n",
            " [ 4  5  6  7]\n",
            " [ 8  9 10 11]]\n",
            "(3, 4)\n"
          ],
          "name": "stdout"
        }
      ]
    },
    {
      "cell_type": "code",
      "metadata": {
        "colab": {
          "base_uri": "https://localhost:8080/"
        },
        "id": "3kl661gWmYHl",
        "outputId": "06d8a231-e346-494b-cfc5-dff1185ee292"
      },
      "source": [
        "arr2 = arr.reshape(2, 2, 3)\n",
        "print(arr2)\n",
        "print(arr2.shape)\n",
        "\n",
        "print(\"===============================\")\n",
        "\n",
        "arr2 = arr.reshape(2, 2, -1)\n",
        "print(arr2)\n",
        "print(arr2.shape)\n",
        "\n",
        "print(\"===============================\")\n",
        "\n",
        "arr2 = arr.reshape(2, -1, 3)\n",
        "print(arr2)\n",
        "print(arr2.shape)\n",
        "\n",
        "print(\"===============================\")\n",
        "\n",
        "arr2 = arr.reshape(-1, 2, 3)\n",
        "print(arr2)\n",
        "print(arr2.shape)"
      ],
      "execution_count": 78,
      "outputs": [
        {
          "output_type": "stream",
          "text": [
            "[[[ 0  1  2]\n",
            "  [ 3  4  5]]\n",
            "\n",
            " [[ 6  7  8]\n",
            "  [ 9 10 11]]]\n",
            "(2, 2, 3)\n",
            "===============================\n",
            "[[[ 0  1  2]\n",
            "  [ 3  4  5]]\n",
            "\n",
            " [[ 6  7  8]\n",
            "  [ 9 10 11]]]\n",
            "(2, 2, 3)\n",
            "===============================\n",
            "[[[ 0  1  2]\n",
            "  [ 3  4  5]]\n",
            "\n",
            " [[ 6  7  8]\n",
            "  [ 9 10 11]]]\n",
            "(2, 2, 3)\n",
            "===============================\n",
            "[[[ 0  1  2]\n",
            "  [ 3  4  5]]\n",
            "\n",
            " [[ 6  7  8]\n",
            "  [ 9 10 11]]]\n",
            "(2, 2, 3)\n"
          ],
          "name": "stdout"
        }
      ]
    },
    {
      "cell_type": "code",
      "metadata": {
        "colab": {
          "base_uri": "https://localhost:8080/"
        },
        "id": "fklgH0KtmYFP",
        "outputId": "68c9e117-88a8-47ab-9357-59e71edbddcf"
      },
      "source": [
        "print(arr1.flatten())\n",
        "print(arr1.ravel())\n",
        "\n",
        "print(\"===============================\")\n",
        "\n",
        "print(arr2.flatten())\n",
        "print(arr2.ravel())"
      ],
      "execution_count": 79,
      "outputs": [
        {
          "output_type": "stream",
          "text": [
            "[ 0  1  2  3  4  5  6  7  8  9 10 11]\n",
            "[ 0  1  2  3  4  5  6  7  8  9 10 11]\n",
            "===============================\n",
            "[ 0  1  2  3  4  5  6  7  8  9 10 11]\n",
            "[ 0  1  2  3  4  5  6  7  8  9 10 11]\n"
          ],
          "name": "stdout"
        }
      ]
    },
    {
      "cell_type": "code",
      "metadata": {
        "colab": {
          "base_uri": "https://localhost:8080/"
        },
        "id": "MdRTZPHpmYCU",
        "outputId": "18a7b02b-d754-4495-fd1c-53145e7a9e14"
      },
      "source": [
        "arr = np.arange(5)\n",
        "\n",
        "print(arr.reshape(1, 5))\n",
        "print(arr.reshape(5, 1))\n",
        "\n",
        "print(\"===============================\")\n",
        "\n",
        "print(arr.reshape(1, 5).T)\n",
        "print(arr.reshape(5, 1).T)\n",
        "\n",
        "print(\"===============================\")\n",
        "\n",
        "print(arr[:, np.newaxis])\n"
      ],
      "execution_count": 82,
      "outputs": [
        {
          "output_type": "stream",
          "text": [
            "[[0 1 2 3 4]]\n",
            "[[0]\n",
            " [1]\n",
            " [2]\n",
            " [3]\n",
            " [4]]\n",
            "===============================\n",
            "[[0]\n",
            " [1]\n",
            " [2]\n",
            " [3]\n",
            " [4]]\n",
            "[[0 1 2 3 4]]\n",
            "===============================\n",
            "[[0]\n",
            " [1]\n",
            " [2]\n",
            " [3]\n",
            " [4]]\n"
          ],
          "name": "stdout"
        }
      ]
    },
    {
      "cell_type": "markdown",
      "metadata": {
        "id": "qbT6QggcrDLJ"
      },
      "source": [
        "### 11. 배열 연결(병합) : stack, hstack, dstack, tile"
      ]
    },
    {
      "cell_type": "code",
      "metadata": {
        "colab": {
          "base_uri": "https://localhost:8080/"
        },
        "id": "yo7ZocvkmX7W",
        "outputId": "a5fb86c2-21b1-4d84-cad9-b22f8c378997"
      },
      "source": [
        "#### hstack, vstack\n",
        "\n",
        "arr1 = np.ones((2, 3))\n",
        "print(arr1)\n",
        "arr2 = np.ones((2, 2))\n",
        "print(arr2)\n",
        "\n",
        "arr3 = np.hstack([arr1, arr2])\n",
        "print(arr3)\n",
        "\n",
        "# arr4 = np.vstack([arr1, arr2])\n",
        "# print(arr4) -> 크기가 달라서 합쳐지지 않는다"
      ],
      "execution_count": 85,
      "outputs": [
        {
          "output_type": "stream",
          "text": [
            "[[1. 1. 1.]\n",
            " [1. 1. 1.]]\n",
            "[[1. 1.]\n",
            " [1. 1.]]\n",
            "[[1. 1. 1. 1. 1.]\n",
            " [1. 1. 1. 1. 1.]]\n"
          ],
          "name": "stdout"
        }
      ]
    },
    {
      "cell_type": "code",
      "metadata": {
        "colab": {
          "base_uri": "https://localhost:8080/"
        },
        "id": "sn8TVkd3rCso",
        "outputId": "462d49e6-652b-44a0-cf2e-ccd7f85af1b8"
      },
      "source": [
        "#### dstack : 차원의 증가\n",
        "\n",
        "arr1 = np.ones((3, 4))\n",
        "arr2 = np.zeros((3, 4))\n",
        "\n",
        "# 3, 4, 2\n",
        "arr3 = np.dstack([arr1, arr2])\n",
        "print(arr3)\n",
        "\n",
        "print(arr3.shape) # 기존의 차원(3, 4)을 그래도 가져가는 것이 아닌 (3, 4, 2)로 변환된다"
      ],
      "execution_count": 88,
      "outputs": [
        {
          "output_type": "stream",
          "text": [
            "[[[1. 0.]\n",
            "  [1. 0.]\n",
            "  [1. 0.]\n",
            "  [1. 0.]]\n",
            "\n",
            " [[1. 0.]\n",
            "  [1. 0.]\n",
            "  [1. 0.]\n",
            "  [1. 0.]]\n",
            "\n",
            " [[1. 0.]\n",
            "  [1. 0.]\n",
            "  [1. 0.]\n",
            "  [1. 0.]]]\n",
            "(3, 4, 2)\n"
          ],
          "name": "stdout"
        }
      ]
    },
    {
      "cell_type": "code",
      "metadata": {
        "colab": {
          "base_uri": "https://localhost:8080/"
        },
        "id": "PYk7WAOerCqK",
        "outputId": "394ca123-3192-4fa9-8f37-149b670386ae"
      },
      "source": [
        "#### stack : 차원의 증가(dstack을 단순화 시킨 작업)\n",
        "\n",
        "arr1 = np.ones((3, 4))\n",
        "arr2 = np.zeros((3, 4))\n",
        "\n",
        "arr3 = np.stack([arr1, arr2])\n",
        "print(arr3)\n",
        "\n",
        "print(arr3.shape)\n",
        "\n",
        "print(\"===============================\")\n",
        "\n",
        "arr4 = np.stack([arr1, arr2], axis = 0)\n",
        "print(arr4)\n",
        "print(arr4.shape)\n",
        "\n",
        "print(\"===============================\")\n",
        "\n",
        "arr5 = np.stack([arr1, arr2], axis = 1)\n",
        "print(arr5)\n",
        "print(arr5.shape)\n",
        "\n",
        "print(\"===============================\")\n",
        "\n",
        "arr6 = np.stack([arr1, arr2], axis = 2)\n",
        "print(arr6)\n",
        "print(arr6.shape)"
      ],
      "execution_count": 90,
      "outputs": [
        {
          "output_type": "stream",
          "text": [
            "[[[1. 1. 1. 1.]\n",
            "  [1. 1. 1. 1.]\n",
            "  [1. 1. 1. 1.]]\n",
            "\n",
            " [[0. 0. 0. 0.]\n",
            "  [0. 0. 0. 0.]\n",
            "  [0. 0. 0. 0.]]]\n",
            "(2, 3, 4)\n",
            "===============================\n",
            "[[[1. 1. 1. 1.]\n",
            "  [1. 1. 1. 1.]\n",
            "  [1. 1. 1. 1.]]\n",
            "\n",
            " [[0. 0. 0. 0.]\n",
            "  [0. 0. 0. 0.]\n",
            "  [0. 0. 0. 0.]]]\n",
            "(2, 3, 4)\n",
            "===============================\n",
            "[[[1. 1. 1. 1.]\n",
            "  [0. 0. 0. 0.]]\n",
            "\n",
            " [[1. 1. 1. 1.]\n",
            "  [0. 0. 0. 0.]]\n",
            "\n",
            " [[1. 1. 1. 1.]\n",
            "  [0. 0. 0. 0.]]]\n",
            "(3, 2, 4)\n",
            "===============================\n",
            "[[[1. 0.]\n",
            "  [1. 0.]\n",
            "  [1. 0.]\n",
            "  [1. 0.]]\n",
            "\n",
            " [[1. 0.]\n",
            "  [1. 0.]\n",
            "  [1. 0.]\n",
            "  [1. 0.]]\n",
            "\n",
            " [[1. 0.]\n",
            "  [1. 0.]\n",
            "  [1. 0.]\n",
            "  [1. 0.]]]\n",
            "(3, 4, 2)\n"
          ],
          "name": "stdout"
        }
      ]
    },
    {
      "cell_type": "code",
      "metadata": {
        "colab": {
          "base_uri": "https://localhost:8080/"
        },
        "id": "RJ6Q_9mIrCnr",
        "outputId": "254ecbaa-043a-45d8-c163-29a4fafdc881"
      },
      "source": [
        "#### tile\n",
        "\n",
        "arr = np.array([[0, 1, 2], [3, 4, 5]])\n",
        "\n",
        "print(np.tile(arr, 2))\n",
        "\n",
        "print(\"===============================\")\n",
        "\n",
        "print(np.tile(arr, (3, 2)))"
      ],
      "execution_count": 92,
      "outputs": [
        {
          "output_type": "stream",
          "text": [
            "[[0 1 2 0 1 2]\n",
            " [3 4 5 3 4 5]]\n",
            "===============================\n",
            "[[0 1 2 0 1 2]\n",
            " [3 4 5 3 4 5]\n",
            " [0 1 2 0 1 2]\n",
            " [3 4 5 3 4 5]\n",
            " [0 1 2 0 1 2]\n",
            " [3 4 5 3 4 5]]\n"
          ],
          "name": "stdout"
        }
      ]
    },
    {
      "cell_type": "markdown",
      "metadata": {
        "id": "TR-5hjOnEaND"
      },
      "source": [
        "### 2차원 그리드 포인트 생성 : meshgrid()"
      ]
    },
    {
      "cell_type": "code",
      "metadata": {
        "colab": {
          "base_uri": "https://localhost:8080/"
        },
        "id": "KDxwu1ILD_6K",
        "outputId": "0862fa9b-60ed-4b91-fe3a-5b19f4f3960a"
      },
      "source": [
        "x = np.arange(3)\n",
        "x"
      ],
      "execution_count": 94,
      "outputs": [
        {
          "output_type": "execute_result",
          "data": {
            "text/plain": [
              "array([0, 1, 2])"
            ]
          },
          "metadata": {
            "tags": []
          },
          "execution_count": 94
        }
      ]
    },
    {
      "cell_type": "code",
      "metadata": {
        "colab": {
          "base_uri": "https://localhost:8080/"
        },
        "id": "dibfYBSDD_22",
        "outputId": "5ccc9131-673b-419d-fc2e-aa2112555f7b"
      },
      "source": [
        "y = np.arange(5)\n",
        "y"
      ],
      "execution_count": 95,
      "outputs": [
        {
          "output_type": "execute_result",
          "data": {
            "text/plain": [
              "array([0, 1, 2, 3, 4])"
            ]
          },
          "metadata": {
            "tags": []
          },
          "execution_count": 95
        }
      ]
    },
    {
      "cell_type": "code",
      "metadata": {
        "colab": {
          "base_uri": "https://localhost:8080/"
        },
        "id": "GXoBrZpXD_uM",
        "outputId": "4a26f31f-dff5-4846-818e-6eaa46a91428"
      },
      "source": [
        "X, Y = np.meshgrid(x, y)\n",
        "\n",
        "print(X)\n",
        "print(\"===============================\")\n",
        "print(Y)"
      ],
      "execution_count": 97,
      "outputs": [
        {
          "output_type": "stream",
          "text": [
            "[[0 1 2]\n",
            " [0 1 2]\n",
            " [0 1 2]\n",
            " [0 1 2]\n",
            " [0 1 2]]\n",
            "===============================\n",
            "[[0 0 0]\n",
            " [1 1 1]\n",
            " [2 2 2]\n",
            " [3 3 3]\n",
            " [4 4 4]]\n"
          ],
          "name": "stdout"
        }
      ]
    },
    {
      "cell_type": "code",
      "metadata": {
        "colab": {
          "base_uri": "https://localhost:8080/"
        },
        "id": "KvQJj-tKGD66",
        "outputId": "d14c4577-dc4f-4ba3-b2cd-af8dc11ed5f0"
      },
      "source": [
        "z = [list(zip(x, y)) for x, y in zip(X, Y)]"
      ],
      "execution_count": 99,
      "outputs": [
        {
          "output_type": "execute_result",
          "data": {
            "text/plain": [
              "[[(0, 0), (1, 0), (2, 0)],\n",
              " [(0, 1), (1, 1), (2, 1)],\n",
              " [(0, 2), (1, 2), (2, 2)],\n",
              " [(0, 3), (1, 3), (2, 3)],\n",
              " [(0, 4), (1, 4), (2, 4)]]"
            ]
          },
          "metadata": {
            "tags": []
          },
          "execution_count": 99
        }
      ]
    },
    {
      "cell_type": "code",
      "metadata": {
        "colab": {
          "base_uri": "https://localhost:8080/",
          "height": 283
        },
        "id": "pELV2w_lGD4f",
        "outputId": "36407ecb-003f-403c-be94-5f1be9a60e8b"
      },
      "source": [
        "import matplotlib.pyplot as plt\n",
        "\n",
        "plt.scatter(X, Y)"
      ],
      "execution_count": 100,
      "outputs": [
        {
          "output_type": "execute_result",
          "data": {
            "text/plain": [
              "<matplotlib.collections.PathCollection at 0x7fbc97522a10>"
            ]
          },
          "metadata": {
            "tags": []
          },
          "execution_count": 100
        },
        {
          "output_type": "display_data",
          "data": {
            "image/png": "[encoded data removed]",
            "text/plain": [
              "<Figure size 432x288 with 1 Axes>"
            ]
          },
          "metadata": {
            "tags": [],
            "needs_background": "light"
          }
        }
      ]
    },
    {
      "cell_type": "markdown",
      "metadata": {
        "id": "m87jDMOAHYpY"
      },
      "source": [
        "### 13. BroadCasting\n",
        "\n",
        "- 크기가 서로 다른 행렬(벡터)끼리 연산을 가능하게 하는 것"
      ]
    },
    {
      "cell_type": "code",
      "metadata": {
        "colab": {
          "base_uri": "https://localhost:8080/"
        },
        "id": "YZPNDPi_GD2H",
        "outputId": "3847da66-c443-4c5c-875c-cac76f44597e"
      },
      "source": [
        "x = np.vstack([range(7)[i:i+3] for i in range(5)])\n",
        "x"
      ],
      "execution_count": 106,
      "outputs": [
        {
          "output_type": "execute_result",
          "data": {
            "text/plain": [
              "array([[0, 1, 2, 3, 4, 5, 6],\n",
              "       [0, 1, 2, 3, 4, 5, 6],\n",
              "       [0, 1, 2, 3, 4, 5, 6],\n",
              "       [0, 1, 2, 3, 4, 5, 6],\n",
              "       [0, 1, 2, 3, 4, 5, 6]])"
            ]
          },
          "metadata": {
            "tags": []
          },
          "execution_count": 106
        }
      ]
    },
    {
      "cell_type": "code",
      "metadata": {
        "id": "1zqTEBWNGDzU"
      },
      "source": [
        ""
      ],
      "execution_count": null,
      "outputs": []
    },
    {
      "cell_type": "code",
      "metadata": {
        "id": "o9CjHvS1GDsn"
      },
      "source": [
        ""
      ],
      "execution_count": null,
      "outputs": []
    },
    {
      "cell_type": "code",
      "metadata": {
        "id": "C-q9i0QErCk1"
      },
      "source": [
        ""
      ],
      "execution_count": null,
      "outputs": []
    }
  ]
}