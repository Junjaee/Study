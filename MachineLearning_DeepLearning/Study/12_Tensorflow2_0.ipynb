{
  "nbformat": 4,
  "nbformat_minor": 0,
  "metadata": {
    "colab": {
      "name": "12_Tensorflow2.0.ipynb",
      "provenance": [],
      "collapsed_sections": [],
      "toc_visible": true,
      "authorship_tag": "ABX9TyO+x3vgyN5uuR/7ls0JzXs4",
      "include_colab_link": true
    },
    "kernelspec": {
      "name": "python3",
      "display_name": "Python 3"
    },
    "language_info": {
      "name": "python"
    }
  },
  "cells": [
    {
      "cell_type": "markdown",
      "metadata": {
        "id": "view-in-github",
        "colab_type": "text"
      },
      "source": [
        "<a href=\"https://colab.research.google.com/github/Junjaee/Study/blob/main/MachineLearning_DeepLearning/Study/12_Tensorflow2_0.ipynb\" target=\"_parent\"><img src=\"https://colab.research.google.com/assets/colab-badge.svg\" alt=\"Open In Colab\"/></a>"
      ]
    },
    {
      "cell_type": "code",
      "metadata": {
        "id": "Zcuf13Ar2V90"
      },
      "source": [
        "import tensorflow as tf\n",
        "import numpy as np\n",
        "import pandas as pd\n",
        "import matplotlib.pylab as plt\n",
        "import matplotlib as mpl\n",
        "import seaborn as sns\n",
        "\n",
        "import matplotlib.font_manager as fm\n",
        "# font_name = fm.FontProperties(fname=\"C:/Windows/Fonts/malgun.ttf\").get_name()\n",
        "# plt.rc(\"font\", family=font_name)\n",
        "\n",
        "mpl.rcParams[\"axes.unicode_minus\"] = False\n",
        "\n",
        "import keras\n",
        "from keras.models import Sequential, load_model\n",
        "from keras.layers.core import Dense\n",
        "from keras.optimizers import RMSprop, Adam, SGD\n",
        "from keras.utils import np_utils\n",
        "from keras.callbacks import EarlyStopping"
      ],
      "execution_count": 2,
      "outputs": []
    },
    {
      "cell_type": "code",
      "metadata": {
        "colab": {
          "base_uri": "https://localhost:8080/"
        },
        "id": "eEOMbIR43RoT",
        "outputId": "45e1f26e-9eb3-4216-a8d7-6fbe44ce1804"
      },
      "source": [
        "print(tf.__version__)\n",
        "print(tf.keras.__version__)"
      ],
      "execution_count": 4,
      "outputs": [
        {
          "output_type": "stream",
          "text": [
            "2.5.0\n",
            "2.5.0\n"
          ],
          "name": "stdout"
        }
      ]
    },
    {
      "cell_type": "markdown",
      "metadata": {
        "id": "r8NuflBP5jzQ"
      },
      "source": [
        "### 특징\n",
        "\n",
        "- Keras와 즉시 실행(eager execution)을 이용한 쉬운 모델 작성\n",
        "- 어떤 플랫폼에서든 튼튼한(robust) 모델을 배포\n",
        "- 연구를 위한 강력한 실험법\n",
        "- deprecated된 API를 정리하고 중족을 줄여서 API를 단순화\n",
        "\n",
        "### API\n",
        "\n",
        "- tf.data\n",
        "- tf.keras"
      ]
    },
    {
      "cell_type": "code",
      "metadata": {
        "colab": {
          "base_uri": "https://localhost:8080/"
        },
        "id": "Fj3Dzbct3RmD",
        "outputId": "c2ef3dcc-2828-46be-b00a-1081860f3e66"
      },
      "source": [
        "t1 = tf.constant(10)\n",
        "print(t1)\n",
        "\n",
        "t2 = t1 + 5\n",
        "print(t2)\n",
        "\n",
        "print(t2.numpy())"
      ],
      "execution_count": 6,
      "outputs": [
        {
          "output_type": "stream",
          "text": [
            "tf.Tensor(10, shape=(), dtype=int32)\n",
            "tf.Tensor(15, shape=(), dtype=int32)\n",
            "15\n"
          ],
          "name": "stdout"
        }
      ]
    },
    {
      "cell_type": "code",
      "metadata": {
        "colab": {
          "base_uri": "https://localhost:8080/"
        },
        "id": "U66CuS7Y3RjN",
        "outputId": "8b79d3fb-e7ad-4a31-a94c-a7550eaafc53"
      },
      "source": [
        "t1 = tf.constant([2., 4., 5.])\n",
        "print(t1)\n",
        "print(t1.numpy())"
      ],
      "execution_count": 8,
      "outputs": [
        {
          "output_type": "stream",
          "text": [
            "tf.Tensor([2. 4. 5.], shape=(3,), dtype=float32)\n",
            "[2. 4. 5.]\n"
          ],
          "name": "stdout"
        }
      ]
    },
    {
      "cell_type": "code",
      "metadata": {
        "colab": {
          "base_uri": "https://localhost:8080/"
        },
        "id": "U4tEwSgN3Rgh",
        "outputId": "e33ae09c-2701-4c82-a19e-07539c209970"
      },
      "source": [
        "t1 = tf.constant(\"hello world\")\n",
        "print(t1)\n",
        "print(t1.numpy())\n",
        "\n",
        "t2 = tf.constant(\"안녕하세요\")\n",
        "print(t2)\n",
        "print(t2.numpy().decode(\"utf-8\"))"
      ],
      "execution_count": 13,
      "outputs": [
        {
          "output_type": "stream",
          "text": [
            "tf.Tensor(b'hello world', shape=(), dtype=string)\n",
            "b'hello world'\n",
            "tf.Tensor(b'\\xec\\x95\\x88\\xeb\\x85\\x95\\xed\\x95\\x98\\xec\\x84\\xb8\\xec\\x9a\\x94', shape=(), dtype=string)\n",
            "안녕하세요\n"
          ],
          "name": "stdout"
        }
      ]
    },
    {
      "cell_type": "code",
      "metadata": {
        "colab": {
          "base_uri": "https://localhost:8080/"
        },
        "id": "cmM2mznh3RaS",
        "outputId": "97daa187-c55c-4c92-eb52-cde512a1dee4"
      },
      "source": [
        "# placeholder도 지원X\n",
        "\n",
        "a = tf.Variable(tf.cast(3, dtype=float))\n",
        "b = tf.Variable(4.5)\n",
        "\n",
        "print(a + b)\n",
        "print(a.numpy() + b.numpy())\n",
        "\n",
        "##############################################\n",
        "\n",
        "a = tf.Variable(tf.zeros(shape=()))\n",
        "b = tf.Variable(tf.zeros(shape=()))\n",
        "\n",
        "@tf.function\n",
        "def add(x):\n",
        "    return (a + x[0]) + (b + x[1])\n",
        "\n",
        "print(add([3, 4.5]))\n",
        "print(add([[1, 3], [2, 4]]))"
      ],
      "execution_count": 20,
      "outputs": [
        {
          "output_type": "stream",
          "text": [
            "tf.Tensor(7.5, shape=(), dtype=float32)\n",
            "7.5\n",
            "tf.Tensor(7.5, shape=(), dtype=float32)\n",
            "tf.Tensor([3. 7.], shape=(2,), dtype=float32)\n"
          ],
          "name": "stdout"
        }
      ]
    },
    {
      "cell_type": "markdown",
      "metadata": {
        "id": "_J2STJY_CE2W"
      },
      "source": [
        "### 1. 선형 회귀 모델"
      ]
    },
    {
      "cell_type": "code",
      "metadata": {
        "id": "9WrMO0w43RXv"
      },
      "source": [
        "##### 데이터 준비\n",
        "x_train = [1, 2, 3]\n",
        "y_train = [1, 2, 3]\n",
        "\n",
        "W = tf.Variable(tf.random_normal([1]), dtype=tf.float32)\n",
        "b = tf.Variable(tf.random_normal([1]), dtype=tf.float32)\n",
        "\n",
        "##### 가설 준비(y = Wx)\n",
        "hypot = W * x_train + b\n",
        "\n",
        "##### 비용 함수\n",
        "cost = tf.reduce_mean(tf.square(hypot - y_train))\n",
        "\n",
        "##### 최저비용 학습을 위한 경사 하강 알고리즘(Gradient Descent)\n",
        "gradient = tf.reduce_mean((hypot-y_train)*x_train)\n",
        "learning_rate = 0.1\n",
        "descent = W - (learning_rate * gradient)\n",
        "update = W.assign(descent)\n",
        "\n",
        "################## Graph 작업 완료\n",
        "\n",
        "sess = tf.Session()\n",
        "sess.run(tf.global_variables_initializer())\n",
        "\n",
        "for step in range(20):\n",
        "    _, weight, c = sess.run([update, W, cost])\n",
        "    print(step, weight, c)\n",
        "\n",
        "sess.close()"
      ],
      "execution_count": null,
      "outputs": []
    },
    {
      "cell_type": "code",
      "metadata": {
        "colab": {
          "base_uri": "https://localhost:8080/"
        },
        "id": "MuVmtlcw3RVM",
        "outputId": "2ba42fcc-2353-40e3-ff29-b815acc95db4"
      },
      "source": [
        "x_train = [1, 2, 3]\n",
        "y_train = [1, 2, 3]\n",
        "\n",
        "model = tf.keras.models.Sequential()\n",
        "\n",
        "model.add(tf.keras.layers.Dense(1, input_dim=1))\n",
        "sgd = tf.keras.optimizers.SGD(lr=0.01)\n",
        "model.compile(loss=\"mse\", optimizer=sgd)\n",
        "model.fit(x_train, y_train, epochs=20)"
      ],
      "execution_count": 23,
      "outputs": [
        {
          "output_type": "stream",
          "text": [
            "/usr/local/lib/python3.7/dist-packages/tensorflow/python/keras/optimizer_v2/optimizer_v2.py:375: UserWarning: The `lr` argument is deprecated, use `learning_rate` instead.\n",
            "  \"The `lr` argument is deprecated, use `learning_rate` instead.\")\n"
          ],
          "name": "stderr"
        },
        {
          "output_type": "stream",
          "text": [
            "Epoch 1/20\n",
            "1/1 [==============================] - 1s 522ms/step - loss: 4.4058\n",
            "Epoch 2/20\n",
            "1/1 [==============================] - 0s 4ms/step - loss: 3.4863\n",
            "Epoch 3/20\n",
            "1/1 [==============================] - 0s 4ms/step - loss: 2.7595\n",
            "Epoch 4/20\n",
            "1/1 [==============================] - 0s 4ms/step - loss: 2.1850\n",
            "Epoch 5/20\n",
            "1/1 [==============================] - 0s 4ms/step - loss: 1.7308\n",
            "Epoch 6/20\n",
            "1/1 [==============================] - 0s 5ms/step - loss: 1.3718\n",
            "Epoch 7/20\n",
            "1/1 [==============================] - 0s 6ms/step - loss: 1.0880\n",
            "Epoch 8/20\n",
            "1/1 [==============================] - 0s 5ms/step - loss: 0.8637\n",
            "Epoch 9/20\n",
            "1/1 [==============================] - 0s 5ms/step - loss: 0.6863\n",
            "Epoch 10/20\n",
            "1/1 [==============================] - 0s 4ms/step - loss: 0.5461\n",
            "Epoch 11/20\n",
            "1/1 [==============================] - 0s 5ms/step - loss: 0.4353\n",
            "Epoch 12/20\n",
            "1/1 [==============================] - 0s 7ms/step - loss: 0.3477\n",
            "Epoch 13/20\n",
            "1/1 [==============================] - 0s 5ms/step - loss: 0.2784\n",
            "Epoch 14/20\n",
            "1/1 [==============================] - 0s 4ms/step - loss: 0.2236\n",
            "Epoch 15/20\n",
            "1/1 [==============================] - 0s 5ms/step - loss: 0.1803\n",
            "Epoch 16/20\n",
            "1/1 [==============================] - 0s 4ms/step - loss: 0.1460\n",
            "Epoch 17/20\n",
            "1/1 [==============================] - 0s 5ms/step - loss: 0.1189\n",
            "Epoch 18/20\n",
            "1/1 [==============================] - 0s 4ms/step - loss: 0.0975\n",
            "Epoch 19/20\n",
            "1/1 [==============================] - 0s 4ms/step - loss: 0.0805\n",
            "Epoch 20/20\n",
            "1/1 [==============================] - 0s 4ms/step - loss: 0.0671\n"
          ],
          "name": "stdout"
        },
        {
          "output_type": "execute_result",
          "data": {
            "text/plain": [
              "<tensorflow.python.keras.callbacks.History at 0x7f7c45683650>"
            ]
          },
          "metadata": {
            "tags": []
          },
          "execution_count": 23
        }
      ]
    },
    {
      "cell_type": "code",
      "metadata": {
        "colab": {
          "base_uri": "https://localhost:8080/"
        },
        "id": "L1hq1d7F3RSn",
        "outputId": "7669cd74-1f14-415c-c6c9-517d3e494810"
      },
      "source": [
        "print(model.weights)\n",
        "print(model.weights[0].numpy() * x_train[0] + model.weights[1].numpy())\n",
        "print(model.weights[0].numpy() * x_train[1] + model.weights[1].numpy())\n",
        "print(model.weights[0].numpy() * x_train[2] + model.weights[1].numpy())"
      ],
      "execution_count": 24,
      "outputs": [
        {
          "output_type": "stream",
          "text": [
            "[<tf.Variable 'dense_1/kernel:0' shape=(1, 1) dtype=float32, numpy=array([[0.77234364]], dtype=float32)>, <tf.Variable 'dense_1/bias:0' shape=(1,) dtype=float32, numpy=array([0.30719692], dtype=float32)>]\n",
            "[[1.0795405]]\n",
            "[[1.8518841]]\n",
            "[[2.6242278]]\n"
          ],
          "name": "stdout"
        }
      ]
    },
    {
      "cell_type": "markdown",
      "metadata": {
        "id": "jSsYodqaF8d3"
      },
      "source": [
        "### 2. 컬러 이미지 분류\n",
        "- https://www.cs.toronto.edu/~kriz/cifar.html\n"
      ]
    },
    {
      "cell_type": "code",
      "metadata": {
        "id": "tuOu43aE3RQG"
      },
      "source": [
        "import tensorflow as tf\n",
        "import numpy as np\n",
        "import pandas as pd\n",
        "import matplotlib.pylab as plt\n",
        "import matplotlib as mpl\n",
        "import seaborn as sns\n",
        "\n",
        "import matplotlib.font_manager as fm\n",
        "# font_name = fm.FontProperties(fname=\"C:/Windows/Fonts/malgun.ttf\").get_name()\n",
        "# plt.rc(\"font\", family=font_name)\n",
        "\n",
        "mpl.rcParams[\"axes.unicode_minus\"] = False\n",
        "\n",
        "from tensorflow.keras.models import Sequential\n",
        "from tensorflow.keras.layers import Dense, Activation, Flatten, Dropout, BatchNormalization\n",
        "from tensorflow.keras.layers import Conv2D, MaxPooling2D\n",
        "from tensorflow.keras.datasets import cifar10\n",
        "\n",
        "from six.moves import cPickle\n",
        "from sklearn.metrics import classification_report, confusion_matrix"
      ],
      "execution_count": 27,
      "outputs": []
    },
    {
      "cell_type": "code",
      "metadata": {
        "id": "zln86gD_3RNF"
      },
      "source": [
        ""
      ],
      "execution_count": null,
      "outputs": []
    },
    {
      "cell_type": "code",
      "metadata": {
        "id": "wA_dM-lw3RKV"
      },
      "source": [
        ""
      ],
      "execution_count": null,
      "outputs": []
    }
  ]
}