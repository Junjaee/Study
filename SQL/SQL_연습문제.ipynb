{
  "nbformat": 4,
  "nbformat_minor": 0,
  "metadata": {
    "colab": {
      "name": "SQL 연습문제.ipynb",
      "provenance": [],
      "collapsed_sections": [],
      "authorship_tag": "ABX9TyOpfKWDoWbg0OD79rPoWNtd",
      "include_colab_link": true
    },
    "kernelspec": {
      "name": "python3",
      "display_name": "Python 3"
    },
    "language_info": {
      "name": "python"
    }
  },
  "cells": [
    {
      "cell_type": "markdown",
      "metadata": {
        "id": "view-in-github",
        "colab_type": "text"
      },
      "source": [
        "<a href=\"https://colab.research.google.com/github/Junjaee/Study/blob/main/SQL/SQL_%EC%97%B0%EC%8A%B5%EB%AC%B8%EC%A0%9C.ipynb\" target=\"_parent\"><img src=\"https://colab.research.google.com/assets/colab-badge.svg\" alt=\"Open In Colab\"/></a>"
      ]
    },
    {
      "cell_type": "code",
      "metadata": {
        "id": "x1hNhD83TZ5L"
      },
      "source": [
        "# 연습문제 1\n",
        "\n",
        "# 1. 1981년에 입사한 사람의 이름, 업무, 입사일자 조회\n",
        "SELECT ename, job, HIREDATE FROM emp WHERE HIREDATE BETWEEN 19810101 AND 19811231;\n",
        "\n",
        "# 2. 사번이 7902, 7788, 7566인 사원의 이름, 업무, 급여, 입사일자 조회\n",
        "SELECT ename, job, sal, HIREDATE FROM emp WHERE EMPNO IN (7902, 7788, 7566);\n",
        "\n",
        "# 3. 업무가 manager, clerk, analyst가 아닌 직원의 이름, 업무, 급여, 부서번호 조회\n",
        "SELECT ename, job, sal, DEPTNO FROM emp WHERE job NOT IN ('manager','clerk','analyst');\n",
        "\n",
        "# 4. 업무가 president 또는 salesman이고 급여가 1500인 직원의 이름, 급여, 업무, 부서번호 조회\n",
        "SELECT ename, sal, job, DEPTNO FROM emp WHERE job IN ('presidient','salesman') AND sal = 1500;\n",
        "\n",
        "# 5. 가장 최근에 입사한 직원의 이름, 부서, 업무, 입사일자 조회\n",
        "SELECT ename, DEPTNO, job, HIREDATE FROM emp WHERE hiredate = (SELECT MAX(HIREDATE) FROM emp);\n",
        "\n",
        "# 6. 같은 부서내에서 같은 업무를 하는 직원의 급여가 많은 순으로 조회\n",
        "SELECT ename, job, deptno, sal FROM emp ORDER BY deptno, job, sal DESC;\n",
        "# SELECT ename, deptno, job, sal FROM emp WHERE ename NOT IN (SELECT ename FROM emp GROUP BY deptno, job HAVING COUNT(*) = 1) ORDER BY deptno, job, sal DESC;\n",
        "# 부서내에 같은 업무를 가진 사람이 없을 경우 제외하는 식\n",
        "\n",
        "# 7. 커미션이 급여보다 10%이상 많은 직원의 급여가 많은 순으로 조회\n",
        "SELECT ename, job, deptno, sal, comm FROM emp WHERE comm >= sal*1.1 ORDER BY sal DESC; \n",
        "\n",
        "# 8. 이름에 L자가 2개 있고 30번 부서이거나 직속상사가 7782인 직원의 이름, 부서, 직속상사 조회\n",
        "SELECT ename, deptno, mgr FROM emp WHERE ename LIKE '%L%L%' AND (deptno = 30 OR mgr = 7782)"
      ],
      "execution_count": null,
      "outputs": []
    },
    {
      "cell_type": "code",
      "metadata": {
        "id": "2qeNLRIPXwVy"
      },
      "source": [
        "# 연습문제 2\n",
        "\n",
        "# 1. 오늘부터 12월 25일까지 몇일이 남았는가?\n",
        "SELECT datediff(20211225, now());\n",
        "\n",
        "# 2. 현재까지 근무한 직원들의 근무일수를 몇주 몇일로 조회.(단, 근무일수가 많은 사람 순으로 조회)\n",
        "SELECT ename '이름', hiredate '입사일', TIMESTAMPDIFF(MONTH, hiredate, NOW()) '몇주', mod(TIMESTAMPDIFF(DAY, hiredate, NOW()), 7) '몇일' FROM emp ORDER BY (NOW()-hiredate) desc;\n",
        "\n",
        "# 3. 10번 부서 직원들 중 현재까지의 근무월수를 계산해서 조회\n",
        "SELECT ename '이름', hiredate '입사일', TIMESTAMPDIFF(MONTH, hiredate, NOW()) '현재까지의 근무월수' FROM emp WHERE deptno = 10;\n",
        "\n",
        "# 4. 20번 부서 직원들 중 입사일자로부터 13개월이 지난 후의 날짜를 조회\n",
        "SELECT ename '이름', hiredate '입사일', DATE_ADD(hiredate, interval 13 MONTH) '입사일자로부터 13개월 후'FROM emp WHERE deptno = 20;\n",
        "\n",
        "# 5. 모든 직원에 대해 입사한 달의 근무일수를 조회\n",
        "SELECT ename '이름', hiredate '입사일', (datediff(last_day(hiredate), hiredate) + 1) '입사한 달의 근무일수' FROM emp;\n",
        "\n",
        "# 6. 현재 급여에 15%가 증가된 급여를 계산하여 사번, 이름, 급여, 증가된 급여를 조회(단, 급여는 반올림하여 적용한다.)\n",
        "SELECT empno '사번', ename '이름', sal '급여', round(sal*1.15) '증가된 급여'  FROM emp; \n",
        "\n",
        "# 7. 이름, 입사일, 입사일로부터 현재까지의 월수, 급여, 급여 총계를 조회\n",
        "SELECT ename '이름', HIREDATE '입사일', TIMESTAMPDIFF(MONTH, hiredate, NOW()) '입사일로부터 현재까지의 월수', sal '급여', sal*TIMESTAMPDIFF(MONTH, hiredate, NOW()) '급여 총계' FROM emp; \n",
        "\n",
        "# 8. 업무가 analyst이면 급여를 10%증가시키고 clerk이면 15%, manager이면 20%증가 시켜서 이름, 업무, 급여, 증가된 급여를 조회\n",
        "SELECT ename '이름', job '업무', sal'급여', \n",
        "  CASE\n",
        "    WHEN job = 'analyst' THEN round(sal*1.1)\n",
        "    WHEN job = 'clerk' THEN round(sal*1.15)\n",
        "    WHEN job = 'manager' THEN round(sal*1.2)\n",
        "    ELSE sal\n",
        "  END as '증가된 급여'\n",
        "FROM emp\n",
        "\n",
        "# 9. 이름의 첫글자가 k보다 크고 y보다 작은 직원의 이름, 부서, 업무를 조회하시오.\n",
        "SELECT ename '이름', deptno '부서', job '업무' FROM emp WHERE SUBSTR(ename, 1, 1) > 'k' AND SUBSTR(ename, 1, 1) < 'y';"
      ],
      "execution_count": null,
      "outputs": []
    },
    {
      "cell_type": "code",
      "metadata": {
        "id": "2PpFPVdGII5h"
      },
      "source": [
        ""
      ],
      "execution_count": null,
      "outputs": []
    }
  ]
}