{
  "nbformat": 4,
  "nbformat_minor": 0,
  "metadata": {
    "colab": {
      "name": "04_클래스.ipynb",
      "provenance": [],
      "collapsed_sections": [],
      "authorship_tag": "ABX9TyNSdGJUXi/8fiy7Ek7QtiRB",
      "include_colab_link": true
    },
    "kernelspec": {
      "name": "python3",
      "display_name": "Python 3"
    },
    "language_info": {
      "name": "python"
    }
  },
  "cells": [
    {
      "cell_type": "markdown",
      "metadata": {
        "id": "view-in-github",
        "colab_type": "text"
      },
      "source": [
        "<a href=\"https://colab.research.google.com/github/Junjaee/Study/blob/main/Python/04_%ED%81%B4%EB%9E%98%EC%8A%A4.ipynb\" target=\"_parent\"><img src=\"https://colab.research.google.com/assets/colab-badge.svg\" alt=\"Open In Colab\"/></a>"
      ]
    },
    {
      "cell_type": "markdown",
      "metadata": {
        "id": "4jrAYDnpIatn"
      },
      "source": [
        "### 1. 특징\n",
        "\n",
        "+ 묶음(block)\n",
        "    - 변수(멤버 변수, 속성), 함수(멤버 함수, 메서드)\n",
        "    - 여러 개의 함수를 묶어서 좀 더 큰 단위의 모듈로 관리\n",
        "\n",
        "  \n",
        "+ 설계도(추상적)\n",
        "    - 인스턴스(instance), 객체(Object)\n",
        "\n",
        "\n",
        "+ 사용자 정의 자료형을 만들 수 있는 도구\n",
        "\n",
        "+ class는 첫글자가 대문자, 함수는 첫글자가 소문자\n",
        "\n",
        "+ 객체의 조건\n",
        "    - 상속성(Inheritance)\n",
        "    - 다형성(Polymorphism) : 여러개의 함수를 전부 알지 않아도 이용 가능\n",
        "    - 캡슐화(Capsulation) : 편리함\n",
        "\n",
        "+ 객체 설계 5원칙 : SOLID"
      ]
    },
    {
      "cell_type": "markdown",
      "metadata": {
        "id": "NnH_nZ2rL1ct"
      },
      "source": [
        "---\n",
        "### 2. 클래스 작성 방법\n",
        "\n",
        "```\n",
        "class 이름:\n",
        "      변수\n",
        "      함수\n",
        "\n",
        "또는\n",
        "\n",
        "class 이름(...):\n",
        "      변수\n",
        "      함수\n",
        "```\n"
      ]
    },
    {
      "cell_type": "code",
      "metadata": {
        "colab": {
          "base_uri": "https://localhost:8080/"
        },
        "id": "G-OFrb78EeIx",
        "outputId": "55703047-8c9e-4d3a-d6c2-6d0f0a2e4a3a"
      },
      "source": [
        "class Test:\n",
        "      a = 10\n",
        "\n",
        "      def show(self):\n",
        "          print(\"Test 클래스\")\n",
        "\n",
        "\n",
        "##################################################\n",
        "\n",
        "# Test() -> 인스턴스(메모리에 테스트라는 클래스를 생성한다)\n",
        "\n",
        "# Test().a\n",
        "# Test().show()\n",
        "\n",
        "ob = Test() # ob라는 메모리에 저장\n",
        "ob.a = 100\n",
        "print(ob.a)\n",
        "ob.show()\n",
        "\n",
        "a = 10\n",
        "a = 20\n",
        "\n",
        "print(type(a))\n"
      ],
      "execution_count": null,
      "outputs": [
        {
          "output_type": "stream",
          "text": [
            "100\n",
            "Test 클래스\n",
            "<class 'int'>\n",
            "0\n"
          ],
          "name": "stdout"
        }
      ]
    },
    {
      "cell_type": "code",
      "metadata": {
        "colab": {
          "base_uri": "https://localhost:8080/"
        },
        "id": "VudFYMkVWVas",
        "outputId": "9598f48f-d3de-4692-ddb5-8e1c774a833f"
      },
      "source": [
        "### 사용자 정의 자료형\n",
        "# 국적, 이름, 나이, 신장, 취미\n",
        "\n",
        "class Person:\n",
        "      nation = \"한국\"\n",
        "      name = str()\n",
        "      age = int()\n",
        "      height = float()\n",
        "      hobbies = []\n",
        "\n",
        "      def show(self):\n",
        "          print(\"국적 : \", self.nation)\n",
        "          print(\"이름 : \", self.name)\n",
        "          print(\"나이 : \", self.age)\n",
        "          print(\"신장 : \", self.height)\n",
        "          print(\"취미 : \", self.hobbies)\n",
        "          print(\"\\n========================\")\n",
        "\n",
        "##############################################\n",
        "\n",
        "p1 = Person()\n",
        "p2 = Person()\n",
        "p3 = Person()\n",
        "\n",
        "p1.nation = \"한국\"\n",
        "p1.name = \"홍길동\"\n",
        "p1.age = 20\n",
        "p1.height = 170\n",
        "p1.hobbies = [\"독서\", \"여행\"]\n",
        "\n",
        "p2.nation = \"미국\"\n",
        "p2.name = \"워싱턴\"\n",
        "p2.age = 25\n",
        "p2.height = 180\n",
        "p2.hobbies = [\"전쟁\", \"정치\"]\n",
        "\n",
        "p3.nation = \"영국\"\n",
        "p3.name = \"셜록\"\n",
        "p3.age = 230\n",
        "p3.height = 175\n",
        "p3.hobbies = [\"추리\", \"바이올린\"]\n",
        "\n",
        "data = [p1, p2, p3]\n",
        "\n",
        "# for i in range(len(data)):\n",
        "#     data[i].show()"
      ],
      "execution_count": null,
      "outputs": [
        {
          "output_type": "stream",
          "text": [
            "국적 :  한국\n",
            "이름 :  홍길동\n",
            "나이 :  20\n",
            "신장 :  170\n",
            "취미 :  ['독서', '여행']\n",
            "\n",
            "========================\n"
          ],
          "name": "stdout"
        }
      ]
    },
    {
      "cell_type": "markdown",
      "metadata": {
        "id": "KX5EPKP3rV18"
      },
      "source": [
        "---\n",
        "### 3. 클래스 작성 문법\n",
        "\n",
        "+ self\n",
        "    - 현재 사용중인 객체의 주소를 저장호 있는 참조 변수\n",
        "    - read only"
      ]
    },
    {
      "cell_type": "code",
      "metadata": {
        "id": "gsjac9eF_Mfp"
      },
      "source": [
        "class Test:\n",
        "      a = int()\n",
        "      b = float()\n",
        "      c = str()\n",
        "      # 변수 따로 선언하지 않아도 상관 없다.\n",
        "\n",
        "      def show(self):\n",
        "          print(self.a, self.b, self.c)\n",
        "          print(\"현재 주소 : \", id(self))\n",
        "\n",
        "      def setValue(self, a, b, c):\n",
        "          self.a = a\n",
        "          self.b = b\n",
        "          self.c = c"
      ],
      "execution_count": null,
      "outputs": []
    },
    {
      "cell_type": "code",
      "metadata": {
        "id": "xJC1vthXrjdR",
        "colab": {
          "base_uri": "https://localhost:8080/"
        },
        "outputId": "d6686526-6146-4a54-8f9b-64fbb376c1e5"
      },
      "source": [
        "t1 = Test()\n",
        "t2 = Test()\n",
        "t3 = Test()\n",
        "\n",
        "# t1.a = 10 \n",
        "# t1.b = 3.14\n",
        "# t1.c = \"홍길동\"\n",
        "# print(id(t1))\n",
        "\n",
        "# t1.setValue(10, 3.14, \"홍길동\")\n",
        "t1.setValue(10, 3.14, \"홍길동\")\n",
        "\n",
        "t2.a = 20\n",
        "t2.b = 4.14\n",
        "t2.c = \"신길동\"\n",
        "\n",
        "t3.a = 30\n",
        "t3.b = 5.14\n",
        "t3.c = \"감길동\"\n",
        "\n",
        "\n",
        "t1.show()"
      ],
      "execution_count": null,
      "outputs": [
        {
          "output_type": "stream",
          "text": [
            "10 3.14 홍길동\n",
            "현재 주소 :  140424025729296\n"
          ],
          "name": "stdout"
        }
      ]
    },
    {
      "cell_type": "markdown",
      "metadata": {
        "id": "p8DfPe6GPfac"
      },
      "source": [
        "---\n",
        "+ 생성자(Constructor) 메서드와 소멸자(Deconstructor) 메서드\n",
        "    - 객체를 생성하는 용도\n",
        "    - 객체를 처음 만들 때 호출된다.(단 한번만 호출됨)\n",
        "    - 초기화"
      ]
    },
    {
      "cell_type": "code",
      "metadata": {
        "id": "yNaAr1p4boG4"
      },
      "source": [
        "class Test:\n",
        "      a = int()\n",
        "      b = str()\n",
        "\n",
        "      def __init__(self, x, y):\n",
        "          print(\"생성자 호출됨\")\n",
        "          self.a = x\n",
        "          self.b = y\n",
        "\n",
        "      def setValue(self, x, y):\n",
        "          self.a = x\n",
        "          self.b = y\n",
        "      "
      ],
      "execution_count": null,
      "outputs": []
    },
    {
      "cell_type": "code",
      "metadata": {
        "colab": {
          "base_uri": "https://localhost:8080/"
        },
        "id": "4FTra-Wabokw",
        "outputId": "ef6946c8-e3a7-40ac-df1a-5aaafaf50e1b"
      },
      "source": [
        "t = Test(10, \"홍길동\")\n",
        "print(t.a, t.b)\n",
        "\n",
        "t.setValue(20, \"임꺽정\")\n",
        "print(t.a, t.b)"
      ],
      "execution_count": null,
      "outputs": [
        {
          "output_type": "stream",
          "text": [
            "생성자 호출됨\n",
            "10 홍길동\n",
            "20 임꺽정\n"
          ],
          "name": "stdout"
        }
      ]
    },
    {
      "cell_type": "code",
      "metadata": {
        "id": "15u1KI0Mrjyt"
      },
      "source": [
        "class Test:\n",
        "      a = int()\n",
        "      b = str()\n",
        "\n",
        "      def __init__(self, x = 0, y = None): # Defalut 값을 준다\n",
        "          print(\"생성자 호출됨\")\n",
        "          self.a = x\n",
        "          self.b = y\n",
        "\n",
        "      def setValue(self, x, y):\n",
        "          self.a = x\n",
        "          self.b = y\n",
        "\n",
        "      def __del__(self):\n",
        "          print(\"소멸자 호출\")\n",
        "\n",
        "class Test2:\n",
        "      pass      "
      ],
      "execution_count": null,
      "outputs": []
    },
    {
      "cell_type": "code",
      "metadata": {
        "colab": {
          "base_uri": "https://localhost:8080/"
        },
        "id": "ggknTrziS-Tg",
        "outputId": "7023e9d7-645d-4b35-fd19-8761fa9fc68c"
      },
      "source": [
        "t = Test()\n",
        "print(t.a, t.b)\n",
        "\n",
        "t.setValue(20, \"임꺽정\")\n",
        "print(t.a, t.b)\n",
        "\n",
        "t1 = Test()\n",
        "print(t1.a, t1.b)\n",
        "\n",
        "t2 = Test(30)\n",
        "print(t2.a, t2.b)\n",
        "\n",
        "t3 = Test(\"신돌석\")\n",
        "print(t3.a, t3.b)"
      ],
      "execution_count": null,
      "outputs": [
        {
          "output_type": "stream",
          "text": [
            "생성자 호출됨\n",
            "0 None\n",
            "20 임꺽정\n",
            "생성자 호출됨\n",
            "0 None\n",
            "생성자 호출됨\n",
            "30 None\n",
            "생성자 호출됨\n",
            "신돌석 None\n"
          ],
          "name": "stdout"
        }
      ]
    },
    {
      "cell_type": "code",
      "metadata": {
        "id": "UV0RKvkDaAFM"
      },
      "source": [
        "del t3"
      ],
      "execution_count": null,
      "outputs": []
    },
    {
      "cell_type": "code",
      "metadata": {
        "colab": {
          "base_uri": "https://localhost:8080/"
        },
        "id": "E3wndzmKaBxS",
        "outputId": "bbef67ed-0fbd-4986-c6a8-05521c4cccce"
      },
      "source": [
        "ob1 = Test()\n",
        "ob2 = Test2()\n",
        "\n",
        "print(type(ob1), type(ob2))\n",
        "\n",
        "print(isinstance(ob1, Test)) # 서로 같은 타입인지 비교해서 True, False 출력\n",
        "print(isinstance(ob2, Test))\n",
        "print(isinstance(ob1, Test2))\n",
        "print(isinstance(ob2, Test2))"
      ],
      "execution_count": null,
      "outputs": [
        {
          "output_type": "stream",
          "text": [
            "생성자 호출됨\n",
            "소멸자 호출\n",
            "<class '__main__.Test'> <class '__main__.Test2'>\n",
            "True\n",
            "False\n",
            "False\n",
            "True\n"
          ],
          "name": "stdout"
        }
      ]
    },
    {
      "cell_type": "markdown",
      "metadata": {
        "id": "5lPQnZA7DTa1"
      },
      "source": [
        "---\n",
        "+ 정적 메서드 <-> 인스턴스 메서드\n",
        "    - 정적(클래스) 변수\n",
        "    - 동일한 공간에 모든 객체들이 공동으로 사용\n",
        "    - staticmethod, classmethod"
      ]
    },
    {
      "cell_type": "code",
      "metadata": {
        "id": "YqP7q1mYDVrs"
      },
      "source": [
        "class Person:\n",
        "      nation = \"한국\"\n",
        "      name = str()\n",
        "      age = int()\n",
        "      height = float()\n",
        "      hobbies = []\n",
        "      telephone = []\n",
        "\n",
        "      def show(self):\n",
        "          print(\"국적 : \", self.nation)\n",
        "          print(\"이름 : \", self.name)\n",
        "          print(\"나이 : \", self.age)\n",
        "          print(\"신장 : \", self.height)\n",
        "          print(\"취미 : \", self.hobbies)\n",
        "          print(\"전화번호 : \", self.telephone)\n",
        "          print(\"\\n========================\")\n",
        "      \n",
        "      @staticmethod  # Decorator\n",
        "      def tel(num = \"02-1111-1111\"):  # 정적 메서드는 셀프를 받지 않는다\n",
        "          Person.telephone.append(num)\n",
        "          return \"대표 전화전호 : \" + Person.telephone[0]"
      ],
      "execution_count": null,
      "outputs": []
    },
    {
      "cell_type": "code",
      "metadata": {
        "colab": {
          "base_uri": "https://localhost:8080/"
        },
        "id": "oQohFQs5GcXh",
        "outputId": "31aad849-0e75-4522-eea3-2cc8efbfa118"
      },
      "source": [
        "print(Person.nation)"
      ],
      "execution_count": null,
      "outputs": [
        {
          "output_type": "stream",
          "text": [
            "한국\n"
          ],
          "name": "stdout"
        }
      ]
    },
    {
      "cell_type": "code",
      "metadata": {
        "colab": {
          "base_uri": "https://localhost:8080/"
        },
        "id": "c-HDU1sAIIlp",
        "outputId": "5105f8b0-4d7c-4601-f29f-128c5b674dab"
      },
      "source": [
        "p1 = Person()\n",
        "p2 = Person()\n",
        "\n",
        "print(p1.nation, p2.nation)\n",
        "\n",
        "p1.nation = \"독일\"\n",
        "p2.nation = \"프랑스\"\n",
        "\n",
        "print(p1.nation, p2.nation)\n",
        "print(Person.nation)"
      ],
      "execution_count": null,
      "outputs": [
        {
          "output_type": "stream",
          "text": [
            "한국 한국\n",
            "독일 프랑스\n",
            "한국\n"
          ],
          "name": "stdout"
        }
      ]
    },
    {
      "cell_type": "code",
      "metadata": {
        "colab": {
          "base_uri": "https://localhost:8080/"
        },
        "id": "eRurahC0KCbp",
        "outputId": "9a18ab6f-e572-4e78-c221-eea8a328c84f"
      },
      "source": [
        "print(Person.tel())\n",
        "print(p1.tel())\n",
        "print(p2.tel())"
      ],
      "execution_count": null,
      "outputs": [
        {
          "output_type": "stream",
          "text": [
            "대표 전화전호 : 02-1111-1111\n",
            "대표 전화전호 : 02-1111-1111\n",
            "대표 전화전호 : 02-1111-1111\n"
          ],
          "name": "stdout"
        }
      ]
    },
    {
      "cell_type": "code",
      "metadata": {
        "colab": {
          "base_uri": "https://localhost:8080/"
        },
        "id": "m65PDf3nL1RX",
        "outputId": "d6e28ce4-b7ec-4407-f1ba-a86cf9ac2edf"
      },
      "source": [
        "# 객체의 수를 카운팅\n",
        "\n",
        "class Counter:\n",
        "      m_cnt = 0\n",
        "\n",
        "      \n",
        "      def __init__(self):\n",
        "          Counter.m_cnt += 1\n",
        "\n",
        "      @staticmethod\n",
        "      def printCount():\n",
        "          print(\"객체의 수 :\", Counter.m_cnt)\n",
        "\n",
        "###############################\n",
        "\n",
        "a, b, c = Counter(), Counter(), Counter()\n",
        "a.printCount()\n",
        "b.printCount()\n",
        "c.printCount()\n",
        "d = Counter()\n",
        "d.printCount()"
      ],
      "execution_count": null,
      "outputs": [
        {
          "output_type": "stream",
          "text": [
            "객체의 수 : 3\n",
            "객체의 수 : 3\n",
            "객체의 수 : 3\n",
            "객체의 수 : 4\n"
          ],
          "name": "stdout"
        }
      ]
    },
    {
      "cell_type": "code",
      "metadata": {
        "colab": {
          "base_uri": "https://localhost:8080/"
        },
        "id": "RjznAkY-UQN2",
        "outputId": "40672eb1-324a-4bae-897f-84624e8314a0"
      },
      "source": [
        "class Counter:\n",
        "      m_cnt = 0\n",
        "\n",
        "      \n",
        "      def __init__(self):\n",
        "          Counter.m_cnt += 1\n",
        "\n",
        "      @staticmethod\n",
        "      def printCount():\n",
        "          print(\"객체의 수 :\", Counter.m_cnt)\n",
        "\n",
        "      @classmethod\n",
        "      def printCount2(cls):\n",
        "          print(\"객체의 수 :\", cls.m_cnt)\n",
        "\n",
        "###############################\n",
        "\n",
        "a, b, c = Counter(), Counter(), Counter()\n",
        "a.printCount()\n",
        "b.printCount()\n",
        "c.printCount()\n",
        "a.printCount2()\n",
        "b.printCount2()\n",
        "c.printCount2()"
      ],
      "execution_count": null,
      "outputs": [
        {
          "output_type": "stream",
          "text": [
            "객체의 수 : 3\n",
            "객체의 수 : 3\n",
            "객체의 수 : 3\n",
            "객체의 수 : 3\n",
            "객체의 수 : 3\n",
            "객체의 수 : 3\n"
          ],
          "name": "stdout"
        }
      ]
    },
    {
      "cell_type": "code",
      "metadata": {
        "colab": {
          "base_uri": "https://localhost:8080/"
        },
        "id": "4d1cx1M9VXGw",
        "outputId": "deb35929-a56c-4fb7-e665-8e28eabd0ab0"
      },
      "source": [
        "class Counter:\n",
        "      m_cnt = 0\n",
        "\n",
        "      \n",
        "      def __init__(self):\n",
        "          Counter.m_cnt += 1\n",
        "\n",
        "      def printCount():\n",
        "          print(\"객체의 수 :\", Counter.m_cnt)\n",
        "\n",
        "      def printCount2(cls):\n",
        "          print(\"객체의 수2 :\", cls.m_cnt)\n",
        "\n",
        "      cnt1 = staticmethod(printCount)\n",
        "      cnt2 = classmethod(printCount2)\n",
        "\n",
        "###############################\n",
        "\n",
        "a, b, c = Counter(), Counter(), Counter()\n",
        "a.cnt1()\n",
        "b.cnt1()\n",
        "c.cnt1()\n",
        "a.cnt2()\n",
        "b.cnt2()\n",
        "c.cnt2()\n",
        "\n",
        "Counter.cnt1()\n",
        "Counter.cnt2()\n"
      ],
      "execution_count": null,
      "outputs": [
        {
          "output_type": "stream",
          "text": [
            "객체의 수 : 3\n",
            "객체의 수 : 3\n",
            "객체의 수 : 3\n",
            "객체의 수2 : 3\n",
            "객체의 수2 : 3\n",
            "객체의 수2 : 3\n",
            "객체의 수 : 3\n",
            "객체의 수2 : 3\n"
          ],
          "name": "stdout"
        }
      ]
    },
    {
      "cell_type": "code",
      "metadata": {
        "id": "rfuWr2pvYU4M"
      },
      "source": [
        "\"\"\"\n",
        "e1 = Employee(1111, \"홍길동\", 1000000, [\"여행\", \"낚시\", \"운동\"])\n",
        "e1.display()\n",
        "\n",
        "결과 :\n",
        "      사번 : 1111\n",
        "      이름 : 홍길동\n",
        "      급여 : 1000000\n",
        "      취미 : 여행, 낚시, 운동\n",
        "\n",
        "e2 = Employee(1112, \"임꺽정\", 1200000, [\"자전거\", \"볼링\", \"게임\"])\n",
        "e3 = Employee(1113, \"신돌석\", 1400000, [\"독서\"])\n",
        "\n",
        "total = Employee.getCount()\n",
        "print(\"인원수 : \", total)\n",
        "\n",
        "# 데이터 수정\n",
        "e3.setSalary(2000000)\n",
        "e3.appendHobby(\"피아노\", \"드론\")\n",
        "e3.display()\n",
        "\n",
        "결과 :\n",
        "      사번 : 1113\n",
        "      이름 : 신돌석\n",
        "      급여 : 2000000\n",
        "      취미 : 피아노, 드론\n",
        "\n",
        "\n",
        "\"\"\""
      ],
      "execution_count": null,
      "outputs": []
    },
    {
      "cell_type": "code",
      "metadata": {
        "id": "ReAaT9pQZhG1"
      },
      "source": [
        "class Employee:\n",
        "      num = int()\n",
        "      name = str()\n",
        "      salary = int()\n",
        "      hobbies = []\n",
        "      \n",
        "      cnt = 0\n",
        "\n",
        "      def __init__(self, a , b , c , d):\n",
        "          self.num = a\n",
        "          self.name = b\n",
        "          self.salary = c\n",
        "          self.hobbies = d\n",
        "          \n",
        "          Employee.cnt += 1\n",
        "\n",
        "      def display(self):\n",
        "          print(\"========================\")\n",
        "          print(\"사번 : \", self.num)\n",
        "          print(\"이름 : \", self.name)\n",
        "          print(\"급여 : \", self.salary)\n",
        "          print(\"취미 : \", self.hobbies)\n",
        "          print(\"========================\\n\")\n",
        "      \n",
        "      @staticmethod\n",
        "      def getCount():\n",
        "          print(\"========================\")\n",
        "          print(\"인원수 : \", Employee.cnt)\n",
        "          print(\"========================\\n\")\n",
        "      \n",
        "      def setSalary(self, x):\n",
        "          self.salary = x\n",
        "\n",
        "      def appendHobby(self, *y):\n",
        "          self.hobbies = y\n",
        "\n"
      ],
      "execution_count": null,
      "outputs": []
    },
    {
      "cell_type": "code",
      "metadata": {
        "colab": {
          "base_uri": "https://localhost:8080/"
        },
        "id": "OookF3qaaeaF",
        "outputId": "5b0c01a7-4d74-4882-fac8-c4fc9058e846"
      },
      "source": [
        "# 입력 출력\n",
        "e1 = Employee(1111, \"홍길동\", 1000000, [\"여행\", \"낚시\", \"운동\"])\n",
        "e1.display()\n",
        "\n",
        "e2 = Employee(1112, \"임꺽정\", 1200000, [\"자전거\", \"볼링\", \"게임\"])\n",
        "e2.display()\n",
        "\n",
        "e3 = Employee(1113, \"신돌석\", 1400000, [\"독서\"])\n",
        "e3.display()\n",
        "\n",
        "total = Employee.getCount()\n",
        "\n",
        "# 데이터 수정\n",
        "e3.setSalary(2000000)\n",
        "e3.appendHobby(\"피아노\", \"드론\")\n",
        "e3.display()\n"
      ],
      "execution_count": null,
      "outputs": [
        {
          "output_type": "stream",
          "text": [
            "========================\n",
            "사번 :  1111\n",
            "이름 :  홍길동\n",
            "급여 :  1000000\n",
            "취미 :  ['여행', '낚시', '운동']\n",
            "========================\n",
            "\n",
            "========================\n",
            "사번 :  1112\n",
            "이름 :  임꺽정\n",
            "급여 :  1200000\n",
            "취미 :  ['자전거', '볼링', '게임']\n",
            "========================\n",
            "\n",
            "========================\n",
            "사번 :  1113\n",
            "이름 :  신돌석\n",
            "급여 :  1400000\n",
            "취미 :  ['독서']\n",
            "========================\n",
            "\n",
            "========================\n",
            "인원수 :  3\n",
            "========================\n",
            "\n",
            "========================\n",
            "사번 :  1113\n",
            "이름 :  신돌석\n",
            "급여 :  2000000\n",
            "취미 :  ('피아노', '드론')\n",
            "========================\n",
            "\n"
          ],
          "name": "stdout"
        }
      ]
    },
    {
      "cell_type": "markdown",
      "metadata": {
        "id": "dm6QBsiRaT7T"
      },
      "source": [
        "---\n",
        "### 원래 설계된 멤버 변수 외에 객체 별로 멤버 변수를 추가할 수 있다."
      ]
    },
    {
      "cell_type": "code",
      "metadata": {
        "colab": {
          "base_uri": "https://localhost:8080/"
        },
        "id": "MEygXIt2aTnp",
        "outputId": "c1026ca9-c696-44ad-8d3e-9cddd23fccf1"
      },
      "source": [
        "class Test:\n",
        "      a = 0\n",
        "\n",
        "      def display(self):\n",
        "          print(self.a)\n",
        "\n",
        "###############################\n",
        "\n",
        "ob1 = Test()\n",
        "ob1.display()\n",
        "\n",
        "ob2 = Test()\n",
        "ob2.display()\n",
        "\n",
        "ob2.b = 20\n",
        "print(ob2.b)"
      ],
      "execution_count": null,
      "outputs": [
        {
          "output_type": "stream",
          "text": [
            "0\n",
            "0\n",
            "20\n"
          ],
          "name": "stdout"
        }
      ]
    },
    {
      "cell_type": "markdown",
      "metadata": {
        "id": "5q_t3BRLfKL2"
      },
      "source": [
        "---\n",
        "+ _ 와 __\n",
        "    - 기본 인터프리터에서 사용(최근에 사용한 값을 저장하고 불러오기)\n",
        "    - 값을 무시\n",
        "    - 접근 권한"
      ]
    },
    {
      "cell_type": "code",
      "metadata": {
        "id": "kf7pQr2IfFsZ"
      },
      "source": [
        "# a, b, c = (10, 20, 30)\n",
        "# a, _, c = (10, 20, 30)\n",
        "_, _, c = (10, 20, 30)\n",
        "print(b, c)"
      ],
      "execution_count": null,
      "outputs": []
    },
    {
      "cell_type": "code",
      "metadata": {
        "colab": {
          "base_uri": "https://localhost:8080/"
        },
        "id": "y3bCpXbJhIZH",
        "outputId": "f5a34ac7-ec3f-4257-be0c-577c5b4b1941"
      },
      "source": [
        "# a, _, _, _, _, b = (10, 20, 30, 40, 50, 60)\n",
        "\n",
        "a, *_, b = (10, 20, 30, 40, 50, 60)\n",
        "\n",
        "print(a, b)"
      ],
      "execution_count": 3,
      "outputs": [
        {
          "output_type": "stream",
          "text": [
            "10 60\n"
          ],
          "name": "stdout"
        }
      ]
    },
    {
      "cell_type": "code",
      "metadata": {
        "colab": {
          "base_uri": "https://localhost:8080/"
        },
        "id": "Q1gg0nGqhq3V",
        "outputId": "dd53c438-ec49-47dc-8c23-3627f420e141"
      },
      "source": [
        "for idx, _ in enumerate([\"가\", \"나\", \"다\", \"라\"]):\n",
        "    print(idx)\n",
        "\n",
        "for _ in range(10):\n",
        "    print(\"*\", end=\"\")"
      ],
      "execution_count": 4,
      "outputs": [
        {
          "output_type": "stream",
          "text": [
            "0\n",
            "1\n",
            "2\n",
            "3\n",
            "**********"
          ],
          "name": "stdout"
        }
      ]
    },
    {
      "cell_type": "code",
      "metadata": {
        "colab": {
          "base_uri": "https://localhost:8080/"
        },
        "id": "TWClVFxlj7Uv",
        "outputId": "13fc541f-97b9-426e-824f-5b95bbc1cb1c"
      },
      "source": [
        "# _ 와 __ 를 이용한 접근 권한\n",
        "\n",
        "class Test:\n",
        "      str1 = \"안녕하세요~~\"\n",
        "      _str2 = \"홍길동입니다...\" # 최대한 건들지 말아달라고 소극적으로 표시(원한다면 수정은 가능함)\n",
        "      __str3 = \"이것은 건드리지 마세요~~\" # 외부에서 볼수 없게 감춰버림\n",
        "\n",
        "      def __funcTest(self):\n",
        "          print(\"funcTest 입니다.\", self.str1)\n",
        "        \n",
        "      def setStr(self, str):  # setter 메서드\n",
        "          self.__str3 = str\n",
        "\n",
        "      def getStr(self):  # getter 메서드\n",
        "          return self.__str3\n",
        "######################################################\n",
        "\n",
        "ob1 = Test()\n",
        "print(ob1.str1)\n",
        "print(ob1._str2)\n",
        "ob1._str2 = \"임꺽정입니다...\"\n",
        "print(ob1._str2)\n",
        "# print(ob1._str3)\n",
        "print(dir(ob1)) # str3는 _Test__str3로 바뀌어 있다\n",
        "\n",
        "print(ob1._Test__str3)\n",
        "\n",
        "# ob1._funcTest()\n",
        "# ob1.__funcTest()\n",
        "ob1._Test__funcTest()"
      ],
      "execution_count": null,
      "outputs": [
        {
          "output_type": "stream",
          "text": [
            "안녕하세요~~\n",
            "홍길동입니다...\n",
            "임꺽정입니다...\n",
            "['_Test__funcTest', '_Test__str3', '__class__', '__delattr__', '__dict__', '__dir__', '__doc__', '__eq__', '__format__', '__ge__', '__getattribute__', '__gt__', '__hash__', '__init__', '__init_subclass__', '__le__', '__lt__', '__module__', '__ne__', '__new__', '__reduce__', '__reduce_ex__', '__repr__', '__setattr__', '__sizeof__', '__str__', '__subclasshook__', '__weakref__', '_str2', 'str1']\n",
            "이것은 건드리지 마세요~~\n",
            "funcTest 입니다. 안녕하세요~~\n"
          ],
          "name": "stdout"
        }
      ]
    },
    {
      "cell_type": "markdown",
      "metadata": {
        "id": "424wjUOOug0H"
      },
      "source": [
        "---\n",
        "### 상속(Inheritance)\n",
        "\n",
        "+ 상속 설계 시 고려할 점\n",
        "      - 부모 클래스는 최소한의 코드로 작성(모든 자식들이 공통적으로 필요로 한 것들로 구성)\n",
        "      - 상속받은 자식 클래스는 반드시 기능을 확장(추가)시켜야 한다.\n",
        "      - 중복된 기능이 있어서는 안된다.\n",
        "\n",
        "\n",
        "+ Override(재정의), Overload(중복정의) : 파이썬에서는 Overload를 지원하지 않는다."
      ]
    },
    {
      "cell_type": "code",
      "metadata": {
        "id": "-HtcYOoiumH2"
      },
      "source": [
        "class Animal:\n",
        "      def move(self):\n",
        "          print(\"움직인다.\")\n",
        "\n",
        "class Dog(Animal):\n",
        "      def bark(self):\n",
        "          print(\"멍멍~~~~\")\n",
        "\n",
        "\n",
        "class Horse(Animal):\n",
        "      def speed(self, s):\n",
        "          print(\"현재 속도는\", s)"
      ],
      "execution_count": null,
      "outputs": []
    },
    {
      "cell_type": "code",
      "metadata": {
        "colab": {
          "base_uri": "https://localhost:8080/"
        },
        "id": "ovKrKe_dzk2x",
        "outputId": "ab55c9af-521c-4750-e298-82de6dee30d0"
      },
      "source": [
        "d1 = Dog()\n",
        "d1.move()\n",
        "d1.bark()\n",
        "\n",
        "h1 = Horse()\n",
        "h1.move()\n",
        "h1.speed(100)"
      ],
      "execution_count": null,
      "outputs": [
        {
          "output_type": "stream",
          "text": [
            "움직인다.\n",
            "멍멍~~~~\n",
            "움직인다.\n",
            "현재 속도는 100\n"
          ],
          "name": "stdout"
        }
      ]
    },
    {
      "cell_type": "markdown",
      "metadata": {
        "id": "b-CrShPzMmtX"
      },
      "source": [
        "+ Override"
      ]
    },
    {
      "cell_type": "code",
      "metadata": {
        "id": "-_OW1TAxKvoB"
      },
      "source": [
        "class Calculator:\n",
        "      first = 0\n",
        "      second = 0\n",
        "\n",
        "      def __init__(self, first = None, second = None):\n",
        "          self.first = first\n",
        "          self.second = second\n",
        "\n",
        "      def setData(self, first = None, second = None):\n",
        "          self.first = first\n",
        "          self.second = second\n",
        "\n",
        "      def sum(self):\n",
        "          return self.first + self.second\n",
        "\n",
        "      def div(self):\n",
        "          return self.first / self.second\n",
        "\n",
        "      def mul(self):\n",
        "          return self.first * self.second\n",
        "\n",
        "      def sub(self):\n",
        "          return self.first - self.second\n",
        "\n",
        "class Calculator2(Calculator):\n",
        "      def pow(self):\n",
        "          return self.first ** self.second\n",
        "\n",
        "      def div(self):\n",
        "          if self.second == 0:\n",
        "             return \"0으로 나눌 수 없습니다\"\n",
        "          else:\n",
        "             return self.first / self.second"
      ],
      "execution_count": null,
      "outputs": []
    },
    {
      "cell_type": "code",
      "metadata": {
        "colab": {
          "base_uri": "https://localhost:8080/"
        },
        "id": "kcqCWexNMPAx",
        "outputId": "f975c59a-ae42-4fd1-a1df-1dc19176f201"
      },
      "source": [
        "cal1 = Calculator()\n",
        "cal1.setData(10, 20)\n",
        "print(cal1.sum())\n",
        "\n",
        "cal2 = Calculator(20, 30)\n",
        "print(cal2.mul())\n",
        "\n",
        "cal3 = Calculator2(2, 10)\n",
        "print(cal3.pow())\n",
        "\n",
        "cal3.setData(10, 0)\n",
        "print(cal3.div())"
      ],
      "execution_count": null,
      "outputs": [
        {
          "output_type": "stream",
          "text": [
            "30\n",
            "600\n",
            "1024\n",
            "0으로 나눌 수 없습니다\n"
          ],
          "name": "stdout"
        }
      ]
    },
    {
      "cell_type": "code",
      "metadata": {
        "id": "MmzzaDxbU-zl"
      },
      "source": [
        "# Override 이용한 표준화 구현\n",
        "\n",
        "class Phone:\n",
        "      def call(self):\n",
        "          print(\"전화 걸기\")\n",
        "\n",
        "class FolderPhone(Phone):\n",
        "      def call(self):\n",
        "          print(\"전화 걸기 + 게임\")\n",
        "\n",
        "class CameraPhone(Phone):\n",
        "      def call(self):\n",
        "          print(\"전화 걸기 + 카메라 추가\")\n",
        "\n",
        "class SmartPhone(Phone):\n",
        "      def call(self):\n",
        "          print(\"전화 걸기 + 카메라 추가 + 인터넷 기능\")"
      ],
      "execution_count": null,
      "outputs": []
    },
    {
      "cell_type": "markdown",
      "metadata": {
        "id": "FHhIZ_IDWu9z"
      },
      "source": [
        "---\n",
        "+ super"
      ]
    },
    {
      "cell_type": "code",
      "metadata": {
        "colab": {
          "base_uri": "https://localhost:8080/"
        },
        "id": "X2uK_xo7WufD",
        "outputId": "ba67cdb0-42ec-4a9f-d233-bad208f17cac"
      },
      "source": [
        "class Person:\n",
        "      say = \"난 사람이다\"\n",
        "      age = 20\n",
        "\n",
        "      def info(self):\n",
        "          print(\"나이 : {}, 하고싶은 말 : {}\".format(self.age, self.say))\n",
        "\n",
        "      def __init__(self):\n",
        "          print(\"Person 클래스\")\n",
        "\n",
        "\n",
        "class Employee(Person):\n",
        "      say = \"난 회사원이다\"\n",
        "\n",
        "      def __init__(self):\n",
        "          print(\"Employee 클래스\")\n",
        "\n",
        "      def info(self):\n",
        "          print(self.age)\n",
        "          print(self.say)\n",
        "          print(super().say)\n",
        "          super().info()\n",
        "\n",
        "##############################\n",
        "\n",
        "e1 = Employee()\n",
        "e1.info()\n",
        "\n"
      ],
      "execution_count": null,
      "outputs": [
        {
          "output_type": "stream",
          "text": [
            "Employee 클래스\n",
            "20\n",
            "난 회사원이다\n",
            "난 사람이다\n",
            "나이 : 20, 하고싶은 말 : 난 회사원이다\n"
          ],
          "name": "stdout"
        }
      ]
    },
    {
      "cell_type": "markdown",
      "metadata": {
        "id": "9C7wNqk8cg86"
      },
      "source": [
        "---\n",
        "+ 상속에서의 staticmethod, classmethod\n",
        "  + staticmethod : 상속을 받아도 부모의 함수를 그래도 받음(자식의 Override를 받지 않음)\n",
        "  + classmethod : 자식의 Override 가능\n",
        "  \n",
        "\n"
      ]
    },
    {
      "cell_type": "code",
      "metadata": {
        "colab": {
          "base_uri": "https://localhost:8080/"
        },
        "id": "9BJa2w-Ecmw2",
        "outputId": "ddba93c0-6868-41c4-9391-f3bda4a3fbf6"
      },
      "source": [
        "class Test:\n",
        "      t = \"내가 상속해 주었음\"\n",
        "\n",
        "      # @staticmethod\n",
        "      # def display():\n",
        "      #     return Test.t\n",
        "\n",
        "      @classmethod\n",
        "      def display(cls):\n",
        "          return cls.t\n",
        "\n",
        "class ChildTest(Test):\n",
        "      t = \"내가 상속 받았음\"\n",
        "\n",
        "###############################\n",
        "\n",
        "print(Test.display())\n",
        "print(ChildTest.display())"
      ],
      "execution_count": null,
      "outputs": [
        {
          "output_type": "stream",
          "text": [
            "내가 상속해 주었음\n",
            "내가 상속 받았음\n"
          ],
          "name": "stdout"
        }
      ]
    },
    {
      "cell_type": "markdown",
      "metadata": {
        "id": "2Zeu9I9CfR1f"
      },
      "source": [
        "---\n",
        "+ 다중 상속"
      ]
    },
    {
      "cell_type": "code",
      "metadata": {
        "colab": {
          "base_uri": "https://localhost:8080/"
        },
        "id": "2FxmrEhpkKx9",
        "outputId": "e793d513-9e6e-464f-fc7e-4dc33a350645"
      },
      "source": [
        "class Phone:\n",
        "      def call(self):\n",
        "          print(\"전화 걸기\")\n",
        "\n",
        "class Camera:\n",
        "      def picture(self):\n",
        "          print(\"촬영 가능\")\n",
        "\n",
        "class Game:\n",
        "      def rendering(self):\n",
        "          print(\"화면 그리기\")\n",
        "\n",
        "class CameraPhone(Phone, Camera):\n",
        "      pass\n",
        "\n",
        "###################################\n",
        "\n",
        "cp = CameraPhone()\n",
        "cp.call()\n",
        "cp.picture()"
      ],
      "execution_count": null,
      "outputs": [
        {
          "output_type": "stream",
          "text": [
            "전화 걸기\n",
            "촬영 가능\n"
          ],
          "name": "stdout"
        }
      ]
    },
    {
      "cell_type": "markdown",
      "metadata": {
        "id": "W89fAqWulwtY"
      },
      "source": [
        "---\n",
        "+ 추상클래스와 추상메서드"
      ]
    },
    {
      "cell_type": "code",
      "metadata": {
        "colab": {
          "base_uri": "https://localhost:8080/"
        },
        "id": "SyTGZIa3lzae",
        "outputId": "f78eabbe-8a26-46f3-828a-8c4c74dff8a1"
      },
      "source": [
        "class Volume:\n",
        "      vol = 0\n",
        "      \n",
        "      def volumeUp(self, vol):\n",
        "          self.vol += vol\n",
        "          print(\"소리 증가 : \", self.vol)\n",
        "\n",
        "      def volumeDown(self, vol):\n",
        "          self.vol -= vol\n",
        "          print(\"소리 감소 : \", self.vol)\n",
        "\n",
        "class TestVolume(Volume):\n",
        "      def volumeUp(self, vol):\n",
        "          self.vol += vol\n",
        "          print(\"테스트 제품 소리 증가 :\", self.vol)\n",
        "\n",
        "      def volumeDown(self, vol):\n",
        "          self.vol -= vol\n",
        "          print(\"테스트 제품 소리 감소 :\", self.vol)\n",
        "\n",
        "###########################################################\n",
        "\n",
        "t = TestVolume()\n",
        "t.volumeUp(100)\n",
        "t.volumeDown(50)"
      ],
      "execution_count": null,
      "outputs": [
        {
          "output_type": "stream",
          "text": [
            "테스트 제품 소리 증가 : 100\n",
            "테스트 제품 소리 감소 : 50\n"
          ],
          "name": "stdout"
        }
      ]
    },
    {
      "cell_type": "code",
      "metadata": {
        "colab": {
          "base_uri": "https://localhost:8080/"
        },
        "id": "-a_KPzWFp22e",
        "outputId": "e0020e06-9d4d-4a10-9f58-cf8af93c63e4"
      },
      "source": [
        "# 추상 메서드\n",
        "\n",
        "import abc\n",
        "\n",
        "class Volume(metaclass = abc.ABCMeta):\n",
        "      vol = 0\n",
        "      \n",
        "      @abc.abstractmethod # 무조건 자식 class에서 override를 해야함\n",
        "      def volumeUp(self, vol):\n",
        "          pass\n",
        "\n",
        "      @abc.abstractmethod\n",
        "      def volumeDown(self, vol):\n",
        "          pass\n",
        "\n",
        "class TestVolume(Volume):\n",
        "      def volumeUp(self, vol):\n",
        "          self.vol += vol\n",
        "          print(\"테스트 제품 소리 증가 :\", self.vol)\n",
        "\n",
        "      def volumeDown(self, vol):\n",
        "          self.vol -= vol\n",
        "          print(\"테스트 제품 소리 감소 :\", self.vol)\n",
        "\n",
        "###########################################################\n",
        "\n",
        "t = TestVolume()\n",
        "t.volumeUp(100)\n",
        "t.volumeDown(50)\n",
        "\n",
        "# Volume()\n",
        "# 추상클래스는 자식에게 물려주기 위함"
      ],
      "execution_count": null,
      "outputs": [
        {
          "output_type": "stream",
          "text": [
            "테스트 제품 소리 증가 : 100\n",
            "테스트 제품 소리 감소 : 50\n"
          ],
          "name": "stdout"
        }
      ]
    },
    {
      "cell_type": "code",
      "metadata": {
        "id": "oZbuxl9ZYcpd"
      },
      "source": [
        "\"\"\"\n",
        "1. 부모 클래스로 Power를 추가한다. : 다중 상속 구현\n",
        "    - powerOn(), powerOff()\n",
        "    \n",
        "2. 부모 클래스는 추상 클래스로 구현한다.\n",
        "\n",
        "3. 전원을 켰을 때만 볼륨 조정을 할 수 있게 한다.\n",
        "\n",
        "4. 볼륨 조정은 max값을 100으로 하고 min값을 0으로 한다.\n",
        "\n",
        "-----------------------------------------------------------\n",
        "1. TV\n",
        "2. Radio\n",
        "3. Speaker\n",
        "4. 종료\n",
        "메뉴 : 1\n",
        "\n",
        "1. 전원 \n",
        "2. 볼륨 조정\n",
        "3. 나가기\n",
        "메뉴 : 2\n",
        "\n",
        "볼륨 레벨 : 20\n",
        "현재 TV의 볼륨은 20입니다.\n",
        "...\n",
        "\n",
        "\"\"\""
      ],
      "execution_count": null,
      "outputs": []
    },
    {
      "cell_type": "markdown",
      "metadata": {
        "id": "sbto0LSdjTu3"
      },
      "source": [
        "---\n",
        "+ object\n",
        "  - 파이썬 클래스들 중에서 가장 상위 클래스"
      ]
    },
    {
      "cell_type": "code",
      "metadata": {
        "id": "nWG9V9_FkpYl"
      },
      "source": [
        "class Test:\n",
        "  a = 10"
      ],
      "execution_count": 2,
      "outputs": []
    },
    {
      "cell_type": "code",
      "metadata": {
        "colab": {
          "base_uri": "https://localhost:8080/"
        },
        "id": "Aqp9VaJXksmm",
        "outputId": "c721c356-73ff-4f52-bfb0-87cd85f36cde"
      },
      "source": [
        "print(dir(object))\n",
        "print(\"===========\")\n",
        "print(dir(Test))"
      ],
      "execution_count": 4,
      "outputs": [
        {
          "output_type": "stream",
          "text": [
            "['__class__', '__delattr__', '__dir__', '__doc__', '__eq__', '__format__', '__ge__', '__getattribute__', '__gt__', '__hash__', '__init__', '__init_subclass__', '__le__', '__lt__', '__ne__', '__new__', '__reduce__', '__reduce_ex__', '__repr__', '__setattr__', '__sizeof__', '__str__', '__subclasshook__']\n",
            "===========\n",
            "['__class__', '__delattr__', '__dict__', '__dir__', '__doc__', '__eq__', '__format__', '__ge__', '__getattribute__', '__gt__', '__hash__', '__init__', '__init_subclass__', '__le__', '__lt__', '__module__', '__ne__', '__new__', '__reduce__', '__reduce_ex__', '__repr__', '__setattr__', '__sizeof__', '__str__', '__subclasshook__', '__weakref__', 'a']\n"
          ],
          "name": "stdout"
        }
      ]
    },
    {
      "cell_type": "markdown",
      "metadata": {
        "id": "weO2UT-ymWPn"
      },
      "source": [
        "---\n",
        "  + \n",
        "```\n",
        "__class__\n",
        "```\n",
        "\n",
        "클래스 변수를 참조하기 위한 속성"
      ]
    },
    {
      "cell_type": "code",
      "metadata": {
        "colab": {
          "base_uri": "https://localhost:8080/"
        },
        "id": "Poo5a54MmVcp",
        "outputId": "40d5e14d-6e46-429b-be7f-8493b26a8bf5"
      },
      "source": [
        "class Test:\n",
        "  data = \"파이썬 클래스\"\n",
        "\n",
        "  def display(self):\n",
        "    print(self.data)\n",
        "    print(self.__class__.data)\n",
        "\n",
        "##############################\n",
        "\n",
        "ob1, ob2 = Test(), Test()\n",
        "\n",
        "print(ob1.data)\n",
        "print(ob2.data)\n",
        "print(Test.data)\n",
        "\n",
        "ob1.data = \"ob1 데이터\"\n",
        "ob2.data = \"ob2 데이터\"\n",
        "\n",
        "print(ob1.data)\n",
        "print(ob2.data)\n",
        "print(Test.data)\n",
        "\n",
        "print(\"===============\")\n",
        "\n",
        "print(ob1.__class__.data)\n",
        "print(ob2.__class__.data)\n",
        "\n",
        "print(\"===============\")\n",
        "\n",
        "ob1.display()\n",
        "ob2.display()\n"
      ],
      "execution_count": 16,
      "outputs": [
        {
          "output_type": "stream",
          "text": [
            "파이썬 클래스\n",
            "파이썬 클래스\n",
            "파이썬 클래스\n",
            "ob1 데이터\n",
            "ob2 데이터\n",
            "파이썬 클래스\n",
            "===============\n",
            "파이썬 클래스\n",
            "파이썬 클래스\n",
            "===============\n",
            "ob1 데이터\n",
            "파이썬 클래스\n",
            "ob2 데이터\n",
            "파이썬 클래스\n"
          ],
          "name": "stdout"
        }
      ]
    },
    {
      "cell_type": "markdown",
      "metadata": {
        "id": "H-OyIzuLtF18"
      },
      "source": [
        "---\n",
        "    __slot__\n",
        "    객체별로 변수 추가 금지"
      ]
    },
    {
      "cell_type": "code",
      "metadata": {
        "colab": {
          "base_uri": "https://localhost:8080/"
        },
        "id": "e-edK9NAtEhl",
        "outputId": "0a6c7222-c12d-49c6-d1e2-db5eb0455af4"
      },
      "source": [
        "class Animal:\n",
        "  # name = \"동물\"     #슬롯(__slots__)을 선언하면 앞에서 변수를 선언할 수 없다\n",
        "  # age = 0\n",
        "\n",
        "  __slots__ = [\"name\", \"age\"]  # 슬롯 안의 변수를 제외하고는 추가할 수 없음\n",
        "\n",
        "  def display(self):\n",
        "    print(self.name, self.age)\n",
        "  \n",
        "#################################\n",
        "\n",
        "a, b = Animal(), Animal()\n",
        "\n",
        "a.name = \"멍멍이\"\n",
        "a.age = 2\n",
        "\n",
        "b.name = \"야옹이\"\n",
        "b.age = 3\n",
        "\n",
        "a.display()\n",
        "b.display()\n",
        "\n",
        "# a.etc = \"예방 접종을 받았음\"\n",
        "# print(a.etc)\n"
      ],
      "execution_count": 5,
      "outputs": [
        {
          "output_type": "stream",
          "text": [
            "멍멍이 2\n",
            "야옹이 3\n"
          ],
          "name": "stdout"
        }
      ]
    },
    {
      "cell_type": "markdown",
      "metadata": {
        "id": "xiWzN_k7whDw"
      },
      "source": [
        "---\n",
        "### 클래스의 관계\n",
        "\n",
        "+ is a 관계(상속 관계, 일반화 관계)\n",
        "  - 특정 클래스 객체가 다른 클래스 객체에게 자신의 멤버를 물려주는 상속관계\n",
        "  - UML에서는 비어있는 화살표로 강한 결합 관계로 표현\n",
        "\n",
        "+ has a 관계(연관 관계, 포함 관계)\n",
        "  - 특정 클래스내에서 해당 클래스의 멤버처럼 다른 클래스 객체를 포함하고 있는 경우\n",
        "  - Aggregation : 약한 관계\n",
        "  - Composition : 강한 관계\n",
        "\n",
        "+ UML\n"
      ]
    },
    {
      "cell_type": "code",
      "metadata": {
        "colab": {
          "base_uri": "https://localhost:8080/"
        },
        "id": "RfMeop352LcJ",
        "outputId": "1e6d252f-a091-4a6d-b41a-dc791e565f90"
      },
      "source": [
        "# has a 관계 중 강한 관계\n",
        "\n",
        "class Handle:\n",
        "  quantity = 0\n",
        "\n",
        "  def leftTurn(self, q):\n",
        "    self.quantity = q\n",
        "    return \"좌회전\"\n",
        "\n",
        "  def rightTurn(self, q):\n",
        "    self.quantity = q\n",
        "    return \"우회전\"\n",
        "\n",
        "  def straight(self, q):\n",
        "    self.quantity = q\n",
        "    return \"직진\"\n",
        "\n",
        "#############################\n",
        "\n",
        "class Car:\n",
        "  turnShow = \"정지\"\n",
        "\n",
        "  def __init__(self, owner):\n",
        "    self.owner = owner\n",
        "    self.handle = Handle()\n",
        "\n",
        "  def turnHandle(self, q):\n",
        "    if q > 0:\n",
        "      self.turnShow = self.handle.rightTurn(q)\n",
        "    elif q < 0:\n",
        "      self.turnShow = self.handle.leftTurn(q)\n",
        "    elif q == 0:\n",
        "      self.turnShow = self.handle.straight(q)\n",
        "\n",
        "#############################\n",
        "\n",
        "tom = Car(\"tom\")\n",
        "tom.turnHandle(10)\n",
        "print(tom.owner + \"의 회전량은 \" + tom.turnShow + str(tom.handle.quantity))"
      ],
      "execution_count": 8,
      "outputs": [
        {
          "output_type": "stream",
          "text": [
            "tom의 회전량은 우회전10\n"
          ],
          "name": "stdout"
        }
      ]
    },
    {
      "cell_type": "code",
      "metadata": {
        "colab": {
          "base_uri": "https://localhost:8080/"
        },
        "id": "m7r8jTgo9TQk",
        "outputId": "c8cd1538-b646-4601-801e-604df4911caf"
      },
      "source": [
        "# has a 관계 중 약한 관계\n",
        "\n",
        "class Fridge:\n",
        "  isOpen = False\n",
        "  foods = []\n",
        "\n",
        "  def open(self):\n",
        "    self.isOpen = True\n",
        "    print(\"냉장고 문 열기\")\n",
        "    \n",
        "  def close(self):\n",
        "    self.isOpen = False\n",
        "    print(\"냉장고 문 닫기\")\n",
        "\n",
        "  def put(self, thing):\n",
        "    if self.isOpen:\n",
        "      self.foods.append(thing)\n",
        "      print(\"냉장고에 음식이 들어감\")\n",
        "      self.list()\n",
        "    else:\n",
        "      print(\"냉장고 문이 닫혀있어서 음식을 넣을 수 없음\")\n",
        "\n",
        "  def list(self):\n",
        "    for f in self.foods:\n",
        "      print(\"-\", f.name, f.ex_data)\n",
        "    print()\n",
        "\n",
        "#############################\n",
        "\n",
        "class FoodData:\n",
        "  def __init__(self, name, ex_data):\n",
        "    self.name = name\n",
        "    self.ex_data = ex_data\n",
        "\n",
        "#############################\n",
        "\n",
        "f = Fridge()\n",
        "apple = FoodData(\"사과\", \"2021-5-5\")\n",
        "bro = FoodData(\"브로콜리\", \"2021-5-1\")\n",
        "\n",
        "f.open()\n",
        "f.put(apple)\n",
        "f.put(bro)\n",
        "f.close()"
      ],
      "execution_count": 14,
      "outputs": [
        {
          "output_type": "stream",
          "text": [
            "냉장고 문 열기\n",
            "냉장고에 음식이 들어감\n",
            "- 사과 2021-5-5\n",
            "\n",
            "냉장고에 음식이 들어감\n",
            "- 사과 2021-5-5\n",
            "- 브로콜리 2021-5-1\n",
            "\n",
            "냉장고 문 닫기\n"
          ],
          "name": "stdout"
        }
      ]
    },
    {
      "cell_type": "markdown",
      "metadata": {
        "id": "nsPA4mlLKk7K"
      },
      "source": [
        "---\n",
        "### 고급 함수"
      ]
    },
    {
      "cell_type": "markdown",
      "metadata": {
        "id": "hLbV8srtKhDV"
      },
      "source": [
        "---\n",
        "#### (1) 변수의 생존 범위 : global, nonlocal"
      ]
    },
    {
      "cell_type": "code",
      "metadata": {
        "colab": {
          "base_uri": "https://localhost:8080/"
        },
        "id": "83m0e3WRK_Xl",
        "outputId": "33d12090-0f79-430d-a4f0-902670d81fd5"
      },
      "source": [
        "player = \"전국 대표\"\n",
        "\n",
        "def funcSoccer():\n",
        "  global player\n",
        "\n",
        "  name = \"홍길동\"\n",
        "  player = \"지역 대표\"\n",
        "\n",
        "###############################\n",
        "\n",
        "print(player)\n",
        "funcSoccer()\n",
        "print(player)"
      ],
      "execution_count": 19,
      "outputs": [
        {
          "output_type": "stream",
          "text": [
            "전국 대표\n",
            "지역 대표\n"
          ],
          "name": "stdout"
        }
      ]
    },
    {
      "cell_type": "code",
      "metadata": {
        "colab": {
          "base_uri": "https://localhost:8080/"
        },
        "id": "FNDuBoQvMmqJ",
        "outputId": "59528abe-d5a6-4192-a121-676aa8bb054f"
      },
      "source": [
        "a = 100\n",
        "\n",
        "def kbs1():\n",
        "  a = 1\n",
        "\n",
        "  def kbs2():\n",
        "    # a = 2\n",
        "    \n",
        "    # global a\n",
        "    # print(\"kbs2 함수 내부 : \", a)\n",
        "    \n",
        "    nonlocal a\n",
        "    print(\"kbs2 함수 내부 : \", a)\n",
        "\n",
        "  kbs2()\n",
        "  print(\"kbs1 함수 내부 : \", a)\n",
        "\n",
        "###########################################\n",
        "\n",
        "print(a)\n",
        "kbs1()\n",
        "print(a)"
      ],
      "execution_count": 35,
      "outputs": [
        {
          "output_type": "stream",
          "text": [
            "100\n",
            "kbs2 함수 내부 :  1\n",
            "kbs1 함수 내부 :  1\n",
            "100\n"
          ],
          "name": "stdout"
        }
      ]
    },
    {
      "cell_type": "markdown",
      "metadata": {
        "id": "GtlvR4ErQS_d"
      },
      "source": [
        "---\n",
        "#### (2) 클로저(closer)\n",
        "\n",
        "    함수 밖에서 임의의 함수안에 선언된 지역변수를 계속 참조할 수 있게 하는 방법"
      ]
    },
    {
      "cell_type": "code",
      "metadata": {
        "colab": {
          "base_uri": "https://localhost:8080/"
        },
        "id": "JlYgj3LZQ3xA",
        "outputId": "f135a189-4d06-49a7-a145-3fd30d029268"
      },
      "source": [
        "\n",
        "def out():\n",
        "  count = 0\n",
        "\n",
        "  def inn():\n",
        "    nonlocal count\n",
        "    count += 1\n",
        "    print(count)\n",
        "\n",
        "  return inn\n",
        "\n",
        "a = out()\n",
        "a() \n",
        "a()"
      ],
      "execution_count": 49,
      "outputs": [
        {
          "output_type": "stream",
          "text": [
            "1\n",
            "2\n"
          ],
          "name": "stdout"
        }
      ]
    },
    {
      "cell_type": "code",
      "metadata": {
        "colab": {
          "base_uri": "https://localhost:8080/"
        },
        "id": "Nr_iVOF6nKIT",
        "outputId": "661882fd-1965-46aa-bc17-9ae41d7208ac"
      },
      "source": [
        "def test():\n",
        "    total = 0\n",
        "\n",
        "    def calc():\n",
        "        nonlocal total\n",
        "        total = total + 2\n",
        "        print(total)\n",
        "    return calcs\n",
        "\n",
        "t = test()\n",
        "\n",
        "t()\n",
        "t()\n",
        "t()"
      ],
      "execution_count": 65,
      "outputs": [
        {
          "output_type": "stream",
          "text": [
            "2\n",
            "4\n",
            "6\n"
          ],
          "name": "stdout"
        }
      ]
    },
    {
      "cell_type": "code",
      "metadata": {
        "colab": {
          "base_uri": "https://localhost:8080/"
        },
        "id": "adtRqAJHoTqh",
        "outputId": "a3f95aae-9a8e-405e-9b6a-43e2498de0da"
      },
      "source": [
        "def outer(tax):\n",
        "  def inner(su, dan):\n",
        "    amount = su * dan * tax\n",
        "    return amount\n",
        "  \n",
        "  return inner\n",
        "\n",
        "#############################\n",
        "\n",
        "tax_rate = outer(0.1)\n",
        "mouse = tax_rate(5, 5000)\n",
        "print(mouse)\n",
        "\n",
        "usb = tax_rate(3, 12000)\n",
        "print(usb)\n",
        "\n",
        "tax_rate = outer(0.05)\n",
        "mouse = tax_rate(5, 5000)\n",
        "print(mouse)"
      ],
      "execution_count": 70,
      "outputs": [
        {
          "output_type": "stream",
          "text": [
            "2500.0\n",
            "3600.0\n",
            "1250.0\n"
          ],
          "name": "stdout"
        }
      ]
    },
    {
      "cell_type": "markdown",
      "metadata": {
        "id": "J1bJLeCdsE_f"
      },
      "source": [
        "---\n",
        "#### (3) 람다 함수(무명함수, 익명함수)"
      ]
    },
    {
      "cell_type": "code",
      "metadata": {
        "colab": {
          "base_uri": "https://localhost:8080/"
        },
        "id": "Uw2ZpifgsBVj",
        "outputId": "d80a026a-e596-4b87-f54d-14b3a79cf516"
      },
      "source": [
        "def hap(x, y):\n",
        "  return x + y\n",
        "\n",
        "###################\n",
        "\n",
        "result = hap(10, 20)\n",
        "print(result)"
      ],
      "execution_count": 74,
      "outputs": [
        {
          "output_type": "stream",
          "text": [
            "30\n"
          ],
          "name": "stdout"
        }
      ]
    },
    {
      "cell_type": "code",
      "metadata": {
        "colab": {
          "base_uri": "https://localhost:8080/"
        },
        "id": "UyVYexmut-Fj",
        "outputId": "18279541-9afe-4ec1-83b4-1db876886ad3"
      },
      "source": [
        "print((lambda x, y : x + y)(10, 20))"
      ],
      "execution_count": 77,
      "outputs": [
        {
          "output_type": "stream",
          "text": [
            "30\n"
          ],
          "name": "stdout"
        }
      ]
    },
    {
      "cell_type": "code",
      "metadata": {
        "colab": {
          "base_uri": "https://localhost:8080/"
        },
        "id": "0NYbL_SOxtCi",
        "outputId": "c3534ae6-0fc7-4d8a-cd18-de5d0ff4204a"
      },
      "source": [
        "add = (lambda x, y : x + y)\n",
        "add(20, 30)"
      ],
      "execution_count": 79,
      "outputs": [
        {
          "output_type": "execute_result",
          "data": {
            "text/plain": [
              "50"
            ]
          },
          "metadata": {
            "tags": []
          },
          "execution_count": 79
        }
      ]
    },
    {
      "cell_type": "code",
      "metadata": {
        "colab": {
          "base_uri": "https://localhost:8080/"
        },
        "id": "UjkK1KoWyMKR",
        "outputId": "0dba3062-c209-433c-f7f4-3510c33b125d"
      },
      "source": [
        "def func_test(a, *b, **c):\n",
        "  print(a, b, c)\n",
        "\n",
        "#############################\n",
        "\n",
        "func_test(1, 2, 3, 4, 5, m = 6, n = 7, o = 8)\n",
        "\n",
        "#############################\n",
        "\n",
        "a = (lambda a, *b, **c : print(a, b, c))(1, 2, 3, 4, 5, m = 6, n = 7, o = 8)"
      ],
      "execution_count": 83,
      "outputs": [
        {
          "output_type": "stream",
          "text": [
            "1 (2, 3, 4, 5) {'m': 6, 'n': 7, 'o': 8}\n",
            "1 (2, 3, 4, 5) {'m': 6, 'n': 7, 'o': 8}\n"
          ],
          "name": "stdout"
        }
      ]
    },
    {
      "cell_type": "code",
      "metadata": {
        "colab": {
          "base_uri": "https://localhost:8080/"
        },
        "id": "MrDuqr_sydFE",
        "outputId": "ad235a98-94d2-4e7b-f0c9-3c2b1b6d44d7"
      },
      "source": [
        "ex = [1, 2, 3, 4, 5]\n",
        "\n",
        "def func_test(x):\n",
        "  if x % 2 == 0:\n",
        "    return x ** 2\n",
        "  else:\n",
        "    return x\n",
        "\n",
        "####################\n",
        "\n",
        "result = []\n",
        "for i in ex:\n",
        "  result.append(func_test(i))\n",
        "\n",
        "print(result)\n",
        "\n",
        "####################\n",
        "\n",
        "list(map(func_test, ex))\n",
        "\n",
        "####################\n",
        "\n",
        "list(map(lambda x : x**2 if x%2==0 else x, ex))"
      ],
      "execution_count": 88,
      "outputs": [
        {
          "output_type": "stream",
          "text": [
            "[1, 4, 3, 16, 5]\n"
          ],
          "name": "stdout"
        },
        {
          "output_type": "execute_result",
          "data": {
            "text/plain": [
              "[1, 4, 3, 16, 5]"
            ]
          },
          "metadata": {
            "tags": []
          },
          "execution_count": 88
        }
      ]
    },
    {
      "cell_type": "markdown",
      "metadata": {
        "id": "2S3-Zmut2M0G"
      },
      "source": [
        "---\n",
        "#### (4) 함수 장식자(decorator)\n",
        "\n",
        "+ 일종의 함수 감싸기(wrapping)를 해주는 디자인 패턴\n",
        "+ 메타 프로그래밍 기법\n",
        "+ @classmethod, @staticmethod, @abstract....."
      ]
    },
    {
      "cell_type": "code",
      "metadata": {
        "colab": {
          "base_uri": "https://localhost:8080/",
          "height": 35
        },
        "id": "ConV75b62QlE",
        "outputId": "ed3bef5f-0c12-4677-986b-c6799599d65c"
      },
      "source": [
        "def make1(fn):\n",
        "  return lambda: \"반가워 \" + fn()\n",
        "\n",
        "def hello():\n",
        "  return \"홍길동\"\n",
        "\n",
        "####################\n",
        "\n",
        "make1(hello)()\n",
        "\n",
        "hi = make1(hello)\n",
        "hi()"
      ],
      "execution_count": 95,
      "outputs": [
        {
          "output_type": "execute_result",
          "data": {
            "application/vnd.google.colaboratory.intrinsic+json": {
              "type": "string"
            },
            "text/plain": [
              "'반가워 홍길동'"
            ]
          },
          "metadata": {
            "tags": []
          },
          "execution_count": 95
        }
      ]
    },
    {
      "cell_type": "code",
      "metadata": {
        "colab": {
          "base_uri": "https://localhost:8080/",
          "height": 35
        },
        "id": "Kpru86Wj5ASp",
        "outputId": "a2db2088-bb51-4bf1-faea-4eec8bd822bf"
      },
      "source": [
        "def make2(fn):\n",
        "  return lambda: \"안녕 \" + fn()\n",
        "\n",
        "def make1(fn):\n",
        "  return lambda: \"반가워 \" + fn()\n",
        "\n",
        "def hello():\n",
        "  return \"홍길동\"\n",
        "\n",
        "####################\n",
        "\n",
        "hi = make2(make1(hello))\n",
        "hi()"
      ],
      "execution_count": 96,
      "outputs": [
        {
          "output_type": "execute_result",
          "data": {
            "application/vnd.google.colaboratory.intrinsic+json": {
              "type": "string"
            },
            "text/plain": [
              "'안녕 반가워 홍길동'"
            ]
          },
          "metadata": {
            "tags": []
          },
          "execution_count": 96
        }
      ]
    },
    {
      "cell_type": "code",
      "metadata": {
        "colab": {
          "base_uri": "https://localhost:8080/",
          "height": 35
        },
        "id": "cRTIuTJe5WUn",
        "outputId": "45df02fe-f3f6-41ff-e959-b7eb77f32fe4"
      },
      "source": [
        "def make2(fn):\n",
        "  return lambda: \"안녕 \" + fn()\n",
        "\n",
        "def make1(fn):\n",
        "  return lambda: \"반가워 \" + fn()\n",
        "\n",
        "@make2\n",
        "@make1  # 옆 두 수식이 함수를 make2(make1(hello)) <-- 이렇게 만들어 준다\n",
        "def hello():\n",
        "  return \"홍길동\"\n",
        "\n",
        "####################\n",
        "\n",
        "hello()\n"
      ],
      "execution_count": 100,
      "outputs": [
        {
          "output_type": "execute_result",
          "data": {
            "application/vnd.google.colaboratory.intrinsic+json": {
              "type": "string"
            },
            "text/plain": [
              "'안녕 반가워 홍길동'"
            ]
          },
          "metadata": {
            "tags": []
          },
          "execution_count": 100
        }
      ]
    },
    {
      "cell_type": "code",
      "metadata": {
        "colab": {
          "base_uri": "https://localhost:8080/"
        },
        "id": "BS-_LNhL6KZZ",
        "outputId": "61d23988-29ac-48ef-b1e0-a21f41869a93"
      },
      "source": [
        "def outer(fn):\n",
        "  def inner(n1, n2):\n",
        "    print(\"결과는 {} 이다\".format(fn(n1, n2)))\n",
        "\n",
        "  return inner\n",
        "\n",
        "@outer\n",
        "def func(n1, n2):\n",
        "  return n1 + n2\n",
        "\n",
        "##################################\n",
        "\n",
        "# result = outer(func)\n",
        "# result(10, 20)\n",
        "\n",
        "func(10,20)\n",
        "\n",
        "#################################"
      ],
      "execution_count": 109,
      "outputs": [
        {
          "output_type": "stream",
          "text": [
            "결과는 30 이다\n"
          ],
          "name": "stdout"
        }
      ]
    }
  ]
}