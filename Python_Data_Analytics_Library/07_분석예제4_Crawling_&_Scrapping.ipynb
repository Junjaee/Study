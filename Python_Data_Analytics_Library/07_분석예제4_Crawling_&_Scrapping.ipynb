{
  "nbformat": 4,
  "nbformat_minor": 0,
  "metadata": {
    "colab": {
      "name": "07_분석예제4_Crawling & Scrapping.ipynb",
      "provenance": [],
      "collapsed_sections": [],
      "toc_visible": true,
      "authorship_tag": "ABX9TyP1SJOQDq7UCRcErEziGF/7",
      "include_colab_link": true
    },
    "kernelspec": {
      "name": "python3",
      "display_name": "Python 3"
    },
    "language_info": {
      "name": "python"
    }
  },
  "cells": [
    {
      "cell_type": "markdown",
      "metadata": {
        "id": "view-in-github",
        "colab_type": "text"
      },
      "source": [
        "<a href=\"https://colab.research.google.com/github/Junjaee/Study/blob/main/Python_Data_Analytics_Library/07_%EB%B6%84%EC%84%9D%EC%98%88%EC%A0%9C4_Crawling_%26_Scrapping.ipynb\" target=\"_parent\"><img src=\"https://colab.research.google.com/assets/colab-badge.svg\" alt=\"Open In Colab\"/></a>"
      ]
    },
    {
      "cell_type": "code",
      "metadata": {
        "id": "1zocdrkdK5j6"
      },
      "source": [
        "import numpy as np\n",
        "import pandas as pd\n",
        "import matplotlib.pyplot as plt\n",
        "\n",
        "import matplotlib as mpl\n",
        "import matplotlib.font_manager as fm\n",
        "fm.FontProperties(fname = \"맑은 고딕\")\n",
        "mpl.rcParams[\"axes.unicode_minus\"] = False # 음수표시\n",
        "\n",
        "import seaborn as sns\n",
        "\n",
        "plt.style.use(\"fivethirtyeight\")\n",
        "\n",
        "import warnings\n",
        "warnings.filterwarnings(\"ignore\")"
      ],
      "execution_count": 1,
      "outputs": []
    },
    {
      "cell_type": "markdown",
      "metadata": {
        "id": "Oz1NaBb3OAbz"
      },
      "source": [
        "## XML(Extension Markup Language)\n",
        "\n",
        "  - 1. 특징\n",
        "            1) 메타 언어 : GML -> SGML -> XML\n",
        "            2) 데이터를 위한 언어\n",
        "            3) 데이터베이스 용도\n",
        "            4) 데이터 표준화 : 이 기종 시스템간의 정보교환, 웹서비스, 유비쿼터스, 사물인터넷 기타등등...\n",
        " \n",
        "  - 2. 문법(물리적인 구성요소)\n",
        "            1) XML(.xml)\n",
        "            2) DTD(.dtd) : XML 작성을 위한 설계문서\n",
        "            3) XML Schema(.xsd) : XML 작성을 위한 설계문서\n",
        "            4) XSL(.xsl, xslt) : XML문서에 스타일을 입혀주는 언어\n",
        " \n",
        "  - 3. 결과 문서의 종류\n",
        "            1) Well-Formed XML Document(잘 짜여진 문서)\n",
        "            2) Valid XML Document(유효한 문서)\n",
        "    \n",
        "  - 4. Element 문법\n",
        "            - 작성 규칙\n",
        "                a) 모든 XML문서는 반드시 단 하나의 루트 엘리먼트를 가진다.\n",
        "                b) 루트 엘리먼트는 여러 개의 자식 엘리먼트를 가질 수 있고\n",
        "                    또 그 자식도 자신의 자식을 가질 수 있다.\n",
        "                c) 시작태그와 끝태그는 반드시 짝을 이루어야 한다.\n",
        "                d) \"<\"는 값으로 사용 불가. \">\"는 사용할 수 있으나 가급적 사용 금지\n",
        "                e) \"<\"와 \">\" 다음에 공백문자가 올 수 없으며 반드시 시작태그와 끝태그의 이름이 같아야 한다.\n",
        "    \n",
        "            - 종류\n",
        "                a) 내용을 가지는 엘리먼트\n",
        "                b) 내용이 없는 엘리먼트\n",
        "        \n",
        "            - 내용에 대한 종류\n",
        "                a) 문자 데이터\n",
        "                b) 자식 엘리먼트\n",
        "                c) 엔티티 또는 문자 참조\n",
        "                d) CDATA Section\n",
        "                e) 프로세싱 지시자\n",
        "                f) 주석 : <!-- 주석 내용 -->\n",
        "                g) 공백 문자열\n",
        "    \n",
        "  - 5. DTD \n",
        "            - 종류\n",
        "                내부 DTD\n",
        "                외부 DTD\n",
        "        \n",
        "            - 구성 요소\n",
        "                엘리먼트 선언\n",
        "                속성(attribute) 선언\n",
        "                Entity 선언\n",
        "                Notation 선언\n",
        "                프로세싱 지시자\n",
        "                파라미터 엔티티 참조\n",
        "                주석\n",
        "                공백\n",
        "                conditional section\n",
        "        \n",
        "            - 문서 유형 선언\n",
        "                <!DOCTYPE 루트엘리먼트명 SYSTEM 또는 PUBLIC \"식별자\">\n",
        "                    DOCTYPE은 반드시 대문자\n",
        "                    SYSTEM은 특정 단체나 업체내부에서 사용되는 경우\n",
        "                    PUBLIC은 공개\n",
        "                    식별자는 다운로드 받을 수 있는 경로\n",
        "                    PUBLIC일 경우 추가된 식별자\n",
        "                    +-//DTD를 개발 및 유지보수 업체명//DTD명 및 버전번호//사용된 언어\n",
        "        \n",
        "            - 엘리먼트 선언\n",
        "                <!ELEMENT 엘리먼트명 컨텐트 유형>\n",
        "                    컨텐트 유형\n",
        "                        #PCDATA    : 내용으로 문자데이터만 갖는 엘리먼트\n",
        "                        자식 엘리먼트\n",
        "                            , : 작성 순서\n",
        "                            | : 선택\n",
        "                            ? : 생략하거나 한번만 작성\n",
        "                            + : 한번 이상\n",
        "                            * : 생략하거나 여러번 작성\n",
        "                            기호 없음 : 단 한번만 작성\n",
        "                        EMPTY\n",
        "                        MIXED : 문자데이터 또는 자식엘리먼트를 혼합형태\n",
        "                        ANY\n",
        "        \n",
        "            - ATTRIBUTE 선언\n",
        "                <!ATTLIST 엘리먼트명 속성명 속성유형 디폴트선언>\n",
        "                    속성 유형\n",
        "                        CDATA :  문자 데이터\n",
        "                        ENUMERATION    : dtd에 나열된 값 중 하나가 와야 함\n",
        "                        ID : 유일한 값을 지정\n",
        "                        IDREF/IDREFS : ID값을 참조\n",
        "                        NMTOKEN/NMTOKENS : 이름 작성 규칙을 준수하는 데이터만 사용\n",
        "                        NOTATION : dtd에 명시적으로 선언된 notation만 사용가능\n",
        "                        ENTITY : dtd에 명시적으로 선언된 entity만 사용 가능\n",
        "        \n",
        "            - validation check\n",
        "                https://www.xmlvalidation.com/\n",
        "    \n",
        "  - 6. 네임 스페이스\n",
        "        CML\n",
        "        -----\n",
        "            <?xml version=1.0>\n",
        "            <정보>\n",
        "                <고유번호>111111-1111111</고유번호>\n",
        "                <이름>홍길동</이름>\n",
        "                ...\n",
        "            </정보>\n",
        "    \n",
        "        PML\n",
        "        -----\n",
        "            <?xml version=1.0>\n",
        "            <정보>\n",
        "                <고유번호>LC100</고유번호>\n",
        "                <이름>캠코더</이름>\n",
        "                ...\n",
        "            </정보>\n",
        "    \n",
        "        OML\n",
        "        -----\n",
        "            <?xml version=1.0>\n",
        "            <주문정보 xmlns:고객=\"http://www.a.com/2017/Custom\"\n",
        "                xmlns:상품=\"http://www.a.com/2017/Product\"\n",
        "                xmlns=\"http://www.a.com/2017/Order\">\n",
        "                <주문번호>1</주문번호>\n",
        "                <주문수량>10</주문수량>\n",
        "                <결제>\n",
        "                    <방법>현금</방법>\n",
        "                    <금액>10000000</금액>\n",
        "                </결제>\n",
        "    \n",
        "                <고객:고유번호>111111-1111111</고객:고유번호>\n",
        "                <고객:이름>홍길동</고객:이름>\n",
        "    \n",
        "                <상품:고유번호>LC100</상품:고유번호>\n",
        "                <상품:이름>캠코더</상품:이름>\n",
        "                ...\n",
        "            </주문정보>"
      ]
    },
    {
      "cell_type": "code",
      "metadata": {
        "id": "Hp-No58nK8yU"
      },
      "source": [
        "import xml.etree.ElementTree as elemTree\n",
        "\n",
        "##### XML을 사용하는 방법\n",
        "# 1. XML 파일로 존재하는 경우 : parse()\n",
        "# 2. XML 문자열로 존재하는 경우 : fromstring()"
      ],
      "execution_count": 3,
      "outputs": []
    },
    {
      "cell_type": "markdown",
      "metadata": {
        "id": "lDxfNizbjffT"
      },
      "source": [
        "### 1. XML 데이터 불러오기"
      ]
    },
    {
      "cell_type": "code",
      "metadata": {
        "colab": {
          "base_uri": "https://localhost:8080/"
        },
        "id": "khMS4yTkk_CU",
        "outputId": "d3ab06cf-c4e8-4295-b1eb-0ee2e6ac3ca2"
      },
      "source": [
        "##### 구글 드라이브 연결 #####\n",
        "from google.colab import drive\n",
        "drive.mount('/content/drive')\n"
      ],
      "execution_count": 6,
      "outputs": [
        {
          "output_type": "stream",
          "text": [
            "Mounted at /content/drive\n"
          ],
          "name": "stdout"
        }
      ]
    },
    {
      "cell_type": "code",
      "metadata": {
        "colab": {
          "base_uri": "https://localhost:8080/"
        },
        "id": "-H5idZiUK8v_",
        "outputId": "a8526dce-f4c6-430e-9064-f0ce48ae34eb"
      },
      "source": [
        "tree1 = elemTree.parse(\"/content/drive/My Drive/Colab Notebooks/Study/Python Data Analytics Library/data/users.xml\")\n",
        "tree1"
      ],
      "execution_count": 4,
      "outputs": [
        {
          "output_type": "execute_result",
          "data": {
            "text/plain": [
              "<xml.etree.ElementTree.ElementTree at 0x7f73d8848c10>"
            ]
          },
          "metadata": {
            "tags": []
          },
          "execution_count": 4
        }
      ]
    },
    {
      "cell_type": "code",
      "metadata": {
        "colab": {
          "base_uri": "https://localhost:8080/"
        },
        "id": "_br0y4aEK8ti",
        "outputId": "72334dd1-5892-4d03-8447-ebd403e08989"
      },
      "source": [
        "xmlstr = \"\"\"<?xml version=\"1.0\" encoding=\"utf-8\" ?>\n",
        "<users>\n",
        "\t<user grade=\"gold\">\n",
        "            <name>Kim Cheol Soo</name>\n",
        "            <age>25</age>\n",
        "            <birthday>19940215</birthday>\n",
        "        </user>\n",
        "  <user grade=\"diamond\">\n",
        "            <name>Kim Yoo Mee</name>\n",
        "            <age>21</age>\n",
        "            <birthday>19980417</birthday>\n",
        "        </user>\n",
        "</users>\n",
        "\"\"\"\n",
        "\n",
        "tree2 = elemTree.fromstring(xmlstr)\n",
        "tree2"
      ],
      "execution_count": 5,
      "outputs": [
        {
          "output_type": "execute_result",
          "data": {
            "text/plain": [
              "<Element 'users' at 0x7f73d87f8b90>"
            ]
          },
          "metadata": {
            "tags": []
          },
          "execution_count": 5
        }
      ]
    },
    {
      "cell_type": "markdown",
      "metadata": {
        "id": "OqowN-XWm1TP"
      },
      "source": [
        "### 2. XML 데이터 다루기"
      ]
    },
    {
      "cell_type": "markdown",
      "metadata": {
        "id": "ypSt13i0m40l"
      },
      "source": [
        "#### 1) 태그명 검색"
      ]
    },
    {
      "cell_type": "code",
      "metadata": {
        "colab": {
          "base_uri": "https://localhost:8080/"
        },
        "id": "sX5rjVq-K8o8",
        "outputId": "5daf7b55-9662-454d-9296-a9d5648cc110"
      },
      "source": [
        "# data = tree1.find(\"user\")\n",
        "# data = tree1.find(\"user[1]\")\n",
        "data = tree1.find(\"user[2]\")\n",
        "\n",
        "##### Xpath : ./, ../, ...\n",
        "data = tree1.find(\"./user[1]\")\n",
        "\n",
        "print(data)\n",
        "print(type(data))\n",
        "dir(data)\n",
        "print(data.tag)\n",
        "print(data.attrib)\n",
        "print(data.get(\"grade\"))\n",
        "\n",
        "print(\"=\"*40)\n",
        "\n",
        "username = data.find(\"name\")\n",
        "print(username.tag)\n",
        "print(username.attrib)\n",
        "print(username.text)\n",
        "\n",
        "print(\"=\"*40)\n",
        "\n",
        "username = data.find(\"age\")\n",
        "print(username.tag)\n",
        "print(username.attrib)\n",
        "print(username.text)"
      ],
      "execution_count": 18,
      "outputs": [
        {
          "output_type": "stream",
          "text": [
            "<Element 'user' at 0x7f73d8846530>\n",
            "<class 'xml.etree.ElementTree.Element'>\n",
            "user\n",
            "{'grade': 'gold'}\n",
            "gold\n",
            "========================================\n",
            "name\n",
            "{}\n",
            "Kim Cheol Soo\n",
            "========================================\n",
            "age\n",
            "{}\n",
            "25\n"
          ],
          "name": "stdout"
        }
      ]
    },
    {
      "cell_type": "markdown",
      "metadata": {
        "id": "DCO3mKwrvleV"
      },
      "source": [
        "#### 2) 태그 조건으로 검색"
      ]
    },
    {
      "cell_type": "code",
      "metadata": {
        "colab": {
          "base_uri": "https://localhost:8080/"
        },
        "id": "NuWe3AdEK8mr",
        "outputId": "d6e3a9cc-a705-41af-931c-43826c45c085"
      },
      "source": [
        "# data = tree1.find(\"./user[@grade]\")\n",
        "# data = tree1.find(\"./user[@grade][1]\")\n",
        "# data = tree1.find(\"./user[@grade][2]\")\n",
        "data = tree1.find(\"./user[@grade = 'diamond']\")\n",
        "\n",
        "print(data.attrib)\n",
        "print(data.keys())\n",
        "print(data.items())"
      ],
      "execution_count": 26,
      "outputs": [
        {
          "output_type": "stream",
          "text": [
            "{'grade': 'diamond'}\n",
            "['grade']\n",
            "[('grade', 'diamond')]\n"
          ],
          "name": "stdout"
        }
      ]
    },
    {
      "cell_type": "markdown",
      "metadata": {
        "id": "9BGze34exnPC"
      },
      "source": [
        "#### 3) 여러 개의 태그를 한꺼번에 가져오기"
      ]
    },
    {
      "cell_type": "code",
      "metadata": {
        "colab": {
          "base_uri": "https://localhost:8080/"
        },
        "id": "Nuflzh6bK8kY",
        "outputId": "fd78341a-4d0f-4b1d-f0a1-17ffe8941251"
      },
      "source": [
        "users = tree1.findall(\"./user\")\n",
        "users\n",
        "\n",
        "for user in users:\n",
        "  print(user.attrib)\n",
        "  print(user.find(\"name\").text)"
      ],
      "execution_count": 28,
      "outputs": [
        {
          "output_type": "stream",
          "text": [
            "{'grade': 'gold'}\n",
            "Kim Cheol Soo\n",
            "{'grade': 'diamond'}\n",
            "Kim Yoo Mee\n"
          ],
          "name": "stdout"
        }
      ]
    },
    {
      "cell_type": "code",
      "metadata": {
        "colab": {
          "base_uri": "https://localhost:8080/"
        },
        "id": "DzE2ZwhZxuoF",
        "outputId": "4ea50d43-b662-4f04-9edb-cbccbd1f433b"
      },
      "source": [
        "str2 = \"\"\"<?xml version=\"1.0\"?>\n",
        "<data>\n",
        "    <country name=\"Liechtenstein\">\n",
        "        <rank>1</rank>\n",
        "        <year>2008</year>\n",
        "        <gdppc>141100</gdppc>\n",
        "        <neighbor name=\"Austria\" direction=\"E\"/>\n",
        "        <neighbor name=\"Switzerland\" direction=\"W\"/>\n",
        "    </country>\n",
        "    <country name=\"Singapore\">\n",
        "        <rank>4</rank>\n",
        "        <year>2011</year>\n",
        "        <gdppc>59900</gdppc>\n",
        "        <neighbor name=\"Malaysia\" direction=\"N\"/>\n",
        "    </country>\n",
        "    <country name=\"Panama\">\n",
        "        <rank>68</rank>\n",
        "        <year>2011</year>\n",
        "        <gdppc>13600</gdppc>\n",
        "        <neighbor name=\"Costa Rica\" direction=\"W\"/>\n",
        "        <neighbor name=\"Colombia\" direction=\"E\"/>\n",
        "    </country>\n",
        "</data>\n",
        "\"\"\"\n",
        "\n",
        "tree3 = elemTree.fromstring(str2)\n",
        "tree3"
      ],
      "execution_count": 31,
      "outputs": [
        {
          "output_type": "execute_result",
          "data": {
            "text/plain": [
              "<Element 'data' at 0x7f73d472e7d0>"
            ]
          },
          "metadata": {
            "tags": []
          },
          "execution_count": 31
        }
      ]
    },
    {
      "cell_type": "code",
      "metadata": {
        "id": "pANd-EDGxumJ"
      },
      "source": [
        "# Singapore에 있는 이웃나라 이름은?\n",
        "\n",
        "# Panama에 있는 이웃나라 중 Costa Rica의 방향은?\n",
        "\n",
        "# 각 나라의 gdppc를 조회\n",
        "\n",
        "# 각 나라의 인접국가 조회"
      ],
      "execution_count": null,
      "outputs": []
    },
    {
      "cell_type": "code",
      "metadata": {
        "colab": {
          "base_uri": "https://localhost:8080/"
        },
        "id": "_joZV1T8FiFj",
        "outputId": "c06b1800-8ba0-4a55-a901-138da111b2b4"
      },
      "source": [
        "# 1\n",
        "print(\"1번 문제\")\n",
        "country = tree3.find(\"./country[@name = 'Singapore']\")\n",
        "username = country.find(\"neighbor\")\n",
        "print(username.get(\"name\"))\n",
        "print(\"=\"*40)\n",
        "\n",
        "# 2\n",
        "print(\"2번 문제\")\n",
        "country = tree3.find(\"./country[@name = 'Panama']\")\n",
        "username = country.find(\"neighbor[@name = 'Costa Rica']\")\n",
        "print(username.get(\"direction\"))\n",
        "print(\"=\"*40)\n",
        "\n",
        "# 3\n",
        "print(\"3번 문제\")\n",
        "countrys = tree3.findall(\"./country\")\n",
        "countrys\n",
        "\n",
        "for country in countrys:\n",
        "  print(country.get(\"name\") + \"의 gdppc는\")\n",
        "  username = country.find(\"gdppc\")\n",
        "  print(username.text)\n",
        "  print(\"=\"*40)\n",
        "\n",
        "# 4\n",
        "print(\"4번 문제\")\n",
        "countrys = tree3.findall(\"./country\")\n",
        "countrys\n",
        "\n",
        "for country in countrys:\n",
        "  print(country.get(\"name\") + \"의 인접국가는\")\n",
        "  username = country.findall(\"neighbor\")\n",
        "  for user in username:\n",
        "    print(user.get(\"name\"))\n",
        "  print(\"=\"*40)"
      ],
      "execution_count": 123,
      "outputs": [
        {
          "output_type": "stream",
          "text": [
            "1번 문제\n",
            "Malaysia\n",
            "========================================\n",
            "2번 문제\n",
            "W\n",
            "========================================\n",
            "3번 문제\n",
            "Liechtenstein의 gdppc는\n",
            "141100\n",
            "========================================\n",
            "Singapore의 gdppc는\n",
            "59900\n",
            "========================================\n",
            "Panama의 gdppc는\n",
            "13600\n",
            "========================================\n",
            "4번 문제\n",
            "Liechtenstein의 인접국가는\n",
            "Austria\n",
            "Switzerland\n",
            "========================================\n",
            "Singapore의 인접국가는\n",
            "Malaysia\n",
            "========================================\n",
            "Panama의 인접국가는\n",
            "Costa Rica\n",
            "Colombia\n",
            "========================================\n"
          ],
          "name": "stdout"
        }
      ]
    },
    {
      "cell_type": "code",
      "metadata": {
        "id": "PEg4w3hZJYpb"
      },
      "source": [
        "import requests as req\n",
        "health = req.get(\"https://www.k-health.com/rss/allArticle.xml\")\n",
        "tree4 = health.text"
      ],
      "execution_count": 4,
      "outputs": []
    },
    {
      "cell_type": "markdown",
      "metadata": {
        "id": "s5jMT1T8Iw_8"
      },
      "source": [
        "## 2. JSON(Javascript Object Notation)"
      ]
    },
    {
      "cell_type": "code",
      "metadata": {
        "id": "lf0Q9utwIzL5"
      },
      "source": [
        "import json\n",
        "\n",
        "# dumps() : 데이터를 저장\n",
        "# loads() : 데이터를 불러올 때"
      ],
      "execution_count": 128,
      "outputs": []
    },
    {
      "cell_type": "code",
      "metadata": {
        "colab": {
          "base_uri": "https://localhost:8080/"
        },
        "id": "yM79oEnCIzg_",
        "outputId": "4ef456d3-0dff-47b3-b0c5-b612b97a2b2b"
      },
      "source": [
        "j1 = {\"name\" : \"홍길동\", \"birth\" : \"0519\", \"age\" : 20}\n",
        "print(type(j1))\n",
        "print(j1)\n",
        "\n",
        "print(\"=\"*40)\n",
        "\n",
        "# j2 = json.dumps(j1)\n",
        "j2 = json.dumps(j1, indent = 2)\n",
        "print(type(j2))\n",
        "print(j2)\n",
        "\n",
        "# 리스트나 튜플로 json으로 변환\n",
        "j3 = json.dumps([1, 2, 3])\n",
        "print(j3)\n",
        "print(type(j3))\n",
        "\n",
        "j3 = json.dumps((1, 2, 3))\n",
        "print(j3)\n",
        "print(type(j3))\n",
        "\n",
        "print(\"=\"*40)\n",
        "\n",
        "j4 = json.loads(j2) \n",
        "print(j4)\n",
        "print(type(j4))"
      ],
      "execution_count": 143,
      "outputs": [
        {
          "output_type": "stream",
          "text": [
            "<class 'dict'>\n",
            "{'name': '홍길동', 'birth': '0519', 'age': 20}\n",
            "========================================\n",
            "<class 'str'>\n",
            "{\n",
            "  \"name\": \"\\ud64d\\uae38\\ub3d9\",\n",
            "  \"birth\": \"0519\",\n",
            "  \"age\": 20\n",
            "}\n",
            "[1, 2, 3]\n",
            "<class 'str'>\n",
            "[1, 2, 3]\n",
            "<class 'str'>\n",
            "========================================\n",
            "{'name': '홍길동', 'birth': '0519', 'age': 20}\n",
            "<class 'dict'>\n"
          ],
          "name": "stdout"
        }
      ]
    },
    {
      "cell_type": "code",
      "metadata": {
        "colab": {
          "base_uri": "https://localhost:8080/"
        },
        "id": "IYfDm6d1Izeg",
        "outputId": "53bd532a-b337-470c-c3fc-bae2776300af"
      },
      "source": [
        "obj = \"\"\"\n",
        "{\n",
        "\"id\": \"0001\",\n",
        "\"type\": \"donut\",\n",
        "\"name\": \"Cake\",\n",
        "\"ppu\": 0.55,\n",
        "\"batters\":\n",
        "{\n",
        "\"batter\":\n",
        "[\n",
        "{ \"id\": \"1001\", \"type\": \"Regular\" },\n",
        "{ \"id\": \"1002\", \"type\": \"Chocolate\" },\n",
        "{ \"id\": \"1003\", \"type\": \"Blueberry\" },\n",
        "{ \"id\": \"1004\", \"type\": \"Devil's Food\" }\n",
        "]\n",
        "},\n",
        "\"topping\":\n",
        "[\n",
        "{ \"id\": \"5001\", \"type\": \"None\" },\n",
        "{ \"id\": \"5002\", \"type\": \"Glazed\" },\n",
        "{ \"id\": \"5005\", \"type\": \"Sugar\" },\n",
        "{ \"id\": \"5007\", \"type\": \"Powdered Sugar\" },\n",
        "{ \"id\": \"5006\", \"type\": \"Chocolate with Sprinkles\" },\n",
        "{ \"id\": \"5003\", \"type\": \"Chocolate\" },\n",
        "{ \"id\": \"5004\", \"type\": \"Maple\" }\n",
        "]\n",
        "}\n",
        "\"\"\"\n",
        "\n",
        "print(type(obj))"
      ],
      "execution_count": 144,
      "outputs": [
        {
          "output_type": "stream",
          "text": [
            "<class 'str'>\n"
          ],
          "name": "stdout"
        }
      ]
    },
    {
      "cell_type": "code",
      "metadata": {
        "colab": {
          "base_uri": "https://localhost:8080/"
        },
        "id": "tpqbQ6SjRtM5",
        "outputId": "035bfb30-ea01-425d-a919-ce931850c682"
      },
      "source": [
        "result = json.loads(obj)\n",
        "print(type(result))\n",
        "print(result)\n",
        "\n",
        "print(\"=\"*40)\n",
        "\n",
        "print(result[\"id\"])\n",
        "\n",
        "print(\"=\"*40)\n",
        "\n",
        "print(result[\"batters\"][\"batter\"][0][\"id\"])"
      ],
      "execution_count": 150,
      "outputs": [
        {
          "output_type": "stream",
          "text": [
            "<class 'dict'>\n",
            "{'id': '0001', 'type': 'donut', 'name': 'Cake', 'ppu': 0.55, 'batters': {'batter': [{'id': '1001', 'type': 'Regular'}, {'id': '1002', 'type': 'Chocolate'}, {'id': '1003', 'type': 'Blueberry'}, {'id': '1004', 'type': \"Devil's Food\"}]}, 'topping': [{'id': '5001', 'type': 'None'}, {'id': '5002', 'type': 'Glazed'}, {'id': '5005', 'type': 'Sugar'}, {'id': '5007', 'type': 'Powdered Sugar'}, {'id': '5006', 'type': 'Chocolate with Sprinkles'}, {'id': '5003', 'type': 'Chocolate'}, {'id': '5004', 'type': 'Maple'}]}\n",
            "========================================\n",
            "0001\n",
            "========================================\n",
            "1001\n"
          ],
          "name": "stdout"
        }
      ]
    },
    {
      "cell_type": "markdown",
      "metadata": {
        "id": "AS_8AznPYmuP"
      },
      "source": [
        "## 3. BeautifulSoup"
      ]
    },
    {
      "cell_type": "markdown",
      "metadata": {
        "id": "UhcofD1Uadw5"
      },
      "source": [
        "#### 1) 웹 소스 가져오기"
      ]
    },
    {
      "cell_type": "code",
      "metadata": {
        "id": "IxmhAvAXRtKf"
      },
      "source": [
        "import urllib.request as req\n",
        "from urllib.request import urlopen"
      ],
      "execution_count": 5,
      "outputs": []
    },
    {
      "cell_type": "code",
      "metadata": {
        "colab": {
          "base_uri": "https://localhost:8080/"
        },
        "id": "UHBIMwaYaV_E",
        "outputId": "fd59e258-5eda-40b8-a9ca-45a5f5928dab"
      },
      "source": [
        "##### 텍스트 내용 읽어오기\n",
        "\n",
        "google = urlopen(\"http://google.com\")\n",
        "print(type(google))\n",
        "\n",
        "html = google.read()\n",
        "print(type(html))\n",
        "print(html)"
      ],
      "execution_count": 2,
      "outputs": [
        {
          "output_type": "stream",
          "text": [
            "<class 'http.client.HTTPResponse'>\n",
            "<class 'bytes'>\n",
            "b'<!doctype html><html itemscope=\"\" itemtype=\"http://schema.org/WebPage\" lang=\"en\"><head><meta content=\"Search the world\\'s information, including webpages, images, videos and more. Google has many special features to help you find exactly what you\\'re looking for.\" name=\"description\"><meta content=\"noodp\" name=\"robots\"><meta content=\"text/html; charset=UTF-8\" http-equiv=\"Content-Type\"><meta content=\"/images/branding/googleg/1x/googleg_standard_color_128dp.png\" itemprop=\"image\"><title>Google</title><script nonce=\"Eh+UqQZLr1URSl9itaG5PQ==\">(function(){window.google={kEI:\\'2Q3AYMD4J6nD0PEPuuuSkAo\\',kEXPI:\\'0,18167,754048,1,530320,56873,954,5105,206,4804,926,1390,383,246,5,1354,4936,314,6385,9847,10,1106274,1232,1196480,540,31,302679,26305,51224,16114,28684,17572,4859,1361,9291,3024,4749,1842,4720,6273,4020,978,13228,2054,1793,4192,6430,1142,13385,4518,2777,919,5081,1593,1279,2212,530,149,1103,842,515,1466,214,4108,3506,606,2023,1777,520,14670,3227,2845,7,5599,6755,5096,7539,337,4929,108,1456,27,1924,908,2,941,2614,2397,7470,1,2842,432,3,346,1244,1,820,1,4624,148,5990,5333,991,1661,4,1528,2304,1236,5803,74,1717,266,2626,2015,4067,7434,2110,1714,1011,2039,2658,4164,79,518,912,1682,32,3854,1809,5749,2216,2305,640,37,7041,3772,1653,4340,770,665,5767,2590,2046,2048,17,3121,6,908,3,3370,171,1,5349,726,2551,3316,2768,1,1813,283,38,351,1,2,2,518,5992,6754,432,551,4789,2,1394,756,658,1,110,8,1,1272,712,1003,2,3057,2012,3249,894,627,4,32,4,1342,895,2,563,2384,201,4,91,514,2,76,442,342,254,56,4,434,356,1098,925,91,30,286,2015,114,1160,3023,1149,406,109,3588,3401,250,108,1378,134,437,15,3,1040,1160,474,1549,4388,288,604,1,837,2282,1,528,1200,2435,920,2,108,3,192,2,91,235,204,3,75,45,3,896,582,787,137,1521,682,434,324,689,488,271,1652,297,110,328,618,131,38,585,504,247,177,41,85,1,639,668,492,11,259,514,5630832,3893,99,91,4,32,63,155,2,58,5996290,520,46,2800651,882,444,1,2,80,1,1796,1,9,2,2551,1,748,936,4,559,1,4265,1,1,2,1331,3299,843,2609,155,17,13,72,139,4,2,20,2,169,13,19,46,5,39,96,284,4,4,4,4,4,4,8,4,4,4,24,196,29,2,2,1,2,1,2,2,7,4,1,2,2,2,2,2,2,70,283,408,30,32,43,20,42,38,23955262,2770168,97411,1142695,268,1835,24965,1499,2,2377,3,120,3,6,338,3,1821,519,74\\',kBL:\\'SD6U\\'};google.sn=\\'webhp\\';google.kHL=\\'en\\';})();(function(){\\nvar f=this||self;var h,k=[];function l(a){for(var b;a&&(!a.getAttribute||!(b=a.getAttribute(\"eid\")));)a=a.parentNode;return b||h}function m(a){for(var b=null;a&&(!a.getAttribute||!(b=a.getAttribute(\"leid\")));)a=a.parentNode;return b}\\nfunction n(a,b,c,d,g){var e=\"\";c||-1!==b.search(\"&ei=\")||(e=\"&ei=\"+l(d),-1===b.search(\"&lei=\")&&(d=m(d))&&(e+=\"&lei=\"+d));d=\"\";!c&&f._cshid&&-1===b.search(\"&cshid=\")&&\"slh\"!==a&&(d=\"&cshid=\"+f._cshid);c=c||\"/\"+(g||\"gen_204\")+\"?atyp=i&ct=\"+a+\"&cad=\"+b+e+\"&zx=\"+Date.now()+d;/^http:/i.test(c)&&\"https:\"===window.location.protocol&&(google.ml&&google.ml(Error(\"a\"),!1,{src:c,glmm:1}),c=\"\");return c};h=google.kEI;google.getEI=l;google.getLEI=m;google.ml=function(){return null};google.log=function(a,b,c,d,g){if(c=n(a,b,c,d,g)){a=new Image;var e=k.length;k[e]=a;a.onerror=a.onload=a.onabort=function(){delete k[e]};a.src=c}};google.logUrl=n;}).call(this);(function(){\\ngoogle.y={};google.sy=[];google.x=function(a,b){if(a)var c=a.id;else{do c=Math.random();while(google.y[c])}google.y[c]=[a,b];return!1};google.sx=function(a){google.sy.push(a)};google.lm=[];google.plm=function(a){google.lm.push.apply(google.lm,a)};google.lq=[];google.load=function(a,b,c){google.lq.push([[a],b,c])};google.loadAll=function(a,b){google.lq.push([a,b])};google.bx=!1;google.lx=function(){};}).call(this);google.f={};(function(){\\ndocument.documentElement.addEventListener(\"submit\",function(b){var a;if(a=b.target){var c=a.getAttribute(\"data-submitfalse\");a=\"1\"==c||\"q\"==c&&!a.elements.q.value?!0:!1}else a=!1;a&&(b.preventDefault(),b.stopPropagation())},!0);document.documentElement.addEventListener(\"click\",function(b){var a;a:{for(a=b.target;a&&a!=document.documentElement;a=a.parentElement)if(\"A\"==a.tagName){a=\"1\"==a.getAttribute(\"data-nohref\");break a}a=!1}a&&b.preventDefault()},!0);}).call(this);</script><style>#gbar,#guser{font-size:13px;padding-top:1px !important;}#gbar{height:22px}#guser{padding-bottom:7px !important;text-align:right}.gbh,.gbd{border-top:1px solid #c9d7f1;font-size:1px}.gbh{height:0;position:absolute;top:24px;width:100%}@media all{.gb1{height:22px;margin-right:.5em;vertical-align:top}#gbar{float:left}}a.gb1,a.gb4{text-decoration:underline !important}a.gb1,a.gb4{color:#00c !important}.gbi .gb4{color:#dd8e27 !important}.gbf .gb4{color:#900 !important}\\n</style><style>body,td,a,p,.h{font-family:arial,sans-serif}body{margin:0;overflow-y:scroll}#gog{padding:3px 8px 0}td{line-height:.8em}.gac_m td{line-height:17px}form{margin-bottom:20px}.h{color:#1558d6}em{font-weight:bold;font-style:normal}.lst{height:25px;width:496px}.gsfi,.lst{font:18px arial,sans-serif}.gsfs{font:17px arial,sans-serif}.ds{display:inline-box;display:inline-block;margin:3px 0 4px;margin-left:4px}input{font-family:inherit}body{background:#fff;color:#000}a{color:#4b11a8;text-decoration:none}a:hover,a:active{text-decoration:underline}.fl a{color:#1558d6}a:visited{color:#4b11a8}.sblc{padding-top:5px}.sblc a{display:block;margin:2px 0;margin-left:13px;font-size:11px}.lsbb{background:#f8f9fa;border:solid 1px;border-color:#dadce0 #70757a #70757a #dadce0;height:30px}.lsbb{display:block}#WqQANb a{display:inline-block;margin:0 12px}.lsb{background:url(/images/nav_logo229.png) 0 -261px repeat-x;border:none;color:#000;cursor:pointer;height:30px;margin:0;outline:0;font:15px arial,sans-serif;vertical-align:top}.lsb:active{background:#dadce0}.lst:focus{outline:none}</style><script nonce=\"Eh+UqQZLr1URSl9itaG5PQ==\"></script></head><body bgcolor=\"#fff\"><script nonce=\"Eh+UqQZLr1URSl9itaG5PQ==\">(function(){var src=\\'/images/nav_logo229.png\\';var iesg=false;document.body.onload = function(){window.n && window.n();if (document.images){new Image().src=src;}\\nif (!iesg){document.f&&document.f.q.focus();document.gbqf&&document.gbqf.q.focus();}\\n}\\n})();</script><div id=\"mngb\"><div id=gbar><nobr><b class=gb1>Search</b> <a class=gb1 href=\"http://www.google.com/imghp?hl=en&tab=wi\">Images</a> <a class=gb1 href=\"http://maps.google.com/maps?hl=en&tab=wl\">Maps</a> <a class=gb1 href=\"https://play.google.com/?hl=en&tab=w8\">Play</a> <a class=gb1 href=\"http://www.youtube.com/?gl=US&tab=w1\">YouTube</a> <a class=gb1 href=\"https://news.google.com/?tab=wn\">News</a> <a class=gb1 href=\"https://mail.google.com/mail/?tab=wm\">Gmail</a> <a class=gb1 href=\"https://drive.google.com/?tab=wo\">Drive</a> <a class=gb1 style=\"text-decoration:none\" href=\"https://www.google.com/intl/en/about/products?tab=wh\"><u>More</u> &raquo;</a></nobr></div><div id=guser width=100%><nobr><span id=gbn class=gbi></span><span id=gbf class=gbf></span><span id=gbe></span><a href=\"http://www.google.com/history/optout?hl=en\" class=gb4>Web History</a> | <a  href=\"/preferences?hl=en\" class=gb4>Settings</a> | <a target=_top id=gb_70 href=\"https://accounts.google.com/ServiceLogin?hl=en&passive=true&continue=http://www.google.com/&ec=GAZAAQ\" class=gb4>Sign in</a></nobr></div><div class=gbh style=left:0></div><div class=gbh style=right:0></div></div><center><br clear=\"all\" id=\"lgpd\"><div id=\"lga\"><img alt=\"Google\" height=\"92\" src=\"/images/branding/googlelogo/1x/googlelogo_white_background_color_272x92dp.png\" style=\"padding:28px 0 14px\" width=\"272\" id=\"hplogo\"><br><br></div><form action=\"/search\" name=\"f\"><table cellpadding=\"0\" cellspacing=\"0\"><tr valign=\"top\"><td width=\"25%\">&nbsp;</td><td align=\"center\" nowrap=\"\"><input name=\"ie\" value=\"ISO-8859-1\" type=\"hidden\"><input value=\"en\" name=\"hl\" type=\"hidden\"><input name=\"source\" type=\"hidden\" value=\"hp\"><input name=\"biw\" type=\"hidden\"><input name=\"bih\" type=\"hidden\"><div class=\"ds\" style=\"height:32px;margin:4px 0\"><input class=\"lst\" style=\"margin:0;padding:5px 8px 0 6px;vertical-align:top;color:#000\" autocomplete=\"off\" value=\"\" title=\"Google Search\" maxlength=\"2048\" name=\"q\" size=\"57\"></div><br style=\"line-height:0\"><span class=\"ds\"><span class=\"lsbb\"><input class=\"lsb\" value=\"Google Search\" name=\"btnG\" type=\"submit\"></span></span><span class=\"ds\"><span class=\"lsbb\"><input class=\"lsb\" id=\"tsuid1\" value=\"I\\'m Feeling Lucky\" name=\"btnI\" type=\"submit\"><script nonce=\"Eh+UqQZLr1URSl9itaG5PQ==\">(function(){var id=\\'tsuid1\\';document.getElementById(id).onclick = function(){if (this.form.q.value){this.checked = 1;if (this.form.iflsig)this.form.iflsig.disabled = false;}\\nelse top.location=\\'/doodles/\\';};})();</script><input value=\"AINFCbYAAAAAYMAb6bA1W7CAg-KFU9Yq-puACd04Os9x\" name=\"iflsig\" type=\"hidden\"></span></span></td><td class=\"fl sblc\" align=\"left\" nowrap=\"\" width=\"25%\"><a href=\"/advanced_search?hl=en&amp;authuser=0\">Advanced search</a></td></tr></table><input id=\"gbv\" name=\"gbv\" type=\"hidden\" value=\"1\"><script nonce=\"Eh+UqQZLr1URSl9itaG5PQ==\">(function(){\\nvar a,b=\"1\";if(document&&document.getElementById)if(\"undefined\"!=typeof XMLHttpRequest)b=\"2\";else if(\"undefined\"!=typeof ActiveXObject){var c,d,e=[\"MSXML2.XMLHTTP.6.0\",\"MSXML2.XMLHTTP.3.0\",\"MSXML2.XMLHTTP\",\"Microsoft.XMLHTTP\"];for(c=0;d=e[c++];)try{new ActiveXObject(d),b=\"2\"}catch(h){}}a=b;if(\"2\"==a&&-1==location.search.indexOf(\"&gbv=2\")){var f=google.gbvu,g=document.getElementById(\"gbv\");g&&(g.value=a);f&&window.setTimeout(function(){location.href=f},0)};}).call(this);</script></form><div id=\"gac_scont\"></div><div style=\"font-size:83%;min-height:3.5em\"><br></div><span id=\"footer\"><div style=\"font-size:10pt\"><div style=\"margin:19px auto;text-align:center\" id=\"WqQANb\"><a href=\"/intl/en/ads/\">Advertising\\xa0Programs</a><a href=\"/services/\">Business Solutions</a><a href=\"/intl/en/about.html\">About Google</a></div></div><p style=\"font-size:8pt;color:#70757a\">&copy; 2021 - <a href=\"/intl/en/policies/privacy/\">Privacy</a> - <a href=\"/intl/en/policies/terms/\">Terms</a></p></span></center><script nonce=\"Eh+UqQZLr1URSl9itaG5PQ==\">(function(){window.google.cdo={height:0,width:0};(function(){\\nvar a=window.innerWidth,b=window.innerHeight;if(!a||!b){var c=window.document,d=\"CSS1Compat\"==c.compatMode?c.documentElement:c.body;a=d.clientWidth;b=d.clientHeight}a&&b&&(a!=google.cdo.width||b!=google.cdo.height)&&google.log(\"\",\"\",\"/client_204?&atyp=i&biw=\"+a+\"&bih=\"+b+\"&ei=\"+google.kEI);}).call(this);})();</script> <script nonce=\"Eh+UqQZLr1URSl9itaG5PQ==\">(function(){google.xjs={ck:\\'\\',cs:\\'\\',excm:[],pml:false};})();</script>  <script nonce=\"Eh+UqQZLr1URSl9itaG5PQ==\">(function(){var u=\\'/xjs/_/js/k\\\\x3dxjs.hp.en_US.zXUFPfl1A-c.O/m\\\\x3dsb_he,d/am\\\\x3dAHgCLA/d\\\\x3d1/ed\\\\x3d1/rs\\\\x3dACT90oFfD9adzVQiDRR3qrfk-02YHTMpIg\\';\\nvar e=this||self,f=function(a){return a};var g;var l=function(a,b){this.g=b===h?a:\"\"};l.prototype.toString=function(){return this.g+\"\"};var h={};function m(){var a=u;google.lx=function(){n(a);google.lx=function(){}};google.bx||google.lx()}\\nfunction n(a){google.timers&&google.timers.load&&google.tick&&google.tick(\"load\",\"xjsls\");var b=document;var c=\"SCRIPT\";\"application/xhtml+xml\"===b.contentType&&(c=c.toLowerCase());c=b.createElement(c);if(void 0===g){b=null;var k=e.trustedTypes;if(k&&k.createPolicy){try{b=k.createPolicy(\"goog#html\",{createHTML:f,createScript:f,createScriptURL:f})}catch(p){e.console&&e.console.error(p.message)}g=b}else g=b}a=(b=g)?b.createScriptURL(a):a;a=new l(a,h);c.src=a instanceof l&&a.constructor===l?a.g:\"type_error:TrustedResourceUrl\";var d;a=(c.ownerDocument&&c.ownerDocument.defaultView||window).document;(d=(a=null===(d=a.querySelector)||void 0===d?void 0:d.call(a,\"script[nonce]\"))?a.nonce||a.getAttribute(\"nonce\")||\"\":\"\")&&c.setAttribute(\"nonce\",d);document.body.appendChild(c);google.psa=!0};setTimeout(function(){m()},0);})();(function(){window.google.xjsu=\\'/xjs/_/js/k\\\\x3dxjs.hp.en_US.zXUFPfl1A-c.O/m\\\\x3dsb_he,d/am\\\\x3dAHgCLA/d\\\\x3d1/ed\\\\x3d1/rs\\\\x3dACT90oFfD9adzVQiDRR3qrfk-02YHTMpIg\\';})();function _DumpException(e){throw e;}\\nfunction _F_installCss(c){}\\n(function(){google.jl={attn:false,blt:\\'none\\',dw:false,emtn:0,ine:false,lls:\\'default\\',pdt:0,snet:true,ubm:false,uwp:true};})();(function(){var pmc=\\'{\\\\x22d\\\\x22:{},\\\\x22sb_he\\\\x22:{\\\\x22agen\\\\x22:true,\\\\x22cgen\\\\x22:true,\\\\x22client\\\\x22:\\\\x22heirloom-hp\\\\x22,\\\\x22dh\\\\x22:true,\\\\x22dhqt\\\\x22:true,\\\\x22ds\\\\x22:\\\\x22\\\\x22,\\\\x22ffql\\\\x22:\\\\x22en\\\\x22,\\\\x22fl\\\\x22:true,\\\\x22host\\\\x22:\\\\x22google.com\\\\x22,\\\\x22isbh\\\\x22:28,\\\\x22jsonp\\\\x22:true,\\\\x22msgs\\\\x22:{\\\\x22cibl\\\\x22:\\\\x22Clear Search\\\\x22,\\\\x22dym\\\\x22:\\\\x22Did you mean:\\\\x22,\\\\x22lcky\\\\x22:\\\\x22I\\\\\\\\u0026#39;m Feeling Lucky\\\\x22,\\\\x22lml\\\\x22:\\\\x22Learn more\\\\x22,\\\\x22oskt\\\\x22:\\\\x22Input tools\\\\x22,\\\\x22psrc\\\\x22:\\\\x22This search was removed from your \\\\\\\\u003Ca href\\\\x3d\\\\\\\\\\\\x22/history\\\\\\\\\\\\x22\\\\\\\\u003EWeb History\\\\\\\\u003C/a\\\\\\\\u003E\\\\x22,\\\\x22psrl\\\\x22:\\\\x22Remove\\\\x22,\\\\x22sbit\\\\x22:\\\\x22Search by image\\\\x22,\\\\x22srch\\\\x22:\\\\x22Google Search\\\\x22},\\\\x22nrft\\\\x22:false,\\\\x22ovr\\\\x22:{},\\\\x22pq\\\\x22:\\\\x22\\\\x22,\\\\x22refpd\\\\x22:true,\\\\x22rfs\\\\x22:[],\\\\x22sbas\\\\x22:\\\\x220 3px 8px 0 rgba(0,0,0,0.2),0 0 0 1px rgba(0,0,0,0.08)\\\\x22,\\\\x22sbpl\\\\x22:16,\\\\x22sbpr\\\\x22:16,\\\\x22scd\\\\x22:10,\\\\x22stok\\\\x22:\\\\x227vdSczo2Y8o-4NPABhCyBEhDqKw\\\\x22,\\\\x22uhde\\\\x22:false}}\\';google.pmc=JSON.parse(pmc);})();</script>        </body></html>'\n"
          ],
          "name": "stdout"
        }
      ]
    },
    {
      "cell_type": "code",
      "metadata": {
        "colab": {
          "base_uri": "https://localhost:8080/"
        },
        "id": "OmY6--KZaV8g",
        "outputId": "53f47141-0cfd-4522-ced6-108058814549"
      },
      "source": [
        "from urllib.error import HTTPError, URLError\n",
        "\n",
        "try:\n",
        "  naver = urlopen(\"https://www.naver.com/index.jsp\")\n",
        "except HTTPError as e:\n",
        "  print(\"HTTP Error 입니다.\" + str(e))\n",
        "except URLError as e:\n",
        "  print(\"URL Error 입니다.\" + str(e)) \n",
        "else:\n",
        "  print(naver.read())"
      ],
      "execution_count": 3,
      "outputs": [
        {
          "output_type": "stream",
          "text": [
            "HTTP Error 입니다.HTTP Error 404: Not Found\n"
          ],
          "name": "stdout"
        }
      ]
    },
    {
      "cell_type": "code",
      "metadata": {
        "colab": {
          "base_uri": "https://localhost:8080/"
        },
        "id": "8_0VGKLFaV6T",
        "outputId": "4ef02773-aaa3-4385-f9b8-d721844e2585"
      },
      "source": [
        "##### 이미지 가져오기\n",
        "\n",
        "req.urlretrieve(\"https://t1.daumcdn.net/daumtop_chanel/op/20200723055344399.png\", \"/content/drive/My Drive/Colab Notebooks/Study/Python Data Analytics Library/data/daum.png\")\n",
        "print(\"저장 되었습니다\")"
      ],
      "execution_count": 7,
      "outputs": [
        {
          "output_type": "stream",
          "text": [
            "저장 되었습니다\n"
          ],
          "name": "stdout"
        }
      ]
    },
    {
      "cell_type": "code",
      "metadata": {
        "colab": {
          "base_uri": "https://localhost:8080/"
        },
        "id": "zqs0nVnDaV34",
        "outputId": "acda43d4-821c-4831-8229-57e8c9b72f5d"
      },
      "source": [
        "img = urlopen(\"https://t1.daumcdn.net/daumtop_chanel/op/20200723055344399.png\")\n",
        "img_data = img.read()\n",
        "img_data\n",
        "\n",
        "f = open(\"/content/drive/My Drive/Colab Notebooks/Study/Python Data Analytics Library/data/daum2.png\", \"wb\")\n",
        "f.write(img_data)\n",
        "print(\"저장 되었습니다\")\n",
        "f.close()"
      ],
      "execution_count": 9,
      "outputs": [
        {
          "output_type": "stream",
          "text": [
            "저장 되었습니다\n"
          ],
          "name": "stdout"
        }
      ]
    },
    {
      "cell_type": "code",
      "metadata": {
        "id": "veJnPPHiRtH9"
      },
      "source": [
        "import urllib.parse\n",
        "##### 요청 방식\n",
        "# 프로토콜://서버주소:포트번호/폴더 또는 파일명#섹션명\n",
        "# 프로토콜://서버주소:포트번호/파일명?변수명=값&변수명=값\n",
        "\n",
        "# http://www.weather.go.kr/weather/lifenindustry/sevice_rss.jsp\n",
        "\n",
        "api = \"http://www.kma.go.kr/weather/forecast/mid-term-rss3.jsp\"\n",
        "value = {\"stnId\" : 109}\n",
        "\n",
        "params = urllib.parse.urlencode(value)\n",
        "print(params)\n",
        "\n",
        "url = api + \"?\" + params\n",
        "print(url)\n",
        "\n",
        "data = urlopen(url).read()\n",
        "# print(data)\n",
        "data = data.decode(\"utf-8\")\n",
        "print(data)"
      ],
      "execution_count": null,
      "outputs": []
    },
    {
      "cell_type": "markdown",
      "metadata": {
        "id": "L9p2RPomffeG"
      },
      "source": [
        "#### 2) BeautyifulSoup 사용법"
      ]
    },
    {
      "cell_type": "code",
      "metadata": {
        "id": "kMZkkaxbRtFf"
      },
      "source": [
        "from bs4 import BeautifulSoup"
      ],
      "execution_count": 15,
      "outputs": []
    },
    {
      "cell_type": "code",
      "metadata": {
        "colab": {
          "base_uri": "https://localhost:8080/"
        },
        "id": "GCkrC3E4RtC3",
        "outputId": "273e75d5-9ed2-4e6f-8bc3-56f330934364"
      },
      "source": [
        "page = open(\"/content/drive/My Drive/Colab Notebooks/Study/Python Data Analytics Library/data/test_first.html\").read()\n",
        "page\n",
        "\n",
        "soup = BeautifulSoup(page, \"html.parser\")\n",
        "print(soup.prettify())"
      ],
      "execution_count": 18,
      "outputs": [
        {
          "output_type": "stream",
          "text": [
            "<!DOCTYPE html>\n",
            "<html>\n",
            " <head>\n",
            "  <title>\n",
            "   Very Simple HTML Code by Netsong7\n",
            "  </title>\n",
            " </head>\n",
            " <body>\n",
            "  <div>\n",
            "   <p class=\"inner-text first-item\" id=\"first\">\n",
            "    Happy PinkWink.\n",
            "    <a href=\"http://netsong7.synology.me\" id=\"pw-link\">\n",
            "     PinkWink\n",
            "    </a>\n",
            "   </p>\n",
            "   <p class=\"inner-text second-item\">\n",
            "    Happy Data Science.\n",
            "    <a href=\"https://www.python.org\" id=\"py-link\">\n",
            "     Python\n",
            "    </a>\n",
            "   </p>\n",
            "  </div>\n",
            "  <p class=\"outer-text first-item\" id=\"second\">\n",
            "   <b>\n",
            "    Data Science is funny.\n",
            "   </b>\n",
            "  </p>\n",
            "  <p class=\"outer-text\">\n",
            "   <b>\n",
            "    All I need is Love.\n",
            "   </b>\n",
            "  </p>\n",
            " </body>\n",
            "</html>\n"
          ],
          "name": "stdout"
        }
      ]
    },
    {
      "cell_type": "code",
      "metadata": {
        "colab": {
          "base_uri": "https://localhost:8080/"
        },
        "id": "jFwl8h1Yf3-2",
        "outputId": "a789eb23-9181-495f-c4b6-4c7e76e1d0d9"
      },
      "source": [
        "list(soup.children)\n",
        "list(soup.children)[0]\n",
        "list(soup.children)[2]"
      ],
      "execution_count": 27,
      "outputs": [
        {
          "output_type": "execute_result",
          "data": {
            "text/plain": [
              "<html><head>\n",
              "<title>Very Simple HTML Code by Netsong7</title>\n",
              "</head><body>\n",
              "<div>\n",
              "<p class=\"inner-text first-item\" id=\"first\">\n",
              "                Happy PinkWink.\n",
              "                <a href=\"http://netsong7.synology.me\" id=\"pw-link\">PinkWink</a>\n",
              "</p>\n",
              "<p class=\"inner-text second-item\">\n",
              "                Happy Data Science.\n",
              "                <a href=\"https://www.python.org\" id=\"py-link\">Python</a>\n",
              "</p>\n",
              "</div>\n",
              "<p class=\"outer-text first-item\" id=\"second\">\n",
              "<b>\n",
              "                Data Science is funny.\n",
              "            </b>\n",
              "</p>\n",
              "<p class=\"outer-text\">\n",
              "<b>\n",
              "                All I need is Love.\n",
              "            </b>\n",
              "</p>\n",
              "</body>\n",
              "</html>"
            ]
          },
          "metadata": {
            "tags": []
          },
          "execution_count": 27
        }
      ]
    },
    {
      "cell_type": "code",
      "metadata": {
        "colab": {
          "base_uri": "https://localhost:8080/"
        },
        "id": "s39x5egif38f",
        "outputId": "ed951a8d-55b1-456a-efc0-85986861f700"
      },
      "source": [
        "html = list(soup.children)[2]\n",
        "list(html.children)\n",
        "list(html.children)[0]\n",
        "\n",
        "body = list(html.children)[1]\n",
        "list(body.children)"
      ],
      "execution_count": 31,
      "outputs": [
        {
          "output_type": "execute_result",
          "data": {
            "text/plain": [
              "['\\n', <div>\n",
              " <p class=\"inner-text first-item\" id=\"first\">\n",
              "                 Happy PinkWink.\n",
              "                 <a href=\"http://netsong7.synology.me\" id=\"pw-link\">PinkWink</a>\n",
              " </p>\n",
              " <p class=\"inner-text second-item\">\n",
              "                 Happy Data Science.\n",
              "                 <a href=\"https://www.python.org\" id=\"py-link\">Python</a>\n",
              " </p>\n",
              " </div>, '\\n', <p class=\"outer-text first-item\" id=\"second\">\n",
              " <b>\n",
              "                 Data Science is funny.\n",
              "             </b>\n",
              " </p>, '\\n', <p class=\"outer-text\">\n",
              " <b>\n",
              "                 All I need is Love.\n",
              "             </b>\n",
              " </p>, '\\n']"
            ]
          },
          "metadata": {
            "tags": []
          },
          "execution_count": 31
        }
      ]
    },
    {
      "cell_type": "code",
      "metadata": {
        "colab": {
          "base_uri": "https://localhost:8080/"
        },
        "id": "a1r9ehn-f33o",
        "outputId": "8789cbb2-4abe-458e-d204-ffe20012f728"
      },
      "source": [
        "##### 태그명으로 접근\n",
        "soup.head\n",
        "soup.body\n",
        "soup.body.div\n",
        "soup.body.div.p"
      ],
      "execution_count": 33,
      "outputs": [
        {
          "output_type": "execute_result",
          "data": {
            "text/plain": [
              "<p class=\"inner-text first-item\" id=\"first\">\n",
              "                Happy PinkWink.\n",
              "                <a href=\"http://netsong7.synology.me\" id=\"pw-link\">PinkWink</a>\n",
              "</p>"
            ]
          },
          "metadata": {
            "tags": []
          },
          "execution_count": 33
        }
      ]
    },
    {
      "cell_type": "code",
      "metadata": {
        "colab": {
          "base_uri": "https://localhost:8080/"
        },
        "id": "GpLVBXaAf31G",
        "outputId": "0f137978-9241-4136-b03a-8321839399ec"
      },
      "source": [
        "##### find(), find_all()\n",
        "\n",
        "soup.find(\"p\")\n",
        "soup.find_all(\"p\")"
      ],
      "execution_count": 36,
      "outputs": [
        {
          "output_type": "execute_result",
          "data": {
            "text/plain": [
              "[<p class=\"inner-text first-item\" id=\"first\">\n",
              "                 Happy PinkWink.\n",
              "                 <a href=\"http://netsong7.synology.me\" id=\"pw-link\">PinkWink</a>\n",
              " </p>, <p class=\"inner-text second-item\">\n",
              "                 Happy Data Science.\n",
              "                 <a href=\"https://www.python.org\" id=\"py-link\">Python</a>\n",
              " </p>, <p class=\"outer-text first-item\" id=\"second\">\n",
              " <b>\n",
              "                 Data Science is funny.\n",
              "             </b>\n",
              " </p>, <p class=\"outer-text\">\n",
              " <b>\n",
              "                 All I need is Love.\n",
              "             </b>\n",
              " </p>]"
            ]
          },
          "metadata": {
            "tags": []
          },
          "execution_count": 36
        }
      ]
    },
    {
      "cell_type": "code",
      "metadata": {
        "colab": {
          "base_uri": "https://localhost:8080/"
        },
        "id": "gkE04I2CtJxk",
        "outputId": "29b30310-ebcd-41f0-cc8e-315a71020330"
      },
      "source": [
        "soup.find(\"p\", class_ = \"outer-text\")"
      ],
      "execution_count": 37,
      "outputs": [
        {
          "output_type": "execute_result",
          "data": {
            "text/plain": [
              "<p class=\"outer-text first-item\" id=\"second\">\n",
              "<b>\n",
              "                Data Science is funny.\n",
              "            </b>\n",
              "</p>"
            ]
          },
          "metadata": {
            "tags": []
          },
          "execution_count": 37
        }
      ]
    },
    {
      "cell_type": "code",
      "metadata": {
        "colab": {
          "base_uri": "https://localhost:8080/"
        },
        "id": "9rbLlk89tJvK",
        "outputId": "081c9ebc-9f07-4a56-9bbc-50eb99f9cb2d"
      },
      "source": [
        "soup.find(\"p\", id = \"second\")"
      ],
      "execution_count": 38,
      "outputs": [
        {
          "output_type": "execute_result",
          "data": {
            "text/plain": [
              "<p class=\"outer-text first-item\" id=\"second\">\n",
              "<b>\n",
              "                Data Science is funny.\n",
              "            </b>\n",
              "</p>"
            ]
          },
          "metadata": {
            "tags": []
          },
          "execution_count": 38
        }
      ]
    },
    {
      "cell_type": "code",
      "metadata": {
        "colab": {
          "base_uri": "https://localhost:8080/"
        },
        "id": "bLaz9YEYtJse",
        "outputId": "d1b19ffc-bf35-46a5-83bb-e5fcfd16fe46"
      },
      "source": [
        "soup.head\n",
        "soup.head.next_sibling\n",
        "\n",
        "soup.body\n",
        "soup.body.previous_sibling\n",
        "\n",
        "soup.body.p.next_sibling.next_sibling\n",
        "\n",
        "soup.body.parent"
      ],
      "execution_count": 43,
      "outputs": [
        {
          "output_type": "execute_result",
          "data": {
            "text/plain": [
              "<html><head>\n",
              "<title>Very Simple HTML Code by Netsong7</title>\n",
              "</head><body>\n",
              "<div>\n",
              "<p class=\"inner-text first-item\" id=\"first\">\n",
              "                Happy PinkWink.\n",
              "                <a href=\"http://netsong7.synology.me\" id=\"pw-link\">PinkWink</a>\n",
              "</p>\n",
              "<p class=\"inner-text second-item\">\n",
              "                Happy Data Science.\n",
              "                <a href=\"https://www.python.org\" id=\"py-link\">Python</a>\n",
              "</p>\n",
              "</div>\n",
              "<p class=\"outer-text first-item\" id=\"second\">\n",
              "<b>\n",
              "                Data Science is funny.\n",
              "            </b>\n",
              "</p>\n",
              "<p class=\"outer-text\">\n",
              "<b>\n",
              "                All I need is Love.\n",
              "            </b>\n",
              "</p>\n",
              "</body>\n",
              "</html>"
            ]
          },
          "metadata": {
            "tags": []
          },
          "execution_count": 43
        }
      ]
    },
    {
      "cell_type": "code",
      "metadata": {
        "colab": {
          "base_uri": "https://localhost:8080/"
        },
        "id": "8lFsjK4bf3yz",
        "outputId": "a467abaf-38e2-4486-8187-a2936db54f8b"
      },
      "source": [
        "##### 데이터(Text Node) 가져오기\n",
        "\n",
        "soup.html.get_text()\n",
        "soup.head.get_text()\n",
        "soup.title.get_text()\n",
        "soup.div.get_text()\n",
        "soup.p.get_text()\n",
        "\n",
        "for p in soup.find_all(\"p\"):\n",
        "  print(p.get_text())"
      ],
      "execution_count": 45,
      "outputs": [
        {
          "output_type": "stream",
          "text": [
            "\n",
            "                Happy PinkWink.\n",
            "                PinkWink\n",
            "\n",
            "\n",
            "                Happy Data Science.\n",
            "                Python\n",
            "\n",
            "\n",
            "\n",
            "                Data Science is funny.\n",
            "            \n",
            "\n",
            "\n",
            "\n",
            "                All I need is Love.\n",
            "            \n",
            "\n"
          ],
          "name": "stdout"
        }
      ]
    },
    {
      "cell_type": "code",
      "metadata": {
        "colab": {
          "base_uri": "https://localhost:8080/"
        },
        "id": "z_I18rO73Mn-",
        "outputId": "8b8c3bab-5f8c-4cd5-a3db-3852109213cf"
      },
      "source": [
        "##### 속성에 접근하기\n",
        "\n",
        "link = soup.find(\"a\")\n",
        "link\n",
        "\n",
        "link[\"href\"]\n",
        "\n",
        "links = soup.find_all(\"a\")\n",
        "for n in links:\n",
        "  print(n[\"href\"])"
      ],
      "execution_count": 49,
      "outputs": [
        {
          "output_type": "stream",
          "text": [
            "http://netsong7.synology.me\n",
            "https://www.python.org\n"
          ],
          "name": "stdout"
        }
      ]
    },
    {
      "cell_type": "markdown",
      "metadata": {
        "id": "Qh5UG1kI4INz"
      },
      "source": [
        "### 실습예제"
      ]
    },
    {
      "cell_type": "markdown",
      "metadata": {
        "id": "XlhrZ3eR4RSX"
      },
      "source": [
        "#### 1) 네이버에서 환율정보 가져오기\n",
        "\n",
        "- https://finance.naver.com/marketindex/"
      ]
    },
    {
      "cell_type": "code",
      "metadata": {
        "id": "U4Ci8NJd3Mlw"
      },
      "source": [
        "from urllib.request import urlopen\n",
        "\n",
        "url = \"https://finance.naver.com/marketindex/\"\n",
        "page = urlopen(url)\n",
        "page\n",
        "\n",
        "soup = BeautifulSoup(page, \"html.parser\")"
      ],
      "execution_count": 56,
      "outputs": []
    },
    {
      "cell_type": "code",
      "metadata": {
        "colab": {
          "base_uri": "https://localhost:8080/"
        },
        "id": "06Ldt1-c3MjR",
        "outputId": "52033525-2437-41f0-ab00-830f4812a97a"
      },
      "source": [
        "span = soup.find_all(\"span\", class_ = \"value\")\n",
        "span\n",
        "\n",
        "print(\"미 환율 :\", span[0].get_text())"
      ],
      "execution_count": 61,
      "outputs": [
        {
          "output_type": "stream",
          "text": [
            "미 환율 : 1,115.30\n"
          ],
          "name": "stdout"
        }
      ]
    },
    {
      "cell_type": "code",
      "metadata": {
        "colab": {
          "base_uri": "https://localhost:8080/"
        },
        "id": "jgsmuAnv3Mgk",
        "outputId": "c574d435-4735-409f-b8c2-880c615ecebc"
      },
      "source": [
        "div = soup.find_all(\"div\", class_ = \"head_info\")\n",
        "span = div[0].find_all(\"span\")\n",
        "print(span)\n",
        "\n",
        "print(\"미 환율 :\", span[0].get_text())"
      ],
      "execution_count": 71,
      "outputs": [
        {
          "output_type": "stream",
          "text": [
            "[<span class=\"value\">1,115.30</span>, <span class=\"txt_krw\"><span class=\"blind\">원</span></span>, <span class=\"blind\">원</span>, <span class=\"change\"> 0.70</span>, <span class=\"blind\">하락</span>]\n",
            "미 환율 : 1,115.30\n"
          ],
          "name": "stdout"
        }
      ]
    },
    {
      "cell_type": "code",
      "metadata": {
        "colab": {
          "base_uri": "https://localhost:8080/",
          "height": 35
        },
        "id": "vSJlyMB73Md1",
        "outputId": "37e927ce-7bf1-4025-d343-85ef0451c50f"
      },
      "source": [
        "# CSS\n",
        "\n",
        "span = soup.select_one(\"div.head_info > span.value\")\n",
        "span.get_text()"
      ],
      "execution_count": 72,
      "outputs": [
        {
          "output_type": "execute_result",
          "data": {
            "application/vnd.google.colaboratory.intrinsic+json": {
              "type": "string"
            },
            "text/plain": [
              "'1,115.30'"
            ]
          },
          "metadata": {
            "tags": []
          },
          "execution_count": 72
        }
      ]
    },
    {
      "cell_type": "markdown",
      "metadata": {
        "id": "1oBNEWL7Qyy5"
      },
      "source": [
        "#### 2) 스트래핑 연습"
      ]
    },
    {
      "cell_type": "code",
      "metadata": {
        "id": "J9ejE2z6Qzi9"
      },
      "source": [
        "url = \"http://www.pythonscraping.com/pages\""
      ],
      "execution_count": 73,
      "outputs": []
    },
    {
      "cell_type": "code",
      "metadata": {
        "id": "4n4A_OkZQzf7"
      },
      "source": [
        ""
      ],
      "execution_count": null,
      "outputs": []
    },
    {
      "cell_type": "code",
      "metadata": {
        "id": "JS9hSGXrQzdh"
      },
      "source": [
        ""
      ],
      "execution_count": null,
      "outputs": []
    },
    {
      "cell_type": "code",
      "metadata": {
        "id": "7vinXTtMQzZE"
      },
      "source": [
        ""
      ],
      "execution_count": null,
      "outputs": []
    },
    {
      "cell_type": "code",
      "metadata": {
        "id": "YR9DMuyQQzIJ"
      },
      "source": [
        ""
      ],
      "execution_count": null,
      "outputs": []
    }
  ]
}