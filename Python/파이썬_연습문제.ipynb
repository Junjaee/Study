{
  "nbformat": 4,
  "nbformat_minor": 0,
  "metadata": {
    "colab": {
      "name": "파이썬 연습문제.ipynb",
      "provenance": [],
      "collapsed_sections": [],
      "authorship_tag": "ABX9TyPnVsC0SYZ+QrqhnH6DgvVC",
      "include_colab_link": true
    },
    "kernelspec": {
      "name": "python3",
      "display_name": "Python 3"
    },
    "language_info": {
      "name": "python"
    }
  },
  "cells": [
    {
      "cell_type": "markdown",
      "metadata": {
        "id": "view-in-github",
        "colab_type": "text"
      },
      "source": [
        "<a href=\"https://colab.research.google.com/github/Junjaee/Study/blob/main/Python/%ED%8C%8C%EC%9D%B4%EC%8D%AC_%EC%97%B0%EC%8A%B5%EB%AC%B8%EC%A0%9C.ipynb\" target=\"_parent\"><img src=\"https://colab.research.google.com/assets/colab-badge.svg\" alt=\"Open In Colab\"/></a>"
      ]
    },
    {
      "cell_type": "code",
      "metadata": {
        "colab": {
          "base_uri": "https://localhost:8080/"
        },
        "id": "_IOBtWe7zA32",
        "outputId": "cabe5b00-1dfd-454b-9410-7191472018f4"
      },
      "source": [
        "\"\"\"\n",
        "동전 교환 프로그램\n",
        "==================\n",
        "교환할 돈은 얼마입니까? 2763 (엔터키)\n",
        "\n",
        "결과:\n",
        "오백원짜리 ===> 5개\n",
        "백원짜리 ===> 2개\n",
        "오십원짜리 ===> 1개\n",
        "십원짜리 ===> 1개\n",
        "나머지 바꾸지 못한 잔돈 ===> 3원\n",
        "\"\"\"\n",
        "\n",
        "print(\"동전 교환 프로그램\\n==================\")\n",
        "\n",
        "coin = int(input(\"교환할 돈은 얼마입니까? \"))\n",
        "\n",
        "a = coin//500\n",
        "a1 = coin%500\n",
        "\n",
        "b = a1//100\n",
        "b1 = a1%100\n",
        "\n",
        "c = b1//50\n",
        "c1 = b1%50\n",
        "\n",
        "d = c1//10\n",
        "\n",
        "e = c1%10\n",
        "\n",
        "print(\"\\n결과 : \", \"\\n오백원짜리 ===> {}\\n백원짜리 ===> {}\\n오십원짜리 ===> {}\\n십원짜리 ===> {}\\n나머지 바꾸지 못한 잔돈 ===> {}\".format(a,b,c,d,e))\n",
        "\n",
        "# print(\"동전 교환 프로그램\\n==================\")\n",
        "\n",
        "# coin = int(input(\"교환할 돈은 얼마입니까? \"))\n",
        "\n",
        "# a = coin//500\n",
        "# b = (coin%500)//100\n",
        "# c = ((coin%500)%100)//50\n",
        "# d = (((coin%500)%100)%50)//10\n",
        "# e = (((coin%500)%100)%50)%10)\n",
        "\n",
        "# print(\"\\n결과 : \" )\n",
        "# print(\"오백원짜리 ===> {}\".format(a))\n",
        "# print(\"백원짜리 ===> {}\".format(b))\n",
        "# print(\"오십원짜리 ===> {}\".format(c))\n",
        "# print(\"십원짜리 ===> {}\".format(d))\n",
        "# print(\"나머지 바꾸지 못한 잔돈 ===> {}\".format(e))"
      ],
      "execution_count": 55,
      "outputs": [
        {
          "output_type": "stream",
          "text": [
            "동전 교환 프로그램\n",
            "==================\n",
            "교환할 돈은 얼마입니까? 2367\n",
            "\n",
            "결과 :  \n",
            "오백원짜리 ===> 4\n",
            "백원짜리 ===> 3\n",
            "오십원짜리 ===> 1\n",
            "십원짜리 ===> 1\n",
            "나머지 바꾸지 못한 잔돈 ===> 7\n"
          ],
          "name": "stdout"
        }
      ]
    },
    {
      "cell_type": "code",
      "metadata": {
        "colab": {
          "base_uri": "https://localhost:8080/"
        },
        "id": "qTc8-VLSSlot",
        "outputId": "acdb9f23-ec3b-4ba9-b57b-1806abfaa042"
      },
      "source": [
        "print(\"동전 교환 프로그램\\n==================\")\n",
        "\n",
        "coin = int(input(\"교환할 돈은 얼마입니까? \"))\n",
        "\n",
        "a = coin//500\n",
        "b = coin%500//100\n",
        "c = coin%100//50\n",
        "d = coin%50//10\n",
        "e = coin%10\n",
        "\n",
        "print(\"\\n결과 : \\n오백원짜리 ===> {}\\n백원짜리 ===> {}\\n오십원짜리 ===> {}\\n십원짜리 ===> {}\\n나머지 바꾸지 못한 잔돈 ===> {}\".format(a,b,c,d,e))"
      ],
      "execution_count": 6,
      "outputs": [
        {
          "output_type": "stream",
          "text": [
            "동전 교환 프로그램\n",
            "==================\n",
            "교환할 돈은 얼마입니까? 2367\n",
            "\n",
            "결과 : \n",
            "오백원짜리 ===> 4\n",
            "백원짜리 ===> 3\n",
            "오십원짜리 ===> 1\n",
            "십원짜리 ===> 1\n",
            "나머지 바꾸지 못한 잔돈 ===> 7\n"
          ],
          "name": "stdout"
        }
      ]
    },
    {
      "cell_type": "code",
      "metadata": {
        "colab": {
          "base_uri": "https://localhost:8080/"
        },
        "id": "QYWlT89BodhD",
        "outputId": "991086a4-4197-4516-fe20-ffea69b65ebb"
      },
      "source": [
        "\"\"\"\n",
        "윤년 계산 프로그램\n",
        "-------------------\n",
        "1) 기원 연수가 4로 나누어 떨어지는 해는 우선 윤년으로 한다.\n",
        "2) 그 중에서 100으로 나누어 떨어지는 해는 평년으로 한다.\n",
        "3) 다만 400으로 나누어 떨어지는 해는 다시 윤년으로 정한다.\n",
        "\n",
        "연도를 입력 : 2019(엔터)\n",
        "결과 : 윤년입니다.(윤년이 아닙니다)\n",
        "\"\"\"\n",
        "print(\"윤년 계산 프로그램\\n==================\")\n",
        "\n",
        "year = int(input(\"연도를 입력 : \"))\n",
        "\n",
        "if ((year%4 == 0 and year%100 != 0)) or (year%400 == 0):\n",
        "  print(year, \"년은 윤년입니다.\")\n",
        "else:\n",
        "  print(year, \"년은 윤년이 아닙니다.\")  \n"
      ],
      "execution_count": 60,
      "outputs": [
        {
          "output_type": "stream",
          "text": [
            "윤년 계산 프로그램\n",
            "==================\n",
            "연도를 입력 : 2020\n",
            "2020 년은 윤년입니다.\n"
          ],
          "name": "stdout"
        }
      ]
    },
    {
      "cell_type": "code",
      "metadata": {
        "colab": {
          "base_uri": "https://localhost:8080/"
        },
        "id": "rTcLGsI4uk-p",
        "outputId": "c1d8fd2a-159b-442c-cbbe-6e0a7ed3a6ba"
      },
      "source": [
        "\"\"\"\n",
        "전자 계산기 프로그램(사칙연산)\n",
        "----------------------------------\n",
        "연산자 : +\n",
        "숫자1 : 10\n",
        "숫자2 : 5\n",
        "\n",
        "결과 : 10 + 5 = 15\n",
        "\"\"\"\n",
        "\n",
        "print(\"전자 계산기 프로그램(사칙연산)\\n==================\")\n",
        "\n",
        "a = input(\"연산자 : \")\n",
        "num1 = int(input(\"숫자1 : \"))\n",
        "num2 = int(input(\"숫자2 : \"))\n",
        "\n",
        "if a == \"+\":\n",
        "    print(\"결과 : {} {} {} = {}\".format(num1,a,num2,num1+num2))\n",
        "elif a == \"-\":\n",
        "    print(\"결과 : {} {} {} = {}\".format(num1,a,num2,num1-num2))\n",
        "elif a == \"*\":\n",
        "    print(\"결과 : {} {} {} = {}\".format(num1,a,num2,num1*num2))\n",
        "elif a == \"/\":\n",
        "    print(\"결과 : {} {} {} = {}\".format(num1,a,num2,num1/num2))\n",
        "else:\n",
        "  print(\"연산자 오류입니다\")\n",
        "\n",
        "\n",
        "\n"
      ],
      "execution_count": 2,
      "outputs": [
        {
          "output_type": "stream",
          "text": [
            "전자 계산기 프로그램(사칙연산)\n",
            "==================\n",
            "연산자 : /\n",
            "숫자1 : 1\n",
            "숫자2 : 1\n",
            "결과 : 1 / 1 = 1.0\n"
          ],
          "name": "stdout"
        }
      ]
    }
  ]
}