{
  "nbformat": 4,
  "nbformat_minor": 0,
  "metadata": {
    "colab": {
      "name": "SW_Expert_Academy_D2.ipynb",
      "provenance": [],
      "collapsed_sections": [],
      "authorship_tag": "ABX9TyNFnOUkPluuuaC2Juh52bCp",
      "include_colab_link": true
    },
    "kernelspec": {
      "name": "python3",
      "display_name": "Python 3"
    },
    "language_info": {
      "name": "python"
    }
  },
  "cells": [
    {
      "cell_type": "markdown",
      "metadata": {
        "id": "view-in-github",
        "colab_type": "text"
      },
      "source": [
        "<a href=\"https://colab.research.google.com/github/Junjaee/Study/blob/main/SW_Expert_Academy/SW_Expert_Academy_D2.ipynb\" target=\"_parent\"><img src=\"https://colab.research.google.com/assets/colab-badge.svg\" alt=\"Open In Colab\"/></a>"
      ]
    },
    {
      "cell_type": "code",
      "metadata": {
        "colab": {
          "base_uri": "https://localhost:8080/"
        },
        "id": "bbTEIpicscOW",
        "outputId": "d6699c0f-9e71-4d63-9cae-cd9795e14273"
      },
      "source": [
        "# 1. 백만장자 프로젝트\n",
        "\n",
        "T = int(input())\n",
        "for i in range(T):\n",
        "    N = int(input())\n",
        "    numbers = list(map(int, input().split(' ')))[::-1]  # 뒤에서부터 탐색\n",
        "    answer = 0\n",
        "    max_number = numbers[0]  # 현재 가장 큰 값\n",
        "\n",
        "    for j in range(1, N):\n",
        "        if max_number > numbers[j]:\n",
        "            answer += max_number - numbers[j]\n",
        "        else:\n",
        "            max_number = numbers[j]\n",
        "\n",
        "    print('#{} {}'.format(i+1, answer))"
      ],
      "execution_count": 3,
      "outputs": [
        {
          "output_type": "stream",
          "text": [
            "3\n",
            "3\n",
            "10 7 6\n",
            "#1 0\n",
            "3\n",
            "3 5 9\n",
            "#2 10\n",
            "5\n",
            "1 1 3 1 2\n",
            "#3 5\n"
          ],
          "name": "stdout"
        }
      ]
    },
    {
      "cell_type": "code",
      "metadata": {
        "id": "DcQbtFthsrnS"
      },
      "source": [
        "# 2. 간단한 369게임\n",
        "\n",
        "T = int(input()) \n",
        "\n",
        "for i in range(1, T+1): \n",
        "    k= 0\n",
        "    l = list(str(i))\n",
        "    m = 1\n",
        "    t = len(str(i))\n",
        "\n",
        "    for j in range(1, t+1):\n",
        "\n",
        "        if (l[j-1] == '3') or (l[j-1] == '6') or (l[j-1] == '9'):\n",
        "            k += 1\n",
        "            m = 0\n",
        "\n",
        "    print(str(i)*m + '-'*k, end = ' ')"
      ],
      "execution_count": 4,
      "outputs": []
    },
    {
      "cell_type": "code",
      "metadata": {
        "id": "sjZP-P-mtbQv"
      },
      "source": [
        "#4. 파스칼의 삼각형\n",
        "\n",
        "T = int(input())\n",
        "for i in range(1, T+1):\n",
        "    N = int(input()) \n",
        "    n = [0, 1, 0]\n",
        "    print(\"#{}\".format(i))\n",
        "    for j in range(1, N+1): \n",
        "        for element in n[1:j+1]:\n",
        "            print(element, end = ' ')\n",
        "        print(end = '\\n')\n",
        "        for k in range(0, j+1): \n",
        "            n[k] = n[k] + n[k+1]    \n",
        "\n",
        "        n.insert(0,0)"
      ],
      "execution_count": null,
      "outputs": []
    },
    {
      "cell_type": "code",
      "metadata": {
        "id": "N5h-W1YdtbLp"
      },
      "source": [
        "#5. 파리 퇴치\n",
        "\n",
        "T = int(input())\n",
        "\n",
        "for i in range(1, T+1):\n",
        "    \n",
        "    m, n = map(int, input().split(\" \"))\n",
        "    L = []\n",
        "    max_number = 0\n",
        "\n",
        "    for k in range(1, m+1):\n",
        "        L.append(list(map(int, input().split(\" \"))))\n",
        "\n",
        "    for p in range(0, m-n+1):\n",
        "        for q in range(0, m-n+1):\n",
        "            paris = 0\n",
        "            for r in range(0, n):\n",
        "                for s in range(0, n):\n",
        "                    paris += L[p+r][q+s]\n",
        "            if paris > max_number:\n",
        "                max_number = paris\n",
        "\n",
        "    print(\"#{} {}\".format(i, max_number))\n"
      ],
      "execution_count": null,
      "outputs": []
    },
    {
      "cell_type": "code",
      "metadata": {
        "id": "pK8v9sHhtbI_"
      },
      "source": [
        "#6 초심자의 회문검사\n",
        "\n",
        "for t in range(1, int(input())+1):\n",
        "    a = input()\n",
        "    b = len(a)\n",
        "    lotate = 0\n",
        "    for i in range(int((b-1)/2)):\n",
        "        if a[i] == a[b-1-i]:\n",
        "            lotate += 0\n",
        "        else:\n",
        "            lotate += 1\n",
        "    if (lotate == 0):\n",
        "        print(\"#{} {}\".format(t, 1))\n",
        "    else:\n",
        "        print(\"#{} {}\".format(t, 0)) "
      ],
      "execution_count": null,
      "outputs": []
    },
    {
      "cell_type": "code",
      "metadata": {
        "id": "Y7un3zF7tbGL"
      },
      "source": [
        "#7 지그재그 숫자\n",
        "\n",
        "T = int(input())\n",
        "for t in range(1, T+1):\n",
        "    n = int(input())\n",
        "    n_total = 0\n",
        "    for i in range(1, n+1):\n",
        "        if i%2 == 0:\n",
        "            n_total -= i\n",
        "        else:\n",
        "            n_total += i\n",
        "    print(\"#{} {}\".format(t, n_total))\n"
      ],
      "execution_count": null,
      "outputs": []
    },
    {
      "cell_type": "code",
      "metadata": {
        "id": "kELH7frRtbDY"
      },
      "source": [
        "#8 중간 평균값 구하기\n",
        "\n",
        "T = int(input())\n",
        "for i in range(1, T+1):\n",
        "    list_a = list(map(int, input().split()))\n",
        "    n = 0\n",
        "    print(list_a)\n",
        "    \n",
        "    list_a.sort()\n",
        "    print(list_a)\n",
        "    del list_a[0]\n",
        "    del list_a[8]\n",
        "    print(list_a)\n",
        "\n",
        "    for j in range(8):\n",
        "        n += list_a[j]\n",
        "    print(\"#{} {}\".format(i, round(n/8)))"
      ],
      "execution_count": null,
      "outputs": []
    },
    {
      "cell_type": "code",
      "metadata": {
        "id": "P2zjOR7dta7z"
      },
      "source": [
        "#9 조교의 성적 매기기\n",
        "\n",
        "T = int(input())\n",
        "for i in range(1, T+1):\n",
        "    N ,K = map(int, input().split(\" \"))\n",
        "    students = []\n",
        "    m = 0\n",
        "    grade = ['A+', 'A0', 'A-', 'B+', 'B0', 'B-', 'C+', 'C0', 'C-', 'D0']\n",
        "    for j in range(1, N+1):\n",
        "        a, b, c = map(int, input().split(\" \"))\n",
        "        m = (a*35+b*45+c*20)/3\n",
        "        students.append(m)\n",
        "\n",
        "\n",
        "    score = students[K-1]\n",
        "    students.sort(reverse=True)\n",
        "\n",
        "    rank = students.index(score) // (N//10)\n",
        "    grade_ = grade[rank]\n",
        "    \n",
        "    print('#{} {}'.format(i, grade_))"
      ],
      "execution_count": null,
      "outputs": []
    },
    {
      "cell_type": "code",
      "metadata": {
        "id": "7YbTF7EHtmfq"
      },
      "source": [
        "#10 어디에 단어가 들어갈 수 있을까\n",
        "\n",
        "T = int(input())\n",
        "\n",
        "for i in range(1, T+1):\n",
        "\n",
        "m, n = map(int, input().split(\" \"))\n",
        "    L = []\n",
        "    max_number = 0\n",
        "\n",
        "    for k in range(1, m+1):\n",
        "        L.append(list(map(int, input().split(\" \"))))\n",
        "\n",
        "    for p in range(0, m-n+1):\n",
        "        for q in range(0, m-n+1):\n",
        "            available = 0\n",
        "            for r in range(0, n):\n",
        "                for s in range(0, n):\n",
        "                    if L[r][s] == 1, L[r+1][s] == 1, L[r+2][s] == 1:\n",
        "                        available += 1\n",
        "\n",
        "            for t in range(0, n):\n",
        "                for u in range(0, n):\n",
        "                    if L[t][u] == 1, L[t][u+1] == 1, L[t][u+2] == 1:\n",
        "                        available += 1        \n",
        "\n",
        "            print(available)     "
      ],
      "execution_count": null,
      "outputs": []
    },
    {
      "cell_type": "code",
      "metadata": {
        "id": "amS4Ruj-tmY8"
      },
      "source": [
        ""
      ],
      "execution_count": null,
      "outputs": []
    },
    {
      "cell_type": "code",
      "metadata": {
        "id": "Fue8MRzQtmV_"
      },
      "source": [
        ""
      ],
      "execution_count": null,
      "outputs": []
    }
  ]
}