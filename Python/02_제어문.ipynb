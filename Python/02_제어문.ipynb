{
  "nbformat": 4,
  "nbformat_minor": 0,
  "metadata": {
    "colab": {
      "name": "02_제어문.ipynb",
      "provenance": [],
      "collapsed_sections": [],
      "authorship_tag": "ABX9TyOSCBm/sf61ApA1U0EQ5zfc",
      "include_colab_link": true
    },
    "kernelspec": {
      "name": "python3",
      "display_name": "Python 3"
    },
    "language_info": {
      "name": "python"
    }
  },
  "cells": [
    {
      "cell_type": "markdown",
      "metadata": {
        "id": "view-in-github",
        "colab_type": "text"
      },
      "source": [
        "<a href=\"https://colab.research.google.com/github/Junjaee/Study/blob/main/Python/02_%EC%A0%9C%EC%96%B4%EB%AC%B8.ipynb\" target=\"_parent\"><img src=\"https://colab.research.google.com/assets/colab-badge.svg\" alt=\"Open In Colab\"/></a>"
      ]
    },
    {
      "cell_type": "markdown",
      "metadata": {
        "id": "ekz9GVP7wHhE"
      },
      "source": [
        "## 1. 입력 기능"
      ]
    },
    {
      "cell_type": "code",
      "metadata": {
        "colab": {
          "base_uri": "https://localhost:8080/"
        },
        "id": "CtVLMTpNvb7G",
        "outputId": "f72b12ed-1eb3-4440-8ec2-612ccab6c4cd"
      },
      "source": [
        "name = input(\"당신의 이름은?\")\n",
        "print(\"안녕하세요! {}님 어서오세요\".format(name))"
      ],
      "execution_count": 2,
      "outputs": [
        {
          "output_type": "stream",
          "text": [
            "당신의 이름은?신준재\n",
            "안녕하세요! 신준재님 어서오세요\n"
          ],
          "name": "stdout"
        }
      ]
    },
    {
      "cell_type": "code",
      "metadata": {
        "colab": {
          "base_uri": "https://localhost:8080/"
        },
        "id": "01DTcuqDyYbW",
        "outputId": "4819223d-65e3-4552-a7a1-182b0052bb8f"
      },
      "source": [
        "num1 = input(\"첫번째 숫자 : \")\n",
        "num2 = input(\"두번째 숫자 : \")\n",
        "\n",
        "num1 = int(num1)\n",
        "num2 = int(num2)\n",
        "\n",
        "print(\"결과 : \", num1 + num2)"
      ],
      "execution_count": 4,
      "outputs": [
        {
          "output_type": "stream",
          "text": [
            "첫번째 숫자 : 1\n",
            "두번째 숫자 : 2\n",
            "결과 :  3\n"
          ],
          "name": "stdout"
        }
      ]
    },
    {
      "cell_type": "markdown",
      "metadata": {
        "id": "OORUQd3fUtDn"
      },
      "source": [
        "---\n",
        "## 2. 제어문\n",
        "\n",
        "    1) 조건문\n",
        "        - if\n",
        "        - switch\n",
        "\n",
        "    2) 반복문\n",
        "        - while\n",
        "        - for"
      ]
    },
    {
      "cell_type": "markdown",
      "metadata": {
        "id": "h9c6_pMaV6-h"
      },
      "source": [
        "---\n",
        "### (1)IF\n",
        "\n",
        "    1) if 조건식:\n",
        "            문장\n",
        "            ...\n",
        "        \n",
        "       if 조건식: 문장\n",
        "    \n",
        "    2) if 조건식:\n",
        "            문장\n",
        "            ...\n",
        "       else:\n",
        "            문장\n",
        "            ...\n",
        "\n",
        "    3) if 조건식:\n",
        "            문장\n",
        "            ...\n",
        "       elif 조건식:\n",
        "            문장\n",
        "            ...\n",
        "       else:\n",
        "            문장\n",
        "            ...\n",
        "\n",
        "    4) 조건문의 중첩(nested) - 완전히 포함된 상태\n",
        "        if 조건문:\n",
        "            문장\n",
        "            ...\n",
        "            if 조건문:\n",
        "                문장\n",
        "                ...\n",
        "                                                       \n",
        "      "
      ]
    },
    {
      "cell_type": "code",
      "metadata": {
        "colab": {
          "base_uri": "https://localhost:8080/"
        },
        "id": "eaUsDoLzW5Gg",
        "outputId": "886b1f59-0cea-42e2-9984-ad6eb53510fa"
      },
      "source": [
        "# 입력받은 숫자가 짝수/홀수인지 판별하는 프로그램\n",
        "\n",
        "num1 = int(input(\"숫자 : \"))\n",
        "\n",
        "if num1 % 2 == 0:\n",
        "  print(\"짝수\")\n",
        "\n",
        "if num1 % 2 !=0 : print(\"홀수\")"
      ],
      "execution_count": 24,
      "outputs": [
        {
          "output_type": "stream",
          "text": [
            "숫자 : 125\n",
            "홀수\n"
          ],
          "name": "stdout"
        }
      ]
    },
    {
      "cell_type": "code",
      "metadata": {
        "colab": {
          "base_uri": "https://localhost:8080/"
        },
        "id": "l0UgIjjWatqT",
        "outputId": "b62ca07d-e2b4-40d9-884f-11e475987831"
      },
      "source": [
        "num1 = int(input(\"숫자 : \"))\n",
        "\n",
        "if num1 % 2 == 0:\n",
        "  print(num1, \"은 짝수\")\n",
        "\n",
        "else:\n",
        "  print(num1, \"은 홀수\")"
      ],
      "execution_count": 36,
      "outputs": [
        {
          "output_type": "stream",
          "text": [
            "숫자 : 12\n",
            "12 은 짝수\n"
          ],
          "name": "stdout"
        }
      ]
    },
    {
      "cell_type": "code",
      "metadata": {
        "colab": {
          "base_uri": "https://localhost:8080/"
        },
        "id": "zLsE6Ky9a_23",
        "outputId": "30001f44-38f9-4357-be9a-d970895cca6a"
      },
      "source": [
        "# 입력받은 값이 a, b, c, d 이면 \"정답\"이라고 출력하고 그렇지 않으면 \"오답\"이라고 출력\n",
        "\n",
        "x = input(\"알파벳을 입력해주세요 : \")\n",
        "\n",
        "if x == \"a\" or x == \"b\" or x == \"c\" or x == \"d\":\n",
        "  print(\"정답\")\n",
        "else:\n",
        "  print(\"오답\")"
      ],
      "execution_count": 77,
      "outputs": [
        {
          "output_type": "stream",
          "text": [
            "알파벳을 입력해주세요 : a\n",
            "정답\n"
          ],
          "name": "stdout"
        }
      ]
    },
    {
      "cell_type": "code",
      "metadata": {
        "colab": {
          "base_uri": "https://localhost:8080/"
        },
        "id": "vcXoLYRDUY4s",
        "outputId": "01012305-e657-46bd-bceb-0013f521173a"
      },
      "source": [
        "num1 = input(\"값 : \")\n",
        "\n",
        "if num1 == (\"a\" or \"b\" or \"c\" or \"d\"):\n",
        "    print(\"정답\")\n",
        "else:\n",
        "    print(\"오답\")\n",
        "\n",
        "print(\"======================\")\n",
        "\n",
        "ans = input(\"답을 입력하세요.\")\n",
        "if ans in (\"a\", \"b\", \"c\", \"d\"):\n",
        "    print(\"정답\")\n",
        "else: print(\"오답\")\n",
        "\n",
        "print(\"======================\")\n",
        "\n",
        "answer = input(\"답을 입력하세요.\")\n",
        "\n",
        "correct = ('a', 'b', 'c', 'd')\n",
        "if correct.count(answer) > 0:\n",
        "  print(\"정답\")\n",
        "else:\n",
        "  print(\"오답\")\n",
        "\n",
        "print(\"======================\")\n",
        "\n",
        "if answer >== 'a' and answer <= 'd':\n",
        "  print(\"정답\")\n",
        "else:\n",
        "  print(\"오답\")\n",
        "\n"
      ],
      "execution_count": 93,
      "outputs": [
        {
          "output_type": "stream",
          "text": [
            "값 : a\n",
            "정답\n",
            "======================\n",
            "답을 입력하세요.\n",
            "오답\n",
            "======================\n",
            "답을 입력하세요.v\n",
            "오답\n"
          ],
          "name": "stdout"
        }
      ]
    },
    {
      "cell_type": "code",
      "metadata": {
        "colab": {
          "base_uri": "https://localhost:8080/"
        },
        "id": "R5qKVw15hEw2",
        "outputId": "22bf8715-1cd2-4c38-a1c2-5bcc7eea192b"
      },
      "source": [
        "# 아스키 코드\n",
        "\n",
        "print(ord('a'), ord('b'), ord('A'), ord('B'))\n",
        "print(chr(97), chr(98), chr(65), chr(66))"
      ],
      "execution_count": 98,
      "outputs": [
        {
          "output_type": "stream",
          "text": [
            "97 98 65 66\n",
            "a b A B\n"
          ],
          "name": "stdout"
        }
      ]
    },
    {
      "cell_type": "code",
      "metadata": {
        "id": "t2JVtKjzpM6L"
      },
      "source": [
        "# 다중 if\n",
        "\n",
        "avg = 73\n",
        "\n",
        "if avg >= 90:\n",
        "  print(\"A\")\n",
        "elif avg>=80:\n",
        "  print(\"B\")\n",
        "elif avg>=70\n",
        "  print(\"C\")\n",
        "elif avg>=60\n",
        "  print(\"D\")\n",
        "elif:\n",
        "  print(\"F\")"
      ],
      "execution_count": null,
      "outputs": []
    },
    {
      "cell_type": "code",
      "metadata": {
        "colab": {
          "base_uri": "https://localhost:8080/"
        },
        "id": "Z_AI8KRVgzxA",
        "outputId": "5db31b56-959d-4865-8e39-48663a8ad12b"
      },
      "source": [
        "# 조건문의 중첩\n",
        "\n",
        "a, b, c = 8, 10, 3\n",
        "\n",
        "if a > b:\n",
        "  if a > c:\n",
        "    print(\"a가 제일 크다\")\n",
        "  else:\n",
        "    print(\"c가 제일 크다\")\n",
        "else:\n",
        "  if b > c:\n",
        "    print(\"b가 제일 크다\")\n",
        "  else:\n",
        "    print(\"c가 제일 크다\")\n",
        "\n",
        "print(\"-----------------------------\")\n",
        "\n",
        "id = input(\"아이디 : \") # tiger\n",
        "pw = input(\"패스워드 : \") # 1111\n",
        "\n",
        "if id != \"tiger\":\n",
        "  if pw != \"1111\":\n",
        "    print(\"아이디와 패스워드 오류입니다\")\n",
        "  else:\n",
        "    print(\"아이디 오류입니다\")\n",
        "else:\n",
        "  if pw != \"1111\":\n",
        "    print(\"패스워드 오류입니다\")\n",
        "  else:\n",
        "    print(\"로그인 되었습니다\")"
      ],
      "execution_count": 2,
      "outputs": [
        {
          "output_type": "stream",
          "text": [
            "b가 제일 크다\n",
            "-----------------------------\n"
          ],
          "name": "stdout"
        }
      ]
    },
    {
      "cell_type": "code",
      "metadata": {
        "colab": {
          "base_uri": "https://localhost:8080/"
        },
        "id": "FuD28Rqsg0FC",
        "outputId": "abcdc752-f94d-4a34-9ef9-468b4d24e97b"
      },
      "source": [
        "import random\n",
        "\n",
        "random.randint(0, 10)"
      ],
      "execution_count": 13,
      "outputs": [
        {
          "output_type": "execute_result",
          "data": {
            "text/plain": [
              "10"
            ]
          },
          "metadata": {
            "tags": []
          },
          "execution_count": 13
        }
      ]
    },
    {
      "cell_type": "code",
      "metadata": {
        "id": "FhUYuRL5g0Sn"
      },
      "source": [
        "# 가위 바위 보 게임\n",
        "\n",
        "\"\"\"\n",
        "(가위, 바위, 보) 중에서 하나를 입력 : 가위(엔터)\n",
        "컴퓨터 : 보, 사용자 : 가위 가위 바위 보 게임\n",
        "사용자 승\n",
        "\"\"\""
      ],
      "execution_count": null,
      "outputs": []
    },
    {
      "cell_type": "code",
      "metadata": {
        "colab": {
          "base_uri": "https://localhost:8080/"
        },
        "id": "09Drk6fQg0ia",
        "outputId": "7110141e-7163-4f27-8148-50363bfb90d9"
      },
      "source": [
        "import random\n",
        "import sys\n",
        "\n",
        "print(\"가위 바위 보 게임\\n\")\n",
        "# 0 : 가위, 1 : 바위, 보 : 2\n",
        "client = input(\"(가위, 바위, 보) 중에서 하나를 입력 : \")\n",
        "if client == \"가위\":\n",
        "  a = 0\n",
        "elif client == \"바위\":\n",
        "  a = 1\n",
        "elif client == \"보\":\n",
        "  a = 2\n",
        "else:\n",
        "  sys.exit(\"입력 오류입니다.\")\n",
        "\n",
        "  \n",
        "b = random.randint(0, 2)\n",
        "\n",
        "if b == 0:\n",
        "  print(\"상대방은 가위입니다\")\n",
        "elif b == 1:\n",
        "  print(\"상대방은 바위입니다\")\n",
        "else:\n",
        "  print(\"상대방은 보자기입니다\")\n",
        "\n",
        "if a == 0:\n",
        "  if b == 0:\n",
        "    print(\"비겼습니다\")\n",
        "  elif b == 1:\n",
        "    print(\"졌습니다\")\n",
        "  else:\n",
        "    print(\"이겼습니다\")\n",
        "\n",
        "if a == 1:\n",
        "  if b == 0:\n",
        "    print(\"이겼습니다\")\n",
        "  elif b == 1:\n",
        "    print(\"비겼습니다\")\n",
        "  else:\n",
        "    print(\"졌습니다\")\n",
        "\n",
        "if a == 2:\n",
        "  if b == 0:\n",
        "    print(\"졌습니다\")\n",
        "  elif b == 1:\n",
        "    print(\"이겼습니다\")\n",
        "  else:\n",
        "    print(\"비겼습니다\")\n",
        "\n"
      ],
      "execution_count": 29,
      "outputs": [
        {
          "output_type": "stream",
          "text": [
            "가위 바위 보 게임\n",
            "\n",
            "(가위, 바위, 보) 중에서 하나를 입력 : 가위\n",
            "상대방은 바위입니다\n",
            "졌습니다\n"
          ],
          "name": "stdout"
        }
      ]
    },
    {
      "cell_type": "code",
      "metadata": {
        "colab": {
          "base_uri": "https://localhost:8080/"
        },
        "id": "L_An39VWOuDM",
        "outputId": "1b537ea4-ecac-4efc-8da0-7f153877c17d"
      },
      "source": [
        "print(\"가위 바위 보 게임\\n==================\")\n",
        "\n",
        "import random\n",
        "import sys\n",
        "\n",
        "# 0 : 가위, 1 : 바위, 보 : 2\n",
        "\n",
        "client = input(\"(가위, 바위, 보) 중에서 하나를 입력 : \")\n",
        "if client == \"가위\":\n",
        "  a = 0\n",
        "elif client == \"바위\":\n",
        "  a = 1\n",
        "elif client == \"보\":\n",
        "  a = 2\n",
        "else:\n",
        "  sys.exit(\"입력 오류입니다.\")\n",
        "\n",
        "  \n",
        "b = random.randint(0, 2)\n",
        "\n",
        "if b == 0:\n",
        "  print(\"상대방은 '가위'입니다\")\n",
        "elif b == 1:\n",
        "  print(\"상대방은 '바위'입니다\")\n",
        "else:\n",
        "  print(\"상대방은 '보'입니다\")\n",
        "\n",
        "if a - b == 1 or a - b == -2:\n",
        "  print(\"이겼습니다\")\n",
        "\n",
        "if a - b == -1 or a - b == 2:\n",
        "  print(\"졌습니다\")\n",
        "\n",
        "if a == b:\n",
        "  print(\"비겼습니다\")"
      ],
      "execution_count": 106,
      "outputs": [
        {
          "output_type": "stream",
          "text": [
            "가위 바위 보 게임\n",
            "==================\n",
            "(가위, 바위, 보) 중에서 하나를 입력 : 가위\n",
            "상대방은 '보'입니다\n",
            "이겼습니다\n"
          ],
          "name": "stdout"
        }
      ]
    },
    {
      "cell_type": "markdown",
      "metadata": {
        "id": "DZ1Nr08usx9p"
      },
      "source": [
        "---\n",
        "### (2) while\n",
        "\n",
        "+ 문법\n",
        "\n",
        "    while 조건식:\n",
        "        문장\n",
        "        ..."
      ]
    },
    {
      "cell_type": "code",
      "metadata": {
        "colab": {
          "base_uri": "https://localhost:8080/"
        },
        "id": "eK55ClcXu3Tm",
        "outputId": "7aaeee27-445f-4d4a-a651-fdb7f4de407d"
      },
      "source": [
        "print(\"**********\")\n",
        "print(\"*\"*10)\n",
        "\n",
        "cnt = 0\n",
        "while cnt < 10:\n",
        "  cnt += 1\n",
        "  print(\"*\", end = \"\")\n",
        "print(\"\\n\")\n",
        "\n",
        "cnt = 0\n",
        "while cnt < 10:\n",
        "  cnt += 1\n",
        "  print(\"*\", end = \"\\t\")"
      ],
      "execution_count": 8,
      "outputs": [
        {
          "output_type": "stream",
          "text": [
            "**********\n",
            "**********\n",
            "**********\n",
            "\n",
            "*\t*\t*\t*\t*\t*\t*\t*\t*\t*\t"
          ],
          "name": "stdout"
        }
      ]
    },
    {
      "cell_type": "code",
      "metadata": {
        "colab": {
          "base_uri": "https://localhost:8080/"
        },
        "id": "L009WZWQzjhE",
        "outputId": "28203a34-004b-434f-eb4a-06b3386e7954"
      },
      "source": [
        "# 1부터 10까지의 합계\n",
        "\n",
        "a = 0\n",
        "b = 0\n",
        "\n",
        "while a < 11:\n",
        "  b += a\n",
        "  a += 1\n",
        "\n",
        "print(b)\n"
      ],
      "execution_count": 27,
      "outputs": [
        {
          "output_type": "stream",
          "text": [
            "55\n"
          ],
          "name": "stdout"
        }
      ]
    },
    {
      "cell_type": "code",
      "metadata": {
        "colab": {
          "base_uri": "https://localhost:8080/"
        },
        "id": "GgNCbG_a330X",
        "outputId": "641ba39b-0a14-4b11-bde8-4fb03fb87454"
      },
      "source": [
        "# 2의 10승 : 1024\n",
        "\n",
        "cnt = 0\n",
        "sum = 1\n",
        "\n",
        "while cnt < 10:\n",
        "  sum *= 2\n",
        "  cnt += 1\n",
        "\n",
        "print(\"결과 :\", sum)"
      ],
      "execution_count": 34,
      "outputs": [
        {
          "output_type": "stream",
          "text": [
            "결과 : 1024\n"
          ],
          "name": "stdout"
        }
      ]
    },
    {
      "cell_type": "markdown",
      "metadata": {
        "id": "BcPqzOX95DlQ"
      },
      "source": [
        "---\n",
        "### (3) for\n",
        "\n",
        "+ 문법\n",
        "\n",
        "    for 변수 in 집합자료형:\n",
        "        문장\n",
        "        ..."
      ]
    },
    {
      "cell_type": "code",
      "metadata": {
        "colab": {
          "base_uri": "https://localhost:8080/"
        },
        "id": "SgmApjnc6Bij",
        "outputId": "1cebd1e5-6e05-4556-c7c2-fa448a4baeb4"
      },
      "source": [
        "data = [10, 20, \"홍길동\", 3.14, True]\n",
        "\n",
        "cnt = 0\n",
        "\n",
        "while cnt < 5:\n",
        "  print(data[cnt])\n",
        "  cnt += 1\n",
        "print(\"--------------\\n\")\n",
        "\n",
        "for val in data:\n",
        "  print(val)\n",
        "print(\"--------------\\n\")\n",
        "\n",
        "for i in range(5):\n",
        "  print(data[i])\n",
        "print(\"--------------\\n\")\n",
        "\n",
        "for i in range(10):\n",
        "  print(\"*\", end = \"\")\n"
      ],
      "execution_count": 45,
      "outputs": [
        {
          "output_type": "stream",
          "text": [
            "10\n",
            "20\n",
            "홍길동\n",
            "3.14\n",
            "True\n",
            "--------------\n",
            "\n",
            "10\n",
            "20\n",
            "홍길동\n",
            "3.14\n",
            "True\n",
            "--------------\n",
            "\n",
            "10\n",
            "20\n",
            "홍길동\n",
            "3.14\n",
            "True\n",
            "--------------\n",
            "\n",
            "**********"
          ],
          "name": "stdout"
        }
      ]
    },
    {
      "cell_type": "markdown",
      "metadata": {
        "id": "-qzlU7n692c6"
      },
      "source": [
        "---\n",
        "#### (4) 반복문의 강제 종료\n",
        "\n",
        "  * break : 완전 종료\n",
        "  * continue : 일시 종료"
      ]
    },
    {
      "cell_type": "code",
      "metadata": {
        "colab": {
          "base_uri": "https://localhost:8080/"
        },
        "id": "_bLb5Ez7-YnJ",
        "outputId": "501ade03-991a-45a8-c0c4-78c9754ba526"
      },
      "source": [
        "for v in range(10):\n",
        "  if v == 5:\n",
        "    break\n",
        "  print(v)\n",
        "print(\"---------------\\n\")\n",
        "\n",
        "for v in range(10):\n",
        "  if v == 5:\n",
        "    continue\n",
        "  print(v)\n",
        "print(\"---------------\\n\")\n",
        "\n",
        "cnt + 0\n",
        "while True:\n",
        "  if cnt == 20:\n",
        "    break\n",
        "  print(\"*\", end = \"\")\n",
        "  cnt += 1"
      ],
      "execution_count": 50,
      "outputs": [
        {
          "output_type": "stream",
          "text": [
            "0\n",
            "1\n",
            "2\n",
            "3\n",
            "4\n",
            "---------------\n",
            "\n",
            "0\n",
            "1\n",
            "2\n",
            "3\n",
            "4\n",
            "6\n",
            "7\n",
            "8\n",
            "9\n",
            "---------------\n",
            "\n",
            "***************"
          ],
          "name": "stdout"
        }
      ]
    },
    {
      "cell_type": "markdown",
      "metadata": {
        "id": "Hc6N8khjHNLb"
      },
      "source": [
        "---\n",
        "#### (5) 반복문의 중첩\n"
      ]
    },
    {
      "cell_type": "code",
      "metadata": {
        "colab": {
          "base_uri": "https://localhost:8080/"
        },
        "id": "KnYoMLn5HMTt",
        "outputId": "597df49f-febd-4bc2-fa6b-7d3eef72a51a"
      },
      "source": [
        "\"\"\"\n",
        "**********\n",
        "**********\n",
        "**********\n",
        "\"\"\"\n",
        "\n",
        "for v1 in range(3): # 행의 반복 횟수\n",
        "  for v2 in range(10): # 열의 반복 횟수\n",
        "    print(\"*\", end = \"\")\n",
        "  print()  "
      ],
      "execution_count": 51,
      "outputs": [
        {
          "output_type": "stream",
          "text": [
            "**********\n",
            "**********\n",
            "**********\n"
          ],
          "name": "stdout"
        }
      ]
    },
    {
      "cell_type": "code",
      "metadata": {
        "colab": {
          "base_uri": "https://localhost:8080/"
        },
        "id": "Z6_zb2rkJgDy",
        "outputId": "ad1e8594-8509-4084-fba9-511000556db7"
      },
      "source": [
        "\"\"\"\n",
        "*\n",
        "**\n",
        "***\n",
        "****\n",
        "*****\n",
        "\"\"\"\n",
        "\n",
        "for v1 in range(6):\n",
        "  for v2 in range(v1):\n",
        "    print(\"*\", end = \"\")\n",
        "  print()\n",
        "print(\"---------------\\n\")\n",
        "\n",
        "i = 1\n",
        "for v1 in range(6):\n",
        "  for v2 in range(i):\n",
        "    print(\"*\", end = \"\")\n",
        "  i += 1\n",
        "  print()"
      ],
      "execution_count": 59,
      "outputs": [
        {
          "output_type": "stream",
          "text": [
            "\n",
            "*\n",
            "**\n",
            "***\n",
            "****\n",
            "*****\n",
            "---------------\n",
            "\n",
            "*\n",
            "**\n",
            "***\n",
            "****\n",
            "*****\n",
            "******\n"
          ],
          "name": "stdout"
        }
      ]
    },
    {
      "cell_type": "code",
      "metadata": {
        "colab": {
          "base_uri": "https://localhost:8080/"
        },
        "id": "FwCF7GVBLP6y",
        "outputId": "59022576-6659-415f-f7b4-bf08ce77f822"
      },
      "source": [
        "print(\"\\n==================\")\n",
        "\"\"\"\n",
        "    *          \n",
        "   ***          \n",
        "  *****        \n",
        " *******       \n",
        "*********      \n",
        "\"\"\"\n",
        "\n",
        "i = 1\n",
        "for v1 in range(5): \n",
        "  for blank in range(5-i): # 빈칸\n",
        "    print(\" \", end = \"\")\n",
        "  for v2 in range(2*i-1): # 별\n",
        "    print(\"*\", end = \"\")\n",
        "  i += 1\n",
        "  print()\n",
        "\n"
      ],
      "execution_count": 107,
      "outputs": [
        {
          "output_type": "stream",
          "text": [
            "\n",
            "==================\n",
            "    *\n",
            "   ***\n",
            "  *****\n",
            " *******\n",
            "*********\n"
          ],
          "name": "stdout"
        }
      ]
    },
    {
      "cell_type": "markdown",
      "metadata": {
        "id": "M505OfO2NFfl"
      },
      "source": [
        "---\n",
        "### (6) List Comprehension"
      ]
    },
    {
      "cell_type": "code",
      "metadata": {
        "id": "ILRhJQVeNFGc"
      },
      "source": [
        "# [0 ~ 9]\n",
        "\n",
        "result = []\n",
        "for i in range(10):\n",
        "  result.append(i)\n",
        "\n",
        "print(result)\n",
        "\n",
        "###########################################\n",
        "\n",
        "result = [i for i in range(10)]\n",
        "print(result)\n",
        "\n",
        "###########################################\n",
        "\n",
        "result = [i for i in range(10) if i%2 == 0]\n",
        "print(result)\n",
        "\n",
        "###########################################\n",
        "\n",
        "c1 = [\"A\", \"B\", \"C\"]\n",
        "c2 = [\"D\", \"E\", \"A\"]\n",
        "\n",
        "result = [i+j for i in c1 for j in c2]\n",
        "print(result)\n",
        "\n",
        "###########################################\n",
        "\n",
        "c1 = [\"A\", \"B\", \"C\"]\n",
        "c2 = [\"D\", \"E\", \"A\"]\n",
        "\n",
        "result = [i+j for i in c1 for j in c2 if i != j]\n",
        "print(result)\n",
        "\n",
        "###########################################\n",
        "\n",
        "c1 = [\"A\", \"B\", \"C\"]\n",
        "c2 = [\"D\", \"E\", \"A\"]\n",
        "\n",
        "result = [[j+i for i in c2] for j in c1]\n",
        "print(result)\n",
        "\n",
        "###########################################\n",
        "\n",
        "result = []\n",
        "temp = []\n",
        "for row in c1:\n",
        "  for col in c2:\n",
        "    temp.append(row+col)\n",
        "\n",
        "  result.append(temp)\n",
        "  temp = []\n",
        "\n",
        "print(result)\n",
        "\n",
        "###########################################\n",
        "\n",
        "words = \"some where over the rainbow way up high\".split()\n",
        "result = [[word.upper(), word,len(word)]for word in words]\n",
        "for word in result:\n",
        "  print(word)"
      ],
      "execution_count": null,
      "outputs": []
    },
    {
      "cell_type": "code",
      "metadata": {
        "id": "So-uqlX3RnmD"
      },
      "source": [
        "---\n",
        "#### (7) 실행 파일 만들기(exe파일 만들기)\n",
        "\n",
        "+ pyinstall, py2exe.....\n",
        "+ pip install py installer\n",
        "+ https://media.readthedocs.org/pdf/pyinstaller/cross-compiling/pyinstaller.pdf\n",
        "+ pyinstaller 파일명.py\n",
        "+ pyinstaller -F 파일명.py (pyinstaller --onefile 파일명.py)"
      ],
      "execution_count": null,
      "outputs": []
    },
    {
      "cell_type": "markdown",
      "metadata": {
        "id": "rX-lNWBKPaVH"
      },
      "source": [
        "---\n",
        "#### 문제1\n",
        "\n",
        "전자계산기 프로그램을 반복문을 이용하여 업그레이드\n",
        "(끝나는 조건은 연산자에 x를 입력하면 종료)"
      ]
    },
    {
      "cell_type": "markdown",
      "metadata": {
        "id": "qLuBRxXlP7V0"
      },
      "source": [
        "---\n",
        "#### 문제2\n",
        "\n",
        "가위바위보 게임을 반복문을 이용하여 업그레이드<br>\n",
        "(끝나는 조건은 x나 q를 입력하면 종료)\n",
        "\n",
        "끝날 때 결과에 ?승 ?패를 출력"
      ]
    },
    {
      "cell_type": "markdown",
      "metadata": {
        "id": "vU5ODgxJQc-Z"
      },
      "source": [
        "---\n",
        "#### 문제3\n",
        "\n",
        "숫자를 입력받아 짝수의 합과 홀수의 합을 구하시오.(0을 입력하면 종료)\n",
        "\n",
        "숫자1: 2<br>\n",
        "숫자2: 3<br>\n",
        "숫자3: 1<br>\n",
        "숫자4: 0\n",
        "\n",
        "--------\n",
        "\n",
        "짝수의 합:?<br>\n",
        "홀수의 합:?"
      ]
    },
    {
      "cell_type": "markdown",
      "metadata": {
        "id": "ZGtFxYUARjnx"
      },
      "source": [
        "---\n",
        "#### 문제4\n",
        "\n",
        "숫자 맞추기 게임\n",
        "\n",
        "예시)\n",
        "1부터 100사이의 숫자를 맞추시오\n",
        "\n",
        "숫자 입력 : 50\n",
        "낮음!\n",
        "\n",
        "숫자 입력 : 75\n",
        "낮음!\n",
        "\n",
        "...\n",
        "\n",
        "숫자 입력 : 89<br>\n",
        "정답입니다. 시도 횟수는 ?번입니다."
      ]
    },
    {
      "cell_type": "code",
      "metadata": {
        "id": "c7FFzJVeSnhG"
      },
      "source": [
        "#### 문제5\n",
        "\n",
        "\"\"\"\n",
        "친구 관리 프로그램\n",
        "====================\n",
        "\n",
        "1.친구 리스트 출력\n",
        "2.친구 추가\n",
        "3.친구 삭제\n",
        "4.이름 변경\n",
        "9.종료\n",
        "메뉴를 선택 : 2 (엔터)\n",
        "이름을 입력 : 홍길동 (엔터)\n",
        "-----------------------\n",
        "1.친구 리스트 출력\n",
        "2.친구 추가\n",
        "3.친구 삭제\n",
        "4.이름 변경\n",
        "9.종료\n",
        "메뉴를 선택 : 2 (엔터)\n",
        "이름을 입력 : 임꺽정 (엔터)\n",
        "-----------------------\n",
        "1.친구 리스트 출력\n",
        "2.친구 추가\n",
        "3.친구 삭제\n",
        "4.이름 변경\n",
        "9.종료\n",
        "메뉴를 선택 : 1 (엔터)\n",
        "[\"홍길동\", \"임꺽정\"]\n",
        "----------------------\n",
        "1.친구 리스트 출력\n",
        "2.친구 추가\n",
        "3.친구 삭제\n",
        "4.이름 변경\n",
        "9.종료\n",
        "메뉴를 선택 : 4 (엔터)\n",
        "변경할 이름 선택 : 홍길동 (엔터)\n",
        "변경하고 싶은 이름 입력 : 홍길순 (엔터)\n",
        "-------------------------------\n",
        "1.친구 리스트 출력\n",
        "2.친구 추가\n",
        "3.친구 삭제\n",
        "4.이름 변경\n",
        "9.종료\n",
        "메뉴를 선택 : 1 (엔터)\n",
        "[\"홍길순\", \"임꺽정\"]\n",
        "-------------------------------\n",
        "1.친구 리스트 출력\n",
        "2.친구 추가\n",
        "3.친구 삭제\n",
        "4.이름 변경\n",
        "9.종료\n",
        "메뉴를 선택 : 3 (엔터)\n",
        "삭제할 이름 입력 : 홍길순\n",
        "------------------------------\n",
        "\"\"\""
      ],
      "execution_count": null,
      "outputs": []
    },
    {
      "cell_type": "code",
      "metadata": {
        "id": "ykZluE_cbOlr"
      },
      "source": [
        ""
      ],
      "execution_count": null,
      "outputs": []
    },
    {
      "cell_type": "code",
      "metadata": {
        "id": "svidn6M5xUMn"
      },
      "source": [
        ""
      ],
      "execution_count": null,
      "outputs": []
    }
  ]
}