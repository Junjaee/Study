{
  "nbformat": 4,
  "nbformat_minor": 0,
  "metadata": {
    "colab": {
      "name": "SQL 연습문제.ipynb",
      "provenance": [],
      "collapsed_sections": [],
      "authorship_tag": "ABX9TyOS3rRk9BW4dxPvm5+HaR8y",
      "include_colab_link": true
    },
    "kernelspec": {
      "name": "python3",
      "display_name": "Python 3"
    },
    "language_info": {
      "name": "python"
    }
  },
  "cells": [
    {
      "cell_type": "markdown",
      "metadata": {
        "id": "view-in-github",
        "colab_type": "text"
      },
      "source": [
        "<a href=\"https://colab.research.google.com/github/Junjaee/Study/blob/main/SQL/SQL_%EC%97%B0%EC%8A%B5%EB%AC%B8%EC%A0%9C.ipynb\" target=\"_parent\"><img src=\"https://colab.research.google.com/assets/colab-badge.svg\" alt=\"Open In Colab\"/></a>"
      ]
    },
    {
      "cell_type": "code",
      "metadata": {
        "id": "x1hNhD83TZ5L"
      },
      "source": [
        "# 연습문제 1\n",
        "\n",
        "# 1. 1981년에 입사한 사람의 이름, 업무, 입사일자 조회\n",
        "SELECT ename, job, HIREDATE FROM emp WHERE HIREDATE BETWEEN 19810101 AND 19811231;\n",
        "\n",
        "# 2. 사번이 7902, 7788, 7566인 사원의 이름, 업무, 급여, 입사일자 조회\n",
        "SELECT ename, job, sal, HIREDATE FROM emp WHERE EMPNO IN (7902, 7788, 7566);\n",
        "\n",
        "# 3. 업무가 manager, clerk, analyst가 아닌 직원의 이름, 업무, 급여, 부서번호 조회\n",
        "SELECT ename, job, sal, DEPTNO FROM emp WHERE job NOT IN ('manager','clerk','analyst');\n",
        "\n",
        "# 4. 업무가 president 또는 salesman이고 급여가 1500인 직원의 이름, 급여, 업무, 부서번호 조회\n",
        "SELECT ename, sal, job, DEPTNO FROM emp WHERE job IN ('presidient','salesman') AND sal = 1500;\n",
        "\n",
        "# 5. 가장 최근에 입사한 직원의 이름, 부서, 업무, 입사일자 조회\n",
        "SELECT ename, DEPTNO, job, HIREDATE FROM emp WHERE hiredate = (SELECT MAX(HIREDATE) FROM emp);\n",
        "\n",
        "# 6. 같은 부서내에서 같은 업무를 하는 직원의 급여가 많은 순으로 조회\n",
        "SELECT ename, job, deptno, sal FROM emp ORDER BY deptno, job, sal DESC;\n",
        "\n",
        "# 7. 커미션이 급여보다 10%이상 많은 직원의 급여가 많은 순으로 조회\n",
        "SELECT ename, job, deptno, sal, comm FROM emp WHERE comm >= sal*1.1 ORDER BY sal DESC; \n",
        "\n",
        "# 8. 이름에 L자가 2개 있고 30번 부서이거나 직속상사가 7782인 직원의 이름, 부서, 직속상사 조회\n",
        "SELECT ename, deptno, mgr FROM emp WHERE ename LIKE '%L%L%' AND (deptno = 30 OR mgr = 7782)"
      ],
      "execution_count": null,
      "outputs": []
    }
  ]
}