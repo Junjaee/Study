{
  "nbformat": 4,
  "nbformat_minor": 0,
  "metadata": {
    "colab": {
      "name": "06_예외처리와 정규표현식.ipynb",
      "provenance": [],
      "collapsed_sections": [],
      "authorship_tag": "ABX9TyNesZmkQDJRhOkeDGlHoEeC",
      "include_colab_link": true
    },
    "kernelspec": {
      "name": "python3",
      "display_name": "Python 3"
    },
    "language_info": {
      "name": "python"
    }
  },
  "cells": [
    {
      "cell_type": "markdown",
      "metadata": {
        "id": "view-in-github",
        "colab_type": "text"
      },
      "source": [
        "<a href=\"https://colab.research.google.com/github/Junjaee/Study/blob/main/Python/06_%EC%98%88%EC%99%B8%EC%B2%98%EB%A6%AC%EC%99%80_%EC%A0%95%EA%B7%9C%ED%91%9C%ED%98%84%EC%8B%9D.ipynb\" target=\"_parent\"><img src=\"https://colab.research.google.com/assets/colab-badge.svg\" alt=\"Open In Colab\"/></a>"
      ]
    },
    {
      "cell_type": "markdown",
      "metadata": {
        "id": "MGbFtxEwAXkd"
      },
      "source": [
        "## 1. 예외 처리\n",
        "\n",
        "#### (1) 예회처리를 하는 이유\n",
        "+ 자연스러운 예회 메시지를 출력\n",
        "+ 프로그램의 비정상적인 종료를 방지\n",
        "\n",
        "#### (2) 문법\n",
        "\n",
        "    try :\n",
        "        코드\n",
        "        ...\n",
        "\n",
        "    except[예외처리 클래스[as 변수]]:\n",
        "        코드\n",
        "        ...\n",
        "\n",
        "    [else :\n",
        "        코드(예외가 발생하지 않았을 때 실행)\n",
        "        ...]\n",
        "\n",
        "    [finally:\n",
        "        코드(예외 발생과는 무관하게 반드시 실행)\n",
        "        ...]\n",
        "\n"
      ]
    },
    {
      "cell_type": "code",
      "metadata": {
        "colab": {
          "base_uri": "https://localhost:8080/"
        },
        "id": "ZZOWKc09ABjJ",
        "outputId": "f396ff48-f229-4848-b159-d5b9a6ebb645"
      },
      "source": [
        "def test(num):\n",
        "  result = 10/num\n",
        "  print(result)\n",
        "\n",
        "  print(\"나머지 코드 실행~~~\")\n",
        "\n",
        "########################################\n",
        "\n",
        "test(3)\n",
        "test(2)\n",
        "# test(0) # 오류난다"
      ],
      "execution_count": 2,
      "outputs": [
        {
          "output_type": "stream",
          "text": [
            "3.3333333333333335\n",
            "나머지 코드 실행~~~\n",
            "5.0\n",
            "나머지 코드 실행~~~\n"
          ],
          "name": "stdout"
        }
      ]
    },
    {
      "cell_type": "code",
      "metadata": {
        "colab": {
          "base_uri": "https://localhost:8080/"
        },
        "id": "Gqr2uEoQFaiz",
        "outputId": "0da4f50f-48f7-4615-937f-3121522b267a"
      },
      "source": [
        "def test(num):\n",
        "  try:\n",
        "    result = 10/num\n",
        "    print(result)\n",
        "  except:\n",
        "    print(\"에러!\")\n",
        "\n",
        "  print(\"나머지 코드 실행~~~\")\n",
        "\n",
        "########################################\n",
        "\n",
        "test(3)\n",
        "test(2)\n",
        "test(0) # 오류 안난다"
      ],
      "execution_count": 5,
      "outputs": [
        {
          "output_type": "stream",
          "text": [
            "3.3333333333333335\n",
            "나머지 코드 실행~~~\n",
            "5.0\n",
            "나머지 코드 실행~~~\n",
            "에러!\n",
            "나머지 코드 실행~~~\n"
          ],
          "name": "stdout"
        }
      ]
    },
    {
      "cell_type": "code",
      "metadata": {
        "colab": {
          "base_uri": "https://localhost:8080/"
        },
        "id": "GDzAxwphFaWq",
        "outputId": "44a615f7-8648-48cc-d9c1-9169234114bd"
      },
      "source": [
        "def test(num):\n",
        "  try:\n",
        "    result = 10/num\n",
        "    print(result)\n",
        "  except ZeroDivisionError:\n",
        "    print(\"0으로 나누면 안됩니다\")\n",
        "  except:\n",
        "    print(\"에러!\")\n",
        "\n",
        "  print(\"나머지 코드 실행~~~\")\n",
        "\n",
        "########################################\n",
        "\n",
        "test(3)\n",
        "test(2)\n",
        "test(0) # 오류 안난다\n",
        "test(\"a\")"
      ],
      "execution_count": 8,
      "outputs": [
        {
          "output_type": "stream",
          "text": [
            "3.3333333333333335\n",
            "나머지 코드 실행~~~\n",
            "5.0\n",
            "나머지 코드 실행~~~\n",
            "0으로 나누면 안됩니다\n",
            "나머지 코드 실행~~~\n",
            "에러!\n",
            "나머지 코드 실행~~~\n"
          ],
          "name": "stdout"
        }
      ]
    },
    {
      "cell_type": "code",
      "metadata": {
        "colab": {
          "base_uri": "https://localhost:8080/"
        },
        "id": "zs2Rn7b1FaEy",
        "outputId": "f2ddcaa1-3373-40be-ddd8-104de7d2b1b1"
      },
      "source": [
        "# () 안에 에러 묶기\n",
        "\n",
        "def test(num):\n",
        "  try:\n",
        "    result = 10/num\n",
        "    print(result)\n",
        "\n",
        "    arr = [0, 1, 2]\n",
        "    print(arr[num])\n",
        "  except (ZeroDivisionError, IndexError):\n",
        "    print(\"0으로 나누면 안됩니다 or 인덱스 에러!\")\n",
        "  \n",
        "  except:\n",
        "    print(\"에러!\")\n",
        "\n",
        "  print(\"나머지 코드 실행~~~\")\n",
        "\n",
        "########################################\n",
        "\n",
        "test(5)\n",
        "test(2)\n",
        "test(0) # 오류 안난다\n",
        "test(\"a\")"
      ],
      "execution_count": 12,
      "outputs": [
        {
          "output_type": "stream",
          "text": [
            "2.0\n",
            "0으로 나누면 안됩니다 or 인덱스 에러!\n",
            "나머지 코드 실행~~~\n",
            "5.0\n",
            "2\n",
            "나머지 코드 실행~~~\n",
            "0으로 나누면 안됩니다 or 인덱스 에러!\n",
            "나머지 코드 실행~~~\n",
            "에러!\n",
            "나머지 코드 실행~~~\n"
          ],
          "name": "stdout"
        }
      ]
    },
    {
      "cell_type": "code",
      "metadata": {
        "colab": {
          "base_uri": "https://localhost:8080/"
        },
        "id": "NPfw0-s3PPk3",
        "outputId": "8ddf9eca-7af0-4d11-a6f3-a25eb947b476"
      },
      "source": [
        "# as e 로 에러 내용 보여주기\n",
        "\n",
        "def test(num):\n",
        "  try:\n",
        "    result = 10/num\n",
        "    print(result)\n",
        "\n",
        "    arr = [0, 1, 2]\n",
        "    print(arr[num])\n",
        "  except ZeroDivisionError as e:\n",
        "    print(\"0으로 나누면 안됩니다\", e)\n",
        "  except IndexError as e:\n",
        "    print(\"인덱스 에러!\", e)\n",
        "  except:\n",
        "    print(\"에러!\")\n",
        "\n",
        "  print(\"나머지 코드 실행~~~\")\n",
        "\n",
        "########################################\n",
        "\n",
        "test(5)\n",
        "test(2)\n",
        "test(0) # 오류 안난다\n",
        "test(\"a\")"
      ],
      "execution_count": 13,
      "outputs": [
        {
          "output_type": "stream",
          "text": [
            "2.0\n",
            "인덱스 에러! list index out of range\n",
            "나머지 코드 실행~~~\n",
            "5.0\n",
            "2\n",
            "나머지 코드 실행~~~\n",
            "0으로 나누면 안됩니다 division by zero\n",
            "나머지 코드 실행~~~\n",
            "에러!\n",
            "나머지 코드 실행~~~\n"
          ],
          "name": "stdout"
        }
      ]
    },
    {
      "cell_type": "code",
      "metadata": {
        "colab": {
          "base_uri": "https://localhost:8080/"
        },
        "id": "5jqCwmJwSxr5",
        "outputId": "62d1310b-b90a-40cf-fe39-94e4ba362a65"
      },
      "source": [
        "# else : 에러 없이 통과 했을때 발현\n",
        "\n",
        "def test(num):\n",
        "  try:\n",
        "    result = 10/num\n",
        "    print(result)\n",
        "\n",
        "    arr = [0, 1, 2]\n",
        "    print(arr[num])\n",
        "  except ZeroDivisionError as e:\n",
        "    print(\"0으로 나누면 안됩니다\", e)\n",
        "  except IndexError as e:\n",
        "    print(\"인덱스 에러!\", e)\n",
        "  except:\n",
        "    print(\"에러!\")\n",
        "  else:\n",
        "    print(\"나머지 코드 실행~~~\")\n",
        "\n",
        "########################################\n",
        "\n",
        "test(5)\n",
        "print(\"===================\")\n",
        "test(2)\n",
        "print(\"===================\")\n",
        "test(0) # 오류 안난다\n",
        "print(\"===================\")\n",
        "test(\"a\")"
      ],
      "execution_count": 15,
      "outputs": [
        {
          "output_type": "stream",
          "text": [
            "2.0\n",
            "인덱스 에러! list index out of range\n",
            "===================\n",
            "5.0\n",
            "2\n",
            "나머지 코드 실행~~~\n",
            "===================\n",
            "0으로 나누면 안됩니다 division by zero\n",
            "===================\n",
            "에러!\n"
          ],
          "name": "stdout"
        }
      ]
    },
    {
      "cell_type": "code",
      "metadata": {
        "colab": {
          "base_uri": "https://localhost:8080/"
        },
        "id": "bn2lXKywUTgI",
        "outputId": "2c1c3350-28e0-43b8-e0b8-b7712c5052ae"
      },
      "source": [
        "# finally : 무조건 실행\n",
        "\n",
        "def test(num):\n",
        "  try:\n",
        "    result = 10/num\n",
        "    print(result)\n",
        "\n",
        "    arr = [0, 1, 2]\n",
        "    print(arr[num])\n",
        "  except ZeroDivisionError as e:\n",
        "    print(\"0으로 나누면 안됩니다\", e)\n",
        "  except IndexError as e:\n",
        "    print(\"인덱스 에러!\", e)\n",
        "  except:\n",
        "    print(\"에러!\")\n",
        "  else:\n",
        "    print(\"나머지 코드 실행~~~\")\n",
        "  finally:\n",
        "    print(\"이건 무조건 실행\")\n",
        "\n",
        "########################################\n",
        "\n",
        "test(5)\n",
        "print(\"===================\")\n",
        "test(2)\n",
        "print(\"===================\")\n",
        "test(0) # 오류 안난다\n",
        "print(\"===================\")\n",
        "test(\"a\")"
      ],
      "execution_count": 18,
      "outputs": [
        {
          "output_type": "stream",
          "text": [
            "2.0\n",
            "인덱스 에러! list index out of range\n",
            "이건 무조건 실행\n",
            "===================\n",
            "5.0\n",
            "2\n",
            "나머지 코드 실행~~~\n",
            "이건 무조건 실행\n",
            "===================\n",
            "0으로 나누면 안됩니다 division by zero\n",
            "이건 무조건 실행\n",
            "===================\n",
            "에러!\n",
            "이건 무조건 실행\n"
          ],
          "name": "stdout"
        }
      ]
    },
    {
      "cell_type": "code",
      "metadata": {
        "colab": {
          "base_uri": "https://localhost:8080/"
        },
        "id": "Zp13VynSV2eB",
        "outputId": "e9428174-78e8-4a90-9958-29de07f44fc4"
      },
      "source": [
        "# finally를 사용하는 이유 -> except 에러 이후 return을 하는 경우에도 finally 구문을 실행한다(try문 밖에 있으면 실행하지 않는다)\n",
        "\n",
        "def test(num):\n",
        "  try:\n",
        "    result = 10/num\n",
        "    print(result)\n",
        "\n",
        "    arr = [0, 1, 2]\n",
        "    print(arr[num])\n",
        "  except ZeroDivisionError as e:\n",
        "    print(\"0으로 나누면 안됩니다\", e)\n",
        "    return\n",
        "  except IndexError as e:\n",
        "    print(\"인덱스 에러!\", e)\n",
        "    return\n",
        "  except:\n",
        "    print(\"에러!\")\n",
        "    return\n",
        "  else:\n",
        "    print(\"나머지 코드 실행~~~\")\n",
        "  finally:\n",
        "    print(\"이건 무조건 실행\")\n",
        "  print(\"이거는 선택적 실행\") # except때문에 return될 겨우 실행되지 않는다\n",
        "########################################\n",
        "\n",
        "test(5)\n",
        "print(\"===================\")\n",
        "test(2)\n",
        "print(\"===================\")\n",
        "test(0) # 오류 안난다\n",
        "print(\"===================\")\n",
        "test(\"a\")"
      ],
      "execution_count": 22,
      "outputs": [
        {
          "output_type": "stream",
          "text": [
            "2.0\n",
            "인덱스 에러! list index out of range\n",
            "이건 무조건 실행\n",
            "===================\n",
            "5.0\n",
            "2\n",
            "나머지 코드 실행~~~\n",
            "이건 무조건 실행\n",
            "이거는 선택적 실행\n",
            "===================\n",
            "0으로 나누면 안됩니다 division by zero\n",
            "이건 무조건 실행\n",
            "===================\n",
            "에러!\n",
            "이건 무조건 실행\n"
          ],
          "name": "stdout"
        }
      ]
    },
    {
      "cell_type": "code",
      "metadata": {
        "colab": {
          "base_uri": "https://localhost:8080/",
          "height": 373
        },
        "id": "fRKfK8jcXrJM",
        "outputId": "d12a59a0-ecae-40b9-e852-7f2b9201a684"
      },
      "source": [
        "# sys.exit\n",
        "\n",
        "import sys\n",
        "\n",
        "\n",
        "def test(num):\n",
        "  try:\n",
        "    result = 10/num\n",
        "    print(result)\n",
        "\n",
        "    arr = [0, 1, 2]\n",
        "    print(arr[num])\n",
        "  except ZeroDivisionError as e:\n",
        "    print(\"0으로 나누면 안됩니다\", e)\n",
        "    sys.exit() # exit를 써도 finally는 실행\n",
        "  except IndexError as e:\n",
        "    print(\"인덱스 에러!\", e)\n",
        "    return\n",
        "  except:\n",
        "    print(\"에러!\")\n",
        "    return\n",
        "  else:\n",
        "    print(\"나머지 코드 실행~~~\")\n",
        "  finally:\n",
        "    print(\"이건 무조건 실행\")\n",
        "  print(\"이거는 선택적 실행\") # except때문에 return될 겨우 실행되지 않는다\n",
        "########################################\n",
        "\n",
        "test(5)\n",
        "print(\"===================\")\n",
        "test(2)\n",
        "print(\"===================\")\n",
        "test(0) # 오류 안난다\n",
        "print(\"===================\")\n",
        "test(\"a\")"
      ],
      "execution_count": 25,
      "outputs": [
        {
          "output_type": "stream",
          "text": [
            "2.0\n",
            "인덱스 에러! list index out of range\n",
            "이건 무조건 실행\n",
            "===================\n",
            "5.0\n",
            "2\n",
            "나머지 코드 실행~~~\n",
            "이건 무조건 실행\n",
            "이거는 선택적 실행\n",
            "===================\n",
            "0으로 나누면 안됩니다 division by zero\n",
            "이건 무조건 실행\n"
          ],
          "name": "stdout"
        },
        {
          "output_type": "error",
          "ename": "SystemExit",
          "evalue": "ignored",
          "traceback": [
            "An exception has occurred, use %tb to see the full traceback.\n",
            "\u001b[0;31mSystemExit\u001b[0m\n"
          ]
        },
        {
          "output_type": "stream",
          "text": [
            "/usr/local/lib/python3.7/dist-packages/IPython/core/interactiveshell.py:2890: UserWarning: To exit: use 'exit', 'quit', or Ctrl-D.\n",
            "  warn(\"To exit: use 'exit', 'quit', or Ctrl-D.\", stacklevel=1)\n"
          ],
          "name": "stderr"
        }
      ]
    },
    {
      "cell_type": "code",
      "metadata": {
        "colab": {
          "base_uri": "https://localhost:8080/"
        },
        "id": "7Rv8Pof8YoLw",
        "outputId": "bb011b9b-5032-40bc-a017-7ec501a4fbfb"
      },
      "source": [
        "# traceback : 어디서 에러가 났는지 추적하자\n",
        "\n",
        "import traceback\n",
        "\n",
        "def third():\n",
        "  try:\n",
        "    a = 10/0\n",
        "    print(a)\n",
        "  except ZeroDivisionError as e:\n",
        "    print(\"에러원인 : \", e)\n",
        "    traceback.print_exc()\n",
        "\n",
        "def second():\n",
        "  third()\n",
        "\n",
        "def first():\n",
        "  second()\n",
        "\n",
        "#########\n",
        "\n",
        "first()"
      ],
      "execution_count": 32,
      "outputs": [
        {
          "output_type": "stream",
          "text": [
            "에러원인 :  division by zero\n"
          ],
          "name": "stdout"
        },
        {
          "output_type": "stream",
          "text": [
            "Traceback (most recent call last):\n",
            "  File \"<ipython-input-32-d09c0b1fbe82>\", line 6, in third\n",
            "    a = 10/0\n",
            "ZeroDivisionError: division by zero\n"
          ],
          "name": "stderr"
        }
      ]
    },
    {
      "cell_type": "code",
      "metadata": {
        "colab": {
          "base_uri": "https://localhost:8080/"
        },
        "id": "aPk11BQna428",
        "outputId": "96a8f83d-472a-4dd8-e049-d3cf553f363e"
      },
      "source": [
        "# 예외를 일부러 발생 : raise\n",
        "\n",
        "def test():\n",
        "  try:\n",
        "    a = 10/2\n",
        "    print(a)\n",
        "    raise ZeroDivisionError\n",
        "  except ZeroDivisionError as e:\n",
        "    print(\"0으로 나누면 안됩니다\", e)\n",
        "\n",
        "\n",
        "  print(\"잘 실행 되었습니까?\")\n",
        "\n",
        "####################################\n",
        "\n",
        "test()"
      ],
      "execution_count": 38,
      "outputs": [
        {
          "output_type": "stream",
          "text": [
            "5.0\n",
            "0으로 나누면 안됩니다 \n",
            "잘 실행 되었습니까?\n"
          ],
          "name": "stdout"
        }
      ]
    },
    {
      "cell_type": "code",
      "metadata": {
        "colab": {
          "base_uri": "https://localhost:8080/"
        },
        "id": "QhpXOToFu-PL",
        "outputId": "13a171c3-9271-4acf-f7bd-74661ccef892"
      },
      "source": [
        "# 음수로 나누었을 때 예외 발생을 위한 예외 처리 클래스 작성\n",
        "\n",
        "class NegativeDivideError(Exception):\n",
        "  pass\n",
        "\n",
        "def positiveDivide(a, b):\n",
        "  if b < 0:\n",
        "    raise NegativeDivideError\n",
        "\n",
        "  return a / b\n",
        "\n",
        "def main():\n",
        "  print(\"프로그램 시작\")\n",
        "\n",
        "  try:\n",
        "    result = positiveDivide(10, 2)\n",
        "    print(result)\n",
        "\n",
        "    result = positiveDivide(10, -2)\n",
        "    print(result)\n",
        "  except NegativeDivideError as e:\n",
        "    print(\"음수로 나눌 수 없다\")\n",
        "##############################################################\n",
        "\n",
        "main()"
      ],
      "execution_count": 43,
      "outputs": [
        {
          "output_type": "stream",
          "text": [
            "프로그램 시작\n",
            "5.0\n",
            "음수로 나눌 수 없다\n"
          ],
          "name": "stdout"
        }
      ]
    },
    {
      "cell_type": "markdown",
      "metadata": {
        "id": "c4FTA8r_zE1F"
      },
      "source": [
        "---\n",
        "## 2. 정규 표현식(Regular Expression)\n",
        "+ https://doxs.python.org/3.8/library/re.html"
      ]
    },
    {
      "cell_type": "markdown",
      "metadata": {
        "id": "8h-jp9s60H0k"
      },
      "source": [
        "#### (1) 반복\n",
        "    * : 0회 이상\n",
        "        ab* : ab, abb, abbb, abbbb, ....\n",
        "        lo*l : ㅣㅣ, lol, lool, loool, looooooooool, .......\n",
        "\n",
        "    + : 1회 이상\n",
        "        ab+ : ab, abb, abbb, abbbbbbbb, .....\n",
        "        lo+l : lol, lool, loool, loooooool, ..........\n",
        "\n",
        "    ? : 0회 또는 1회\n",
        "        ab? : a, ab\n",
        "        lo?l : ll, lol\n",
        "\n",
        "    {m} : m회 반복\n",
        "        a{3}bc : aaabc\n",
        "\n",
        "    {m,n} : m회부터 n회까지 반복\n",
        "        a{2, 4}bc : aabc, aaabc, aaaabc\n",
        "\n",
        "\n",
        "#### (2) 매칭\n",
        "\n",
        "    . : 줄바꿈 문자를 제외한 모든 문자와 매치\n",
        "      a.b : aab, abb, acb, adb, ....... 어떤 문자든 올 수 있다\n",
        "      \n",
        "    ^ : 문자열의 시작과 매치\n",
        "      ^a : a, ab, abcd, abc, ..... a로 시작하는 문자열\n",
        "\n",
        "    $ : 문자열의 마지막과 매치\n",
        "      $a :ma, na, mnmnsa, efsda, ..... a로 끝나는 문자열"
      ]
    },
    {
      "cell_type": "code",
      "metadata": {
        "id": "ET5FOU7Hy_-J"
      },
      "source": [
        ""
      ],
      "execution_count": null,
      "outputs": []
    }
  ]
}