{
  "nbformat": 4,
  "nbformat_minor": 0,
  "metadata": {
    "colab": {
      "name": "02_InputOutput.ipynb",
      "provenance": [],
      "collapsed_sections": [],
      "authorship_tag": "ABX9TyP7yxJHhEO966cKhmVoJWxK",
      "include_colab_link": true
    },
    "kernelspec": {
      "name": "ir",
      "display_name": "R"
    },
    "language_info": {
      "name": "R"
    }
  },
  "cells": [
    {
      "cell_type": "markdown",
      "metadata": {
        "id": "view-in-github",
        "colab_type": "text"
      },
      "source": [
        "<a href=\"https://colab.research.google.com/github/Junjaee/Study/blob/main/R/02_InputOutput.ipynb\" target=\"_parent\"><img src=\"https://colab.research.google.com/assets/colab-badge.svg\" alt=\"Open In Colab\"/></a>"
      ]
    },
    {
      "cell_type": "code",
      "metadata": {
        "id": "qOhH8vB8VhQh"
      },
      "source": [
        "#### 키보드 입력 ####\n",
        "# scan() : 벡터 입력\n",
        "# edit() : 데이터 프레임 입력\n",
        "\n",
        "a <- scan() # 숫자 형식의 데이터를 입력한다. 입력을 중단할 경우 빈칸에 엔터\n",
        "a\n",
        "\n",
        "b <- scan(what = character()) # 문자를 입력받고 싶은 경우 what으로 설정해줘야 한다\n",
        "b\n",
        "\n",
        "df <- data.frame()\n",
        "df <- edit(df)\n",
        "df"
      ],
      "execution_count": null,
      "outputs": []
    },
    {
      "cell_type": "code",
      "metadata": {
        "id": "HUWw2H1pVks7"
      },
      "source": [
        "#### 파일 입력 ####\n",
        "# read.csv()\n",
        "# read.table()\n",
        "# read.xlsx()\n",
        "# read.spss()\n",
        "\n",
        "student <- read.table(\"../data/student.txt\")\n",
        "student\n",
        "\n",
        "student1 <- read.table(file = \"../data/student1.txt\", header = T)\n",
        "student1\n",
        "\n",
        "student2 <- read.table(file.choose(), header = T, sep = \";\")\n",
        "student2\n",
        "\n",
        "student3 <- read.table(\"../data/student3.txt\", header = T, na.strings = c(\"-\", \"+\", \"&\"))\n",
        "student3\n",
        "\n",
        "# read.xlsx()\n",
        "install.packages(\"xlsx\")\n",
        "\n",
        "library(rJava)\n",
        "library(xlsx)\n",
        "\n",
        "# studentx <- read.xlsx(file.choose(), sheetIndex = 1, encoding = \"UTF-8\")\n",
        "studentx <- read.xlsx(file.choose(), sheetName = \"emp2\", encoding = \"UTF-8\")\n",
        "studentx\n",
        "\n",
        "# read.spss()\n",
        "install.packages(\"foreign\")\n",
        "\n",
        "library(foreign)\n",
        "raw_welfare <- read.spss(\"../data/Koweps_hpc10_2015_beta1.sav\", to.data.frame = T)\n",
        "raw_welfare"
      ],
      "execution_count": null,
      "outputs": []
    },
    {
      "cell_type": "code",
      "metadata": {
        "id": "63sOs0vJVnVq"
      },
      "source": [
        "#### 화면 출력 ####\n",
        "# 변수명\n",
        "# (식)\n",
        "# print()\n",
        "# cat()\n",
        "\n",
        "x <- 10\n",
        "y <- 20\n",
        "z <- x + y\n",
        "\n",
        "z\n",
        "(z <- x + y)\n",
        "\n",
        "print(z)\n",
        "print(z <- x + y)\n",
        "\n",
        "# print(\"x + y의 결과는\", as.character(z), \"입니다\")\n",
        "cat(\"x + y의 결과는\", as.character(z), \"입니다\")"
      ],
      "execution_count": null,
      "outputs": []
    },
    {
      "cell_type": "code",
      "metadata": {
        "id": "zYXjEdLiVpSg"
      },
      "source": [
        "#### 파일 출력 ####\n",
        "# write.csv()\n",
        "# write.table()\n",
        "# write.xlsx()\n",
        "\n",
        "studentx <- read.xlsx(file.choose(), sheetName = \"emp2\", encoding = \"UTF-8\")\n",
        "studentx\n",
        "class(studentx)\n",
        "\n",
        "write.table(studentx, \"../data/stud1.txt\")\n",
        "write.table(studentx, \"../data/stud2.txt\", row.names = F) # 인덱스 넘버 삭제\n",
        "write.table(studentx, \"../data/stud3.txt\", row.names = F, quote = F) # 쌍따옴표 삭제\n",
        "\n",
        "write.csv(studentx, \"../data/stud4.txt\", row.names = F, quote = F)\n",
        "\n",
        "library(rJava)\n",
        "library(xlsx)\n",
        "write.xlsx(studentx, \"../data/stud5.xlsx\")\n",
        "\n",
        "\n",
        "#### rda 파일 출력 ####\n",
        "# save()\n",
        "# load()\n",
        "\n",
        "save(studentx, file = \"../data/stu6.rda\")\n",
        "\n",
        "rm(studentx)\n",
        "studentx\n",
        "\n",
        "load(\"../data/stu6.rda\")\n",
        "studentx\n",
        "\n",
        "#### sink() #### -> 파일로 출력시키기\n",
        "\n",
        "?data\n",
        "data()\n",
        "\n",
        "data(iris)\n",
        "head(iris)\n",
        "tail(iris)\n",
        "str(iris)\n",
        "\n",
        "sink(\"../data/iris.txt\")\n",
        "head(iris)\n",
        "tail(iris)\n",
        "str(iris)\n",
        "\n",
        "sink() # 원상회복\n",
        "\n",
        "head(iris)"
      ],
      "execution_count": null,
      "outputs": []
    }
  ]
}