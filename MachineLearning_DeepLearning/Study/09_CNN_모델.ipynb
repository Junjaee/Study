{
  "nbformat": 4,
  "nbformat_minor": 0,
  "metadata": {
    "colab": {
      "name": "09_CNN_모델.ipynb",
      "provenance": [],
      "collapsed_sections": [],
      "toc_visible": true,
      "authorship_tag": "ABX9TyPhIKjPrdyGahihXwfTLgr4",
      "include_colab_link": true
    },
    "kernelspec": {
      "name": "python3",
      "display_name": "Python 3"
    },
    "language_info": {
      "name": "python"
    }
  },
  "cells": [
    {
      "cell_type": "markdown",
      "metadata": {
        "id": "view-in-github",
        "colab_type": "text"
      },
      "source": [
        "<a href=\"https://colab.research.google.com/github/Junjaee/Study/blob/main/MachineLearning_DeepLearning/Study/09_CNN_%EB%AA%A8%EB%8D%B8.ipynb\" target=\"_parent\"><img src=\"https://colab.research.google.com/assets/colab-badge.svg\" alt=\"Open In Colab\"/></a>"
      ]
    },
    {
      "cell_type": "code",
      "metadata": {
        "colab": {
          "base_uri": "https://localhost:8080/"
        },
        "id": "Q-sPUsB0tfYp",
        "outputId": "90490a2a-2c97-480a-98d8-6fee88f08dec"
      },
      "source": [
        "%tensorflow_version 1.x"
      ],
      "execution_count": 1,
      "outputs": [
        {
          "output_type": "stream",
          "text": [
            "TensorFlow 1.x selected.\n"
          ],
          "name": "stdout"
        }
      ]
    },
    {
      "cell_type": "code",
      "metadata": {
        "id": "7Std2GJ6mhVe"
      },
      "source": [
        "import tensorflow as tf\n",
        "import numpy as np\n",
        "import pandas as pd\n",
        "import matplotlib.pylab as plt"
      ],
      "execution_count": 2,
      "outputs": []
    },
    {
      "cell_type": "markdown",
      "metadata": {
        "id": "rZ-0XdWHmlsI"
      },
      "source": [
        "# 1. 기본 예제\n"
      ]
    },
    {
      "cell_type": "markdown",
      "metadata": {
        "id": "Ap6K68Vzm4RL"
      },
      "source": [
        "## (1) 샘플 1\n",
        "- 3 * 3 * 1 * 1 이미지 준비\n",
        "- 2 * 2 * 2 필터 준비"
      ]
    },
    {
      "cell_type": "code",
      "metadata": {
        "colab": {
          "base_uri": "https://localhost:8080/",
          "height": 305
        },
        "id": "sL6PWsC_mmGs",
        "outputId": "61e6246b-aadd-422b-96b6-b3e2b1d119fd"
      },
      "source": [
        "image = np.array([[[[1], [2], [3]],\n",
        "                  [[4], [5], [6]],\n",
        "                  [[7], [8], [9]]]], dtype=np.float32)\n",
        "\n",
        "print(image.shape)\n",
        "plt.imshow(image.reshape(3, 3), cmap=\"Greys\")"
      ],
      "execution_count": 3,
      "outputs": [
        {
          "output_type": "stream",
          "text": [
            "(1, 3, 3, 1)\n"
          ],
          "name": "stdout"
        },
        {
          "output_type": "execute_result",
          "data": {
            "text/plain": [
              "<matplotlib.image.AxesImage at 0x7fb3157f3fd0>"
            ]
          },
          "metadata": {
            "tags": []
          },
          "execution_count": 3
        },
        {
          "output_type": "display_data",
          "data": {
            "image/png": "[encoded data removed]",
            "text/plain": [
              "<Figure size 432x288 with 1 Axes>"
            ]
          },
          "metadata": {
            "tags": [],
            "needs_background": "light"
          }
        }
      ]
    },
    {
      "cell_type": "code",
      "metadata": {
        "colab": {
          "base_uri": "https://localhost:8080/",
          "height": 240
        },
        "id": "2JsGZTUhmmkD",
        "outputId": "d4cd0c0e-c10b-43ad-f33b-7f83e70e6458"
      },
      "source": [
        "# padding 없이 convolution layer 추출\n",
        "filter = tf.constant([[[[1.]], [[1.]]], [[[1.]], [[1.]]]])\n",
        "print(filter.shape)\n",
        "\n",
        "conv2d = tf.nn.conv2d(image, filter, strides=[1, 1, 1, 1], padding=\"VALID\")\n",
        "\n",
        "sess = tf.Session()\n",
        "conv2d_img = sess.run(conv2d)\n",
        "print(conv2d_img.shape)\n",
        "\n",
        "conv2d_img = np.swapaxes(conv2d_img, 0, 3)\n",
        "for i, one_img in enumerate(conv2d_img):\n",
        "    #print(one_img.reshape(2, 2))\n",
        "    plt.subplot(1, 2, i + 1)\n",
        "    plt.imshow(one_img.reshape(2, 2), cmap=\"Greys\")"
      ],
      "execution_count": 5,
      "outputs": [
        {
          "output_type": "stream",
          "text": [
            "(2, 2, 1, 1)\n",
            "(1, 2, 2, 1)\n"
          ],
          "name": "stdout"
        },
        {
          "output_type": "display_data",
          "data": {
            "image/png": "[encoded data removed]",
            "text/plain": [
              "<Figure size 432x288 with 1 Axes>"
            ]
          },
          "metadata": {
            "tags": [],
            "needs_background": "light"
          }
        }
      ]
    },
    {
      "cell_type": "code",
      "metadata": {
        "colab": {
          "base_uri": "https://localhost:8080/",
          "height": 294
        },
        "id": "u572x4KFmmiG",
        "outputId": "6fc13ab9-54e3-4f46-ca74-073bc6a3ca17"
      },
      "source": [
        "# padding을 이용한 convolution layer 추출\n",
        "filter = tf.constant([[[[1.]], [[1.]]], [[[1.]], [[1.]]]])\n",
        "print(filter.shape)\n",
        "\n",
        "conv2d = tf.nn.conv2d(image, filter, strides=[1, 1, 1, 1], padding=\"SAME\")\n",
        "\n",
        "sess = tf.Session()\n",
        "conv2d_img = sess.run(conv2d)\n",
        "print(conv2d_img.shape)\n",
        "\n",
        "conv2d_img = np.swapaxes(conv2d_img, 0, 3)\n",
        "for i, one_img in enumerate(conv2d_img):\n",
        "    print(one_img.reshape(3, 3))\n",
        "    plt.subplot(1, 2, i + 1)\n",
        "    plt.imshow(one_img.reshape(3, 3), cmap=\"Greys\")"
      ],
      "execution_count": 8,
      "outputs": [
        {
          "output_type": "stream",
          "text": [
            "(2, 2, 1, 1)\n",
            "(1, 3, 3, 1)\n",
            "[[12. 16.  9.]\n",
            " [24. 28. 15.]\n",
            " [15. 17.  9.]]\n"
          ],
          "name": "stdout"
        },
        {
          "output_type": "display_data",
          "data": {
            "image/png": "[encoded data removed]",
            "text/plain": [
              "<Figure size 432x288 with 1 Axes>"
            ]
          },
          "metadata": {
            "tags": [],
            "needs_background": "light"
          }
        }
      ]
    },
    {
      "cell_type": "markdown",
      "metadata": {
        "id": "L0kX7F5v0dk7"
      },
      "source": [
        "- 3개의 필터 사용 : 2 * 2 * 1 * 3"
      ]
    },
    {
      "cell_type": "code",
      "metadata": {
        "colab": {
          "base_uri": "https://localhost:8080/",
          "height": 344
        },
        "id": "ze0ViST8mmfp",
        "outputId": "cec2acde-a0a5-4764-f204-9de10d37796d"
      },
      "source": [
        "filter = tf.constant([[[[1., 10, -1]], [[1., 10, -1]]], [[[1., 10, -1]], [[1., 10, -1]]]])\n",
        "print(filter.shape)\n",
        "\n",
        "conv2d = tf.nn.conv2d(image, filter, strides=[1, 1, 1, 1], padding=\"SAME\")\n",
        "\n",
        "sess = tf.Session()\n",
        "conv2d_img = sess.run(conv2d)\n",
        "print(conv2d_img.shape)\n",
        "\n",
        "conv2d_img = np.swapaxes(conv2d_img, 0, 3)\n",
        "for i, one_img in enumerate(conv2d_img):\n",
        "    print(one_img.reshape(3, 3))\n",
        "    plt.subplot(1, 3, i + 1)\n",
        "    plt.imshow(one_img.reshape(3, 3), cmap=\"Greys\")"
      ],
      "execution_count": 10,
      "outputs": [
        {
          "output_type": "stream",
          "text": [
            "(2, 2, 1, 3)\n",
            "(1, 3, 3, 3)\n",
            "[[12. 16.  9.]\n",
            " [24. 28. 15.]\n",
            " [15. 17.  9.]]\n",
            "[[120. 160.  90.]\n",
            " [240. 280. 150.]\n",
            " [150. 170.  90.]]\n",
            "[[-12. -16.  -9.]\n",
            " [-24. -28. -15.]\n",
            " [-15. -17.  -9.]]\n"
          ],
          "name": "stdout"
        },
        {
          "output_type": "display_data",
          "data": {
            "image/png": "[encoded data removed]",
            "text/plain": [
              "<Figure size 432x288 with 3 Axes>"
            ]
          },
          "metadata": {
            "tags": [],
            "needs_background": "light"
          }
        }
      ]
    },
    {
      "cell_type": "markdown",
      "metadata": {
        "id": "b41bGn9915pG"
      },
      "source": [
        "- MaxPolling : 2 * 2 필터\n",
        "- padding 없음"
      ]
    },
    {
      "cell_type": "code",
      "metadata": {
        "colab": {
          "base_uri": "https://localhost:8080/"
        },
        "id": "ZJKKTOrRmmdK",
        "outputId": "6168c0e0-8f7e-4991-ce61-776d531763a7"
      },
      "source": [
        "image2 = tf.constant([[[[4], [3]],\n",
        "                       [[2], [1]]]])\n",
        "print(image2.shape)\n",
        "\n",
        "pool = tf.nn.max_pool(image2, ksize=[1, 2, 2, 1], strides=[1, 1, 1, 1], padding=\"VALID\")\n",
        "\n",
        "sess = tf.Session()\n",
        "p = sess.run(pool)\n",
        "print(p.shape)\n",
        "print(p)"
      ],
      "execution_count": 13,
      "outputs": [
        {
          "output_type": "stream",
          "text": [
            "(1, 2, 2, 1)\n",
            "(1, 1, 1, 1)\n",
            "[[[[4]]]]\n"
          ],
          "name": "stdout"
        }
      ]
    },
    {
      "cell_type": "code",
      "metadata": {
        "colab": {
          "base_uri": "https://localhost:8080/"
        },
        "id": "sONE8Wcl3muy",
        "outputId": "c1b2e26d-52f9-4e1e-d82c-19f050a625bb"
      },
      "source": [
        "# padding이 있을 경우\n",
        "\n",
        "image2 = tf.constant([[[[4], [3]],\n",
        "                       [[2], [1]]]])\n",
        "print(image2.shape)\n",
        "\n",
        "pool = tf.nn.max_pool(image2, ksize=[1, 2, 2, 1], strides=[1, 1, 1, 1], padding=\"SAME\")\n",
        "\n",
        "sess = tf.Session()\n",
        "p = sess.run(pool)\n",
        "print(p.shape)\n",
        "print(p)"
      ],
      "execution_count": 15,
      "outputs": [
        {
          "output_type": "stream",
          "text": [
            "(1, 2, 2, 1)\n",
            "(1, 2, 2, 1)\n",
            "[[[[4]\n",
            "   [3]]\n",
            "\n",
            "  [[2]\n",
            "   [1]]]]\n"
          ],
          "name": "stdout"
        }
      ]
    },
    {
      "cell_type": "markdown",
      "metadata": {
        "id": "9IdsqKA74pou"
      },
      "source": [
        "# 2. 사례1 : MNIST를 이용한 CNN"
      ]
    },
    {
      "cell_type": "code",
      "metadata": {
        "colab": {
          "base_uri": "https://localhost:8080/"
        },
        "id": "0lnqi6KO5kaj",
        "outputId": "23548dca-6adc-4a7c-84b5-21270217ab2a"
      },
      "source": [
        "from tensorflow.examples.tutorials.mnist import input_data\n",
        "mnist = input_data.read_data_sets(\"data/MNIST_data/\", one_hot=True)"
      ],
      "execution_count": 17,
      "outputs": [
        {
          "output_type": "stream",
          "text": [
            "WARNING:tensorflow:From <ipython-input-17-91728e189d13>:2: read_data_sets (from tensorflow.contrib.learn.python.learn.datasets.mnist) is deprecated and will be removed in a future version.\n",
            "Instructions for updating:\n",
            "Please use alternatives such as official/mnist/dataset.py from tensorflow/models.\n",
            "WARNING:tensorflow:From /tensorflow-1.15.2/python3.7/tensorflow_core/contrib/learn/python/learn/datasets/mnist.py:260: maybe_download (from tensorflow.contrib.learn.python.learn.datasets.base) is deprecated and will be removed in a future version.\n",
            "Instructions for updating:\n",
            "Please write your own downloading logic.\n",
            "WARNING:tensorflow:From /tensorflow-1.15.2/python3.7/tensorflow_core/contrib/learn/python/learn/datasets/base.py:252: _internal_retry.<locals>.wrap.<locals>.wrapped_fn (from tensorflow.contrib.learn.python.learn.datasets.base) is deprecated and will be removed in a future version.\n",
            "Instructions for updating:\n",
            "Please use urllib or similar directly.\n",
            "Successfully downloaded train-images-idx3-ubyte.gz 9912422 bytes.\n",
            "WARNING:tensorflow:From /tensorflow-1.15.2/python3.7/tensorflow_core/contrib/learn/python/learn/datasets/mnist.py:262: extract_images (from tensorflow.contrib.learn.python.learn.datasets.mnist) is deprecated and will be removed in a future version.\n",
            "Instructions for updating:\n",
            "Please use tf.data to implement this functionality.\n",
            "Extracting data/MNIST_data/train-images-idx3-ubyte.gz\n",
            "Successfully downloaded train-labels-idx1-ubyte.gz 28881 bytes.\n",
            "WARNING:tensorflow:From /tensorflow-1.15.2/python3.7/tensorflow_core/contrib/learn/python/learn/datasets/mnist.py:267: extract_labels (from tensorflow.contrib.learn.python.learn.datasets.mnist) is deprecated and will be removed in a future version.\n",
            "Instructions for updating:\n",
            "Please use tf.data to implement this functionality.\n",
            "Extracting data/MNIST_data/train-labels-idx1-ubyte.gz\n",
            "WARNING:tensorflow:From /tensorflow-1.15.2/python3.7/tensorflow_core/contrib/learn/python/learn/datasets/mnist.py:110: dense_to_one_hot (from tensorflow.contrib.learn.python.learn.datasets.mnist) is deprecated and will be removed in a future version.\n",
            "Instructions for updating:\n",
            "Please use tf.one_hot on tensors.\n",
            "Successfully downloaded t10k-images-idx3-ubyte.gz 1648877 bytes.\n",
            "Extracting data/MNIST_data/t10k-images-idx3-ubyte.gz\n",
            "Successfully downloaded t10k-labels-idx1-ubyte.gz 4542 bytes.\n",
            "Extracting data/MNIST_data/t10k-labels-idx1-ubyte.gz\n",
            "WARNING:tensorflow:From /tensorflow-1.15.2/python3.7/tensorflow_core/contrib/learn/python/learn/datasets/mnist.py:290: DataSet.__init__ (from tensorflow.contrib.learn.python.learn.datasets.mnist) is deprecated and will be removed in a future version.\n",
            "Instructions for updating:\n",
            "Please use alternatives such as official/mnist/dataset.py from tensorflow/models.\n"
          ],
          "name": "stdout"
        }
      ]
    },
    {
      "cell_type": "code",
      "metadata": {
        "id": "oqxK8vvi5ktK"
      },
      "source": [
        "tf.reset_default_graph()\n",
        "\n",
        "##### 입력받을 변수 준비\n",
        "\n",
        "X = tf.placeholder(tf.float32, shape=[None, 784])\n",
        "y = tf.placeholder(tf.float32, shape=[None, 10])"
      ],
      "execution_count": 19,
      "outputs": []
    },
    {
      "cell_type": "markdown",
      "metadata": {
        "id": "EeVd1_P960Me"
      },
      "source": [
        "## (1) 첫번째 convolution layer\n",
        "- 필터\n",
        "    - 크기 : 3 * 3\n",
        "    - 갯수 : 32\n",
        "    - 색상 수 : 1"
      ]
    },
    {
      "cell_type": "code",
      "metadata": {
        "colab": {
          "base_uri": "https://localhost:8080/"
        },
        "id": "c4gQ6vE45kq2",
        "outputId": "6408c648-0f1b-4b25-e712-2ad3fc0e7daa"
      },
      "source": [
        "# 원본 이미지 준비\n",
        "origin_X = tf.reshape(X, [-1, 28, 28, 1])\n",
        "\n",
        "# 필터 준비\n",
        "W1 = tf.Variable(tf.random_normal([3, 3, 1, 32]))\n",
        "\n",
        "# convolution layer\n",
        "Layer1 = tf.nn.conv2d(origin_X, W1, strides=[1, 1, 1, 1], padding=\"SAME\")\n",
        "print(Layer1)\n",
        "\n",
        "Layer1 = tf.nn.relu(Layer1)\n",
        "print(Layer1)"
      ],
      "execution_count": 22,
      "outputs": [
        {
          "output_type": "stream",
          "text": [
            "Tensor(\"Conv2D_1:0\", shape=(?, 28, 28, 32), dtype=float32)\n",
            "Tensor(\"Relu:0\", shape=(?, 28, 28, 32), dtype=float32)\n"
          ],
          "name": "stdout"
        }
      ]
    },
    {
      "cell_type": "code",
      "metadata": {
        "id": "3-U0a3g85koi"
      },
      "source": [
        ""
      ],
      "execution_count": null,
      "outputs": []
    }
  ]
}