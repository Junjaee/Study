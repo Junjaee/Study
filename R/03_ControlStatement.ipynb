{
  "nbformat": 4,
  "nbformat_minor": 0,
  "metadata": {
    "colab": {
      "name": "03_ControlStatement.ipynb",
      "provenance": [],
      "collapsed_sections": [],
      "authorship_tag": "ABX9TyPBGdMCmqoNFmcy1rqLOUl2",
      "include_colab_link": true
    },
    "kernelspec": {
      "name": "ir",
      "display_name": "R"
    },
    "language_info": {
      "name": "R"
    }
  },
  "cells": [
    {
      "cell_type": "markdown",
      "metadata": {
        "id": "view-in-github",
        "colab_type": "text"
      },
      "source": [
        "<a href=\"https://colab.research.google.com/github/Junjaee/Study/blob/main/R/03_ControlStatement.ipynb\" target=\"_parent\"><img src=\"https://colab.research.google.com/assets/colab-badge.svg\" alt=\"Open In Colab\"/></a>"
      ]
    },
    {
      "cell_type": "code",
      "metadata": {
        "id": "yKsocIyrWGWz"
      },
      "source": [
        "#### 조건문 ####\n",
        "\n",
        "# 난수 준비\n",
        "x <- runif(1) # 0~1까지의 균일 분포, rnorm()\n",
        "x\n",
        "\n",
        "# xrk 0.5보다 크면 출력\n",
        "if(x > 0.5){\n",
        "  print(x)\n",
        "}\n",
        "\n",
        "# xrk 0.5보다 작으면 1-x를 출력하고 그렇지 않으면 x를 출력\n",
        "if(x < 0.5){\n",
        "  print(1-x)\n",
        "}else{\n",
        "  print(x)\n",
        "}\n",
        "\n",
        "if(x < 0.5) print(1-x) else print(X)\n",
        "\n",
        "# ifelse()\n",
        "ifelse(x < 0.5, 1-x, x)\n",
        "\n",
        "# 다중 조건\n",
        "avg <- scan()\n",
        "\n",
        "if(avg >= 90){\n",
        "  print(\"당신의 학점은 A입니다\")\n",
        "} else if(avg >= 80){\n",
        "  print(\"당신의 학점은 B입니다\")\n",
        "} else if(avg >= 70){\n",
        "  print(\"당신의 학점은 C입니다\")\n",
        "} else if(avg >= 60){\n",
        "  print(\"당신의 학점은 D입니다\")\n",
        "} else{\n",
        "  print(\"당신의 학점은 F입니다\")\n",
        "}\n",
        "\n",
        "# switch(비교문, 실행문1, 실행문2, ...)\n",
        "a <- \"중1\"\n",
        "\n",
        "switch(a, \"중1\" = print(\"14살\"), \"중2\" = print(\"15살\"))\n",
        "switch(a, \"중1\" = (\"14살\"), \"중2\" = (\"15살\"))\n",
        "\n",
        "b <- 3\n",
        "\n",
        "switch(b, \"14살\", \"15살\", \"16살\") # default 값이 14살 = 1, 15살 = 2, 16살 = 3\n",
        "\n",
        "empname = scan(what = \"\")\n",
        "switch(empname, hong = 250, lee = 350, kim = 200, kang = 400)\n",
        "\n",
        "avg <- scan() %/% 10 # 정수형 몫을 구할때 쓰는 연산자\n",
        "result <- switch(as.character(avg), \"10\" = \"A\", \"9\" = \"A\", \"8\"= \"B\", \"7\" = \"C\", \"6\" = \"D\", \"F\")  \n",
        "cat(\"당신의 학점은\", result, \"입니다\")\n",
        "\n",
        "# which() : 값의 위치(index)를 찾아주는 함수\n",
        "x <- c(2:10)\n",
        "x\n",
        "\n",
        "which(x == 3)\n",
        "x[which(x == 3)]\n",
        "\n",
        "# matrix에서 사용 -> matrix에서는 'arr.ind'을 설정해주어야 index 값을 반환한다\n",
        "m <- matrix(1:12, 3, 4)\n",
        "m\n",
        "\n",
        "?which # arr.ind = False다\n",
        "which(m%%3 == 0) # 조건에 맞는 값 자체를 반환\n",
        "which(m%%3 == 0, arr.ind = T) # index값을 반환\n",
        "\n",
        "# data.frame에서 사용\n",
        "no <- c(1:5)\n",
        "name <- c(\"홍길동\", \"유비\", \"관우\", \"장비\", \"전우치\")\n",
        "score <- c(85, 78, 89, 90, 74)\n",
        "exam <- data.frame(학번 = no, 이름 = name, 성적 = score)\n",
        "exam\n",
        "\n",
        "# 이름이 장비인 사람 검색\n",
        "which(exam$이름 == \"장비\")\n",
        "exam[which(exam$이름 == \"장비\"), ]\n",
        "exam[4, ]\n",
        "\n",
        "# which.max(), which.min() : 숫자에서만 인식\n",
        "# 가장 높은 점수를 가진 학생은?\n",
        "which.max(exam$성적)\n",
        "exam[which.max(exam$성적),]\n",
        "\n",
        "### any(), all()\n",
        "\n",
        "x <- runif(5)\n",
        "x\n",
        "\n",
        "# x값들 중에서 0.8이상이 있는가?\n",
        "any(x >= 0.8)\n",
        "\n",
        "# x값들이 모두 0.7이하인가?\n",
        "all(x <= 0.7)"
      ],
      "execution_count": null,
      "outputs": []
    },
    {
      "cell_type": "code",
      "metadata": {
        "id": "AkupCi0jWMm1"
      },
      "source": [
        "#### 반복문 ####\n",
        "\n",
        "# 1부터 10까지 합계\n",
        "sum <- 0\n",
        "for(i in seq(1, 10)){\n",
        "  sum <- sum + i\n",
        "}\n",
        "sum\n",
        "\n",
        "sum <- 0\n",
        "for(i in 1:10) sum <- sum + i\n",
        "sum"
      ],
      "execution_count": null,
      "outputs": []
    },
    {
      "cell_type": "code",
      "metadata": {
        "id": "Bsk3Ky3MWP6G"
      },
      "source": [
        "#### 함수 ####\n",
        "\n",
        "# 인자없는 함수\n",
        "test1 <- function(){\n",
        "  x <- 10\n",
        "  y <- 10\n",
        "  #return (x*y)\n",
        "  x*y\n",
        "}\n",
        "\n",
        "test1()\n",
        "\n",
        "test2 <- function(x,y){\n",
        "  a <- x\n",
        "  b <- y\n",
        "  return (sum(a, b))\n",
        "}\n",
        "\n",
        "test2(10, 20)\n",
        "test2(y = 20, x = 10)"
      ],
      "execution_count": null,
      "outputs": []
    },
    {
      "cell_type": "code",
      "metadata": {
        "id": "dImCybsCWQYs"
      },
      "source": [
        "### 가변 인수 : ...\n",
        "test3 <- function(...){\n",
        "  # print(list(...))\n",
        "  for(i in list(...)) print(i)\n",
        "}\n",
        "\n",
        "test3(10)\n",
        "test3(10, 20)\n",
        "test3(10, 20, 30)\n",
        "test3(\"3\", \"홍길동\", 30)\n",
        "\n",
        "test4 <- function(a, b, ...){\n",
        "  print(a)\n",
        "  print(b)\n",
        "  print(\"------------\")\n",
        "  print(list(...))\n",
        "}\n",
        "\n",
        "test4(10, 20, 30, 40)"
      ],
      "execution_count": null,
      "outputs": []
    },
    {
      "cell_type": "code",
      "metadata": {
        "id": "SN79y0uxhbLj"
      },
      "source": [
        "#### 문자열 함수 ####\n",
        "\n",
        "### stringr : 정규 표현식 활용\n",
        "install.packages(\"stringr\")\n",
        "library(stringr) # require(stringr) -> library와 같다\n",
        "\n",
        "str1 <- \"홍길동35 이순신45 임꺽정35\"\n",
        "\n",
        "str_extract(str1, \"\\\\d{2}\")\n",
        "str_extract_all(str1, \"\\\\d{2}\")\n",
        "str_extract_all(str1, \"[0-9]{2}\")\n",
        "class(str1)\n",
        "\n",
        "str2 <- \"hongkd105leess1002you25TOM400강감찬2005\"\n",
        "\n",
        "str_extract_all(str2, \"\\\\D+\") # 이름만 뽑아내기\n",
        "str_extract_all(str2, \"[a-zA-Z가-힣]+\")\n",
        "\n",
        "length(str2)\n",
        "str_length(str2)\n",
        "\n",
        "str_locate(str2, \"강감찬\") # 강감찬이 있는지 보고싶다\n",
        "\n",
        "str_c(str2, \"유비55\") # 원본에 추가된건 아니다\n",
        "str2\n",
        "\n",
        "str2 <- str_c(str2, \"유비55\")\n",
        "str2\n",
        "\n",
        "str3 <- \"hongkd105,leess1002,you25,TOM400,강감찬2005\"\n",
        "str_split(str3, \",\")"
      ],
      "execution_count": null,
      "outputs": []
    },
    {
      "cell_type": "code",
      "metadata": {
        "id": "7k0112sBheoJ"
      },
      "source": [
        "### 기본 함수\n",
        "sample <- data.frame(c1 = c(\"abc_abcdefg\", \"abc_ABCDE\", \"ccd\"), c2 = 1:3)\n",
        "sample\n",
        "\n",
        "nchar(sample[1, 1]) # 문자열의 갯수\n",
        "which(sample[, 1] == \"ccd\")\n",
        "toupper(sample[1, 1]) # 대문자\n",
        "tolower(sample[2, 1]) # 소문자\n",
        "substr(sample[, 1], start = 1, stop = 2) # 첫번째부터 두번째 단어까지만 출력\n",
        "paste0(sample[, 1], sample[, 2]) # 1열과 2열을 붙여준다\n",
        "paste(sample[, 1], sample[, 2], sep = \",\") # sep를 추가할 수 있다"
      ],
      "execution_count": null,
      "outputs": []
    },
    {
      "cell_type": "code",
      "metadata": {
        "id": "RDzig6xRhhSI"
      },
      "source": [
        "### 문자열을 분리해서 하나의 컬럼을 두개의 컬럼으로 확장\n",
        "install.packages(\"splitstackshape\")\n",
        "library(splitstackshape)\n",
        "\n",
        "cSplit(sample, splitCols = \"c1\", sep = \"_\")"
      ],
      "execution_count": null,
      "outputs": []
    }
  ]
}