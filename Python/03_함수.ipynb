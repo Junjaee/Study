{
  "nbformat": 4,
  "nbformat_minor": 0,
  "metadata": {
    "colab": {
      "name": "03_함수.ipynb",
      "provenance": [],
      "collapsed_sections": [],
      "authorship_tag": "ABX9TyOCm7UFfrjUizNtSlAfbC7u",
      "include_colab_link": true
    },
    "kernelspec": {
      "name": "python3",
      "display_name": "Python 3"
    },
    "language_info": {
      "name": "python"
    }
  },
  "cells": [
    {
      "cell_type": "markdown",
      "metadata": {
        "id": "view-in-github",
        "colab_type": "text"
      },
      "source": [
        "<a href=\"https://colab.research.google.com/github/Junjaee/Study/blob/main/Python/03_%ED%95%A8%EC%88%98.ipynb\" target=\"_parent\"><img src=\"https://colab.research.google.com/assets/colab-badge.svg\" alt=\"Open In Colab\"/></a>"
      ]
    },
    {
      "cell_type": "markdown",
      "metadata": {
        "id": "qu8DgY1Unx89"
      },
      "source": [
        "### 1. 함수의 정의\n",
        "\n",
        "+ 일정한 작업을 수행하는 코드 블럭\n",
        "\n",
        "\n",
        "### 2. 함수의 장점\n",
        "\n",
        "+ 반복적인 코드를 없애주어 전체 코드의 길이를 짧게 만들어 준다.(재사용)\n",
        "+ 프로그램의 유지 보수를 쉽게 만들어준다.\n",
        "\n",
        "\n",
        "### 3. 함수의 구현\n",
        "\n",
        "\n",
        "```\n",
        "def 함수명(...):\n",
        "    코드정의\n",
        "    ...\n",
        "    [return...]\n",
        "```\n",
        "\n",
        "### 4. 함수의 호출 방식\n",
        "\n",
        "    1) 인자(인수)가 없는 방식\n",
        "    2) 인자가 있는 방식\n",
        "       매개변수 : parameter\n",
        "       실인자 : argument\n",
        "    3) 반환값(return value)이 있는 방식\n",
        "    4) return의 두 가지 기능\n",
        "       - 값을 반환 : 값은 1개만 반환\n",
        "       - 함수의 강제 종료\n",
        "\n",
        "\n",
        "### 5. 함수의 설계\n",
        "\n",
        "    1) 단일 기능\n",
        "    2) 재사용성\n",
        "\n",
        "\n",
        "### 6. 함수의 종료\n",
        "\n",
        "    1) 사용자 정의 함수(User Define Function)\n",
        "    2) 내장 함수(Built-in)\n",
        "    3) 외장 함수\n",
        "\n",
        "\n",
        "\n",
        "\n",
        "\n",
        "\n",
        "\n",
        "\n",
        "\n",
        "\n",
        "\n",
        "\n",
        "    aaasd\n"
      ]
    },
    {
      "cell_type": "code",
      "metadata": {
        "colab": {
          "base_uri": "https://localhost:8080/"
        },
        "id": "t5N0OwponXz8",
        "outputId": "6e681ec1-b109-45fc-9f72-9851490ae56b"
      },
      "source": [
        "def line(i,type):\n",
        "    for v in range(i):\n",
        "       print(type, end = \"\")\n",
        "\n",
        "    print()\n",
        "\n",
        "line(30,\"=\")\n",
        "print(\"친구관리 프로그램\")\n",
        "line(30,\"*\")\n",
        "print(\"1. 리스트 출력\")\n",
        "print(\"2. 친구 추가\")\n",
        "print(\"3. 종료\")\n",
        "line(30,\"'\")"
      ],
      "execution_count": null,
      "outputs": [
        {
          "output_type": "stream",
          "text": [
            "==============================\n",
            "친구관리 프로그램\n",
            "******************************\n",
            "1. 리스트 출력\n",
            "2. 친구 추가\n",
            "3. 종료\n",
            "''''''''''''''''''''''''''''''\n"
          ],
          "name": "stdout"
        }
      ]
    },
    {
      "cell_type": "code",
      "metadata": {
        "colab": {
          "base_uri": "https://localhost:8080/"
        },
        "id": "_EmwUpTSvojc",
        "outputId": "8049030b-eb44-4466-e9e9-7cb06823cdad"
      },
      "source": [
        "num1, num2 = 10, 5\n",
        "\n",
        "print(\"두수의 교환\")\n",
        "\n",
        "temp = num1\n",
        "num1 = num2\n",
        "num2 = temp\n",
        "\n",
        "# 정렬의 기본이 되는 알고리즘(swap)\n",
        "\n",
        "print(\"결과 :\", num1, num2)\n",
        "\n",
        "####################################\n",
        "\n"
      ],
      "execution_count": null,
      "outputs": [
        {
          "output_type": "stream",
          "text": [
            "두수의 교환\n",
            "결과 : 5 10\n"
          ],
          "name": "stdout"
        }
      ]
    },
    {
      "cell_type": "code",
      "metadata": {
        "colab": {
          "base_uri": "https://localhost:8080/"
        },
        "id": "-QcRew_ntXmd",
        "outputId": "e9c59bf5-d86c-4420-bbe3-880bbd89207d"
      },
      "source": [
        "def swap(num1,num2):\n",
        "  # temp = num1\n",
        "  # num1 = num2\n",
        "  # num2 = temp\n",
        "\n",
        "  num1, num2 = num2, num1 # 병렬로 한번에 처리, Python만 사용 가능\n",
        "  \n",
        "  return num1, num2  # 값을 반환해주기\n",
        "\n",
        "  print(\"이 문장이 보이는가?\") # 시행이 되지 않기 때문에 보이지 않는다\n",
        "\n",
        "####################################\n",
        "\n",
        "print(\"두수의 교환\")\n",
        "\n",
        "#n1, n2 = swap(5, 10)\n",
        "#print(\"결과 :\", n1, n2)\n",
        "\n",
        "print(\"결과 :\", swap(5, 10)) # 값을 반환받아 계속 사용할게 아니라면 바로 출력도 가능"
      ],
      "execution_count": null,
      "outputs": [
        {
          "output_type": "stream",
          "text": [
            "두수의 교환\n",
            "결과 : (10, 5)\n"
          ],
          "name": "stdout"
        }
      ]
    },
    {
      "cell_type": "markdown",
      "metadata": {
        "id": "FlnsVv9oPri-"
      },
      "source": [
        "---\n",
        "\n",
        "#### 파이썬에서 함수를 지원하기 위한 문법"
      ]
    },
    {
      "cell_type": "code",
      "metadata": {
        "colab": {
          "base_uri": "https://localhost:8080/"
        },
        "id": "T_jAUWa5Pvy5",
        "outputId": "da21adf7-e2ba-4479-ff1e-cee3be5e598c"
      },
      "source": [
        "### 변수의 유효(생존) 범위 : 지역변수(함수 내의 변수), 전역변수\n",
        "\n",
        "player = \"전국 대표\" # 전역변수\n",
        "\n",
        "def funcSoccer():\n",
        "  global player # 함수 안의 player를 전역변수로 선언한다\n",
        "\n",
        "  name = \"홍길동\" # 지역변수\n",
        "  player = \"지역 대표\" # 지역변수\n",
        "  print(name, player)\n",
        "\n",
        "##########################\n",
        "\n",
        "print(player)\n",
        "funcSoccer()\n",
        "print(player)"
      ],
      "execution_count": null,
      "outputs": [
        {
          "output_type": "stream",
          "text": [
            "전국 대표\n",
            "홍길동 지역 대표\n",
            "지역 대표\n"
          ],
          "name": "stdout"
        }
      ]
    },
    {
      "cell_type": "code",
      "metadata": {
        "colab": {
          "base_uri": "https://localhost:8080/"
        },
        "id": "ugnE5sHFQ-iA",
        "outputId": "bb04434a-703a-42a7-9e88-c9a5066e14e6"
      },
      "source": [
        "### default 인수\n",
        "\n",
        "def line(i = 10):\n",
        "  for v in range(i):\n",
        "    print(\"=\", end = \"\")\n",
        "\n",
        "  print()\n",
        "\n",
        "def hello1(name = None):\n",
        "    if name == None:\n",
        "      print(\"반드시 이름을 입력해야 합니다\")\n",
        "      return\n",
        "    print(\"안녕하세요 %s님\" %name)\n",
        "\n",
        "def hello2(name, age, addr = \"서울\"):\n",
        "# def hello2(name, age, addr = \"서울\"):   # 반드시 디폴트 인수는 맨 뒤에서부터 채워야한다. 앞에서부터 채우면 오류!\n",
        "    print(\"안녕하세요~ {}에 사는 {}님... 당신의 나이는 {}세 입니다\"\n",
        "          .format(addr, name, age))\n",
        "#########################\n",
        "\n",
        "line(20)\n",
        "line(30)\n",
        "line()\n",
        "\n",
        "hello1(\"홍길동\")\n",
        "hello1()\n",
        "\n",
        "hello2('홍길동', 30, '서울')\n",
        "hello2('홍길동', 30)\n",
        "hello2(addr = \"서울\", age = 40, name = \"홍길동\")"
      ],
      "execution_count": null,
      "outputs": [
        {
          "output_type": "stream",
          "text": [
            "====================\n",
            "==============================\n",
            "==========\n",
            "안녕하세요 홍길동님\n",
            "반드시 이름을 입력해야 합니다\n",
            "안녕하세요~ 서울에 사는 홍길동님... 당신의 나이는 30세 입니다\n",
            "안녕하세요~ 서울에 사는 홍길동님... 당신의 나이는 30세 입니다\n",
            "안녕하세요~ 서울에 사는 홍길동님... 당신의 나이는 40세 입니다\n"
          ],
          "name": "stdout"
        }
      ]
    },
    {
      "cell_type": "code",
      "metadata": {
        "colab": {
          "base_uri": "https://localhost:8080/"
        },
        "id": "_IN8FD8GVN2J",
        "outputId": "03ed48d5-01d2-466f-fb4a-d3d2bc3c73bb"
      },
      "source": [
        "### 가변 인수\n",
        "\n",
        "# * : 곱셈, 반복, 가변인수(매개변수에 쓰일때, packing), 언패킹(unpacking)\n",
        "# ** : 거듭제곱, 가변인수(매개변수)\n",
        "\n",
        "\n",
        "def greeting(*name): # *을 넣어주면 가변 인수\n",
        "    print(name, \"안녕하세요\")\n",
        "    print(type(name))\n",
        "\n",
        "def info(weight, height, name, **other):  # **로 dict형식으로 묶어서 내보내줌\n",
        "    print(weight, height, name)\n",
        "    print(other)\n",
        "#######################################  \n",
        "\n",
        "greeting(\"홍길동\")\n",
        "greeting(\"홍길동\", \"임꺽정\", \"신돌석\")\n",
        "\n",
        "a, b, c = ([1,2], [3,4], [5,6])\n",
        "print(a, b, c) #언패킹\n",
        "\n",
        "\n",
        "a = ([1,2], [3,4], [5,6])\n",
        "print(*a) # *을 이용하여 언패킹\n",
        "\n",
        "info(75, 175, \"홍길동\")\n",
        "info(85, 175, \"홍길동\", age = 30, addr = \"서울\", blood = \"B\")"
      ],
      "execution_count": null,
      "outputs": [
        {
          "output_type": "stream",
          "text": [
            "('홍길동',) 안녕하세요\n",
            "<class 'tuple'>\n",
            "('홍길동', '임꺽정', '신돌석') 안녕하세요\n",
            "<class 'tuple'>\n",
            "[1, 2] [3, 4] [5, 6]\n",
            "[1, 2] [3, 4] [5, 6]\n",
            "75 175 홍길동\n",
            "{}\n",
            "85 175 홍길동\n",
            "{'age': 30, 'addr': '서울', 'blood': 'B'}\n"
          ],
          "name": "stdout"
        }
      ]
    },
    {
      "cell_type": "markdown",
      "metadata": {
        "id": "U-O5YQMF9KNl"
      },
      "source": [
        "---\n",
        "#### 내장함수"
      ]
    },
    {
      "cell_type": "code",
      "metadata": {
        "colab": {
          "base_uri": "https://localhost:8080/"
        },
        "id": "BIyZHg5k5zPv",
        "outputId": "7f3d88c1-5006-4c4f-8817-fa9c44f3fd3a"
      },
      "source": [
        "#---------------------------------------------------------\n",
        "# all(), any() : and, or 연산자(0과 빈값들은 False로 처리)\n",
        "#---------------------------------------------------------\n",
        "\n",
        "print(all([a, 2, 3, -1, -2]))\n",
        "print(all([a, 2, 3, 0, -2]))\n",
        "print(all([a, 2, 3, \"\", -2]))\n",
        "print(all([a, 2, 3, None, -2]))\n",
        "\n",
        "print(any([a, 2, 3, -1, -2]))\n",
        "print(any([a, 2, 3, 0, -2]))\n",
        "print(any([a, 2, 3, \"\", -2]))\n",
        "print(any([a, 2, 3, None, -2]))"
      ],
      "execution_count": null,
      "outputs": [
        {
          "output_type": "stream",
          "text": [
            "True\n",
            "False\n",
            "False\n",
            "False\n",
            "True\n",
            "True\n",
            "True\n",
            "True\n"
          ],
          "name": "stdout"
        }
      ]
    },
    {
      "cell_type": "code",
      "metadata": {
        "colab": {
          "base_uri": "https://localhost:8080/"
        },
        "id": "j19uKX0i-yri",
        "outputId": "169d5444-0873-425f-df75-3c65b5c0cee6"
      },
      "source": [
        "#------------------------------------------------------------------------------\n",
        "# enumerate(iterator) : 순서가 있는 자료형을 입력받아 인덱스 값을 포함해서 리턴\n",
        "#------------------------------------------------------------------------------\n",
        "\n",
        "for i in enumerate([\"홍길동\", \"임꺽정\", \"Tom\", \"Jerry\"]):\n",
        "  print(i)\n",
        "\n",
        "print()\n",
        "\n",
        "for idx, i in enumerate([\"홍길동\", \"임꺽정\", \"Tom\", \"Jerry\"]):\n",
        "  print(idx, i)\n",
        "\n",
        "print()\n",
        "\n",
        "for idx, i in enumerate([\"홍길동\", \"임꺽정\", \"Tom\", \"Jerry\"], start = 100):\n",
        "  print(idx, i)\n",
        "\n",
        "enumerat"
      ],
      "execution_count": null,
      "outputs": [
        {
          "output_type": "stream",
          "text": [
            "(0, '홍길동')\n",
            "(1, '임꺽정')\n",
            "(2, 'Tom')\n",
            "(3, 'Jerry')\n",
            "\n",
            "0 홍길동\n",
            "1 임꺽정\n",
            "2 Tom\n",
            "3 Jerry\n",
            "\n",
            "100 홍길동\n",
            "101 임꺽정\n",
            "102 Tom\n",
            "103 Jerry\n"
          ],
          "name": "stdout"
        }
      ]
    },
    {
      "cell_type": "code",
      "metadata": {
        "colab": {
          "base_uri": "https://localhost:8080/",
          "height": 126
        },
        "id": "viWufZTyCsrD",
        "outputId": "c19e98fa-af8d-4e30-bfb4-8812833ef529"
      },
      "source": [
        "#---------------------------------------------------------------------\n",
        "# eval(expression) : 표현식을 파이썬에서 실행 가능하게 만들어주는 역할\n",
        "#---------------------------------------------------------------------\n",
        "\n",
        "print(\"3+4\")\n",
        "\n",
        "print(eval(\"3+4\"))\n",
        "print(int(\"3\")+int(\"4\"))\n",
        "\n",
        "expr = input(\"수식입력 : \")\n",
        "print(eval(expr))"
      ],
      "execution_count": null,
      "outputs": [
        {
          "output_type": "stream",
          "text": [
            "3+4\n",
            "7\n",
            "7\n",
            "수식입력 : 1+1\n",
            "2\n"
          ],
          "name": "stdout"
        },
        {
          "output_type": "execute_result",
          "data": {
            "application/vnd.google.colaboratory.intrinsic+json": {
              "type": "string"
            },
            "text/plain": [
              "'divmod(9, 4)'"
            ]
          },
          "metadata": {
            "tags": []
          },
          "execution_count": 131
        }
      ]
    },
    {
      "cell_type": "code",
      "metadata": {
        "colab": {
          "base_uri": "https://localhost:8080/"
        },
        "id": "8gQ5RD6GHpfS",
        "outputId": "9ea05da2-7de0-426b-ccc0-ef14cc1550a3"
      },
      "source": [
        "#---------------------------------------------------------------------\n",
        "# divmod : 몫과 나머지를 표현해주는 함수\n",
        "#---------------------------------------------------------------------\n",
        "\n",
        "\n",
        "# divmod(9, 4)\n",
        "print(eval(\"divmod(9, 4)\"))"
      ],
      "execution_count": null,
      "outputs": [
        {
          "output_type": "stream",
          "text": [
            "(2, 1)\n"
          ],
          "name": "stdout"
        }
      ]
    },
    {
      "cell_type": "code",
      "metadata": {
        "colab": {
          "base_uri": "https://localhost:8080/"
        },
        "id": "nbYEXmDtEeao",
        "outputId": "68195c50-7625-4959-98ca-7d19e845dd2b"
      },
      "source": [
        "#---------------------------------------------------------------------------------\n",
        "# map(function, iterator) : 집합의 각 요소가 함수에 의해 수행된 결과를 묶어서 리턴\n",
        "#---------------------------------------------------------------------------------\n",
        "\n",
        "def calc(x):\n",
        "    return x + 2\n",
        "\n",
        "##########################\n",
        "\n",
        "a = calc(10)\n",
        "print(a)\n",
        "\n",
        "data = [10, 20, 30, 40, 50]\n",
        "result = []\n",
        "for v in data:\n",
        "    temp = calc(v)\n",
        "    result.append(temp)\n",
        "\n",
        "print(result)\n",
        "\n",
        "print(list(map(calc, data)))\n"
      ],
      "execution_count": 8,
      "outputs": [
        {
          "output_type": "stream",
          "text": [
            "12\n",
            "[12, 22, 32, 42, 52]\n",
            "[12, 22, 32, 42, 52]\n"
          ],
          "name": "stdout"
        }
      ]
    },
    {
      "cell_type": "code",
      "metadata": {
        "colab": {
          "base_uri": "https://localhost:8080/"
        },
        "id": "o21IdgpFMylx",
        "outputId": "531c70ec-c5b3-40a5-c3b0-6aa98d2d9ee8"
      },
      "source": [
        "#--------------------------------------------------------------\n",
        "# zip(iterator) : 동일한 갯수로 이루어진 자료형을 묶어주는 역할\n",
        "#--------------------------------------------------------------\n",
        "\n",
        "a = [\"a1\", \"a2\", \"a3\"]\n",
        "b = [\"b1\", \"b2\", \"b3\"]\n",
        "c = [\"c1\", \"c2\", \"c3\"]\n",
        "\n",
        "print(zip(a, b, c))\n",
        "print(list(zip(a, b, c)))\n",
        "\n",
        "for v in zip(a, b, c):\n",
        "    print(v)\n",
        "\n",
        "for i, (v1, v2, v3) in enumerate(zip(a, b, c)):\n",
        "    print(i, v1, v2, v3)\n",
        "\n",
        "# a = [\"a1\", \"a2\", \"a3\"]\n",
        "# b = [\"b1\", \"b2\", \"b3\"]\n",
        "# c = [\"c1\", \"c2\", \"c3\", \"c4\"] # c4는 변환되지 않는다\n",
        "\n",
        "# print(zip(a, b, c))\n",
        "# print(list(zip(a, b, c)))"
      ],
      "execution_count": 6,
      "outputs": [
        {
          "output_type": "stream",
          "text": [
            "<zip object at 0x7ffae5d6a7d0>\n",
            "[('a1', 'b1', 'c1'), ('a2', 'b2', 'c2'), ('a3', 'b3', 'c3')]\n",
            "('a1', 'b1', 'c1')\n",
            "('a2', 'b2', 'c2')\n",
            "('a3', 'b3', 'c3')\n",
            "0 a1 b1 c1\n",
            "1 a2 b2 c2\n",
            "2 a3 b3 c3\n"
          ],
          "name": "stdout"
        }
      ]
    },
    {
      "cell_type": "markdown",
      "metadata": {
        "id": "sc0SiM-Ax9fc"
      },
      "source": [
        "---\n",
        "### 외장함수\n",
        "\n",
        "+ import 모듈명"
      ]
    },
    {
      "cell_type": "code",
      "metadata": {
        "id": "zR1SdOP3OBjn",
        "colab": {
          "base_uri": "https://localhost:8080/"
        },
        "outputId": "267e9e3e-1812-4b5d-92da-eb955c8ea131"
      },
      "source": [
        "import sys\n",
        "\n",
        "# print(dir(sys))\n",
        "print(\"====================================\")\n",
        "print(sys.path)\n",
        "print(sys.platform)\n",
        "print(sys.version)"
      ],
      "execution_count": 5,
      "outputs": [
        {
          "output_type": "stream",
          "text": [
            "====================================\n",
            "['', '/content', '/env/python', '/usr/lib/python37.zip', '/usr/lib/python3.7', '/usr/lib/python3.7/lib-dynload', '/usr/local/lib/python3.7/dist-packages', '/usr/lib/python3/dist-packages', '/usr/local/lib/python3.7/dist-packages/IPython/extensions', '/root/.ipython']\n",
            "linux\n",
            "3.7.10 (default, Feb 20 2021, 21:17:23) \n",
            "[GCC 7.5.0]\n"
          ],
          "name": "stdout"
        }
      ]
    },
    {
      "cell_type": "code",
      "metadata": {
        "colab": {
          "base_uri": "https://localhost:8080/"
        },
        "id": "d7iafNLU3Elo",
        "outputId": "a93b5312-2862-4f60-ea0a-29d945eb99a6"
      },
      "source": [
        "import os\n",
        "\n",
        "# print(dir(os))\n",
        "print(\"====================================\")\n",
        "print(os.getcwd())"
      ],
      "execution_count": 9,
      "outputs": [
        {
          "output_type": "stream",
          "text": [
            "====================================\n",
            "/content\n"
          ],
          "name": "stdout"
        }
      ]
    },
    {
      "cell_type": "code",
      "metadata": {
        "colab": {
          "resources": {
            "http://localhost:8080/nbextensions/google.colab/files.js": {
              "data": "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",
              "ok": true,
              "headers": [
                [
                  "content-type",
                  "application/javascript"
                ]
              ],
              "status": 200,
              "status_text": ""
            }
          },
          "base_uri": "https://localhost:8080/",
          "height": 76
        },
        "id": "2ZFWUsGt9HmU",
        "outputId": "e1f8baea-ec13-43d5-9ffb-059de3c47e5f"
      },
      "source": [
        "from google.colab import files \n",
        "src = list(files.upload().values())[0] \n",
        "open('mymodule.py','wb').write(src) \n",
        "import mymodule\n",
        "\n",
        "# 함수 불러와서 사용하기\n"
      ],
      "execution_count": 12,
      "outputs": [
        {
          "output_type": "display_data",
          "data": {
            "text/html": [
              "\n",
              "     <input type=\"file\" id=\"files-550c66fc-fd6b-4b2b-958e-cc385803bb01\" name=\"files[]\" multiple disabled\n",
              "        style=\"border:none\" />\n",
              "     <output id=\"result-550c66fc-fd6b-4b2b-958e-cc385803bb01\">\n",
              "      Upload widget is only available when the cell has been executed in the\n",
              "      current browser session. Please rerun this cell to enable.\n",
              "      </output>\n",
              "      <script src=\"/nbextensions/google.colab/files.js\"></script> "
            ],
            "text/plain": [
              "<IPython.core.display.HTML object>"
            ]
          },
          "metadata": {
            "tags": []
          }
        },
        {
          "output_type": "stream",
          "text": [
            "Saving mymodule.py to mymodule (1).py\n"
          ],
          "name": "stdout"
        }
      ]
    },
    {
      "cell_type": "code",
      "metadata": {
        "colab": {
          "base_uri": "https://localhost:8080/"
        },
        "id": "7Q_SAp0O9XQh",
        "outputId": "67d10339-5fdc-4ea3-967a-977bfe1e748b"
      },
      "source": [
        "print(dir(mymodule))\n",
        "\n",
        "print(mymodule.sum(10, 20))\n",
        "mymodule.info(75, 185, name = \"홍길동\", age = 30, addr = \"서울시 강남구\")\n",
        "print(mymodule.company)"
      ],
      "execution_count": 17,
      "outputs": [
        {
          "output_type": "stream",
          "text": [
            "['__builtins__', '__cached__', '__doc__', '__file__', '__loader__', '__name__', '__package__', '__spec__', 'company', 'info', 'sum']\n",
            "30\n",
            "키 : 185\n",
            "몸무게 : 75\n",
            "기타 {'name': '홍길동', 'age': 30, 'addr': '서울시 강남구'}\n",
            "파이썬 주식회사\n"
          ],
          "name": "stdout"
        }
      ]
    },
    {
      "cell_type": "code",
      "metadata": {
        "colab": {
          "base_uri": "https://localhost:8080/"
        },
        "id": "2lA-un1W_uqg",
        "outputId": "3bac11be-6cfd-4bca-ad8d-1be6d88c3dfb"
      },
      "source": [
        "import datetime\n",
        "\n",
        "# 현재 시간\n",
        "today = datetime.date.today()\n",
        "print(today, \", \", today.year, \", \", today.month, \", \", today.day)\n",
        "\n",
        "print(\"==================================\")\n",
        "\n",
        "# 현재 날짜\n",
        "ctime = datetime.datetime.today()\n",
        "print(ctime)\n",
        "\n",
        "print(\"==================================\")\n",
        "\n",
        "# 날짜와 시간을 계산\n",
        "mydays = datetime.timedelta(days = -1)\n",
        "print(mydays)\n",
        "print(\"어제 : {}\".format(today + mydays))\n",
        "\n",
        "print(\"==================================\")\n",
        "\n",
        "# 한국 시간\n",
        "myhours = datetime.timedelta(hours = +9)\n",
        "print(\"한국시간 : {}\".format(ctime + myhours))\n",
        "\n",
        "print(\"==================================\")\n",
        "\n",
        "# 날짜의 형식 지정\n",
        "print(today.strftime(\"%m/%d/%Y\"))\n",
        "print(ctime.strftime(\"%Y-%m-%d %H:%M:%S\"))\n",
        "\n",
        "print(\"==================================\")\n",
        "\n",
        "# 날짜의 형식 변환날짜의 형식 변환\n",
        "# (날짜를 문자열로 : strftime(), 문자열을 날짜로 : strptime())\n",
        "\n",
        "print(type(today.strftime(\"%m/%d/%Y\")))\n",
        "\n",
        "print(type(ctime))\n",
        "t = ctime.strftime(\"%Y-%m-%d %H:%M:%S\")\n",
        "print(type(t))\n",
        "\n",
        "strDate = \"2021-5-5 11:56:50\"\n",
        "print(type(strDate))\n",
        "d = datetime.datetime.strptime(strDate, \"%Y-%m-%d %H:%M:%S\")\n",
        "print(type(d))"
      ],
      "execution_count": 62,
      "outputs": [
        {
          "output_type": "stream",
          "text": [
            "2021-04-07 ,  2021 ,  4 ,  7\n",
            "==================================\n",
            "2021-04-07 02:41:12.320083\n",
            "==================================\n",
            "-1 day, 0:00:00\n",
            "어제 : 2021-04-06\n",
            "==================================\n",
            "한국시간 : 2021-04-07 11:41:12.320083\n",
            "==================================\n",
            "04/07/2021\n",
            "2021-04-07 02:41:12\n",
            "==================================\n",
            "<class 'str'>\n",
            "<class 'datetime.datetime'>\n",
            "<class 'str'>\n",
            "<class 'str'>\n",
            "<class 'datetime.datetime'>\n"
          ],
          "name": "stdout"
        }
      ]
    },
    {
      "cell_type": "markdown",
      "metadata": {
        "id": "HEU05zEQOGzj"
      },
      "source": [
        "---\n",
        "### 명령행 인자(Command Line Argument)"
      ]
    },
    {
      "cell_type": "code",
      "metadata": {
        "id": "ymkPsXYyOFz6"
      },
      "source": [
        "\"\"\"\n",
        "파일명 : phonebook.py\n",
        "데이터 : 임의로 준비\n",
        "실행예시 :\n",
        "    python phonebook.py 관우\n",
        "\n",
        "    이름 : 홍관우\n",
        "    전화 : 010-3333-3333\n",
        "    주소 : 서울시 강서구\n",
        "\"\"\"\n",
        "\n",
        "data = [\n",
        "        [\"홍길동\", \"010-1111-1111\", \"서울시 강남구\"],\n",
        "        [\"홍유비\", \"010-2222-2222\", \"서울시 서초구\"],\n",
        "        [\"홍관우\", \"010-3333-3333\", \"서울시 송파구\"],\n",
        "        [\"홍장비\", \"010-4444-4444\", \"서울시 강동구\"],\n",
        "]"
      ],
      "execution_count": null,
      "outputs": []
    },
    {
      "cell_type": "code",
      "metadata": {
        "colab": {
          "base_uri": "https://localhost:8080/"
        },
        "id": "UChehOmROI51",
        "outputId": "fbbdb50a-d53a-4de8-a327-5ab288cf176d"
      },
      "source": [
        "import sys\n",
        "import numpy\n",
        "\n",
        "data = [\n",
        "        [\"홍길동\", \"010-1111-1111\", \"서울시 강남구\"],\n",
        "        [\"홍유비\", \"010-2222-2222\", \"서울시 서초구\"],\n",
        "        [\"홍관우\", \"010-3333-3333\", \"서울시 송파구\"],\n",
        "        [\"홍장비\", \"010-4444-4444\", \"서울시 강동구\"],\n",
        "]\n",
        "a = numpy.array(data)\n",
        "name = sys.argv[1]\n",
        "b = int(numpy.where(a == name)[0])\n",
        "\n",
        "print(\"이름 : {}\".format(data[b][0]))\n",
        "print(\"전화 : {}\".format(data[b][1]))\n",
        "print(\"주소 : {}\".format(data[b][2]))"
      ],
      "execution_count": 98,
      "outputs": [
        {
          "output_type": "stream",
          "text": [
            "이름 : 홍관우\n",
            "전화 : 010-3333-3333\n",
            "주소 : 서울시 송파구\n"
          ],
          "name": "stdout"
        }
      ]
    },
    {
      "cell_type": "code",
      "metadata": {
        "id": "2T7wFyVtBcDZ"
      },
      "source": [
        "import sys\n",
        "\n",
        "data = [\n",
        "        [\"홍길동\", \"010-1111-1111\", \"서울시 강남구\"],\n",
        "        [\"홍유비\", \"010-2222-2222\", \"서울시 서초구\"],\n",
        "        [\"홍관우\", \"010-3333-3333\", \"서울시 송파구\"],\n",
        "        [\"홍장비\", \"010-4444-4444\", \"서울시 강동구\"],\n",
        "]\n",
        "\n",
        "a = data\n",
        "name = sys.argv[1]\n",
        "\n",
        "for i in range(0,len(data)):\n",
        "        if name == data[i][0]:\n",
        "            print(\"이름 : {}\".format(data[i][0]))\n",
        "            print(\"전화번호 : {}\".format(data[i][1]))\n",
        "            print(\"주소 : {}\".format(data[i][2]))"
      ],
      "execution_count": 113,
      "outputs": []
    },
    {
      "cell_type": "markdown",
      "metadata": {
        "id": "ZCTmifrlaoLz"
      },
      "source": [
        "---\n",
        "### 재귀 함수(Recursive Function)"
      ]
    },
    {
      "cell_type": "code",
      "metadata": {
        "id": "k4339mZhatBU"
      },
      "source": [
        "def func():\n",
        "    ...\n",
        "    ...\n",
        "    func()\n",
        "\n",
        "#########################\n",
        "\n"
      ],
      "execution_count": null,
      "outputs": []
    },
    {
      "cell_type": "code",
      "metadata": {
        "colab": {
          "base_uri": "https://localhost:8080/"
        },
        "id": "nglzUSVwgLME",
        "outputId": "83319ba4-3229-4875-c2d9-f54a61a8764f"
      },
      "source": [
        "def countDown(n):\n",
        "    if n == 0:\n",
        "       print(n)\n",
        "       return\n",
        "    else:\n",
        "       print(n)\n",
        "       countDown(n-1)\n",
        "\n",
        "countDown(5)\n",
        "##################\n",
        "\n",
        "# countDown(5)\n",
        "\n",
        "# for i in range(5, -1, -1):\n",
        "#     countDown(i)\n",
        "\n"
      ],
      "execution_count": 77,
      "outputs": [
        {
          "output_type": "stream",
          "text": [
            "5\n",
            "4\n",
            "3\n",
            "2\n",
            "1\n",
            "0\n"
          ],
          "name": "stdout"
        }
      ]
    },
    {
      "cell_type": "code",
      "metadata": {
        "colab": {
          "base_uri": "https://localhost:8080/"
        },
        "id": "7OhGk8a44IkG",
        "outputId": "8dce5c35-4277-4d51-a404-351f3a34ce8b"
      },
      "source": [
        "import time\n",
        "\n",
        "\n",
        "\n",
        "def fact1(n):\n",
        "    result = 1\n",
        "\n",
        "    while n > 0:\n",
        "          print(n)\n",
        "          result = result * n\n",
        "          n = n - 1\n",
        "\n",
        "    return result\n",
        "\n",
        "\n",
        "def fact2(n):\n",
        "    if n == 1:\n",
        "       return 1\n",
        "\n",
        "    print(n)\n",
        "    return n * fact2(n-1)\n",
        "\n",
        "\n",
        "#############################\n",
        "\n",
        "start_time = time.time()\n",
        "fact1(10)\n",
        "end_time = time.time()\n",
        "print(\"걸린 시간 :\", end_time - start_time)\n",
        "\n",
        "print(\"===========\")\n",
        "start_time_1 = time.time()\n",
        "fact2(10)\n",
        "end_time_1 = time.time()\n",
        "print(\"걸린 시간 :\", end_time_1 - start_time_1)\n"
      ],
      "execution_count": 109,
      "outputs": [
        {
          "output_type": "stream",
          "text": [
            "10\n",
            "9\n",
            "8\n",
            "7\n",
            "6\n",
            "5\n",
            "4\n",
            "3\n",
            "2\n",
            "1\n",
            "걸린 시간 : 0.0004870891571044922\n",
            "===========\n",
            "10\n",
            "9\n",
            "8\n",
            "7\n",
            "6\n",
            "5\n",
            "4\n",
            "3\n",
            "2\n",
            "걸린 시간 : 0.003841400146484375\n"
          ],
          "name": "stdout"
        }
      ]
    },
    {
      "cell_type": "markdown",
      "metadata": {
        "id": "0ziEBVD19oNU"
      },
      "source": [
        "---\n",
        "### 파일처리(persistence 관점)\n",
        "\n",
        "+ open(파일명(경로 포함), 모드) - mode : r, w, a, rb, wb, ab\n",
        "+ close()\n",
        "+ 읽어올 때 : readline(), readlines(), read()\n",
        "+ 저장할 때 : write() "
      ]
    },
    {
      "cell_type": "code",
      "metadata": {
        "id": "IQvfnkVx9r_g"
      },
      "source": [
        "# 주피터 노트북에서 실행\n",
        "\n",
        "# f = open(\"mymodule.py\", \"r\")\n",
        "\n",
        "# print(f)\n",
        "\n",
        "# print(type(f.readline()))\n",
        "# print(f.readline())\n",
        "# print(f.readline())\n",
        "# print(f.readline())\n",
        "# print(f.readline())\n",
        "# print(f.readline())\n",
        "\n",
        "while True:\n",
        "      line = f.readline()\n",
        "\n",
        "      if not line:\n",
        "         break\n",
        "      \n",
        "      print(line)   \n",
        "\n",
        "\n",
        "# f.close()"
      ],
      "execution_count": 134,
      "outputs": []
    },
    {
      "cell_type": "code",
      "metadata": {
        "colab": {
          "resources": {
            "http://localhost:8080/nbextensions/google.colab/files.js": {
              "data": "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",
              "ok": true,
              "headers": [
                [
                  "content-type",
                  "application/javascript"
                ]
              ],
              "status": 200,
              "status_text": ""
            }
          },
          "base_uri": "https://localhost:8080/",
          "height": 76
        },
        "id": "nHT9tljQFZUP",
        "outputId": "43f9070c-9ac1-4319-8e6f-1b67bad94ec4"
      },
      "source": [
        "from google.colab import files\n",
        "f = files.upload()"
      ],
      "execution_count": 138,
      "outputs": [
        {
          "output_type": "display_data",
          "data": {
            "text/html": [
              "\n",
              "     <input type=\"file\" id=\"files-18420ad0-0fe3-4aa5-9a9e-cbed900a8a5a\" name=\"files[]\" multiple disabled\n",
              "        style=\"border:none\" />\n",
              "     <output id=\"result-18420ad0-0fe3-4aa5-9a9e-cbed900a8a5a\">\n",
              "      Upload widget is only available when the cell has been executed in the\n",
              "      current browser session. Please rerun this cell to enable.\n",
              "      </output>\n",
              "      <script src=\"/nbextensions/google.colab/files.js\"></script> "
            ],
            "text/plain": [
              "<IPython.core.display.HTML object>"
            ]
          },
          "metadata": {
            "tags": []
          }
        },
        {
          "output_type": "stream",
          "text": [
            "Saving filetest1.txt to filetest1 (1).txt\n"
          ],
          "name": "stdout"
        }
      ]
    },
    {
      "cell_type": "code",
      "metadata": {
        "id": "uj8kvu65M1_c"
      },
      "source": [
        "# f = open(\"D:\\Coding\\Acorn\\pythonwork\\data\\filetest1.txt\", \"r\") # 상대경로\n",
        "# f = open(\".\\data\\filetest1.txt\", \"r\") # 절대경로"
      ],
      "execution_count": null,
      "outputs": []
    },
    {
      "cell_type": "code",
      "metadata": {
        "id": "Bu86UuFtQs2J"
      },
      "source": [
        "# f = open(\".\\data\\filetest1.txt\", \"r\")\n",
        "\n",
        "# lines = f.readlines()\n",
        "# print(lines)\n",
        "\n",
        "# f.close()\n",
        "\n",
        "# for i in lines:\n",
        "#     print(i, ens = \"\")\n",
        "\n",
        "# 모든 라인을 리스트로 저장한다"
      ],
      "execution_count": null,
      "outputs": []
    },
    {
      "cell_type": "code",
      "metadata": {
        "id": "YY-F5nipSZBY"
      },
      "source": [
        "# f = open(\".\\data\\filetest1.txt\", \"r\")\n",
        "\n",
        "# data = f.read()\n",
        "# print(data)\n",
        "# print(type(data))\n",
        "\n",
        "\"\"\"\n",
        "1 : abcd\n",
        "2 : efgh\n",
        "3 : ijkl\n",
        "...\n",
        "\n",
        "\"\"\"\n",
        "\n",
        "\n",
        "\n",
        "# f.close()\n",
        "\n",
        "# 전체 데이터를 하나의 문자열로 묶어버린다"
      ],
      "execution_count": null,
      "outputs": []
    },
    {
      "cell_type": "code",
      "metadata": {
        "id": "UCIhzDWxUQ1y"
      },
      "source": [
        "# f = open(\".\\data\\filetest2.txt\", \"w\")\n",
        "\n",
        "# f.write(\"이름 : 홍길동, \")\n",
        "# f.write(\"전화 : 010-1111-1111, \")\n",
        "# f.write(\"주소 : 서울시 강남구\\n\")\n",
        "\n",
        "# f.write(\"이름 : 임꺽정, \")\n",
        "# f.write(\"전화 : 010-2222-2222, \")\n",
        "# f.write(\"주소 : 서울시 서초구\\n\")\n",
        "\n",
        "# f.close\n"
      ],
      "execution_count": null,
      "outputs": []
    },
    {
      "cell_type": "code",
      "metadata": {
        "id": "XiLuOVHeWdy7"
      },
      "source": [
        "# csv 형식으로 데이터 저장\n",
        "\n",
        "# nums = [1, 2, 3, 4, 5, 6, 7, 8, 9]\n",
        "\n",
        "# f = open(\"filetest3.txt\", \"w\")\n",
        "# f.write(str(nums))\n",
        "\n",
        "# f.close()"
      ],
      "execution_count": null,
      "outputs": []
    },
    {
      "cell_type": "code",
      "metadata": {
        "id": "MsR61vOUX_QB"
      },
      "source": [
        "# f = open(\"filetest3.txt\", \"w\")\n",
        "\n",
        "# for i in range(len(nums)):\n",
        "#     f.write(str(nums[i]) + \", \")\n",
        "\n",
        "# f.close()"
      ],
      "execution_count": null,
      "outputs": []
    },
    {
      "cell_type": "code",
      "metadata": {
        "id": "YdxstG8pallW"
      },
      "source": [
        "# f = open(\"filetest3.txt\", \"w\")\n",
        "\n",
        "# for i in range(len(nums)):\n",
        "#     if i == (len(nums)-1):\n",
        "#         f.write(str(nums[i]))\n",
        "#     else:\n",
        "#         f.write(str(nums[i]) + \", \")\n",
        "\n",
        "\n",
        "# f.close()"
      ],
      "execution_count": null,
      "outputs": []
    },
    {
      "cell_type": "code",
      "metadata": {
        "id": "AYGe18rooOlK"
      },
      "source": [
        ""
      ],
      "execution_count": null,
      "outputs": []
    }
  ]
}