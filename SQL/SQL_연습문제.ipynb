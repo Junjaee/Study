{
  "nbformat": 4,
  "nbformat_minor": 0,
  "metadata": {
    "colab": {
      "name": "SQL 연습문제.ipynb",
      "provenance": [],
      "collapsed_sections": [],
      "authorship_tag": "ABX9TyNBSPXP5+jAFYZpNfAcLODi",
      "include_colab_link": true
    },
    "kernelspec": {
      "name": "python3",
      "display_name": "Python 3"
    },
    "language_info": {
      "name": "python"
    }
  },
  "cells": [
    {
      "cell_type": "markdown",
      "metadata": {
        "id": "view-in-github",
        "colab_type": "text"
      },
      "source": [
        "<a href=\"https://colab.research.google.com/github/Junjaee/Study/blob/main/SQL/SQL_%EC%97%B0%EC%8A%B5%EB%AC%B8%EC%A0%9C.ipynb\" target=\"_parent\"><img src=\"https://colab.research.google.com/assets/colab-badge.svg\" alt=\"Open In Colab\"/></a>"
      ]
    },
    {
      "cell_type": "code",
      "metadata": {
        "id": "x1hNhD83TZ5L"
      },
      "source": [
        "# SQL 연습문제1\n",
        "\n",
        "# 1. 1981년에 입사한 사람의 이름, 업무, 입사일자 조회\n",
        "SELECT ename, job, HIREDATE FROM emp WHERE HIREDATE BETWEEN 19810101 AND 19811231;\n",
        "\n",
        "# 2. 사번이 7902, 7788, 7566인 사원의 이름, 업무, 급여, 입사일자 조회\n",
        "SELECT ename, job, sal, HIREDATE FROM emp WHERE EMPNO IN (7902, 7788, 7566);\n",
        "\n",
        "# 3. 업무가 manager, clerk, analyst가 아닌 직원의 이름, 업무, 급여, 부서번호 조회\n",
        "SELECT ename, job, sal, DEPTNO FROM emp WHERE job NOT IN ('manager','clerk','analyst');\n",
        "\n",
        "# 4. 업무가 president 또는 salesman이고 급여가 1500인 직원의 이름, 급여, 업무, 부서번호 조회\n",
        "SELECT ename, sal, job, DEPTNO FROM emp WHERE job IN ('presidient','salesman') AND sal = 1500;\n",
        "\n",
        "# 5. 가장 최근에 입사한 직원의 이름, 부서, 업무, 입사일자 조회\n",
        "SELECT ename, DEPTNO, job, HIREDATE FROM emp WHERE hiredate = (SELECT MAX(HIREDATE) FROM emp);\n",
        "\n",
        "# 6. 같은 부서내에서 같은 업무를 하는 직원의 급여가 많은 순으로 조회\n",
        "SELECT ename, job, deptno, sal FROM emp ORDER BY deptno, job, sal DESC;\n",
        "# SELECT ename, deptno, job, sal FROM emp WHERE ename NOT IN (SELECT ename FROM emp GROUP BY deptno, job HAVING COUNT(*) = 1) ORDER BY deptno, job, sal DESC;\n",
        "# 부서내에 같은 업무를 가진 사람이 없을 경우 제외하는 식\n",
        "\n",
        "# 7. 커미션이 급여보다 10%이상 많은 직원의 급여가 많은 순으로 조회\n",
        "SELECT ename, job, deptno, sal, comm FROM emp WHERE comm >= sal*1.1 ORDER BY sal DESC; \n",
        "\n",
        "# 8. 이름에 L자가 2개 있고 30번 부서이거나 직속상사가 7782인 직원의 이름, 부서, 직속상사 조회\n",
        "SELECT ename, deptno, mgr FROM emp WHERE ename LIKE '%L%L%' AND (deptno = 30 OR mgr = 7782)"
      ],
      "execution_count": null,
      "outputs": []
    },
    {
      "cell_type": "code",
      "metadata": {
        "id": "2qeNLRIPXwVy"
      },
      "source": [
        "# SQL 연습문제2\n",
        "\n",
        "# 1. 오늘부터 12월 25일까지 몇일이 남았는가?\n",
        "SELECT datediff(20211225, now());\n",
        "\n",
        "# 2. 현재까지 근무한 직원들의 근무일수를 몇주 몇일로 조회.(단, 근무일수가 많은 사람 순으로 조회)\n",
        "SELECT ename '이름', hiredate '입사일', TIMESTAMPDIFF(WEEK, hiredate, NOW()) '몇주', mod(TIMESTAMPDIFF(DAY, hiredate, NOW()), 7) '몇일' FROM emp ORDER BY (NOW()-hiredate) desc;\n",
        "\n",
        "# 3. 10번 부서 직원들 중 현재까지의 근무월수를 계산해서 조회\n",
        "SELECT ename '이름', hiredate '입사일', TIMESTAMPDIFF(MONTH, hiredate, NOW()) '현재까지의 근무월수' FROM emp WHERE deptno = 10;\n",
        "\n",
        "# 4. 20번 부서 직원들 중 입사일자로부터 13개월이 지난 후의 날짜를 조회\n",
        "SELECT ename '이름', hiredate '입사일', DATE_ADD(hiredate, interval 13 MONTH) '입사일자로부터 13개월 후' FROM emp WHERE deptno = 20;\n",
        "# date_format( , )을 이용하면 날짜의 형식도 지정해 줄 수 있다\n",
        "\n",
        "\n",
        "# 5. 모든 직원에 대해 입사한 달의 근무일수를 조회\n",
        "SELECT ename '이름', hiredate '입사일', (datediff(last_day(hiredate), hiredate) + 1) '입사한 달의 근무일수' FROM emp;\n",
        "\n",
        "# 6. 현재 급여에 15%가 증가된 급여를 계산하여 사번, 이름, 급여, 증가된 급여를 조회(단, 급여는 반올림하여 적용한다.)\n",
        "SELECT empno '사번', ename '이름', sal '급여', round(sal*1.15) '증가된 급여' FROM emp; \n",
        "\n",
        "# 7. 이름, 입사일, 입사일로부터 현재까지의 월수, 급여, 급여 총계를 조회\n",
        "SELECT ename '이름', HIREDATE '입사일', TIMESTAMPDIFF(MONTH, hiredate, NOW()) '입사일로부터 현재까지의 월수', sal '급여', sal*TIMESTAMPDIFF(MONTH, hiredate, NOW()) '급여 총계' FROM emp; \n",
        "\n",
        "# 8. 업무가 analyst이면 급여를 10%증가시키고 clerk이면 15%, manager이면 20%증가 시켜서 이름, 업무, 급여, 증가된 급여를 조회\n",
        "SELECT ename '이름', job '업무', sal'급여', \n",
        "  CASE\n",
        "    WHEN job = 'analyst' THEN round(sal*1.1)\n",
        "    WHEN job = 'clerk' THEN round(sal*1.15)\n",
        "    WHEN job = 'manager' THEN round(sal*1.2)\n",
        "    ELSE sal\n",
        "  END as '증가된 급여'\n",
        "FROM emp\n",
        "\n",
        "# 9. 이름의 첫글자가 k보다 크고 y보다 작은 직원의 이름, 부서, 업무를 조회하시오.\n",
        "SELECT ename '이름', deptno '부서', job '업무' FROM emp WHERE SUBSTR(ename, 1, 1) > 'k' AND SUBSTR(ename, 1, 1) < 'y';"
      ],
      "execution_count": null,
      "outputs": []
    },
    {
      "cell_type": "code",
      "metadata": {
        "id": "2PpFPVdGII5h"
      },
      "source": [
        "# SQL 연습문제3\n",
        "\n",
        "# 1. Blake와 같은 부서에 있는 모든 직원의 사번, 이름, 입사일자 조회\n",
        "SELECT empno '사번', ename '이름', hiredate '입사일자' FROM emp WHERE deptno = (SELECT deptno FROM emp WHERE ename = 'Blake');\n",
        "\n",
        "# 2. SELECT empno, ename, deptno, sal, comm FROM emp\n",
        "# WHERE (sal, comm) IN(SELECT sal, comm FROM emp WHERE deptno=30);\n",
        "# 이 쿼리에서 보너스가 null인 사람도 출력될 수 있도록 수정하시오.\n",
        "SELECT empno '사번', ename '이름', deptno '부서', sal '급여', comm '보너스' FROM emp\n",
        "WHERE (sal, coalesce(comm, 0)) IN (SELECT sal, coalesce(comm, 0) FROM emp WHERE deptno=30);\n",
        "\n",
        "# 3. 평균 급여 이상을 받는 직원들의  사번, 이름을 조회. 단, 급여가 많은 순으로 정렬\n",
        "SELECT empno '사번', ename '이름' FROM emp WHERE sal >= (SELECT avg(sal) FROM emp) ORDER BY sal DESC;\n",
        "\n",
        "# 4. 이름에 T자가 들어가는 직원이 근무하는 부서에서 근무하는 직원의 사번,이름, 급여 조회\n",
        "SELECT empno '사번', ename '이름', sal '급여' FROM emp WHERE deptno IN (SELECT deptno FROM emp WHERE ename LIKE '%T%');\n",
        "\n",
        "# 5. 부서의 위치가 dallas인 모든 직원에 대해 사번, 이름, 급여, 업무조회 -> dept 테이블 참고\n",
        "SELECT empno '사번', ename '이름', sal '급여', job '업무' FROM emp WHERE deptno = (SELECT deptno FROM dept where LOC = 'dallas');\n",
        "\n",
        "# 6. King에게 보고하는 모든 직원의 이름과 부서, 업무, 급여를 조회\n",
        "SELECT ename '이름', deptno '부서', job '업무', sal '급여' FROM emp WHERE MGR = (SELECT empno FROM emp WHERE ename = 'KING');\n",
        "\n",
        "# 7. 급여가 30번 부서의 최저급여보다 높은 직원의 사번, 이름, 급여 조회\n",
        "SELECT empno '사번', ename '이름', sal '급여' FROM emp WHERE sal > (SELECT MIN(sal) FROM emp WHERE deptno = 30);\n",
        "\n",
        "# 8. 10번부서에서 30번 부서의 직원과 같은 업무를 하는 직원의 이름과 업무를 조회\n",
        "SELECT ename '이름', job '업무' FROM emp WHERE job IN (SELECT distinct job FROM emp WHERE deptno = 30) AND deptno = 10;\n"
      ],
      "execution_count": null,
      "outputs": []
    },
    {
      "cell_type": "code",
      "metadata": {
        "id": "vWiJEdKMbi-B"
      },
      "source": [
        "# SQL 연습문제4\n",
        " \n",
        "# 1. 말단 사원(부하 직원이 없는 사람)의 사번, 이름, 업무, 부서번호, 근무지를 조회\n",
        "# --> 매니저가 아니고 평균 연봉이 가장 적은 업무를 갖고 있는 사람 중 가장 늦게 입사한 사람\n",
        "SELECT empno, ename, job, emp.deptno, loc FROM emp JOIN dept\n",
        "ON emp.deptno = dept.deptno\n",
        "WHERE empno NOT IN (SELECT COALESCE(MGR,0) FROM emp)\n",
        "AND job = (SELECT job FROM emp GROUP BY job ORDER BY AVG(sal) LIMIT 1)\n",
        "ORDER BY hiredate desc LIMIT 1;\n",
        "\n",
        "# --> Manager가 아니고 입사일이 가장 늦은 사람\n",
        "SELECT empno, ename, job, emp.deptno, loc FROM emp JOIN dept\n",
        "ON emp.deptno = dept.deptno\n",
        "WHERE empno NOT IN (SELECT COALESCE(MGR,0) FROM emp)\n",
        "ORDER BY hiredate desc LIMIT 1;\n",
        "\n",
        "# --> Manager가 아닌 사람\n",
        "SELECT empno, ename, job, emp.deptno, loc FROM emp JOIN dept\n",
        "ON emp.deptno = dept.deptno\n",
        "WHERE empno NOT IN (SELECT COALESCE(MGR,0) FROM emp)\n",
        "ORDER BY hiredate desc;\n",
        "\n",
        "\n",
        "# 2. SELF JOIN 예제\n",
        "# - 한 권의 책에 대해 두 명 이상의 작가가 쓴 책 조회\n",
        "    책이름  작가명  작가명\n",
        "SELECT a.title, a.author, b.author FROM tblbook a \n",
        "INNER JOIN tblbook b\n",
        "ON a.title = b.title AND a.author < b.author;\n",
        "\n",
        "#- 한 권의 책에 대해 세 명의 작가가 쓴 책 조회\n",
        "   책이름  작가명  작가명  작가명\n",
        "SELECT a.title, a.author, b.author, c.author FROM tblbook a\n",
        "INNER JOIN tblbook b \n",
        "ON a.title = b.title AND a.author < b.author\n",
        "INNER JOIN tblbook c\n",
        "ON b.title = c.title AND b.author < c.author;\n",
        "\n",
        "============================    \n",
        "  CREATE TABLE tblBook(\n",
        "                            author  varchar(20),\n",
        "                            title varchar(20)\n",
        "    );\n",
        " \n",
        "    INSERT INTO tblBook VALUES('최주현', '하늘과 땅');\n",
        "    INSERT INTO tblBook VALUES('최주현', '바다');\n",
        "    INSERT INTO tblBook VALUES('유은정', '바다');\n",
        "    INSERT INTO tblBook VALUES('박성우', '문');\n",
        "    INSERT INTO tblBook VALUES('최주현', '문');\n",
        "    INSERT INTO tblBook VALUES('박성우', '천국');\n",
        "    INSERT INTO tblBook VALUES('최지은', '천국');\n",
        "    INSERT INTO tblBook VALUES('최주현', '천국');\n",
        "    INSERT INTO tblBook VALUES('박성우', '고슴도치');\n",
        "    INSERT INTO tblBook VALUES('서금동', '나');\n",
        "============================    \n"
      ],
      "execution_count": null,
      "outputs": []
    },
    {
      "cell_type": "markdown",
      "metadata": {
        "id": "cHH8ShRshsW5"
      },
      "source": [
        "SQL 연습문제5\n",
        "\n",
        "![TableExam.png](data:image/png;base64,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)"
      ]
    },
    {
      "cell_type": "code",
      "metadata": {
        "id": "ruK85u8yhrUo"
      },
      "source": [
        "# SQL 연습문제5\n",
        "\n",
        "CREATE TABLE POST(\n",
        "  POST1    CHAR(3),\n",
        "  POST2    CHAR(3),\n",
        "  ADDR     VARCHAR(60)  NOT NULL,\n",
        "  CONSTRAINT pk_post PRIMARY KEY(POST1, POST2)\n",
        ");\n",
        "\n",
        "CREATE TABLE MEMBER(\n",
        "  ID      int(4),\n",
        "  Name    VARCHAR(10) NOT NULL,\n",
        "  SEX     CHAR(1),\n",
        "  JUMIN1  CHAR(6),\n",
        "  JUMIN2  CHAR(7),\n",
        "  TEL     VARCHAR(15),\n",
        "  POST1   CHAR(3),\n",
        "  POST2   CHAR(3),\n",
        "  ADDR    VARCHAR(60),\n",
        "  CONSTRAINT pk_id PRIMARY KEY(ID),\n",
        "  CONSTRAINT uk_jumin1 UNIQUE(JUMIN1),\n",
        "  CONSTRAINT uk_jumin2 UNIQUE(JUMIN2),\n",
        "  CONSTRAINT fk_id FOREIGN KEY(POST1, POST2) REFERENCES POST(POST1, POST2);\n",
        ");\n",
        "\n"
      ],
      "execution_count": null,
      "outputs": []
    }
  ]
}