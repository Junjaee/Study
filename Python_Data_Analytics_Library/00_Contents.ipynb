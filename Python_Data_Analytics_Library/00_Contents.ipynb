{
  "nbformat": 4,
  "nbformat_minor": 0,
  "metadata": {
    "colab": {
      "name": "00_Contents.ipynb",
      "provenance": [],
      "collapsed_sections": [],
      "authorship_tag": "ABX9TyN4zCi3tJKRnA0F1uqH8mhs",
      "include_colab_link": true
    },
    "kernelspec": {
      "name": "python3",
      "display_name": "Python 3"
    },
    "language_info": {
      "name": "python"
    }
  },
  "cells": [
    {
      "cell_type": "markdown",
      "metadata": {
        "id": "view-in-github",
        "colab_type": "text"
      },
      "source": [
        "<a href=\"https://colab.research.google.com/github/Junjaee/Study/blob/main/Python%20Data%20Analytics%20Library/00_Contents.ipynb\" target=\"_parent\"><img src=\"https://colab.research.google.com/assets/colab-badge.svg\" alt=\"Open In Colab\"/></a>"
      ]
    },
    {
      "cell_type": "markdown",
      "metadata": {
        "id": "nfn2dl0q7bpc"
      },
      "source": [
        "1. 데이터 분석 라이브러리\n",
        "  - (1) numpy\n",
        "          - 벡터 및 행렬 연산과 관련된 편리한 기능들을 제공\n",
        "          - 특히 배열(Array)과 관련된 연산을 제공\n",
        "          - 여러가지 다양한 수학 함수 제공\n",
        "  - (2) pandas\n",
        "          - Series, DataFrame 등의 자료구조를 활용하여 데이터 분석에 있어 우수한 성능을 발휘\n",
        "          - 대량의 데이터를 더욱 빠른 속도로 처리\n",
        "          - 데이터 분석의 메인 도구\n",
        "  - (3) matplotlib\n",
        "          - 시각화\n",
        "          - seaborn\n",
        "  - *.scipy\n",
        "          - 과학, 분석용 오픈소스 기반 라이브러리\n",
        "          - numpy array object 위에서 구축, 개발됨\n",
        "\n",
        "\n",
        "2. 머신 러닝/ 딥러닝\n",
        "  - (1) scikit-learn\n",
        "\n",
        "  - (2) Tensorflow\n"
      ]
    },
    {
      "cell_type": "code",
      "metadata": {
        "id": "iqFJLnMP7UmZ"
      },
      "source": [
        ""
      ],
      "execution_count": null,
      "outputs": []
    }
  ]
}
