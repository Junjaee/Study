{
  "nbformat": 4,
  "nbformat_minor": 0,
  "metadata": {
    "colab": {
      "name": "11_MyCrawler.ipynb",
      "provenance": [],
      "collapsed_sections": [],
      "authorship_tag": "ABX9TyOqb6cPvMr9SQRAwWFrBYM2",
      "include_colab_link": true
    },
    "kernelspec": {
      "name": "python3",
      "display_name": "Python 3"
    },
    "language_info": {
      "name": "python"
    }
  },
  "cells": [
    {
      "cell_type": "markdown",
      "metadata": {
        "id": "view-in-github",
        "colab_type": "text"
      },
      "source": [
        "<a href=\"https://colab.research.google.com/github/Junjaee/Study/blob/main/Python_Data_Analytics_Library/11_MyCrawler.ipynb\" target=\"_parent\"><img src=\"https://colab.research.google.com/assets/colab-badge.svg\" alt=\"Open In Colab\"/></a>"
      ]
    },
    {
      "cell_type": "markdown",
      "metadata": {
        "id": "8g4k5Zwwfo08"
      },
      "source": [
        ""
      ]
    },
    {
      "cell_type": "code",
      "metadata": {
        "id": "cqqHBrprtM-x"
      },
      "source": [
        "# import weather, corona, news, music\n",
        "import datetime\n",
        "from pytz import timezone\n",
        "\n",
        "from bs4 import BeautifulSoup\n",
        "import urllib.request\n",
        "import requests"
      ],
      "execution_count": 1,
      "outputs": []
    },
    {
      "cell_type": "code",
      "metadata": {
        "id": "r0igLFnxfpTu"
      },
      "source": [
        "def greeting():\n",
        "    now = datetime.datetime.now(timezone('Asia/Seoul'))\n",
        "    now_str = now.strftime(\"%Y년 %m월 %d일 %H시 %M분 입니다.\")\n",
        "\n",
        "    print(\"\\t 환영합니다. \\t\" + now_str)\n",
        "    print(\"\\t\\t 오늘의 주요 정보를 요약해 드리겠습니다. \\n\")"
      ],
      "execution_count": 2,
      "outputs": []
    },
    {
      "cell_type": "code",
      "metadata": {
        "id": "-zzLypLmDmFl"
      },
      "source": [
        "def weather():\n",
        "    \n",
        "\n",
        "    for i in loc:\n",
        "        html = requests.get('https://search.naver.com/search.naver?sm=top_hty&fbm=0&ie=utf8&query={}날씨'.format(i))\n",
        "        soup = BeautifulSoup(html.text, 'html.parser')\n",
        "        temps = soup.find('span',\"todaytemp\").get_text()\n",
        "        cast = soup.find('span',\"cast_txt\").get_text()\n",
        "\n",
        "        print(\"{}날씨 : {}℃, {}\".format(i, temps, cast))"
      ],
      "execution_count": 10,
      "outputs": []
    },
    {
      "cell_type": "code",
      "metadata": {
        "colab": {
          "base_uri": "https://localhost:8080/"
        },
        "id": "5-aMUJS9Mlll",
        "outputId": "2106783e-d6ba-4b7c-eab5-d14a2fbc83ba"
      },
      "source": [
        "loc = [\"서울\", \"대구\", \"부산\"]\n",
        "for i in loc:\n",
        "        html = requests.get('https://search.naver.com/search.naver?sm=top_hty&fbm=0&ie=utf8&query={}날씨'.format(i))\n",
        "        soup = BeautifulSoup(html.text, 'html.parser')\n",
        "        temps = soup.find('span',\"todaytemp\").get_text()\n",
        "        cast = soup.find('span',\"cast_txt\").get_text()\n",
        "\n",
        "        print(\"{}날씨 : {}℃, {}\".format(i, temps, cast))"
      ],
      "execution_count": 13,
      "outputs": [
        {
          "output_type": "stream",
          "text": [
            "서울날씨 : 21℃, None\n",
            "대구날씨 : 23℃, None\n",
            "부산날씨 : 22℃, None\n"
          ],
          "name": "stdout"
        }
      ]
    },
    {
      "cell_type": "code",
      "metadata": {
        "id": "Q2zKPHmyfpN5"
      },
      "source": [
        "# 오늘의 코로나 현황\n",
        "def corona():\n",
        "    print(\"오늘의 국내 코로나 현황 요약\" + \"\\n\")\n",
        "\n",
        "    html = requests.get('http://ncov.mohw.go.kr')\n",
        "    soup = BeautifulSoup(html.text, 'html.parser')\n",
        "    new = soup.find('span',\"before\").get_text()\n",
        "    sum = soup.find('span',\"num\").get_text()\n",
        "\n",
        "    print(\"--> 오늘의 신규 확진자 :\" + new + \"\\n\" + \"--> 현재까지 확진자 :\" + sum)"
      ],
      "execution_count": 4,
      "outputs": []
    },
    {
      "cell_type": "code",
      "metadata": {
        "id": "wkP1SM9-fpK6"
      },
      "source": [
        "# 오늘의 핫토픽\n",
        "def news():\n",
        "    print(\"오늘의 핫 토픽 헤드라인\" + \"\\n\")\n",
        "\n",
        "    html = requests.get('https://www.naver.com/')\n",
        "    soup = BeautifulSoup(html.text, 'html.parser')\n",
        "    for i in soup.find_all('a',\"issue\"):\n",
        "        print('--> ' , i.get_text())"
      ],
      "execution_count": 5,
      "outputs": []
    },
    {
      "cell_type": "code",
      "metadata": {
        "id": "yeD6Z-G4fpH6"
      },
      "source": [
        "# 오늘의 음원 TOP10\n",
        "def music():\n",
        "    print(\"오늘의 음원 종합 TOP 10\" + \"\\n\")\n",
        "    html = requests.get('https://search.naver.com/search.naver?sm=tab_hty.top&where=nexearch&query=%EC%9D%8C%EC%9B%90%EC%B0%A8%ED%8A%B8&oquery=%EB%A9%9C%EB%A1%A0%EC%B0%A8%ED%8A%B8&tqi=UrZ0HsprvN8ssK5ZP%2BsssssstVh-314088')\n",
        "    soup = BeautifulSoup(html.text, 'html.parser')\n",
        "    music_list = []\n",
        "\n",
        "    for i in soup.find_all('a', target = '_vibe'):\n",
        "        music_list.append(i.get_text())\n",
        "\n",
        "    music_list\n",
        "    for i in range(int((len(music_list)-2)/3)):\n",
        "        print(i+1, \"위 :\", music_list[3*i + 2], \"-\", music_list[3*i])"
      ],
      "execution_count": 6,
      "outputs": []
    },
    {
      "cell_type": "code",
      "metadata": {
        "id": "_V2EECuzVkVT",
        "colab": {
          "base_uri": "https://localhost:8080/",
          "height": 532
        },
        "outputId": "10e77670-7197-477f-c142-461b00491123"
      },
      "source": [
        "if __name__ == '__main__':\n",
        "    greeting()\n",
        "    \n",
        "    while True:\n",
        "        print(\"=\"*80)\n",
        "        print(\"1. 날씨\")\n",
        "        print(\"2. 코로나 현황\")\n",
        "        print(\"3. 핫 토픽\")\n",
        "        print(\"4. 음원 랭킹\")\n",
        "\n",
        "        menu = input(\"메뉴 입력 : \")\n",
        "\n",
        "        if menu == \"1\":\n",
        "            weather()\n",
        "        elif menu == \"2\":\n",
        "            corona()\n",
        "        elif menu == \"3\":\n",
        "            news()\n",
        "        elif menu == \"4\":\n",
        "            music()\n",
        "        else:\n",
        "            break\n"
      ],
      "execution_count": 9,
      "outputs": [
        {
          "output_type": "stream",
          "text": [
            "\t 환영합니다. \t2021년 06월 15일 10시 03분 입니다.\n",
            "\t\t 오늘의 주요 정보를 요약해 드리겠습니다. \n",
            "\n",
            "================================================================================\n",
            "1. 날씨\n",
            "2. 코로나 현황\n",
            "3. 핫 토픽\n",
            "4. 음원 랭킹\n",
            "메뉴 입력 : 1\n"
          ],
          "name": "stdout"
        },
        {
          "output_type": "error",
          "ename": "AttributeError",
          "evalue": "ignored",
          "traceback": [
            "\u001b[0;31m---------------------------------------------------------------------------\u001b[0m",
            "\u001b[0;31mAttributeError\u001b[0m                            Traceback (most recent call last)",
            "\u001b[0;32m<ipython-input-9-9a9b74d6aa06>\u001b[0m in \u001b[0;36m<module>\u001b[0;34m()\u001b[0m\n\u001b[1;32m     12\u001b[0m \u001b[0;34m\u001b[0m\u001b[0m\n\u001b[1;32m     13\u001b[0m         \u001b[0;32mif\u001b[0m \u001b[0mmenu\u001b[0m \u001b[0;34m==\u001b[0m \u001b[0;34m\"1\"\u001b[0m\u001b[0;34m:\u001b[0m\u001b[0;34m\u001b[0m\u001b[0;34m\u001b[0m\u001b[0m\n\u001b[0;32m---> 14\u001b[0;31m             \u001b[0mweather\u001b[0m\u001b[0;34m(\u001b[0m\u001b[0;34m)\u001b[0m\u001b[0;34m\u001b[0m\u001b[0;34m\u001b[0m\u001b[0m\n\u001b[0m\u001b[1;32m     15\u001b[0m         \u001b[0;32melif\u001b[0m \u001b[0mmenu\u001b[0m \u001b[0;34m==\u001b[0m \u001b[0;34m\"2\"\u001b[0m\u001b[0;34m:\u001b[0m\u001b[0;34m\u001b[0m\u001b[0;34m\u001b[0m\u001b[0m\n\u001b[1;32m     16\u001b[0m             \u001b[0mcorona\u001b[0m\u001b[0;34m(\u001b[0m\u001b[0;34m)\u001b[0m\u001b[0;34m\u001b[0m\u001b[0;34m\u001b[0m\u001b[0m\n",
            "\u001b[0;32m<ipython-input-3-0979eea45d70>\u001b[0m in \u001b[0;36mweather\u001b[0;34m()\u001b[0m\n\u001b[1;32m      6\u001b[0m         \u001b[0msoup\u001b[0m \u001b[0;34m=\u001b[0m \u001b[0mBeautifulSoup\u001b[0m\u001b[0;34m(\u001b[0m\u001b[0mhtml\u001b[0m\u001b[0;34m.\u001b[0m\u001b[0mtext\u001b[0m\u001b[0;34m,\u001b[0m \u001b[0;34m'html.parser'\u001b[0m\u001b[0;34m)\u001b[0m\u001b[0;34m\u001b[0m\u001b[0;34m\u001b[0m\u001b[0m\n\u001b[1;32m      7\u001b[0m         \u001b[0mtemps\u001b[0m \u001b[0;34m=\u001b[0m \u001b[0msoup\u001b[0m\u001b[0;34m.\u001b[0m\u001b[0mfind\u001b[0m\u001b[0;34m(\u001b[0m\u001b[0;34m'span'\u001b[0m\u001b[0;34m,\u001b[0m\u001b[0;34m\"todaytemp\"\u001b[0m\u001b[0;34m)\u001b[0m\u001b[0;34m.\u001b[0m\u001b[0mget_text\u001b[0m\u001b[0;34m(\u001b[0m\u001b[0;34m)\u001b[0m\u001b[0;34m\u001b[0m\u001b[0;34m\u001b[0m\u001b[0m\n\u001b[0;32m----> 8\u001b[0;31m         \u001b[0mcast\u001b[0m \u001b[0;34m=\u001b[0m \u001b[0msoup\u001b[0m\u001b[0;34m.\u001b[0m\u001b[0mfind\u001b[0m\u001b[0;34m(\u001b[0m\u001b[0;34m'span'\u001b[0m\u001b[0;34m,\u001b[0m\u001b[0;34m\"cast_txt\"\u001b[0m\u001b[0;34m)\u001b[0m\u001b[0;34m.\u001b[0m\u001b[0mget_text\u001b[0m\u001b[0;34m(\u001b[0m\u001b[0;34m)\u001b[0m\u001b[0;34m\u001b[0m\u001b[0;34m\u001b[0m\u001b[0m\n\u001b[0m\u001b[1;32m      9\u001b[0m \u001b[0;34m\u001b[0m\u001b[0m\n\u001b[1;32m     10\u001b[0m         \u001b[0mprint\u001b[0m\u001b[0;34m(\u001b[0m\u001b[0;34m\"{}날씨 : {}℃, {}\"\u001b[0m\u001b[0;34m.\u001b[0m\u001b[0mformat\u001b[0m\u001b[0;34m(\u001b[0m\u001b[0mi\u001b[0m\u001b[0;34m,\u001b[0m \u001b[0mtemps\u001b[0m\u001b[0;34m,\u001b[0m \u001b[0mcast\u001b[0m\u001b[0;34m)\u001b[0m\u001b[0;34m)\u001b[0m\u001b[0;34m\u001b[0m\u001b[0;34m\u001b[0m\u001b[0m\n",
            "\u001b[0;31mAttributeError\u001b[0m: 'NoneType' object has no attribute 'get_text'"
          ]
        }
      ]
    },
    {
      "cell_type": "code",
      "metadata": {
        "id": "ZOZJ2g1hVkS2"
      },
      "source": [
        ""
      ],
      "execution_count": null,
      "outputs": []
    }
  ]
}