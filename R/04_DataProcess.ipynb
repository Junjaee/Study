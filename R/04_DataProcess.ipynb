{
  "nbformat": 4,
  "nbformat_minor": 0,
  "metadata": {
    "colab": {
      "name": "04_DataProcess.ipynb",
      "provenance": [],
      "collapsed_sections": [],
      "authorship_tag": "ABX9TyNdK1w6zcntYUEVscczLIZJ",
      "include_colab_link": true
    },
    "kernelspec": {
      "name": "ir",
      "display_name": "R"
    },
    "language_info": {
      "name": "R"
    }
  },
  "cells": [
    {
      "cell_type": "markdown",
      "metadata": {
        "id": "view-in-github",
        "colab_type": "text"
      },
      "source": [
        "<a href=\"https://colab.research.google.com/github/Junjaee/Study/blob/main/R/04_DataProcess.ipynb\" target=\"_parent\"><img src=\"https://colab.research.google.com/assets/colab-badge.svg\" alt=\"Open In Colab\"/></a>"
      ]
    },
    {
      "cell_type": "code",
      "metadata": {
        "id": "pBOUk5elhn57"
      },
      "source": [
        "#### 기술 통계량 ####\n",
        "\n",
        "### table()\n",
        "aws <- read.delim(\"../data/AWS_sample.txt\", sep = \"#\")\n",
        "head(aws)\n",
        "str(aws)\n",
        "\n",
        "table(aws$AWS_ID)\n",
        "?table\n",
        "table(aws$AWS_ID, aws$X.)\n",
        "View(aws)\n",
        "\n",
        "table(aws[, c(\"AWS_ID\", \"X.\")])\n",
        "\n",
        "aws[2500:3100, \"X.\"] = \"modified\"\n",
        "aws[2500:3100, \"X.\"]\n",
        "table(aws$AWS_ID, aws$X.)\n",
        "\n",
        "prop.table(table(aws$AWS_ID))\n",
        "prop.table(table(aws$AWS_ID)) * 100\n",
        "\n",
        "paste0(prop.table(table(aws$AWS_ID)) * 100, \"%\")"
      ],
      "execution_count": null,
      "outputs": []
    },
    {
      "cell_type": "code",
      "metadata": {
        "id": "PsEEecAKhs_J"
      },
      "source": [
        "### 기술통계 함수의 모듈화\n",
        "# 각 컬럼 단위로 빈도와 최대 최소값 계산\n",
        "\n",
        "test <- read.csv(\"../data/test.csv\", header = T)\n",
        "head(test)\n",
        "length(test)\n",
        "str(test)\n",
        "\n",
        "table(test$A)\n",
        "max(test$A)\n",
        "min(test$A)\n",
        "\n",
        "data_proc <- function(df){\n",
        "  for(idx in 1:length(df)){\n",
        "    cat(idx, \"번째 컬럼의 빈도 분석 결과\")\n",
        "    print(table(df[idx]))\n",
        "    cat(\"\\n\")\n",
        "  }\n",
        "  \n",
        "  for(idx in 1:length(df)){\n",
        "    f <- table(df[idx])\n",
        "    cat(idx, \"번째 컬럼의 최대/최소값 결과 : \\t\")\n",
        "    cat(\"max =\", max(f), \", min = \", min(f), \"\\n\")\n",
        "  }\n",
        "}\n",
        "\n",
        "data_proc(test)"
      ],
      "execution_count": null,
      "outputs": []
    },
    {
      "cell_type": "code",
      "metadata": {
        "id": "GMW5WK_LhvJq"
      },
      "source": [
        "#### plyr, dplyr ####\n",
        "\n",
        "### plyr\n",
        "install.packages(\"plyr\")\n",
        "library(plyr)\n",
        "\n",
        "x <- data.frame(id = c(1, 2, 3, 4, 5, 6), height = c(160, 171, 173, 162, 165, 170))\n",
        "y <- data.frame(id = c(5, 4, 1, 3, 2, 7), weight = c(55, 73, 60, 57, 80, 91))\n",
        "x\n",
        "y\n",
        "?plyr"
      ],
      "execution_count": null,
      "outputs": []
    },
    {
      "cell_type": "code",
      "metadata": {
        "id": "d1hoaps3hxc8"
      },
      "source": [
        "# 데이터 병합\n",
        "xy <- join(x, y, by = \"id\", type = \"left\")\n",
        "xy\n",
        "\n",
        "xy <- join(x, y, by = \"id\", type = \"right\")\n",
        "xy\n",
        "\n",
        "xy <- join(x, y, by = \"id\", type = \"full\")\n",
        "xy\n",
        "\n",
        "xy <- join(x, y, by = \"id\", type = \"inner\")\n",
        "xy"
      ],
      "execution_count": null,
      "outputs": []
    },
    {
      "cell_type": "code",
      "metadata": {
        "id": "QON0FRKphzoA"
      },
      "source": [
        "# 다중 키\n",
        "x <- data.frame(key1 = c(1, 1, 2, 2, 3), key2 = c('a', 'b', 'c', 'd', 'e'),\n",
        "                val = c(10, 20, 30, 40, 50))\n",
        "\n",
        "y <- data.frame(key1 = c(3, 2, 2, 1, 1), key2 = c('e', 'd', 'c', 'b', 'a'),\n",
        "                val = c(500, 400, 300, 200, 100))\n",
        "\n",
        "xy <- join(x, y, by = c(\"key1\", \"key2\"))\n",
        "xy"
      ],
      "execution_count": null,
      "outputs": []
    },
    {
      "cell_type": "code",
      "metadata": {
        "id": "xCCFTiz9hziZ"
      },
      "source": [
        "# 기술 통계량\n",
        "# tapply : 집단 변수를 대상으로 한번에 하나의 통계량을 구할 때 사용(기본 함수)\n",
        "# ddply : 한번에 여러 개의 통계량을 구할 때 사용 (plyr 패키지 함수)\n",
        "\n",
        "head(iris)\n",
        "str(iris)\n",
        "unique(iris$Species)\n",
        "table(iris$Species)\n",
        "class(iris$Species)\n",
        "\n",
        "?tapply\n",
        "tapply(iris$Sepal.Length, iris$Species, mean)\n",
        "tapply(iris$Sepal.Length, iris$Species, sd)\n",
        "\n",
        "?ddply\n",
        "ddply(iris, .(Species), summarise, avg = mean(Sepal.Length))\n",
        "ddply(iris, .(Species), summarise, avg = mean(Sepal.Length), std = sd(Sepal.Length),\n",
        "      max = max(Sepal.Length), min = min(Sepal.Length))"
      ],
      "execution_count": null,
      "outputs": []
    },
    {
      "cell_type": "code",
      "metadata": {
        "id": "vgffktbDhzfu"
      },
      "source": [
        "### dplyr\n",
        "install.packages(\"dplyr\")\n",
        "library(dplyr)\n",
        "?dplyr\n",
        "help(package = dplyr)\n",
        "\n",
        "exam <- read.csv(\"../data/csv_exam.csv\")\n",
        "exam"
      ],
      "execution_count": null,
      "outputs": []
    },
    {
      "cell_type": "code",
      "metadata": {
        "id": "tJRlGDzthzc6"
      },
      "source": [
        "### filter()\n",
        "\n",
        "# 1반 학생들의 데이터 추출\n",
        "exam[exam$class == 1, ]\n",
        "subset(exam, class==1)\n",
        "\n",
        "filter(exam, class==1)\n",
        "exam %>% filter(class==1)\n",
        "\n",
        "# 2반이면서 영어점수가 80점 이상인 데이터만 추출\n",
        "exam[exam$class==2 & exam$english>=80, ]\n",
        "exam %>% filter(class==2 & english>=80)\n",
        "\n",
        "# 1, 3, 5반에 해당하는 데이터만 추출\n",
        "exam %>% filter(class==1 | class==3 | class==5)\n",
        "exam %>% filter(class %in% c(1, 3, 5))"
      ],
      "execution_count": null,
      "outputs": []
    },
    {
      "cell_type": "code",
      "metadata": {
        "id": "IpzzxO1QhzPk"
      },
      "source": [
        "### select()\n",
        "# 수학점수만 추출\n",
        "exam[, 3]\n",
        "exam %>% select(math)\n",
        "\n",
        "# 반, 수학, 영어점수 추출\n",
        "exam[, c(2, 3, 4)]\n",
        "exam %>% select(class, math, english)\n",
        "\n",
        "# 수학점수를 제외한 나머지 컬럼 추출\n",
        "exam %>% select(-math)\n",
        "\n",
        "# 1반 학생들의 수학점수만 추출(2명만 표시) : select math from exam there class=1 limit 2;\n",
        "exam %>% filter(class==1) %>% select(class, math) %>% head(2)\n",
        "\n",
        "exam1 <- filter(exam, class==1)\n",
        "exam2 <- select(exam1, class, math)\n",
        "head(exam2, n=2) # 훨씬 길고 불편하다"
      ],
      "execution_count": null,
      "outputs": []
    },
    {
      "cell_type": "code",
      "metadata": {
        "id": "sMBlbUHth8Tq"
      },
      "source": [
        "### arrange()\n",
        "exam %>% arrange(math)\n",
        "exam %>% arrange(desc(math))\n",
        "exam %>% arrange(class, math)"
      ],
      "execution_count": null,
      "outputs": []
    },
    {
      "cell_type": "code",
      "metadata": {
        "id": "FEkwiLJsh8RG"
      },
      "source": [
        "### mutate()\n",
        "exam$sum <- exam$math + exam$english + exam$science\n",
        "exam\n",
        "\n",
        "exam$mean <- exam$sum/3\n",
        "exam\n",
        "\n",
        "exam <- exam[ , -c(6, 7)] # 열 삭제\n",
        "exam\n",
        "\n",
        "exam %>% mutate(sum=math+english+science, mean=sum/3)\n",
        "exam # 원본은 그대로다\n",
        "\n",
        "exam <- exam %>% mutate(sum=math+english+science, mean=sum/3)\n",
        "exam # 원본에 저장되었다"
      ],
      "execution_count": null,
      "outputs": []
    },
    {
      "cell_type": "code",
      "metadata": {
        "id": "kiGwAfHvh8Oi"
      },
      "source": [
        "### summarise()\n",
        "exam %>% summarise(mean_math = mean(math))"
      ],
      "execution_count": null,
      "outputs": []
    },
    {
      "cell_type": "code",
      "metadata": {
        "id": "7jv_4lZVh8L6"
      },
      "source": [
        "### groupby()\n",
        "exam %>% group_by(class) %>% summarise(mean_math=mean(math), sum_math=sum(math),\n",
        "                                       median_math=median(math), count=n())"
      ],
      "execution_count": null,
      "outputs": []
    },
    {
      "cell_type": "code",
      "metadata": {
        "id": "1tZTeu36h8I6"
      },
      "source": [
        "### left_join(), bind_rows()\n",
        "test1 <- data.frame(id = c(1, 2, 3, 4 ,5), midterm = c(60, 70, 80, 90, 85))\n",
        "test2 <- data.frame(id = c(1, 2, 3, 4 ,5), midterm = c(70, 83, 65, 95, 80))\n",
        "\n",
        "left_join(test1, test2, by = \"id\")\n",
        "bind_rows(test1, test2)"
      ],
      "execution_count": null,
      "outputs": []
    },
    {
      "cell_type": "code",
      "metadata": {
        "id": "sH29AkxwiDzs"
      },
      "source": [
        "#### 연습문제 ####\n",
        "install.packages(\"ggplot2\")\n",
        "library(gplot2)\n",
        "\n",
        "head(ggplot2::mpg)\n",
        "str(ggplot2::mpg)\n",
        "class(ggplot2::mpg)\n",
        "\n",
        "mpg <- as.data.frame(ggplot2::mpg)\n",
        "tail(mpg)\n",
        "names(mpg)\n",
        "dim(mpg)\n",
        "View(mpg)"
      ],
      "execution_count": null,
      "outputs": []
    },
    {
      "cell_type": "code",
      "metadata": {
        "id": "VUUgmFY6iDw4"
      },
      "source": [
        "#### Data Preprocessing ####\n",
        "\n",
        "### 1. 데이터 탐색\n",
        "\n",
        "# 변수명 바꾸기\n",
        "df_raw <- data.frame(var1 = c(1, 2, 3), var2 = c(2, 3, 2))\n",
        "df_raw\n",
        "\n",
        "# 기본(내장)함수\n",
        "df_raw1 <- df_raw # 원본은 보존하고 복사본을 이용하자\n",
        "names(df_raw1) <- c(\"v1\", \"v2\")\n",
        "df_raw1\n",
        "\n",
        "library(dplyr)\n",
        "df_raw2 <- df_raw\n",
        "df_raw2 <- rename(df_raw2, v1 = var1, v2 = var2)\n",
        "df_raw2"
      ],
      "execution_count": null,
      "outputs": []
    },
    {
      "cell_type": "code",
      "metadata": {
        "id": "TzNsoZw2iDuP"
      },
      "source": [
        "#### 2. 결측치 처리\n",
        "dataset1 <- read.csv(\"../data/dataset.csv\", header = T)\n",
        "str(dataset1)\n",
        "head(dataset1)\n",
        "View(dataset1)\n",
        "\n",
        "# resident : 1 ~ 5까지의 값을 갖는 명목변수로  거주지를 나타낸다\n",
        "# gender : 1 ~ 2까지의 값을 갖는 명목변수로 남/녀를 나타냄\n",
        "# job : 1 ~ 3까지의 값을 갖는 명목변수. 직업을 나타냄\n",
        "# age : 양적변수(비율) : 2 ~ 69\n",
        "# position : 1 ~ 5까지의 값을 갖는 명목변수. 직위를 나타냄\n",
        "# price : 양적변수(비율) : 2.1 ~ 7.9\n",
        "# survey(만족도 조사) : 1 ~ 5까지 명목변수\n",
        "\n",
        "y <- dataset1$price\n",
        "plot(y)\n",
        "\n",
        "attach(dataset1) # 더이상 dataset1$을 붙이지 않아도 된다\n",
        "plot(price)\n",
        "\n",
        "detach(dataset1) # attach의 반대\n",
        "plot(price) # dataset1$을 붙이지 않았기 때문에 값을 찾지 못한다\n",
        "plot(dataset1$price)\n",
        "\n",
        "# 결측치 확인\n",
        "summary(dataset1$price)\n",
        "\n",
        "# 결측치 제거\n",
        "?sum\n",
        "sum(dataset1$price, na.rm = T) # na.rm -> 결측치 제거\n",
        "mean(dataset1$price, na.rm = T)\n",
        "\n",
        "price2 <- na.omit(dataset1$price) # na.omit -> 결측값이 들어있는 행 전체를 데이터 셋에서 제거\n",
        "summary(price2)\n",
        "\n",
        "# 결측치 대체 : 0으로 대체\n",
        "price3 <- ifelse(is.na(dataset1$price), 0, dataset1$price)\n",
        "summary(price3)\n",
        "sum(price3)\n",
        "mean(price3)\n",
        "\n",
        "# 결측치 대체 : 평균으로 대체\n",
        "price4 <- ifelse(is.na(dataset1$price), mean(dataset1$price, na.rm = T), dataset1$price)\n",
        "summary(price4)\n",
        "sum(price4)\n",
        "mean(price4)"
      ],
      "execution_count": null,
      "outputs": []
    },
    {
      "cell_type": "code",
      "metadata": {
        "id": "610s7H2eiDrr"
      },
      "source": [
        "#### 3. 이상치 처리\n",
        "# 양적변수(수학 연산을 할 수 있는 수치 값)와 질적변수(범주로 나누어지는 값) 구별\n",
        "# 색깔(질적), 무게(양적), 소프트웨어버전(질적), 자동차년식(질적)\n",
        "# 온도(양적), 스카우트 순위(질적)\n",
        "\n",
        "# 질적변수 : 도수분포표, 분할표 => 막대 그래프(도수), 원도표, ...\n",
        "table(dataset1$gender) # 이상치는 table로 쉽게 확인할 수 있다\n",
        "pie(table(dataset1$gender))\n",
        "\n",
        "# 양적변수 : 산술평균, 조화평균, 중앙값 => 히스토그램, 상자도표, 시계열도표, 산포도\n",
        "summary(dataset1$price)\n",
        "length(dataset1$price)\n",
        "str(dataset1)\n",
        "\n",
        "plot(dataset1$price)\n",
        "boxplot(dataset1$price)\n",
        "\n",
        "# 이상치 처리\n",
        "dataset2 <- subset(dataset1, price >= 2 & price <= 8) # 범위 안쪽의 데이터들만 선별한다\n",
        "length(dataset2$price)\n",
        "\n",
        "plot(dataset2$price)\n",
        "boxplot(dataset2$price)\n",
        "summary(dataset2$price) # Median값과 Mean값이 비슷해졌다 -> 믿을만한 데이터가 되었다\n",
        "\n",
        "summary(dataset2$age)\n",
        "plot(dataset2$age)\n",
        "boxplot(dataset2$age)"
      ],
      "execution_count": null,
      "outputs": []
    },
    {
      "cell_type": "code",
      "metadata": {
        "id": "gPjY1-9Hh7-5"
      },
      "source": [
        "#### 4. Feature Engineering\n",
        "View(dataset2)\n",
        "\n",
        "# 가독성을 위해 데이터를 변경(1. 서울, 2. 인천, 3. 대전, 4. 대구, 5. 시구군)\n",
        "dataset2$resident2[dataset2$resident == 1] <- \"1. 서울특별시\"\n",
        "dataset2$resident2[dataset2$resident == 2] <- \"2. 인천광역시\"\n",
        "dataset2$resident2[dataset2$resident == 3] <- \"3. 대전광역시\"\n",
        "dataset2$resident2[dataset2$resident == 4] <- \"4. 대구광역시\"\n",
        "dataset2$resident2[dataset2$resident == 5] <- \"5. 시구군\"\n",
        "\n",
        "## Binning : 척도 변경(양적 -> 질적)\n",
        "# 나이 변수를 청년층(30세 이하), 중년층(31 ~ 55이하), 장년층(56 ~)\n",
        "dataset2$age2[dataset2$age<=30] <- \"청년층\"\n",
        "dataset2$age2[dataset2$age>30 & dataset2$age<=55] <- \"중년층\"\n",
        "dataset2$age2[dataset2$age>55] <- \"장년층\"\n",
        "\n",
        "View(dataset2)"
      ],
      "execution_count": null,
      "outputs": []
    },
    {
      "cell_type": "code",
      "metadata": {
        "id": "9OTrodrCicNg"
      },
      "source": [
        "## 역코딩\n",
        "table(dataset2$survey)\n",
        "t_survey <- dataset2$survey\n",
        "t_survey\n",
        "\n",
        "c_survey <- 6-t_survey\n",
        "dataset2$survey <- c_survey\n",
        "View(dataset2)"
      ],
      "execution_count": null,
      "outputs": []
    },
    {
      "cell_type": "code",
      "metadata": {
        "id": "iFZgD5L7icLF"
      },
      "source": [
        "## Dummy : 척도 변경(질적 -> 양적)\n",
        "# 거주 유형 : 단독주택(1), 다가구주택(2), 아파트(3), 오피스텔(4)\n",
        "# 직업 유형 : 자영업(1), 사무직(2), 서비스(3), 전문직(4), 기타\n",
        "\n",
        "user_data <- read.csv(\"../data/user_data.csv\", header = T)\n",
        "View(user_data)\n",
        "\n",
        "table(user_data$house_type)\n",
        "\n",
        "# house_type2 컬럼을 새로 추가해서 단독과 다가구는 0으로, 아파트와 오피스텔은 1로 변환\n",
        "user_data$house_type2[user_data$house_type == 1 | user_data$house_type == 2] <- 0\n",
        "user_data$house_type2[user_data$house_type == 3 | user_data$house_type == 4] <- 1\n",
        "\n",
        "\n",
        "house_type2 <- ifelse(user_data$house_type == 1 | user_data$house_type == 2, 0, 1)\n",
        "user_data$house_type2 <- house_type2\n",
        "\n",
        "table(user_data$house_type2)"
      ],
      "execution_count": null,
      "outputs": []
    },
    {
      "cell_type": "code",
      "metadata": {
        "id": "3gIt2hS7icHA"
      },
      "source": [
        "## 데이터 구조 변경(wide type, long type) : melt() -> long형으로 변경, cast() -> wide형으로 변경\n",
        "# reshape, reshape2, tidyr, ...\n",
        "install.packages(\"reshape2\")\n",
        "library(reshape2)\n",
        "\n",
        "str(airquality)\n",
        "head(airquality) # wide type이다\n",
        "\n",
        "ml <- melt(airquality, id.vars = c(\"Month\", \"Day\")) # wide to long\n",
        "View(ml)\n",
        "\n",
        "ml2 <- melt(airquality, id.vars = c(\"Month\", \"Day\"), variable.name = \"climate_var\", value.name = \"climate_val\")\n",
        "View(ml2)\n",
        "\n",
        "?cast\n",
        "dc1 <- dcast(ml2, Month+Day ~ climate_var) # long to wide\n",
        "View(dc1)"
      ],
      "execution_count": null,
      "outputs": []
    },
    {
      "cell_type": "code",
      "metadata": {
        "id": "LC0d4XT4ib_n"
      },
      "source": [
        "# 예제1\n",
        "data <- read.csv(\"../data/data.csv\")\n",
        "View(data)\n",
        "str(data)\n",
        "\n",
        "# 날짜별로 컬럼을 생성해서 wide하게 변경\n",
        "buy_data <- dcast(data, Customer_ID ~ Date)\n",
        "buy_data\n",
        "\n",
        "buy_data1 <- dcast(data, Customer_ID ~ Date, mean)\n",
        "buy_data1\n",
        "\n",
        "# 다시 long 형으로\n",
        "data_long <- melt(buy_data1, id.vars = (\"Customer_ID\"), variable.name = \"Date\", value.name = \"Buy\")\n",
        "data_long"
      ],
      "execution_count": null,
      "outputs": []
    },
    {
      "cell_type": "code",
      "metadata": {
        "id": "8OrqFxISiju0"
      },
      "source": [
        "## 예제2\n",
        "data <- read.csv(\"../data/pay_data.csv\")\n",
        "View(data)\n",
        "\n",
        "# product_type을 wide하게 변경\n",
        "data1 <- dcast(data, user_id ~ product_type)\n",
        "data1\n",
        "\n",
        "data2 <- dcast(data, user_id+pay_method+price ~ product_type)\n",
        "data2"
      ],
      "execution_count": null,
      "outputs": []
    }
  ]
}