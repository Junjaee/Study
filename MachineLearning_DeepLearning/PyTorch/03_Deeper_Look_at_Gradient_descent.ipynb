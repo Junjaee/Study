{
  "nbformat": 4,
  "nbformat_minor": 0,
  "metadata": {
    "colab": {
      "name": "03_Deeper_Look_at_Gradient_descent.ipynb",
      "provenance": [],
      "collapsed_sections": [],
      "authorship_tag": "ABX9TyOefx/IAV09x19lnusaxOQj",
      "include_colab_link": true
    },
    "kernelspec": {
      "name": "python3",
      "display_name": "Python 3"
    },
    "language_info": {
      "name": "python"
    }
  },
  "cells": [
    {
      "cell_type": "markdown",
      "metadata": {
        "id": "view-in-github",
        "colab_type": "text"
      },
      "source": [
        "<a href=\"https://colab.research.google.com/github/Junjaee/Study/blob/main/MachineLearning_DeepLearning/PyTorch/03_Deeper_Look_at_Gradient_descent.ipynb\" target=\"_parent\"><img src=\"https://colab.research.google.com/assets/colab-badge.svg\" alt=\"Open In Colab\"/></a>"
      ]
    },
    {
      "cell_type": "markdown",
      "metadata": {
        "id": "rxTVPSZn4cQ1"
      },
      "source": [
        "## Theoretical Overview\n",
        "\n",
        "\n",
        "$$ H(x) = Wx $$\n",
        "$$ cost(W) = \\frac{1}{m} \\sum^m_{i=1} \\left( Wx^{(i)} - y^{(i)} \\right)^2 $$\n",
        "- $H(x)$: 주어진 $x$ 값에 대해 예측을 어떻게 할 것인가\n",
        "- $cost(W)$: $H(x)$ 가 $y$ 를 얼마나 잘 예측했는가\n",
        "- Note that it is simplified, without the bias $b$ added to $H(x)$."
      ]
    },
    {
      "cell_type": "markdown",
      "metadata": {
        "id": "_MV4-Hla4jqV"
      },
      "source": [
        "## Imports\n"
      ]
    },
    {
      "cell_type": "code",
      "metadata": {
        "id": "A58jHyR43-6X"
      },
      "source": [
        "import matplotlib.pyplot as plt\n",
        "import numpy as np\n",
        "import torch\n",
        "import torch.nn as nn\n",
        "import torch.nn.functional as F\n",
        "import torch.optim as optim"
      ],
      "execution_count": 1,
      "outputs": []
    },
    {
      "cell_type": "code",
      "metadata": {
        "colab": {
          "base_uri": "https://localhost:8080/"
        },
        "id": "ajj-ke7H4kcI",
        "outputId": "70d1122c-cba8-4472-8d64-bb78e2742f39"
      },
      "source": [
        "# For reproducibility\n",
        "torch.manual_seed(1)"
      ],
      "execution_count": 2,
      "outputs": [
        {
          "output_type": "execute_result",
          "data": {
            "text/plain": [
              "<torch._C.Generator at 0x7f1cfe602a90>"
            ]
          },
          "metadata": {
            "tags": []
          },
          "execution_count": 2
        }
      ]
    },
    {
      "cell_type": "markdown",
      "metadata": {
        "id": "YTh3CJfR4qla"
      },
      "source": [
        "## Data\n",
        "\n",
        "- We will use fake data for this example.\n",
        "\n",
        "- 기본적으로 PyTorch는 NCHW 형태이다."
      ]
    },
    {
      "cell_type": "code",
      "metadata": {
        "id": "aJQSkRdQ4kaB"
      },
      "source": [
        "x_train = torch.FloatTensor([[1], [2], [3]])\n",
        "y_train = torch.FloatTensor([[1], [2], [3]])"
      ],
      "execution_count": 3,
      "outputs": []
    },
    {
      "cell_type": "code",
      "metadata": {
        "colab": {
          "base_uri": "https://localhost:8080/",
          "height": 283
        },
        "id": "24H47bhC4kYX",
        "outputId": "67d997de-cb0a-4c50-fa30-115744b4fcda"
      },
      "source": [
        "# Data\n",
        "plt.scatter(x_train, y_train)\n",
        "# Best-fit line\n",
        "xs = np.linspace(1, 3, 1000)\n",
        "plt.plot(xs, xs)"
      ],
      "execution_count": 4,
      "outputs": [
        {
          "output_type": "execute_result",
          "data": {
            "text/plain": [
              "[<matplotlib.lines.Line2D at 0x7f1cfd674b50>]"
            ]
          },
          "metadata": {
            "tags": []
          },
          "execution_count": 4
        },
        {
          "output_type": "display_data",
          "data": {
            "image/png": "[encoded data removed]",
            "text/plain": [
              "<Figure size 432x288 with 1 Axes>"
            ]
          },
          "metadata": {
            "tags": [],
            "needs_background": "light"
          }
        }
      ]
    },
    {
      "cell_type": "markdown",
      "metadata": {
        "id": "qLpr2cQv484W"
      },
      "source": [
        "## Cost by W\n",
        "$$ H(x) = Wx $$"
      ]
    },
    {
      "cell_type": "code",
      "metadata": {
        "id": "P9_xLMPT4kVu"
      },
      "source": [
        "W_l = np.linspace(-5, 7, 1000)\n",
        "cost_l = []\n",
        "for W in W_l:\n",
        "    hypothesis = W * x_train\n",
        "    cost = torch.mean((hypothesis - y_train) ** 2)\n",
        "\n",
        "    cost_l.append(cost.item())"
      ],
      "execution_count": 5,
      "outputs": []
    },
    {
      "cell_type": "code",
      "metadata": {
        "colab": {
          "base_uri": "https://localhost:8080/",
          "height": 284
        },
        "id": "8IWGl2Z64kTo",
        "outputId": "33cc4ae8-0291-4a4a-9c57-4e83d244ba59"
      },
      "source": [
        "plt.plot(W_l, cost_l)\n",
        "plt.xlabel('$W$')\n",
        "plt.ylabel('Cost')\n",
        "plt.show()"
      ],
      "execution_count": 6,
      "outputs": [
        {
          "output_type": "display_data",
          "data": {
            "image/png": "[encoded data removed]",
            "text/plain": [
              "<Figure size 432x288 with 1 Axes>"
            ]
          },
          "metadata": {
            "tags": [],
            "needs_background": "light"
          }
        }
      ]
    },
    {
      "cell_type": "markdown",
      "metadata": {
        "id": "HV3m6FnC5OMx"
      },
      "source": [
        "## Gradient Descent by Hand"
      ]
    },
    {
      "cell_type": "code",
      "metadata": {
        "id": "m0Mpta4w4kRH"
      },
      "source": [
        "W = 0"
      ],
      "execution_count": 7,
      "outputs": []
    },
    {
      "cell_type": "markdown",
      "metadata": {
        "id": "q9PY31nx5REX"
      },
      "source": [
        "\n",
        "$$ cost(W) = \\frac{1}{m} \\sum^m_{i=1} \\left( Wx^{(i)} - y^{(i)} \\right)^2 $$\n",
        "$$ \\nabla W = \\frac{\\partial cost}{\\partial W} = \\frac{2}{m} \\sum^m_{i=1} \\left( Wx^{(i)} - y^{(i)} \\right)x^{(i)} $$"
      ]
    },
    {
      "cell_type": "code",
      "metadata": {
        "colab": {
          "base_uri": "https://localhost:8080/"
        },
        "id": "dDMwCccl4kPK",
        "outputId": "ca1677db-e7a2-4e4c-ce8b-6330956891a0"
      },
      "source": [
        "gradient = torch.sum((W * x_train - y_train) * x_train)\n",
        "print(gradient)"
      ],
      "execution_count": 8,
      "outputs": [
        {
          "output_type": "stream",
          "text": [
            "tensor(-14.)\n"
          ],
          "name": "stdout"
        }
      ]
    },
    {
      "cell_type": "markdown",
      "metadata": {
        "id": "4G8GN5165ULT"
      },
      "source": [
        "\n",
        "$$ W := W - \\alpha \\nabla W $$"
      ]
    },
    {
      "cell_type": "code",
      "metadata": {
        "colab": {
          "base_uri": "https://localhost:8080/"
        },
        "id": "u3738cqn4kMj",
        "outputId": "fdf43006-7d80-461b-dc89-7892e17ad60d"
      },
      "source": [
        "lr = 0.1\n",
        "W -= lr * gradient\n",
        "print(W)"
      ],
      "execution_count": 9,
      "outputs": [
        {
          "output_type": "stream",
          "text": [
            "tensor(1.4000)\n"
          ],
          "name": "stdout"
        }
      ]
    },
    {
      "cell_type": "markdown",
      "metadata": {
        "id": "dyBnV6zR5oug"
      },
      "source": [
        "## Full Code"
      ]
    },
    {
      "cell_type": "code",
      "metadata": {
        "colab": {
          "base_uri": "https://localhost:8080/"
        },
        "id": "iR6GcUaF4kKd",
        "outputId": "af9d1a76-f3e0-4be9-9537-5523f6742489"
      },
      "source": [
        "# 데이터\n",
        "x_train = torch.FloatTensor([[1], [2], [3]])\n",
        "y_train = torch.FloatTensor([[1], [2], [3]])\n",
        "# 모델 초기화\n",
        "W = torch.zeros(1)\n",
        "# learning rate 설정\n",
        "lr = 0.1\n",
        "\n",
        "nb_epochs = 10\n",
        "for epoch in range(nb_epochs + 1):\n",
        "    \n",
        "    # H(x) 계산\n",
        "    hypothesis = x_train * W\n",
        "    \n",
        "    # cost gradient 계산\n",
        "    cost = torch.mean((hypothesis - y_train) ** 2)\n",
        "    gradient = torch.sum((W * x_train - y_train) * x_train)\n",
        "\n",
        "    print('Epoch {:4d}/{} W: {:.3f}, Cost: {:.6f}'.format(\n",
        "        epoch, nb_epochs, W.item(), cost.item()\n",
        "    ))\n",
        "\n",
        "    # cost gradient로 H(x) 개선\n",
        "    W -= lr * gradient"
      ],
      "execution_count": 10,
      "outputs": [
        {
          "output_type": "stream",
          "text": [
            "Epoch    0/10 W: 0.000, Cost: 4.666667\n",
            "Epoch    1/10 W: 1.400, Cost: 0.746666\n",
            "Epoch    2/10 W: 0.840, Cost: 0.119467\n",
            "Epoch    3/10 W: 1.064, Cost: 0.019115\n",
            "Epoch    4/10 W: 0.974, Cost: 0.003058\n",
            "Epoch    5/10 W: 1.010, Cost: 0.000489\n",
            "Epoch    6/10 W: 0.996, Cost: 0.000078\n",
            "Epoch    7/10 W: 1.002, Cost: 0.000013\n",
            "Epoch    8/10 W: 0.999, Cost: 0.000002\n",
            "Epoch    9/10 W: 1.000, Cost: 0.000000\n",
            "Epoch   10/10 W: 1.000, Cost: 0.000000\n"
          ],
          "name": "stdout"
        }
      ]
    },
    {
      "cell_type": "markdown",
      "metadata": {
        "id": "OLMeUj7u5zCE"
      },
      "source": [
        "## Gradient Descent with torch.optim"
      ]
    },
    {
      "cell_type": "code",
      "metadata": {
        "colab": {
          "base_uri": "https://localhost:8080/"
        },
        "id": "o7L0JNk94j8e",
        "outputId": "42b4578e-3c49-4264-ff71-0114e17ef5d2"
      },
      "source": [
        "# 데이터\n",
        "x_train = torch.FloatTensor([[1], [2], [3]])\n",
        "y_train = torch.FloatTensor([[1], [2], [3]])\n",
        "# 모델 초기화\n",
        "W = torch.zeros(1, requires_grad=True)\n",
        "# optimizer 설정\n",
        "optimizer = optim.SGD([W], lr=0.15)\n",
        "\n",
        "nb_epochs = 10\n",
        "for epoch in range(nb_epochs + 1):\n",
        "    \n",
        "    # H(x) 계산\n",
        "    hypothesis = x_train * W\n",
        "    \n",
        "    # cost 계산\n",
        "    cost = torch.mean((hypothesis - y_train) ** 2)\n",
        "\n",
        "    print('Epoch {:4d}/{} W: {:.3f} Cost: {:.6f}'.format(\n",
        "        epoch, nb_epochs, W.item(), cost.item()\n",
        "    ))\n",
        "\n",
        "    # cost로 H(x) 개선\n",
        "    optimizer.zero_grad()\n",
        "    cost.backward()\n",
        "    optimizer.step()"
      ],
      "execution_count": 11,
      "outputs": [
        {
          "output_type": "stream",
          "text": [
            "Epoch    0/10 W: 0.000 Cost: 4.666667\n",
            "Epoch    1/10 W: 1.400 Cost: 0.746667\n",
            "Epoch    2/10 W: 0.840 Cost: 0.119467\n",
            "Epoch    3/10 W: 1.064 Cost: 0.019115\n",
            "Epoch    4/10 W: 0.974 Cost: 0.003058\n",
            "Epoch    5/10 W: 1.010 Cost: 0.000489\n",
            "Epoch    6/10 W: 0.996 Cost: 0.000078\n",
            "Epoch    7/10 W: 1.002 Cost: 0.000013\n",
            "Epoch    8/10 W: 0.999 Cost: 0.000002\n",
            "Epoch    9/10 W: 1.000 Cost: 0.000000\n",
            "Epoch   10/10 W: 1.000 Cost: 0.000000\n"
          ],
          "name": "stdout"
        }
      ]
    }
  ]
}