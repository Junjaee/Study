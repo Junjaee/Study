{
  "nbformat": 4,
  "nbformat_minor": 0,
  "metadata": {
    "colab": {
      "name": "Python_SQL_연동.ipynb",
      "provenance": [],
      "collapsed_sections": [],
      "authorship_tag": "ABX9TyPtEV1CDbkNz/nqb1Nprxpb",
      "include_colab_link": true
    },
    "kernelspec": {
      "name": "python3",
      "display_name": "Python 3"
    },
    "language_info": {
      "name": "python"
    }
  },
  "cells": [
    {
      "cell_type": "markdown",
      "metadata": {
        "id": "view-in-github",
        "colab_type": "text"
      },
      "source": [
        "<a href=\"https://colab.research.google.com/github/Junjaee/Study/blob/main/SQL/Python_SQL_%EC%97%B0%EB%8F%99.ipynb\" target=\"_parent\"><img src=\"https://colab.research.google.com/assets/colab-badge.svg\" alt=\"Open In Colab\"/></a>"
      ]
    },
    {
      "cell_type": "markdown",
      "metadata": {
        "id": "j7-DmNTNTMdK"
      },
      "source": [
        "\n",
        "\n",
        "## 1. 파이썬과 MySQL 활용\n",
        "\n",
        "- 파이썬과 MySQL을 연결해주는 모듈 : mysqlclient, PyMySQL\n",
        "  - pip install mysqlclient\n",
        "  - pip install PyMySQL\n",
        "\n"
      ]
    },
    {
      "cell_type": "code",
      "metadata": {
        "colab": {
          "base_uri": "https://localhost:8080/"
        },
        "id": "T6UdwPArSudb",
        "outputId": "6e6043c0-610b-4b34-9bcd-82f8b5d9cd3f"
      },
      "source": [
        "pip install mysqlclient"
      ],
      "execution_count": null,
      "outputs": [
        {
          "output_type": "stream",
          "text": [
            "Requirement already satisfied: mysqlclient in /usr/local/lib/python3.7/dist-packages (2.0.3)\n"
          ],
          "name": "stdout"
        }
      ]
    },
    {
      "cell_type": "code",
      "metadata": {
        "colab": {
          "base_uri": "https://localhost:8080/"
        },
        "id": "LzLkKsFdT6xB",
        "outputId": "03a05274-22dc-4dc7-94ed-00708a774efb"
      },
      "source": [
        "pip install PyMySQL"
      ],
      "execution_count": null,
      "outputs": [
        {
          "output_type": "stream",
          "text": [
            "Collecting PyMySQL\n",
            "\u001b[?25l  Downloading https://files.pythonhosted.org/packages/4f/52/a115fe175028b058df353c5a3d5290b71514a83f67078a6482cff24d6137/PyMySQL-1.0.2-py3-none-any.whl (43kB)\n",
            "\r\u001b[K     |███████▌                        | 10kB 13.6MB/s eta 0:00:01\r\u001b[K     |███████████████                 | 20kB 14.0MB/s eta 0:00:01\r\u001b[K     |██████████████████████▍         | 30kB 7.5MB/s eta 0:00:01\r\u001b[K     |██████████████████████████████  | 40kB 3.6MB/s eta 0:00:01\r\u001b[K     |████████████████████████████████| 51kB 2.6MB/s \n",
            "\u001b[?25hInstalling collected packages: PyMySQL\n",
            "Successfully installed PyMySQL-1.0.2\n"
          ],
          "name": "stdout"
        }
      ]
    },
    {
      "cell_type": "code",
      "metadata": {
        "id": "mGg4xMb9UT_E"
      },
      "source": [
        "# mysqlclient 모듈 사용\n",
        "\n",
        "import MySQLdb\n",
        "\n",
        "conn = MySQLdb.connect(host = \"127.0.0.1\", user = \"root\", password = \"1111\", database = \"world\")\n",
        "print(conn)\n",
        "conn.close()"
      ],
      "execution_count": null,
      "outputs": []
    },
    {
      "cell_type": "code",
      "metadata": {
        "id": "cLOZODfcVMPy"
      },
      "source": [
        "# pymysql 모듈 사용\n",
        "\n",
        "import pymysql\n",
        "\n",
        "conn = pymysql.connect(host = \"127.0.0.1\", user = \"root\", password = \"1111\", database = \"world\")\n",
        "print(conn)\n",
        "conn.close()"
      ],
      "execution_count": null,
      "outputs": []
    },
    {
      "cell_type": "code",
      "metadata": {
        "id": "EwlGFA2yYEy6"
      },
      "source": [
        "# mysqlclient 모듈을 사용해서 계속 실습하기\n",
        "\n",
        "config = {\"host\" : \"127.0.0.1\", \"user\" : \"root\", \"password\" : \"1111\", \"database\" : \"world\"}"
      ],
      "execution_count": null,
      "outputs": []
    },
    {
      "cell_type": "markdown",
      "metadata": {
        "id": "wWMVr788tejQ"
      },
      "source": [
        "### (1) SELECT"
      ]
    },
    {
      "cell_type": "code",
      "metadata": {
        "id": "s247icPOte3y"
      },
      "source": [
        "conn = MySQLdb.connect(**config)\n",
        "\n",
        "sql = 'select * from city limit 10'\n",
        "\n",
        "cur = conn.cursor()\n",
        "cur.execute(sql)\n",
        "\n",
        "# print(cur)\n",
        "# for data in cur:\n",
        "#     print(data)\n",
        "#     print(\"%d %s %s %s %d\"% data)\n",
        "\n",
        "# for a,b,c,d,e in cur:\n",
        "#     print(a,b,c,d,e)\n",
        "\n",
        "\n",
        "result = list()\n",
        "for data in cur:\n",
        "    result.append(data)\n",
        "       \n",
        "# result = list(data for data in cur)    \n",
        "    \n",
        "conn.close()\n",
        "\n",
        "print(result)"
      ],
      "execution_count": null,
      "outputs": []
    },
    {
      "cell_type": "markdown",
      "metadata": {
        "id": "NeigjMATyWNu"
      },
      "source": [
        "### (2) INSERT"
      ]
    },
    {
      "cell_type": "code",
      "metadata": {
        "id": "cWCIYVxOyV2V"
      },
      "source": [
        "conn = MySQLdb.connect(**config)\n",
        "\n",
        "sql = \"create table if not exists tbltest(empno int, ename varchar(10), sal int, job varchar(10))\"\n",
        "# if not exists -> 테이블 중복 생성시 오류 방지\n",
        "\n",
        "cur = conn.cursor()\n",
        "cur.execute(sql)\n",
        "\n",
        "sql = \"insert into tbltest(empno, ename, sal) values(1, 'scott', 5000)\"\n",
        "cur.execute(sql)\n",
        "conn.commit()\n",
        "\n",
        "conn.close()"
      ],
      "execution_count": null,
      "outputs": []
    },
    {
      "cell_type": "code",
      "metadata": {
        "id": "EapmeqZaQ6Fc"
      },
      "source": [
        "empno = 2\n",
        "ename = 'miller'\n",
        "sal = 1300\n",
        "\n",
        "conn = MySQLdb.connect(**config)\n",
        "cur = conn.cursor()\n",
        "\n",
        "sql = \"insert into tbltest(empno, ename, sal) values(\" + str(empno) + \", '\" + ename + \"', \" + str(sal) + \")\"\n",
        "# miller 에 따옴표를 해주어야 문자로 인식한다\n",
        "print(sql)\n",
        "cur.execute(sql)\n",
        "conn.commit()\n",
        "\n",
        "conn.close()"
      ],
      "execution_count": null,
      "outputs": []
    },
    {
      "cell_type": "code",
      "metadata": {
        "id": "wOu_DEK3Q8tp"
      },
      "source": [
        "empno = 3\n",
        "ename = 'tom'\n",
        "sal = 2000\n",
        "\n",
        "conn = MySQLdb.connect(**config)\n",
        "cur = conn.cursor()\n",
        "\n",
        "sql = \"insert into tbltest(empno, ename, sal) values(%s, %s, %s)\"\n",
        "sql_data = (str(empno), ename, str(sal))\n",
        "\n",
        "cur.execute(sql, sql_data)\n",
        "conn.commit()\n",
        "\n",
        "conn.close()\n",
        "# close를 안하면 서버에 부하가 가해진다"
      ],
      "execution_count": null,
      "outputs": []
    },
    {
      "cell_type": "code",
      "metadata": {
        "id": "5cYSLZxmQ-Uf"
      },
      "source": [
        "try : \n",
        "    conn = MySQLdb.connect(**config)\n",
        "    cur = conn.cursor()\n",
        "    \n",
        "    empno = 4\n",
        "    ename = 'jerry'\n",
        "    sal = 2000\n",
        "    \n",
        "    sql = \"insert into tbltest(empno, ename, sal) values(%s, %s, %s)\"\n",
        "    sql_data = (str(empno), ename, str(sal))\n",
        "\n",
        "    cur.execute(sql, sql_data)\n",
        "    conn.commit()\n",
        "except Exception as e:\n",
        "    print(\"error : \", e)\n",
        "finally:\n",
        "    conn.close()"
      ],
      "execution_count": null,
      "outputs": []
    },
    {
      "cell_type": "code",
      "metadata": {
        "id": "Ac3WcfaRQ_lB"
      },
      "source": [
        "# 데이터 여러 개 입력하기\n",
        "\n",
        "conn = MySQLdb.connect(**config)\n",
        "cur = conn.cursor()\n",
        "\n",
        "for i in range(10):\n",
        "    sql = \"insert into tbltest(empno, ename, sal) values(5, 'jane', 10000)\"\n",
        "    cur.execute(sql)\n",
        "    conn.commit()\n",
        "    \n",
        "conn.close()"
      ],
      "execution_count": null,
      "outputs": []
    },
    {
      "cell_type": "markdown",
      "metadata": {
        "id": "VGrK5gboQ5Th"
      },
      "source": [
        "### (3) cursor 객체의 fetchall(), fetchmany(), fetchone()\n",
        "- default는 fetchall()"
      ]
    },
    {
      "cell_type": "code",
      "metadata": {
        "id": "Z_edamk2Q46I"
      },
      "source": [
        "try:\n",
        "    conn = MySQLdb.connect(**config)\n",
        "    cur = conn.cursor()\n",
        "    \n",
        "    cur.execute(\"select * from tbltest\")\n",
        "    \n",
        "#     for i in cur.fetchall(10):\n",
        "#         print(i)\n",
        "        \n",
        "#     for i in cur.fetchmany(5):\n",
        "#         print(i)\n",
        "        \n",
        "    print(cur.fetchone())\n",
        "    # fetchmany(1)보다 성능적으로 더 좋다\n",
        "    \n",
        "    \n",
        "finally:\n",
        "    conn.close()"
      ],
      "execution_count": null,
      "outputs": []
    },
    {
      "cell_type": "markdown",
      "metadata": {
        "id": "FXe9Q9vuREfH"
      },
      "source": [
        "### (4) DictCursor\n",
        "\n",
        "- 필드명을 인덱스 대신 키로 사용"
      ]
    },
    {
      "cell_type": "code",
      "metadata": {
        "id": "V4uV2rYWQ43q"
      },
      "source": [
        "try:\n",
        "    conn = MySQLdb.connect(**config)\n",
        "    cur = conn.cursor(MySQLdb.cursors.DictCursor)\n",
        "    \n",
        "    cur.execute(\"select * from tbltest\")\n",
        "    \n",
        "    for i in cur.fetchall():\n",
        "        print(i[\"empno\"], i[\"ename\"], i[\"sal\"])\n",
        "\n",
        "        \n",
        "finally:\n",
        "    conn.close()"
      ],
      "execution_count": null,
      "outputs": []
    },
    {
      "cell_type": "markdown",
      "metadata": {
        "id": "5JVHLxncRHmo"
      },
      "source": [
        "### (5) 응용 실습1 : CSV파일을 DB에 저장"
      ]
    },
    {
      "cell_type": "code",
      "metadata": {
        "id": "BgBhZIYiQ41G"
      },
      "source": [
        "'''\n",
        "CREATE TABLE IF NOT EXISTS suppliers(\n",
        "    Supplier_Name    varchar(20),\n",
        "    Invoice_Number   varchar(20),\n",
        "    Part_Number      varchar(20),\n",
        "    Cost             float,\n",
        "    Purchase_Date    date\n",
        ");\n",
        "'''"
      ],
      "execution_count": null,
      "outputs": []
    },
    {
      "cell_type": "code",
      "metadata": {
        "id": "2l_B7AHxRJQn"
      },
      "source": [
        "import csv\n",
        "\n",
        "file = csv.reader(open(\"D:\\Coding\\Acorn\\SQL\\응용 실습용 CSV파일.csv\"))\n",
        "print(file)\n",
        "\n",
        "# print(next(file))\n",
        "\n",
        "header = next(file)\n",
        "\n",
        "try:\n",
        "    conn = MySQLdb.connect(**config)\n",
        "    cur = conn.cursor()\n",
        "    \n",
        "    cur.execute(\"delete from suppliers\")\n",
        "    conn.commit()\n",
        "    #이미 테이블에 등록되어 있는 데이터들 전부 삭제하기\n",
        "    \n",
        "    for row in file:\n",
        "#         print(row)\n",
        "        cur.execute(\"insert into suppliers values(%s, %s, %s, %s, %s)\", row)\n",
        "    conn.commit()\n",
        "        \n",
        "finally:\n",
        "    conn.close()"
      ],
      "execution_count": null,
      "outputs": []
    },
    {
      "cell_type": "markdown",
      "metadata": {
        "id": "nqo5MhBTOkNw"
      },
      "source": [
        "### (6) DB에서 가져온 데이터를 파일로 저장"
      ]
    },
    {
      "cell_type": "code",
      "metadata": {
        "id": "VpMMyO01Ojd8"
      },
      "source": [
        "try:\n",
        "    conn = MySQLdb.connect(**config)\n",
        "    cur = conn.cursor()\n",
        "    \n",
        "    cur.execute(\"select * from suppliers where cost > 500000\")\n",
        "    \n",
        "#     for i in cur:\n",
        "#         print(i)\n",
        "    file = csv.writer(open(\"D:\\Coding\\Acorn\\SQL\\응용 실습용 CSV파일1.csv\", \"w\"), delimiter = \",\")\n",
        "    # delimeter -> 데이터 사이사이를 무엇으로 나눌것인가\n",
        "    \n",
        "    header = [\"Supplier Name\", \"Invoice Number\", \"Part Number\", \"Cost\", \"Purchase Date\"]\n",
        "    file.writerow(header)\n",
        "    \n",
        "    for row in cur:\n",
        "        file.writerow(row)\n",
        "        \n",
        "    \n",
        "    \n",
        "finally:\n",
        "    conn.close()"
      ],
      "execution_count": null,
      "outputs": []
    },
    {
      "cell_type": "code",
      "metadata": {
        "id": "Vcbq5PpEKb0S"
      },
      "source": [
        "D:\\Coding\\Acorn\\SQL\\dbProject\\mysql2.py 참고\n",
        "\n",
        "wxFormBuilder를 이용한 DB 프로그램 만들기 실습"
      ],
      "execution_count": null,
      "outputs": []
    },
    {
      "cell_type": "code",
      "metadata": {
        "id": "6cMAFhDEcOrB"
      },
      "source": [
        "# 실습을 위한 데이터 베이스 생성\n",
        "\n",
        "create database pywin;\n",
        "use pywin;\n",
        "\n",
        "ALTER DATABASE pywin DEFAULT CHARACTER SET utf8;\n",
        "-- ALTER TABLE 테이블명 CONVERT TO CHARACTER SET utpywinf8;\n",
        "\n",
        "create table product(code int primary key,\n",
        "            product_name varchar(20),\n",
        "            product_count int,\n",
        "            product_price int);\n",
        "\n",
        "insert into product values(1,'장갑',3,5000);\n",
        "insert into product values(2,'가죽장갑',10,50000);\n",
        "insert into product values(3,'가죽점퍼',5,650000);\n",
        "\n",
        "create table Departure(\n",
        "          dep_no int(4)  primary key,\n",
        "          dep_name varchar(10) not null,\n",
        "          dep_loc varchar(10),\n",
        "          dep_tel varchar(15));\n",
        "\n",
        "insert into Departure values(10,'총무부','서울','02-100-1111');\n",
        "insert into Departure values(20,'영업부','서울','02-100-2222');\n",
        "insert into Departure values(30,'전산부','서울','02-100-3333');\n",
        "\n",
        "create table emp(emp_no int(4) primary key,\n",
        "          emp_name varchar(10) not null,\n",
        "          dep_num int(4) not null,\n",
        "          emp_jik varchar(10) default '사원',\n",
        "          emp_pay int,\n",
        "          emp_hiredate date,\n",
        "          emp_gen char(3),\n",
        "          CONSTRAINT ck_sawon_gen check(emp_gen='남' or emp_gen='여'));\n",
        "\n",
        "insert into emp values(1,'홍길동',10,'사장',8000,'98/09/01','남');\n",
        "insert into emp values(2,'한국남',20,'부장',6200,'01/01/03','남');\n",
        "insert into emp values(3,'이순신',20,'과장',4500,'01/03/03','남');\n",
        "insert into emp values(4,'이미라',30,'대리',3503,'04/01/04','여');\n",
        "insert into emp values(5,'이순라',20,'사원',2850,'09/08/05','여');\n",
        "\n",
        "create table customer(cus_no int(4) primary key,\n",
        "          cus_name varchar(10) not null,\n",
        "          cus_tel varchar(20),\n",
        "          cus_jumin char(14),\n",
        "          cus_damsano int(4),\n",
        "          CONSTRAINT FK_gogek_damsano foreign key(cus_damsano)\n",
        "          references emp(emp_no));\n",
        "\n",
        "insert into customer values(1,'이나라','02-535-2580','850612-1156789',1);\n",
        "insert into customer values(2,'김혜순','02-375-6946','700101-1054225',3);\n",
        "insert into customer values(3,'최부자','02-692-8926','890305-1065773',3);\n",
        "insert into customer values(4,'김해자','032-393-6277','770412-2028677',1);\n",
        "insert into customer values(5,'차일호','02-294-2946','790509-1062677',2);"
      ],
      "execution_count": null,
      "outputs": []
    },
    {
      "cell_type": "code",
      "metadata": {
        "id": "9rQou4IjLVom"
      },
      "source": [
        "# -*- coding: utf-8 -*- \n",
        "\n",
        "###########################################################################\n",
        "## Python code generated with wxFormBuilder (version Jun 17 2015)\n",
        "## http://www.wxformbuilder.org/\n",
        "##\n",
        "## PLEASE DO \"NOT\" EDIT THIS FILE!\n",
        "###########################################################################\n",
        "\n",
        "import wx\n",
        "import wx.xrc\n",
        "import MySQLdb\n",
        "\n",
        "config = {\"host\" : \"127.0.0.1\", \"user\" : \"root\", \"password\" : \"1111\", \"database\" : \"pywin\", \"port\" : 3306, \"charset\" : \"utf8\", \"use_unicode\" : True}\n",
        "\n",
        "\n",
        "###########################################################################\n",
        "## Class MainFrame\n",
        "###########################################################################\n",
        "\n",
        "class MainFrame ( wx.Frame ):\n",
        "\t\n",
        "\tdef __init__( self, parent ):\n",
        "\t\twx.Frame.__init__ ( self, parent, id = wx.ID_ANY, title = wx.EmptyString, pos = wx.DefaultPosition, size = wx.Size( 374,456 ), style = wx.DEFAULT_FRAME_STYLE|wx.TAB_TRAVERSAL )\n",
        "\t\t\n",
        "\t\tself.SetSizeHintsSz( wx.DefaultSize, wx.DefaultSize )\n",
        "\t\t\n",
        "\t\tbSizer2 = wx.BoxSizer( wx.VERTICAL )\n",
        "\t\t\n",
        "\t\tself.m_panel2 = wx.Panel( self, wx.ID_ANY, wx.DefaultPosition, wx.DefaultSize, wx.TAB_TRAVERSAL )\n",
        "\t\tbSizer3 = wx.BoxSizer( wx.HORIZONTAL )\n",
        "\t\t\n",
        "\t\tself.m_staticText2 = wx.StaticText( self.m_panel2, wx.ID_ANY, u\"번호 : \", wx.DefaultPosition, wx.DefaultSize, 0 )\n",
        "\t\tself.m_staticText2.Wrap( -1 )\n",
        "\t\tbSizer3.Add( self.m_staticText2, 0, wx.ALL, 5 )\n",
        "\t\t\n",
        "\t\tself.m_txtNo = wx.TextCtrl( self.m_panel2, wx.ID_ANY, wx.EmptyString, wx.DefaultPosition, wx.DefaultSize, 0 )\n",
        "\t\tbSizer3.Add( self.m_txtNo, 0, wx.ALL, 5 )\n",
        "\t\t\n",
        "\t\tself.m_btnInsert = wx.Button( self.m_panel2, wx.ID_ANY, u\"등록\", wx.DefaultPosition, wx.DefaultSize, 0 )\n",
        "\t\tbSizer3.Add( self.m_btnInsert, 1, wx.ALL, 5 )\n",
        "\t\t\n",
        "\t\t\n",
        "\t\tself.m_panel2.SetSizer( bSizer3 )\n",
        "\t\tself.m_panel2.Layout()\n",
        "\t\tbSizer3.Fit( self.m_panel2 )\n",
        "\t\tbSizer2.Add( self.m_panel2, 0, wx.EXPAND |wx.ALL, 5 )\n",
        "\t\t\n",
        "\t\tself.m_panel3 = wx.Panel( self, wx.ID_ANY, wx.DefaultPosition, wx.DefaultSize, wx.TAB_TRAVERSAL )\n",
        "\t\tbSizer4 = wx.BoxSizer( wx.HORIZONTAL )\n",
        "\t\t\n",
        "\t\tself.m_staticText3 = wx.StaticText( self.m_panel3, wx.ID_ANY, u\"이름 : \", wx.DefaultPosition, wx.DefaultSize, 0 )\n",
        "\t\tself.m_staticText3.Wrap( -1 )\n",
        "\t\tbSizer4.Add( self.m_staticText3, 0, wx.ALL, 5 )\n",
        "\t\t\n",
        "\t\tself.m_txtName = wx.TextCtrl( self.m_panel3, wx.ID_ANY, wx.EmptyString, wx.DefaultPosition, wx.DefaultSize, 0 )\n",
        "\t\tbSizer4.Add( self.m_txtName, 0, wx.ALL, 5 )\n",
        "\t\t\n",
        "\t\tself.m_btnUpdate = wx.Button( self.m_panel3, wx.ID_ANY, u\"수정\", wx.DefaultPosition, wx.DefaultSize, 0 )\n",
        "\t\tbSizer4.Add( self.m_btnUpdate, 0, wx.ALL, 5 )\n",
        "\t\t\n",
        "\t\tself.m_btnConfirm = wx.Button( self.m_panel3, wx.ID_ANY, u\"확인\", wx.DefaultPosition, wx.DefaultSize, 0 )\n",
        "\t\tbSizer4.Add( self.m_btnConfirm, 0, wx.ALL, 5 )\n",
        "\t\t\n",
        "\t\t\n",
        "\t\tself.m_panel3.SetSizer( bSizer4 )\n",
        "\t\tself.m_panel3.Layout()\n",
        "\t\tbSizer4.Fit( self.m_panel3 )\n",
        "\t\tbSizer2.Add( self.m_panel3, 0, wx.EXPAND |wx.ALL, 5 )\n",
        "\t\t\n",
        "\t\tself.m_panel4 = wx.Panel( self, wx.ID_ANY, wx.DefaultPosition, wx.DefaultSize, wx.TAB_TRAVERSAL )\n",
        "\t\tbSizer5 = wx.BoxSizer( wx.HORIZONTAL )\n",
        "\t\t\n",
        "\t\tself.m_staticText4 = wx.StaticText( self.m_panel4, wx.ID_ANY, u\"전화 : \", wx.DefaultPosition, wx.DefaultSize, 0 )\n",
        "\t\tself.m_staticText4.Wrap( -1 )\n",
        "\t\tbSizer5.Add( self.m_staticText4, 0, wx.ALL, 5 )\n",
        "\t\t\n",
        "\t\tself.m_txtTel = wx.TextCtrl( self.m_panel4, wx.ID_ANY, wx.EmptyString, wx.DefaultPosition, wx.DefaultSize, 0 )\n",
        "\t\tbSizer5.Add( self.m_txtTel, 0, wx.ALL, 5 )\n",
        "\t\t\n",
        "\t\tself.m_btnDel = wx.Button( self.m_panel4, wx.ID_ANY, u\"삭제\", wx.DefaultPosition, wx.DefaultSize, 0 )\n",
        "\t\tbSizer5.Add( self.m_btnDel, 1, wx.ALL, 5 )\n",
        "\t\t\n",
        "\t\t\n",
        "\t\tself.m_panel4.SetSizer( bSizer5 )\n",
        "\t\tself.m_panel4.Layout()\n",
        "\t\tbSizer5.Fit( self.m_panel4 )\n",
        "\t\tbSizer2.Add( self.m_panel4, 0, wx.EXPAND |wx.ALL, 5 )\n",
        "\t\t\n",
        "\t\tself.m_panel5 = wx.Panel( self, wx.ID_ANY, wx.DefaultPosition, wx.DefaultSize, wx.TAB_TRAVERSAL )\n",
        "\t\tbSizer6 = wx.BoxSizer( wx.VERTICAL )\n",
        "\t\t\n",
        "\t\tself.m_lstView = wx.ListCtrl( self.m_panel5, wx.ID_ANY, wx.DefaultPosition, wx.DefaultSize, wx.LC_REPORT )\n",
        "\t\tbSizer6.Add( self.m_lstView, 1, wx.ALL|wx.EXPAND, 5 )\n",
        "\t\t\n",
        "        # 리스트 컨트롤 화면 디자인\n",
        "\t\tself.m_lstView.InsertColumn(0, \"번호\", width = 50)\n",
        "\t\tself.m_lstView.InsertColumn(1, \"이름\", width = 100)\n",
        "\t\tself.m_lstView.InsertColumn(2, \"전화\", width = 100)\n",
        "\n",
        "\t\t\n",
        "\t\tself.m_panel5.SetSizer( bSizer6 )\n",
        "\t\tself.m_panel5.Layout()\n",
        "\t\tbSizer6.Fit( self.m_panel5 )\n",
        "\t\tbSizer2.Add( self.m_panel5, 1, wx.EXPAND |wx.ALL, 5 )\n",
        "\t\t\n",
        "\t\tself.m_panel6 = wx.Panel( self, wx.ID_ANY, wx.DefaultPosition, wx.DefaultSize, wx.TAB_TRAVERSAL )\n",
        "\t\tbSizer7 = wx.BoxSizer( wx.HORIZONTAL )\n",
        "\t\t\n",
        "\t\tself.m_staticText5 = wx.StaticText( self.m_panel6, wx.ID_ANY, u\"인원수 : \", wx.DefaultPosition, wx.DefaultSize, 0 )\n",
        "\t\tself.m_staticText5.Wrap( -1 )\n",
        "\t\tbSizer7.Add( self.m_staticText5, 0, wx.ALL, 5 )\n",
        "\t\t\n",
        "\t\tself.m_staCnt = wx.StaticText( self.m_panel6, wx.ID_ANY, u\"0\", wx.DefaultPosition, wx.DefaultSize, 0 )\n",
        "\t\tself.m_staCnt.Wrap( -1 )\n",
        "\t\tbSizer7.Add( self.m_staCnt, 0, wx.ALL, 5 )\n",
        "\t\t\n",
        "\t\t\n",
        "\t\tself.m_panel6.SetSizer( bSizer7 )\n",
        "\t\tself.m_panel6.Layout()\n",
        "\t\tbSizer7.Fit( self.m_panel6 )\n",
        "\t\tbSizer2.Add( self.m_panel6, 0, wx.EXPAND |wx.ALL, 5 )\n",
        "\t\t\n",
        "\t\t\n",
        "\t\tself.SetSizer( bSizer2 )\n",
        "\t\tself.Layout()\n",
        "\n",
        "\t\tself.Centre(wx.BOTH)\n",
        "\n",
        "\t\t# 버튼 이벤트 id를 지정\n",
        "\t\tself.m_btnInsert.id = 1\n",
        "\t\tself.m_btnUpdate.id = 2\n",
        "\t\tself.m_btnConfirm.id = 3\n",
        "\t\tself.m_btnDel.id = 4\n",
        "\n",
        "\t\t# 이벤트 바인딩\n",
        "\t\tself.m_btnInsert.Bind(wx.EVT_BUTTON, self.onBtnClick)\n",
        "\t\tself.m_btnUpdate.Bind(wx.EVT_BUTTON, self.onBtnClick)\n",
        "\t\tself.m_btnConfirm.Bind(wx.EVT_BUTTON, self.onBtnClick)\n",
        "\t\tself.m_btnDel.Bind(wx.EVT_BUTTON, self.onBtnClick)\n",
        "\n",
        "\t\tself.m_btnConfirm.Enable(enable = False)\n",
        "\t\tself.viewListData()\n",
        "\n",
        "\tdef onBtnClick(self, e):\n",
        "\t\tid = e.GetEventObject().id\n",
        "\n",
        "\t\tif id == 1:  # 등록 버튼\n",
        "\t\t\tself.cusInsert()\n",
        "\t\telif id == 2:  # 수정 버튼\n",
        "\t\t\tself.cusUpdate()\n",
        "\t\telif id == 3:  # 확인 버튼\n",
        "\t\t\tself.cusUpdateOK()\n",
        "\t\telif id == 4:  # 삭제 버튼\n",
        "\t\t\tself.cusDel()\n",
        "\t\telif id == 5:  # 취소 버튼\n",
        "\t\t\tself.cusUpdateCancel()\n",
        "\n",
        "    \n",
        "    # ListCtrl에 고객 정보 출력\n",
        "\tdef viewListData(self):\n",
        "\t\ttry:\n",
        "\t\t\tconn = MySQLdb.connect(**config)\n",
        "\t\t\tcur = conn.cursor()\n",
        "\n",
        "\t\t\tself.m_lstView.DeleteAllItems()\n",
        "\n",
        "\t\t\tcur.execute(\"select * from customer\")\n",
        "            \n",
        "\t\t\tcount = 0            \n",
        "\t\t\tfor row in cur:\n",
        "\t\t\t\ti = self.m_lstView.InsertItem(10000, 0)\n",
        "\t\t\t\tself.m_lstView.SetItem(i, 0, str(row[0]))\n",
        "\t\t\t\tself.m_lstView.SetItem(i, 1, str(row[1]))\n",
        "\t\t\t\tself.m_lstView.SetItem(i, 2, str(row[2]))\n",
        "\t\t\t\tcount += 1\n",
        "\n",
        "\t\t\tself.m_staCnt.SetLabel(str(count))\n",
        "\n",
        "\t\texcept Exception as e:\n",
        "\t\t\tprint(\"viewListData에서 오류 : \", e)\n",
        "\t\tfinally:\n",
        "\t\t\tconn.close()\n",
        "\n",
        "    # 중복된 고객번호 체크\n",
        "\tdef selectData(self, no):\n",
        "\t\ttry:\n",
        "\t\t\tconn = MySQLdb.connect(**config)\n",
        "\t\t\tcur = conn.cursor()\n",
        "\n",
        "\t\t\tsql = \"select cus_no, cus_name, cus_tel from customer where cus_no = {}\".format(no)\n",
        "\t\t\tcur.execute(sql)\n",
        "\n",
        "\t\t\tdata = cur.fetchone()\n",
        "\t\t\treturn data\n",
        "\n",
        "\t\texcept Exception as e:\n",
        "\t\t\tprint(\"viewListData에서 오류 : \", e)\n",
        "\t\tfinally:\n",
        "\t\t\tconn.close()        \n",
        "\n",
        "\t\n",
        "    # 고객 등록\n",
        "\tdef cusInsert(self):\n",
        "\t\tno = self.m_txtNo.GetValue()\n",
        "\t\tname = self.m_txtName.GetValue()\n",
        "\t\ttel = self.m_txtTel.GetValue()\n",
        "\n",
        "\t\tif no == \"\" or name == \"\" or tel == \"\":\n",
        "\t\t\twx.MessageBox(\"자료를 입력하세요\", \"입력\", wx.OK)\n",
        "\t\t\treturn\n",
        " \n",
        "\t\ttry:\n",
        "\t\t\tconn = MySQLdb.connect(**config)\n",
        "\t\t\tcur = conn.cursor()\n",
        "\n",
        "\t\t\tresult = self.selectData(no)\n",
        "\t\t\tif result != None:\n",
        "\t\t\t\twx.MessageBox(\"이미 사용중인 번호입니다\", \"알림\", wx.OK)\n",
        "\t\t\t\treturn\n",
        "\n",
        "\t\t\tsql = \"insert into customer(cus_no, cus_name, cus_tel) values(%s, %s, %s)\"\n",
        "\t\t\tcur.execute(sql, (no, name, tel))\n",
        "\t\t\tconn.commit()\n",
        "\n",
        "\t\t\tself.viewListData()\n",
        "\t\t\tself.m_txtNo.SetValue(\"\")\n",
        "\t\t\tself.m_txtName.SetValue(\"\")\n",
        "\t\t\tself.m_txtTel.SetValue(\"\")\n",
        "\n",
        "\t\texcept Exception as e:\n",
        "\t\t\tprint(\"viewListData에서 오류 : \", e)\n",
        "\t\tfinally:\n",
        "\t\t\tconn.close()\n",
        "\n",
        "\t# 고객 수정\n",
        "    \n",
        "\tdef cusUpdate(self):\n",
        "\t\tdlg = wx.TextEntryDialog(self, \"수정할 번호 입력\", \"수정\")\n",
        "\t\tif dlg.ShowModal() == wx.ID_OK:\n",
        "\t\t\tif dlg.GetValue() == \"\":\n",
        "\t\t\t\treturn\n",
        "\n",
        "\t\t\tup_no = dlg.GetValue()\n",
        "\n",
        "\t\t\tresult = self.selectData(up_no)\n",
        "\t\t\tif result == None:\n",
        "\t\t\t\twx.MessageBox(up_no + \"번은 등록된 자료가 아닙니다.\", \"알림\", wx.OK)\n",
        "\t\t\t\treturn\n",
        "\n",
        "\t\t\tself.m_txtNo.SetValue(str(result[0]))\n",
        "\t\t\tself.m_txtName.SetValue(str(result[1]))\n",
        "\t\t\tself.m_txtTel.SetValue(str(result[2]))\n",
        "\n",
        "\t\t\tself.m_txtNo.SetEditable(False)\n",
        "\t\t\tself.m_btnConfirm.Enable(True)\n",
        "\t\t\tself.m_btnUpdate.SetLabel(\"취소\")\n",
        "\t\t\tself.m_btnUpdate.id = 5\n",
        "\n",
        "\n",
        "\t# 고객 수정 완료\n",
        "\tdef cusUpdateOK(self):\n",
        "\t\tno = self.m_txtNo.GetValue()\n",
        "\t\tname = self.m_txtName.GetValue()\n",
        "\t\ttel = self.m_txtTel.GetValue()\n",
        "\n",
        "\t\tif name == \"\" or tel == \"\":\n",
        "\t\t\twx.MessageBox(\"자료를 입력하세요\", \"입력\", wx.OK)\n",
        "\t\t\treturn\n",
        " \n",
        "\t\ttry:\n",
        "\t\t\tconn = MySQLdb.connect(**config)\n",
        "\t\t\tcur = conn.cursor()\n",
        "\n",
        "\t\t\tsql = \"update customer set cus_name = %s, cus_tel = %s where cus_no = %s\"\n",
        "\t\t\tcur.execute(sql, (name, tel, no))\n",
        "\t\t\tconn.commit()\n",
        "\n",
        "\t\t\tself.viewListData()\n",
        "\t\t\tself.m_txtNo.SetValue(\"\")\n",
        "\t\t\tself.m_txtName.SetValue(\"\")\n",
        "\t\t\tself.m_txtTel.SetValue(\"\")\n",
        "\n",
        "\t\t\tself.m_txtNo.SetEditable(True)\n",
        "\t\t\tself.m_btnUpdate.SetLabel(\"수정\")\n",
        "\t\t\tself.m_btnUpdate.id = 2\n",
        "\t\t\tself.m_btnConfirm.Enable(False)\n",
        "\n",
        "\t\texcept Exception as e:\n",
        "\t\t\tprint(\"cusUpdateOK에서 오류 : \", e)\n",
        "\t\tfinally:\n",
        "\t\t\tconn.close()\n",
        "\n",
        "\n",
        "\t# 고객 수정 취소\n",
        "\tdef cusUpdateCancel(self):\n",
        "\t\tself.m_txtNo.SetValue(\"\")\n",
        "\t\tself.m_txtName.SetValue(\"\")\n",
        "\t\tself.m_txtTel.SetValue(\"\")\n",
        "\n",
        "\t\tself.m_txtNo.SetEditable(True)\n",
        "\t\tself.m_btnUpdate.SetLabel(\"수정\")\n",
        "\t\tself.m_btnUpdate.id = 2\n",
        "\t\tself.m_btnConfirm.Enable(False)\n",
        "\n",
        "\t# 고객 삭제\n",
        "\n",
        "\tdef cusDel(self):\n",
        "\t\tdlg = wx.TextEntryDialog(self, \"삭제할 번호 입력\", \"삭제\")\n",
        "\t\tif dlg.ShowModal() == wx.ID_OK:\n",
        "\t\t\tif dlg.GetValue() == \"\":\n",
        "\t\t\t\treturn\n",
        "\n",
        "\t\t\tdel_no = dlg.GetValue()\n",
        "\n",
        "\t\t\tresult = self.selectData(del_no)\n",
        "\t\t\tif result == None:\n",
        "\t\t\t\twx.MessageBox(del_no + \"번은 등록된 자료가 아닙니다.\", \"알림\", wx.OK)\n",
        "\t\t\t\treturn\n",
        "\n",
        "\t\t\ttry:\n",
        "\t\t\t\tconn = MySQLdb.connect(**config)\n",
        "\t\t\t\tcur = conn.cursor()\n",
        "\n",
        "\t\t\t\tsql = \"delete from customer where cus_no = {}\".format(del_no)\n",
        "\t\t\t\tcur.execute(sql)\n",
        "\t\t\t\tconn.commit()\n",
        "\t\t\t\tself.viewListData()\n",
        "\n",
        "\t\t\texcept Exception as e:\n",
        "\t\t\t\tprint(\"cusDel에서 오류 : \", e)\n",
        "\t\t\tfinally:\n",
        "\t\t\t\tconn.close()\n",
        "\n",
        "\n",
        "if __name__ == \"__main__\":\n",
        "\tapp = wx.App()\n",
        "\tMainFrame(None).Show(True)\n",
        "\tapp.MainLoop()\n"
      ],
      "execution_count": null,
      "outputs": []
    },
    {
      "cell_type": "markdown",
      "metadata": {
        "id": "kgS7o6dpKhUv"
      },
      "source": [
        "## 2. 파이썬과 SQLite\n",
        "\n",
        "- 1) 로컬로 사용할 수 있는 DBMS\n",
        "    - Access\n",
        "    - SQLite\n",
        "    - Microsoft SQL Server Compact Edition\n",
        "    - Firebird Embedded Server\n",
        "    - H2\n",
        "    - HSQL\n",
        "    - Apache Derby\n",
        "    - ....\n",
        "\n",
        "- 2) SQLite 특징\n",
        "    - 파일 기반의 DBMS, 저메모리, 빠른 처리속도\n",
        "    - 오픈 소스\n",
        "    - 별도의 DB서버가 없어도 쉽고 편리하게 사용할 수 있는 Embeded SQL DB엔진\n",
        "    - 안드로이드, 아이폰 등의 스마트폰에 기본 내장된 DB\n",
        "    - 파이썬에도 내장\n",
        "    - 표준SQL 지원\n",
        "    -------------------------------\n",
        "    - 컬럼을 삭제하거나 변경하는 것 등이 제한\n",
        "    - Left Outer Join만 지원\n",
        "    - 읽기 전용 뷰만 제공\n",
        "    - ...\n",
        "\n",
        "- 3) 공식 사이트\n",
        "    - http://sqlite.org\n",
        "\n",
        "- 4) 클라이언트 툴\n",
        "    - http://www.sqliteexpert.com"
      ]
    },
    {
      "cell_type": "code",
      "metadata": {
        "id": "nwhYxew1V-Ov"
      },
      "source": [
        "# sqlite3를 이용해 db를 추가해 보기\n",
        "\n",
        "CREATE TABLE tblBook(\n",
        "                            author  varchar(20),\n",
        "                            title varchar(20)\n",
        "    );\n",
        " \n",
        "    INSERT INTO tblBook VALUES('최주현', '하늘과 땅');\n",
        "    INSERT INTO tblBook VALUES('최주현', '바다');\n",
        "    INSERT INTO tblBook VALUES('유은정', '바다');\n",
        "    INSERT INTO tblBook VALUES('박성우', '문');\n",
        "    INSERT INTO tblBook VALUES('최주현', '문');\n",
        "    INSERT INTO tblBook VALUES('박성우', '천국');\n",
        "    INSERT INTO tblBook VALUES('최지은', '천국');\n",
        "    INSERT INTO tblBook VALUES('최주현', '천국');\n",
        "    INSERT INTO tblBook VALUES('박성우', '고슴도치');\n",
        "    INSERT INTO tblBook VALUES('서금동', '나');"
      ],
      "execution_count": null,
      "outputs": []
    },
    {
      "cell_type": "code",
      "metadata": {
        "id": "dvxRp4qqTB1c"
      },
      "source": [
        "import sqlite3"
      ],
      "execution_count": null,
      "outputs": []
    },
    {
      "cell_type": "code",
      "metadata": {
        "colab": {
          "base_uri": "https://localhost:8080/"
        },
        "id": "7cqy7z7XTFuV",
        "outputId": "adbd2603-09a2-4475-bcf5-0f6331ee5a27"
      },
      "source": [
        "print(sqlite3.version)\n",
        "print(sqlite3.sqlite_version)"
      ],
      "execution_count": null,
      "outputs": [
        {
          "output_type": "stream",
          "text": [
            "2.6.0\n",
            "3.22.0\n"
          ],
          "name": "stdout"
        }
      ]
    },
    {
      "cell_type": "code",
      "metadata": {
        "id": "tYbz9J3RUKsD"
      },
      "source": [
        "conn = sqlite3.connect(\"D:\\Coding\\Acorn\\SQL\\SQLitetest\\sqlitetest.db\")\n",
        "print(conn)\n",
        "conn.close()"
      ],
      "execution_count": null,
      "outputs": []
    },
    {
      "cell_type": "code",
      "metadata": {
        "id": "iLpuxzGAUK_9"
      },
      "source": [
        "# select\n",
        "\n",
        "conn = sqlite3.connect(\"D:\\Coding\\Acorn\\SQL\\SQLitetest\\sqlitetest.db\")\n",
        "cur = conn.cursor()\n",
        "\n",
        "cur.execute(\"select * from tblbook\")\n",
        "for row in cur:\n",
        "    print(row)\n",
        "\n",
        "conn.close()"
      ],
      "execution_count": null,
      "outputs": []
    },
    {
      "cell_type": "code",
      "metadata": {
        "id": "NvZCkFSMXTNN"
      },
      "source": [
        "# 자동으로 db 생성하고 테이블 생성\n",
        "\n",
        "conn = sqlite3.connect(\"D:\\Coding\\Acorn\\SQL\\SQLitetest\\\\auto.db\")\n",
        "print(conn)\n",
        "cur = conn.cursor()\n",
        "\n",
        "cur.execute(\"create table if not exists tblmember(id    int, name  varchar(10))\")\n",
        "conn.commit()\n",
        "\n",
        "cur.execute(\"insert into tblmember values(1, '홍길동')\")\n",
        "conn.commit()\n",
        "\n",
        "cur.execute(\"select * from tblMember\")\n",
        "for row in cur:\n",
        "    print(row)\n",
        "\n",
        "conn.close()"
      ],
      "execution_count": null,
      "outputs": []
    },
    {
      "cell_type": "code",
      "metadata": {
        "id": "EJrTwG28NmtK"
      },
      "source": [
        "####### csv 파일을 읽어들여서 DB에 저장 #######\n",
        "import sqlite3\n",
        "import csv\n",
        "\n",
        "conn = sqlite3.connect(\"D:\\Coding\\Acorn\\SQL\\SQLitetest\\sqlitetest.db\")\n",
        "cur = conn.cursor()\n",
        "\n",
        "# 테이블 조회\n",
        "tables = cur.execute(\"select * from sqlite_master where type = 'table'\")\n",
        "for i in tables:\n",
        "    print(i)\n",
        "    \n",
        "# 파일 불러오기\n",
        "file = csv.reader(open(\"D:\\Coding\\Acorn\\SQL\\응용 실습용 CSV파일.csv\", \"r\"), delimiter = \",\")\n",
        "# for i in file:\n",
        "#     print(i)\n",
        "\n",
        "next(file)\n",
        "\n",
        "for row in file:\n",
        "    cur.execute(\"insert into suppliers values(?, ?, ?, ?, ?)\", row)\n",
        "    \n",
        "conn.commit()\n",
        "\n",
        "conn.close()"
      ],
      "execution_count": null,
      "outputs": []
    },
    {
      "cell_type": "code",
      "metadata": {
        "id": "4sVAy8H0NmoS"
      },
      "source": [
        "# expert로 확인하거나 select로 확인\n",
        "conn = sqlite3.connect(\"D:\\Coding\\Acorn\\SQL\\SQLitetest\\sqlitetest.db\")\n",
        "cur = conn.cursor()\n",
        "\n",
        "cur.execute(\"select * from suppliers\")\n",
        "for i in cur.fetchmany(5):\n",
        "    print(i)\n",
        "    \n",
        "conn.close()"
      ],
      "execution_count": null,
      "outputs": []
    },
    {
      "cell_type": "code",
      "metadata": {
        "id": "-e61XHeKNmjV"
      },
      "source": [
        "###### Memory DB ######\n",
        "\n",
        "conn = sqlite3.connect(\":memory:\")\n",
        "# print(conn)\n",
        "cur = conn.cursor()\n",
        "\n",
        "cur.execute(\"create table phonebook(name varchar(10), phonenumber text);\")\n",
        "cur.execute(\"insert into phonebook values(?, ?);\", (\"tom\", \"010-111-1111\"))\n",
        "\n",
        "# 입력 데이터 인자를 변수명으로 처리\n",
        "sql = \"insert into phonebook values(:vName, :vPhone)\"\n",
        "cur.execute(sql, {\"vPhone\":\"010-222-2222\", \"vName\":\"Johnson\"})\n",
        "\n",
        "# 여러 개의 데이터를 한번에 입력\n",
        "datalist = (('jane', '010-3333-3333'), ('jerry', '010-4444-4444'), ('marry', '010-5555-5555'))\n",
        "cur.executemany(\"insert into phonebook values(?, ?)\", datalist)\n",
        "\n",
        "\n",
        "cur.execute(\"select * from phonebook\")\n",
        "for row in cur:\n",
        "    print(row)\n",
        "    \n",
        "# 지금 작업 내용을 script로 저장\n",
        "f = open(\"D:\\Coding\\Acorn\\SQL\\SQLitetest\\dump.db\", \"w\")\n",
        "for line in conn.iterdump():\n",
        "    f.write(\"{}\\n\".format(line))\n",
        "    \n",
        "f.close()\n",
        "\n",
        "conn.close()"
      ],
      "execution_count": null,
      "outputs": []
    },
    {
      "cell_type": "code",
      "metadata": {
        "id": "nzAiYvyENmgX"
      },
      "source": [
        "# 스크립트 불러오기\n",
        "conn = sqlite3.connect(\"D:\\Coding\\Acorn\\SQL\\SQLitetest\\sqlitetest.db\")\n",
        "cur = conn.cursor()\n",
        "\n",
        "file = open(\"D:\\Coding\\Acorn\\SQL\\SQLitetest\\dump.db\", \"r\")\n",
        "script = file.read()\n",
        "print(script)\n",
        "\n",
        "cur.executescript(script)\n",
        "\n",
        "conn.close()"
      ],
      "execution_count": null,
      "outputs": []
    },
    {
      "cell_type": "code",
      "metadata": {
        "id": "c3AjG7OSNmcR"
      },
      "source": [
        "#vsCode에서 실행해보기\n",
        "\n",
        "import sqlite3\n",
        "\n",
        "def process(dbname):\n",
        "    try :\n",
        "        conn = sqlite3.connect(dbname)\n",
        "        cur = conn.cursor()\n",
        "\n",
        "        sql = \"drop table if exists emp\"\n",
        "        cur.execute(sql)\n",
        "\n",
        "        sql = \"create table emp(id integer primary key, name text)\"\n",
        "        cur.execute(sql)\n",
        "\n",
        "        # tables = cur.execute(\"select * from sqlite_master where type = 'table'\")\n",
        "        # for i in tables:\n",
        "        #     print(i)\n",
        "\n",
        "        cur.execute(\"insert into emp values(1, '홍길동')\")\n",
        "        cur.execute(\"insert into emp values(?, ?)\", (2, \"임꺽정\"))\n",
        "        cur.execute(\"insert into emp values(?, ?)\", [3, \"신돌석\"])\n",
        "\n",
        "        tlist = ((4, \"유비\"), (5, \"관우\"), (6, \"장비\"))\n",
        "        cur.executemany(\"insert into emp values(?, ?)\", tlist)\n",
        "\n",
        "        cur.execute(\"insert into emp values(:no, :name)\", {\"no\" : 7, \"name\" : \"호랑이\"})\n",
        "\n",
        "        cur.execute(\"select * from emp\")\n",
        "        for row in cur:\n",
        "            print(row)\n",
        "\n",
        "        print(\"===========================\")\n",
        "\n",
        "        cur.execute(\"select count(*) from emp\")\n",
        "        print(\"데이터 갯수 : \" + str(cur.fetchone()))\n",
        "\n",
        "        conn.commit()\n",
        "\n",
        "    except sqlite3.Error as e:\n",
        "        print(\"오류 : \", e)\n",
        "        conn.rollback()\n",
        "    finally : \n",
        "        conn.close()\n",
        "\n",
        "if __name__ == \"__main__\":\n",
        "    process(\"nice.db\")"
      ],
      "execution_count": null,
      "outputs": []
    },
    {
      "cell_type": "code",
      "metadata": {
        "id": "JrE-Q1bPNmHX"
      },
      "source": [
        "#MySQLdb에서 했던 실습을 sqlite3에서 해보기\n",
        "# MySQLdb --> sqlite3\n",
        "# config --> dbname\n",
        "# %s --> ? 로 전부 바꿔주기\n",
        "\n",
        "\n",
        "# -*- coding: utf-8 -*- \n",
        "\n",
        "###########################################################################\n",
        "## Python code generated with wxFormBuilder (version Jun 17 2015)\n",
        "## http://www.wxformbuilder.org/\n",
        "##\n",
        "## PLEASE DO \"NOT\" EDIT THIS FILE!\n",
        "###########################################################################\n",
        "\n",
        "import wx\n",
        "import wx.xrc\n",
        "import sqlite3\n",
        "\n",
        "dbname = \"D:\\Coding\\Acorn\\SQL\\SQLitetest\\pywin.db\"\n",
        "\n",
        "\n",
        "###########################################################################\n",
        "## Class MainFrame\n",
        "###########################################################################\n",
        "\n",
        "class MainFrame ( wx.Frame ):\n",
        "\t\n",
        "\tdef __init__( self, parent ):\n",
        "\t\twx.Frame.__init__ ( self, parent, id = wx.ID_ANY, title = wx.EmptyString, pos = wx.DefaultPosition, size = wx.Size( 374,456 ), style = wx.DEFAULT_FRAME_STYLE|wx.TAB_TRAVERSAL )\n",
        "\t\t\n",
        "\t\tself.SetSizeHintsSz( wx.DefaultSize, wx.DefaultSize )\n",
        "\t\t\n",
        "\t\tbSizer2 = wx.BoxSizer( wx.VERTICAL )\n",
        "\t\t\n",
        "\t\tself.m_panel2 = wx.Panel( self, wx.ID_ANY, wx.DefaultPosition, wx.DefaultSize, wx.TAB_TRAVERSAL )\n",
        "\t\tbSizer3 = wx.BoxSizer( wx.HORIZONTAL )\n",
        "\t\t\n",
        "\t\tself.m_staticText2 = wx.StaticText( self.m_panel2, wx.ID_ANY, u\"번호 : \", wx.DefaultPosition, wx.DefaultSize, 0 )\n",
        "\t\tself.m_staticText2.Wrap( -1 )\n",
        "\t\tbSizer3.Add( self.m_staticText2, 0, wx.ALL, 5 )\n",
        "\t\t\n",
        "\t\tself.m_txtNo = wx.TextCtrl( self.m_panel2, wx.ID_ANY, wx.EmptyString, wx.DefaultPosition, wx.DefaultSize, 0 )\n",
        "\t\tbSizer3.Add( self.m_txtNo, 0, wx.ALL, 5 )\n",
        "\t\t\n",
        "\t\tself.m_btnInsert = wx.Button( self.m_panel2, wx.ID_ANY, u\"등록\", wx.DefaultPosition, wx.DefaultSize, 0 )\n",
        "\t\tbSizer3.Add( self.m_btnInsert, 1, wx.ALL, 5 )\n",
        "\t\t\n",
        "\t\t\n",
        "\t\tself.m_panel2.SetSizer( bSizer3 )\n",
        "\t\tself.m_panel2.Layout()\n",
        "\t\tbSizer3.Fit( self.m_panel2 )\n",
        "\t\tbSizer2.Add( self.m_panel2, 0, wx.EXPAND |wx.ALL, 5 )\n",
        "\t\t\n",
        "\t\tself.m_panel3 = wx.Panel( self, wx.ID_ANY, wx.DefaultPosition, wx.DefaultSize, wx.TAB_TRAVERSAL )\n",
        "\t\tbSizer4 = wx.BoxSizer( wx.HORIZONTAL )\n",
        "\t\t\n",
        "\t\tself.m_staticText3 = wx.StaticText( self.m_panel3, wx.ID_ANY, u\"이름 : \", wx.DefaultPosition, wx.DefaultSize, 0 )\n",
        "\t\tself.m_staticText3.Wrap( -1 )\n",
        "\t\tbSizer4.Add( self.m_staticText3, 0, wx.ALL, 5 )\n",
        "\t\t\n",
        "\t\tself.m_txtName = wx.TextCtrl( self.m_panel3, wx.ID_ANY, wx.EmptyString, wx.DefaultPosition, wx.DefaultSize, 0 )\n",
        "\t\tbSizer4.Add( self.m_txtName, 0, wx.ALL, 5 )\n",
        "\t\t\n",
        "\t\tself.m_btnUpdate = wx.Button( self.m_panel3, wx.ID_ANY, u\"수정\", wx.DefaultPosition, wx.DefaultSize, 0 )\n",
        "\t\tbSizer4.Add( self.m_btnUpdate, 0, wx.ALL, 5 )\n",
        "\t\t\n",
        "\t\tself.m_btnConfirm = wx.Button( self.m_panel3, wx.ID_ANY, u\"확인\", wx.DefaultPosition, wx.DefaultSize, 0 )\n",
        "\t\tbSizer4.Add( self.m_btnConfirm, 0, wx.ALL, 5 )\n",
        "\t\t\n",
        "\t\t\n",
        "\t\tself.m_panel3.SetSizer( bSizer4 )\n",
        "\t\tself.m_panel3.Layout()\n",
        "\t\tbSizer4.Fit( self.m_panel3 )\n",
        "\t\tbSizer2.Add( self.m_panel3, 0, wx.EXPAND |wx.ALL, 5 )\n",
        "\t\t\n",
        "\t\tself.m_panel4 = wx.Panel( self, wx.ID_ANY, wx.DefaultPosition, wx.DefaultSize, wx.TAB_TRAVERSAL )\n",
        "\t\tbSizer5 = wx.BoxSizer( wx.HORIZONTAL )\n",
        "\t\t\n",
        "\t\tself.m_staticText4 = wx.StaticText( self.m_panel4, wx.ID_ANY, u\"전화 : \", wx.DefaultPosition, wx.DefaultSize, 0 )\n",
        "\t\tself.m_staticText4.Wrap( -1 )\n",
        "\t\tbSizer5.Add( self.m_staticText4, 0, wx.ALL, 5 )\n",
        "\t\t\n",
        "\t\tself.m_txtTel = wx.TextCtrl( self.m_panel4, wx.ID_ANY, wx.EmptyString, wx.DefaultPosition, wx.DefaultSize, 0 )\n",
        "\t\tbSizer5.Add( self.m_txtTel, 0, wx.ALL, 5 )\n",
        "\t\t\n",
        "\t\tself.m_btnDel = wx.Button( self.m_panel4, wx.ID_ANY, u\"삭제\", wx.DefaultPosition, wx.DefaultSize, 0 )\n",
        "\t\tbSizer5.Add( self.m_btnDel, 1, wx.ALL, 5 )\n",
        "\t\t\n",
        "\t\t\n",
        "\t\tself.m_panel4.SetSizer( bSizer5 )\n",
        "\t\tself.m_panel4.Layout()\n",
        "\t\tbSizer5.Fit( self.m_panel4 )\n",
        "\t\tbSizer2.Add( self.m_panel4, 0, wx.EXPAND |wx.ALL, 5 )\n",
        "\t\t\n",
        "\t\tself.m_panel5 = wx.Panel( self, wx.ID_ANY, wx.DefaultPosition, wx.DefaultSize, wx.TAB_TRAVERSAL )\n",
        "\t\tbSizer6 = wx.BoxSizer( wx.VERTICAL )\n",
        "\t\t\n",
        "\t\tself.m_lstView = wx.ListCtrl( self.m_panel5, wx.ID_ANY, wx.DefaultPosition, wx.DefaultSize, wx.LC_REPORT )\n",
        "\t\tbSizer6.Add( self.m_lstView, 1, wx.ALL|wx.EXPAND, 5 )\n",
        "\t\t\n",
        "        # 리스트 컨트롤 화면 디자인\n",
        "\t\tself.m_lstView.InsertColumn(0, \"번호\", width = 50)\n",
        "\t\tself.m_lstView.InsertColumn(1, \"이름\", width = 100)\n",
        "\t\tself.m_lstView.InsertColumn(2, \"전화\", width = 100)\n",
        "\n",
        "\t\t\n",
        "\t\tself.m_panel5.SetSizer( bSizer6 )\n",
        "\t\tself.m_panel5.Layout()\n",
        "\t\tbSizer6.Fit( self.m_panel5 )\n",
        "\t\tbSizer2.Add( self.m_panel5, 1, wx.EXPAND |wx.ALL, 5 )\n",
        "\t\t\n",
        "\t\tself.m_panel6 = wx.Panel( self, wx.ID_ANY, wx.DefaultPosition, wx.DefaultSize, wx.TAB_TRAVERSAL )\n",
        "\t\tbSizer7 = wx.BoxSizer( wx.HORIZONTAL )\n",
        "\t\t\n",
        "\t\tself.m_staticText5 = wx.StaticText( self.m_panel6, wx.ID_ANY, u\"인원수 : \", wx.DefaultPosition, wx.DefaultSize, 0 )\n",
        "\t\tself.m_staticText5.Wrap( -1 )\n",
        "\t\tbSizer7.Add( self.m_staticText5, 0, wx.ALL, 5 )\n",
        "\t\t\n",
        "\t\tself.m_staCnt = wx.StaticText( self.m_panel6, wx.ID_ANY, u\"0\", wx.DefaultPosition, wx.DefaultSize, 0 )\n",
        "\t\tself.m_staCnt.Wrap( -1 )\n",
        "\t\tbSizer7.Add( self.m_staCnt, 0, wx.ALL, 5 )\n",
        "\t\t\n",
        "\t\t\n",
        "\t\tself.m_panel6.SetSizer( bSizer7 )\n",
        "\t\tself.m_panel6.Layout()\n",
        "\t\tbSizer7.Fit( self.m_panel6 )\n",
        "\t\tbSizer2.Add( self.m_panel6, 0, wx.EXPAND |wx.ALL, 5 )\n",
        "\t\t\n",
        "\t\t\n",
        "\t\tself.SetSizer( bSizer2 )\n",
        "\t\tself.Layout()\n",
        "\n",
        "\t\tself.Centre(wx.BOTH)\n",
        "\n",
        "\t\t# 버튼 이벤트 id를 지정\n",
        "\t\tself.m_btnInsert.id = 1\n",
        "\t\tself.m_btnUpdate.id = 2\n",
        "\t\tself.m_btnConfirm.id = 3\n",
        "\t\tself.m_btnDel.id = 4\n",
        "\n",
        "\t\t# 이벤트 바인딩\n",
        "\t\tself.m_btnInsert.Bind(wx.EVT_BUTTON, self.onBtnClick)\n",
        "\t\tself.m_btnUpdate.Bind(wx.EVT_BUTTON, self.onBtnClick)\n",
        "\t\tself.m_btnConfirm.Bind(wx.EVT_BUTTON, self.onBtnClick)\n",
        "\t\tself.m_btnDel.Bind(wx.EVT_BUTTON, self.onBtnClick)\n",
        "\n",
        "\t\tself.m_btnConfirm.Enable(enable = False)\n",
        "\t\tself.viewListData()\n",
        "\n",
        "\tdef onBtnClick(self, e):\n",
        "\t\tid = e.GetEventObject().id\n",
        "\n",
        "\t\tif id == 1:  # 등록 버튼\n",
        "\t\t\tself.cusInsert()\n",
        "\t\telif id == 2:  # 수정 버튼\n",
        "\t\t\tself.cusUpdate()\n",
        "\t\telif id == 3:  # 확인 버튼\n",
        "\t\t\tself.cusUpdateOK()\n",
        "\t\telif id == 4:  # 삭제 버튼\n",
        "\t\t\tself.cusDel()\n",
        "\t\telif id == 5:  # 취소 버튼\n",
        "\t\t\tself.cusUpdateCancel()\n",
        "\n",
        "    \n",
        "    # ListCtrl에 고객 정보 출력\n",
        "\tdef viewListData(self):\n",
        "\t\ttry:\n",
        "\t\t\tconn = sqlite3.connect(dbname)\n",
        "\t\t\tcur = conn.cursor()\n",
        "\n",
        "\t\t\tself.m_lstView.DeleteAllItems()\n",
        "\n",
        "\t\t\tcur.execute(\"select * from customer\")\n",
        "            \n",
        "\t\t\tcount = 0            \n",
        "\t\t\tfor row in cur:\n",
        "\t\t\t\ti = self.m_lstView.InsertItem(10000, 0)\n",
        "\t\t\t\tself.m_lstView.SetItem(i, 0, str(row[0]))\n",
        "\t\t\t\tself.m_lstView.SetItem(i, 1, str(row[1]))\n",
        "\t\t\t\tself.m_lstView.SetItem(i, 2, str(row[2]))\n",
        "\t\t\t\tcount += 1\n",
        "\n",
        "\t\t\tself.m_staCnt.SetLabel(str(count))\n",
        "\n",
        "\t\texcept Exception as e:\n",
        "\t\t\tprint(\"viewListData에서 오류 : \", e)\n",
        "\t\tfinally:\n",
        "\t\t\tconn.close()\n",
        "\n",
        "    # 중복된 고객번호 체크\n",
        "\tdef selectData(self, no):\n",
        "\t\ttry:\n",
        "\t\t\tconn = sqlite3.connect(dbname)\n",
        "\t\t\tcur = conn.cursor()\n",
        "\n",
        "\t\t\tsql = \"select cus_no, cus_name, cus_tel from customer where cus_no = {}\".format(no)\n",
        "\t\t\tcur.execute(sql)\n",
        "\n",
        "\t\t\tdata = cur.fetchone()\n",
        "\t\t\treturn data\n",
        "\n",
        "\t\texcept Exception as e:\n",
        "\t\t\tprint(\"viewListData에서 오류 : \", e)\n",
        "\t\tfinally:\n",
        "\t\t\tconn.close()        \n",
        "\n",
        "\t\n",
        "    # 고객 등록\n",
        "\tdef cusInsert(self):\n",
        "\t\tno = self.m_txtNo.GetValue()\n",
        "\t\tname = self.m_txtName.GetValue()\n",
        "\t\ttel = self.m_txtTel.GetValue()\n",
        "\n",
        "\t\tif no == \"\" or name == \"\" or tel == \"\":\n",
        "\t\t\twx.MessageBox(\"자료를 입력하세요\", \"입력\", wx.OK)\n",
        "\t\t\treturn\n",
        " \n",
        "\t\ttry:\n",
        "\t\t\tconn = sqlite3.connect(dbname)\n",
        "\t\t\tcur = conn.cursor()\n",
        "\n",
        "\t\t\tresult = self.selectData(no)\n",
        "\t\t\tif result != None:\n",
        "\t\t\t\twx.MessageBox(\"이미 사용중인 번호입니다\", \"알림\", wx.OK)\n",
        "\t\t\t\treturn\n",
        "\n",
        "\t\t\tsql = \"insert into customer(cus_no, cus_name, cus_tel) values(?, ?, ?)\"\n",
        "\t\t\tcur.execute(sql, (no, name, tel))\n",
        "\t\t\tconn.commit()\n",
        "\n",
        "\t\t\tself.viewListData()\n",
        "\t\t\tself.m_txtNo.SetValue(\"\")\n",
        "\t\t\tself.m_txtName.SetValue(\"\")\n",
        "\t\t\tself.m_txtTel.SetValue(\"\")\n",
        "\n",
        "\t\texcept Exception as e:\n",
        "\t\t\tprint(\"viewListData에서 오류 : \", e)\n",
        "\t\tfinally:\n",
        "\t\t\tconn.close()\n",
        "\n",
        "\t# 고객 수정\n",
        "    \n",
        "\tdef cusUpdate(self):\n",
        "\t\tdlg = wx.TextEntryDialog(self, \"수정할 번호 입력\", \"수정\")\n",
        "\t\tif dlg.ShowModal() == wx.ID_OK:\n",
        "\t\t\tif dlg.GetValue() == \"\":\n",
        "\t\t\t\treturn\n",
        "\n",
        "\t\t\tup_no = dlg.GetValue()\n",
        "\n",
        "\t\t\tresult = self.selectData(up_no)\n",
        "\t\t\tif result == None:\n",
        "\t\t\t\twx.MessageBox(up_no + \"번은 등록된 자료가 아닙니다.\", \"알림\", wx.OK)\n",
        "\t\t\t\treturn\n",
        "\n",
        "\t\t\tself.m_txtNo.SetValue(str(result[0]))\n",
        "\t\t\tself.m_txtName.SetValue(str(result[1]))\n",
        "\t\t\tself.m_txtTel.SetValue(str(result[2]))\n",
        "\n",
        "\t\t\tself.m_txtNo.SetEditable(False)\n",
        "\t\t\tself.m_btnConfirm.Enable(True)\n",
        "\t\t\tself.m_btnUpdate.SetLabel(\"취소\")\n",
        "\t\t\tself.m_btnUpdate.id = 5\n",
        "\n",
        "\n",
        "\t# 고객 수정 완료\n",
        "\tdef cusUpdateOK(self):\n",
        "\t\tno = self.m_txtNo.GetValue()\n",
        "\t\tname = self.m_txtName.GetValue()\n",
        "\t\ttel = self.m_txtTel.GetValue()\n",
        "\n",
        "\t\tif name == \"\" or tel == \"\":\n",
        "\t\t\twx.MessageBox(\"자료를 입력하세요\", \"입력\", wx.OK)\n",
        "\t\t\treturn\n",
        " \n",
        "\t\ttry:\n",
        "\t\t\tconn = sqlite3.connect(dbname)\n",
        "\t\t\tcur = conn.cursor()\n",
        "\n",
        "\t\t\tsql = \"update customer set cus_name = ?, cus_tel = ? where cus_no = ?\"\n",
        "\t\t\tcur.execute(sql, (name, tel, no))\n",
        "\t\t\tconn.commit()\n",
        "\n",
        "\t\t\tself.viewListData()\n",
        "\t\t\tself.m_txtNo.SetValue(\"\")\n",
        "\t\t\tself.m_txtName.SetValue(\"\")\n",
        "\t\t\tself.m_txtTel.SetValue(\"\")\n",
        "\n",
        "\t\t\tself.m_txtNo.SetEditable(True)\n",
        "\t\t\tself.m_btnUpdate.SetLabel(\"수정\")\n",
        "\t\t\tself.m_btnUpdate.id = 2\n",
        "\t\t\tself.m_btnConfirm.Enable(False)\n",
        "\n",
        "\t\texcept Exception as e:\n",
        "\t\t\tprint(\"cusUpdateOK에서 오류 : \", e)\n",
        "\t\tfinally:\n",
        "\t\t\tconn.close()\n",
        "\n",
        "\n",
        "\t# 고객 수정 취소\n",
        "\tdef cusUpdateCancel(self):\n",
        "\t\tself.m_txtNo.SetValue(\"\")\n",
        "\t\tself.m_txtName.SetValue(\"\")\n",
        "\t\tself.m_txtTel.SetValue(\"\")\n",
        "\n",
        "\t\tself.m_txtNo.SetEditable(True)\n",
        "\t\tself.m_btnUpdate.SetLabel(\"수정\")\n",
        "\t\tself.m_btnUpdate.id = 2\n",
        "\t\tself.m_btnConfirm.Enable(False)\n",
        "\n",
        "\t# 고객 삭제\n",
        "\n",
        "\tdef cusDel(self):\n",
        "\t\tdlg = wx.TextEntryDialog(self, \"삭제할 번호 입력\", \"삭제\")\n",
        "\t\tif dlg.ShowModal() == wx.ID_OK:\n",
        "\t\t\tif dlg.GetValue() == \"\":\n",
        "\t\t\t\treturn\n",
        "\n",
        "\t\t\tdel_no = dlg.GetValue()\n",
        "\n",
        "\t\t\tresult = self.selectData(del_no)\n",
        "\t\t\tif result == None:\n",
        "\t\t\t\twx.MessageBox(del_no + \"번은 등록된 자료가 아닙니다.\", \"알림\", wx.OK)\n",
        "\t\t\t\treturn\n",
        "\n",
        "\t\t\ttry:\n",
        "\t\t\t\tconn = sqlite3.connect(dbname)\n",
        "\t\t\t\tcur = conn.cursor()\n",
        "\n",
        "\t\t\t\tsql = \"delete from customer where cus_no = {}\".format(del_no)\n",
        "\t\t\t\tcur.execute(sql)\n",
        "\t\t\t\tconn.commit()\n",
        "\t\t\t\tself.viewListData()\n",
        "\n",
        "\t\t\texcept Exception as e:\n",
        "\t\t\t\tprint(\"cusDel에서 오류 : \", e)\n",
        "\t\t\tfinally:\n",
        "\t\t\t\tconn.close()\n",
        "\n",
        "\n",
        "if __name__ == \"__main__\":\n",
        "\tapp = wx.App()\n",
        "\tMainFrame(None).Show(True)\n",
        "\tapp.MainLoop()"
      ],
      "execution_count": null,
      "outputs": []
    },
    {
      "cell_type": "markdown",
      "metadata": {
        "id": "z32HRR9lMxV7"
      },
      "source": [
        "## 3. 파이썬과 MongoDB 연동\n",
        "  - pip install pymongo"
      ]
    },
    {
      "cell_type": "code",
      "metadata": {
        "id": "QzwUzMBAM1dS"
      },
      "source": [
        "# import pymongo\n",
        "from pymongo import MongoClient"
      ],
      "execution_count": 2,
      "outputs": []
    },
    {
      "cell_type": "markdown",
      "metadata": {
        "id": "wkM_NjvBfiPl"
      },
      "source": [
        "### (1) 서버 연결"
      ]
    },
    {
      "cell_type": "code",
      "metadata": {
        "id": "q9Vs2wIlfDgZ"
      },
      "source": [
        "# conn = pymongo.MongoClient(\"123.0.0.1\", 27017)\n",
        "conn = MongoClient(\"123.0.0.1\", 27017)\n",
        "print(conn)\n",
        "conn.close()"
      ],
      "execution_count": null,
      "outputs": []
    },
    {
      "cell_type": "markdown",
      "metadata": {
        "id": "BcHBsMOXfkcj"
      },
      "source": [
        "### (2) DB 연결"
      ]
    },
    {
      "cell_type": "code",
      "metadata": {
        "id": "CIQEf21XfDKq"
      },
      "source": [
        "conn = MongoClient(\"123,0,0,1\", 27017)\n",
        "\n",
        "# dbname = conn.get_database(\"test\")\n",
        "# dbname = conn.test\n",
        "dbname = conn.test2\n",
        "print(dbname)\n",
        "\n",
        "conn.close()"
      ],
      "execution_count": null,
      "outputs": []
    },
    {
      "cell_type": "markdown",
      "metadata": {
        "id": "xV2kDf5HfmPV"
      },
      "source": [
        "### (3) Collection 연결"
      ]
    },
    {
      "cell_type": "code",
      "metadata": {
        "id": "S8Q_Pm4WfLd-"
      },
      "source": [
        "conn = MongoClient(\"123.0.0.1\", 27017)\n",
        "dbname = conn.test\n",
        "\n",
        "collect = dbname.articles\n",
        "# collect = dbname[\"articles\"]\n",
        "print(collect)\n",
        "\n",
        "conn.close()"
      ],
      "execution_count": null,
      "outputs": []
    },
    {
      "cell_type": "markdown",
      "metadata": {
        "id": "KJvE5q5UfoMd"
      },
      "source": [
        "### (4) 데이터 입력(1개)"
      ]
    },
    {
      "cell_type": "code",
      "metadata": {
        "id": "syTdT3rrfLVM"
      },
      "source": [
        "conn = MongoClient(\"127.0.0.1\", 27017)\n",
        "dbname = conn.test\n",
        "collect = dbname.people\n",
        "\n",
        "data = {\"author\":\"Mike\", \"text\":\"my first blog post!\", \"tag\":[\"mongodb\", \"python\"]}\n",
        "collect.insert_one(data)\n",
        "\n",
        "# 입력하면서 id 가져오기\n",
        "# data = {\"author\":\"Mike\", \"text\":\"my first blog post!\", \"tag\":[\"mongodb\", \"python\"]}\n",
        "# post_id = collect.insert_one(data).inserted_id\n",
        "# print(post_id)\n",
        "\n",
        "print(collect.count_documents({}))\n",
        "\n",
        "for i in collect.find():\n",
        "    print(i)\n",
        "\n",
        "conn.close()"
      ],
      "execution_count": null,
      "outputs": []
    },
    {
      "cell_type": "markdown",
      "metadata": {
        "id": "VtLElDuYfqEr"
      },
      "source": [
        "### (5) 데이터 입력하기(여러 개)"
      ]
    },
    {
      "cell_type": "code",
      "metadata": {
        "id": "7pRVP45QfC9O"
      },
      "source": [
        "conn = MongoClient(\"127.0.0.1\", 27017)\n",
        "dbname = conn.test\n",
        "collect = dbname.people\n",
        "\n",
        "print(collect.count_documents({}))\n",
        "\n",
        "collect.insert_many([{\"number\": i} for i in range(10)])\n",
        "\n",
        "print(collect.count_documents({}))\n",
        "\n",
        "conn.close()"
      ],
      "execution_count": null,
      "outputs": []
    },
    {
      "cell_type": "code",
      "metadata": {
        "id": "4baMecfSfSpo"
      },
      "source": [
        "datas = []\n",
        "for i in range(10):\n",
        "    data = {\"number\" : i}\n",
        "    datas.append(data)\n",
        "    \n",
        "print(datas)"
      ],
      "execution_count": null,
      "outputs": []
    },
    {
      "cell_type": "code",
      "metadata": {
        "id": "O73JppyafSfF"
      },
      "source": [
        "conn = MongoClient(\"127.0.0.1\", 27017)\n",
        "dbname = conn.test\n",
        "collect = dbname.people\n",
        "\n",
        "data = list()\n",
        "data.append({\"name\":\"aron\", \"age\":20})\n",
        "data.append({\"name\":\"tom\", \"age\":21})\n",
        "data.append({\"name\":\"jane\", \"age\":22})\n",
        "data.append({\"name\":\"jerry\", \"age\":23})\n",
        "\n",
        "collect.insert_many(data)\n",
        "\n",
        "conn.close()"
      ],
      "execution_count": null,
      "outputs": []
    },
    {
      "cell_type": "markdown",
      "metadata": {
        "id": "iKaCpqi_fU7p"
      },
      "source": [
        "### (6) 조회"
      ]
    },
    {
      "cell_type": "code",
      "metadata": {
        "id": "5DVpRFzkfaB0"
      },
      "source": [
        "conn = MongoClient(\"127.0.0.1\", 27017)\n",
        "dbname = conn.test\n",
        "collect = dbname.people\n",
        "\n",
        "# 전체 조회\n",
        "# for i in collect.find():\n",
        "#     print(i)\n",
        "    \n",
        "# 나이가 20살인 document 조회\n",
        "for i in collect.find({\"age\" : 20}):\n",
        "    print(i)\n",
        "    \n",
        "print(\"==========================\")\n",
        "    \n",
        "# 나이가 23살 이상인 document 조회\n",
        "for i in collect.find({\"age\" : {\"$gte\" : 23}}):\n",
        "    print(i)\n",
        "\n",
        "print(\"==========================\")\n",
        "\n",
        "print(collect.find_one())\n",
        "print(collect.find_one({\"age\" : {\"$gte\" : 23}}))\n",
        "\n",
        "conn.close()"
      ],
      "execution_count": null,
      "outputs": []
    },
    {
      "cell_type": "markdown",
      "metadata": {
        "id": "PGJH_UBCfbs2"
      },
      "source": [
        "### (7) 수정"
      ]
    },
    {
      "cell_type": "code",
      "metadata": {
        "id": "g8fd9fDufZ_z"
      },
      "source": [
        "conn = MongoClient(\"127.0.0.1\", 27017)\n",
        "dbname = conn.test\n",
        "collect = dbname.people\n",
        "\n",
        "print(collect.find_one({\"author\" : \"Tom\"}))\n",
        "\n",
        "collect.update_one({\"author\" : \"Tom\"}, {\"$set\" : {\"text\" : \"my second blog post!\"}})\n",
        "\n",
        "print(collect.find_one({\"author\" : \"Tom\"}))\n",
        "\n",
        "conn.close()"
      ],
      "execution_count": null,
      "outputs": []
    }
  ]
}