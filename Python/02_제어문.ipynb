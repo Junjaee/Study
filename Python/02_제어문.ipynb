{
  "nbformat": 4,
  "nbformat_minor": 0,
  "metadata": {
    "colab": {
      "name": "02_제어문.ipynb",
      "provenance": [],
      "collapsed_sections": [],
      "authorship_tag": "ABX9TyNuXDz8dYKgmtScQuW8o82X",
      "include_colab_link": true
    },
    "kernelspec": {
      "name": "python3",
      "display_name": "Python 3"
    },
    "language_info": {
      "name": "python"
    }
  },
  "cells": [
    {
      "cell_type": "markdown",
      "metadata": {
        "id": "view-in-github",
        "colab_type": "text"
      },
      "source": [
        "<a href=\"https://colab.research.google.com/github/Junjaee/Study/blob/main/Python/02_%EC%A0%9C%EC%96%B4%EB%AC%B8.ipynb\" target=\"_parent\"><img src=\"https://colab.research.google.com/assets/colab-badge.svg\" alt=\"Open In Colab\"/></a>"
      ]
    },
    {
      "cell_type": "markdown",
      "metadata": {
        "id": "ekz9GVP7wHhE"
      },
      "source": [
        "## 1. 입력 기능"
      ]
    },
    {
      "cell_type": "code",
      "metadata": {
        "colab": {
          "base_uri": "https://localhost:8080/"
        },
        "id": "CtVLMTpNvb7G",
        "outputId": "f72b12ed-1eb3-4440-8ec2-612ccab6c4cd"
      },
      "source": [
        "name = input(\"당신의 이름은?\")\n",
        "print(\"안녕하세요! {}님 어서오세요\".format(name))"
      ],
      "execution_count": 2,
      "outputs": [
        {
          "output_type": "stream",
          "text": [
            "당신의 이름은?신준재\n",
            "안녕하세요! 신준재님 어서오세요\n"
          ],
          "name": "stdout"
        }
      ]
    },
    {
      "cell_type": "code",
      "metadata": {
        "colab": {
          "base_uri": "https://localhost:8080/"
        },
        "id": "01DTcuqDyYbW",
        "outputId": "4819223d-65e3-4552-a7a1-182b0052bb8f"
      },
      "source": [
        "num1 = input(\"첫번째 숫자 : \")\n",
        "num2 = input(\"두번째 숫자 : \")\n",
        "\n",
        "num1 = int(num1)\n",
        "num2 = int(num2)\n",
        "\n",
        "print(\"결과 : \", num1 + num2)"
      ],
      "execution_count": 4,
      "outputs": [
        {
          "output_type": "stream",
          "text": [
            "첫번째 숫자 : 1\n",
            "두번째 숫자 : 2\n",
            "결과 :  3\n"
          ],
          "name": "stdout"
        }
      ]
    },
    {
      "cell_type": "markdown",
      "metadata": {
        "id": "OORUQd3fUtDn"
      },
      "source": [
        "---\n",
        "## 2. 제어문\n",
        "\n",
        "    1) 조건문\n",
        "        - if\n",
        "        - switch\n",
        "\n",
        "    2) 반복문\n",
        "        - while\n",
        "        - for"
      ]
    },
    {
      "cell_type": "markdown",
      "metadata": {
        "id": "h9c6_pMaV6-h"
      },
      "source": [
        "---\n",
        "### (1)IF\n",
        "\n",
        "    1) if 조건식:\n",
        "            문장\n",
        "            ...\n",
        "        \n",
        "       if 조건식: 문장\n",
        "    \n",
        "    2) if 조건식:\n",
        "            문장\n",
        "            ...\n",
        "       else:\n",
        "            문장\n",
        "            ...\n",
        "\n",
        "    3) if 조건식:\n",
        "            문장\n",
        "            ...\n",
        "       elif 조건식:\n",
        "            문장\n",
        "            ...\n",
        "       else:\n",
        "            문장\n",
        "            ..."
      ]
    },
    {
      "cell_type": "code",
      "metadata": {
        "colab": {
          "base_uri": "https://localhost:8080/"
        },
        "id": "eaUsDoLzW5Gg",
        "outputId": "886b1f59-0cea-42e2-9984-ad6eb53510fa"
      },
      "source": [
        "# 입력받은 숫자가 짝수/홀수인지 판별하는 프로그램\n",
        "\n",
        "num1 = int(input(\"숫자 : \"))\n",
        "\n",
        "if num1 % 2 == 0:\n",
        "  print(\"짝수\")\n",
        "\n",
        "if num1 % 2 !=0 : print(\"홀수\")"
      ],
      "execution_count": 24,
      "outputs": [
        {
          "output_type": "stream",
          "text": [
            "숫자 : 125\n",
            "홀수\n"
          ],
          "name": "stdout"
        }
      ]
    },
    {
      "cell_type": "code",
      "metadata": {
        "colab": {
          "base_uri": "https://localhost:8080/"
        },
        "id": "l0UgIjjWatqT",
        "outputId": "b62ca07d-e2b4-40d9-884f-11e475987831"
      },
      "source": [
        "num1 = int(input(\"숫자 : \"))\n",
        "\n",
        "if num1 % 2 == 0:\n",
        "  print(num1, \"은 짝수\")\n",
        "\n",
        "else:\n",
        "  print(num1, \"은 홀수\")"
      ],
      "execution_count": 36,
      "outputs": [
        {
          "output_type": "stream",
          "text": [
            "숫자 : 12\n",
            "12 은 짝수\n"
          ],
          "name": "stdout"
        }
      ]
    },
    {
      "cell_type": "code",
      "metadata": {
        "colab": {
          "base_uri": "https://localhost:8080/"
        },
        "id": "zLsE6Ky9a_23",
        "outputId": "30001f44-38f9-4357-be9a-d970895cca6a"
      },
      "source": [
        "# 입력받은 값이 a, b, c, d 이면 \"정답\"이라고 출력하고 그렇지 않으면 \"오답\"이라고 출력\n",
        "\n",
        "x = input(\"알파벳을 입력해주세요 : \")\n",
        "\n",
        "if x == \"a\" or x == \"b\" or x == \"c\" or x == \"d\":\n",
        "  print(\"정답\")\n",
        "else:\n",
        "  print(\"오답\")"
      ],
      "execution_count": 77,
      "outputs": [
        {
          "output_type": "stream",
          "text": [
            "알파벳을 입력해주세요 : a\n",
            "정답\n"
          ],
          "name": "stdout"
        }
      ]
    },
    {
      "cell_type": "code",
      "metadata": {
        "colab": {
          "base_uri": "https://localhost:8080/"
        },
        "id": "vcXoLYRDUY4s",
        "outputId": "01012305-e657-46bd-bceb-0013f521173a"
      },
      "source": [
        "num1 = input(\"값 : \")\n",
        "\n",
        "if num1 == (\"a\" or \"b\" or \"c\" or \"d\"):\n",
        "    print(\"정답\")\n",
        "else:\n",
        "    print(\"오답\")\n",
        "\n",
        "print(\"======================\")\n",
        "\n",
        "ans = input(\"답을 입력하세요.\")\n",
        "if ans in (\"a\", \"b\", \"c\", \"d\"):\n",
        "    print(\"정답\")\n",
        "else: print(\"오답\")\n",
        "\n",
        "print(\"======================\")\n",
        "\n",
        "answer = input(\"답을 입력하세요.\")\n",
        "\n",
        "correct = ('a', 'b', 'c', 'd')\n",
        "if correct.count(answer) > 0:\n",
        "  print(\"정답\")\n",
        "else:\n",
        "  print(\"오답\")\n",
        "\n",
        "print(\"======================\")\n",
        "\n",
        "if answer >== 'a' and answer <= 'd':\n",
        "  print(\"정답\")\n",
        "else:\n",
        "  print(\"오답\")\n",
        "\n"
      ],
      "execution_count": 93,
      "outputs": [
        {
          "output_type": "stream",
          "text": [
            "값 : a\n",
            "정답\n",
            "======================\n",
            "답을 입력하세요.\n",
            "오답\n",
            "======================\n",
            "답을 입력하세요.v\n",
            "오답\n"
          ],
          "name": "stdout"
        }
      ]
    },
    {
      "cell_type": "code",
      "metadata": {
        "colab": {
          "base_uri": "https://localhost:8080/"
        },
        "id": "R5qKVw15hEw2",
        "outputId": "22bf8715-1cd2-4c38-a1c2-5bcc7eea192b"
      },
      "source": [
        "# 아스키 코드\n",
        "\n",
        "print(ord('a'), ord('b'), ord('A'), ord('B'))\n",
        "print(chr(97), chr(98), chr(65), chr(66))"
      ],
      "execution_count": 98,
      "outputs": [
        {
          "output_type": "stream",
          "text": [
            "97 98 65 66\n",
            "a b A B\n"
          ],
          "name": "stdout"
        }
      ]
    },
    {
      "cell_type": "code",
      "metadata": {
        "id": "t2JVtKjzpM6L"
      },
      "source": [
        "# 다중 if\n",
        "\n",
        "avg = 73\n",
        "\n",
        "if avg >= 90:\n",
        "  print(\"A\")\n",
        "elif avg>=80:\n",
        "  print(\"B\")\n",
        "elif avg>=70\n",
        "  print(\"C\")\n",
        "elif avg>=60\n",
        "  print(\"D\")\n",
        "elif:\n",
        "  print(\"F\")"
      ],
      "execution_count": null,
      "outputs": []
    }
  ]
}