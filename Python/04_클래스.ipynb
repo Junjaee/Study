{
  "nbformat": 4,
  "nbformat_minor": 0,
  "metadata": {
    "colab": {
      "name": "04_클래스.ipynb",
      "provenance": [],
      "collapsed_sections": [],
      "authorship_tag": "ABX9TyMKEyJfoCYkijruqZYViFtA",
      "include_colab_link": true
    },
    "kernelspec": {
      "name": "python3",
      "display_name": "Python 3"
    },
    "language_info": {
      "name": "python"
    }
  },
  "cells": [
    {
      "cell_type": "markdown",
      "metadata": {
        "id": "view-in-github",
        "colab_type": "text"
      },
      "source": [
        "<a href=\"https://colab.research.google.com/github/Junjaee/Study/blob/main/Python/04_%ED%81%B4%EB%9E%98%EC%8A%A4.ipynb\" target=\"_parent\"><img src=\"https://colab.research.google.com/assets/colab-badge.svg\" alt=\"Open In Colab\"/></a>"
      ]
    },
    {
      "cell_type": "markdown",
      "metadata": {
        "id": "4jrAYDnpIatn"
      },
      "source": [
        "### 1. 특징\n",
        "\n",
        "+ 묶음(block)\n",
        "    - 변수(멤버 변수, 속성), 함수(멤버 함수, 메서드)\n",
        "    - 여러 개의 함수를 묶어서 좀 더 큰 단위의 모듈로 관리\n",
        "\n",
        "  \n",
        "+ 설계도(추상적)\n",
        "    - 인스턴스(instance), 객체(Object)\n",
        "\n",
        "\n",
        "+ 사용자 정의 자료형을 만들 수 있는 도구\n",
        "\n",
        "+ class는 첫글자가 대문자, 함수는 첫글자가 소문자\n",
        "\n",
        "+ 객체의 조건\n",
        "    - 상속성(Inheritance)\n",
        "    - 다형성(Polymorphism) : 여러개의 함수를 전부 알지 않아도 이용 가능\n",
        "    - 캡슐화(Capsulation) : 편리함\n",
        "\n",
        "+ 객체 설계 5원칙 : SOLID"
      ]
    },
    {
      "cell_type": "markdown",
      "metadata": {
        "id": "NnH_nZ2rL1ct"
      },
      "source": [
        "---\n",
        "### 2. 클래스 작성 방법\n",
        "\n",
        "```\n",
        "class 이름:\n",
        "      변수\n",
        "      함수\n",
        "\n",
        "또는\n",
        "\n",
        "class 이름(...):\n",
        "      변수\n",
        "      함수\n",
        "```\n"
      ]
    },
    {
      "cell_type": "code",
      "metadata": {
        "colab": {
          "base_uri": "https://localhost:8080/"
        },
        "id": "G-OFrb78EeIx",
        "outputId": "55703047-8c9e-4d3a-d6c2-6d0f0a2e4a3a"
      },
      "source": [
        "class Test:\n",
        "      a = 10\n",
        "\n",
        "      def show(self):\n",
        "          print(\"Test 클래스\")\n",
        "\n",
        "\n",
        "##################################################\n",
        "\n",
        "# Test() -> 인스턴스(메모리에 테스트라는 클래스를 생성한다)\n",
        "\n",
        "# Test().a\n",
        "# Test().show()\n",
        "\n",
        "ob = Test() # ob라는 메모리에 저장\n",
        "ob.a = 100\n",
        "print(ob.a)\n",
        "ob.show()\n",
        "\n",
        "a = 10\n",
        "a = 20\n",
        "\n",
        "print(type(a))\n"
      ],
      "execution_count": null,
      "outputs": [
        {
          "output_type": "stream",
          "text": [
            "100\n",
            "Test 클래스\n",
            "<class 'int'>\n",
            "0\n"
          ],
          "name": "stdout"
        }
      ]
    },
    {
      "cell_type": "code",
      "metadata": {
        "colab": {
          "base_uri": "https://localhost:8080/"
        },
        "id": "VudFYMkVWVas",
        "outputId": "9598f48f-d3de-4692-ddb5-8e1c774a833f"
      },
      "source": [
        "### 사용자 정의 자료형\n",
        "# 국적, 이름, 나이, 신장, 취미\n",
        "\n",
        "class Person:\n",
        "      nation = \"한국\"\n",
        "      name = str()\n",
        "      age = int()\n",
        "      height = float()\n",
        "      hobbies = []\n",
        "\n",
        "      def show(self):\n",
        "          print(\"국적 : \", self.nation)\n",
        "          print(\"이름 : \", self.name)\n",
        "          print(\"나이 : \", self.age)\n",
        "          print(\"신장 : \", self.height)\n",
        "          print(\"취미 : \", self.hobbies)\n",
        "          print(\"\\n========================\")\n",
        "\n",
        "##############################################\n",
        "\n",
        "p1 = Person()\n",
        "p2 = Person()\n",
        "p3 = Person()\n",
        "\n",
        "p1.nation = \"한국\"\n",
        "p1.name = \"홍길동\"\n",
        "p1.age = 20\n",
        "p1.height = 170\n",
        "p1.hobbies = [\"독서\", \"여행\"]\n",
        "\n",
        "p2.nation = \"미국\"\n",
        "p2.name = \"워싱턴\"\n",
        "p2.age = 25\n",
        "p2.height = 180\n",
        "p2.hobbies = [\"전쟁\", \"정치\"]\n",
        "\n",
        "p3.nation = \"영국\"\n",
        "p3.name = \"셜록\"\n",
        "p3.age = 230\n",
        "p3.height = 175\n",
        "p3.hobbies = [\"추리\", \"바이올린\"]\n",
        "\n",
        "data = [p1, p2, p3]\n",
        "\n",
        "# for i in range(len(data)):\n",
        "#     data[i].show()"
      ],
      "execution_count": null,
      "outputs": [
        {
          "output_type": "stream",
          "text": [
            "국적 :  한국\n",
            "이름 :  홍길동\n",
            "나이 :  20\n",
            "신장 :  170\n",
            "취미 :  ['독서', '여행']\n",
            "\n",
            "========================\n"
          ],
          "name": "stdout"
        }
      ]
    },
    {
      "cell_type": "markdown",
      "metadata": {
        "id": "KX5EPKP3rV18"
      },
      "source": [
        "---\n",
        "### 3. 클래스 작성 문법\n",
        "\n",
        "+ self\n",
        "    - 현재 사용중인 객체의 주소를 저장호 있는 참조 변수\n",
        "    - read only"
      ]
    },
    {
      "cell_type": "code",
      "metadata": {
        "id": "gsjac9eF_Mfp"
      },
      "source": [
        "class Test:\n",
        "      a = int()\n",
        "      b = float()\n",
        "      c = str()\n",
        "      # 변수 따로 선언하지 않아도 상관 없다.\n",
        "\n",
        "      def show(self):\n",
        "          print(self.a, self.b, self.c)\n",
        "          print(\"현재 주소 : \", id(self))\n",
        "\n",
        "      def setValue(self, a, b, c):\n",
        "          self.a = a\n",
        "          self.b = b\n",
        "          self.c = c"
      ],
      "execution_count": 43,
      "outputs": []
    },
    {
      "cell_type": "code",
      "metadata": {
        "id": "xJC1vthXrjdR",
        "colab": {
          "base_uri": "https://localhost:8080/"
        },
        "outputId": "d6686526-6146-4a54-8f9b-64fbb376c1e5"
      },
      "source": [
        "t1 = Test()\n",
        "t2 = Test()\n",
        "t3 = Test()\n",
        "\n",
        "# t1.a = 10 \n",
        "# t1.b = 3.14\n",
        "# t1.c = \"홍길동\"\n",
        "# print(id(t1))\n",
        "\n",
        "# t1.setValue(10, 3.14, \"홍길동\")\n",
        "t1.setValue(10, 3.14, \"홍길동\")\n",
        "\n",
        "t2.a = 20\n",
        "t2.b = 4.14\n",
        "t2.c = \"신길동\"\n",
        "\n",
        "t3.a = 30\n",
        "t3.b = 5.14\n",
        "t3.c = \"감길동\"\n",
        "\n",
        "\n",
        "t1.show()"
      ],
      "execution_count": 45,
      "outputs": [
        {
          "output_type": "stream",
          "text": [
            "10 3.14 홍길동\n",
            "현재 주소 :  140424025729296\n"
          ],
          "name": "stdout"
        }
      ]
    },
    {
      "cell_type": "markdown",
      "metadata": {
        "id": "p8DfPe6GPfac"
      },
      "source": [
        "---\n",
        "+ 생성자(Constructor) 메서드와 소멸자(Deconstructor) 메서드\n",
        "    - 객체를 생성하는 용도\n",
        "    - 객체를 처음 만들 때 호출된다.(단 한번만 호출됨)\n",
        "    - 초기화"
      ]
    },
    {
      "cell_type": "code",
      "metadata": {
        "id": "yNaAr1p4boG4"
      },
      "source": [
        "class Test:\n",
        "      a = int()\n",
        "      b = str()\n",
        "\n",
        "      def __init__(self, x, y):\n",
        "          print(\"생성자 호출됨\")\n",
        "          self.a = x\n",
        "          self.b = y\n",
        "\n",
        "      def setValue(self, x, y):\n",
        "          self.a = x\n",
        "          self.b = y\n",
        "      "
      ],
      "execution_count": 75,
      "outputs": []
    },
    {
      "cell_type": "code",
      "metadata": {
        "colab": {
          "base_uri": "https://localhost:8080/"
        },
        "id": "4FTra-Wabokw",
        "outputId": "ef6946c8-e3a7-40ac-df1a-5aaafaf50e1b"
      },
      "source": [
        "t = Test(10, \"홍길동\")\n",
        "print(t.a, t.b)\n",
        "\n",
        "t.setValue(20, \"임꺽정\")\n",
        "print(t.a, t.b)"
      ],
      "execution_count": 76,
      "outputs": [
        {
          "output_type": "stream",
          "text": [
            "생성자 호출됨\n",
            "10 홍길동\n",
            "20 임꺽정\n"
          ],
          "name": "stdout"
        }
      ]
    },
    {
      "cell_type": "code",
      "metadata": {
        "id": "15u1KI0Mrjyt"
      },
      "source": [
        "class Test:\n",
        "      a = int()\n",
        "      b = str()\n",
        "\n",
        "      def __init__(self, x = 0, y = None): # Defalut 값을 준다\n",
        "          print(\"생성자 호출됨\")\n",
        "          self.a = x\n",
        "          self.b = y\n",
        "\n",
        "      def setValue(self, x, y):\n",
        "          self.a = x\n",
        "          self.b = y\n",
        "\n",
        "      def __del__(self):\n",
        "          print(\"소멸자 호출\")\n",
        "\n",
        "class Test2:\n",
        "      pass      "
      ],
      "execution_count": 97,
      "outputs": []
    },
    {
      "cell_type": "code",
      "metadata": {
        "colab": {
          "base_uri": "https://localhost:8080/"
        },
        "id": "ggknTrziS-Tg",
        "outputId": "7023e9d7-645d-4b35-fd19-8761fa9fc68c"
      },
      "source": [
        "t = Test()\n",
        "print(t.a, t.b)\n",
        "\n",
        "t.setValue(20, \"임꺽정\")\n",
        "print(t.a, t.b)\n",
        "\n",
        "t1 = Test()\n",
        "print(t1.a, t1.b)\n",
        "\n",
        "t2 = Test(30)\n",
        "print(t2.a, t2.b)\n",
        "\n",
        "t3 = Test(\"신돌석\")\n",
        "print(t3.a, t3.b)"
      ],
      "execution_count": 92,
      "outputs": [
        {
          "output_type": "stream",
          "text": [
            "생성자 호출됨\n",
            "0 None\n",
            "20 임꺽정\n",
            "생성자 호출됨\n",
            "0 None\n",
            "생성자 호출됨\n",
            "30 None\n",
            "생성자 호출됨\n",
            "신돌석 None\n"
          ],
          "name": "stdout"
        }
      ]
    },
    {
      "cell_type": "code",
      "metadata": {
        "id": "UV0RKvkDaAFM"
      },
      "source": [
        "del t3"
      ],
      "execution_count": 94,
      "outputs": []
    },
    {
      "cell_type": "code",
      "metadata": {
        "colab": {
          "base_uri": "https://localhost:8080/"
        },
        "id": "E3wndzmKaBxS",
        "outputId": "bbef67ed-0fbd-4986-c6a8-05521c4cccce"
      },
      "source": [
        "ob1 = Test()\n",
        "ob2 = Test2()\n",
        "\n",
        "print(type(ob1), type(ob2))\n",
        "\n",
        "print(isinstance(ob1, Test)) # 서로 같은 타입인지 비교해서 True, False 출력\n",
        "print(isinstance(ob2, Test))\n",
        "print(isinstance(ob1, Test2))\n",
        "print(isinstance(ob2, Test2))"
      ],
      "execution_count": 101,
      "outputs": [
        {
          "output_type": "stream",
          "text": [
            "생성자 호출됨\n",
            "소멸자 호출\n",
            "<class '__main__.Test'> <class '__main__.Test2'>\n",
            "True\n",
            "False\n",
            "False\n",
            "True\n"
          ],
          "name": "stdout"
        }
      ]
    }
  ]
}